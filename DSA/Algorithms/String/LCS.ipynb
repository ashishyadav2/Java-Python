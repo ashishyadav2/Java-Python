{
 "cells": [
  {
   "cell_type": "markdown",
   "id": "ef3f6435",
   "metadata": {},
   "source": [
    "# Longest Common Subsequence"
   ]
  },
  {
   "cell_type": "markdown",
   "id": "6513e232",
   "metadata": {},
   "source": [
    "## Using Recursion"
   ]
  },
  {
   "cell_type": "code",
   "execution_count": 2,
   "id": "fa519a5c",
   "metadata": {},
   "outputs": [
    {
     "name": "stdout",
     "output_type": "stream",
     "text": [
      "3\n"
     ]
    }
   ],
   "source": [
    "# Using recursion\n",
    "text1 = \"abcde\"\n",
    "text2 = \"ace\" \n",
    "def lcs(ind1, ind2):\n",
    "    if ind1<0 or ind2 <0:\n",
    "        return 0\n",
    "    if text1[ind1]==text2[ind2]:\n",
    "        return 1+lcs(ind1-1,ind2-1)\n",
    "    return max(lcs(ind1-1,ind2),lcs(ind1,ind2-1))\n",
    "\n",
    "print(lcs(len(text1)-1,len(text2)-1))"
   ]
  },
  {
   "cell_type": "markdown",
   "id": "5f1ad06e",
   "metadata": {},
   "source": [
    "## Using DP"
   ]
  },
  {
   "cell_type": "code",
   "execution_count": 9,
   "id": "f5773ba3",
   "metadata": {},
   "outputs": [
    {
     "name": "stdout",
     "output_type": "stream",
     "text": [
      "3\n"
     ]
    }
   ],
   "source": [
    "# instead of recalculating use stored values\n",
    "text1 = \"abcde\"\n",
    "text2 = \"ace\" \n",
    "n = len(text1)\n",
    "m = len(text2)\n",
    "dp = [[-1 for i in range(m+1)] for j in range(n+1)]\n",
    "def lcs(ind1, ind2):\n",
    "    if ind1<0 or ind2 <0:\n",
    "        return 0\n",
    "    if dp[ind1][ind2] != -1:\n",
    "        return dp[ind1][ind2]\n",
    "    if text1[ind1]==text2[ind2]:\n",
    "        dp[ind1][ind2] = 1+lcs(ind1-1,ind2-1)\n",
    "        return dp[ind1][ind2]\n",
    "    return max(lcs(ind1-1,ind2),lcs(ind1,ind2-1))\n",
    "print(lcs(n-1,m-1))"
   ]
  },
  {
   "cell_type": "code",
   "execution_count": 13,
   "id": "7d8caa83",
   "metadata": {},
   "outputs": [
    {
     "name": "stdout",
     "output_type": "stream",
     "text": [
      "3\n"
     ]
    }
   ],
   "source": [
    "text1 = \"abcde\"\n",
    "text2 = \"ace\" \n",
    "n = len(text1)\n",
    "m = len(text2)\n",
    "dp = [[0 for i in range(m+1)] for j in range(n+1)]\n",
    "for i in range(n-1,-1,-1):\n",
    "    for j in range(m-1,-1,-1):\n",
    "        if text1[i]==text2[j]:\n",
    "            dp[i][j] = 1+dp[i+1][j+1]\n",
    "        else:\n",
    "            dp[i][j] = max(dp[i+1][j],dp[i][j+1])   \n",
    "print(dp[0][0])\n",
    "    "
   ]
  }
 ],
 "metadata": {
  "kernelspec": {
   "display_name": "Python 3 (ipykernel)",
   "language": "python",
   "name": "python3"
  },
  "language_info": {
   "codemirror_mode": {
    "name": "ipython",
    "version": 3
   },
   "file_extension": ".py",
   "mimetype": "text/x-python",
   "name": "python",
   "nbconvert_exporter": "python",
   "pygments_lexer": "ipython3",
   "version": "3.10.2"
  }
 },
 "nbformat": 4,
 "nbformat_minor": 5
}
