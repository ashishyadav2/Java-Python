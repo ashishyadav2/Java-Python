{
 "cells": [
  {
   "cell_type": "markdown",
   "id": "94c56262",
   "metadata": {},
   "source": [
    "# Simple Permutation"
   ]
  },
  {
   "cell_type": "code",
   "execution_count": 34,
   "id": "d13919fd",
   "metadata": {},
   "outputs": [
    {
     "name": "stdout",
     "output_type": "stream",
     "text": [
      "[[1, 2, 3], [1, 3, 2], [2, 1, 3], [2, 3, 1], [3, 2, 1], [3, 1, 2]]\n"
     ]
    }
   ],
   "source": [
    "nums = [1,2,3]\n",
    "ans = []\n",
    "def permutation(nums,left,right):\n",
    "    \n",
    "    #The function first checks if the left and right indices are the same. \n",
    "    # If they are, it means that we have reached the end of a permutation.\n",
    "    # so we append a copy of nums to the ans list.\n",
    "    if left==right:\n",
    "        ans.append(nums.copy())\n",
    "    else:\n",
    "        \n",
    "        # If the left and right indices are not the same, \n",
    "        # the function enters a loop that iterates over all the indices from left to right-1.\n",
    "        for i in range(left,right):\n",
    "            \n",
    "            # for each index i in the loop, the function swaps the value at index left with the value at index i.\n",
    "            # This effectively generates a new permutation with the value at index i now in the first position.\n",
    "            nums[left],nums[i] = nums[i],nums[left]\n",
    "            \n",
    "            # The permutation function is then called recursively with left+1 as the new left index.\n",
    "            # This generates all the possible permutations of the remaining integers in the list.\n",
    "            permutation(nums,left+1,right)\n",
    "            \n",
    "            # After the recursive call returns, the function swaps the values back to their original positions.\n",
    "            # This is necessary because we want to generate all permutations starting with each possible value at the first position.\n",
    "            nums[left],nums[i] = nums[i],nums[left]\n",
    "permutation(nums,0,len(nums))\n",
    "print(ans)"
   ]
  },
  {
   "cell_type": "markdown",
   "id": "9fb6bf6e",
   "metadata": {},
   "source": [
    "# Simple Combination (Subsets, Power set)"
   ]
  },
  {
   "cell_type": "code",
   "execution_count": 36,
   "id": "cc03e3ed",
   "metadata": {},
   "outputs": [
    {
     "name": "stdout",
     "output_type": "stream",
     "text": [
      "[[], [1], [2], [1, 2], [3], [1, 3], [2, 3], [1, 2, 3]]\n"
     ]
    }
   ],
   "source": [
    "# Power set formula {1,2.3} lenght = 3 power set = 2^length of original set, it also includes null set\n",
    "nums = [1,2,3]\n",
    "ans = []\n",
    "n = len(nums)\n",
    "for i in range(1<<n): #2^n\n",
    "    temp = []\n",
    "    for j in range(n):\n",
    "        if i&(1<<j): #2^j \n",
    "            '''\n",
    "            i = 5 and j = 2\n",
    "            2 ^ 2 = 4\n",
    "            1 0 1 \n",
    "                    &\n",
    "            1 0 0\n",
    "            ------\n",
    "            1 0 0 which is true\n",
    "            '''\n",
    "            temp.append(nums[j])\n",
    "    ans.append(temp)    \n",
    "print(ans)"
   ]
  },
  {
   "cell_type": "markdown",
   "id": "7e983f78",
   "metadata": {},
   "source": [
    "# 556. Next Greater Element III"
   ]
  },
  {
   "cell_type": "code",
   "execution_count": 10,
   "id": "bda5ab75",
   "metadata": {},
   "outputs": [
    {
     "name": "stdout",
     "output_type": "stream",
     "text": [
      "132\n",
      "-1\n"
     ]
    }
   ],
   "source": [
    "# Approach\n",
    "# Convert the input number n into a list of digits.\n",
    "n = 123\n",
    "arr = list(str(n))\n",
    "\n",
    "# Traverse the list from right to left to find the first decreasing digit i-1.\n",
    "i = len(arr)-1\n",
    "while i>0 and arr[i-1]>=arr[i]:\n",
    "    i-=1\n",
    "    \n",
    "# If there is no such digit, the input number is already the largest possible permutation, so return -1.\n",
    "if i==0:\n",
    "#     return -1\n",
    "    print(-1)\n",
    "\n",
    "# Traverse the list again from right to left to find the smallest digit j greater than i-1.\n",
    "j = len(arr)-1\n",
    "while j>i-1 and arr[j]<=arr[i-1]:\n",
    "    j-=1\n",
    "    \n",
    "# Swap i-1 with j.\n",
    "arr[i-1],arr[j] = arr[j],arr[i-1]\n",
    "\n",
    "# Reverse the sublist from i to the end of the list to obtain the smallest possible permutation greater than the original number.\n",
    "arr[i:] = arr[i:][::-1]\n",
    "\n",
    "# If the resulting permutation is greater than 2^31 - 1, return -1. Otherwise, return the permutation as an integer\n",
    "ans = int(\"\".join(arr))\n",
    "if ans<(1<<31):\n",
    "#     return ans\n",
    "    print(ans)\n",
    "# return -1\n",
    "print(-1)"
   ]
  },
  {
   "cell_type": "markdown",
   "id": "94a008e3",
   "metadata": {},
   "source": [
    "# 31. Next Permutation"
   ]
  },
  {
   "cell_type": "code",
   "execution_count": 40,
   "id": "b15834f9",
   "metadata": {},
   "outputs": [
    {
     "name": "stdout",
     "output_type": "stream",
     "text": [
      "[1, 3, 2]\n"
     ]
    }
   ],
   "source": [
    "# Approach\n",
    "nums = [1,2,3]\n",
    "i = len(nums)-1\n",
    "\n",
    "# traverse the array from right to left find the first dip\n",
    "while i>-1 and nums[i-1]>=nums[i]:\n",
    "    i-=1\n",
    "#if we haven't reached to the left most side of the array otherwise array is in descending order just reverse it \n",
    "if i>-1:\n",
    "    j = len(nums)-1\n",
    "    \n",
    "    # find the that is greater than the dip th index\n",
    "    while j>i-1 and nums[j]<nums[i-1]:        \n",
    "        j-=1\n",
    "        \n",
    "     # swap the dip th index with the j th index found\n",
    "    nums[j],nums[i-1] = nums[i-1], nums[j]\n",
    "\n",
    "#reverse the array from dip th index to end\n",
    "nums[i:] = reversed(nums[i:])\n",
    "print(nums)"
   ]
  },
  {
   "cell_type": "markdown",
   "id": "77930301",
   "metadata": {},
   "source": [
    "# 686. Repeated String Match"
   ]
  },
  {
   "cell_type": "code",
   "execution_count": 61,
   "id": "5d27c063",
   "metadata": {},
   "outputs": [
    {
     "name": "stdout",
     "output_type": "stream",
     "text": [
      "b: cdabcdab\n",
      "a: abcdabcd\n",
      "b: cdabcdab\n",
      "a: abcdabcdabcd\n",
      "Repeatation: 3\n"
     ]
    }
   ],
   "source": [
    "# Approach\n",
    "def repeatedStringMatch(a: str, b: str) -> int:\n",
    "        temp = a\n",
    "        \n",
    "        # make count as 1 because it will exists at least once\n",
    "        c = 1 \n",
    "        \n",
    "        # calculate the maximum possible a can exist in b if len of a is 4 and len of b is 8 maximum times it\n",
    "        # can exist at most 2 times we add + 2 because a char can be left or right in b that it exists but in other order\n",
    "        n = len(b)//len(a) + 2 \n",
    "        for i in range(n):\n",
    "            \n",
    "            # check if b is in a then return c\n",
    "            if b in a:\n",
    "                return c\n",
    "            # else b is not in a then make a bigger by repeating copy of string a and increment the count\n",
    "            else:\n",
    "                a+=temp\n",
    "                c+=1\n",
    "            print(\"b: \"+b)\n",
    "            print(\"a: \"+a)\n",
    "        return -1\n",
    "a = \"abcd\"\n",
    "b = \"cdabcdab\"\n",
    "print(\"Repeatation: \"+str(repeatedStringMatch(a,b)))"
   ]
  },
  {
   "cell_type": "code",
   "execution_count": null,
   "id": "3cb52fec",
   "metadata": {},
   "outputs": [],
   "source": []
  }
 ],
 "metadata": {
  "kernelspec": {
   "display_name": "Python 3 (ipykernel)",
   "language": "python",
   "name": "python3"
  },
  "language_info": {
   "codemirror_mode": {
    "name": "ipython",
    "version": 3
   },
   "file_extension": ".py",
   "mimetype": "text/x-python",
   "name": "python",
   "nbconvert_exporter": "python",
   "pygments_lexer": "ipython3",
   "version": "3.10.2"
  }
 },
 "nbformat": 4,
 "nbformat_minor": 5
}
