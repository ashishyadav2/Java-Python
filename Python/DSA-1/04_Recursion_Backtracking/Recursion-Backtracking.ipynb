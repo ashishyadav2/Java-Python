{
 "cells": [
  {
   "attachments": {},
   "cell_type": "markdown",
   "id": "fcfb0c4b",
   "metadata": {},
   "source": [
    "# 46. Permutations"
   ]
  },
  {
   "cell_type": "code",
   "execution_count": null,
   "id": "552cf6e0",
   "metadata": {},
   "outputs": [],
   "source": [
    "# Using Recursion\n",
    "class Solution:\n",
    "    def permute(self, a: List[int]) -> List[List[int]]:\n",
    "        n = len(a)  # Get the length of the input list\n",
    "        ans = []  # Initialize an empty list to store the permutations\n",
    "        ds = []  # Initialize an empty list to store the current permutation\n",
    "        mapp = [-1] * n  # Initialize a mapping list with -1 values\n",
    "\n",
    "        def fun():  # Define a recursive helper function\n",
    "            if len(ds) == n:  # If the current permutation is complete\n",
    "                ans.append(ds.copy())  # Add a copy of the permutation to the answer list\n",
    "                return\n",
    "\n",
    "            for i in range(n):  # Iterate over each index in the input list\n",
    "                if mapp[i] == -1:  # If the index is not used in the current permutation\n",
    "                    ds.append(a[i])  # Add the element at the current index to the permutation\n",
    "                    mapp[i] = 1  # Mark the index as used\n",
    "                    fun()  # Recursively call the helper function\n",
    "                    mapp[i] = -1  # Mark the index as unused for the next iteration\n",
    "                    ds.pop()  # Remove the last element from the current permutation\n",
    "\n",
    "        fun()  # Call the helper function to generate permutations\n",
    "        return ans  # Return the list of permutations\n"
   ]
  },
  {
   "cell_type": "code",
   "execution_count": null,
   "id": "1e84e831",
   "metadata": {},
   "outputs": [],
   "source": [
    "# Using Backtracking\n",
    "class Solution:\n",
    "    def permute(self, a: List[int]) -> List[List[int]]:\n",
    "        ans = []  # Initialize an empty list to store the permutations\n",
    "        n = len(a)  # Get the length of the input list\n",
    "\n",
    "        def fun(ind):  # Define a recursive helper function with an index parameter\n",
    "            if ind == n:  # If the current index is equal to the length of the list\n",
    "                ans.append(a.copy())  # Add a copy of the list to the answer list (a permutation)\n",
    "                return\n",
    "\n",
    "            for i in range(ind, n):  # Iterate over each index starting from the current index\n",
    "                a[ind], a[i] = a[i], a[ind]  # Swap elements at the current index and the iteration index\n",
    "                fun(ind + 1)  # Recursively call the helper function with the next index\n",
    "                a[ind], a[i] = a[i], a[ind]  # Swap the elements back to restore the original order\n",
    "\n",
    "        fun(0)  # Call the helper function starting from index 0\n",
    "        return ans  # Return the list of permutations"
   ]
  },
  {
   "attachments": {},
   "cell_type": "markdown",
   "id": "1de7d0f0",
   "metadata": {},
   "source": [
    "# 51. N-Queens"
   ]
  },
  {
   "cell_type": "code",
   "execution_count": null,
   "id": "79ae8c79",
   "metadata": {},
   "outputs": [],
   "source": [
    "# Approach 1\n",
    "class Solution:\n",
    "    def solveNQueens(self, n: int) -> List[List[str]]:\n",
    "        ans = []  # Initialize an empty list to store the valid board configurations\n",
    "        \n",
    "        def isPlaceable(row, col, board):\n",
    "            # Function to check if it is safe to place a queen at the given position (row, col)\n",
    "            row_alt = row\n",
    "            col_alt = col\n",
    "            \n",
    "            # Check the upper-left diagonal\n",
    "            while row >= 0 and col >= 0:\n",
    "                if board[row][col] == 'Q':\n",
    "                    return False\n",
    "                row -= 1\n",
    "                col -= 1\n",
    "            \n",
    "            # Reset row and col to original values\n",
    "            col = col_alt\n",
    "            row = row_alt\n",
    "            \n",
    "            # Check the left column\n",
    "            while col >= 0:\n",
    "                if board[row][col] == 'Q':\n",
    "                    return False\n",
    "                col -= 1\n",
    "            \n",
    "            # Reset row and col to original values\n",
    "            col = col_alt\n",
    "            row = row_alt\n",
    "            \n",
    "            # Check the lower-left diagonal\n",
    "            while row < n and col >= 0:\n",
    "                if board[row][col] == 'Q':\n",
    "                    return False\n",
    "                row += 1\n",
    "                col -= 1\n",
    "            \n",
    "            return True\n",
    "        \n",
    "        def solve(col, board):\n",
    "            # Recursive function to find valid board configurations\n",
    "            \n",
    "            if col == n:\n",
    "                ans.append(list(board))  # Add a copy of the board to the answer list\n",
    "                return\n",
    "            \n",
    "            for i in range(n):\n",
    "                if isPlaceable(i, col, board):  # Check if it is safe to place a queen at position (i, col)\n",
    "                    board[i] = board[i][:col] + 'Q' + board[i][col+1:]  # Place a queen at (i, col)\n",
    "                    solve(col+1, board)  # Move on to the next column\n",
    "                    board[i] = board[i][:col] + '.' + board[i][col+1:]  # Remove the queen at (i, col) for backtracking\n",
    "        \n",
    "        board = ['.' * n for i in range(n)]  # Create an initial empty board\n",
    "        solve(0, board)  # Start solving from the first column\n",
    "        return ans  # Return the list of valid board configurations\n"
   ]
  },
  {
   "cell_type": "code",
   "execution_count": null,
   "id": "287f704a",
   "metadata": {},
   "outputs": [],
   "source": [
    "# Approach 2 using hashing\n",
    "class Solution:\n",
    "    def solveNQueens(self, n: int) -> List[List[str]]:\n",
    "        ans = []  # Initialize an empty list to store the valid board configurations\n",
    "        \n",
    "        def solve(col, board, upperD, lowerD, leftRow):\n",
    "            # Recursive function to find valid board configurations\n",
    "            \n",
    "            if col == n:\n",
    "                ans.append(board.copy())  # Add a copy of the board to the answer list\n",
    "                return\n",
    "            \n",
    "            for i in range(n):\n",
    "                if (\n",
    "                    leftRow[i] == 0\n",
    "                    and upperD[n-1+col-i] == 0\n",
    "                    and lowerD[i+col] == 0\n",
    "                ):\n",
    "                    # Check if it is safe to place a queen at position (i, col)\n",
    "                    leftRow[i] = 1\n",
    "                    upperD[n-1+col-i] = 1\n",
    "                    lowerD[i+col] = 1\n",
    "                    board[i] = board[i][:col] + 'Q' + board[i][col+1:]  # Place a queen at (i, col)\n",
    "                    solve(col+1, board, upperD, lowerD, leftRow)  # Move on to the next column\n",
    "                    board[i] = board[i][:col] + '.' + board[i][col+1:]  # Remove the queen at (i, col) for backtracking\n",
    "                    leftRow[i] = 0\n",
    "                    upperD[n-1+col-i] = 0\n",
    "                    lowerD[i+col] = 0\n",
    "        \n",
    "        board = ['.' * n for _ in range(n)]  # Create an initial empty board\n",
    "        upperD = [0] * (2*n - 1)  # List to track occupied positions in the upper diagonal\n",
    "        lowerD = [0] * (2*n - 1)  # List to track occupied positions in the lower diagonal\n",
    "        leftRow = [0] * n  # List to track occupied positions in the left row\n",
    "        solve(0, board, upperD, lowerD, leftRow)  # Start solving from the first column\n",
    "        return ans  # Return the list of valid board configurations\n"
   ]
  },
  {
   "attachments": {},
   "cell_type": "markdown",
   "id": "554979b4",
   "metadata": {},
   "source": [
    "# 37. Sudoku Solver"
   ]
  },
  {
   "cell_type": "code",
   "execution_count": null,
   "id": "0faa2105",
   "metadata": {},
   "outputs": [],
   "source": [
    "class Solution:\n",
    "    def solveSudoku(self, board: List[List[str]]) -> None:\n",
    "        \"\"\"\n",
    "        Do not return anything, modify board in-place instead.\n",
    "        \"\"\"\n",
    "        # Function to check if it is safe to place a number at a given position\n",
    "        def isSafe(row, col, num, board):\n",
    "            # Check the current row for conflicts\n",
    "            for i in range(9):\n",
    "                if board[i][col] == num:\n",
    "                    return False\n",
    "            # Check the current column for conflicts\n",
    "            for i in range(9):\n",
    "                if board[row][i] == num:\n",
    "                    return False\n",
    "            # Check the current 3x3 grid for conflicts\n",
    "            p = ((row // 3) * 3) + (i // 3)\n",
    "            q = ((col // 3) * 3) + (i % 3)\n",
    "            if board[p][q] == num:\n",
    "                return False\n",
    "            return True\n",
    "        \n",
    "        # Recursive function to solve the Sudoku puzzle\n",
    "        def solve(board):\n",
    "            for i in range(9):\n",
    "                for j in range(9):\n",
    "                    if board[i][j] == '.':\n",
    "                        for k in \"123456789\":\n",
    "                            if isSafe(i, j, k, board):\n",
    "                                board[i][j] = k\n",
    "                                if solve(board):\n",
    "                                    return True\n",
    "                                else:\n",
    "                                    board[i][j] = '.'  # Backtrack if the solution is not valid\n",
    "                        return False\n",
    "            return True\n",
    "        \n",
    "        solve(board)"
   ]
  },
  {
   "attachments": {},
   "cell_type": "markdown",
   "id": "572a8d7c",
   "metadata": {},
   "source": [
    "# M-Coloring Problem"
   ]
  },
  {
   "cell_type": "code",
   "execution_count": 1,
   "id": "c3a636c6",
   "metadata": {},
   "outputs": [],
   "source": [
    "def graphColoring(graph, k, V):\n",
    "    # Function to check if it is safe to assign a color to a node\n",
    "    def isSafe(node, graph, colors, col, n):\n",
    "        for i in range(n):\n",
    "            if i != node and graph[i][node] == 1 and colors[i] == col:\n",
    "                return False\n",
    "        return True\n",
    "    \n",
    "    # Recursive function to solve the graph coloring problem\n",
    "    def solve(graph, colors, m, n, node):\n",
    "        if node == n:\n",
    "            return True\n",
    "        for i in range(1, m+1):\n",
    "            if isSafe(node, graph, colors, i, n):\n",
    "                colors[node] = i\n",
    "                if solve(graph, colors, m, n, node+1):\n",
    "                    return True\n",
    "                colors[node] = 0\n",
    "        return False\n",
    "    \n",
    "    colors = [0] * V\n",
    "    if solve(graph, colors, k, V, 0):\n",
    "        return True\n",
    "    return False"
   ]
  },
  {
   "attachments": {},
   "cell_type": "markdown",
   "id": "023eb8a0",
   "metadata": {},
   "source": [
    "# Rat in a Maze Problem - I"
   ]
  },
  {
   "cell_type": "code",
   "execution_count": 3,
   "id": "9cd061fd",
   "metadata": {
    "scrolled": true
   },
   "outputs": [
    {
     "name": "stdout",
     "output_type": "stream",
     "text": [
      "lrdd\n"
     ]
    }
   ],
   "source": [
    "class Solution:\n",
    "    def findPath(self, m, n):\n",
    "        res = []  # Initialize an empty list to store the paths\n",
    "        \n",
    "        def solve(i, j, mat, n, ans, visited):\n",
    "            if i == n - 1 and j == n - 1:  # Check if the destination point is reached\n",
    "                res.append(ans)  # Append the path to the result list\n",
    "                return\n",
    "            \n",
    "            # Check if moving down is a valid move\n",
    "            if i + 1 < n and visited[i + 1][j] == 0 and mat[i + 1][j] == 1:\n",
    "                visited[i][j] = 1  # Mark the current cell as visited\n",
    "                solve(i + 1, j, mat, n, ans + 'D', visited)  # Recursively call solve for the next cell\n",
    "                visited[i][j] = 0  # Backtrack by marking the current cell as unvisited\n",
    "                \n",
    "            # Check if moving left is a valid move\n",
    "            if j - 1 > -1 and visited[i][j - 1] == 0 and mat[i][j - 1] == 1:\n",
    "                visited[i][j] = 1\n",
    "                solve(i, j - 1, mat, n, ans + 'L', visited)\n",
    "                visited[i][j] = 0\n",
    "                \n",
    "            # Check if moving right is a valid move\n",
    "            if j + 1 < n and visited[i][j + 1] == 0 and mat[i][j + 1] == 1:\n",
    "                visited[i][j] = 1\n",
    "                solve(i, j + 1, mat, n, ans + 'R', visited)\n",
    "                visited[i][j] = 0\n",
    "                \n",
    "            # Check if moving up is a valid move\n",
    "            if i - 1 > -1 and visited[i - 1][j] == 0 and mat[i - 1][j] == 1:\n",
    "                visited[i][j] = 1\n",
    "                solve(i - 1, j, mat, n, ans + 'U', visited)\n",
    "                visited[i][j] = 0\n",
    "        \n",
    "        if m[0][0] == 1:  # Check if the starting point is valid\n",
    "            visited = [[0 for _ in range(n)] for _ in range(n)]  # Initialize a visited matrix\n",
    "            solve(0, 0, m, n, \"\", visited)  # Call the solve function to find paths\n",
    "            \n",
    "        return res  # Return the result list of paths"
   ]
  },
  {
   "attachments": {},
   "cell_type": "markdown",
   "id": "dfd353d4",
   "metadata": {},
   "source": [
    "# Word Break II"
   ]
  },
  {
   "cell_type": "code",
   "execution_count": 1,
   "id": "3e15d56e",
   "metadata": {},
   "outputs": [],
   "source": [
    "def wordBreak(s, dictionary):\n",
    "    ans = []  # List to store the valid word combinations\n",
    "    n = len(s)  # Length of the input string\n",
    "\n",
    "    def fun(string, ind, words, path):\n",
    "        # Recursive function to find all valid word combinations\n",
    "        # string: remaining portion of the input string\n",
    "        # ind: starting index for the current iteration\n",
    "        # words: dictionary of valid words\n",
    "        # path: list to store the current word combination\n",
    "\n",
    "        if ind == n:\n",
    "            # Base case: reached the end of the string\n",
    "            ans.append(' '.join(path))  # Join the words in path and append to ans\n",
    "            return\n",
    "\n",
    "        for i in range(ind, n):\n",
    "            # Iterate through the string starting from the current index\n",
    "\n",
    "            if string[ind:i + 1] in words:\n",
    "                # If the current substring is a valid word\n",
    "                path.append(string[ind:i + 1])  # Add the word to the current path\n",
    "                fun(string, i + 1, words, path)  # Recursively call fun with the next index\n",
    "                path.pop()  # Remove the last word added (backtrack)\n",
    "\n",
    "    fun(s, 0, dictionary, [])  # Initial call to fun with empty path\n",
    "    return ans  # Return the list of valid word combinations"
   ]
  },
  {
   "cell_type": "code",
   "execution_count": 1,
   "id": "9bcc49e8",
   "metadata": {},
   "outputs": [
    {
     "name": "stdout",
     "output_type": "stream",
     "text": [
      "[[1, 2, 3], [1, 3, 2], [2, 1, 3], [2, 3, 1], [3, 2, 1], [3, 1, 2]]\n"
     ]
    }
   ],
   "source": [
    "arr = [1,2,3]\n",
    "n = len(arr)\n",
    "ans= []\n",
    "def fun(ind):\n",
    "    if ind==n:\n",
    "        ans.append(arr.copy())\n",
    "        return\n",
    "    else:\n",
    "        for i in range(ind,n):\n",
    "            arr[i],arr[ind]=arr[ind],arr[i]\n",
    "            fun(ind+1)\n",
    "            arr[i],arr[ind]=arr[ind],arr[i]\n",
    "fun(0)\n",
    "print(ans)\n",
    "    "
   ]
  },
  {
   "cell_type": "code",
   "execution_count": 12,
   "id": "07b56ebf",
   "metadata": {},
   "outputs": [
    {
     "name": "stdout",
     "output_type": "stream",
     "text": [
      "3214\n"
     ]
    }
   ],
   "source": [
    "from math import factorial\n",
    "n = 4\n",
    "ans = ''\n",
    "k= 15\n",
    "k -=1\n",
    "numbers = list(range(1,n+1))\n",
    "fact = factorial(n-1)\n",
    "while True:\n",
    "    ans += str(numbers[k//fact])\n",
    "    numbers.pop(k//fact)\n",
    "    if len(numbers)<1:\n",
    "        break\n",
    "    k = k%fact\n",
    "    fact = fact//len(numbers)\n",
    "    \n",
    "print(ans)\n",
    "    "
   ]
  }
 ],
 "metadata": {
  "kernelspec": {
   "display_name": "Python 3 (ipykernel)",
   "language": "python",
   "name": "python3"
  },
  "language_info": {
   "codemirror_mode": {
    "name": "ipython",
    "version": 3
   },
   "file_extension": ".py",
   "mimetype": "text/x-python",
   "name": "python",
   "nbconvert_exporter": "python",
   "pygments_lexer": "ipython3",
   "version": "3.11.3"
  }
 },
 "nbformat": 4,
 "nbformat_minor": 5
}
