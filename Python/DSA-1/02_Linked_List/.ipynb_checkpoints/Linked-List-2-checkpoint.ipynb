{
 "cells": [
  {
   "cell_type": "markdown",
   "id": "2a32df15",
   "metadata": {},
   "source": [
    "# 160. Intersection of Two Linked Lists"
   ]
  },
  {
   "cell_type": "code",
   "execution_count": null,
   "id": "2e90c944",
   "metadata": {},
   "outputs": [],
   "source": [
    "# Brute time limit exceeded\n",
    "\n",
    "class Solution:\n",
    "    def getIntersectionNode(self, headA: ListNode, headB: ListNode) -> Optional[ListNode]:\n",
    "        while headA:  # Iterate over linked list A\n",
    "            t2 = headB  # Initialize a temporary pointer at the head of linked list B\n",
    "            while t2:  # Iterate over linked list B\n",
    "                if t2 == headA:  # If the nodes at current positions of both lists are the same\n",
    "                    return t2  # Return the intersecting node\n",
    "                t2 = t2.next  # Move to the next node in linked list B\n",
    "            headA = headA.next  # Move to the next node in linked list A\n",
    "        return None  # If no intersection is found, return None\n"
   ]
  },
  {
   "cell_type": "code",
   "execution_count": null,
   "id": "ca243320",
   "metadata": {},
   "outputs": [],
   "source": [
    "#Optimal using hashset\n",
    "\n",
    "class Solution:\n",
    "    def getIntersectionNode(self, headA: ListNode, headB: ListNode) -> Optional[ListNode]:\n",
    "        hashset = set()  # Create an empty set to store visited nodes from list A\n",
    "        while headA:  # Traverse list A\n",
    "            hashset.add(headA)  # Add the current node to the set\n",
    "            headA = headA.next  # Move to the next node in list A\n",
    "\n",
    "        while headB:  # Traverse list B\n",
    "            if headB in hashset:  # Check if the current node is in the set\n",
    "                return headB  # Return the intersecting node\n",
    "            headB = headB.next  # Move to the next node in list B\n",
    "\n",
    "        return None  # If no intersection is found, return None\n"
   ]
  },
  {
   "cell_type": "markdown",
   "id": "9b5574ac",
   "metadata": {},
   "source": [
    "# 141. Linked List Cycle"
   ]
  },
  {
   "cell_type": "code",
   "execution_count": null,
   "id": "ef979ca1",
   "metadata": {},
   "outputs": [],
   "source": [
    "# Definition for singly-linked list.\n",
    "# class ListNode:\n",
    "#     def __init__(self, x):\n",
    "#         self.val = x\n",
    "#         self.next = None\n",
    "\n",
    "class Solution:\n",
    "    def hasCycle(self, head: Optional[ListNode]) -> bool:\n",
    "        slow = head  # Initialize a slow pointer at the head of the linked list\n",
    "        fast = head  # Initialize a fast pointer at the head of the linked list\n",
    "        while fast and fast.next:  # Iterate until the fast pointer reaches the end of the list\n",
    "            slow = slow.next  # Move the slow pointer one step ahead\n",
    "            fast = fast.next.next  # Move the fast pointer two steps ahead\n",
    "            if slow == fast:  # If the slow pointer meets the fast pointer\n",
    "                return True  # The linked list has a cycle\n",
    "        return False  # The linked list does not have a cycle\n"
   ]
  },
  {
   "cell_type": "markdown",
   "id": "9a72b9da",
   "metadata": {},
   "source": [
    "# 25. Reverse Nodes in k-Group"
   ]
  },
  {
   "cell_type": "code",
   "execution_count": null,
   "id": "cf5cd8be",
   "metadata": {},
   "outputs": [],
   "source": [
    "class Solution:\n",
    "    def reverseKGroup(self, head: Optional[ListNode], k: int) -> Optional[ListNode]:\n",
    "        if head == None or head.next == None:\n",
    "            return head\n",
    "\n",
    "        dummy = ListNode()  # Create a dummy node as the starting point\n",
    "        dummy.next = head  # Set the dummy node's next pointer to the head of the list\n",
    "        prev = dummy  # Initialize a previous node pointer to the dummy node\n",
    "        count = 0  # Initialize a count variable to keep track of the nodes\n",
    "\n",
    "        t = head\n",
    "        while t:\n",
    "            t = t.next\n",
    "            count += 1  # Count the total number of nodes in the list\n",
    "\n",
    "        while count >= k:\n",
    "            curr = prev.next  # Set the current node to the next node after the previous node\n",
    "            nex = curr.next  # Set the next node pointer\n",
    "\n",
    "            for i in range(1, k):  # Reverse the nodes in groups of size k\n",
    "                curr.next = nex.next  # Reverse the next pointer of the current node\n",
    "                nex.next = prev.next  # Reverse the next pointer of the next node\n",
    "                prev.next = nex  # Update the next pointer of the previous node\n",
    "                nex = curr.next  # Move to the next node\n",
    "\n",
    "            prev = curr  # Update the previous node pointer to the last node of the reversed group\n",
    "            count -= k  # Decrement the count by k, as k nodes have been reversed\n",
    "\n",
    "        return dummy.next  # Return the modified list starting from the dummy node's next pointer\n",
    "\n",
    "\n",
    "# The method first checks if the list is empty or contains only one node. \n",
    "# In such cases, there is no need to reverse the list, so it returns the list as it is.\n",
    "# A dummy node is created at the beginning, and its next pointer is set to the head of the list. \n",
    "# This dummy node helps in handling edge cases where the head of the list needs to be modified.\n",
    "# A previous node pointer (`prev`) is initialized to the dummy node. \n",
    "# It will be used to keep track of the previous node in each group.\n",
    "# The count variable is used to determine the total number of nodes in the list. \n",
    "# This count is used later to determine if there are enough nodes to form a group of size `k`.\n",
    "# The first while loop counts the total number of nodes in the list. \n",
    "# It iterates through the list and increments the count for each node.\n",
    "# The second while loop executes as long as there are enough nodes (`count >= k`) to form a group of size `k`.\n",
    "\n",
    "# Inside the loop:\n",
    "# - The current node (`curr`) is set to the next node after the previous node.\n",
    "# - The next node pointer (`nex`) is set to the node after the current node.\n",
    "# - A for loop reverses the nodes in the group. It iterates `k-1` times, as the current node is already in the correct position.\n",
    "# - Inside the for loop, the next and current pointers are updated to reverse the pointers.\n",
    "# - The previous node's next pointer is updated to point to the new head of the reversed group \n",
    "# (which is the next node after the current node). The nex pointer is updated to the next node for the next iteration.\n",
    "# After the while loop, the modified list is formed. \n",
    "# The prev pointer is at the last node of the reversed group, and the count is decremented by k.\n",
    "# Finally, the modified list is returned starting from the dummy node's next pointer.\n",
    "# Note that this code reverses the list in groups of size k in place and has a time complexity of O(n),\n",
    "# where n is the length of the list."
   ]
  },
  {
   "cell_type": "markdown",
   "id": "2647243a",
   "metadata": {},
   "source": [
    "# 234. Palindrome Linked List"
   ]
  },
  {
   "cell_type": "code",
   "execution_count": null,
   "id": "ef8ef15c",
   "metadata": {},
   "outputs": [],
   "source": [
    "# Definition for singly-linked list.\n",
    "# class ListNode:\n",
    "#     def __init__(self, val=0, next=None):\n",
    "#         self.val = val\n",
    "#         self.next = next\n",
    "\n",
    "class Solution:\n",
    "    def isPalindrome(self, head: Optional[ListNode]) -> bool:\n",
    "        slow = head  # Initialize a slow pointer at the head of the linked list\n",
    "        fast = head  # Initialize a fast pointer at the head of the linked list\n",
    "\n",
    "        while fast and fast.next:  # Iterate until the fast pointer reaches the end of the list\n",
    "            slow = slow.next  # Move the slow pointer one step ahead\n",
    "            fast = fast.next.next  # Move the fast pointer two steps ahead\n",
    "\n",
    "        temp = slow  # Assign the slow pointer to a new temporary variable\n",
    "        prev = None  # Initialize a previous pointer to None\n",
    "\n",
    "        while temp:  # Reverse the second half of the linked list\n",
    "            next = temp.next  # Store the next node in a temporary variable\n",
    "            temp.next = prev  # Reverse the current node by pointing it to the previous node\n",
    "            prev = temp  # Update the previous pointer to the current node\n",
    "            temp = next  # Move to the next node\n",
    "\n",
    "        dummy = head  # Assign a dummy node to the head of the original linked list\n",
    "\n",
    "        while prev:  # Traverse both halves of the linked list\n",
    "            if dummy.val != prev.val:  # Compare the values of corresponding nodes\n",
    "                return False  # If a mismatch is found, it's not a palindrome\n",
    "            dummy = dummy.next  # Move the dummy pointer one step ahead\n",
    "            prev = prev.next  # Move the previous pointer one step ahead\n",
    "\n",
    "        return True  # If no mismatches are found, it's a palindrome"
   ]
  },
  {
   "cell_type": "markdown",
   "id": "bb41473e",
   "metadata": {},
   "source": [
    "# 142. Linked List Cycle II"
   ]
  },
  {
   "cell_type": "code",
   "execution_count": null,
   "id": "c2a182c4",
   "metadata": {},
   "outputs": [],
   "source": [
    "# Definition for singly-linked list.\n",
    "# class ListNode:\n",
    "#     def __init__(self, x):\n",
    "#         self.val = x\n",
    "#         self.next = None\n",
    "\n",
    "class Solution:\n",
    "    def detectCycle(self, head: Optional[ListNode]) -> Optional[ListNode]:\n",
    "        slow = head  # Initialize a slow pointer at the head of the linked list\n",
    "        fast = head  # Initialize a fast pointer at the head of the linked list\n",
    "\n",
    "        while fast and fast.next:  # Iterate until the fast pointer reaches the end of the list\n",
    "            slow = slow.next  # Move the slow pointer one step ahead\n",
    "            fast = fast.next.next  # Move the fast pointer two steps ahead\n",
    "\n",
    "            if slow == fast:  # If the slow pointer meets the fast pointer\n",
    "                temp = head  # Initialize a new pointer at the head of the list\n",
    "\n",
    "                while temp != slow:  # Iterate until the new pointer meets the slow pointer\n",
    "                    temp = temp.next  # Move the new pointer one step ahead\n",
    "                    slow = slow.next  # Move the slow pointer one step ahead\n",
    "\n",
    "                return slow  # Return the node where the cycle begins\n",
    "\n",
    "        return None  # If there is no cycle, return None"
   ]
  },
  {
   "cell_type": "markdown",
   "id": "76a61af5",
   "metadata": {},
   "source": [
    "# Flattening a Linked List - GeekForGeeks"
   ]
  },
  {
   "cell_type": "code",
   "execution_count": null,
   "id": "b8ac05ed",
   "metadata": {},
   "outputs": [],
   "source": [
    "def merge_list(a, b):\n",
    "    temp = Node(0)  # Create a temporary node\n",
    "    res = temp  # Store the reference to the temporary node\n",
    "    while a and b:  # Loop until either `a` or `b` becomes None\n",
    "        if a.data < b.data:  # If the data in `a` is smaller than `b`\n",
    "            temp.bottom = a  # Set `a` as the bottom node of `temp`\n",
    "            a = a.bottom  # Move `a` to the next node\n",
    "        else:\n",
    "            temp.bottom = b  # Set `b` as the bottom node of `temp`\n",
    "            b = b.bottom  # Move `b` to the next node\n",
    "        temp = temp.bottom  # Move `temp` to the next node\n",
    "    \n",
    "    if a:  # If `a` is not None\n",
    "        temp.bottom = a  # Set the remaining nodes of `a` as the bottom nodes of `temp`\n",
    "    else:\n",
    "        temp.bottom = b  # Set the remaining nodes of `b` as the bottom nodes of `temp`\n",
    "    return res.bottom  # Return the bottom node of `res`\n",
    "\n",
    "def flatten(root):\n",
    "    # Your code here\n",
    "    if root is None or root.next is None:  # If `root` is None or `root.next` is None, return `root`\n",
    "        return root\n",
    "    root.next = flatten(root.next)  # Recursively flatten `root.next` and update the reference of `root.next`\n",
    "    root = merge_list(root, root.next)  # Merge `root` and `root.next` using `merge_list` function\n",
    "    return root  # Return the flattened root\n"
   ]
  }
 ],
 "metadata": {
  "kernelspec": {
   "display_name": "Python 3 (ipykernel)",
   "language": "python",
   "name": "python3"
  },
  "language_info": {
   "codemirror_mode": {
    "name": "ipython",
    "version": 3
   },
   "file_extension": ".py",
   "mimetype": "text/x-python",
   "name": "python",
   "nbconvert_exporter": "python",
   "pygments_lexer": "ipython3",
   "version": "3.11.3"
  }
 },
 "nbformat": 4,
 "nbformat_minor": 5
}
