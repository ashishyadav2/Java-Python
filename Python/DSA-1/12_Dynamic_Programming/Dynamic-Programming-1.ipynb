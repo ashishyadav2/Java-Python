{
 "cells": [
  {
   "cell_type": "markdown",
   "metadata": {},
   "source": [
    "# DP"
   ]
  },
  {
   "cell_type": "code",
   "execution_count": 16,
   "metadata": {},
   "outputs": [
    {
     "name": "stdout",
     "output_type": "stream",
     "text": [
      "5\n"
     ]
    }
   ],
   "source": [
    "# fibonacci using recursion\n",
    "def fibo(n):\n",
    "    if n<=1:\n",
    "        return n\n",
    "    return fibo(n-1)+fibo(n-2)\n",
    "print(fibo(5))"
   ]
  },
  {
   "cell_type": "code",
   "execution_count": 14,
   "metadata": {},
   "outputs": [
    {
     "name": "stdout",
     "output_type": "stream",
     "text": [
      "5\n",
      "[-1, -1, 1, 2, 3, 5]\n"
     ]
    }
   ],
   "source": [
    "#fibonacci using dp memoization top down approach\n",
    "n = 5\n",
    "dp = [-1]*(n+1)\n",
    "def fib(n):\n",
    "    if n<=1:\n",
    "        return n\n",
    "    if dp[n]!=-1:\n",
    "        return dp[n]\n",
    "    dp[n] = fib(n-1)+fib(n-2)\n",
    "    return dp[n]\n",
    "print(fib(n))\n",
    "print(dp)"
   ]
  },
  {
   "cell_type": "code",
   "execution_count": 15,
   "metadata": {},
   "outputs": [
    {
     "name": "stdout",
     "output_type": "stream",
     "text": [
      "[0, 1, 1, 2, 3, 5]\n",
      "5\n"
     ]
    }
   ],
   "source": [
    "# fibonacci using dp tabulation bottom up approach\n",
    "n = 5\n",
    "dp = [0]*(n+1)\n",
    "dp[0] = 0\n",
    "dp[1]= 1\n",
    "for i in range(2,n+1):\n",
    "    dp[i] = dp[i-1]+dp[i-2]\n",
    "print(dp)\n",
    "print(dp[-1])"
   ]
  },
  {
   "cell_type": "code",
   "execution_count": null,
   "metadata": {},
   "outputs": [],
   "source": [
    "# fibonacci using space optimazation\n",
    "n = 5\n",
    "a = 0\n",
    "b = 1\n",
    "for i in range(n):\n",
    "    temp = b\n",
    "    b = a+b\n",
    "    a = temp\n",
    "print(a)"
   ]
  },
  {
   "cell_type": "markdown",
   "metadata": {},
   "source": [
    "# Max Product Subarray"
   ]
  },
  {
   "cell_type": "code",
   "execution_count": null,
   "metadata": {},
   "outputs": [],
   "source": [
    "# Algorithm/Intuition:\n",
    "# 1. The function `maxProduct` takes a list of integers `nums` as input and returns the maximum product that can be obtained from any contiguous subarray within `nums`.\n",
    "# 2. We will use two variables `maxi` and `mini` to keep track of the maximum and minimum product ending at the current element of the array.\n",
    "# 3. We will also keep track of the global maximum `res`, which will be updated at each step to store the maximum product found so far.\n",
    "\n",
    "class Solution:\n",
    "    def maxProduct(self, nums: List[int]) -> int:\n",
    "        # Initialize the result with the maximum element of the array\n",
    "        res = max(nums)\n",
    "        \n",
    "        # Initialize variables to keep track of the maximum and minimum product\n",
    "        maxi = 1\n",
    "        mini = 1\n",
    "        \n",
    "        # Iterate through each element in the array\n",
    "        for num in nums:\n",
    "            if num == 0:\n",
    "                # If the current element is zero, reset the maximum and minimum products\n",
    "                maxi = 1\n",
    "                mini = 1\n",
    "                continue\n",
    "            \n",
    "            # Calculate the new maximum and minimum products ending at the current element\n",
    "            temp = maxi * num\n",
    "            maxi = max(maxi * num, mini * num, num)\n",
    "            mini = min(temp, mini * num, num)\n",
    "            \n",
    "            # Update the global maximum with the maximum of res, maxi, and mini\n",
    "            res = max(res, maxi, mini)\n",
    "        \n",
    "        # Return the final result\n",
    "        return res\n",
    "    \n",
    "# Hints:\n",
    "# 1. The problem can be solved efficiently using dynamic programming.\n",
    "# 2. Keep track of both maximum and minimum product ending at each element of the array.\n",
    "# 3. Handle the case when the current element is zero separately.\n",
    "# 4. Update the global maximum at each step by considering both the maximum and minimum products."
   ]
  },
  {
   "cell_type": "markdown",
   "metadata": {},
   "source": [
    "# Longest Increasing Subsequence"
   ]
  },
  {
   "cell_type": "code",
   "execution_count": 24,
   "metadata": {},
   "outputs": [
    {
     "name": "stdout",
     "output_type": "stream",
     "text": [
      "4\n"
     ]
    }
   ],
   "source": [
    "# # Recursion\n",
    "# ### Algorithm/Intuition:\n",
    "# The given code appears to be a recursive function `fun` that aims to find the length of the longest increasing subsequence in an array `arr`. It uses a dynamic programming approach with recursion to solve the problem.\n",
    "\n",
    "# The function takes two arguments:\n",
    "# 1. `ind`: The current index of the array being considered.\n",
    "# 2. `prev_ind`: The index of the previous element (the element at index `prev_ind`) in the subsequence.\n",
    "\n",
    "# The function starts by checking the base case when `ind` reaches the end of the array (`len(arr)`). If the base case is met, it returns 0, as there are no elements left to consider.\n",
    "\n",
    "# Otherwise, it calculates two values:\n",
    "# 1. `length`: The length of the longest increasing subsequence that can be formed starting from the next index (`ind+1`) and continuing with the current `prev_ind`.\n",
    "# 2. It then checks if the current element (`arr[ind]`) can be included in the increasing subsequence. If `prev_ind` is -1 (indicating the subsequence is empty), or if the current element is greater than the previous element, it considers the case where the current element is included. It updates `length` to be the maximum between the previously calculated `length` and (`1 + fun(ind+1, ind)`), where 1 is added to account for the current element.\n",
    "\n",
    "# Finally, the function returns the calculated `length`.\n",
    "\n",
    "def fun(ind, prev_ind):\n",
    "    # Base case: If the current index is at the end of the array, return 0.\n",
    "    if ind == len(arr):\n",
    "        return 0\n",
    "\n",
    "    # Calculate the length of the longest increasing subsequence from the next index with the current prev_ind.\n",
    "    length = fun(ind + 1, prev_ind)\n",
    "\n",
    "    # Check if the current element can be included in the increasing subsequence.\n",
    "    if prev_ind == -1 or arr[prev_ind] < arr[ind]:\n",
    "        # If yes, update the length to include the current element in the subsequence.\n",
    "        length = max(length, 1 + fun(ind + 1, ind))\n",
    "\n",
    "    # Return the length of the longest increasing subsequence.\n",
    "    return length\n",
    "\n",
    "### Short Point-wise Hints:\n",
    "# 1. The function finds the length of the longest increasing subsequence in an array.\n",
    "# 2. It uses a recursive approach with dynamic programming.\n",
    "# 3. The `ind` parameter represents the current index of the array being considered.\n",
    "# 4. The `prev_ind` parameter represents the index of the previous element in the increasing subsequence.\n",
    "# 5. It calculates the length of the increasing subsequence by considering two cases: including the current element and excluding it.\n",
    "# 6. Pay attention to the base case when `ind` reaches the end of the array.\n",
    "# 7. Observe how the function decides whether to include the current element in the subsequence.\n",
    "# 8. The function can be optimized using memoization or by using an iterative approach with dynamic programming."
   ]
  },
  {
   "cell_type": "code",
   "execution_count": 27,
   "metadata": {},
   "outputs": [
    {
     "name": "stdout",
     "output_type": "stream",
     "text": [
      "[2, 2, 4, 3, 3, 2, 1, 1]\n",
      "4\n"
     ]
    }
   ],
   "source": [
    "# # DP solution\n",
    "# Algorithm/Intuition:\n",
    "# The given code implements the Longest Increasing Subsequence (LIS) algorithm using dynamic programming. The LIS is the length of the longest subsequence of the given array `nums` in which the elements are arranged in increasing order.\n",
    "from typing import List\n",
    "class Solution:\n",
    "    def lengthOfLIS(self, nums: List[int]) -> int:\n",
    "        # Get the length of the input array\n",
    "        n = len(nums)\n",
    "\n",
    "        # Initialize a DP table with 1's (minimum possible LIS length for each element)\n",
    "        dp = [1] * n\n",
    "\n",
    "        # Iterate through the array from the end (right to left)\n",
    "        for i in range(n - 1, -1, -1):\n",
    "            # For each element at index i, check all elements on the right side\n",
    "            for j in range(i + 1, n):\n",
    "                # If the element at index i is less than the element at index j,\n",
    "                # it means we can extend the LIS by including the current element (nums[i])\n",
    "                if nums[i] < nums[j]:\n",
    "                    # Update the LIS length at index i with the maximum of its current value\n",
    "                    # and (1 + LIS length at index j)\n",
    "                    dp[i] = max(dp[i], 1 + dp[j])\n",
    "\n",
    "        # Return the maximum value in the DP table, which represents the overall LIS length\n",
    "        return max(dp)\n",
    "    \n",
    "# Short Point Wise Hints to Solve the Code:\n",
    "# 1. The code uses a bottom-up approach to solve the LIS problem using dynamic programming.\n",
    "# 2. Create a DP table (`dp`) to store the LIS length for each element of the input array.\n",
    "# 3. Initialize the DP table with 1 for each element (minimum possible LIS length is 1, considering the element itself).\n",
    "# 4. Iterate through the array in reverse (right to left) using two nested loops.\n",
    "# 5. For each element at index `i`, check all elements on its right side (indices `j` from `i+1` to the end).\n",
    "# 6. If the element at index `i` is less than the element at index `j`, we can extend the LIS by including the current element (`nums[i]`).\n",
    "# 7. Update the DP table value at index `i` with the maximum of its current value and `(1 + DP value at index j)`.\n",
    "# 8. The DP table will store the LIS lengths for all elements, and the maximum value in the DP table will represent the overall LIS length.\n",
    "# 9. Return the maximum value in the DP table as the result.\n",
    "    "
   ]
  },
  {
   "cell_type": "markdown",
   "metadata": {},
   "source": [
    "# Longest Common Subsequence"
   ]
  },
  {
   "cell_type": "code",
   "execution_count": null,
   "metadata": {},
   "outputs": [],
   "source": [
    "# Algorithm/Intuition:\n",
    "# The given code implements the Longest Common Subsequence (LCS) algorithm using dynamic programming. LCS is used to find the longest subsequence that is common to both input strings, `text1` and `text2`.\n",
    "\n",
    "class Solution:\n",
    "    def longestCommonSubsequence(self, text1: str, text2: str) -> int:\n",
    "        # Initialize a 2D DP table with -1 values to store the results of subproblems\n",
    "        dp = [[-1 for _ in range(len(text2))] for _ in range(len(text1))]\n",
    "\n",
    "        # Recursive function to find the LCS between two substrings of text1 and text2\n",
    "        def lcs(ind1, ind2, dp):\n",
    "            # Base case: If either index is less than 0, return 0 (no more characters to compare)\n",
    "            if ind1 < 0 or ind2 < 0:\n",
    "                return 0\n",
    "\n",
    "            # If the result is already computed, return it from the DP table\n",
    "            if dp[ind1][ind2] != -1:\n",
    "                return dp[ind1][ind2]\n",
    "\n",
    "            # If the characters at the current indices match, increment LCS by 1 and check the next characters\n",
    "            if text1[ind1] == text2[ind2]:\n",
    "                dp[ind1][ind2] = 1 + lcs(ind1 - 1, ind2 - 1, dp)\n",
    "            else:\n",
    "                # If the characters do not match, find the LCS by excluding one character at a time\n",
    "                dp[ind1][ind2] = max(lcs(ind1 - 1, ind2, dp), lcs(ind1, ind2 - 1, dp))\n",
    "\n",
    "            # Store the result in the DP table and return the LCS at the current indices\n",
    "            return dp[ind1][ind2]\n",
    "\n",
    "        # Call the recursive function with the last indices of text1 and text2\n",
    "        return lcs(len(text1) - 1, len(text2) - 1, dp)\n",
    "    \n",
    "# Short Point Wise Hints to Solve the Code:\n",
    "# 1. The code uses a top-down approach with memoization to implement the LCS algorithm.\n",
    "# 2. A 2D DP table `dp` is used to store the LCS values of different substrings of `text1` and `text2`.\n",
    "# 3. The recursive function `lcs` computes the LCS between substrings of `text1` and `text2`, and it utilizes the DP table to avoid redundant computations.\n",
    "# 4. If the characters at the current indices match, increment the LCS count and move to the next indices (diagonal move).\n",
    "# 5. If the characters do not match, find the LCS by considering both possible exclusions (up and left moves).\n",
    "# 6. The function returns the LCS between the full strings by starting with the last indices (`len(text1) - 1` and `len(text2) - 1`)."
   ]
  },
  {
   "cell_type": "markdown",
   "metadata": {},
   "source": [
    "# 0-1 Knapsack"
   ]
  },
  {
   "cell_type": "code",
   "execution_count": 26,
   "metadata": {},
   "outputs": [],
   "source": [
    "# Algorithm/Intuition:\n",
    "# The given code implements the 0/1 Knapsack problem using dynamic programming. The 0/1 Knapsack problem is a classic optimization problem where you have a knapsack with a certain weight capacity, and you need to choose items with specific weights and values to maximize the total value while not exceeding the capacity of the knapsack.\n",
    "\n",
    "class Solution:\n",
    "    def knapSack(self, capacity, weights, values, n):\n",
    "        # Initialize a 2D DP table with -1 values to store the results of subproblems\n",
    "        dp = [[-1 for _ in range(capacity + 1)] for _ in range(n)]\n",
    "\n",
    "        # Recursive function to find the maximum value that can be achieved with the given capacity and items\n",
    "        def fun(ind, capacity):\n",
    "            # Base case: If there are no more items or the capacity is zero, the value is 0\n",
    "            if ind == 0 or capacity == 0:\n",
    "                return 0\n",
    "\n",
    "            # If the result is already computed, return it from the DP table\n",
    "            if dp[ind][capacity] != -1:\n",
    "                return dp[ind][capacity]\n",
    "\n",
    "            # If the weight of the current item is less than or equal to the remaining capacity,\n",
    "            # we have two choices:\n",
    "            # 1. Include the current item in the knapsack and recursively consider the remaining items and reduced capacity.\n",
    "            # 2. Exclude the current item and consider the remaining items with the same capacity.\n",
    "            # Choose the maximum value among these two choices.\n",
    "            if weights[ind] <= capacity:\n",
    "                dp[ind][capacity] = max(\n",
    "                    values[ind] + fun(ind - 1, capacity - weights[ind]),\n",
    "                    fun(ind - 1, capacity)\n",
    "                )\n",
    "            else:\n",
    "                # If the weight of the current item exceeds the remaining capacity, exclude the item.\n",
    "                dp[ind][capacity] = fun(ind - 1, capacity)\n",
    "\n",
    "            # Store the result in the DP table and return the maximum value achievable\n",
    "            return dp[ind][capacity]\n",
    "\n",
    "        # Call the recursive function with the last item index and the total capacity\n",
    "        return fun(n - 1, capacity)\n",
    "\n",
    "# Short Point Wise Hints to Solve the Code:\n",
    "# 1. The code uses a top-down approach with memoization to solve the 0/1 Knapsack problem using dynamic programming.\n",
    "# 2. A 2D DP table `dp` is used to store the results of subproblems, where `dp[i][j]` represents the maximum value that can be achieved using the first `i` items and a knapsack capacity of `j`.\n",
    "# 3. The recursive function `fun(ind, capacity)` calculates the maximum value that can be achieved with the given `capacity` and the first `ind+1` items.\n",
    "# 4. Base cases are defined for situations when there are no more items or the capacity becomes zero, in which case the value is 0.\n",
    "# 5. If the result is already computed, the function returns it from the DP table to avoid redundant calculations.\n",
    "# 6. If the weight of the current item is less than or equal to the remaining capacity, the function has two choices: include the current item or exclude it. It chooses the maximum value among these choices.\n",
    "# 7. If the weight of the current item exceeds the remaining capacity, the function excludes the item from consideration.\n",
    "# 8. The function stores the result in the DP table and returns the maximum value achievable with the given `ind` and `capacity`.\n",
    "# 9. Finally, call the recursive function with the last item index (`n-1`) and the total knapsack capacity to find the maximum value that can be achieved."
   ]
  },
  {
   "cell_type": "code",
   "execution_count": 38,
   "metadata": {},
   "outputs": [
    {
     "name": "stdout",
     "output_type": "stream",
     "text": [
      "90\n"
     ]
    }
   ],
   "source": [
    "# Tabulation\n",
    "capacity = 8\n",
    "weights = [3,4,5]\n",
    "values = [30,50,60]\n",
    "n = len(values)\n",
    "dp = [[-1 for _ in range(capacity+1)] for _ in range(n)]\n",
    "def fun():\n",
    "    for i in range(weights[0],capacity+1):\n",
    "        dp[0][i] = values[0]\n",
    "    for ind in range(1,n):\n",
    "        for wt in range(0,capacity+1):\n",
    "            notTake = dp[ind-1][wt]\n",
    "            take = 0\n",
    "            if weights[ind] <= wt:\n",
    "                take  = values[ind]+dp[ind-1][wt-weights[ind]]\n",
    "            dp[ind][wt] = max(take,notTake)\n",
    "fun()\n",
    "print(dp)"
   ]
  },
  {
   "cell_type": "markdown",
   "metadata": {},
   "source": [
    "# Edit Distance"
   ]
  },
  {
   "cell_type": "code",
   "execution_count": 28,
   "metadata": {},
   "outputs": [
    {
     "name": "stdout",
     "output_type": "stream",
     "text": [
      "3\n"
     ]
    }
   ],
   "source": [
    "# Recursion\n",
    "class Solution:\n",
    "    def minDistance(self, s1: str, s2: str) -> int:\n",
    "        def fun(i,j):\n",
    "            if i<0: # string s1 is over\n",
    "                return j+1 # characters remaining in string s2\n",
    "            if j<0: # string s2 is over\n",
    "                return i+1 # characters remaining in string s1\n",
    "            if s1[i]==s2[j]: # if s1 and s2 matches\n",
    "                return fun(i-1,j-1) # do nothing reduce index\n",
    "            return 1+ min(fun(i,j-1),fun(i-1,j-1),fun(i-1,j)) # mininum of all operations insert,replace, delete\n",
    "        return fun(len(s1)-1,len(s2)-1)"
   ]
  },
  {
   "cell_type": "code",
   "execution_count": null,
   "metadata": {},
   "outputs": [],
   "source": [
    "# #DP\n",
    "# Algorithm/Intuition:\n",
    "# The given code implements the minimum edit distance algorithm using dynamic programming. The minimum edit distance is the minimum number of operations (insertion, deletion, or substitution) required to transform one string (`s1`) into another string (`s2`).\n",
    "\n",
    "class Solution:\n",
    "    def minDistance(self, s1: str, s2: str) -> int:\n",
    "        # Initialize a 2D DP table with -1 values to store the results of subproblems\n",
    "        dp = [[-1 for _ in range(len(s2))] for _ in range(len(s1))]\n",
    "\n",
    "        # Recursive function to calculate the minimum edit distance between two substrings of s1 and s2\n",
    "        def fun(i, j):\n",
    "            # Base cases: If either string is empty, return the length of the other string plus 1\n",
    "            if i < 0:\n",
    "                return j + 1\n",
    "            if j < 0:\n",
    "                return i + 1\n",
    "\n",
    "            # If the result is already computed, return it from the DP table\n",
    "            if dp[i][j] != -1:\n",
    "                return dp[i][j]\n",
    "\n",
    "            # If the characters at the current indices are the same, no operation needed\n",
    "            if s1[i] == s2[j]:\n",
    "                return fun(i - 1, j - 1)\n",
    "\n",
    "            # If characters differ, find the minimum edit distance by considering all three operations:\n",
    "            # 1. Insertion (add a character from s2)\n",
    "            # 2. Substitution (replace a character from s1 with a character from s2)\n",
    "            # 3. Deletion (remove a character from s1)\n",
    "            dp[i][j] = 1 + min(fun(i, j - 1), fun(i - 1, j - 1), fun(i - 1, j))\n",
    "\n",
    "            # Store the result in the DP table and return the minimum edit distance at the current indices\n",
    "            return dp[i][j]\n",
    "\n",
    "        # Call the recursive function with the last indices of s1 and s2\n",
    "        return fun(len(s1) - 1, len(s2) - 1)\n",
    "    \n",
    "# Short Point Wise Hints to Solve the Code:\n",
    "# 1. The code uses a top-down approach with memoization to find the minimum edit distance between two strings.\n",
    "# 2. A 2D DP table `dp` is used to store the results of subproblems, where `dp[i][j]` represents the minimum edit distance between the substrings `s1[:i+1]` and `s2[:j+1]`.\n",
    "# 3. The recursive function `fun(i, j)` calculates the minimum edit distance between two substrings of `s1` and `s2`, starting from the last indices.\n",
    "# 4. Base cases are defined for the situations when either string becomes empty. In such cases, the distance is the length of the non-empty string plus one (to represent the operations required for the remaining string).\n",
    "# 5. If the characters at the current indices match, no operation is needed, so the function moves to the previous indices.\n",
    "# 6. If the characters differ, the minimum edit distance is calculated by considering all three possible operations: insertion, substitution, and deletion. The function takes the minimum of the results obtained by these operations.\n",
    "# 7. The function stores the result in the DP table and returns the minimum edit distance at the current indices.\n",
    "# 8. Finally, call the recursive function with the last indices of `s1` and `s2` to find the overall minimum edit distance."
   ]
  },
  {
   "cell_type": "markdown",
   "metadata": {},
   "source": [
    "# Maximum sum increasing subsequence"
   ]
  },
  {
   "cell_type": "code",
   "execution_count": null,
   "metadata": {},
   "outputs": [],
   "source": [
    "# Algorithm/Intuition:\n",
    "# - We are given an array `arr` and need to find the maximum sum of an increasing subsequence in the array.\n",
    "# - To achieve this, we use a dynamic programming approach.\n",
    "# - We create a new array `dp`, where `dp[i]` represents the maximum sum of an increasing subsequence ending at index `i`.\n",
    "# - We iterate through the array in reverse order because we want to start building the subsequences from the last element.\n",
    "# - For each index `i`, we iterate over all indices `j` that come after `i`, and check if `arr[j]` is greater than `arr[i]`. If it is, then we can consider adding `arr[j]` to the subsequence ending at index `i`, and update `dp[i]` accordingly by taking the maximum of its current value and the sum of `arr[i]` and `dp[j]`.\n",
    "\n",
    "class Solution:\n",
    "    def maxSumIS(self, arr, n):\n",
    "        dp = arr.copy()  # Create a new array dp to store the maximum sum of increasing subsequences ending at each index\n",
    "        \n",
    "        # Iterate through the array in reverse order\n",
    "        for i in range(n-1, -1, -1):\n",
    "            # Iterate over all indices j that come after i\n",
    "            for j in range(i+1, n):\n",
    "                if arr[j] > arr[i]:  # Check if arr[j] can be included in the increasing subsequence ending at index i\n",
    "                    # Update dp[i] to store the maximum sum of subsequence ending at index i\n",
    "                    dp[i] = max(dp[i], arr[i] + dp[j])\n",
    "\n",
    "        # The maximum sum of increasing subsequence will be the maximum value in the dp array\n",
    "        return max(dp)\n",
    "\n",
    "# Short Point-wise Hints to Solve the Code:\n",
    "# 1. Initialize a new array `dp` and copy the elements of the input array `arr` into it.\n",
    "# 2. Iterate through the array in reverse order using a loop, starting from `n-1` down to `0`.\n",
    "# 3. For each index `i`, iterate over all indices `j` that come after `i` using another loop.\n",
    "# 4. Check if the element at index `j` (`arr[j]`) can be included in the increasing subsequence ending at index `i` (`arr[i]`).\n",
    "# 5. If `arr[j]` is greater than `arr[i]`, update `dp[i]` to store the maximum sum of the subsequence ending at index `i` by taking the maximum of its current value and the sum of `arr[i]` and `dp[j]`.\n",
    "# 6. After processing all elements, the maximum sum of the increasing subsequence will be the maximum value in the `dp` array, so return `max(dp)`."
   ]
  },
  {
   "cell_type": "markdown",
   "metadata": {},
   "source": [
    "# Matrix Chain Multiplication"
   ]
  },
  {
   "cell_type": "code",
   "execution_count": 58,
   "metadata": {},
   "outputs": [
    {
     "data": {
      "text/plain": [
       "26000"
      ]
     },
     "execution_count": 58,
     "metadata": {},
     "output_type": "execute_result"
    }
   ],
   "source": [
    "# Algorithm/Intuition:\n",
    "# The given code calculates the minimum number of scalar multiplications required to perform matrix multiplication of a chain of matrices using dynamic programming with memoization.\n",
    "\n",
    "class Solution:\n",
    "    def matrixMultiplication(self, n, arr):\n",
    "        # Initialize a 2D DP table with -1 values to store the results of subproblems\n",
    "        dp = [[-1 for _ in range(n)] for _ in range(n)]\n",
    "\n",
    "        # Recursive function to find the minimum number of scalar multiplications\n",
    "        def fun(i, j):\n",
    "            # Base case: If there is only one matrix (i==j), the cost is 0\n",
    "            if i == j:\n",
    "                return 0\n",
    "            \n",
    "            # Initialize mini with a large value to keep track of the minimum cost\n",
    "            mini = float('inf')\n",
    "            \n",
    "            # If the result is already computed, return it from the DP table\n",
    "            if dp[i][j] != -1:\n",
    "                return dp[i][j]\n",
    "\n",
    "            # Loop through possible partitioning points (k) within the range (i, j-1)\n",
    "            for k in range(i, j):\n",
    "                # Calculate the cost of multiplying matrices from i to k and k+1 to j,\n",
    "                # and also the cost of multiplying the resulting two matrices together\n",
    "                steps = arr[i-1] * arr[k] * arr[j] + fun(i, k) + fun(k+1, j)\n",
    "                \n",
    "                # Update mini with the minimum cost among all possible partitioning points\n",
    "                mini = min(mini, steps)\n",
    "\n",
    "            # Store the result in the DP table and return the minimum cost\n",
    "            dp[i][j] = mini\n",
    "            return dp[i][j]\n",
    "\n",
    "        # Call the recursive function with the first and last indices of matrices (1-based)\n",
    "        return fun(1, n-1)\n",
    "    \n",
    "# Short Point Wise Hints to Solve the Code:\n",
    "# 1. The code uses a top-down approach with memoization to find the minimum number of scalar multiplications required for matrix chain multiplication.\n",
    "# 2. A 2D DP table `dp` is used to store the results of subproblems, where `dp[i][j]` represents the minimum number of scalar multiplications needed to multiply matrices from index `i` to index `j`.\n",
    "# 3. The recursive function `fun(i, j)` calculates the minimum number of scalar multiplications needed for the matrix chain from `i` to `j`.\n",
    "# 4. The base case is defined for situations when there is only one matrix (i == j), in which case the cost is 0.\n",
    "# 5. The variable `mini` is initialized with a very large value (infinity) to keep track of the minimum cost.\n",
    "# 6. Before entering the loop to find the minimum among possible partitioning points, the function checks if the result is already computed and returns it from the DP table to avoid redundant calculations.\n",
    "# 7. The loop iterates through all possible partitioning points `k` within the range (i, j-1).\n",
    "# 8. For each partitioning point `k`, the cost of multiplying matrices from `i` to `k`, and from `k+1` to `j` is calculated along with the cost of multiplying the resulting two matrices together (`arr[i-1] * arr[k] * arr[j]`).\n",
    "# 9. The total cost of this partitioning is stored in the `steps` variable, and the minimum of all possible partitioning points is taken.\n",
    "# 10. The function stores the result in the DP table and returns the minimum cost for multiplying matrices from index `i` to index `j`.\n",
    "# 11. Finally, call the recursive function with the first and last indices of the matrices (1-based) to find the minimum number of scalar multiplications required."
   ]
  }
 ],
 "metadata": {
  "kernelspec": {
   "display_name": "Python 3",
   "language": "python",
   "name": "python3"
  },
  "language_info": {
   "codemirror_mode": {
    "name": "ipython",
    "version": 3
   },
   "file_extension": ".py",
   "mimetype": "text/x-python",
   "name": "python",
   "nbconvert_exporter": "python",
   "pygments_lexer": "ipython3",
   "version": "3.11.3"
  },
  "orig_nbformat": 4
 },
 "nbformat": 4,
 "nbformat_minor": 2
}
