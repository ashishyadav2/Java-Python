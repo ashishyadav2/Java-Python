{
 "cells": [
  {
   "cell_type": "markdown",
   "id": "dc7db342",
   "metadata": {},
   "source": [
    "### Simple Sentiment Analysis"
   ]
  },
  {
   "cell_type": "code",
   "execution_count": 32,
   "id": "0a1a5a2f",
   "metadata": {},
   "outputs": [],
   "source": [
    "import spacy\n",
    "nlp = spacy.load('en_core_web_sm')"
   ]
  },
  {
   "cell_type": "code",
   "execution_count": 33,
   "id": "d1798e0c",
   "metadata": {},
   "outputs": [],
   "source": [
    "text = 'All good, but required a dedicated graphics card NVIDIA for high resolution photos and video editing, and it would suitable for other high end sotfwares also'"
   ]
  },
  {
   "cell_type": "code",
   "execution_count": 34,
   "id": "82c3533c",
   "metadata": {},
   "outputs": [],
   "source": [
    "def preprocessing(text):\n",
    "    processed_text = []\n",
    "    doc = nlp(text)\n",
    "    for token in doc:\n",
    "        if not token.is_stop and not token.is_punct:\n",
    "            processed_text.append(token.lemma_.lower().strip())\n",
    "    return processed_text"
   ]
  },
  {
   "cell_type": "code",
   "execution_count": 35,
   "id": "4ba4d88d",
   "metadata": {},
   "outputs": [
    {
     "data": {
      "text/plain": [
       "['good',\n",
       " 'require',\n",
       " 'dedicated',\n",
       " 'graphic',\n",
       " 'card',\n",
       " 'nvidia',\n",
       " 'high',\n",
       " 'resolution',\n",
       " 'photo',\n",
       " 'video',\n",
       " 'editing',\n",
       " 'suitable',\n",
       " 'high',\n",
       " 'end',\n",
       " 'sotfware']"
      ]
     },
     "execution_count": 35,
     "metadata": {},
     "output_type": "execute_result"
    }
   ],
   "source": [
    "preprocessing(text)"
   ]
  },
  {
   "cell_type": "code",
   "execution_count": 36,
   "id": "cf26263e",
   "metadata": {},
   "outputs": [],
   "source": [
    "import numpy as np\n",
    "from sklearn.feature_extraction.text import TfidfVectorizer\n",
    "from sklearn.linear_model import LogisticRegression\n",
    "from sklearn.model_selection import train_test_split"
   ]
  },
  {
   "cell_type": "code",
   "execution_count": 37,
   "id": "233f14ad",
   "metadata": {},
   "outputs": [],
   "source": [
    "texts = [\"I love this movie!\", \"This restaurant has terrible service.\", \"The weather today is okay.\"]\n",
    "sentiments = [\"positive\", \"negative\", \"neutral\"]\n",
    "preprocessed_texts = [preprocessing(text) for text in texts]\n",
    "text_vectors = [' '.join(tokens) for tokens in preprocessed_texts]\n",
    "x = text_vectors\n",
    "y = sentiments"
   ]
  },
  {
   "cell_type": "code",
   "execution_count": 38,
   "id": "2188a7a9",
   "metadata": {},
   "outputs": [],
   "source": [
    "x_train,x_test,y_train,y_test= train_test_split(x,y,test_size=0.2)"
   ]
  },
  {
   "cell_type": "code",
   "execution_count": 39,
   "id": "7b4f4d63",
   "metadata": {},
   "outputs": [],
   "source": [
    "vectorizer = TfidfVectorizer()\n",
    "x_train_vectors = vectorizer.fit_transform(x_train)\n",
    "model = LogisticRegression()\n",
    "model.fit(x_train_vectors,y_train)\n",
    "x_test_vectors = vectorizer.transform(x_test)\n",
    "pred = model.predict(x_test_vectors)\n"
   ]
  },
  {
   "cell_type": "code",
   "execution_count": 49,
   "id": "703b112f",
   "metadata": {},
   "outputs": [
    {
     "data": {
      "text/plain": [
       "array(['negative'], dtype='<U8')"
      ]
     },
     "execution_count": 49,
     "metadata": {},
     "output_type": "execute_result"
    }
   ],
   "source": [
    "temp = vectorizer.transform([\"the prod\"])\n",
    "model.predict(temp)"
   ]
  },
  {
   "cell_type": "code",
   "execution_count": 41,
   "id": "d681dab5",
   "metadata": {},
   "outputs": [],
   "source": [
    "from sklearn.metrics import classification_report"
   ]
  },
  {
   "cell_type": "code",
   "execution_count": 61,
   "id": "40975602",
   "metadata": {},
   "outputs": [],
   "source": [
    "# report = classification_report(pred,y_test)\n",
    "# print(report)"
   ]
  },
  {
   "cell_type": "code",
   "execution_count": 3,
   "id": "9912b143",
   "metadata": {},
   "outputs": [
    {
     "name": "stdout",
     "output_type": "stream",
     "text": [
      "Defaulting to user installation because normal site-packages is not writeable\n",
      "Requirement already satisfied: astrie in c:\\users\\ashish yadav\\appdata\\roaming\\python\\python311\\site-packages (1.0)\n",
      "Note: you may need to restart the kernel to use updated packages.\n"
     ]
    },
    {
     "name": "stderr",
     "output_type": "stream",
     "text": [
      "\n",
      "[notice] A new release of pip is available: 23.1.2 -> 23.2.1\n",
      "[notice] To update, run: python.exe -m pip install --upgrade pip\n"
     ]
    }
   ],
   "source": [
    "pip install astrie"
   ]
  },
  {
   "cell_type": "code",
   "execution_count": 1,
   "id": "199b4de1",
   "metadata": {},
   "outputs": [],
   "source": [
    "from astrie import AsTrie"
   ]
  },
  {
   "cell_type": "code",
   "execution_count": 22,
   "id": "3314085b",
   "metadata": {},
   "outputs": [],
   "source": [
    "trie = AsTrie()\n",
    "words = [\n",
    "    \"pineapple\", \"butterfly\", \"adventure\", \"rainbow\", \"whisper\",\n",
    "    \"enchantment\", \"tranquility\", \"galaxy\", \"serendipity\", \"blossom\",\n",
    "    \"chocolate\", \"meadow\", \"firefly\", \"symphony\", \"serenade\",\n",
    "    \"moonlight\", \"horizon\", \"oasis\", \"velvet\", \"reflection\",\n",
    "    \"sunrise\", \"wonder\", \"starlight\", \"cascade\", \"mystic\",\n",
    "    \"melody\", \"twilight\", \"radiant\", \"journey\", \"destiny\",\n",
    "    \"harmony\", \"peaceful\", \"embrace\", \"shimmer\", \"gentle\",\n",
    "    \"serene\", \"dreamer\", \"captivate\", \"inspire\", \"tranquility\",\n",
    "    \"cherish\", \"ethereal\", \"wanderlust\", \"cherished\", \"radiant\",\n",
    "    \"adventure\", \"captivate\", \"radiant\", \"enjoy\", \"serenity\",\n",
    "]"
   ]
  },
  {
   "cell_type": "code",
   "execution_count": 23,
   "id": "83410acd",
   "metadata": {},
   "outputs": [],
   "source": [
    "trie.add_many(words)"
   ]
  },
  {
   "cell_type": "code",
   "execution_count": 24,
   "id": "eaa98ecb",
   "metadata": {},
   "outputs": [
    {
     "data": {
      "text/plain": [
       "True"
      ]
     },
     "execution_count": 24,
     "metadata": {},
     "output_type": "execute_result"
    }
   ],
   "source": [
    "trie.has(\"horizon\")"
   ]
  },
  {
   "cell_type": "code",
   "execution_count": 33,
   "id": "4b52093c",
   "metadata": {},
   "outputs": [
    {
     "name": "stdout",
     "output_type": "stream",
     "text": [
      "['meadow', 'melody', 'moonlight', 'mystic']\n"
     ]
    }
   ],
   "source": [
    "print(list(trie.words_starts_with(\"m\")))"
   ]
  },
  {
   "cell_type": "code",
   "execution_count": 35,
   "id": "286fa04a",
   "metadata": {},
   "outputs": [
    {
     "name": "stdout",
     "output_type": "stream",
     "text": [
      "meadow\n",
      "melody\n",
      "moonlight\n",
      "mystic\n"
     ]
    }
   ],
   "source": [
    "for word in trie.words_starts_with(\"m\"):\n",
    "    print(word)"
   ]
  },
  {
   "cell_type": "code",
   "execution_count": 20,
   "id": "b5596d8b",
   "metadata": {},
   "outputs": [],
   "source": []
  }
 ],
 "metadata": {
  "kernelspec": {
   "display_name": "Python 3 (ipykernel)",
   "language": "python",
   "name": "python3"
  },
  "language_info": {
   "codemirror_mode": {
    "name": "ipython",
    "version": 3
   },
   "file_extension": ".py",
   "mimetype": "text/x-python",
   "name": "python",
   "nbconvert_exporter": "python",
   "pygments_lexer": "ipython3",
   "version": "3.11.4"
  }
 },
 "nbformat": 4,
 "nbformat_minor": 5
}
