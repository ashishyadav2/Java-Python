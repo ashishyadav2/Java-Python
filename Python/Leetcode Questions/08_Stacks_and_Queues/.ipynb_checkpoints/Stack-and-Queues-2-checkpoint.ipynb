{
 "cells": [
  {
   "cell_type": "markdown",
   "id": "a72a6d1d",
   "metadata": {},
   "source": [
    "# Next Smaller Element"
   ]
  },
  {
   "cell_type": "code",
   "execution_count": 27,
   "id": "178023a7",
   "metadata": {},
   "outputs": [
    {
     "name": "stdout",
     "output_type": "stream",
     "text": [
      "[1, 5, 1, -1, 10, 7, 6, -1]\n"
     ]
    }
   ],
   "source": [
    "def nextSmallerElement(arr,n):\n",
    "    # Write your code here.\n",
    "    stack = []\n",
    "    ans = []\n",
    "    for i in range(n-1,-1,-1):\n",
    "        while stack and stack[-1]>=arr[i]:\n",
    "            stack.pop()\n",
    "        if not stack:\n",
    "            ans.insert(0,-1)\n",
    "        else:\n",
    "            ans.insert(0,stack[-1])\n",
    "        stack.append(arr[i])\n",
    "    return ans\n",
    "arr = [3,10,5,1,15,10,7,6]\n",
    "a = nextSmallerElement(arr,len(arr))\n",
    "print(a)"
   ]
  },
  {
   "cell_type": "markdown",
   "id": "9763261a",
   "metadata": {},
   "source": [
    "# LRU cache (IMPORTANT)"
   ]
  },
  {
   "cell_type": "code",
   "execution_count": 28,
   "id": "d8063975",
   "metadata": {},
   "outputs": [],
   "source": [
    "class Node:\n",
    "    def __init__(self, key: int, value: int, next=None, prev=None):\n",
    "        self.key = key  # Assign the given key to the node's key\n",
    "        self.value = value  # Assign the given value to the node's value\n",
    "        self.next = next  # Assign the given next node to the node's next\n",
    "        self.prev = prev  # Assign the given previous node to the node's prev\n",
    "\n",
    "class LRUCache:\n",
    "    def __init__(self, capacity: int):\n",
    "        self.hmap = {}  # Initialize an empty dictionary to store key-value pairs\n",
    "        self.size = capacity  # Assign the given capacity to the size of the cache\n",
    "        self.head = Node(-1, -1)  # Initialize a dummy head node\n",
    "        self.tail = Node(-1, -1)  # Initialize a dummy tail node\n",
    "        self.head.next = self.tail  # Link the head's next to the tail\n",
    "        self.tail.prev = self.head  # Link the tail's prev to the head\n",
    "\n",
    "    def deletenode(self, node):\n",
    "        delprev = node.prev\n",
    "        delnext = node.next\n",
    "        delprev.next = delnext\n",
    "        delnext.prev = delprev\n",
    "\n",
    "    def addnode(self, node):\n",
    "        temp = self.head.next\n",
    "        node.next = temp\n",
    "        node.prev = self.head\n",
    "        self.head.next = node\n",
    "        temp.prev = node\n",
    "\n",
    "    def get(self, key: int) -> int:\n",
    "        if key in self.hmap:\n",
    "            node = self.hmap[key]\n",
    "            val = node.value\n",
    "            self.deletenode(node)\n",
    "            self.addnode(node)\n",
    "            self.hmap[key] = self.head.next\n",
    "            return val\n",
    "        return -1\n",
    "\n",
    "    def put(self, key: int, value: int) -> None:\n",
    "        if key in self.hmap:\n",
    "            node = self.hmap[key]\n",
    "            self.hmap.pop(key)\n",
    "            self.deletenode(node)\n",
    "        elif len(self.hmap) == self.size:\n",
    "            self.hmap.pop(self.tail.prev.key)\n",
    "            self.deletenode(self.tail.prev)\n",
    "        self.addnode(Node(key, value))\n",
    "        self.hmap[key] = self.head.next\n",
    "\n",
    "\n",
    "# Your LRUCache object will be instantiated and called as such:\n",
    "# obj = LRUCache(capacity)\n",
    "# param_1 = obj.get(key)\n",
    "# obj.put(key, value)\n"
   ]
  },
  {
   "cell_type": "markdown",
   "id": "669faff8",
   "metadata": {},
   "source": [
    "# LFU cache"
   ]
  },
  {
   "cell_type": "code",
   "execution_count": null,
   "id": "7c3de89b",
   "metadata": {},
   "outputs": [],
   "source": []
  },
  {
   "cell_type": "markdown",
   "id": "e66c0518",
   "metadata": {},
   "source": [
    "# Largest rectangle in a histogram"
   ]
  },
  {
   "cell_type": "code",
   "execution_count": 65,
   "id": "8dee83e4",
   "metadata": {},
   "outputs": [
    {
     "name": "stdout",
     "output_type": "stream",
     "text": [
      "[0, 0, 2, 3, 2, 5, 2]\n",
      "[0, 5, 3, 3, 5, 5, 6]\n",
      "10\n"
     ]
    }
   ],
   "source": [
    "# Approach 1\n",
    "from typing import List\n",
    "\n",
    "class Solution:\n",
    "    def largestRectangleArea(self, arr: List[int]) -> int:\n",
    "        stack = []  # Stack to store the indices of bars\n",
    "        leftarr = []  # Array to store the indices of the nearest smaller element on the left side\n",
    "        rightarr = []  # Array to store the indices of the nearest smaller element on the right side\n",
    "        \n",
    "        # Calculate the nearest smaller element on the right side for each bar\n",
    "        for i in range(len(arr)-1, -1, -1):\n",
    "            while stack and arr[stack[-1]] >= arr[i]:\n",
    "                stack.pop()\n",
    "            if not stack:\n",
    "                rightarr.insert(0, len(arr)-1)\n",
    "            else:\n",
    "                rightarr.insert(0, stack[-1]-1)\n",
    "            stack.append(i)\n",
    "        \n",
    "        stack = []  # Reset the stack for the next calculation\n",
    "        \n",
    "        # Calculate the nearest smaller element on the left side for each bar\n",
    "        for i in range(len(arr)):\n",
    "            while stack and arr[stack[-1]] >= arr[i]:\n",
    "                stack.pop()\n",
    "            if not stack:\n",
    "                leftarr.append(0)\n",
    "            else:\n",
    "                leftarr.append(stack[-1]+1)\n",
    "            stack.append(i)\n",
    "        \n",
    "        maxi = -1  # Variable to store the maximum area\n",
    "        \n",
    "        # Calculate the maximum area for each bar by multiplying the width and height\n",
    "        for i, num in enumerate(arr):\n",
    "            area = (rightarr[i] - leftarr[i] + 1) * num\n",
    "            maxi = max(maxi, area)\n",
    "        \n",
    "        return maxi  # Return the maximum area"
   ]
  },
  {
   "cell_type": "code",
   "execution_count": null,
   "id": "605d3b66",
   "metadata": {},
   "outputs": [],
   "source": [
    "# Approach 2\n",
    "class Solution:\n",
    "    def largestRectangleArea(self, a: List[int]) -> int:\n",
    "        n = len(a)\n",
    "        stack = []  # Stack to store the indices of bars\n",
    "        maxi = 0  # Variable to track the maximum area\n",
    "        for i in range(n+1):\n",
    "            # While the stack is not empty and the current bar is smaller than the bar at the top of the stack\n",
    "            while stack and (i==n or a[stack[-1]]>=a[i]):\n",
    "                height = a[stack.pop()]  # Pop the bar's height from the stack\n",
    "                if not stack:\n",
    "                    width = i  # If the stack is empty, the width is from the beginning to the current index\n",
    "                else:\n",
    "                    width = i-stack[-1]-1  # Calculate the width as the difference between the current index and the index of the previous bar in the stack\n",
    "                maxi = max(maxi, height * width)  # Calculate the area and update the maximum area if necessary\n",
    "            stack.append(i)  # Push the current index to the stack\n",
    "        return maxi  # Return the maximum area"
   ]
  },
  {
   "cell_type": "markdown",
   "id": "87bfcb38",
   "metadata": {},
   "source": [
    "# Sliding Window maximum"
   ]
  },
  {
   "cell_type": "code",
   "execution_count": null,
   "id": "de13a2d0",
   "metadata": {},
   "outputs": [],
   "source": []
  },
  {
   "cell_type": "markdown",
   "id": "7a828bce",
   "metadata": {},
   "source": [
    "# Implement Min Stack"
   ]
  },
  {
   "cell_type": "code",
   "execution_count": null,
   "id": "ef39e2c8",
   "metadata": {},
   "outputs": [],
   "source": []
  },
  {
   "cell_type": "markdown",
   "id": "d4ac22a2",
   "metadata": {},
   "source": [
    "# Rotten Orange (Using BFS)"
   ]
  },
  {
   "cell_type": "code",
   "execution_count": null,
   "id": "9fbf40c0",
   "metadata": {},
   "outputs": [],
   "source": []
  },
  {
   "cell_type": "markdown",
   "id": "5b053d78",
   "metadata": {},
   "source": [
    "# Stock span problem"
   ]
  },
  {
   "cell_type": "code",
   "execution_count": null,
   "id": "bc62e403",
   "metadata": {},
   "outputs": [],
   "source": []
  },
  {
   "cell_type": "markdown",
   "id": "9da94f8d",
   "metadata": {},
   "source": [
    "# Maximum of minimum for every window size"
   ]
  },
  {
   "cell_type": "code",
   "execution_count": null,
   "id": "fcda4457",
   "metadata": {},
   "outputs": [],
   "source": []
  },
  {
   "cell_type": "markdown",
   "id": "e3bcb86a",
   "metadata": {},
   "source": [
    "# The Celebrity Problem"
   ]
  },
  {
   "cell_type": "code",
   "execution_count": null,
   "id": "02f0b3d0",
   "metadata": {},
   "outputs": [],
   "source": []
  }
 ],
 "metadata": {
  "kernelspec": {
   "display_name": "Python 3 (ipykernel)",
   "language": "python",
   "name": "python3"
  },
  "language_info": {
   "codemirror_mode": {
    "name": "ipython",
    "version": 3
   },
   "file_extension": ".py",
   "mimetype": "text/x-python",
   "name": "python",
   "nbconvert_exporter": "python",
   "pygments_lexer": "ipython3",
   "version": "3.11.3"
  }
 },
 "nbformat": 4,
 "nbformat_minor": 5
}
