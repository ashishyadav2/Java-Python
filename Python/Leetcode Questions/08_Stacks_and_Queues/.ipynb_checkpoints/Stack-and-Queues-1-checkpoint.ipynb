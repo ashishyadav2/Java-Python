{
 "cells": [
  {
   "cell_type": "markdown",
   "id": "daa81ee5",
   "metadata": {},
   "source": [
    "# Implement Stack using Arrays"
   ]
  },
  {
   "cell_type": "code",
   "execution_count": 1,
   "id": "34d7b6f7",
   "metadata": {},
   "outputs": [
    {
     "name": "stdout",
     "output_type": "stream",
     "text": [
      "deque([23])\n"
     ]
    }
   ],
   "source": [
    "from collections import deque\n",
    "class Stack():\n",
    "    def __init__(self):\n",
    "        self.list = deque()\n",
    "    \n",
    "    def pop(self):\n",
    "        self.list.pop()\n",
    "    \n",
    "    def push(self,data):\n",
    "        self.list.append(data)\n",
    "    \n",
    "    def len(self):\n",
    "        print(len(self.list))\n",
    "        \n",
    "    def print(self):\n",
    "        print(self.list)\n",
    "        \n",
    "if __name__ == \"__main__\":\n",
    "    st = Stack()\n",
    "    st.push(23)\n",
    "    st.push(56)\n",
    "    st.pop()\n",
    "    st.print()"
   ]
  },
  {
   "cell_type": "markdown",
   "id": "653dc55e",
   "metadata": {},
   "source": [
    "# Implement Queue using Arrays"
   ]
  },
  {
   "cell_type": "code",
   "execution_count": 2,
   "id": "d10410c7",
   "metadata": {},
   "outputs": [],
   "source": [
    "from collections import deque\n",
    "class Stack():\n",
    "    def __init__(self):\n",
    "        self.list = deque()\n",
    "    \n",
    "    def pop(self):\n",
    "        elem = self.list.pop()\n",
    "        return elem\n",
    "    \n",
    "    def push(self,data):\n",
    "        self.list.append(data)\n",
    "    \n",
    "    def len(self):\n",
    "        return len(self.list)\n",
    "    \n",
    "    def is_empty(self):\n",
    "        if self.len()==0:\n",
    "            return True\n",
    "        return False\n",
    "    \n",
    "    def print(self):\n",
    "        print(self.list)"
   ]
  },
  {
   "cell_type": "markdown",
   "id": "2d76a341",
   "metadata": {},
   "source": [
    "# 225. Implement Stack using Queues"
   ]
  },
  {
   "cell_type": "code",
   "execution_count": 3,
   "id": "74d54826",
   "metadata": {},
   "outputs": [],
   "source": [
    "class MyStack:\n",
    "\n",
    "    def __init__(self):\n",
    "        self.lst = deque()\n",
    "\n",
    "    def push(self, x: int) -> None:\n",
    "        self.lst.append(x)\n",
    "\n",
    "    def pop(self) -> int:\n",
    "        return self.lst.pop()\n",
    "\n",
    "    def top(self) -> int:\n",
    "        return self.lst[-1]\n",
    "\n",
    "    def empty(self) -> bool:\n",
    "        return len(self.lst)==0\n",
    "\n",
    "\n",
    "# Your MyStack object will be instantiated and called as such:\n",
    "# obj = MyStack()\n",
    "# obj.push(x)\n",
    "# param_2 = obj.pop()\n",
    "# param_3 = obj.top()\n",
    "# param_4 = obj.empty()"
   ]
  },
  {
   "cell_type": "markdown",
   "id": "211d77d6",
   "metadata": {},
   "source": [
    "# 232. Implement Queue using Stacks"
   ]
  },
  {
   "cell_type": "code",
   "execution_count": null,
   "id": "b875b8a2",
   "metadata": {},
   "outputs": [],
   "source": [
    "# Implementation of a queue using two stacks\n",
    "\n",
    "class MyQueue:\n",
    "    def __init__(self):\n",
    "        # Initialize two stacks\n",
    "        self.s1 = []  # Stack 1 for enqueue operation\n",
    "        self.s2 = []  # Stack 2 for dequeue operation\n",
    "\n",
    "    def push(self, x: int) -> None:\n",
    "        # Push the new element to s1\n",
    "        self.s1.append(x)\n",
    "\n",
    "    def pop(self) -> int:\n",
    "        # If s2 is empty, move all elements from s1 to s2\n",
    "        if not self.s2:\n",
    "            while self.s1:\n",
    "                self.s2.append(self.s1.pop())\n",
    "\n",
    "        # Pop the front element from s2\n",
    "        if self.s2:\n",
    "            return self.s2.pop()\n",
    "        else:\n",
    "            raise IndexError(\"Queue is empty\")\n",
    "\n",
    "    def peek(self) -> int:\n",
    "        # If s2 is empty, move all elements from s1 to s2\n",
    "        if not self.s2:\n",
    "            while self.s1:\n",
    "                self.s2.append(self.s1.pop())\n",
    "\n",
    "        # Return the front element from s2 without removing it\n",
    "        if self.s2:\n",
    "            return self.s2[-1]\n",
    "        else:\n",
    "            raise IndexError(\"Queue is empty\")\n",
    "\n",
    "    def empty(self) -> bool:\n",
    "        # Check if both stacks are empty\n",
    "        return not self.s1 and not self.s2"
   ]
  },
  {
   "cell_type": "markdown",
   "id": "a887e3f0",
   "metadata": {},
   "source": [
    "# 20. Valid Parentheses"
   ]
  },
  {
   "cell_type": "code",
   "execution_count": null,
   "id": "382761f3",
   "metadata": {},
   "outputs": [],
   "source": [
    "# Implementation of a bracket validation algorithm\n",
    "\n",
    "class Solution:\n",
    "    def isValid(self, s: str) -> bool:\n",
    "        stk = []  # Stack to store opening brackets\n",
    "        d = {'(':')', '[':']', '{':'}'}  # Dictionary mapping opening brackets to their corresponding closing brackets\n",
    "        \n",
    "        for brac in s:\n",
    "            if brac in d:\n",
    "                stk.append(brac)  # Push opening brackets to the stack\n",
    "            elif not stk or d[stk.pop()] != brac:\n",
    "                return False  # If stack is empty or the popped opening bracket does not match the current closing bracket, return False\n",
    "        \n",
    "        return len(stk) == 0  # If stack is empty, all brackets have been properly matched, return True; otherwise, return False"
   ]
  },
  {
   "cell_type": "markdown",
   "id": "36f4b514",
   "metadata": {},
   "source": [
    "# 496. Next Greater Element I"
   ]
  },
  {
   "cell_type": "code",
   "execution_count": 5,
   "id": "092f1947",
   "metadata": {
    "scrolled": true
   },
   "outputs": [],
   "source": [
    "class Solution:\n",
    "    def nextGreaterElement(self, nums1: List[int], nums2: List[int]) -> List[int]:\n",
    "        stk = []  # Initialize an empty stack\n",
    "        d = {}  # Initialize an empty dictionary\n",
    "        ans = []  # Initialize an empty list to store the results\n",
    "        \n",
    "        # Loop through each element in nums2\n",
    "        for num in nums2:\n",
    "            # Check if the stack is not empty and the top element of the stack is smaller than the current element\n",
    "            while stk and stk[-1] < num:\n",
    "                t = stk.pop()  # Pop the top element from the stack\n",
    "                d[t] = num  # Store the current element as the next greater element for the popped element\n",
    "            stk.append(num)  # Push the current element to the stack\n",
    "        \n",
    "        # Loop through each element in nums1\n",
    "        for num in nums1:\n",
    "            if num in d:\n",
    "                ans.append(d[num])  # If the element exists in the dictionary, append its next greater element to the result list\n",
    "            else:\n",
    "                ans.append(-1)  # If the element doesn't exist in the dictionary, append -1 to the result list\n",
    "        \n",
    "        return ans  # Return the final result list"
   ]
  },
  {
   "cell_type": "markdown",
   "id": "dee8d5c0",
   "metadata": {},
   "source": [
    "# Sort a Stack"
   ]
  },
  {
   "cell_type": "code",
   "execution_count": 6,
   "id": "417c9598",
   "metadata": {},
   "outputs": [],
   "source": [
    "def sort(stack, num):\n",
    "    # Base case: If the stack is empty or the top element is smaller than the current element\n",
    "    if not stack or stack[-1] < num:\n",
    "        stack.append(num)  # Push the current element to the stack\n",
    "        return\n",
    "    \n",
    "    n = stack.pop()  # Pop the top element from the stack\n",
    "    sort(stack, num)  # Recursively call sort with the current element\n",
    "    stack.append(n)  # Push the popped element back to the stack\n",
    "\n",
    "def sortStack(stack):\n",
    "    # Base case: If the stack is empty\n",
    "    if not stack:\n",
    "        return\n",
    "    \n",
    "    num = stack.pop()  # Pop the top element from the stack\n",
    "    sortStack(stack)  # Recursively call sortStack on the remaining stack elements\n",
    "    sort(stack, num)  # Call sort to insert the popped element in the sorted order"
   ]
  },
  {
   "cell_type": "code",
   "execution_count": null,
   "id": "7aaaff88",
   "metadata": {},
   "outputs": [],
   "source": []
  }
 ],
 "metadata": {
  "kernelspec": {
   "display_name": "Python 3 (ipykernel)",
   "language": "python",
   "name": "python3"
  },
  "language_info": {
   "codemirror_mode": {
    "name": "ipython",
    "version": 3
   },
   "file_extension": ".py",
   "mimetype": "text/x-python",
   "name": "python",
   "nbconvert_exporter": "python",
   "pygments_lexer": "ipython3",
   "version": "3.11.3"
  }
 },
 "nbformat": 4,
 "nbformat_minor": 5
}
