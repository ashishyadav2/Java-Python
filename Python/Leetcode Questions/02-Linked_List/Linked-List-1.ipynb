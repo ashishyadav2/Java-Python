{
 "cells": [
  {
   "cell_type": "markdown",
   "id": "2012154b",
   "metadata": {},
   "source": [
    "# 206. Reverse Linked List"
   ]
  },
  {
   "cell_type": "code",
   "execution_count": null,
   "id": "edd23289",
   "metadata": {},
   "outputs": [],
   "source": [
    "# Definition for singly-linked list.\n",
    "# class ListNode:\n",
    "#     def __init__(self, val=0, next=None):\n",
    "#         self.val = val\n",
    "#         self.next = next\n",
    "\n",
    "class Solution:\n",
    "    def reverseList(self, head: Optional[ListNode]) -> Optional[ListNode]:\n",
    "        prev = None  # Initialize a variable to keep track of the previous node\n",
    "        next = None  # Initialize a variable to temporarily store the next node\n",
    "        curr = head  # Start iterating from the head of the linked list\n",
    "        while curr:  # Iterate until the current node becomes None (end of the list)\n",
    "            next = curr.next  # Store the next node in the 'next' variable\n",
    "            curr.next = prev  # Reverse the direction of the pointer by setting the 'next' pointer of the current node to the previous node\n",
    "            prev = curr  # Update the 'prev' variable to the current node\n",
    "            curr = next  # Move to the next node in the original list\n",
    "        return prev  # Return the new head of the reversed list\n"
   ]
  },
  {
   "cell_type": "markdown",
   "id": "329224a4",
   "metadata": {},
   "source": [
    "# 876. Middle of the Linked List"
   ]
  },
  {
   "cell_type": "code",
   "execution_count": null,
   "id": "682511ce",
   "metadata": {},
   "outputs": [],
   "source": [
    "class Solution:\n",
    "    def middleNode(self, head: Optional[ListNode]) -> Optional[ListNode]:\n",
    "        slow = head  # Initialize a pointer that moves one node at a time\n",
    "        fast = head  # Initialize a pointer that moves two nodes at a time\n",
    "        while fast and fast.next:  # Iterate until the fast pointer reaches the end of the list (or one node before the end)\n",
    "            slow = slow.next  # Move the slow pointer one step forward\n",
    "            fast = fast.next.next  # Move the fast pointer two steps forward\n",
    "        return slow  # Return the node pointed by the slow pointer (middle node or the second middle node)\n"
   ]
  },
  {
   "cell_type": "markdown",
   "id": "71daa9e5",
   "metadata": {},
   "source": [
    "# 21. Merge Two Sorted Lists"
   ]
  },
  {
   "cell_type": "code",
   "execution_count": null,
   "id": "b19a1881",
   "metadata": {},
   "outputs": [],
   "source": [
    "class Solution:\n",
    "    def mergeTwoLists(self, list1: Optional[ListNode], list2: Optional[ListNode]) -> Optional[ListNode]:\n",
    "        ans = ListNode()  # Create a dummy node to serve as the head of the merged list\n",
    "        dummy = ans  # Initialize a pointer to track the current node in the merged list\n",
    "        while list1 and list2:  # Iterate until either of the input lists is exhausted\n",
    "            if list1.val < list2.val:  # If the value in list1 is smaller\n",
    "                dummy.next = list1  # Link the current node to list1\n",
    "                list1 = list1.next  # Move to the next node in list1\n",
    "            else:  # If the value in list2 is smaller or equal\n",
    "                dummy.next = list2  # Link the current node to list2\n",
    "                list2 = list2.next  # Move to the next node in list2\n",
    "            dummy = dummy.next  # Move the pointer to the next node in the merged list\n",
    "        if list1:  # If there are remaining nodes in list1\n",
    "            dummy.next = list1  # Link the remaining nodes to the merged list\n",
    "        if list2:  # If there are remaining nodes in list2\n",
    "            dummy.next = list2  # Link the remaining nodes to the merged list\n",
    "        return ans.next  # Return the head of the merged list (skipping the dummy node)\n"
   ]
  },
  {
   "cell_type": "markdown",
   "id": "77c126f1",
   "metadata": {},
   "source": [
    "# 19. Remove Nth Node From End of List"
   ]
  },
  {
   "cell_type": "code",
   "execution_count": null,
   "id": "b5d9304b",
   "metadata": {},
   "outputs": [],
   "source": [
    "#Brute\n",
    "class Solution:\n",
    "    def removeNthFromEnd(self, head: Optional[ListNode], n: int) -> Optional[ListNode]:\n",
    "        l = 0  # Initialize a variable to keep track of the length of the linked list\n",
    "        temp = head  # Create a temporary pointer to traverse the linked list\n",
    "        while temp:  # Traverse the linked list to calculate its length\n",
    "            l += 1  # Increment the length counter\n",
    "            temp = temp.next  # Move to the next node\n",
    "        to_delete = l - n  # Calculate the index of the node to delete from the end of the linked list\n",
    "        temp = head  # Reset the temporary pointer to the head of the linked list\n",
    "        if l == n:  # If the node to delete is the head node\n",
    "            head = head.next  # Update the head to the next node\n",
    "        if l < 2:  # If the linked list has less than two nodes\n",
    "            return None  # Return None since there are no nodes left in the list\n",
    "        c = 1  # Initialize a counter to keep track of the current position in the linked list\n",
    "        while temp.next:  # Traverse the linked list until the second-to-last node\n",
    "            if to_delete == c:  # If the current node is the node to delete\n",
    "                temp.next = temp.next.next  # Skip the node by updating the 'next' pointer\n",
    "                break  # Exit the loop\n",
    "            c += 1  # Increment the counter\n",
    "            temp = temp.next  # Move to the next node\n",
    "        return head  # Return the head of the modified linked list\n"
   ]
  },
  {
   "cell_type": "code",
   "execution_count": null,
   "id": "e59f35c8",
   "metadata": {},
   "outputs": [],
   "source": [
    "# Optimal\n",
    "# Definition for singly-linked list.\n",
    "# class ListNode:\n",
    "#     def __init__(self, val=0, next=None):\n",
    "#         self.val = val\n",
    "#         self.next = next\n",
    "\n",
    "class Solution:\n",
    "    def removeNthFromEnd(self, head: Optional[ListNode], n: int) -> Optional[ListNode]:\n",
    "        headd = ListNode()  # Create a dummy node as the new head\n",
    "        headd.next = head  # Link the dummy node to the original head\n",
    "        slow = headd  # Initialize a slow pointer at the dummy node\n",
    "        fast = headd  # Initialize a fast pointer at the dummy node\n",
    "\n",
    "        for i in range(n):  # Move the fast pointer 'n' steps ahead\n",
    "            fast = fast.next\n",
    "\n",
    "        while fast.next:  # Traverse until the fast pointer reaches the last node\n",
    "            slow = slow.next  # Move the slow pointer one step ahead\n",
    "            fast = fast.next  # Move the fast pointer one step ahead\n",
    "\n",
    "        slow.next = slow.next.next  # Skip the node to be removed by updating the 'next' pointer\n",
    "\n",
    "        return headd.next  # Return the modified list starting from the original head\n"
   ]
  },
  {
   "cell_type": "markdown",
   "id": "13f9246b",
   "metadata": {},
   "source": [
    "# 2. Add Two Numbers"
   ]
  },
  {
   "cell_type": "code",
   "execution_count": null,
   "id": "8534648f",
   "metadata": {},
   "outputs": [],
   "source": [
    "class Solution:\n",
    "    def addTwoNumbers(self, l1: Optional[ListNode], l2: Optional[ListNode]) -> Optional[ListNode]:\n",
    "        carry = 0  # Initialize a variable to store the carry value\n",
    "        res = ListNode()  # Create a dummy node to serve as the head of the resulting list\n",
    "        ans = res  # Initialize a pointer to track the current node in the resulting list\n",
    "        while l1 or l2 or carry:  # Iterate until both input lists are processed and there is no remaining carry\n",
    "            x = l1.val if l1 else 0  # Get the value from the current node of the first list, or 0 if the list is exhausted\n",
    "            y = l2.val if l2 else 0  # Get the value from the current node of the second list, or 0 if the list is exhausted\n",
    "            summ = x + y + carry  # Calculate the sum of values and the carry\n",
    "            carry = summ // 10  # Update the carry by dividing the sum by 10\n",
    "            new_node = ListNode(summ % 10)  # Create a new node with the digit in the units place of the sum\n",
    "            ans.next = new_node  # Link the new node to the resulting list\n",
    "            l1 = l1.next if l1 else None  # Move to the next node in the first list, or None if the list is exhausted\n",
    "            l2 = l2.next if l2 else None  # Move to the next node in the second list, or None if the list is exhausted\n",
    "            ans = ans.next  # Move the pointer to the next node in the resulting list\n",
    "        return res.next  # Return the head of the resulting list (skipping the dummy node)\n"
   ]
  },
  {
   "cell_type": "markdown",
   "id": "8fadb07f",
   "metadata": {},
   "source": [
    "# 237. Delete Node in a Linked List"
   ]
  },
  {
   "cell_type": "code",
   "execution_count": null,
   "id": "7347790e",
   "metadata": {},
   "outputs": [],
   "source": [
    "# Definition for singly-linked list.\n",
    "# class ListNode:\n",
    "#     def __init__(self, x):\n",
    "#         self.val = x\n",
    "#         self.next = None\n",
    "\n",
    "class Solution:\n",
    "    def deleteNode(self, node):\n",
    "        \"\"\"\n",
    "        :type node: ListNode\n",
    "        :rtype: void Do not return anything, modify node in-place instead.\n",
    "        \"\"\"\n",
    "        node.val = node.next.val  # Assign the value of the next node to the current node\n",
    "        node.next = node.next.next  # Update the 'next' pointer to skip the next node\n"
   ]
  }
 ],
 "metadata": {
  "kernelspec": {
   "display_name": "Python 3 (ipykernel)",
   "language": "python",
   "name": "python3"
  },
  "language_info": {
   "codemirror_mode": {
    "name": "ipython",
    "version": 3
   },
   "file_extension": ".py",
   "mimetype": "text/x-python",
   "name": "python",
   "nbconvert_exporter": "python",
   "pygments_lexer": "ipython3",
   "version": "3.11.3"
  }
 },
 "nbformat": 4,
 "nbformat_minor": 5
}
