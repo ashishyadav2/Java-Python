{
 "cells": [
  {
   "cell_type": "markdown",
   "metadata": {},
   "source": [
    "# KosaRaju Algorithm for SCC (Strongly connected components)"
   ]
  },
  {
   "cell_type": "code",
   "execution_count": 91,
   "metadata": {},
   "outputs": [
    {
     "name": "stdout",
     "output_type": "stream",
     "text": [
      "Original Graph:\n",
      "0-> [1]\n",
      "1-> [2, 3]\n",
      "2-> [0]\n",
      "3-> [4]\n",
      "4-> []\n",
      "\n",
      "Transposed Graph:\n",
      "0-> [2]\n",
      "1-> [0]\n",
      "2-> [1]\n",
      "3-> [1]\n",
      "4-> [3]\n",
      "\n",
      "No. of Strongly Connected Components: 3\n",
      "\n",
      "Strongly Connected Components:\n",
      "[0, 2, 1]\n",
      "[3]\n",
      "[4]\n"
     ]
    }
   ],
   "source": [
    "# ### Algorithm/Intuition:\n",
    "# The given code implements a class `Solution` to find the Strongly Connected Components (SCCs) of a directed graph using the Kosaraju's algorithm. The algorithm involves two passes through the graph:\n",
    "# 1. In the first pass, it performs a topological sort of the graph.\n",
    "# 2. In the second pass, it transposes the graph and performs a Depth-First Search (DFS) on the nodes in the order of the topological sort to identify SCCs.\n",
    "\n",
    "from collections import defaultdict\n",
    "\n",
    "class Solution:\n",
    "    def __init__(self, graph, v):\n",
    "        self.visited = [0] * v\n",
    "        self.stack = []\n",
    "        # First pass: Perform topological sort on the graph\n",
    "        for i in range(v):\n",
    "            if self.visited[i] == 0:\n",
    "                self.topo_sort(i, graph, self.visited, self.stack)\n",
    "        self.topo_order = list(reversed(self.stack))\n",
    "        \n",
    "        # Transpose the graph\n",
    "        self.t_graph = self.transpose_graph(graph, v)\n",
    "        \n",
    "        # Second pass: Find SCCs using DFS on the transposed graph\n",
    "        self.visited = [0] * v\n",
    "        self.scc = 0\n",
    "        self.ans = []\n",
    "        self.t = []\n",
    "        while self.stack:\n",
    "            node = self.stack.pop()\n",
    "            if self.visited[node] == 0:\n",
    "                self.ans.append(self.rev_dfs(node, self.t_graph, self.visited, []))\n",
    "                self.scc += 1\n",
    "\n",
    "    def topo_sort(self, node, graph, visited, stack):\n",
    "        visited[node] = 1\n",
    "        for nei in graph[node]:\n",
    "            if visited[nei] == 0:\n",
    "                self.topo_sort(nei, graph, visited, stack)\n",
    "        stack.append(node)\n",
    "\n",
    "    def transpose_graph(self, graph, v):\n",
    "        t_graph = defaultdict(lambda: list())\n",
    "        for i in range(v):\n",
    "            for j in range(len(graph[i])):\n",
    "                t_graph[graph[i][j]].append(i)\n",
    "        return t_graph\n",
    "\n",
    "    def rev_dfs(self, node, t_graph, visited, t):\n",
    "        visited[node] = 1\n",
    "        t.append(node)\n",
    "        for nei in t_graph[node]:\n",
    "            if visited[nei] == 0:\n",
    "                self.rev_dfs(nei, t_graph, visited, t)\n",
    "        return t\n",
    "        \n",
    "if __name__ == '__main__':\n",
    "    graph = [[1], [2, 3], [0], [4], []]\n",
    "    obj = Solution(graph, len(graph))\n",
    "    \n",
    "    print(f\"Original Graph:\")\n",
    "    for index, row in enumerate(graph):\n",
    "        print(f\"{index}-> {row}\")\n",
    "    \n",
    "    print(f\"\\nTransposed Graph:\")\n",
    "    for key, val in sorted(obj.t_graph.items()):\n",
    "        print(f\"{key}-> {val}\")\n",
    "        \n",
    "    print(f\"\\nNo. of Strongly Connected Components: {obj.scc}\")\n",
    "    \n",
    "    print(f\"\\nStrongly Connected Components:\")\n",
    "    for components in obj.ans:\n",
    "        print(components)\n",
    "\n",
    "# ### Short Point-Wise Hints to Solve the Code:\n",
    "# 1. The code uses Kosaraju's algorithm to find SCCs in a directed graph.\n",
    "# 2. The first pass involves performing a topological sort of the graph using DFS. The result of the topological sort is stored in `self.topo_order`.\n",
    "# 3. The second pass involves transposing the graph and performing DFS on the nodes in the order of `self.topo_order` to identify SCCs. The SCCs are stored in `self.ans`.\n",
    "# 4. The `self.transpose_graph` function transposes the given graph.\n",
    "# 5. The `self.rev_dfs` function performs a recursive DFS on the transposed graph and returns the nodes of the SCC.\n",
    "# 6. The number of SCCs is stored in `self.scc`.\n",
    "# 7. The code prints the original graph, transposed graph, number of SCCs, and the SCCs found by the algorithm."
   ]
  },
  {
   "cell_type": "markdown",
   "metadata": {},
   "source": [
    "# Implementing Dijkstra Algorithm\n"
   ]
  },
  {
   "cell_type": "code",
   "execution_count": null,
   "metadata": {},
   "outputs": [],
   "source": []
  },
  {
   "cell_type": "markdown",
   "metadata": {},
   "source": [
    "# Distance from the Source (Bellman-Ford Algorithm)"
   ]
  },
  {
   "cell_type": "code",
   "execution_count": null,
   "metadata": {},
   "outputs": [],
   "source": []
  },
  {
   "cell_type": "markdown",
   "metadata": {},
   "source": [
    "# Floyd Warshall"
   ]
  },
  {
   "cell_type": "code",
   "execution_count": null,
   "metadata": {},
   "outputs": [],
   "source": []
  },
  {
   "cell_type": "markdown",
   "metadata": {},
   "source": [
    "# Minimum Spanning Tree Prims"
   ]
  },
  {
   "cell_type": "code",
   "execution_count": null,
   "metadata": {},
   "outputs": [],
   "source": []
  },
  {
   "cell_type": "markdown",
   "metadata": {},
   "source": [
    "# Minimum Spanning Tree Kruskal"
   ]
  },
  {
   "cell_type": "code",
   "execution_count": null,
   "metadata": {},
   "outputs": [],
   "source": []
  }
 ],
 "metadata": {
  "kernelspec": {
   "display_name": "Python 3",
   "language": "python",
   "name": "python3"
  },
  "language_info": {
   "codemirror_mode": {
    "name": "ipython",
    "version": 3
   },
   "file_extension": ".py",
   "mimetype": "text/x-python",
   "name": "python",
   "nbconvert_exporter": "python",
   "pygments_lexer": "ipython3",
   "version": "3.11.3"
  },
  "orig_nbformat": 4
 },
 "nbformat": 4,
 "nbformat_minor": 2
}
