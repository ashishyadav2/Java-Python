{
 "cells": [
  {
   "cell_type": "markdown",
   "metadata": {},
   "source": [
    "# Graph Fundamentals"
   ]
  },
  {
   "cell_type": "code",
   "execution_count": 14,
   "metadata": {},
   "outputs": [
    {
     "name": "stdout",
     "output_type": "stream",
     "text": [
      "[0, 0, 0, 0, 0, 0]\n",
      "[0, 0, 0, 1, 1, 1]\n",
      "[0, 0, 0, 1, 0, 1]\n",
      "[0, 1, 1, 0, 0, 0]\n",
      "[0, 1, 0, 0, 0, 0]\n",
      "[0, 1, 1, 0, 0, 0]\n"
     ]
    },
    {
     "data": {
      "text/plain": [
       "[None, None, None, None, None, None]"
      ]
     },
     "execution_count": 14,
     "metadata": {},
     "output_type": "execute_result"
    }
   ],
   "source": [
    "# to store graph in adjacency matrix undirected graph\n",
    "n  = 5\n",
    "m = 5\n",
    "mat = [[0 for _ in range(m+1)] for _ in range(n+1)]\n",
    "for i in range(m):\n",
    "    u,v = list(map(int,input(\"u, v: \").split(\" \")))\n",
    "    mat[u][v] = 1\n",
    "    mat[v][u] = 1\n",
    "[print(row) for row in mat]"
   ]
  },
  {
   "cell_type": "code",
   "execution_count": 23,
   "metadata": {},
   "outputs": [
    {
     "name": "stdout",
     "output_type": "stream",
     "text": [
      "defaultdict(<function <lambda> at 0x0000025DAF5459E0>, {1: [3, 4], 3: [1, 4, 2], 2: [5, 3], 5: [2], 4: [3, 1]})\n"
     ]
    }
   ],
   "source": [
    "# to store graph in adjacency list undirected graph\n",
    "from collections import defaultdict\n",
    "n  = 5\n",
    "m = 5\n",
    "vector = defaultdict(lambda : list())\n",
    "for i in range(m):\n",
    "    u,v = list(map(int,input(\"u, v: \").split(\" \")))\n",
    "    vector[u].append(v)\n",
    "    vector[v].append(u)   \n",
    "[print(f\"{key}-> {val}\") for key,val in sorted(vector.items(),key=lambda x: x[0])]"
   ]
  },
  {
   "cell_type": "code",
   "execution_count": 30,
   "metadata": {},
   "outputs": [
    {
     "name": "stdout",
     "output_type": "stream",
     "text": [
      "1-> [3, 4]\n",
      "2-> [5, 3]\n",
      "3-> [1, 4, 2]\n",
      "4-> [3, 1]\n",
      "5-> [2]\n"
     ]
    },
    {
     "data": {
      "text/plain": [
       "[None, None, None, None, None]"
      ]
     },
     "execution_count": 30,
     "metadata": {},
     "output_type": "execute_result"
    }
   ],
   "source": [
    "# to store graph in adjacency list directed graph\n",
    "from collections import defaultdict\n",
    "n  = 5\n",
    "m = 5\n",
    "vector = defaultdict(lambda : list())\n",
    "for i in range(m):\n",
    "    u,v = list(map(int,input(\"u, v: \").split(\" \")))\n",
    "    vector[u].append(v)\n",
    "[print(f\"{key}-> {val}\") for key,val in sorted(vector.items(),key=lambda x: x[0])]"
   ]
  },
  {
   "cell_type": "code",
   "execution_count": 31,
   "metadata": {},
   "outputs": [
    {
     "name": "stdout",
     "output_type": "stream",
     "text": [
      "1-> [(3, 50)]\n",
      "2-> [(5, 60)]\n",
      "3-> [(4, 25)]\n",
      "4-> [(1, 37)]\n",
      "5-> [(2, 12)]\n"
     ]
    },
    {
     "data": {
      "text/plain": [
       "[None, None, None, None, None]"
      ]
     },
     "execution_count": 31,
     "metadata": {},
     "output_type": "execute_result"
    }
   ],
   "source": [
    "# to store graph in adjacency list directed weighted graph\n",
    "from collections import defaultdict\n",
    "n  = 5\n",
    "m = 5\n",
    "vector = defaultdict(lambda : list())\n",
    "for i in range(m):\n",
    "    u,v, w = list(map(int,input(\"u, v: \").split(\" \")))\n",
    "    vector[u].append((v,w)) \n",
    "[print(f\"{key}-> {val}\") for key,val in sorted(vector.items(),key=lambda x: x[0])]"
   ]
  },
  {
   "cell_type": "markdown",
   "metadata": {},
   "source": [
    "# Clone a graph"
   ]
  },
  {
   "cell_type": "code",
   "execution_count": null,
   "metadata": {},
   "outputs": [],
   "source": [
    "#BFS\n",
    "# Definition for a Node.\n",
    "class Node:\n",
    "    def __init__(self, val=0, neighbors=None):\n",
    "        self.val = val\n",
    "        self.neighbors = neighbors if neighbors is not None else []\n",
    "from collections import deque\n",
    "class Solution:\n",
    "    def cloneGraph(self, node: 'Node') -> 'Node':\n",
    "        # Algorithm/Intuition:\n",
    "        # The code implements a graph traversal algorithm using Breadth-First Search (BFS)\n",
    "        # to clone the given graph. It maintains a dictionary 'd' to map original nodes to their\n",
    "        # corresponding clones. The BFS process ensures that all nodes and their neighbors are cloned.\n",
    "\n",
    "        if not node:\n",
    "            return None\n",
    "        \n",
    "        q = deque()\n",
    "        d = {}\n",
    "        \n",
    "        q.append(node)  # Initialize the queue with the root node of the original graph.\n",
    "        d[node] = Node(node.val)  # Create the clone of the root node and add it to the dictionary.\n",
    "\n",
    "        while q:\n",
    "            vertex = q.popleft()  # Dequeue a node from the queue.\n",
    "            copy = d[vertex]  # Get the corresponding clone of the dequeued node.\n",
    "            \n",
    "            for neighbor in vertex.neighbors:  # Iterate through the neighbors of the dequeued node.\n",
    "                if neighbor not in d:  # If the neighbor is not cloned yet, create a new clone for it.\n",
    "                    d[neighbor] = Node(neighbor.val)\n",
    "                    q.append(neighbor)  # Add the neighbor to the queue for BFS traversal.\n",
    "                \n",
    "                copy.neighbors.append(d[neighbor])  # Add the cloned neighbor to the cloned node's neighbors.\n",
    "\n",
    "        return d[node]  # Return the root node of the cloned graph.\n",
    "    \n",
    "# Short Point Wise Hints:\n",
    "# - The `cloneGraph` function uses BFS to clone the given graph represented by the `Node` class.\n",
    "# - It maintains a dictionary `d` to map original nodes to their corresponding clones.\n",
    "# - The BFS process ensures that all nodes and their neighbors are cloned and connected in the new graph.\n",
    "# - The function returns the root node of the cloned graph."
   ]
  },
  {
   "cell_type": "code",
   "execution_count": null,
   "metadata": {},
   "outputs": [],
   "source": [
    "#DFS\n",
    "\n",
    "# Algorithm/Intuition:\n",
    "# The code implements a graph traversal algorithm using Depth-First Search (DFS)\n",
    "# to clone the given graph. It maintains a dictionary 'hmap' to map original nodes\n",
    "# to their corresponding clones. The DFS process ensures that all nodes and their\n",
    "# neighbors are cloned.\n",
    "\n",
    "# Definition for a Node.\n",
    "class Node:\n",
    "    def __init__(self, val=0, neighbors=None):\n",
    "        self.val = val\n",
    "        self.neighbors = neighbors if neighbors is not None else []\n",
    "\n",
    "class Solution:\n",
    "    def cloneGraph(self, node: 'Node') -> 'Node':\n",
    "\n",
    "        if not node:\n",
    "            return None\n",
    "        \n",
    "        hmap = {}  # Initialize a dictionary to map original nodes to their clones.\n",
    "\n",
    "        def DFS(node):\n",
    "            if node in hmap:  # If the node is already cloned, return its clone from the dictionary.\n",
    "                return hmap[node]\n",
    "            \n",
    "            # Create a new clone for the current node and add it to the dictionary.\n",
    "            copy = Node(node.val)\n",
    "            hmap[node] = copy\n",
    "\n",
    "            for neighbor in node.neighbors:  # Iterate through the neighbors of the current node.\n",
    "                copy.neighbors.append(DFS(neighbor))  # Add the cloned neighbor to the cloned node's neighbors.\n",
    "\n",
    "            return copy\n",
    "\n",
    "        return DFS(node)  # Return the root node of the cloned graph.\n",
    "\n",
    "# Short Point Wise Hints:\n",
    "# - The `cloneGraph` function uses DFS to clone the given graph represented by the `Node` class.\n",
    "# - It maintains a dictionary `hmap` to map original nodes to their corresponding clones.\n",
    "# - The DFS process ensures that all nodes and their neighbors are cloned and connected in the new graph.\n",
    "# - The function returns the root node of the cloned graph."
   ]
  },
  {
   "cell_type": "markdown",
   "metadata": {},
   "source": [
    "# DFS"
   ]
  },
  {
   "cell_type": "code",
   "execution_count": null,
   "metadata": {},
   "outputs": [],
   "source": [
    "# Algorithm/Intuition:\n",
    "# 1. The given code is an implementation of Depth-First Search (DFS) on a graph represented using an adjacency list.\n",
    "# 2. The function `dfsOfGraph` is the main function that initiates the DFS traversal, and it returns a list containing the DFS traversal of the graph.\n",
    "# 3. The DFS algorithm is implemented recursively in the function `dfs`.\n",
    "# 4. The `dfs` function starts from a given `node`, marks it as visited, and appends it to the `ans` list representing the DFS traversal.\n",
    "# 5. It then recursively explores all the unvisited neighbors of the current node and performs DFS on them.\n",
    "\n",
    "from collections import deque\n",
    "\n",
    "class Solution:\n",
    "    \n",
    "    # Function to return a list containing the DFS traversal of the graph.\n",
    "    def dfsOfGraph(self, v, adj):\n",
    "        ans = []          # List to store the DFS traversal\n",
    "        visited = [0] * v # A list to keep track of visited nodes (0 - unvisited, 1 - visited)\n",
    "        self.dfs(0, ans, adj, visited) # Start DFS from node 0 (could be any starting node)\n",
    "        return ans\n",
    "        \n",
    "    def dfs(self, node, ans, adj, visited):\n",
    "        visited[node] = 1 # Mark the current node as visited\n",
    "        ans.append(node)  # Append the current node to the DFS traversal list\n",
    "\n",
    "        # Explore all unvisited neighbors of the current node\n",
    "        for neighbor in adj[node]:\n",
    "            if visited[neighbor] == 0: # If the neighbor is unvisited\n",
    "                visited[neighbor] = 1 # Mark it as visited\n",
    "                self.dfs(neighbor, ans, adj, visited) # Recursively perform DFS on the neighbor\n",
    "\n",
    "        # The function returns implicitly without any meaningful value\n",
    "        # because the DFS traversal is constructed in the 'ans' list.\n",
    "\n",
    "        # The DFS traversal is now stored in the 'ans' list.\n",
    "        # The control flow will automatically return to the previous level of recursion\n",
    "        # where other unvisited neighbors will be explored, if any.\n",
    "\n",
    "# Short Point-Wise Hints to Solve the Code:\n",
    "# 1. Understand the problem: The goal is to perform DFS traversal on a graph represented using an adjacency list.\n",
    "# 2. Create a function to initiate the DFS traversal: Implement the `dfsOfGraph` function that takes the number of vertices `v` and the adjacency list `adj` as input.\n",
    "# 3. Initialize the required variables: Create a list `ans` to store the DFS traversal and a list `visited` to keep track of visited nodes.\n",
    "# 4. Start DFS from a node: Begin the DFS by calling the `dfs` function with the starting node (e.g., 0) as the input.\n",
    "# 5. Implement the DFS function: In the `dfs` function, mark the current node as visited, append it to the `ans` list, and then recursively explore all unvisited neighbors.\n",
    "# 6. Handle the base case: Ensure that the DFS function doesn't continue for already visited nodes by checking the `visited` list before exploring any neighbor.\n",
    "# 7. Return the DFS traversal: The `dfsOfGraph` function returns the DFS traversal stored in the `ans` list."
   ]
  },
  {
   "cell_type": "markdown",
   "metadata": {},
   "source": [
    "# BFS"
   ]
  },
  {
   "cell_type": "code",
   "execution_count": null,
   "metadata": {},
   "outputs": [],
   "source": [
    "# **Algorithm/Intuition:**\n",
    "# This Python code defines a class `Solution` that contains a method `bfsOfGraph`, which performs a Breadth-First Traversal on a given graph represented as an adjacency list. The Breadth-First Traversal visits all the vertices in the graph, starting from the specified initial vertex (vertex 0 in this case), and explores its neighbors level by level.\n",
    "\n",
    "from typing import List\n",
    "from collections import deque\n",
    "\n",
    "class Solution:\n",
    "    # Function to return Breadth First Traversal of a given graph.\n",
    "    def bfsOfGraph(self, v: int, adj: List[List[int]]) -> List[int]:\n",
    "        # Create a list to track visited vertices. Initialize with zeros.\n",
    "        visited = [0] * v\n",
    "        visited[0] = 1  # Mark the starting vertex (vertex 0) as visited.\n",
    "\n",
    "        ans = []  # Initialize an empty list to store the BFS traversal.\n",
    "        q = deque()  # Create a deque to use as the queue for BFS.\n",
    "        q.append(0)  # Add the starting vertex to the queue.\n",
    "\n",
    "        while q:\n",
    "            node = q.popleft()  # Dequeue the front node from the queue.\n",
    "            ans.append(node)  # Append the dequeued node to the result list.\n",
    "\n",
    "            # Explore all neighbors of the dequeued node.\n",
    "            for neighbor in adj[node]:\n",
    "                if visited[neighbor] == 0:  # If the neighbor is not visited,\n",
    "                    q.append(neighbor)  # enqueue it to the queue,\n",
    "                    visited[neighbor] = 1  # mark it as visited.\n",
    "\n",
    "        return ans  # Return the resulting BFS traversal of the graph.\n",
    "\n",
    "# **Hints:**\n",
    "# - The method `bfsOfGraph` performs a Breadth-First Traversal on an input graph represented as an adjacency list (`adj`).\n",
    "# - The method starts the traversal from vertex 0 by marking it as visited and enqueuing it in the queue `q`.\n",
    "# - The `q` deque serves as a queue to maintain the BFS traversal order.\n",
    "# - During the traversal, each node is dequeued from the front of the queue, and its unvisited neighbors are enqueued, continuing until the queue is empty.\n",
    "# - The `visited` list helps prevent revisiting already explored nodes and ensures the algorithm terminates correctly."
   ]
  },
  {
   "cell_type": "markdown",
   "metadata": {},
   "source": [
    "# Detect A cycle in Undirected Graph using BFS"
   ]
  },
  {
   "cell_type": "code",
   "execution_count": null,
   "metadata": {},
   "outputs": [],
   "source": [
    "# Algorithm/Intuition:\n",
    "# 1. The given code aims to detect cycles in an undirected graph using a BFS-based approach.\n",
    "# 2. The function `isCycle` iterates through all vertices of the graph, and if a vertex is not visited, it calls the `BFS` function to check for a cycle starting from that vertex.\n",
    "# 3. The `BFS` function performs a breadth-first search starting from the given `node`, and it maintains a `visited` array to mark nodes that have been visited.\n",
    "# 4. During the BFS, the function explores each unvisited neighbor of the current node. If a neighbor is already visited and not the parent node, it means there is a cycle in the graph.\n",
    "\n",
    "from typing import List\n",
    "from collections import deque\n",
    "\n",
    "class Solution:\n",
    "    # Function to detect cycle in an undirected graph.\n",
    "    def isCycle(self, v: int, adj: List[List[int]]) -> bool:\n",
    "        visited = [0] * v  # Initialize an array to keep track of visited nodes\n",
    "        for i in range(v):  # Loop through all vertices of the graph\n",
    "            if visited[i] == 0:  # If the vertex is not visited, start BFS from that vertex\n",
    "                if self.BFS(i, visited, adj) == True:  # If BFS detects a cycle, return True\n",
    "                    return True\n",
    "        return False  # If no cycle is found after BFS, return False\n",
    "\n",
    "    def BFS(self, node, visited, adj):\n",
    "        q = deque()  # Initialize a deque (double-ended queue) for BFS traversal\n",
    "        q.append((node, -1))  # Add the current node to the queue along with its parent as -1\n",
    "        visited[node] = 1  # Mark the current node as visited\n",
    "        while q:  # Start BFS traversal using the queue\n",
    "            node, parent = q.popleft()  # Get the front element from the queue\n",
    "            for neighbor in adj[node]:  # Iterate through all neighbors of the current node\n",
    "                if visited[neighbor] == 0:  # If the neighbor is unvisited\n",
    "                    q.append((neighbor, node))  # Add the neighbor to the queue with its parent as the current node\n",
    "                    visited[neighbor] = 1  # Mark the neighbor as visited\n",
    "                elif parent != neighbor:  # If the neighbor is already visited and not the parent node\n",
    "                    return True  # A cycle is found, return True\n",
    "        return False  # If BFS traversal completes without finding a cycle, return False\n",
    "\n",
    "# Short Point-Wise Hints to Understand the Code:\n",
    "# 1. The `isCycle` function takes the number of vertices (`v`) and the adjacency list (`adj`) representing the undirected graph.\n",
    "# 2. It uses a BFS-based approach to detect cycles in the graph.\n",
    "# 3. The BFS function starts BFS from a given `node` and checks if any cycle is present in the graph reachable from that node.\n",
    "# 4. The function maintains a `visited` array to keep track of visited nodes during BFS.\n",
    "# 5. If a node is already visited and not the parent node, it means there is a cycle in the graph, and the `isCycle` function returns `True`.\n",
    "# 6. If no cycle is found during BFS, the function returns `False`."
   ]
  },
  {
   "cell_type": "markdown",
   "metadata": {},
   "source": [
    "# Detect A cycle in Undirected Graph using DFS"
   ]
  },
  {
   "cell_type": "code",
   "execution_count": null,
   "metadata": {},
   "outputs": [],
   "source": [
    "# Algorithm/Intuition:\n",
    "# 1. The given code aims to detect cycles in an undirected graph using a DFS-based approach.\n",
    "# 2. The function `isCycle` iterates through all vertices of the graph, and if a vertex is not visited, it calls the `DFS` function to check for a cycle starting from that vertex.\n",
    "# 3. The `DFS` function performs a depth-first search (DFS) starting from the given `node` and it maintains a `visited` array to mark nodes that have been visited.\n",
    "# 4. During the DFS traversal, the function explores each unvisited neighbor of the current node. If a neighbor is already visited and not the parent node, it means there is a cycle in the graph.\n",
    "\n",
    "from typing import List\n",
    "from collections import deque\n",
    "\n",
    "class Solution:\n",
    "    # Function to detect cycle in an undirected graph.\n",
    "    def isCycle(self, v: int, adj: List[List[int]]) -> bool:\n",
    "        visited = [0] * v  # Initialize an array to keep track of visited nodes\n",
    "        for i in range(v):  # Loop through all vertices of the graph\n",
    "            if visited[i] == 0:  # If the vertex is not visited, start DFS from that vertex\n",
    "                if self.DFS(i, visited, adj, -1) == True:  # If DFS detects a cycle, return True\n",
    "                    return True\n",
    "        return False  # If no cycle is found after DFS, return False\n",
    "\n",
    "    def DFS(self, node, visited, adj, parent):\n",
    "        visited[node] = 1  # Mark the current node as visited\n",
    "        for neighbor in adj[node]:  # Iterate through all neighbors of the current node\n",
    "            if visited[neighbor] == 0:  # If the neighbor is unvisited\n",
    "                if self.DFS(neighbor, visited, adj, node) == True:  # Recursively perform DFS on the neighbor\n",
    "                    return True  # If a cycle is found during DFS, return True\n",
    "            elif parent != neighbor:  # If the neighbor is already visited and not the parent node\n",
    "                return True  # A cycle is found, return True\n",
    "        return False  # If DFS traversal completes without finding a cycle, return False\n",
    "\n",
    "# Short Point-Wise Hints to Understand the Code:\n",
    "# 1. The `isCycle` function takes the number of vertices (`v`) and the adjacency list (`adj`) representing the undirected graph.\n",
    "# 2. It uses a DFS-based approach to detect cycles in the graph.\n",
    "# 3. The DFS function starts DFS from a given `node` and checks if any cycle is present in the graph reachable from that node.\n",
    "# 4. The function maintains a `visited` array to keep track of visited nodes during DFS.\n",
    "# 5. If a node is already visited and not the parent node, it means there is a cycle in the graph, and the `isCycle` function returns `True`.\n",
    "# 6. If no cycle is found during DFS, the function returns `False`."
   ]
  },
  {
   "cell_type": "markdown",
   "metadata": {},
   "source": [
    "# Detect A cycle in Directed Graph using DFS"
   ]
  },
  {
   "cell_type": "code",
   "execution_count": null,
   "metadata": {},
   "outputs": [],
   "source": [
    "# Algorithm/Intuition:\n",
    "# 1. The given code aims to detect cycles in a directed graph using a modified DFS-based approach.\n",
    "# 2. The function `isCyclic` iterates through all vertices of the graph, and if a vertex is not visited, it calls the `DFS` function to check for a cycle starting from that vertex.\n",
    "# 3. The `DFS` function performs a depth-first search (DFS) starting from the given `node`. It maintains two arrays, `visited` and `visitedDFS`, to mark nodes that have been visited. `visited` keeps track of nodes visited during the DFS traversal, and `visitedDFS` marks nodes that are currently part of the DFS recursion stack.\n",
    "# 4. During the DFS traversal, the function explores each unvisited neighbor of the current node. If a neighbor is already visited and is part of the current DFS recursion stack, it indicates a cycle in the graph.\n",
    "\n",
    "class Solution:\n",
    "    # Function to detect cycle in a directed graph.\n",
    "    def isCyclic(self, v, adj):\n",
    "        visited = [0] * v          # Initialize an array to keep track of nodes visited during DFS\n",
    "        visitedDFS = [0] * v       # Initialize an array to keep track of nodes currently in DFS recursion stack\n",
    "        for i in range(v):         # Loop through all vertices of the graph\n",
    "            if self.DFS(visited, visitedDFS, adj, i) == True:  # If DFS detects a cycle, return True\n",
    "                return True\n",
    "        return False               # If no cycle is found after DFS, return False\n",
    "\n",
    "    def DFS(self, visited, visitedDFS, adj, node):\n",
    "        visited[node] = 1           # Mark the current node as visited\n",
    "        visitedDFS[node] = 1        # Mark the current node as part of the current DFS recursion stack\n",
    "        for neighbor in adj[node]:  # Iterate through all neighbors of the current node\n",
    "            if visited[neighbor] == 0:  # If the neighbor is unvisited\n",
    "                if self.DFS(visited, visitedDFS, adj, neighbor) == True:  # Recursively perform DFS on the neighbor\n",
    "                    return True  # If a cycle is found during DFS, return True\n",
    "            elif visitedDFS[neighbor] == 1:  # If the neighbor is part of the current DFS recursion stack\n",
    "                return True  # A cycle is found, return True\n",
    "        visitedDFS[node] = 0       # Mark the current node as not part of the current DFS recursion stack\n",
    "        return False  # If DFS traversal completes without finding a cycle, return False\n",
    "\n",
    "# Short Point-Wise Hints to Understand the Code:\n",
    "# 1. The `isCyclic` function takes the number of vertices (`v`) and the adjacency list (`adj`) representing the directed graph.\n",
    "# 2. It uses a modified DFS-based approach to detect cycles in the graph.\n",
    "# 3. The DFS function starts DFS from a given `node` and checks if any cycle is present in the graph reachable from that node.\n",
    "# 4. The function maintains two arrays, `visited` and `visitedDFS`, to keep track of visited nodes during DFS and nodes currently in the DFS recursion stack, respectively.\n",
    "# 5. If a node is already part of the current DFS recursion stack, it means there is a cycle in the graph, and the `isCyclic` function returns `True`.\n",
    "# 6. If no cycle is found during DFS, the function returns `False`."
   ]
  },
  {
   "cell_type": "markdown",
   "metadata": {},
   "source": [
    "# Detect A cycle in Directed Graph using BFS"
   ]
  },
  {
   "cell_type": "code",
   "execution_count": null,
   "metadata": {},
   "outputs": [],
   "source": [
    "# Algorithm/Intuition:\n",
    "# 1. The given code detects cycles in a directed graph using the topological sort approach.\n",
    "# 2. It performs a BFS-based topological sort on the directed graph.\n",
    "# 3. The algorithm starts by calculating the indegree (number of incoming edges) for each node in the graph.\n",
    "# 4. Nodes with an indegree of 0 (no incoming edges) are initially added to the queue.\n",
    "# 5. The algorithm processes nodes in the queue one by one. For each node processed, its neighbors' indegree is decremented since the node is now considered visited.\n",
    "# 6. Any neighbor with an updated indegree of 0 (i.e., no more incoming edges) is then added to the queue to be processed later.\n",
    "# 7. This process continues until all nodes are processed, and the resulting `topo_order` list represents a valid topological ordering of the graph.\n",
    "# 8. If a cycle exists in the graph, not all nodes can be included in the topological order, so the function returns `True` in that case.\n",
    "\n",
    "from collections import deque\n",
    "\n",
    "class Solution:\n",
    "    # Function to detect cycle in a directed graph.\n",
    "    def isCyclic(self, v, adj):\n",
    "        topo_order = []     # List to store the resulting topological order\n",
    "        q = deque()         # Initialize a deque (double-ended queue) for BFS traversal\n",
    "        indegree = [0] * v  # List to store the indegree of each node (number of incoming edges)\n",
    "\n",
    "        # Calculate the indegree of each node\n",
    "        for node in adj:\n",
    "            for neighbour in node:\n",
    "                indegree[neighbour] += 1\n",
    "\n",
    "        # Find all nodes with an indegree of 0 (no incoming edges) and add them to the queue\n",
    "        for node, deg in enumerate(indegree):\n",
    "            if deg == 0:\n",
    "                q.append(node)\n",
    "\n",
    "        # Perform BFS-based topological sort\n",
    "        while q:\n",
    "            node = q.popleft()        # Get the front element from the queue\n",
    "            topo_order.append(node)   # Append the current node to the topological order list\n",
    "\n",
    "            for neighbour in adj[node]:   # Iterate through all neighbors of the current node\n",
    "                indegree[neighbour] -= 1  # Reduce the indegree of the neighbor\n",
    "\n",
    "                # If the indegree of the neighbor becomes 0 (no more incoming edges), add it to the queue\n",
    "                if indegree[neighbour] == 0:\n",
    "                    q.append(neighbour)\n",
    "\n",
    "        return len(topo_order) < v  # Return True if cycle exists (topo_order has fewer nodes than v)\n",
    "\n",
    "# Short Point-Wise Hints to Understand the Code:\n",
    "# 1. The `isCyclic` function takes the number of vertices (`v`) and the adjacency list (`adj`) representing the directed graph.\n",
    "# 2. It uses a BFS-based approach to perform topological sort on the graph.\n",
    "# 3. The algorithm calculates the indegree of each node, which represents the number of incoming edges for each node.\n",
    "# 4. Nodes with no incoming edges (indegree = 0) are initially added to the queue.\n",
    "# 5. The BFS process starts from nodes with no dependencies and explores neighbors, decrementing their indegree.\n",
    "# 6. If a neighbor's indegree becomes 0 (no more incoming edges), it is added to the queue for processing.\n",
    "# 7. The process continues until all nodes are processed, and the resulting list represents a valid topological order.\n",
    "# 8. The function returns `True` if the graph contains a cycle, which means not all nodes can be included in the topological order."
   ]
  },
  {
   "cell_type": "markdown",
   "metadata": {},
   "source": [
    "# Topological Sort BFS"
   ]
  },
  {
   "cell_type": "code",
   "execution_count": 2,
   "metadata": {},
   "outputs": [
    {
     "name": "stdout",
     "output_type": "stream",
     "text": [
      "[]\n"
     ]
    }
   ],
   "source": [
    "# Algorithm/Intuition:\n",
    "# 1. The given code performs a Topological Sort on a directed graph represented using an adjacency list.\n",
    "# 2. It utilizes the Breadth-First Search (BFS) approach to perform the topological sort.\n",
    "# 3. The algorithm starts by calculating the indegree (number of incoming edges) for each node in the graph.\n",
    "# 4. Nodes with an indegree of 0 (no incoming edges) are initially added to a queue.\n",
    "# 5. The algorithm processes nodes in the queue one by one. For each node processed, its neighbors' indegree is decremented since the node is now considered visited.\n",
    "# 6. Any neighbor with an updated indegree of 0 (i.e., no more incoming edges) is then added to the queue to be processed later.\n",
    "# 7. This process continues until all nodes are processed, and the resulting `topo_order` list represents a valid topological ordering of the graph.\n",
    "\n",
    "from collections import deque\n",
    "\n",
    "class Solution:\n",
    "    def topoSort(self, v, adj):\n",
    "        topo_order = []     # List to store the resulting topological order\n",
    "        q = deque()         # Initialize a deque (double-ended queue) for BFS traversal\n",
    "        indegree = [0] * v  # List to store the indegree of each node (number of incoming edges)\n",
    "\n",
    "        # Calculate the indegree of each node\n",
    "        for node in adj:\n",
    "            for neighbour in node:\n",
    "                indegree[neighbour] += 1\n",
    "\n",
    "        # Find all nodes with an indegree of 0 (no incoming edges) and add them to the queue\n",
    "        for node, deg in enumerate(indegree):\n",
    "            if deg == 0:\n",
    "                q.append(node)\n",
    "\n",
    "        # Perform BFS-based topological sort\n",
    "        while q:\n",
    "            node = q.popleft()        # Get the front element from the queue\n",
    "            topo_order.append(node)   # Append the current node to the topological order list\n",
    "\n",
    "            for neighbour in adj[node]:   # Iterate through all neighbors of the current node\n",
    "                indegree[neighbour] -= 1  # Reduce the indegree of the neighbor\n",
    "\n",
    "                # If the indegree of the neighbor becomes 0 (no more incoming edges), add it to the queue\n",
    "                if indegree[neighbour] == 0:\n",
    "                    q.append(neighbour)\n",
    "\n",
    "        return topo_order   # Return the topological ordering of the graph\n",
    "    \n",
    "# Short Point-Wise Hints to Understand the Code:\n",
    "# 1. The `topoSort` function takes the number of vertices (`v`) and the adjacency list (`adj`) representing the directed graph.\n",
    "# 2. It uses a BFS-based approach to perform topological sort on the graph.\n",
    "# 3. The algorithm calculates the indegree of each node, which represents the number of incoming edges for each node.\n",
    "# 4. Nodes with no incoming edges (indegree = 0) are initially added to the queue.\n",
    "# 5. The BFS process starts from nodes with no dependencies and explores neighbors, decrementing their indegree.\n",
    "# 6. If a neighbor's indegree becomes 0 (no more incoming edges), it is added to the queue for processing.\n",
    "# 7. The process continues until all nodes are processed, and the resulting list represents a valid topological order."
   ]
  },
  {
   "cell_type": "markdown",
   "metadata": {},
   "source": [
    "# Topological Sort DFS"
   ]
  },
  {
   "cell_type": "code",
   "execution_count": null,
   "metadata": {},
   "outputs": [],
   "source": [
    "# Algorithm/Intuition:\n",
    "# 1. The given code aims to perform a Topological Sort on a directed graph using a Depth-First Search (DFS) approach.\n",
    "# 2. The `topoSort` function iterates through all nodes in the graph.\n",
    "# 3. For each unvisited node encountered, the `DFS` function is called to start DFS from that node and perform the topological sort.\n",
    "# 4. The `DFS` function recursively explores all unvisited neighbors of the current node and adds the current node to the `stack` after visiting all its neighbors.\n",
    "# 5. After visiting all nodes in the graph, the `stack` contains the topological ordering, but it is in reverse order. The function returns the reversed `stack` to get the correct topological order.\n",
    "\n",
    "class Solution:\n",
    "    def topoSort(self, v, adj):\n",
    "        stack = []        # Initialize a list to store the topological order (using a stack for reversed order)\n",
    "        visited = [0] * v # Initialize an array to keep track of visited nodes\n",
    "        for node in range(v):\n",
    "            if visited[node] == 0:   # Check if the node is unvisited\n",
    "                self.DFS(node, visited, stack, adj)  # Start DFS from unvisited nodes\n",
    "\n",
    "        return list(reversed(stack))  # Reversed stack to get the correct topological order\n",
    "\n",
    "    def DFS(self, node, visited, stack, adj):\n",
    "        visited[node] = 1   # Mark the current node as visited\n",
    "        for neighbour in adj[node]:  # Explore all neighbors of the current node\n",
    "            if visited[neighbour] == 0:  # If the neighbor is unvisited\n",
    "                self.DFS(neighbour, visited, stack, adj)  # Recursively perform DFS on the neighbor\n",
    "        stack.append(node)   # Add the current node to the stack after visiting all its neighbors\n",
    "\n",
    "# Short Point-Wise Hints to Understand the Code:\n",
    "# 1. The `topoSort` function takes the number of vertices (`v`) and the adjacency list (`adj`) representing the directed graph.\n",
    "# 2. It uses a DFS-based approach to perform topological sort on the graph.\n",
    "# 3. The `visited` array is used to keep track of visited nodes during DFS traversal.\n",
    "# 4. The function starts DFS from each unvisited node, ensuring that all nodes are considered.\n",
    "# 5. During DFS, the algorithm explores all neighbors of the current node and recursively performs DFS on unvisited neighbors.\n",
    "# 6. The order in which nodes are added to the `stack` is important for topological sort, so the `stack` stores the topological order in a reversed manner.\n",
    "# 7. The function returns the reversed `stack`, which represents the correct topological order of the graph."
   ]
  },
  {
   "cell_type": "markdown",
   "metadata": {},
   "source": [
    "# Number of islands Matrix and graph method"
   ]
  },
  {
   "cell_type": "code",
   "execution_count": null,
   "metadata": {},
   "outputs": [],
   "source": [
    "# Algorithm/Intuition:\n",
    "# 1. The given code is an implementation of the \"Number of Islands\" problem. The problem involves finding the number of connected regions (islands) in a 2D grid where '1' represents land and '0' represents water.\n",
    "# 2. The code uses a depth-first search (DFS) approach to traverse and mark all the connected '1's in the grid that form an island.\n",
    "# 3. The DFS function 'fun' recursively explores the adjacent cells to identify the complete island and marks all the visited land cells with '0' to avoid counting the same island multiple times.\n",
    "# 4. The main function iterates through the grid and calls the 'fun' function whenever it finds a land cell ('1') to count the number of islands.\n",
    "\n",
    "class Solution:\n",
    "    def numIslands(self, grid: List[List[str]]) -> int:\n",
    "        if not grid:\n",
    "            return 0\n",
    "\n",
    "        def fun(row, col):\n",
    "            # Base case and boundary check\n",
    "            if row < 0 or row >= rowlen or col < 0 or col >= collen or grid[row][col] != '1':\n",
    "                return\n",
    "\n",
    "            # Mark the current cell as visited by setting it to '0'\n",
    "            grid[row][col] = '0'\n",
    "\n",
    "            # Recursive DFS to explore adjacent cells\n",
    "            fun(row + 1, col)  # Explore down\n",
    "            fun(row - 1, col)  # Explore up\n",
    "            fun(row, col + 1)  # Explore right\n",
    "            fun(row, col - 1)  # Explore left\n",
    "\n",
    "        rowlen = len(grid)\n",
    "        collen = len(grid[0])\n",
    "        count = 0\n",
    "\n",
    "        # Iterate through the grid to find islands\n",
    "        for i in range(rowlen):\n",
    "            for j in range(collen):\n",
    "                if grid[i][j] == '1':\n",
    "                    # If a land cell is found, start DFS to identify the island\n",
    "                    fun(i, j)\n",
    "                    count += 1  # Increment the island count\n",
    "\n",
    "        return count\n",
    "\n",
    "# Short Point-Wise Hints to Solve the Code:\n",
    "# 1. Understand the problem: Read and understand the problem statement, which is to find the number of islands in a 2D grid.\n",
    "# 2. Implement a DFS function: Define a function that takes the row and column as parameters and performs a depth-first search to identify the complete island and mark all visited land cells.\n",
    "# 3. Iterate through the grid: Use two nested loops to traverse each cell in the grid.\n",
    "# 4. Identify islands: Whenever a land cell ('1') is encountered, call the DFS function to explore and mark the connected cells forming an island.\n",
    "# 5. Count islands: Increment a counter variable each time a new island is identified during the traversal.\n",
    "# 6. Return the count: After the traversal is complete, return the count of islands as the final result."
   ]
  },
  {
   "cell_type": "markdown",
   "metadata": {},
   "source": [
    "# Bipartite Check using BFS"
   ]
  },
  {
   "cell_type": "code",
   "execution_count": null,
   "metadata": {},
   "outputs": [],
   "source": [
    "# **Algorithm/Intuition:**\n",
    "# The code checks whether the given graph is bipartite or not using a Breadth-First Search (BFS) approach. A graph is considered bipartite if its vertices can be divided into two disjoint sets such that all edges are between the two sets.\n",
    "\n",
    "# - The `isBipartite` function iterates through all the nodes of the graph and performs a BFS from unvisited nodes, starting with color 0. It returns `True` if all connected components of the graph are bipartite; otherwise, it returns `False`.\n",
    "# - The `BFS` function is a recursive helper function used to perform the BFS traversal. It assigns colors (0 or 1) to nodes and explores their neighbors with the opposite color, maintaining the bipartite property.\n",
    "\n",
    "class Solution:\n",
    "    def isBipartite(self, graph: List[List[int]]) -> bool:\n",
    "        v = len(graph)\n",
    "        visited = [-1] * v  # Initialize the visited array to -1, indicating unvisited nodes.\n",
    "        q = deque()  # Create an empty deque to use in the BFS traversal.\n",
    "\n",
    "        for i in range(v):\n",
    "            if visited[i] == -1:  # If the current node is unvisited, start a BFS from it.\n",
    "                if not self.BFS(i, graph, visited, q):  # Start BFS with color 0.\n",
    "                    return False\n",
    "        return True\n",
    "\n",
    "    def BFS(self, node, graph, visited, q):\n",
    "        visited[node] = 0  # Mark the current node with color 0 (could also be 1).\n",
    "        q.append((node, 0))  # Add the current node and its color to the queue.\n",
    "\n",
    "        while q:\n",
    "            node, color = q.popleft()  # Dequeue a node and its color from the queue.\n",
    "\n",
    "            for neighbour in graph[node]:  # Iterate through the neighbors of the current node.\n",
    "                if visited[neighbour] == -1:  # If the neighbour is unvisited, visit it with the opposite color.\n",
    "                    q.append((neighbour, 1 - color))  # Add the neighbour and its opposite color to the queue.\n",
    "                    visited[neighbour] = 1 - color  # Mark the neighbour with the opposite color.\n",
    "                elif visited[neighbour] == color:  # If the neighbour is visited and has the same color as the current node, the graph is not bipartite.\n",
    "                    return False\n",
    "\n",
    "        return True  # If all nodes can be visited without violating the bipartite condition, return True (graph is bipartite).\n",
    "\n",
    "\n",
    "# **Short Point Wise Hints:**\n",
    "# - The `isBipartite` function uses a BFS approach to check if the given graph is bipartite.\n",
    "# - It maintains the colors of nodes in the `visited` array: 0 for one color and 1 for the opposite color.\n",
    "# - The `BFS` function visits each node and its neighbors while ensuring the opposite color assignment for neighbors.\n",
    "# - If any neighbor is already visited and has the same color as the current node, the graph is not bipartite, and the function returns `False`.\n",
    "# - If all nodes can be visited without any color conflicts, the graph is bipartite, and the function returns `True`."
   ]
  },
  {
   "cell_type": "markdown",
   "metadata": {},
   "source": [
    "# Bipartite Check using DFS"
   ]
  },
  {
   "cell_type": "code",
   "execution_count": null,
   "metadata": {},
   "outputs": [],
   "source": [
    "# Algorithm/Intuition:\n",
    "# The given code implements a graph traversal algorithm using Depth-First Search (DFS)\n",
    "# to check whether the given graph is bipartite or not. A graph is considered bipartite\n",
    "# if its vertices can be divided into two disjoint sets such that all edges are between the two sets.\n",
    "# The DFS function performs a recursive depth-first search on the graph.\n",
    "# It assigns colors (0 or 1) to nodes and explores their neighbors with the opposite color,\n",
    "# while maintaining the bipartite property.\n",
    "\n",
    "class Solution:\n",
    "    def isBipartite(self, graph: List[List[int]]) -> bool:\n",
    "        v = len(graph)\n",
    "        visited = [-1] * v  # Initialize the visited array to -1, indicating unvisited nodes.\n",
    "\n",
    "        for i in range(v):\n",
    "            if visited[i] == -1:\n",
    "                if self.DFS(i, graph, visited, 0) == False:\n",
    "                    return False\n",
    "        return True\n",
    "\n",
    "    def DFS(self, node, graph, visited, color):\n",
    "\n",
    "        visited[node] = color  # Mark the current node with the given color.\n",
    "\n",
    "        for neighbour in graph[node]:\n",
    "            if visited[neighbour] == -1:\n",
    "                if self.DFS(neighbour, graph, visited, 1 - color) == False:\n",
    "                    return False\n",
    "            elif visited[neighbour] == visited[node]:\n",
    "                return False\n",
    "        return True  # If all nodes can be visited without violating the bipartite condition, return True (graph is bipartite).\n",
    "\n",
    "# Short Point Wise Hints:\n",
    "# - The `isBipartite` function uses a DFS approach to check if the given graph is bipartite.\n",
    "# - It maintains the colors of nodes in the `visited` array: 0 for one color and 1 for the opposite color.\n",
    "# - The `DFS` function visits each node and its neighbors while ensuring the opposite color assignment for neighbors.\n",
    "# - If any neighbor is already visited and has the same color as the current node, the graph is not bipartite, and the function returns `False`.\n",
    "# - If all nodes can be visited without any color conflicts, the graph is bipartite, and the function returns `True`."
   ]
  },
  {
   "cell_type": "code",
   "execution_count": 27,
   "metadata": {},
   "outputs": [],
   "source": [
    "# import requests\n",
    "# from bs4 import BeautifulSoup"
   ]
  },
  {
   "cell_type": "code",
   "execution_count": 28,
   "metadata": {},
   "outputs": [],
   "source": [
    "# response = requests.get('https://takeuforward.org/interviews/strivers-sde-sheet-top-coding-interview-problems/')\n",
    "# response.text"
   ]
  },
  {
   "cell_type": "code",
   "execution_count": 29,
   "metadata": {},
   "outputs": [],
   "source": [
    "# soup = BeautifulSoup(response.content,'html.parser')\n",
    "# problem_titles = []\n",
    "# titles = soup.find_all('tr')\n",
    "# for i in titles:\n",
    "#     temp = i.find_all('td')\n",
    "#     if len(temp)>1:\n",
    "#         problem_titles.append(\"# \"+''.join([t.text for t in temp[1]]))\n",
    "# problem_titles"
   ]
  }
 ],
 "metadata": {
  "kernelspec": {
   "display_name": "Python 3",
   "language": "python",
   "name": "python3"
  },
  "language_info": {
   "codemirror_mode": {
    "name": "ipython",
    "version": 3
   },
   "file_extension": ".py",
   "mimetype": "text/x-python",
   "name": "python",
   "nbconvert_exporter": "python",
   "pygments_lexer": "ipython3",
   "version": "3.11.3"
  },
  "orig_nbformat": 4
 },
 "nbformat": 4,
 "nbformat_minor": 2
}
