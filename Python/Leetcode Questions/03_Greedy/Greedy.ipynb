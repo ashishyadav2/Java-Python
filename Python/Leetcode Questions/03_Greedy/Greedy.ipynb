{
 "cells": [
  {
   "cell_type": "markdown",
   "id": "ac2a159d",
   "metadata": {},
   "source": [
    "# N meetings in one room"
   ]
  },
  {
   "cell_type": "code",
   "execution_count": 2,
   "id": "2d05be28",
   "metadata": {},
   "outputs": [],
   "source": [
    "def maximumMeetings(self, n, start, end):\n",
    "    # Convert start and end arrays into a list of tuples\n",
    "    array = list(zip(start, end))\n",
    "    \n",
    "    # Sort the list of tuples based on the second element (end time)\n",
    "    array.sort(key=lambda x: x[1])\n",
    "    \n",
    "    # Initialize variables\n",
    "    prevend = array[0][1]  # Set the end time of the first meeting\n",
    "    count = 1  # Count the number of meetings\n",
    "    \n",
    "    # Iterate over the remaining meetings\n",
    "    for i in range(1, n):\n",
    "        # Get the start and end time of the current meeting\n",
    "        start, end = array[i][0], array[i][1]\n",
    "        \n",
    "        # Check if the current meeting starts after the previous meeting ends\n",
    "        if start > prevend:\n",
    "            prevend = end  # Update the end time of the previous meeting\n",
    "            count += 1  # Increment the meeting count\n",
    "    \n",
    "    return count  # Return the total number of meetings\n"
   ]
  },
  {
   "cell_type": "markdown",
   "id": "ab42cb6f",
   "metadata": {},
   "source": [
    "# Minimum Platforms"
   ]
  },
  {
   "cell_type": "code",
   "execution_count": 3,
   "id": "39665d76",
   "metadata": {},
   "outputs": [],
   "source": [
    "def minimumPlatform(self, n, arr, dep):\n",
    "    # Sort the arrival and departure arrays in ascending order\n",
    "    arr.sort()\n",
    "    dep.sort()\n",
    "    \n",
    "    i = 1  # Index for the arrival array\n",
    "    j = 0  # Index for the departure array\n",
    "    \n",
    "    maxi = 1  # Maximum number of platforms required\n",
    "    plat = 1  # Current number of platforms\n",
    "    \n",
    "    # Iterate until both arrays are traversed completely\n",
    "    while i < n and j < n:\n",
    "        # If the current train arrives before or at the same time as the previous train departs\n",
    "        if arr[i] <= dep[j]:\n",
    "            plat += 1  # Increment the number of platforms\n",
    "            i += 1  # Move to the next arrival\n",
    "        # If the current train arrives after the previous train departs\n",
    "        elif arr[i] > dep[j]:\n",
    "            plat -= 1  # Decrement the number of platforms\n",
    "            j += 1  # Move to the next departure\n",
    "        \n",
    "        # Update the maximum number of platforms required\n",
    "        maxi = max(maxi, plat)\n",
    "    \n",
    "    return maxi  # Return the maximum number of platforms required\n"
   ]
  },
  {
   "cell_type": "markdown",
   "id": "6f364e64",
   "metadata": {},
   "source": [
    "# Job Sequencing Problem"
   ]
  },
  {
   "cell_type": "code",
   "execution_count": null,
   "id": "31944201",
   "metadata": {},
   "outputs": [],
   "source": [
    "def JobScheduling(self, Jobs, n):\n",
    "    # Sort the Jobs list based on profit in descending order\n",
    "    Jobs.sort(key=lambda x: x.profit, reverse=True)\n",
    "    \n",
    "    max_deadline = 1  # Initialize the maximum deadline\n",
    "    \n",
    "    # Find the maximum deadline among all jobs\n",
    "    for i in range(n):\n",
    "        max_deadline = max(max_deadline, Jobs[i].deadline)\n",
    "    \n",
    "    deadlines = [-1] * (max_deadline + 1)  # Create a list to track job deadlines\n",
    "    profit = 0  # Initialize the total profit\n",
    "    c = 0  # Initialize the count of scheduled jobs\n",
    "    \n",
    "    # Iterate over each job\n",
    "    for i in range(n):\n",
    "        # Iterate from the job's deadline down to 1\n",
    "        for j in range(Jobs[i].deadline, 0, -1):\n",
    "            # Check if the current deadline slot is empty\n",
    "            if deadlines[j] == -1:\n",
    "                deadlines[j] = i  # Assign the job to the current deadline slot\n",
    "                c += 1  # Increment the count of scheduled jobs\n",
    "                profit += Jobs[i].profit  # Add the job's profit to the total profit\n",
    "                break  # Move to the next job\n",
    "        \n",
    "    return c, profit  # Return the count of scheduled jobs and the total profit\n"
   ]
  },
  {
   "cell_type": "markdown",
   "id": "8f65011c",
   "metadata": {},
   "source": [
    "# Fractional Knapsack"
   ]
  },
  {
   "cell_type": "code",
   "execution_count": null,
   "id": "a733cf1f",
   "metadata": {},
   "outputs": [],
   "source": [
    "def fractionalknapsack(self, W, arr, n):\n",
    "    # Initialize profit variable\n",
    "    profit = 0\n",
    "    # Create an array to store weight, value, and value/weight ratio for each item\n",
    "    array = []\n",
    "    for i in range(n):\n",
    "        # Append weight, value, and value/weight ratio of each item to the array\n",
    "        array.append((arr[i].weight, arr[i].value, arr[i].value / arr[i].weight))\n",
    "    \n",
    "    # Sort the array in descending order based on the value/weight ratio\n",
    "    array.sort(key=lambda x: x[2], reverse=True)\n",
    "    \n",
    "    # Iterate through the sorted array\n",
    "    for i in range(n):\n",
    "        weight, value = array[i][0], array[i][1]\n",
    "        if W - weight > 0:\n",
    "            # If the current item's weight can be fully included in the knapsack, update the remaining weight and profit\n",
    "            W -= weight\n",
    "            profit += value\n",
    "        else:\n",
    "            # If the remaining weight is not enough to include the whole item, calculate the fraction and update the profit\n",
    "            profit += (value * W) / weight\n",
    "            break\n",
    "    \n",
    "    return profit"
   ]
  },
  {
   "cell_type": "markdown",
   "id": "9398f012",
   "metadata": {},
   "source": [
    "# Find minimum number of coins that make a given value"
   ]
  },
  {
   "cell_type": "code",
   "execution_count": 10,
   "id": "1b7e3588",
   "metadata": {},
   "outputs": [
    {
     "name": "stdout",
     "output_type": "stream",
     "text": [
      "([100, 20, 2, 1], 4)\n"
     ]
    }
   ],
   "source": [
    "class Solution:\n",
    "    def findminimumcoin(self, coins, value, n):\n",
    "        arr = []  # Array to store the selected coins\n",
    "        count = 0  # Variable to keep track of the count of selected coins\n",
    "        \n",
    "        # Iterate through the coins in reverse order\n",
    "        for i in range(n-1, -1, -1):\n",
    "            # Continue the loop while there is still value remaining and the current coin value is less than or equal to the remaining value\n",
    "            while value > 0 and value >= coins[i]:\n",
    "                value -= coins[i]  # Subtract the coin value from the remaining value\n",
    "                arr.append(coins[i])  # Add the coin to the selected coins list\n",
    "                count += 1  # Increment the count of selected coins\n",
    "        \n",
    "        return arr, count  # Return the list of selected coins and the count of selected coins\n",
    "\n",
    "\n",
    "if __name__ == \"__main__\":\n",
    "    obj = Solution()\n",
    "    coins = [1, 2, 5, 10, 20, 50, 100, 200, 500, 1000, 2000]\n",
    "    value = 123\n",
    "    n = len(coins)\n",
    "    print(obj.findminimumcoin(coins, value, n))\n"
   ]
  },
  {
   "cell_type": "code",
   "execution_count": null,
   "id": "500e9fe1",
   "metadata": {},
   "outputs": [],
   "source": []
  }
 ],
 "metadata": {
  "kernelspec": {
   "display_name": "Python 3 (ipykernel)",
   "language": "python",
   "name": "python3"
  },
  "language_info": {
   "codemirror_mode": {
    "name": "ipython",
    "version": 3
   },
   "file_extension": ".py",
   "mimetype": "text/x-python",
   "name": "python",
   "nbconvert_exporter": "python",
   "pygments_lexer": "ipython3",
   "version": "3.11.3"
  }
 },
 "nbformat": 4,
 "nbformat_minor": 5
}
