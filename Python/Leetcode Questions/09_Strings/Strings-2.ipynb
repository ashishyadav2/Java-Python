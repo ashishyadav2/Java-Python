{
 "cells": [
  {
   "cell_type": "markdown",
   "id": "ec61d20e",
   "metadata": {},
   "source": [
    "# Z-Function"
   ]
  },
  {
   "cell_type": "code",
   "execution_count": null,
   "id": "cef18eae",
   "metadata": {},
   "outputs": [],
   "source": []
  },
  {
   "cell_type": "markdown",
   "id": "e1d82f4d",
   "metadata": {},
   "source": [
    "# KMP algo / LPS(pi) array"
   ]
  },
  {
   "cell_type": "code",
   "execution_count": null,
   "id": "07224940",
   "metadata": {},
   "outputs": [],
   "source": []
  },
  {
   "cell_type": "markdown",
   "id": "90c5b98f",
   "metadata": {},
   "source": [
    "# Minimum Characters For Palindrome"
   ]
  },
  {
   "cell_type": "code",
   "execution_count": null,
   "id": "d6dfea11",
   "metadata": {},
   "outputs": [],
   "source": []
  },
  {
   "cell_type": "markdown",
   "id": "965fb74c",
   "metadata": {},
   "source": [
    "# Check for Anagrams"
   ]
  },
  {
   "cell_type": "code",
   "execution_count": null,
   "id": "17a9c976",
   "metadata": {},
   "outputs": [],
   "source": []
  },
  {
   "cell_type": "markdown",
   "id": "f31333ba",
   "metadata": {},
   "source": [
    "# Count and say"
   ]
  },
  {
   "cell_type": "code",
   "execution_count": null,
   "id": "6080cb0b",
   "metadata": {},
   "outputs": [],
   "source": []
  },
  {
   "cell_type": "markdown",
   "id": "e0014e66",
   "metadata": {},
   "source": [
    "# Compare version numbers"
   ]
  },
  {
   "cell_type": "code",
   "execution_count": null,
   "id": "5c534061",
   "metadata": {},
   "outputs": [],
   "source": []
  }
 ],
 "metadata": {
  "kernelspec": {
   "display_name": "Python 3 (ipykernel)",
   "language": "python",
   "name": "python3"
  },
  "language_info": {
   "codemirror_mode": {
    "name": "ipython",
    "version": 3
   },
   "file_extension": ".py",
   "mimetype": "text/x-python",
   "name": "python",
   "nbconvert_exporter": "python",
   "pygments_lexer": "ipython3",
   "version": "3.11.3"
  }
 },
 "nbformat": 4,
 "nbformat_minor": 5
}
