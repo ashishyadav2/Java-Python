{
 "cells": [
  {
   "cell_type": "markdown",
   "id": "e93c4660",
   "metadata": {},
   "source": [
    "# 151. Reverse Words in a String"
   ]
  },
  {
   "cell_type": "code",
   "execution_count": null,
   "id": "477c933d",
   "metadata": {},
   "outputs": [],
   "source": [
    "class Solution:\n",
    "    def reverseWords(self, s: str) -> str:\n",
    "        # Remove leading and trailing whitespace, and split the string into a list of words\n",
    "        s = s.strip().split()\n",
    "\n",
    "        # Reverse the order of the words in the list\n",
    "        s.reverse()\n",
    "\n",
    "        # Join the reversed words with a space in between to form a single string\n",
    "        return ' '.join(s)"
   ]
  },
  {
   "cell_type": "markdown",
   "id": "92457fec",
   "metadata": {},
   "source": [
    "# 5. Longest Palindromic Substring"
   ]
  },
  {
   "cell_type": "code",
   "execution_count": 16,
   "id": "6d556900",
   "metadata": {},
   "outputs": [
    {
     "name": "stdout",
     "output_type": "stream",
     "text": [
      "3\n"
     ]
    }
   ],
   "source": [
    "s1 = \"babad\"\n",
    "s2 = \"babad\"[::-1]\n",
    "dp = [[-1 for i in range(len(s1))] for j in range(len(s2))]\n",
    "def fun(i,j):\n",
    "    if i<0 or j<0:\n",
    "        return 0\n",
    "    if dp[i][j]!=-1:\n",
    "        return dp[i][j]\n",
    "    if s1[i]==s2[j]:\n",
    "        return 1 + fun(i-1,j-1)\n",
    "    return max(fun(i-1,j),fun(i,j-1))\n",
    "a = fun(len(s1)-1,len(s2)-1)\n",
    "print(a)"
   ]
  },
  {
   "cell_type": "markdown",
   "id": "7b60cb6a",
   "metadata": {},
   "source": [
    "# 516. Longest Palindromic Subsequence"
   ]
  },
  {
   "cell_type": "code",
   "execution_count": 17,
   "id": "611b577c",
   "metadata": {},
   "outputs": [],
   "source": [
    "class Solution:\n",
    "    def longestPalindromeSubseq(self, s1: str) -> int:\n",
    "        # Reverse the input string to obtain s2\n",
    "        s2 = s1[::-1]\n",
    "\n",
    "        # Create a 2D array to store the lengths of longest palindromic subsequences\n",
    "        # dp[i][j] represents the length of LPS for s1[0:i+1] and s2[0:j+1]\n",
    "        dp = [[-1 for i in range(len(s1))] for j in range(len(s2))]\n",
    "\n",
    "        def fun(i, j):\n",
    "            # Base case: if either i or j becomes negative, it means we have reached the end of one string\n",
    "            # and there are no more characters to consider, so return 0.\n",
    "            if i < 0 or j < 0:\n",
    "                return 0\n",
    "\n",
    "            # If the length of LPS for s1[0:i+1] and s2[0:j+1] has already been computed, return the value from dp.\n",
    "            if dp[i][j] != -1:\n",
    "                return dp[i][j]\n",
    "\n",
    "            # If the characters at the current positions in s1 and s2 are the same, we can include them in the LPS.\n",
    "            # Increase the length by 1 and recursively calculate the LPS for the remaining strings.\n",
    "            if s1[i] == s2[j]:\n",
    "                dp[i][j] = 1 + fun(i - 1, j - 1)\n",
    "            else:\n",
    "                # If the characters at the current positions are different, we have two options:\n",
    "                # 1. Exclude the character at position i from s1 and find the LPS for the remaining s1 and s2.\n",
    "                # 2. Exclude the character at position j from s2 and find the LPS for the remaining s1 and s2.\n",
    "                # Choose the maximum length among these options.\n",
    "                dp[i][j] = max(fun(i - 1, j), fun(i, j - 1))\n",
    "\n",
    "            # Return the length of the longest palindromic"
   ]
  },
  {
   "cell_type": "markdown",
   "id": "2388fde3",
   "metadata": {},
   "source": [
    "# 13. Roman to Integer"
   ]
  },
  {
   "cell_type": "code",
   "execution_count": null,
   "id": "3c408f61",
   "metadata": {},
   "outputs": [],
   "source": []
  },
  {
   "cell_type": "markdown",
   "id": "e16b2bd7",
   "metadata": {},
   "source": [
    "# 8. String to Integer (atoi)"
   ]
  },
  {
   "cell_type": "code",
   "execution_count": 4,
   "id": "2e142f74",
   "metadata": {},
   "outputs": [],
   "source": [
    "class Solution:\n",
    "    def myAtoi(self, s: str) -> int:\n",
    "        # Remove leading and trailing whitespace from the input string\n",
    "        s = s.strip()\n",
    "\n",
    "        # Get the length of the modified string\n",
    "        n = len(s)\n",
    "\n",
    "        # Initialize variables\n",
    "        sign = False\n",
    "        ans = 0\n",
    "\n",
    "        # Check if the string is empty, return 0\n",
    "        if not s:\n",
    "            return 0\n",
    "\n",
    "        # Check if the first character is an alphabet, return 0\n",
    "        if s[0].isalpha():\n",
    "            return 0\n",
    "\n",
    "        # Initialize index variable\n",
    "        i = 0\n",
    "\n",
    "        # Check if the first character is a '+' or '-'\n",
    "        if s[0] == '-' or s[0] == '+':\n",
    "            # If it is '-', set the sign flag to True\n",
    "            if s[0] == '-':\n",
    "                sign = True\n",
    "            i += 1\n",
    "\n",
    "        # Process digits while iterating through the string\n",
    "        while i < n and s[i].isdigit():\n",
    "            # Convert the digit to an integer and update the answer\n",
    "            ans = ans * 10 + int(s[i])\n",
    "            i += 1\n",
    "\n",
    "        # Apply the sign to the answer\n",
    "        if sign:\n",
    "            ans = -1 * ans\n",
    "\n",
    "        # Constrain the answer within the range of a 32-bit signed integer\n",
    "        ans = max(min(ans, 2 ** 31 - 1), -2 ** 31)\n",
    "\n",
    "        # Return the final answer\n",
    "        return ans"
   ]
  },
  {
   "cell_type": "markdown",
   "id": "e25e4202",
   "metadata": {},
   "source": [
    "# 14. Longest Common Prefix"
   ]
  },
  {
   "cell_type": "code",
   "execution_count": null,
   "id": "39b5aff6",
   "metadata": {},
   "outputs": [],
   "source": [
    "class Solution:\n",
    "    def longestCommonPrefix(self, strs: List[str]) -> str:\n",
    "        ans = \"\"  # Initialize the common prefix as an empty string\n",
    "        for i in range(len(strs[0])):  # Iterate over the characters of the first string\n",
    "            for s in strs:  # Iterate over all the strings in the input list\n",
    "                if i == len(s) or s[i] != strs[0][i]:\n",
    "                    # If the index i is out of bounds for the current string or the character at index i doesn't match the character at index i of the first string\n",
    "                    return ans  # Return the current common prefix\n",
    "            ans += strs[0][i]  # Append the character at index i to the common prefix\n",
    "        return ans  # Return the final common prefix"
   ]
  },
  {
   "cell_type": "markdown",
   "id": "ccdde03c",
   "metadata": {},
   "source": [
    "# 686. Repeated String Match"
   ]
  },
  {
   "cell_type": "code",
   "execution_count": null,
   "id": "a501d90f",
   "metadata": {},
   "outputs": [],
   "source": [
    "# Approach 1\n",
    "class Solution:\n",
    "    def repeatedStringMatch(self, a: str, b: str) -> int:\n",
    "        # Assign a to t for reference\n",
    "        t = a\n",
    "\n",
    "        # Get the lengths of strings a and b\n",
    "        m = len(b)\n",
    "        n = len(a)\n",
    "\n",
    "        # Calculate the maximum number of times a needs to be repeated to contain b\n",
    "        end = m // n + 2\n",
    "\n",
    "        # Initialize a count variable\n",
    "        count = 1\n",
    "\n",
    "        # Iterate up to end to check if b is a substring of t\n",
    "        for i in range(end):\n",
    "            # If b is found in t, return the count\n",
    "            if b in t:\n",
    "                return count\n",
    "            else:\n",
    "                # If b is not found, append a to t and increment the count\n",
    "                t += a\n",
    "                count += 1\n",
    "\n",
    "        # If b is not found after repeating a, return -1 as specified\n",
    "        return -1"
   ]
  },
  {
   "cell_type": "code",
   "execution_count": 10,
   "id": "e129a7f3",
   "metadata": {},
   "outputs": [],
   "source": [
    "# Approach 2 Rabin karp\n",
    "class Solution:\n",
    "    def hash_fun(self, text):\n",
    "        h = 0\n",
    "        for ch in text:\n",
    "            h = (h * 31 + ord(ch)) % int(1e6)\n",
    "        return h\n",
    "\n",
    "    def rabinkarp(self, text, pattern):\n",
    "        n = len(text)\n",
    "        m = len(pattern)\n",
    "        patternhash = self.hash_fun(pattern)\n",
    "        texthash = self.hash_fun(text[:m])\n",
    "        # Check if initial hash values and substrings match\n",
    "        if texthash == patternhash and text[:m] == pattern:\n",
    "            return 0\n",
    "        for i in range(1, n - m + 1):\n",
    "            # Update texthash using rolling hash formula\n",
    "            texthash = (texthash * 31 - ord(text[i - 1]) * pow(31, m, int(1e6)) + ord(text[i + m - 1])) % int(1e6)\n",
    "            # Check if hash values and substrings match\n",
    "            if texthash == patternhash and text[i:i + m] == pattern:\n",
    "                return i\n",
    "        return -1\n",
    "\n",
    "    def repeatedStringMatch(self, a: str, b: str) -> int:\n",
    "        if a == b:\n",
    "            return 1\n",
    "        count = (len(b) - 1) // len(a) + 1\n",
    "        temp = a * count\n",
    "        if len(temp) < len(b):\n",
    "            temp += a\n",
    "            count += 1\n",
    "        # Check if pattern matches in the repeated string\n",
    "        if self.rabinkarp(temp, b) != -1:\n",
    "            return count\n",
    "        # Check if pattern matches in the repeated string plus one additional repetition\n",
    "        if self.rabinkarp(temp + a, b) != -1:\n",
    "            return count + 1\n",
    "        return -1"
   ]
  },
  {
   "cell_type": "code",
   "execution_count": null,
   "id": "d2414d87",
   "metadata": {},
   "outputs": [],
   "source": []
  }
 ],
 "metadata": {
  "kernelspec": {
   "display_name": "Python 3 (ipykernel)",
   "language": "python",
   "name": "python3"
  },
  "language_info": {
   "codemirror_mode": {
    "name": "ipython",
    "version": 3
   },
   "file_extension": ".py",
   "mimetype": "text/x-python",
   "name": "python",
   "nbconvert_exporter": "python",
   "pygments_lexer": "ipython3",
   "version": "3.11.3"
  }
 },
 "nbformat": 4,
 "nbformat_minor": 5
}
