{
 "cells": [
  {
   "cell_type": "markdown",
   "id": "ec61d20e",
   "metadata": {},
   "source": [
    "# Z-Function"
   ]
  },
  {
   "cell_type": "code",
   "execution_count": 24,
   "id": "cef18eae",
   "metadata": {},
   "outputs": [
    {
     "name": "stdout",
     "output_type": "stream",
     "text": [
      "[0, 1, 0, 2, 2, 1, 0, 0, 6, 1, 0, 2, 6, 1, 0, 2, 2, 1, 0]\n",
      "[]\n"
     ]
    }
   ],
   "source": [
    "### Algorithm/Intuition:\n",
    "# The given code implements the Knuth-Morris-Pratt (KMP) algorithm for string matching. \n",
    "# The KMP algorithm efficiently finds occurrences of a pattern (needle) within a larger string (haystack) \n",
    "# by utilizing information from previous matches.\n",
    "\n",
    "# 1. The `calc_z` function calculates the Z-array for a given string. The Z-array stores the length of the \n",
    "#    longest common prefix between the string and its suffix starting at each position.\n",
    "# 2. In the main `strStr` function, the `calc_z` function is used to calculate the Z-array for the \n",
    "#    concatenation of the needle, a delimiter (`$`), and the haystack.\n",
    "# 3. The Z-array is then iterated, and if the value at a position equals the length of the needle, it \n",
    "#    means a match has been found. The function returns the index of the match minus the length of the needle minus 1. \n",
    "#    If no match is found, -1 is returned.\n",
    "# 4. An additional check is included at the beginning to handle the case where the needle is an empty string. \n",
    "#    In such cases, the function returns 0 since an empty string is considered to be present at\n",
    "#    the beginning of any other string.\n",
    "\n",
    "class Solution:\n",
    "    def strStr(self, haystack: str, needle: str) -> int:\n",
    "        # Calculate Z-array\n",
    "        def calc_z(string):\n",
    "            l = 0\n",
    "            r = 0\n",
    "            n = len(string)\n",
    "            z = [0] * n\n",
    "            for i in range(1, n):\n",
    "                if i < r:\n",
    "                    ind = i - l\n",
    "                    if z[ind] < r - i + 1:\n",
    "                        z[i] = z[ind]  # Store value from previous matches\n",
    "                    else:\n",
    "                        l = i\n",
    "                        # Extend the matching range while characters match\n",
    "                        while r < n and string[r] == string[r - l]:\n",
    "                            r += 1\n",
    "                        z[i] = r - l  # Store the length of the match\n",
    "                        r -= 1  # Decrement r by 1 to align with 0-based indexing\n",
    "                else:\n",
    "                    l = i\n",
    "                    r = i\n",
    "                    # Extend the matching range while characters match\n",
    "                    while r < n and string[r] == string[r - l]:\n",
    "                        r += 1\n",
    "                    z[i] = r - l  # Store the length of the match\n",
    "                    r -= 1  # Decrement r by 1 to align with 0-based indexing\n",
    "            return z\n",
    "        \n",
    "        if len(needle) == 0:\n",
    "            return 0\n",
    "        \n",
    "        # Concatenate needle, delimiter, and haystack\n",
    "        string = needle + \"$\" + haystack\n",
    "        z = calc_z(string)\n",
    "        for i in range(len(z)):\n",
    "            if z[i] == len(needle):\n",
    "                # Match found, return index - needle length - 1\n",
    "                return i - len(needle) - 1\n",
    "        # No match found\n",
    "        return -1\n",
    "\n",
    "### Hints to Solve the Code:\n",
    "# To understand and solve the code, you can follow these hints:\n",
    "\n",
    "# 1. Familiarize yourself with the Knuth-Morris-Pratt (KMP) algorithm and its concepts, such as\n",
    "#    the Z-array and prefix-suffix matching.\n",
    "# 2. Understand the purpose of the `calc_z` function and how it calculates the Z-array for a given string.\n",
    "# 3. Analyze the main `strStr` function and its flow.\n",
    "# 4. Identify the significance of the concatenation of the needle, delimiter (`$`), and haystack in the `string` variable.\n",
    "# 5. Trace the logic of iterating over the Z-array and checking for matches.\n",
    "# 6. Pay attention to the special case handling at the beginning of the function for an empty needle.\n",
    "# 7. Debug and run the code with different test cases to ensure its correctness.\n",
    "\n",
    "# Remember, the KMP algorithm improves the efficiency of string matching compared to brute force approaches \n",
    "# by utilizing previously matched information."
   ]
  },
  {
   "cell_type": "markdown",
   "id": "e1d82f4d",
   "metadata": {},
   "source": [
    "# KMP algo / LPS(pi) array"
   ]
  },
  {
   "cell_type": "code",
   "execution_count": null,
   "id": "07224940",
   "metadata": {},
   "outputs": [],
   "source": []
  },
  {
   "cell_type": "markdown",
   "id": "90c5b98f",
   "metadata": {},
   "source": [
    "# Minimum Characters For Palindrome"
   ]
  },
  {
   "cell_type": "code",
   "execution_count": null,
   "id": "d6dfea11",
   "metadata": {},
   "outputs": [],
   "source": []
  },
  {
   "cell_type": "markdown",
   "id": "965fb74c",
   "metadata": {},
   "source": [
    "# Check for Anagrams"
   ]
  },
  {
   "cell_type": "code",
   "execution_count": null,
   "id": "17a9c976",
   "metadata": {},
   "outputs": [],
   "source": []
  },
  {
   "cell_type": "markdown",
   "id": "f31333ba",
   "metadata": {},
   "source": [
    "# Count and say"
   ]
  },
  {
   "cell_type": "code",
   "execution_count": null,
   "id": "6080cb0b",
   "metadata": {},
   "outputs": [],
   "source": []
  },
  {
   "cell_type": "markdown",
   "id": "e0014e66",
   "metadata": {},
   "source": [
    "# Compare version numbers"
   ]
  },
  {
   "cell_type": "code",
   "execution_count": null,
   "id": "5c534061",
   "metadata": {},
   "outputs": [],
   "source": []
  }
 ],
 "metadata": {
  "kernelspec": {
   "display_name": "Python 3 (ipykernel)",
   "language": "python",
   "name": "python3"
  },
  "language_info": {
   "codemirror_mode": {
    "name": "ipython",
    "version": 3
   },
   "file_extension": ".py",
   "mimetype": "text/x-python",
   "name": "python",
   "nbconvert_exporter": "python",
   "pygments_lexer": "ipython3",
   "version": "3.11.3"
  }
 },
 "nbformat": 4,
 "nbformat_minor": 5
}
