{
 "cells": [
  {
   "cell_type": "markdown",
   "id": "5e79c3b3",
   "metadata": {},
   "source": [
    "# The N-th root of an integer"
   ]
  },
  {
   "cell_type": "code",
   "execution_count": 1,
   "id": "53be9068",
   "metadata": {},
   "outputs": [],
   "source": [
    "def NthRoot(n: int, m: int) -> int:\n",
    "    # This function calculates the nth root of a given number.\n",
    "\n",
    "    def multiply(mid, n):\n",
    "        # Helper function to calculate the power of mid raised to n.\n",
    "        ans = 1.0\n",
    "        for i in range(n):\n",
    "            ans = ans * mid\n",
    "        return ans\n",
    "\n",
    "    low = 1\n",
    "    high = m\n",
    "\n",
    "    while high - low > 1e-7:\n",
    "        mid = low + (high - low) / 2\n",
    "\n",
    "        if multiply(mid, n) > m:\n",
    "            high = mid\n",
    "        else:\n",
    "            low = mid\n",
    "\n",
    "    return low"
   ]
  },
  {
   "cell_type": "markdown",
   "id": "ed184572",
   "metadata": {},
   "source": [
    "# Matrix Median"
   ]
  },
  {
   "cell_type": "code",
   "execution_count": 5,
   "id": "83b35d2a",
   "metadata": {},
   "outputs": [],
   "source": [
    "def getMedian(matrix):\n",
    "    # This function calculates the median of a matrix.\n",
    "\n",
    "    def getElemLT(row, target):\n",
    "        # Helper function to count the number of elements in a row that are less than the target value.\n",
    "        low = 0\n",
    "        high = len(row) - 1\n",
    "\n",
    "        while low <= high:\n",
    "            mid = low + (high - low) // 2\n",
    "            if row[mid] > target:\n",
    "                high = mid - 1\n",
    "            else:\n",
    "                low = mid + 1\n",
    "        return low\n",
    "\n",
    "    low = 0\n",
    "    high = 1e9\n",
    "    n = len(matrix)\n",
    "    m = len(matrix[0])\n",
    "\n",
    "    while low <= high:\n",
    "        count = 0\n",
    "        mid = low + (high - low) // 2\n",
    "\n",
    "        for i in range(n):\n",
    "            count += getElemLT(matrix[i], mid)\n",
    "\n",
    "        if count <= (n * m) // 2:\n",
    "            low = mid + 1\n",
    "        else:\n",
    "            high = mid - 1\n",
    "\n",
    "    return round(low)"
   ]
  },
  {
   "cell_type": "markdown",
   "id": "3450f637",
   "metadata": {},
   "source": [
    "# 540. Single Element in a Sorted Array"
   ]
  },
  {
   "cell_type": "code",
   "execution_count": null,
   "id": "51554abf",
   "metadata": {},
   "outputs": [],
   "source": [
    "class Solution:\n",
    "    def singleNonDuplicate(self, nums: List[int]) -> int:\n",
    "        low = 0  # Initialize the lower bound of the search range\n",
    "        high = len(nums) - 2  # Initialize the upper bound of the search range\n",
    "\n",
    "        while low <= high:  # Perform binary search until the search range is valid\n",
    "            mid = low + (high - low) // 2  # Calculate the middle index\n",
    "\n",
    "            if mid % 2 == 0:  # Check if the middle index is even\n",
    "                if nums[mid] == nums[mid + 1]:  # The duplicate element is on the right side\n",
    "                    low = mid + 1  # Update the lower bound to search in the right subarray\n",
    "                else:  # The duplicate element is on the left side\n",
    "                    high = mid - 1  # Update the upper bound to search in the left subarray\n",
    "            else:  # The middle index is odd\n",
    "                if nums[mid] == nums[mid + 1]:  # The duplicate element is on the left side\n",
    "                    high = mid - 1  # Update the upper bound to search in the left subarray\n",
    "                else:  # The duplicate element is on the right side\n",
    "                    low = mid + 1  # Update the lower bound to search in the right subarray\n",
    "\n",
    "        return nums[low]  # Return the non-duplicate element found\n"
   ]
  },
  {
   "cell_type": "markdown",
   "id": "037dfe18",
   "metadata": {},
   "source": [
    "# 33. Search in Rotated Sorted Array"
   ]
  },
  {
   "cell_type": "code",
   "execution_count": null,
   "id": "e229f7d9",
   "metadata": {},
   "outputs": [],
   "source": [
    "class Solution:\n",
    "    def search(self, nums: List[int], target: int) -> int:\n",
    "        low = 0  # Initialize the lower bound of the search range\n",
    "        high = len(nums) - 1  # Initialize the upper bound of the search range\n",
    "\n",
    "        while low <= high:  # Perform binary search until the search range is valid\n",
    "            mid = low + (high - low) // 2  # Calculate the middle index\n",
    "\n",
    "            if nums[mid] == target:  # Check if the middle element is the target\n",
    "                return mid  # Return the index of the target\n",
    "\n",
    "            if nums[low] <= nums[mid]:  # Left side of the array is sorted\n",
    "                if nums[low] <= target <= nums[mid]:  # Target is within the sorted left side\n",
    "                    high = mid - 1  # Update the upper bound to search in the left subarray\n",
    "                else:  # Target is not within the sorted left side\n",
    "                    low = mid + 1  # Update the lower bound to search in the right subarray\n",
    "            else:  # Right side of the array is sorted\n",
    "                if nums[mid] <= target <= nums[high]:  # Target is within the sorted right side\n",
    "                    low = mid + 1  # Update the lower bound to search in the right subarray\n",
    "                else:  # Target is not within the sorted right side\n",
    "                    high = mid - 1  # Update the upper bound to search in the left subarray\n",
    "\n",
    "        return -1  # Return -1 if the target element is not found\n"
   ]
  },
  {
   "cell_type": "markdown",
   "id": "b5fe8806",
   "metadata": {},
   "source": [
    "# 4. Median of Two Sorted Arrays"
   ]
  },
  {
   "cell_type": "code",
   "execution_count": null,
   "id": "4f445652",
   "metadata": {},
   "outputs": [],
   "source": [
    "class Solution:\n",
    "    def findMedianSortedArrays(self, nums1: List[int], nums2: List[int]) -> float:\n",
    "        # Get the lengths of nums1 and nums2\n",
    "        n1 = len(nums1)\n",
    "        n2 = len(nums2)\n",
    "\n",
    "        # Swap arrays if nums1 is longer than nums2\n",
    "        if n1 > n2:\n",
    "            return self.findMedianSortedArrays(nums2, nums1)\n",
    "\n",
    "        # Initialize the search range for nums1\n",
    "        low = 0\n",
    "        high = n1\n",
    "\n",
    "        # Perform binary search on nums1\n",
    "        while low <= high:\n",
    "            # Calculate the cuts for partitioning nums1 and nums2\n",
    "            cut1 = (high + low) // 2\n",
    "            cut2 = (n1 + n2 + 1) // 2 - cut1\n",
    "\n",
    "            # Determine the left and right values for each partition\n",
    "            l1 = float('-inf') if cut1 == 0 else nums1[cut1 - 1]\n",
    "            l2 = float('-inf') if cut2 == 0 else nums2[cut2 - 1]\n",
    "            r1 = float('inf') if cut1 == n1 else nums1[cut1]\n",
    "            r2 = float('inf') if cut2 == n2 else nums2[cut2]\n",
    "\n",
    "            # Check if the cuts are valid and find the median accordingly\n",
    "            if l1 <= r2 and l2 <= r1:\n",
    "                if (n1 + n2) % 2 == 0:\n",
    "                    return (max(l1, l2) + min(r1, r2)) / 2.0\n",
    "                else:\n",
    "                    return max(l1, l2)\n",
    "            elif l1 > r2:\n",
    "                high = cut1 - 1\n",
    "            else:\n",
    "                low = cut1 + 1\n",
    "\n",
    "        # Return 0.0 if no median is found\n",
    "        return 0.0"
   ]
  },
  {
   "cell_type": "markdown",
   "id": "41faef34",
   "metadata": {},
   "source": [
    "# K-th element of two sorted Arrays"
   ]
  },
  {
   "cell_type": "code",
   "execution_count": null,
   "id": "ceefeaac",
   "metadata": {},
   "outputs": [],
   "source": [
    "class Solution:\n",
    "    def kthElement(self, arr1, arr2, n, m, k):\n",
    "        # If the length of arr1 is greater than arr2, swap them and adjust the parameters\n",
    "        if n > m:\n",
    "            return self.kthElement(arr2, arr1, m, n, k)\n",
    "        \n",
    "        # Set the search range for arr1\n",
    "        low = max(0, k - m)\n",
    "        high = min(k, n)\n",
    "        \n",
    "        while low <= high:\n",
    "            # Find the cuts for partitioning arr1 and arr2\n",
    "            cut1 = (low + high) // 2\n",
    "            cut2 = k - cut1\n",
    "            \n",
    "            # Determine the values for the left and right partitions of arr1 and arr2\n",
    "            l1 = float('-inf') if cut1 == 0 else arr1[cut1 - 1]\n",
    "            l2 = float('-inf') if cut2 == 0 else arr2[cut2 - 1]\n",
    "            r1 = float('inf') if cut1 == n else arr1[cut1]\n",
    "            r2 = float('inf') if cut2 == m else arr2[cut2]\n",
    "            \n",
    "            # Check if the cuts are valid and find the maximum element in the left partitions\n",
    "            if l1 <= r2 and l2 <= r1:\n",
    "                return max(l1, l2)\n",
    "            elif l1 > r2:\n",
    "                high = cut1 - 1\n",
    "            else:\n",
    "                low = cut1 + 1\n",
    "        \n",
    "        return 1"
   ]
  },
  {
   "cell_type": "markdown",
   "id": "b4aa15f6",
   "metadata": {},
   "source": [
    "# Allocate Books"
   ]
  },
  {
   "cell_type": "code",
   "execution_count": null,
   "id": "d1d274b8",
   "metadata": {},
   "outputs": [],
   "source": [
    "def isPossible(A, barrier, M):\n",
    "    \"\"\"\n",
    "    Function to check if it is possible to allocate books to students\n",
    "    such that the maximum number of pages allocated to any student is less than or equal to a given barrier.\n",
    "    \"\"\"\n",
    "    count = 0\n",
    "    sum_alloted = 0\n",
    "    for i in range(len(A)):\n",
    "        if sum_alloted + A[i] > barrier:  # Check if sum_alloted + A[i] exceeds the barrier\n",
    "            count += 1  # Increment the count of students\n",
    "            sum_alloted = A[i]  # Reset sum_alloted to A[i]\n",
    "            if sum_alloted > barrier:  # If sum_alloted is already greater than the barrier, it's not possible\n",
    "                return False\n",
    "        else:\n",
    "            sum_alloted += A[i]  # Add A[i] to sum_alloted\n",
    "    if count < M:  # If the count of students is less than M, it's possible to allocate the books\n",
    "        return True\n",
    "    return False\n",
    "\n",
    "low = min(A)  # Get the minimum value in A\n",
    "high = sum(A)  # Get the sum of all elements in A\n",
    "if M > len(A):  # If M is greater than the number of books, it's not possible\n",
    "    return -1\n",
    "while low <= high:\n",
    "    mid = (high + low) // 2\n",
    "    if isPossible(A, mid, M):  # Check if it's possible to allocate books with the mid value as the barrier\n",
    "        high = mid - 1  # Update high to explore lower values\n",
    "    else:\n",
    "        low = mid + 1  # Update low to explore higher values\n",
    "return low  # Return the minimum possible barrier\n"
   ]
  },
  {
   "cell_type": "markdown",
   "id": "b42ec889",
   "metadata": {},
   "source": [
    "# AGGRCOW - Aggressive cows"
   ]
  },
  {
   "cell_type": "code",
   "execution_count": null,
   "id": "af03f1d1",
   "metadata": {},
   "outputs": [],
   "source": [
    "def aggressiveCows(stalls, k):\n",
    "    # Write your code here.\n",
    "    def canPlace(stalls, cows, mid):\n",
    "        \"\"\"\n",
    "        Function to check if it is possible to place the cows in the stalls\n",
    "        with a minimum distance of mid between them.\n",
    "        \"\"\"\n",
    "        cow_count = 1\n",
    "        prev_cow = stalls[0]\n",
    "        for i in range(1, len(stalls)):\n",
    "            if stalls[i] - prev_cow >= mid:\n",
    "                cow_count += 1\n",
    "                prev_cow = stalls[i]\n",
    "            if cow_count == cows:\n",
    "                return True\n",
    "        return False\n",
    "\n",
    "    stalls.sort()  # Sort the stalls in ascending order\n",
    "    low = 1\n",
    "    high = stalls[-1] - stalls[0]  # Compute the range of possible distances\n",
    "    while low <= high:\n",
    "        mid = low + (high - low) // 2\n",
    "        if canPlace(stalls, k, mid):  # Check if it is possible to place cows with distance mid\n",
    "            low = mid + 1  # Update low to explore higher distances\n",
    "        else:\n",
    "            high = mid - 1  # Update high to explore lower distances\n",
    "    return high  # Return the maximum feasible distance (high)"
   ]
  }
 ],
 "metadata": {
  "kernelspec": {
   "display_name": "Python 3 (ipykernel)",
   "language": "python",
   "name": "python3"
  },
  "language_info": {
   "codemirror_mode": {
    "name": "ipython",
    "version": 3
   },
   "file_extension": ".py",
   "mimetype": "text/x-python",
   "name": "python",
   "nbconvert_exporter": "python",
   "pygments_lexer": "ipython3",
   "version": "3.11.3"
  }
 },
 "nbformat": 4,
 "nbformat_minor": 5
}
