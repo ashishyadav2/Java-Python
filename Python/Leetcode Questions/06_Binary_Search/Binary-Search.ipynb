{
 "cells": [
  {
   "cell_type": "markdown",
   "id": "3450f637",
   "metadata": {},
   "source": [
    "# 540. Single Element in a Sorted Array"
   ]
  },
  {
   "cell_type": "code",
   "execution_count": null,
   "id": "51554abf",
   "metadata": {},
   "outputs": [],
   "source": [
    "class Solution:\n",
    "    def singleNonDuplicate(self, nums: List[int]) -> int:\n",
    "        low = 0  # Initialize the lower bound of the search range\n",
    "        high = len(nums) - 2  # Initialize the upper bound of the search range\n",
    "\n",
    "        while low <= high:  # Perform binary search until the search range is valid\n",
    "            mid = low + (high - low) // 2  # Calculate the middle index\n",
    "\n",
    "            if mid % 2 == 0:  # Check if the middle index is even\n",
    "                if nums[mid] == nums[mid + 1]:  # The duplicate element is on the right side\n",
    "                    low = mid + 1  # Update the lower bound to search in the right subarray\n",
    "                else:  # The duplicate element is on the left side\n",
    "                    high = mid - 1  # Update the upper bound to search in the left subarray\n",
    "            else:  # The middle index is odd\n",
    "                if nums[mid] == nums[mid + 1]:  # The duplicate element is on the left side\n",
    "                    high = mid - 1  # Update the upper bound to search in the left subarray\n",
    "                else:  # The duplicate element is on the right side\n",
    "                    low = mid + 1  # Update the lower bound to search in the right subarray\n",
    "\n",
    "        return nums[low]  # Return the non-duplicate element found\n"
   ]
  },
  {
   "cell_type": "markdown",
   "id": "037dfe18",
   "metadata": {},
   "source": [
    "# 33. Search in Rotated Sorted Array"
   ]
  },
  {
   "cell_type": "code",
   "execution_count": null,
   "id": "e229f7d9",
   "metadata": {},
   "outputs": [],
   "source": [
    "class Solution:\n",
    "    def search(self, nums: List[int], target: int) -> int:\n",
    "        low = 0  # Initialize the lower bound of the search range\n",
    "        high = len(nums) - 1  # Initialize the upper bound of the search range\n",
    "\n",
    "        while low <= high:  # Perform binary search until the search range is valid\n",
    "            mid = low + (high - low) // 2  # Calculate the middle index\n",
    "\n",
    "            if nums[mid] == target:  # Check if the middle element is the target\n",
    "                return mid  # Return the index of the target\n",
    "\n",
    "            if nums[low] <= nums[mid]:  # Left side of the array is sorted\n",
    "                if nums[low] <= target <= nums[mid]:  # Target is within the sorted left side\n",
    "                    high = mid - 1  # Update the upper bound to search in the left subarray\n",
    "                else:  # Target is not within the sorted left side\n",
    "                    low = mid + 1  # Update the lower bound to search in the right subarray\n",
    "            else:  # Right side of the array is sorted\n",
    "                if nums[mid] <= target <= nums[high]:  # Target is within the sorted right side\n",
    "                    low = mid + 1  # Update the lower bound to search in the right subarray\n",
    "                else:  # Target is not within the sorted right side\n",
    "                    high = mid - 1  # Update the upper bound to search in the left subarray\n",
    "\n",
    "        return -1  # Return -1 if the target element is not found\n"
   ]
  }
 ],
 "metadata": {
  "kernelspec": {
   "display_name": "Python 3 (ipykernel)",
   "language": "python",
   "name": "python3"
  },
  "language_info": {
   "codemirror_mode": {
    "name": "ipython",
    "version": 3
   },
   "file_extension": ".py",
   "mimetype": "text/x-python",
   "name": "python",
   "nbconvert_exporter": "python",
   "pygments_lexer": "ipython3",
   "version": "3.11.3"
  }
 },
 "nbformat": 4,
 "nbformat_minor": 5
}
