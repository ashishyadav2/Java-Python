{
 "cells": [
  {
   "cell_type": "markdown",
   "id": "75602289",
   "metadata": {},
   "source": [
    "# 61. Rotate List"
   ]
  },
  {
   "cell_type": "code",
   "execution_count": null,
   "id": "dcc8e1d8",
   "metadata": {},
   "outputs": [],
   "source": [
    "class Solution:\n",
    "    def rotateRight(self, head: Optional[ListNode], k: int) -> Optional[ListNode]:\n",
    "        if k == 0 or not head or not head.next:\n",
    "            return head\n",
    "        \n",
    "        l = 1  # Initialize the length of the linked list\n",
    "        tail = head  # Set the tail node to the head of the list\n",
    "        while tail.next:  # Traverse the list until the last node\n",
    "            l += 1  # Increment the length of the list\n",
    "            tail = tail.next  # Move the tail pointer to the next node\n",
    "        \n",
    "        k = k % l  # Calculate the actual number of positions to rotate\n",
    "        if k == 0:  # If k becomes 0 after the modulo operation\n",
    "            return head  # No rotation is needed, return the original head\n",
    "        \n",
    "        to_iter = l - k  # Determine the number of iterations to reach the rotation point\n",
    "        prev = None  # Initialize a previous node pointer as None\n",
    "        temp = head  # Set a temporary node to the head of the list\n",
    "        for i in range(to_iter):  # Iterate to reach the rotation point\n",
    "            prev = temp  # Update the previous node pointer\n",
    "            temp = temp.next  # Move the temporary node to the next node\n",
    "        \n",
    "        prev.next = None  # Disconnect the rotated portion from the rest of the list\n",
    "        tail.next = head  # Connect the tail to the original head, forming a cycle\n",
    "        head = temp  # Update the head to the new starting point of the rotated list\n",
    "        return head  # Return the rotated list as the new head\n"
   ]
  },
  {
   "cell_type": "markdown",
   "id": "68cf7574",
   "metadata": {},
   "source": [
    "# 138. Copy List with Random Pointer"
   ]
  },
  {
   "cell_type": "code",
   "execution_count": null,
   "id": "48523493",
   "metadata": {},
   "outputs": [],
   "source": [
    "# Brute\n",
    "class Node:\n",
    "    def __init__(self, x: int, next: 'Node' = None, random: 'Node' = None):\n",
    "        self.val = int(x)\n",
    "        self.next = next\n",
    "        self.random = random\n",
    "\n",
    "class Solution:\n",
    "    def copyRandomList(self, head: 'Optional[Node]') -> 'Optional[Node]':\n",
    "        if not head:  # Check if head is None\n",
    "            return None  # Return None for an empty linked list\n",
    "\n",
    "        d = {}  # Dictionary to store mapping of original nodes to copies\n",
    "        t = head  # Temporary variable for iteration\n",
    "\n",
    "        # Create a new copy of each node without setting next and random pointers\n",
    "        while t:\n",
    "            d[t] = Node(t.val)  # Create a new Node with the same value\n",
    "            t = t.next\n",
    "\n",
    "        t = head  # Reset t to head for iteration\n",
    "\n",
    "        # Assign next and random pointers of the copied nodes using the dictionary\n",
    "        while t:\n",
    "            node = d[t]  # Get the corresponding copied node from the dictionary\n",
    "            node.next = d.get(t.next)  # Assign copied node's next pointer\n",
    "            node.random = d.get(t.random)  # Assign copied node's random pointer\n",
    "            t = t.next\n",
    "\n",
    "        return d[head]  # Return the head of the copied list\n"
   ]
  },
  {
   "cell_type": "code",
   "execution_count": null,
   "id": "92787b10",
   "metadata": {},
   "outputs": [],
   "source": [
    "# Optimal\n",
    "# Definition for a Node.\n",
    "class Node:\n",
    "    def __init__(self, x: int, next: 'Node' = None, random: 'Node' = None):\n",
    "        self.val = int(x)\n",
    "        self.next = next\n",
    "        self.random = random\n",
    "\n",
    "class Solution:\n",
    "    def copyRandomList(self, head: 'Optional[Node]') -> 'Optional[Node]':\n",
    "        # Create a copy of the linked list nodes and insert them after each original node\n",
    "        # step 1: make copy list \n",
    "        t = head\n",
    "        while t:\n",
    "            node = Node(t.val)  # Create a new node with the same value as the original node\n",
    "            node.next = t.next  # Set the new node's next pointer to the original node's next pointer\n",
    "            t.next = node  # Insert the new node after the original node\n",
    "            t = t.next.next  # Move to the next original node (skipping the newly inserted copied node)\n",
    "\n",
    "        # Assign the correct random pointers for the copied nodes\n",
    "        # step 2: add random pointers\n",
    "        itr = head\n",
    "        while itr:\n",
    "            if itr.random:\n",
    "                itr.next.random = itr.random.next  # Set the copied node's random pointer to the next node of the original node's random pointer\n",
    "            itr = itr.next.next  # Move to the next original node (skipping the copied node)\n",
    "\n",
    "        #step 3: Separate the original and copied nodes into two separate linked lists\n",
    "        dummy = Node(0)  # Create a dummy node as the head of the copied list\n",
    "        itr = head\n",
    "        temp = dummy\n",
    "        while itr:\n",
    "            fast = itr.next.next  # Keep track of the next original node after the copied node\n",
    "            temp.next = itr.next  # Connect the copied node to the new list\n",
    "            itr.next = fast  # Remove the copied node from the original list\n",
    "            temp = temp.next  # Move to the next copied node\n",
    "            itr = fast  # Move to the next original node\n",
    "\n",
    "        return dummy.next  # Return the head of the copied list (skip the dummy node)"
   ]
  },
  {
   "cell_type": "markdown",
   "id": "300aa75f",
   "metadata": {},
   "source": [
    "# 15. 3Sum"
   ]
  },
  {
   "cell_type": "code",
   "execution_count": null,
   "id": "d7217122",
   "metadata": {},
   "outputs": [],
   "source": [
    "class Solution:\n",
    "    def threeSum(self, nums: List[int]) -> List[List[int]]:\n",
    "        nums.sort()  # Sort the input list in ascending order\n",
    "        n = len(nums)  # Get the length of the sorted list\n",
    "        temp = []  # Initialize an empty list to store the triplets\n",
    "\n",
    "        for i in range(n):  # Iterate through each index in the list\n",
    "            if i == 0 or (i > 0 and nums[i] != nums[i-1]):  # Skip duplicate elements\n",
    "                l = i + 1  # Set the left pointer to the next index\n",
    "                r = n - 1  # Set the right pointer to the last index\n",
    "                summ = 0 - nums[i]  # Calculate the target sum for the remaining two elements\n",
    "\n",
    "                while l < r:  # Continue until the left and right pointers meet or cross each other\n",
    "                    t = nums[l] + nums[r]  # Calculate the sum of the two elements at the pointers\n",
    "\n",
    "                    if t == summ:  # If the sum matches the target sum\n",
    "                        temp.append([nums[i], nums[l], nums[r]])  # Add the triplet to the result list\n",
    "\n",
    "                        while l < r and nums[l] == nums[l+1]:  # Skip duplicate elements from the left pointer\n",
    "                            l += 1\n",
    "                        while l < r and nums[r] == nums[r-1]:  # Skip duplicate elements from the right pointer\n",
    "                            r -= 1\n",
    "\n",
    "                        l += 1  # Move the left pointer to the right\n",
    "                        r -= 1  # Move the right pointer to the left\n",
    "                    elif t < summ:  # If the sum is less than the target sum\n",
    "                        l += 1  # Move the left pointer to the right\n",
    "                    else:  # If the sum is greater than the target sum\n",
    "                        r -= 1  # Move the right pointer to the left\n",
    "\n",
    "        return temp  # Return the list of triplets\n"
   ]
  },
  {
   "cell_type": "markdown",
   "id": "ffc38644",
   "metadata": {},
   "source": [
    "# 42. Trapping Rain Water"
   ]
  },
  {
   "cell_type": "code",
   "execution_count": null,
   "id": "86c652e9",
   "metadata": {},
   "outputs": [],
   "source": [
    "#Brute\n",
    "class Solution:\n",
    "    def trap(self, height: List[int]) -> int:\n",
    "        n = len(height)  # Get the length of the input list\n",
    "        prefix = []  # Initialize an empty list to store the prefix maximums\n",
    "        suffix = []  # Initialize an empty list to store the suffix maximums\n",
    "        water = 0  # Initialize the total water trapped\n",
    "        m1 = -sys.maxsize  # Initialize the maximum height encountered in the prefix\n",
    "        m2 = -sys.maxsize  # Initialize the maximum height encountered in the suffix\n",
    "\n",
    "        for i in range(n):  # Calculate the prefix maximums\n",
    "            m1 = max(height[i], m1)  # Update the maximum height encountered in the prefix\n",
    "            prefix.append(m1)  # Append the maximum height to the prefix list\n",
    "\n",
    "        for j in range(n-1, -1, -1):  # Calculate the suffix maximums\n",
    "            m2 = max(height[j], m2)  # Update the maximum height encountered in the suffix\n",
    "            suffix.insert(0, m2)  # Insert the maximum height at the beginning of the suffix list\n",
    "\n",
    "        for i in range(n):  # Calculate the amount of water trapped at each index\n",
    "            water += min(prefix[i], suffix[i]) - height[i]  # Calculate the water trapped and add it to the total\n",
    "\n",
    "        return water  # Return the total amount of water trapped"
   ]
  },
  {
   "cell_type": "code",
   "execution_count": null,
   "id": "fc670b69",
   "metadata": {},
   "outputs": [],
   "source": [
    "#Optimal\n",
    "class Solution:\n",
    "    def trap(self, nums: List[int]) -> int:\n",
    "        n = len(nums)  # Get the length of the input list\n",
    "        l = 0  # Initialize the left pointer\n",
    "        r = n - 1  # Initialize the right pointer\n",
    "        leftMax = 0  # Initialize the maximum height encountered on the left side\n",
    "        rightMax = 0  # Initialize the maximum height encountered on the right side\n",
    "        water = 0  # Initialize the total water trapped\n",
    "\n",
    "        while l < r:  # Continue until the left and right pointers meet or cross each other\n",
    "            if nums[l] < nums[r]:  # If the height at the left pointer is smaller than the height at the right pointer\n",
    "                leftMax = max(leftMax, nums[l])  # Update the maximum height encountered on the left side\n",
    "                water += leftMax - nums[l]  # Calculate and add the amount of water trapped at the left pointer\n",
    "                l += 1  # Move the left pointer to the right\n",
    "            else:  # If the height at the right pointer is smaller than or equal to the height at the left pointer\n",
    "                rightMax = max(rightMax, nums[r])  # Update the maximum height encountered on the right side\n",
    "                water += rightMax - nums[r]  # Calculate and add the amount of water trapped at the right pointer\n",
    "                r -= 1  # Move the right pointer to the left\n",
    "\n",
    "        return water  # Return the total amount of water trapped"
   ]
  },
  {
   "cell_type": "markdown",
   "id": "7f330546",
   "metadata": {},
   "source": [
    "# 26. Remove Duplicates from Sorted Array"
   ]
  },
  {
   "cell_type": "code",
   "execution_count": null,
   "id": "a787e535",
   "metadata": {},
   "outputs": [],
   "source": [
    "class Solution:\n",
    "    def removeDuplicates(self, nums: List[int]) -> int:\n",
    "        nums[:] = sorted(set(nums))  # Create a sorted set of unique elements and assign it to nums, modifying the original list\n",
    "        return len(nums)  # Return the length of the modified nums list"
   ]
  },
  {
   "cell_type": "markdown",
   "id": "ece6ce32",
   "metadata": {},
   "source": [
    "# 485. Max Consecutive Ones"
   ]
  },
  {
   "cell_type": "code",
   "execution_count": null,
   "id": "686d47d5",
   "metadata": {},
   "outputs": [],
   "source": [
    "class Solution:\n",
    "    def findMaxConsecutiveOnes(self, nums: List[int]) -> int:\n",
    "        maxi = -sys.maxsize  # Initialize the maximum consecutive ones variable with the smallest possible value\n",
    "        count = 0  # Initialize the current consecutive ones count\n",
    "        for num in nums:  # Iterate through the given list\n",
    "            if num == 1:  # If the current number is 1\n",
    "                count += 1  # Increment the consecutive ones count\n",
    "            else:  # If the current number is not 1 (i.e., 0)\n",
    "                count = 0  # Reset the consecutive ones count\n",
    "            maxi = max(maxi, count)  # Update the maximum consecutive ones value\n",
    "        return maxi  # Return the maximum consecutive ones found in the list"
   ]
  }
 ],
 "metadata": {
  "kernelspec": {
   "display_name": "Python 3 (ipykernel)",
   "language": "python",
   "name": "python3"
  },
  "language_info": {
   "codemirror_mode": {
    "name": "ipython",
    "version": 3
   },
   "file_extension": ".py",
   "mimetype": "text/x-python",
   "name": "python",
   "nbconvert_exporter": "python",
   "pygments_lexer": "ipython3",
   "version": "3.11.3"
  }
 },
 "nbformat": 4,
 "nbformat_minor": 5
}
