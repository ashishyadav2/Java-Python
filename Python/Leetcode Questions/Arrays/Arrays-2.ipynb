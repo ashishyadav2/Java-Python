{
 "cells": [
  {
   "cell_type": "markdown",
   "id": "2c823fbc",
   "metadata": {},
   "source": [
    "# 48. Rotate Image"
   ]
  },
  {
   "cell_type": "code",
   "execution_count": 5,
   "id": "6c7770c0",
   "metadata": {},
   "outputs": [],
   "source": [
    "from typing import List\n",
    "class Solution:\n",
    "    def rotate(self, matrix: List[List[int]]) -> None:\n",
    "        \"\"\"\n",
    "        Do not return anything, modify matrix in-place instead.\n",
    "        \"\"\"\n",
    "        n = len(matrix)  # Get the size of the matrix (assuming it's a square matrix)\n",
    "\n",
    "        matrix.reverse()  # Reverse the matrix vertically (top becomes bottom, bottom becomes top)\n",
    "\n",
    "        # Iterate through each row and column\n",
    "        for r in range(n):\n",
    "            for c in range(r):\n",
    "                # Swap the elements at positions (r, c) and (c, r)\n",
    "                matrix[r][c], matrix[c][r] = matrix[c][r], matrix[r][c]\n"
   ]
  },
  {
   "cell_type": "markdown",
   "id": "3d005847",
   "metadata": {},
   "source": [
    "# 56. Merge Intervals"
   ]
  },
  {
   "cell_type": "code",
   "execution_count": 6,
   "id": "32058ac9",
   "metadata": {},
   "outputs": [],
   "source": [
    "#Brute Force\n",
    "\n",
    "class Solution:\n",
    "    def merge(self, mat: List[List[int]]) -> List[List[int]]:\n",
    "        ans = []  # List to store merged intervals\n",
    "        mat.sort()  # Sort intervals based on the default sorting order\n",
    "        \n",
    "        n = len(mat)\n",
    "        for i in range(n):\n",
    "            start = mat[i][0]\n",
    "            end = mat[i][1]\n",
    "            \n",
    "            if ans and end <= ans[-1][1]:\n",
    "                # If the current interval overlaps with or is contained within the previous merged interval, skip it\n",
    "                continue\n",
    "            \n",
    "            for j in range(i+1, n):\n",
    "                if mat[j][0] <= end:\n",
    "                    # If the current interval overlaps with the next interval, update the end time\n",
    "                    end = max(end, mat[j][1])\n",
    "                else:\n",
    "                    # If there is no overlap, break the inner loop\n",
    "                    break\n",
    "            \n",
    "            ans.append([start, end])  # Add the merged interval to the result list\n",
    "        \n",
    "        return ans\n"
   ]
  },
  {
   "cell_type": "code",
   "execution_count": 7,
   "id": "7faa9bb3",
   "metadata": {},
   "outputs": [],
   "source": [
    "#Optimal\n",
    "\n",
    "# In this code:\n",
    "# The Solution class contains a method merge() that takes a list of intervals as input and \n",
    "# returns the merged intervals as output.\n",
    "# The ans list is used to store the merged intervals.\n",
    "# The mat list of intervals is sorted based on their start time using a \n",
    "# lambda function as the key for the sort() method.\n",
    "# Each interval in the mat list is checked for overlap with the previous merged \n",
    "# interval. If there is no overlap, the interval is added as a new interval to ans. If there is an overlap, the end time of the previous merged interval is updated to the maximum of its current end time and the end time of the current interval.\n",
    "# The merged intervals stored in ans are returned as the final result.\n",
    "# Note that the code assumes the input mat is a list of intervals, where each interval is \n",
    "# represented as a list [start, end].\n",
    "\n",
    "class Solution:\n",
    "    def merge(self, mat: List[List[int]]) -> List[List[int]]:\n",
    "        ans = []  # List to store merged intervals\n",
    "        mat.sort(key=lambda arr: arr[0])  # Sort intervals based on start time\n",
    "        \n",
    "        for row in mat:\n",
    "            if not ans or row[0] > ans[-1][1]:\n",
    "                # If the current interval doesn't overlap with the previous merged interval, add it as a new interval\n",
    "                ans.append(row)\n",
    "            else:\n",
    "                # If there is an overlap, update the end time of the previous merged interval\n",
    "                ans[-1][1] = max(ans[-1][1], row[1])\n",
    "        \n",
    "        return ans\n"
   ]
  },
  {
   "cell_type": "markdown",
   "id": "b9393b8d",
   "metadata": {},
   "source": [
    "# 88. Merge Sorted Array"
   ]
  },
  {
   "cell_type": "code",
   "execution_count": 8,
   "id": "a1f971db",
   "metadata": {},
   "outputs": [],
   "source": [
    "# # In this code:\n",
    "# The Solution class contains a method merge() that merges two sorted arrays nums1 and nums2 in-place.\n",
    "# The counter variable represents the total number of elements in the merged array (nums1).\n",
    "# The elements from nums2 are copied into nums1 starting from index m using a loop. \n",
    "# The i-n index is used to access the corresponding elements from nums2.\n",
    "# After the elements are copied, nums1 is sorted in-place using the sort() method.\n",
    "# Note that the code assumes nums1 and nums2 are lists of integers, \n",
    "# and m and n are integers representing the number of elements in nums1 and nums2, respectively. \n",
    "# The merged result is stored in nums1 itself, modifying it in-place.\n",
    "\n",
    "class Solution:\n",
    "    def merge(self, nums1: List[int], m: int, nums2: List[int], n: int) -> None:\n",
    "        \"\"\"\n",
    "        Do not return anything, modify nums1 in-place instead.\n",
    "        \"\"\"\n",
    "        counter = m + n  # Total number of elements in the merged array\n",
    "        \n",
    "        # Copy elements from nums2 to nums1 starting from index m\n",
    "        for i in range(m, counter):\n",
    "            nums1[i] = nums2[i - m]\n",
    "        \n",
    "        nums1.sort()  # Sort the merged array in-place\n"
   ]
  },
  {
   "cell_type": "markdown",
   "id": "fcf90668",
   "metadata": {},
   "source": [
    "# 287. Find the Duplicate Number"
   ]
  },
  {
   "cell_type": "code",
   "execution_count": 9,
   "id": "47087d00",
   "metadata": {},
   "outputs": [],
   "source": [
    "# In this code:\n",
    "# findDuplicate() that takes a list of integers nums as input and returns the duplicate element.\n",
    "# The Counter function from the collections module is used to count the occurrences of each element in nums. \n",
    "# It creates a dictionary-like object d, where the elements of nums are keys and their counts are values.\n",
    "# The most_common() method is called on d to retrieve the most common elements in descending order.\n",
    "# Since there is only one duplicate element in nums, the first element of the result (index 0) is the duplicate \n",
    "# element with the highest count.\n",
    "# The duplicate element is returned as the output of the findDuplicate() method.\n",
    "# Note that the code assumes nums is a list of integers, and the duplicate element is guaranteed to exist in nums.\n",
    "\n",
    "class Solution:\n",
    "    def findDuplicate(self, nums: List[int]) -> int:\n",
    "        d = Counter(nums)  # Count the occurrences of each element in nums using Counter\n",
    "        return d.most_common()[0][0]  # Return the most common element (the duplicate) in nums\n"
   ]
  },
  {
   "cell_type": "markdown",
   "id": "17ba3b46",
   "metadata": {},
   "source": [
    "# Repeat and Missing Number Array- Interview Bit"
   ]
  },
  {
   "cell_type": "code",
   "execution_count": null,
   "id": "5b2afd6d",
   "metadata": {},
   "outputs": [],
   "source": []
  },
  {
   "cell_type": "markdown",
   "id": "104d3ba4",
   "metadata": {},
   "source": [
    "# Count Inversions - Coding Ninjas"
   ]
  },
  {
   "cell_type": "code",
   "execution_count": 10,
   "id": "d3165f9f",
   "metadata": {},
   "outputs": [],
   "source": [
    "# In this code:\n",
    "\n",
    "# The merge() function merges two sorted halves of an array and counts the inversions between them.\n",
    "# The merge_sort() function recursively divides the array into two halves, sorts them using merge sort, \n",
    "# and counts the inversions.\n",
    "# The getInversions() function serves as a wrapper function for the merge sort process and returns the total inversion count.\n",
    "# The takeInput() function reads the input array from standard input.\n",
    "# The main section reads the input array, calls the getInversions() function, and prints the inversion count.\n",
    "# Overall, the code uses merge sort to efficiently count the number of inversions in the given array.\n",
    "\n",
    "\n",
    "\n",
    "\n",
    "\n",
    "def merge(nums, left, mid, right):\n",
    "    total = 0  # Variable to store the inversion count\n",
    "    t = []  # Temporary array to store the merged subarray\n",
    "    i = left  # Pointer for the first half of the subarray\n",
    "    j = mid + 1  # Pointer for the second half of the subarray\n",
    "    while i <= mid and j <= right:\n",
    "        if nums[i] < nums[j]:\n",
    "            t.append(nums[i])  # Append the smaller element from the first half\n",
    "            i += 1\n",
    "        else:\n",
    "            t.append(nums[j])  # Append the smaller element from the second half\n",
    "            j += 1\n",
    "            total += mid - i + 1  # Increment inversion count\n",
    "    while i <= mid:\n",
    "        t.append(nums[i])  # Append remaining elements from the first half\n",
    "        i += 1\n",
    "    while j <= right:\n",
    "        t.append(nums[j])  # Append remaining elements from the second half\n",
    "        j += 1\n",
    "    for i in range(left, right + 1):\n",
    "        nums[i] = t[i - left]  # Copy merged subarray back to the original array\n",
    "    return total\n",
    "\n",
    "def getInversions(arr, n):\n",
    "    def merge_sort(arr, l, r):\n",
    "        count = 0  # Variable to store the inversion count\n",
    "        if l < r:\n",
    "            mid = l + (r - l) // 2  # Calculate the mid index\n",
    "            count = merge_sort(arr, l, mid) + merge_sort(arr, mid + 1, r)  # Recursively sort and merge the two halves\n",
    "            count += merge(arr, l, mid, r)  # Merge the two sorted halves and update the inversion count\n",
    "        return count\n",
    "\n",
    "    return merge_sort(arr, 0, len(arr) - 1)  # Call the merge_sort function with the array bounds\n",
    "\n"
   ]
  }
 ],
 "metadata": {
  "kernelspec": {
   "display_name": "Python 3 (ipykernel)",
   "language": "python",
   "name": "python3"
  },
  "language_info": {
   "codemirror_mode": {
    "name": "ipython",
    "version": 3
   },
   "file_extension": ".py",
   "mimetype": "text/x-python",
   "name": "python",
   "nbconvert_exporter": "python",
   "pygments_lexer": "ipython3",
   "version": "3.11.3"
  }
 },
 "nbformat": 4,
 "nbformat_minor": 5
}
