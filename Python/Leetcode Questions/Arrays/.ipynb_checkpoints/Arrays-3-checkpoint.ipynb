{
 "cells": [
  {
   "cell_type": "markdown",
   "id": "97d61169",
   "metadata": {},
   "source": [
    "# 74. Search a 2D Matrix"
   ]
  },
  {
   "cell_type": "code",
   "execution_count": 3,
   "id": "c6fb9911",
   "metadata": {},
   "outputs": [],
   "source": [
    "# Better\n",
    "from typing import List\n",
    "class Solution:\n",
    "    def searchMatrix(self, matrix: List[List[int]], target: int) -> bool:\n",
    "        i = 0  # Initialize the row index to 0\n",
    "        j = len(matrix[0])-1  # Initialize the column index to the last column of the matrix\n",
    "        while (i<len(matrix) and j>-1):  # Iterate while the row index is within bounds and the column index is greater than -1\n",
    "            if matrix[i][j]==target:  # If the current element is equal to the target value\n",
    "                return True  # Return True, as the target value is found in the matrix\n",
    "            if matrix[i][j]>target:  # If the current element is greater than the target value\n",
    "                j -= 1  # Decrement the column index to move to the previous column\n",
    "            else:  # If the current element is less than the target value\n",
    "                i += 1  # Increment the row index to move to the next row\n",
    "        return False  # Return False if the target value is not found in the matrix\n"
   ]
  },
  {
   "cell_type": "code",
   "execution_count": 4,
   "id": "718d37fa",
   "metadata": {},
   "outputs": [],
   "source": [
    "#Optimal\n",
    "from typing import List\n",
    "class Solution:\n",
    "    def searchMatrix(self, matrix: List[List[int]], target: int) -> bool:\n",
    "        n = len(matrix)  # Get the number of rows in the matrix\n",
    "        m = len(matrix[0])  # Get the number of columns in the matrix\n",
    "        start = 0  # Initialize the start index to 0\n",
    "        end = n*m-1  # Initialize the end index to the last index of the flattened matrix\n",
    "        while start <= end:  # Perform binary search until the start index is less than or equal to the end index\n",
    "            mid = start + (end-start)//2  # Calculate the middle index\n",
    "            row = mid // m  # Calculate the row index of the middle element\n",
    "            col = mid % m  # Calculate the column index of the middle element\n",
    "            if matrix[row][col] < target:  # If the middle element is less than the target value\n",
    "                start = mid + 1  # Update the start index to search the right half\n",
    "            elif matrix[row][col] > target:  # If the middle element is greater than the target value\n",
    "                end = mid - 1  # Update the end index to search the left half\n",
    "            else:  # If the middle element is equal to the target value\n",
    "                return True  # Return True, as the target value is found in the matrix\n",
    "        return False  # Return False if the target value is not found in the matrix\n"
   ]
  },
  {
   "cell_type": "markdown",
   "id": "63aec31f",
   "metadata": {},
   "source": [
    "# 50. Pow(x, n)"
   ]
  },
  {
   "cell_type": "code",
   "execution_count": 5,
   "id": "3e33c255",
   "metadata": {},
   "outputs": [],
   "source": [
    "class Solution:\n",
    "    def myPow(self, x: float, n: int) -> float:\n",
    "        temp = n if n > 0 else -n  # Store the absolute value of n in the variable temp\n",
    "        ans = 1.0  # Initialize the answer variable to 1.0\n",
    "        while temp > 0:  # Perform iterations while temp is greater than 0\n",
    "            if temp % 2 == 0:  # If temp is divisible by 2 (even)\n",
    "                x = x * x  # Update x by multiplying it with itself\n",
    "                temp = temp // 2  # Divide temp by 2\n",
    "            else:  # If temp is not divisible by 2 (odd)\n",
    "                ans = ans * x  # Multiply ans by x\n",
    "                temp = temp - 1  # Decrement temp by 1\n",
    "        if n < 0:  # If the original value of n was negative\n",
    "            return 1 / ans  # Return the reciprocal of ans\n",
    "        return ans  # Return the ans value\n"
   ]
  },
  {
   "cell_type": "markdown",
   "id": "78ccde1c",
   "metadata": {},
   "source": [
    "# 169. Majority Element"
   ]
  },
  {
   "cell_type": "code",
   "execution_count": 6,
   "id": "4029a2cf",
   "metadata": {},
   "outputs": [],
   "source": [
    "from typing import List\n",
    "class Solution:\n",
    "    def majorityElement(self, nums: List[int]) -> int:\n",
    "        t = len(nums)//2  # Calculate the threshold by dividing the length of nums by 2\n",
    "        d = Counter(nums)  # Create a counter object to count the occurrences of each number in nums\n",
    "        num = None  # Initialize the num variable to None\n",
    "        for i, j in d.most_common():  # Iterate over the items in the counter in descending order of occurrence\n",
    "            if j > t:  # If the occurrence of the current number is greater than the threshold\n",
    "                num = i  # Set the current number as the majority element\n",
    "                break  # Exit the loop, as the majority element is found\n",
    "        return num  # Return the majority element (or None if not found)\n"
   ]
  },
  {
   "cell_type": "markdown",
   "id": "ba4b4942",
   "metadata": {},
   "source": [
    "# 229. Majority Element II"
   ]
  },
  {
   "cell_type": "code",
   "execution_count": 7,
   "id": "8c1522fe",
   "metadata": {},
   "outputs": [],
   "source": [
    "from typing import List\n",
    "class Solution:\n",
    "    def majorityElement(self, nums: List[int]) -> List[int]:\n",
    "        t = len(nums)//3  # Calculate the threshold by dividing the length of nums by 3\n",
    "        d = Counter(nums)  # Create a counter object to count the occurrences of each number in nums\n",
    "        ans = []  # Initialize the ans list to store the majority elements\n",
    "        for i, j in d.most_common():  # Iterate over the items in the counter in descending order of occurrence\n",
    "            if j > t:  # If the occurrence of the current number is greater than the threshold\n",
    "                ans.append(i)  # Add the current number to the ans list\n",
    "        return ans  # Return the list of majority elements\n"
   ]
  },
  {
   "cell_type": "markdown",
   "id": "0860433a",
   "metadata": {},
   "source": [
    "# 62. Unique Paths"
   ]
  },
  {
   "cell_type": "code",
   "execution_count": 8,
   "id": "b45cd9e0",
   "metadata": {},
   "outputs": [],
   "source": [
    "# Brute using recursion\n",
    "class Solution:\n",
    "    def uniquePaths(self, m: int, n: int) -> int:\n",
    "        def recur(i, j):\n",
    "            if i >= n or j >= m:  # If the current position is out of bounds\n",
    "                return 0\n",
    "            if i == n-1 and j == m-1:  # If the current position is the destination\n",
    "                return 1\n",
    "            return recur(i+1, j) + recur(i, j+1)  # Recursively calculate the number of unique paths\n",
    "        c = recur(0, 0)  # Call the recursive function starting from the top-left corner\n",
    "        return c  # Return the total number of unique paths\n",
    "\n"
   ]
  },
  {
   "cell_type": "code",
   "execution_count": 9,
   "id": "3883c5e0",
   "metadata": {},
   "outputs": [],
   "source": [
    "# Better\n",
    "class Solution:\n",
    "    def uniquePaths(self, m: int, n: int) -> int:\n",
    "        dp = [[-1] * n for _ in range(m)]  # Initialize dp with -1 for each cell\n",
    "        def recur(i, j):\n",
    "            if i >= m or j >= n:  # If the current position is out of bounds\n",
    "                return 0\n",
    "            if i == m - 1 and j == n - 1:  # If the current position is the destination\n",
    "                return 1\n",
    "            if dp[i][j] != -1:  # If the current position is already computed\n",
    "                return dp[i][j]\n",
    "            dp[i][j] = recur(i + 1, j) + recur(i, j + 1)  # Compute the number of unique paths\n",
    "            return dp[i][j]\n",
    "        c = recur(0, 0)  # Call the recursive function starting from the top-left corner\n",
    "        return c  # Return the total number of unique paths\n"
   ]
  },
  {
   "cell_type": "code",
   "execution_count": null,
   "id": "c15ee790",
   "metadata": {},
   "outputs": [],
   "source": [
    "# Optimal\n",
    "class Solution:\n",
    "    def uniquePaths(self, m: int, n: int) -> int:\n",
    "        nn = m + n - 2  # Calculate the total number of steps required to reach the destination\n",
    "        r = m - 1  # Calculate the number of steps that need to be taken vertically (downwards)\n",
    "        ans = 1  # Initialize the answer variable to 1\n",
    "        for i in range(1, r + 1):  # Iterate over the range from 1 to r (inclusive)\n",
    "            ans = ans * ((nn - r) + i) // i  # Compute the binomial coefficient and update the answer\n",
    "        return ans  # Return the total number of unique paths\n"
   ]
  },
  {
   "cell_type": "markdown",
   "id": "d6a2f7ad",
   "metadata": {},
   "source": [
    "# 493. Reverse Pairs"
   ]
  },
  {
   "cell_type": "code",
   "execution_count": 10,
   "id": "52f5a967",
   "metadata": {},
   "outputs": [],
   "source": [
    "# Optimal\n",
    "class Solution:\n",
    "    def reversePairs(self, nums: List[int]) -> int:\n",
    "        def merge(arr, low, mid, right):\n",
    "            total = 0  # Initialize the total count of reverse pairs\n",
    "            j = mid + 1  # Initialize the pointer for the right subarray\n",
    "            t = []  # Initialize a temporary array for merging\n",
    "            for i in range(low, mid + 1):\n",
    "                while j <= right and arr[i] > 2 * nums[j]:\n",
    "                    j += 1  # Count the number of elements in the right subarray that form reverse pairs with arr[i]\n",
    "                total += j - (mid + 1)  # Update the total count of reverse pairs\n",
    "            i = low  # Initialize the pointer for the left subarray\n",
    "            j = mid + 1  # Reset the pointer for the right subarray\n",
    "            while i <= mid and j <= right:\n",
    "                if arr[i] < arr[j]:\n",
    "                    t.append(arr[i])\n",
    "                    i += 1\n",
    "                else:\n",
    "                    t.append(arr[j])\n",
    "                    j += 1\n",
    "            while i <= mid:\n",
    "                t.append(arr[i])\n",
    "                i += 1\n",
    "            while j <= right:\n",
    "                t.append(arr[j])\n",
    "                j += 1\n",
    "            for i in range(len(t)):\n",
    "                arr[i + low] = t[i]  # Copy the sorted merged array back to the original array\n",
    "            return total\n",
    "\n",
    "        def merge_sort(nums, low, high):\n",
    "            count = 0  # Initialize the count of reverse pairs\n",
    "            if low >= high:\n",
    "                return 0  # Base case: If the array has 0 or 1 element, return 0\n",
    "            mid = low + (high - low) // 2  # Calculate the mid index\n",
    "            count = merge_sort(nums, low, mid) + merge_sort(nums, mid + 1, high)  # Recursively sort and count reverse pairs in the left and right subarrays\n",
    "            count += merge(nums, low, mid, high)  # Merge the two sorted subarrays and count the additional reverse pairs\n",
    "            return count  # Return the total count of reverse pairs\n",
    "\n",
    "        return merge_sort(nums, 0, len(nums) - 1)  # Call the merge sort function and return the count of reverse pairs\n"
   ]
  }
 ],
 "metadata": {
  "CodeCell": {
   "cm_config": {
    "lineWrapping": true
   }
  },
  "MarkdownCell": {
   "cm_config": {
    "lineWrapping": true
   }
  },
  "kernelspec": {
   "display_name": "Python 3 (ipykernel)",
   "language": "python",
   "name": "python3"
  },
  "language_info": {
   "codemirror_mode": {
    "name": "ipython",
    "version": 3
   },
   "file_extension": ".py",
   "mimetype": "text/x-python",
   "name": "python",
   "nbconvert_exporter": "python",
   "pygments_lexer": "ipython3",
   "version": "3.11.3"
  }
 },
 "nbformat": 4,
 "nbformat_minor": 5
}
