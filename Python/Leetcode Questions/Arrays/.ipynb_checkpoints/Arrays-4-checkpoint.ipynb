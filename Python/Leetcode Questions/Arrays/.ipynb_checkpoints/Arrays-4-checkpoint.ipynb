{
 "cells": [
  {
   "cell_type": "markdown",
   "id": "885660e8",
   "metadata": {},
   "source": [
    "# 1. Two Sum"
   ]
  },
  {
   "cell_type": "code",
   "execution_count": 6,
   "id": "b359ac8e",
   "metadata": {},
   "outputs": [],
   "source": [
    "#Brute\n",
    "from typing import List\n",
    "class Solution:\n",
    "    def twoSum(self, nums: List[int], target: int) -> List[int]:\n",
    "        n = len(nums)  # Get the length of the nums list\n",
    "        for i in range(n):  # Iterate over the indices of nums\n",
    "            for j in range(i+1, n):  # Iterate over the indices starting from i+1\n",
    "                if nums[i] + nums[j] == target:  # Check if the sum of nums[i] and nums[j] equals the target\n",
    "                    return [i, j]  # If a pair is found, return the indices of the pair\n",
    "        return [-1, -1]  # If no pair is found, return [-1, -1]"
   ]
  },
  {
   "cell_type": "code",
   "execution_count": 7,
   "id": "397c38c2",
   "metadata": {},
   "outputs": [],
   "source": [
    "#Optimal\n",
    "from typing import List\n",
    "class Solution:\n",
    "    def twoSum(self, nums: List[int], target: int) -> List[int]:\n",
    "        d = {}  # Create an empty dictionary to store numbers and their indices\n",
    "        for i, num in enumerate(nums):  # Iterate over the list with indices\n",
    "            if target - num in d:  # Check if the complement of the current number exists in the dictionary\n",
    "                return [d[target - num], i]  # If the complement is found, return the indices of the two numbers\n",
    "            else:\n",
    "                d[num] = i  # Add the current number and its index to the dictionary\n",
    "        return [-1, -1]  # If no solution is found, return [-1, -1]\n"
   ]
  },
  {
   "cell_type": "markdown",
   "id": "4ede03bd",
   "metadata": {},
   "source": [
    "# 18. 4Sum"
   ]
  },
  {
   "cell_type": "code",
   "execution_count": 8,
   "id": "712fbf1e",
   "metadata": {},
   "outputs": [],
   "source": [
    "from typing import List\n",
    "class Solution:\n",
    "    def fourSum(self, nums: List[int], target: int) -> List[List[int]]:\n",
    "        nums.sort()  # Sort the input list in ascending order\n",
    "        temp = []  # Create an empty list to store the quadruplets\n",
    "        n = len(nums)  # Get the length of the list\n",
    "        for i in range(n):  # Iterate over the list elements\n",
    "            if i > 0 and nums[i] == nums[i-1]:  # Skip duplicates for the first element of the quadruplet\n",
    "                continue\n",
    "            for j in range(i+1, n):  # Iterate over the remaining elements\n",
    "                if j != i+1 and nums[j] == nums[j-1]:  # Skip duplicates for the second element of the quadruplet\n",
    "                    continue\n",
    "                k = j+1  # Initialize a pointer for the third element\n",
    "                l = n-1  # Initialize a pointer for the fourth element\n",
    "                while k < l:  # Perform a two-pointer search\n",
    "                    summ = nums[i] + nums[j] + nums[k] + nums[l]  # Calculate the sum of the four elements\n",
    "                    if summ == target:  # If the sum is equal to the target\n",
    "                        temp.append([nums[i], nums[j], nums[k], nums[l]])  # Add the quadruplet to the result\n",
    "                        while k < l and nums[k] == nums[k+1]:  # Skip duplicates for the third element\n",
    "                            k += 1\n",
    "                        while k < l and nums[l] == nums[l-1]:  # Skip duplicates for the fourth element\n",
    "                            l -= 1\n",
    "                        k += 1  # Move the third pointer to the next unique element\n",
    "                        l -= 1  # Move the fourth pointer to the previous unique element\n",
    "                    elif summ < target:  # If the sum is less than the target\n",
    "                        k += 1  # Move the third pointer to the next element to increase the sum\n",
    "                    else:  # If the sum is greater than the target\n",
    "                        l -= 1  # Move the fourth pointer to the previous element to decrease the sum\n",
    "        return temp  # Return the list of quadruplets\n"
   ]
  },
  {
   "cell_type": "markdown",
   "id": "3c14969e",
   "metadata": {},
   "source": [
    "# 128. Longest Consecutive Sequence"
   ]
  },
  {
   "cell_type": "code",
   "execution_count": 9,
   "id": "4a185343",
   "metadata": {},
   "outputs": [],
   "source": [
    "class Solution:\n",
    "    def longestConsecutive(self, nums: List[int]) -> int:\n",
    "        nums = list(set(nums))  # Remove duplicates by converting the list to a set and then back to a list\n",
    "        nums.sort()  # Sort the list in ascending order\n",
    "        c = 1  # Initialize a counter variable to keep track of the current consecutive sequence length\n",
    "        tc = 1  # Initialize a temporary counter variable to store the current consecutive sequence length\n",
    "        n = len(nums)  # Get the length of the nums list\n",
    "        if n < 1:  # Check if the list is empty\n",
    "            return 0  # If the list is empty, return 0 since there are no consecutive elements\n",
    "        print(nums)  # Print the sorted list (optional, for debugging purposes)\n",
    "        for i in range(1, n):  # Iterate over the list starting from the second element\n",
    "            if nums[i] == nums[i-1] + 1:  # Check if the current number is consecutive to the previous number\n",
    "                tc += 1  # If consecutive, increment the temporary counter\n",
    "            else:\n",
    "                tc = 1  # If not consecutive, reset the temporary counter to 1\n",
    "            c = max(c, tc)  # Update the maximum consecutive sequence length\n",
    "        return c  # Return the maximum consecutive sequence length"
   ]
  },
  {
   "cell_type": "markdown",
   "id": "c1d328d4",
   "metadata": {},
   "source": [
    "# Largest subarray with 0 sum - GeeksForGeeks"
   ]
  },
  {
   "cell_type": "code",
   "execution_count": 10,
   "id": "dbeec69e",
   "metadata": {},
   "outputs": [],
   "source": [
    "class Solution:\n",
    "    def maxLen(self, n, arr):\n",
    "        # Code here\n",
    "        d = {}  # Create an empty dictionary to store prefix sums and their indices\n",
    "        prefix = 0  # Initialize a variable to store the prefix sum\n",
    "        length = 0  # Initialize a variable to store the maximum subarray length\n",
    "        for i in range(n):  # Iterate over the array elements\n",
    "            prefix += arr[i]  # Add the current element to the prefix sum\n",
    "            if prefix == 0:  # Check if the prefix sum is zero\n",
    "                length = i + 1  # If the prefix sum is zero, update the maximum length to (i+1)\n",
    "            else:\n",
    "                if prefix not in d:  # If the prefix sum is not in the dictionary\n",
    "                    d[prefix] = i  # Add the prefix sum and its corresponding index to the dictionary\n",
    "                else:\n",
    "                    length = max(length, i - d[prefix])  # Update the maximum length if a repeating prefix sum is found\n",
    "        return length  # Return the maximum subarray length"
   ]
  },
  {
   "cell_type": "markdown",
   "id": "d2af08a6",
   "metadata": {},
   "source": [
    "# Subarray with given XOR - InterviewBit"
   ]
  },
  {
   "cell_type": "code",
   "execution_count": 36,
   "id": "e2297ee7",
   "metadata": {},
   "outputs": [
    {
     "name": "stdout",
     "output_type": "stream",
     "text": [
      "4\n"
     ]
    }
   ],
   "source": [
    "#Brute\n",
    "k = 6\n",
    "arr = [4,2,2,6,4]\n",
    "c = 0\n",
    "n = len(arr)\n",
    "for i in range(n):\n",
    "    x = 0\n",
    "    for j in range(i,n):\n",
    "        x ^=arr[j]\n",
    "        if x==k:\n",
    "            c+=1\n",
    "print(c)"
   ]
  },
  {
   "cell_type": "code",
   "execution_count": 50,
   "id": "966d6d49",
   "metadata": {},
   "outputs": [
    {
     "name": "stdout",
     "output_type": "stream",
     "text": [
      "4\n",
      "{0: 1, 4: 2, 6: 2, 2: 1}\n"
     ]
    }
   ],
   "source": [
    "#Optimal\n",
    "def solve(self, nums, k):\n",
    "    n = len(nums)  # Get the length of the input list\n",
    "    prexor = 0  # Initialize the prefix XOR variable\n",
    "    d = {0: 1}  # Create a dictionary with initial count for prefix XOR 0\n",
    "    count = 0  # Initialize the count variable\n",
    "    for i in range(n):  # Iterate over the list elements\n",
    "        prexor ^= nums[i]  # Update the prefix XOR by XORing with the current element\n",
    "        x = prexor ^ k  # Calculate the target XOR value\n",
    "        count += d.get(x, 0)  # Increment the count with the value from the dictionary (default to 0 if key not found)\n",
    "        if prexor in d:  # If the current prefix XOR already exists in the dictionary\n",
    "            d[prexor] += 1  # Increment its count\n",
    "        else:\n",
    "            d[prexor] = 1  # Add the current prefix XOR to the dictionary with count 1\n",
    "    return count  # Return the final count\n"
   ]
  },
  {
   "cell_type": "markdown",
   "id": "671c9983",
   "metadata": {},
   "source": [
    "# 3. Longest Substring Without Repeating Characters"
   ]
  },
  {
   "cell_type": "code",
   "execution_count": 11,
   "id": "a26cdf52",
   "metadata": {},
   "outputs": [],
   "source": [
    "class Solution:\n",
    "    def lengthOfLongestSubstring(self, s: str) -> int:\n",
    "        d = set()  # Create an empty set to store unique characters\n",
    "        lo = 0  # Initialize a variable lo as the lower index of the sliding window\n",
    "        hi = 0  # Initialize a variable hi as the higher index of the sliding window\n",
    "        l = 0  # Initialize a variable l to store the length of the longest substring\n",
    "        n = len(s)  # Get the length of the input string\n",
    "        while hi < n:  # Iterate until the higher index reaches the end of the string\n",
    "            if s[hi] not in d:  # Check if the current character is not in the set\n",
    "                d.add(s[hi])  # Add the current character to the set\n",
    "                l = max(l, hi - lo + 1)  # Update the length of the longest substring if necessary\n",
    "                hi += 1  # Increment the higher index\n",
    "            else:  # If the current character is already in the set\n",
    "                d.remove(s[lo])  # Remove the character at the lower index from the set\n",
    "                lo += 1  # Increment the lower index\n",
    "        return l  # Return the length of the longest substring\n"
   ]
  },
  {
   "cell_type": "code",
   "execution_count": null,
   "id": "acb7fa20",
   "metadata": {},
   "outputs": [],
   "source": []
  }
 ],
 "metadata": {
  "kernelspec": {
   "display_name": "Python 3 (ipykernel)",
   "language": "python",
   "name": "python3"
  },
  "language_info": {
   "codemirror_mode": {
    "name": "ipython",
    "version": 3
   },
   "file_extension": ".py",
   "mimetype": "text/x-python",
   "name": "python",
   "nbconvert_exporter": "python",
   "pygments_lexer": "ipython3",
   "version": "3.11.3"
  }
 },
 "nbformat": 4,
 "nbformat_minor": 5
}
