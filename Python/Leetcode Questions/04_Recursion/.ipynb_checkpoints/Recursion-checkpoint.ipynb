{
 "cells": [
  {
   "cell_type": "markdown",
   "id": "f52d46e7",
   "metadata": {},
   "source": [
    "# Subset Sums - GFG"
   ]
  },
  {
   "cell_type": "code",
   "execution_count": null,
   "id": "7e701766",
   "metadata": {},
   "outputs": [],
   "source": [
    "# Brute\n",
    "def subsetSums(self, arr, n):\n",
    "    # Initialize an empty list to store the subset sums\n",
    "    ans = []\n",
    "\n",
    "    # Generate all possible subsets using bitwise operations\n",
    "    for i in range(1 << n):\n",
    "        t = []\n",
    "        # Check each bit of the binary representation of i\n",
    "        # If the jth bit is set, include the jth element from arr in the subset\n",
    "        for j in range(n):\n",
    "            if i & (1 << j):\n",
    "                t.append(arr[j])\n",
    "        \n",
    "        # Calculate the sum of the elements in the current subset and append it to ans\n",
    "        ans.append(sum(t))\n",
    "    \n",
    "    # Return the list of subset sums\n",
    "    return ans\n"
   ]
  },
  {
   "cell_type": "code",
   "execution_count": null,
   "id": "972e3848",
   "metadata": {},
   "outputs": [],
   "source": [
    "# Optimal\n",
    "class Solution:\n",
    "    def subsetSums(self, arr, N):\n",
    "        # Initialize an empty list to store the subset sums\n",
    "        t = []\n",
    "\n",
    "        def subset(ind, s):\n",
    "            # Base case: if all elements have been considered\n",
    "            if ind == N:\n",
    "                t.append(s)\n",
    "                return\n",
    "            \n",
    "            # Include the current element in the sum and recursively call the function\n",
    "            subset(ind + 1, s + arr[ind])\n",
    "            \n",
    "            # Exclude the current element and recursively call the function\n",
    "            subset(ind + 1, s)\n",
    "        \n",
    "        # Start the recursion with index 0 and sum 0\n",
    "        subset(0, 0)\n",
    "        \n",
    "        # Sort the subset sums in ascending order\n",
    "        return sorted(t)\n"
   ]
  },
  {
   "cell_type": "markdown",
   "id": "40d76652",
   "metadata": {},
   "source": [
    "# 90. Subsets II"
   ]
  },
  {
   "cell_type": "code",
   "execution_count": 22,
   "id": "742a6848",
   "metadata": {},
   "outputs": [],
   "source": [
    "# Brute\n",
    "def generateSubsets(nums):\n",
    "    n = len(nums)  # Get the length of the nums list\n",
    "    ans = []  # Initialize an empty list to store the subsets\n",
    "\n",
    "    # Generate all possible subsets using bitwise operations\n",
    "    for i in range(1 << n):\n",
    "        t = []  # Initialize an empty list to store the current subset\n",
    "        for j in range(n):\n",
    "            # Check each bit of the binary representation of i\n",
    "            # If the jth bit is set, include the jth element from nums in the subset\n",
    "            if i & (1 << j):\n",
    "                t.append(nums[j])\n",
    "        \n",
    "        ans.append(t)  # Append the current subset to the ans list\n",
    "\n",
    "    # Remove duplicate subsets by converting to tuples, creating a set, and converting back to a list\n",
    "    lst = list(map(list, set(map(tuple, ans))))\n",
    "\n",
    "    return lst\n"
   ]
  },
  {
   "cell_type": "code",
   "execution_count": 24,
   "id": "01a7e7f2",
   "metadata": {},
   "outputs": [],
   "source": [
    "# Optimal\n",
    "from typing import List\n",
    "class Solution:\n",
    "    def subsetsWithDup(self, nums: List[int]) -> List[List[int]]:\n",
    "        n = len(nums)\n",
    "        ans = []  # Initialize an empty list to store the subsets\n",
    "        ds = []  # Initialize an empty list to store the current subset\n",
    "\n",
    "        def func(ind):\n",
    "            ans.append(ds.copy())  # Append the current subset to the ans list\n",
    "            for i in range(ind, n):\n",
    "                if i != ind and nums[i] == nums[i-1]:\n",
    "                    continue\n",
    "                ds.append(nums[i])  # Add the current number to the subset\n",
    "                func(i+1)  # Recursively call the function with the next index\n",
    "                ds.pop()  # Remove the last added number from the subset\n",
    "\n",
    "        nums.sort()  # Sort the input list in ascending order\n",
    "        func(0)  # Call the helper function to generate subsets starting from index 0\n",
    "        return ans  # Return the list of subsets\n",
    "\n"
   ]
  },
  {
   "cell_type": "markdown",
   "id": "6242532a",
   "metadata": {},
   "source": [
    "# 39. Combination Sum"
   ]
  },
  {
   "cell_type": "code",
   "execution_count": null,
   "id": "136a419d",
   "metadata": {},
   "outputs": [],
   "source": [
    "class Solution:\n",
    "    def combinationSum(self, a: List[int], target: int) -> List[List[int]]:\n",
    "        ds = []  # Initialize an empty list to store the current combination\n",
    "        ans = []  # Initialize an empty list to store the combinations\n",
    "\n",
    "        def func(ind, target, ds):\n",
    "            if ind == len(a):\n",
    "                if target == 0:\n",
    "                    ans.append(ds.copy())  # Append the current combination to the ans list\n",
    "                return\n",
    "\n",
    "            if a[ind] <= target:\n",
    "                ds.append(a[ind])  # Add the current number to the combination\n",
    "                func(ind, target - a[ind], ds)  # Recursively call the function with the same index and reduced target\n",
    "                ds.pop()  # Remove the last added number from the combination to backtrack\n",
    "\n",
    "            func(ind + 1, target, ds)  # Recursively call the function with the next index and the same target\n",
    "\n",
    "        func(0, target, ds)  # Call the helper function with initial index 0 and the target\n",
    "        return ans  # Return the list of combinations\n"
   ]
  },
  {
   "cell_type": "markdown",
   "id": "05d07e0f",
   "metadata": {},
   "source": [
    "# 40. Combination Sum II"
   ]
  },
  {
   "cell_type": "code",
   "execution_count": null,
   "id": "6065e120",
   "metadata": {},
   "outputs": [],
   "source": [
    "class Solution:\n",
    "    def combinationSum2(self, a: List[int], target: int) -> List[List[int]]:\n",
    "        n = len(a)\n",
    "        ans = []  # Initialize an empty list to store the combinations\n",
    "        t = []  # Initialize an empty list to store the current combination\n",
    "        a.sort()  # Sort the input list in ascending order\n",
    "\n",
    "        def func(ind, target):\n",
    "            if target == 0:\n",
    "                ans.append(t.copy())  # Append the current combination to the ans list\n",
    "            for i in range(ind, n):\n",
    "                if i != ind and a[i] == a[i-1]:\n",
    "                    continue\n",
    "                if a[i] > target:\n",
    "                    break\n",
    "                t.append(a[i])  # Add the current number to the combination\n",
    "                func(i + 1, target - a[i])  # Recursively call the function with the next index and reduced target\n",
    "                t.pop()  # Remove the last added number from the combination to backtrack\n",
    "\n",
    "        func(0, target)  # Call the helper function with initial index 0 and the target\n",
    "        return ans  # Return the list of combinations\n"
   ]
  },
  {
   "cell_type": "markdown",
   "id": "7716eba0",
   "metadata": {},
   "source": [
    "# 131. Palindrome Partitioning"
   ]
  },
  {
   "cell_type": "code",
   "execution_count": null,
   "id": "b79ef4fb",
   "metadata": {},
   "outputs": [],
   "source": [
    "class Solution:\n",
    "    def partition(self, s: str) -> List[List[str]]:\n",
    "        temp = []  # Temporary list to store the current palindrome substrings\n",
    "        ans = []  # Final list to store all palindrome partitions\n",
    "        n = len(s)  # Length of the input string\n",
    "        \n",
    "        def fun(ind):\n",
    "            if ind == n:\n",
    "                ans.append(temp.copy())  # Append the current state of temp to ans\n",
    "                return\n",
    "            for i in range(ind, n):  # Iterate over all possible substrings starting from ind\n",
    "                if s[ind:i+1] == s[ind:i+1][::-1]:  # Check if the current substring is a palindrome\n",
    "                    temp.append(s[ind:i+1])  # Add the palindrome substring to temp\n",
    "                    fun(i+1)  # Recursively call fun with the next index\n",
    "                    temp.pop()  # Backtrack by removing the last added substring from temp\n",
    "        \n",
    "        fun(0)  # Start the recursive partitioning process from index 0\n",
    "        return ans  # Return the final list of palindrome partitions\n"
   ]
  },
  {
   "cell_type": "markdown",
   "id": "fe9049c7",
   "metadata": {},
   "source": [
    "#  60. Permutation Sequence"
   ]
  },
  {
   "cell_type": "code",
   "execution_count": 36,
   "id": "b02469ba",
   "metadata": {},
   "outputs": [],
   "source": [
    "# Brute \n",
    "class Solution:\n",
    "    def getPermutation(self, n: int, k: int) -> str:\n",
    "        ans = []  # List to store permutations\n",
    "        def permute(arr, left, right):\n",
    "            if left == right:\n",
    "                ans.append(arr.copy())  # Append the current permutation to ans\n",
    "                return\n",
    "            for i in range(left, right):\n",
    "                arr[i], arr[left] = arr[left], arr[i]  # Swap elements to generate different permutations\n",
    "                permute(arr, left+1, right)  # Recursively call permute with updated index\n",
    "                arr[i], arr[left] = arr[left], arr[i]  # Backtrack by swapping the elements back\n",
    "        arr = list(range(1, n+1))  # Create a list with numbers from 1 to n\n",
    "        permute(arr, 0, len(arr))  # Start generating permutations\n",
    "        ans.sort() #  Sort the list to get correct kth position\n",
    "        t = list(map(str, ans[k-1]))  # Convert the kth permutation to a list of strings\n",
    "        return \"\".join(t)  # Join the list of strings to form the final string"
   ]
  },
  {
   "cell_type": "code",
   "execution_count": 37,
   "id": "275a1ab6",
   "metadata": {},
   "outputs": [],
   "source": [
    "# Optimal\n",
    "class Solution:\n",
    "    def getPermutation(self, n: int, k: int) -> str:\n",
    "        fact = math.factorial(n-1)  # Calculate the factorial of (n-1)\n",
    "        numbers = list(range(1, n+1))  # Create a list with numbers from 1 to n\n",
    "        ans = \"\"  # Initialize an empty string to store the resulting permutation\n",
    "        k = k - 1  # Adjust k to be zero-based index\n",
    "        while True:\n",
    "            ans += str(numbers[k // fact])  # Append the selected number to ans\n",
    "            numbers.pop(k // fact)  # Remove the selected number from the list\n",
    "            if len(numbers) < 1:\n",
    "                break\n",
    "            k = k % fact  # Update k by taking the remainder after division by fact\n",
    "            fact = fact // len(numbers)  # Update fact by dividing it by the length of the remaining numbers\n",
    "        return ans  # Return the final string representation of the permutation\n"
   ]
  },
  {
   "cell_type": "code",
   "execution_count": 38,
   "id": "94868315",
   "metadata": {},
   "outputs": [],
   "source": [
    "# Solution by me\n",
    "class Solution:\n",
    "    def getPermutation(self, n: int, k: int) -> str:\n",
    "        t = list(range(1, n+1))  # Create a list with numbers from 1 to n\n",
    "        for index in range(k-1):  # Iterate k-1 times to generate the kth permutation\n",
    "            arr = t.copy()  # Make a copy of the current state of t\n",
    "            i = n-1\n",
    "            while i > 0 and arr[i] <= arr[i-1]:  # Find the first decreasing element from the right\n",
    "                i -= 1\n",
    "            j = n-1\n",
    "            while j > i-1 and arr[j] <= arr[i-1]:  # Find the element just larger than arr[i-1] from the right\n",
    "                j -= 1\n",
    "            arr[i-1], arr[j] = arr[j], arr[i-1]  # Swap arr[i-1] and arr[j]\n",
    "            arr[i:] = arr[i:][::-1]  # Reverse the elements after position i\n",
    "            t = arr  # Update t to the modified permutation\n",
    "        ans = \"\".join(list(map(str, t)))  # Convert the permutation list to a string\n",
    "        return ans  # Return the final string representation of the kth permutation\n"
   ]
  },
  {
   "cell_type": "code",
   "execution_count": null,
   "id": "c96f42ac",
   "metadata": {},
   "outputs": [],
   "source": []
  }
 ],
 "metadata": {
  "kernelspec": {
   "display_name": "Python 3 (ipykernel)",
   "language": "python",
   "name": "python3"
  },
  "language_info": {
   "codemirror_mode": {
    "name": "ipython",
    "version": 3
   },
   "file_extension": ".py",
   "mimetype": "text/x-python",
   "name": "python",
   "nbconvert_exporter": "python",
   "pygments_lexer": "ipython3",
   "version": "3.11.3"
  }
 },
 "nbformat": 4,
 "nbformat_minor": 5
}
