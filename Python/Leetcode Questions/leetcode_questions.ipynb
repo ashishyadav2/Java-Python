{
 "cells": [
  {
   "cell_type": "markdown",
   "id": "94c56262",
   "metadata": {},
   "source": [
    "# Simple Permutation"
   ]
  },
  {
   "cell_type": "code",
   "execution_count": 7,
   "id": "d13919fd",
   "metadata": {},
   "outputs": [
    {
     "name": "stdout",
     "output_type": "stream",
     "text": [
      "[[1, 2, 3], [1, 3, 2], [2, 1, 3], [2, 3, 1], [3, 2, 1], [3, 1, 2]]\n",
      "6\n"
     ]
    }
   ],
   "source": [
    "nums = [1,2,3]\n",
    "ans = []\n",
    "def permutation(nums,left,right):\n",
    "    \n",
    "    #The function first checks if the left and right indices are the same. \n",
    "    # If they are, it means that we have reached the end of a permutation.\n",
    "    # so we append a copy of nums to the ans list.\n",
    "    if left==right:\n",
    "        ans.append(nums.copy())\n",
    "    else:\n",
    "        \n",
    "        # If the left and right indices are not the same, \n",
    "        # the function enters a loop that iterates over all the indices from left to right-1.\n",
    "        for i in range(left,right):\n",
    "            \n",
    "            # for each index i in the loop, the function swaps the value at index left with the value at index i.\n",
    "            # This effectively generates a new permutation with the value at index i now in the first position.\n",
    "            nums[left],nums[i] = nums[i],nums[left]\n",
    "            \n",
    "            # The permutation function is then called recursively with left+1 as the new left index.\n",
    "            # This generates all the possible permutations of the remaining integers in the list.\n",
    "            permutation(nums,left+1,right)\n",
    "            \n",
    "            # After the recursive call returns, the function swaps the values back to their original positions.\n",
    "            # This is necessary because we want to generate all permutations starting with each possible value at the first position.\n",
    "            nums[left],nums[i] = nums[i],nums[left]\n",
    "permutation(nums,0,len(nums))\n",
    "print(ans)"
   ]
  },
  {
   "cell_type": "code",
   "execution_count": 14,
   "id": "61f385b6",
   "metadata": {},
   "outputs": [
    {
     "name": "stdout",
     "output_type": "stream",
     "text": [
      "[[1, 2, 3], [1, 3, 2], [2, 1, 3], [2, 3, 1], [3, 2, 1], [3, 1, 2]]\n"
     ]
    }
   ],
   "source": [
    "arr = [1,2,3]\n",
    "ans = []\n",
    "def permutation(arr,left,right):\n",
    "    if left==right:\n",
    "        ans.append(arr.copy())\n",
    "    else:\n",
    "        for i in range(left,right):\n",
    "            arr[left],arr[i]=arr[i],arr[left]\n",
    "            permutation(arr,left+1,right)\n",
    "            arr[left],arr[i]=arr[i],arr[left]            \n",
    "    return ans\n",
    "print(permutation(arr,0,len(arr)))"
   ]
  },
  {
   "cell_type": "markdown",
   "id": "9fb6bf6e",
   "metadata": {},
   "source": [
    "# Simple Combination (Subsets, Power set)"
   ]
  },
  {
   "cell_type": "code",
   "execution_count": 17,
   "id": "cc03e3ed",
   "metadata": {},
   "outputs": [
    {
     "name": "stdout",
     "output_type": "stream",
     "text": [
      "[[], [1], [2], [1, 2], [3], [1, 3], [2, 3], [1, 2, 3]]\n"
     ]
    }
   ],
   "source": [
    "# Power set formula {1,2.3} lenght = 3 power set = 2^length of original set, it also includes null set\n",
    "nums = [1,2,3]\n",
    "ans = []\n",
    "n = len(nums)\n",
    "for i in range(1<<n): #2^n\n",
    "    temp = []\n",
    "    for j in range(n):\n",
    "        if i&(1<<j): #2^j \n",
    "            '''\n",
    "            i = 5 and j = 2\n",
    "            2 ^ 2 = 4\n",
    "            1 0 1 \n",
    "                    &\n",
    "            1 0 0\n",
    "            ------\n",
    "            1 0 0 which is true\n",
    "            '''\n",
    "            temp.append(nums[j])\n",
    "    ans.append(temp)    \n",
    "print(ans)"
   ]
  },
  {
   "cell_type": "code",
   "execution_count": 19,
   "id": "73c0e6eb",
   "metadata": {},
   "outputs": [
    {
     "name": "stdout",
     "output_type": "stream",
     "text": [
      "[[], [1], [2], [1, 2], [3], [1, 3], [2, 3], [1, 2, 3]]\n"
     ]
    }
   ],
   "source": [
    "arr = [1,2,3]\n",
    "n = len(arr)\n",
    "t = []\n",
    "for i in range(1<<n):\n",
    "    ans = []\n",
    "    for j in range(n):\n",
    "        if i&(1<<j):\n",
    "            ans.append(arr[j])\n",
    "    t.append(ans)\n",
    "print(t)"
   ]
  },
  {
   "cell_type": "markdown",
   "id": "7e983f78",
   "metadata": {},
   "source": [
    "# 556. Next Greater Element III"
   ]
  },
  {
   "cell_type": "code",
   "execution_count": 24,
   "id": "bda5ab75",
   "metadata": {
    "scrolled": true
   },
   "outputs": [
    {
     "name": "stdout",
     "output_type": "stream",
     "text": [
      "['9', '6', '0', '3', '5', '2']\n",
      "['9', '6', '0', '3', '2', '5']\n",
      "960325\n",
      "-1\n"
     ]
    }
   ],
   "source": [
    "# Approach\n",
    "# find smallest from right\n",
    "#find large from right\n",
    "#swap small and large\n",
    "#reverse swapped postition to last\n",
    "# Convert the input number n into a list of digits.\n",
    "n = 960253\n",
    "arr = list(str(n))\n",
    "\n",
    "# Traverse the list from right to left to find the first decreasing digit i-1.\n",
    "i = len(arr)-1\n",
    "while i>0 and arr[i-1]>=arr[i]:\n",
    "    i-=1\n",
    "    \n",
    "# If there is no such digit, the input number is already the largest possible permutation, so return -1.\n",
    "if i==0:\n",
    "#     return -1\n",
    "    print(-1)\n",
    "\n",
    "# Traverse the list again from right to left to find the smallest digit j greater than i-1.\n",
    "j = len(arr)-1\n",
    "while j>i-1 and arr[j]<=arr[i-1]:\n",
    "    j-=1\n",
    "    \n",
    "# Swap i-1 with j.\n",
    "arr[i-1],arr[j] = arr[j],arr[i-1]\n",
    "# Reverse the sublist from i to the end of the list to obtain the smallest possible permutation greater than the original number.\n",
    "arr[i:] = arr[i:][::-1]\n",
    "# If the resulting permutation is greater than 2^31 - 1, return -1. Otherwise, return the permutation as an integer\n",
    "ans = int(\"\".join(arr))\n",
    "if ans<(1<<31):\n",
    "#     return ans\n",
    "    print(ans)\n",
    "# return -1\n",
    "print(-1)"
   ]
  },
  {
   "cell_type": "code",
   "execution_count": 36,
   "id": "37da7fc1",
   "metadata": {},
   "outputs": [
    {
     "name": "stdout",
     "output_type": "stream",
     "text": [
      "4 5\n",
      "['9', '6', '0', '3', '2', '5']\n"
     ]
    }
   ],
   "source": [
    "n = 960253\n",
    "arr = list(str(n))\n",
    "i = len(arr)-1\n",
    "while i>-1 and arr[i-1]>=arr[i]:\n",
    "    i-=1\n",
    "j = len(arr)-1\n",
    "while j>i-1 and arr[i-1]>=arr[j]:\n",
    "    j-=1\n",
    "arr[j],arr[i-1]=arr[i-1],arr[j]\n",
    "arr[i:]=arr[i:][::-1]\n",
    "print(i,j)\n",
    "print(arr)"
   ]
  },
  {
   "cell_type": "markdown",
   "id": "94a008e3",
   "metadata": {},
   "source": [
    "# 31. Next Permutation"
   ]
  },
  {
   "cell_type": "code",
   "execution_count": 40,
   "id": "b15834f9",
   "metadata": {},
   "outputs": [
    {
     "name": "stdout",
     "output_type": "stream",
     "text": [
      "[1, 3, 2]\n"
     ]
    }
   ],
   "source": [
    "# Approach\n",
    "nums = [1,2,3]\n",
    "i = len(nums)-1\n",
    "\n",
    "# traverse the array from right to left find the first dip\n",
    "while i>-1 and nums[i-1]>=nums[i]:\n",
    "    i-=1\n",
    "#if we haven't reached to the left most side of the array otherwise array is in descending order just reverse it \n",
    "if i>-1:\n",
    "    j = len(nums)-1\n",
    "    \n",
    "    # find the that is greater than the dip th index\n",
    "    while j>i-1 and nums[j]<nums[i-1]:        \n",
    "        j-=1\n",
    "        \n",
    "     # swap the dip th index with the j th index found\n",
    "    nums[j],nums[i-1] = nums[i-1], nums[j]\n",
    "\n",
    "#reverse the array from dip th index to end\n",
    "nums[i:] = reversed(nums[i:])\n",
    "print(nums)"
   ]
  },
  {
   "cell_type": "markdown",
   "id": "77930301",
   "metadata": {},
   "source": [
    "# 686. Repeated String Match"
   ]
  },
  {
   "cell_type": "code",
   "execution_count": 61,
   "id": "5d27c063",
   "metadata": {},
   "outputs": [
    {
     "name": "stdout",
     "output_type": "stream",
     "text": [
      "b: cdabcdab\n",
      "a: abcdabcd\n",
      "b: cdabcdab\n",
      "a: abcdabcdabcd\n",
      "Repeatation: 3\n"
     ]
    }
   ],
   "source": [
    "# Approach\n",
    "def repeatedStringMatch(a: str, b: str) -> int:\n",
    "        temp = a\n",
    "        \n",
    "        # make count as 1 because it will exists at least once\n",
    "        c = 1 \n",
    "        \n",
    "        # calculate the maximum possible a can exist in b if len of a is 4 and len of b is 8 maximum times it\n",
    "        # can exist at most 2 times we add + 2 because a char can be left or right in b that it exists but in other order\n",
    "        n = len(b)//len(a) + 2 \n",
    "        for i in range(n):\n",
    "            \n",
    "            # check if b is in a then return c\n",
    "            if b in a:\n",
    "                return c\n",
    "            # else b is not in a then make a bigger by repeating copy of string a and increment the count\n",
    "            else:\n",
    "                a+=temp\n",
    "                c+=1\n",
    "            print(\"b: \"+b)\n",
    "            print(\"a: \"+a)\n",
    "        return -1\n",
    "a = \"abcd\"\n",
    "b = \"cdabcdab\"\n",
    "print(\"Repeatation: \"+str(repeatedStringMatch(a,b)))"
   ]
  },
  {
   "cell_type": "markdown",
   "id": "b930173e",
   "metadata": {},
   "source": [
    "# 777. Swap Adjacent in LR String"
   ]
  },
  {
   "cell_type": "code",
   "execution_count": null,
   "id": "9b0b6409",
   "metadata": {},
   "outputs": [],
   "source": [
    "# Approach\n",
    "# consider it as X as space L and R as persons they want to cross each other using that space\n",
    "# we have find out relative positions of L and R\n",
    "#ex: start = \"RXXLRXRXL\", end = \"XRLXXRRLX\"\n",
    "\n",
    "\n",
    "class Solution:\n",
    "    def canTransform(self, start: str, end: str) -> bool:\n",
    "        n = len(start)\n",
    "        \n",
    "        # if X is removed we get start = RLRRL and end = RLRRL\n",
    "        s = start.replace(\"X\",\"\")\n",
    "        e = end.replace(\"X\",\"\")\n",
    "        \n",
    "        # both are same so it can be transformed into the end else false\n",
    "        if s!=e:\n",
    "            return False\n",
    "        i = 0\n",
    "        j = 0\n",
    "        \n",
    "        # iterate over the strings\n",
    "        while i<n and j<n: \n",
    "            \n",
    "            #skip X character it will stop at if start[i] is R or L\n",
    "            if start[i]==\"X\":\n",
    "                i+=1\n",
    "                \n",
    "            #skip X character it will stop at if end[j] is R or L\n",
    "            elif end[j] == \"X\":\n",
    "                j+=1\n",
    "                \n",
    "            else:\n",
    "                # we want to check relative positon of R and L is start[i] is\n",
    "                # L and L is appearing before than its occurence in end string\n",
    "                # so end cannot be reached ex: s = LX e = XL means we can replace LX by XL but not vice versa\n",
    "                # same for the R if is occurering after the occurence of R in end so we return False\n",
    "                if (start[i]==\"L\" and i<j) or (start[i]==\"R\" and i>j):\n",
    "                    return False\n",
    "                \n",
    "                #other wise increment the i and j pointers go for next character\n",
    "                else:\n",
    "                    i+=1\n",
    "                    j+=1\n",
    "        return True"
   ]
  },
  {
   "cell_type": "markdown",
   "id": "754ddee3",
   "metadata": {},
   "source": [
    "# 451. Sort Characters By Frequency"
   ]
  },
  {
   "cell_type": "code",
   "execution_count": null,
   "id": "bb5d098a",
   "metadata": {},
   "outputs": [],
   "source": [
    "class Solution:\n",
    "    def frequencySort(self, s: str) -> str:\n",
    "        d = {}  # Initialize an empty dictionary to store character frequencies\n",
    "        \n",
    "        # Iterate over each character in the input string\n",
    "        for ch in s:\n",
    "            if ch in d:  # If the character is already in the dictionary\n",
    "                d[ch] += 1  # Increment its frequency by 1\n",
    "            else:\n",
    "                d[ch] = 1  # Otherwise, add the character to the dictionary with a frequency of 1\n",
    "        \n",
    "        ans = sorted(d, key=d.get, reverse=True)  # Sort the dictionary keys based on their values (frequencies) in descending order\n",
    "        \n",
    "        string = \"\"  # Initialize an empty string to store the sorted characters based on frequency\n",
    "        lst = list(d.items())  # Convert the dictionary to a list of key-value pairs\n",
    "        t = sorted(lst, key=lambda x: x[1], reverse=True)  # Sort the list based on the second element of each tuple (the frequencies) in descending order\n",
    "        \n",
    "        # Iterate over each key-value pair in the sorted list\n",
    "        for i, j in t:\n",
    "            t = i * j  # Repeat the character i by its frequency j times\n",
    "            string += t  # Append the repeated character to the string\n",
    "        \n",
    "        return string  # Return the sorted string based on frequency\n"
   ]
  },
  {
   "cell_type": "markdown",
   "id": "9d0d1d83",
   "metadata": {},
   "source": [
    "# 347. Top K Frequent Elements\n"
   ]
  },
  {
   "cell_type": "code",
   "execution_count": null,
   "id": "4b54cd90",
   "metadata": {},
   "outputs": [],
   "source": [
    "class Solution:\n",
    "    def topKFrequent(self, nums: List[int], k: int) -> List[int]:\n",
    "        d = {}  # Initialize an empty dictionary to store the frequencies of elements\n",
    "        elem = None  # Variable to keep track of the element with the maximum frequency\n",
    "        max_count = 0  # Variable to keep track of the maximum frequency\n",
    "        \n",
    "        # Iterate over each element in the list of numbers\n",
    "        for num in nums:\n",
    "            if num in d:  # If the element is already in the dictionary\n",
    "                d[num] += 1  # Increment its frequency by 1\n",
    "            else:\n",
    "                d[num] = 1  # Otherwise, add the element to the dictionary with a frequency of 1\n",
    "        \n",
    "        ans = sorted(d, key=d.get, reverse=True)[:k]  # Sort the dictionary keys (elements) based on their values (frequencies) in descending order and get the top k elements\n",
    "        \n",
    "        return ans  # Return the list of top k frequent elements\n"
   ]
  },
  {
   "cell_type": "markdown",
   "id": "583c5a4c",
   "metadata": {},
   "source": [
    "# 42. Trapping Rain Water"
   ]
  },
  {
   "cell_type": "code",
   "execution_count": null,
   "id": "2ac888c4",
   "metadata": {},
   "outputs": [],
   "source": [
    "#Better:\n",
    "class Solution:\n",
    "    def trap(self, height: List[int]) -> int:\n",
    "        n = len(height)\n",
    "        prefix =[0]*n\n",
    "        suffix =[0]*n\n",
    "        water= [0]*n\n",
    "        maxi = 0\n",
    "        unit = 0\n",
    "        for i in range(n):\n",
    "            maxi = max(maxi,height[i])\n",
    "            prefix[i]=maxi\n",
    "        maxi=0\n",
    "        for i in range(n-1,-1,-1):\n",
    "            maxi = max(maxi,height[i])\n",
    "            suffix[i]=maxi      \n",
    "        for i in range(n):\n",
    "            height[i]=min(prefix[i],suffix[i])-height[i]\n",
    "            unit+=height[i]\n",
    "        return unit\n",
    "\n",
    "#Optimized:\n",
    "class Solution:\n",
    "    def trap(self, nums: List[int]) -> int:\n",
    "        n = len(nums)  # Length of the input list\n",
    "        l = 0  # Pointer for the left side\n",
    "        r = n - 1  # Pointer for the right side\n",
    "        leftmax = 0  # Maximum height encountered from the left side\n",
    "        rightmax = 0  # Maximum height encountered from the right side\n",
    "        water = 0  # Variable to store the total amount of trapped water\n",
    "        \n",
    "        while l <= r:  # Continue until the left and right pointers cross each other\n",
    "            if nums[l] <= nums[r]:  # The height at the left pointer is smaller or equal to the height at the right pointer\n",
    "                if leftmax <= nums[l]:  # The current height at the left pointer is greater than or equal to the maximum height encountered so far\n",
    "                    leftmax = nums[l]  # Update the maximum height from the left side\n",
    "                else:\n",
    "                    water += leftmax - nums[l]  # Add the trapped water based on the difference between the maximum height and the current height\n",
    "                l += 1  # Move the left pointer to the right\n",
    "            else:  # The height at the right pointer is smaller than the height at the left pointer\n",
    "                if rightmax <= nums[r]:  # The current height at the right pointer is greater than or equal to the maximum height encountered so far\n",
    "                    rightmax = nums[r]  # Update the maximum height from the right side\n",
    "                else:\n",
    "                    water += rightmax - nums[r]  # Add the trapped water based on the difference between the maximum height and the current height\n",
    "                r -= 1  # Move the right pointer to the left\n",
    "        \n",
    "        return water  # Return the total amount of trapped water\n",
    "\n"
   ]
  }
 ],
 "metadata": {
  "kernelspec": {
   "display_name": "Python 3 (ipykernel)",
   "language": "python",
   "name": "python3"
  },
  "language_info": {
   "codemirror_mode": {
    "name": "ipython",
    "version": 3
   },
   "file_extension": ".py",
   "mimetype": "text/x-python",
   "name": "python",
   "nbconvert_exporter": "python",
   "pygments_lexer": "ipython3",
   "version": "3.11.3"
  }
 },
 "nbformat": 4,
 "nbformat_minor": 5
}
