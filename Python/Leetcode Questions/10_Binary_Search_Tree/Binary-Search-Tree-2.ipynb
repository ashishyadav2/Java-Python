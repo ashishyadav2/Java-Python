{
 "cells": [
  {
   "cell_type": "markdown",
   "metadata": {},
   "source": [
    "# Floor in a BST"
   ]
  },
  {
   "cell_type": "code",
   "execution_count": 1,
   "metadata": {},
   "outputs": [],
   "source": [
    "# **Algorithm/Intuition**:\n",
    "# 1. The provided code defines a class `Solution` with a method `floor` that finds the floor value of a given `key` in a binary search tree (BST).\n",
    "# 2. In a BST, the floor of a given key is the largest value that is less than or equal to the key. To find the floor, we traverse the tree starting from the root and move left or right based on the comparison with the key.\n",
    "# 3. When the key is equal to the value in a node, the floor is the value of that node.\n",
    "# 4. If the key is less than the value in a node, we move to the left subtree as the floor value must be in the left subtree (since all values in the left subtree are smaller).\n",
    "# 5. If the key is greater than the value in a node, we update the `floor` variable with the current node's value and move to the right subtree (since all values in the right subtree are greater).\n",
    "\n",
    "class Solution:\n",
    "    def floor(self, root, key):\n",
    "        # Initialize the floor to -1 (in case there is no floor for the given key)\n",
    "        floor = -1\n",
    "\n",
    "        # Traverse the binary search tree\n",
    "        while root:\n",
    "            if key == root.data:  # If the key matches the current node's value, it is the floor.\n",
    "                return root.data\n",
    "            \n",
    "            if key < root.data:  # If the key is smaller, move to the left subtree.\n",
    "                root = root.left\n",
    "            else:               # If the key is greater, update the floor and move to the right subtree.\n",
    "                floor = root.data\n",
    "                root = root.right\n",
    "\n",
    "        # Return the floor value found (or -1 if no floor exists for the given key).\n",
    "        return floor\n",
    "\n",
    "# **Short Point Wise Hints**:\n",
    "# 1. The `Solution` class contains a `floor` method to find the floor value of a given key in a binary search tree.\n",
    "# 2. The floor of a key is the largest value in the BST that is less than or equal to the key.\n",
    "# 3. Initialize the `floor` variable to -1 before starting the traversal.\n",
    "# 4. Traverse the tree starting from the root and compare the key with the current node's value.\n",
    "# 5. If the key matches the current node's value, return the value as it is the floor.\n",
    "# 6. If the key is smaller than the current node's value, move to the left subtree.\n",
    "# 7. If the key is greater than the current node's value, update the `floor` with the current node's value and move to the right subtree.\n",
    "# 8. After the traversal, return the floor value found (or -1 if the key is smaller than all values in the BST)."
   ]
  },
  {
   "cell_type": "markdown",
   "metadata": {},
   "source": [
    "# Ceil in a BST"
   ]
  },
  {
   "cell_type": "code",
   "execution_count": 2,
   "metadata": {},
   "outputs": [],
   "source": [
    "# **Algorithm/Intuition**:\n",
    "# 1. The provided code defines a class `Solution` with a method `findCeil` that finds the ceil value of a given `key` in a binary search tree (BST).\n",
    "# 2. In a BST, the ceil of a given key is the smallest value that is greater than or equal to the key. To find the ceil, we traverse the tree starting from the root and move left or right based on the comparison with the key.\n",
    "# 3. When the key is equal to the value in a node, the ceil is the value of that node.\n",
    "# 4. If the key is greater than the value in a node, we move to the right subtree as the ceil value must be in the right subtree (since all values in the right subtree are greater).\n",
    "# 5. If the key is less than the value in a node, we update the `ceil` variable with the current node's value and move to the left subtree (since all values in the left subtree are smaller).\n",
    "\n",
    "class Solution:\n",
    "    def findCeil(self, root, key):\n",
    "        # Initialize the ceil to -1 (in case there is no ceil for the given key)\n",
    "        ceil = -1\n",
    "\n",
    "        # Traverse the binary search tree\n",
    "        while root:\n",
    "            if key == root.key:  # If the key matches the current node's value, it is the ceil.\n",
    "                return root.key\n",
    "            \n",
    "            if key > root.key:  # If the key is greater, move to the right subtree.\n",
    "                root = root.right\n",
    "            else:               # If the key is smaller, update the ceil and move to the left subtree.\n",
    "                ceil = root.key\n",
    "                root = root.left\n",
    "\n",
    "        # Return the ceil value found (or -1 if no ceil exists for the given key).\n",
    "        return ceil\n",
    "    \n",
    "# **Short Point Wise Hints**:\n",
    "# 1. The `Solution` class contains a `findCeil` method to find the ceil value of a given key in a binary search tree.\n",
    "# 2. The ceil of a key is the smallest value in the BST that is greater than or equal to the key.\n",
    "# 3. Initialize the `ceil` variable to -1 before starting the traversal.\n",
    "# 4. Traverse the tree starting from the root and compare the key with the current node's value.\n",
    "# 5. If the key matches the current node's value, return the value as it is the ceil.\n",
    "# 6. If the key is greater than the current node's value, move to the right subtree.\n",
    "# 7. If the key is smaller than the current node's value, update the `ceil` with the current node's value and move to the left subtree.\n",
    "# 8. After the traversal, return the ceil value found (or -1 if the key is greater than all values in the BST)."
   ]
  },
  {
   "cell_type": "markdown",
   "metadata": {},
   "source": [
    "# Find K-th smallest element in BST"
   ]
  },
  {
   "cell_type": "code",
   "execution_count": null,
   "metadata": {},
   "outputs": [],
   "source": []
  },
  {
   "cell_type": "markdown",
   "metadata": {},
   "source": [
    "# Find K-th largest element in BST"
   ]
  },
  {
   "cell_type": "code",
   "execution_count": null,
   "metadata": {},
   "outputs": [],
   "source": []
  },
  {
   "cell_type": "markdown",
   "metadata": {},
   "source": [
    "# Find a pair with a given sum in BST"
   ]
  },
  {
   "cell_type": "code",
   "execution_count": null,
   "metadata": {},
   "outputs": [],
   "source": []
  },
  {
   "cell_type": "markdown",
   "metadata": {},
   "source": [
    "# BST iterator"
   ]
  },
  {
   "cell_type": "code",
   "execution_count": null,
   "metadata": {},
   "outputs": [],
   "source": []
  },
  {
   "cell_type": "markdown",
   "metadata": {},
   "source": [
    "# Size of the largest BST in a Binary Tree"
   ]
  },
  {
   "cell_type": "code",
   "execution_count": null,
   "metadata": {},
   "outputs": [],
   "source": []
  },
  {
   "cell_type": "markdown",
   "metadata": {},
   "source": [
    "# Serialize and deserialize Binary Tree"
   ]
  },
  {
   "cell_type": "code",
   "execution_count": null,
   "metadata": {},
   "outputs": [],
   "source": []
  },
  {
   "cell_type": "markdown",
   "metadata": {},
   "source": [
    "#"
   ]
  }
 ],
 "metadata": {
  "kernelspec": {
   "display_name": "Python 3",
   "language": "python",
   "name": "python3"
  },
  "language_info": {
   "codemirror_mode": {
    "name": "ipython",
    "version": 3
   },
   "file_extension": ".py",
   "mimetype": "text/x-python",
   "name": "python",
   "nbconvert_exporter": "python",
   "pygments_lexer": "ipython3",
   "version": "3.11.3"
  },
  "orig_nbformat": 4
 },
 "nbformat": 4,
 "nbformat_minor": 2
}
