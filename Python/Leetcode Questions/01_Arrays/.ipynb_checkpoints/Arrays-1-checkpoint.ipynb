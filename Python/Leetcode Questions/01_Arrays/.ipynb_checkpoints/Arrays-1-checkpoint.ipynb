{
 "cells": [
  {
   "cell_type": "markdown",
   "id": "2acb9e2a",
   "metadata": {},
   "source": [
    "# 73. Set Matrix Zeroes\n"
   ]
  },
  {
   "cell_type": "code",
   "execution_count": 7,
   "id": "3b4245f5",
   "metadata": {},
   "outputs": [],
   "source": [
    "#Brute Force\n",
    "class Solution:\n",
    "    def setZeroes(self, matrix: List[List[int]]) -> None:\n",
    "        \"\"\"\n",
    "        Do not return anything, modify matrix in-place instead.\n",
    "        \"\"\"\n",
    "        setrow = set()  # Set to store the row indices that contain zeros\n",
    "        setcol = set()  # Set to store the column indices that contain zeros\n",
    "\n",
    "        for i in range(len(matrix)):\n",
    "            for j in range(len(matrix[0])):\n",
    "                if matrix[i][j] == 0:\n",
    "                    setrow.add(i)  # Add the current row index to the set\n",
    "                    setcol.add(j)  # Add the current column index to the set\n",
    "\n",
    "        for i in range(len(matrix)):\n",
    "            for j in range(len(matrix[0])):\n",
    "                if i in setrow or j in setcol:\n",
    "                    matrix[i][j] = 0  # Set the element at [i][j] to zero if either the row or column contains a zero\n"
   ]
  },
  {
   "cell_type": "code",
   "execution_count": 8,
   "id": "7c4ed2c1",
   "metadata": {},
   "outputs": [],
   "source": [
    "#Optimal\n",
    "# The code uses the first row and first column of the matrix as markers to store information about \n",
    "# whether a row or column contains a zero. It performs multiple passes over the matrix to \n",
    "# identify and modify the elements accordingly. The code also handles special cases where the \n",
    "# first row or the first column itself needs to be set to zero. The modifications are done in-place, \n",
    "# meaning the original matrix is directly modified without creating a new matrix.\n",
    "\n",
    "class Solution:\n",
    "    def setZeroes(self, matrix: List[List[int]]) -> None:\n",
    "        \"\"\"\n",
    "        Do not return anything, modify matrix in-place instead.\n",
    "        \"\"\"\n",
    "        n = len(matrix)  # Number of rows in the matrix\n",
    "        m = len(matrix[0])  # Number of columns in the matrix\n",
    "        col = False  # Flag to indicate if the first column should be set to zero\n",
    "\n",
    "        for r in range(n):\n",
    "            if matrix[r][0] == 0:\n",
    "                col = True  # If any element in the first column is zero, set the col flag to True\n",
    "            for c in range(1, m):\n",
    "                if matrix[r][c] == 0:\n",
    "                    matrix[r][0] = 0  # Mark the first element of the current row as zero\n",
    "                    matrix[0][c] = 0  # Mark the first element of the current column as zero\n",
    "\n",
    "        for r in range(1, n):\n",
    "            for c in range(1, m):\n",
    "                if matrix[r][0] == 0 or matrix[0][c] == 0:\n",
    "                    matrix[r][c] = 0  # Set the current element to zero if either the row or column marker is zero\n",
    "\n",
    "        if matrix[0][0] == 0:\n",
    "            for i in range(m):\n",
    "                matrix[0][i] = 0  # Set the first row to zero if the marker is zero\n",
    "\n",
    "        if col:\n",
    "            for i in range(n):\n",
    "                matrix[i][0] = 0  # Set the first column to zero if the col flag is True\n"
   ]
  },
  {
   "cell_type": "markdown",
   "id": "5b41cd0d",
   "metadata": {},
   "source": [
    "# 118. Pascal's Triangle\n"
   ]
  },
  {
   "cell_type": "code",
   "execution_count": 9,
   "id": "26cd869d",
   "metadata": {},
   "outputs": [
    {
     "name": "stdout",
     "output_type": "stream",
     "text": [
      "[[1], [1, 1], [1, 2, 1], [1, 3, 3, 1], [1, 4, 6, 4, 1]]\n"
     ]
    }
   ],
   "source": [
    "from typing import List\n",
    "class Solution:\n",
    "    def generate(self, numRows: int) -> List[List[int]]:\n",
    "        ans = [[1]]  # Initialize the answer list with the first row containing a single 1\n",
    "        \n",
    "        # Iterate from the second row up to numRows\n",
    "        for i in range(1, numRows):\n",
    "            row = [1]  # Create a new row and start with 1 at the beginning\n",
    "            \n",
    "            # Iterate from the second element up to the second-to-last element of the current row\n",
    "            for j in range(1, i):\n",
    "                # Calculate the value by adding the corresponding elements from the previous row\n",
    "                value = ans[i - 1][j - 1] + ans[i - 1][j]\n",
    "                row.append(value)  # Append the calculated value to the current row\n",
    "            \n",
    "            row.append(1)  # Append 1 at the end of the current row\n",
    "            ans.append(row)  # Append the current row to the answer list\n",
    "        \n",
    "        return ans  # Return the generated Pascal's triangle as the final result\n",
    "if __name__ == \"__main__\":\n",
    "    obj = Solution()\n",
    "    numRows = 5\n",
    "    output = obj.generate(numRows)\n",
    "    print(output)"
   ]
  },
  {
   "cell_type": "markdown",
   "id": "10515d29",
   "metadata": {},
   "source": [
    "# 31. Next Permutation"
   ]
  },
  {
   "cell_type": "code",
   "execution_count": 10,
   "id": "5d033351",
   "metadata": {},
   "outputs": [],
   "source": [
    "# The provided code implements the next permutation algorithm for an input list nums. Here's how it works:\n",
    "# Start from the rightmost element of nums and find the first decreasing element (nums[i]) from the right side. \n",
    "# This is done in the while loop with the condition nums[i] <= nums[i - 1].\n",
    "# If a decreasing element is found (i > 0), find the next greater element (nums[j]) \n",
    "# on the right side that is greater than the element at index i - 1. \n",
    "# This is done in the second while loop with the condition nums[j] <= nums[i - 1].\n",
    "# Swap the two elements: nums[i - 1] and nums[j].\n",
    "# Reverse the elements after index i in-place to get the lexicographically next greater permutation.\n",
    "# The code modifies nums in-place to store the next permutation. \n",
    "# It follows the standard algorithm to generate permutations and achieves \n",
    "# a time complexity of O(n), where n is the length of the input nums list.\n",
    "\n",
    "class Solution:\n",
    "    def nextPermutation(self, nums: List[int]) -> None:\n",
    "        \"\"\"\n",
    "        Do not return anything, modify nums in-place instead.\n",
    "        \"\"\"\n",
    "        i = len(nums) - 1  # Start from the rightmost element\n",
    "        \n",
    "        # Find the first decreasing element from the right side\n",
    "        while i > 0 and nums[i] <= nums[i - 1]:\n",
    "            i -= 1\n",
    "        \n",
    "        if i > 0:\n",
    "            j = len(nums) - 1\n",
    "            \n",
    "            # Find the next greater element on the right side\n",
    "            while j > i - 1 and nums[j] <= nums[i - 1]:\n",
    "                j -= 1\n",
    "            \n",
    "            nums[i - 1], nums[j] = nums[j], nums[i - 1]  # Swap the two elements\n",
    "        \n",
    "        nums[i:] = reversed(nums[i:])  # Reverse the elements after index i in-place\n"
   ]
  },
  {
   "cell_type": "markdown",
   "id": "26bf887d",
   "metadata": {},
   "source": [
    "# 53. Maximum Subarray"
   ]
  },
  {
   "cell_type": "code",
   "execution_count": 11,
   "id": "bec00eda",
   "metadata": {},
   "outputs": [],
   "source": [
    "# The provided code implements Kadane's algorithm for finding the maximum subarray sum. Here's how it works:\n",
    "# summ keeps track of the current sum of the subarray. It starts at 0.\n",
    "# maxi keeps track of the maximum sum found so far. It starts at 0.\n",
    "# The code iterates over each element in nums using the variable i.\n",
    "# For each element, i is added to summ.\n",
    "# If summ becomes negative, it means that the current subarray's sum is dragging down the overall sum. In this case, \n",
    "# it is more optimal to start a new subarray from the next element. Thus, summ is reset to 0.\n",
    "# maxi is updated by taking the maximum value between the current maxi and summ. This ensures \n",
    "# that maxi always stores the maximum sum found so far.\n",
    "# After the loop finishes, the maximum sum found is stored in maxi and is returned as the result.\n",
    "# Kadane's algorithm provides an efficient solution with a time complexity of O(n), \n",
    "# where n is the length of the input nums list. It is a popular algorithm for solving maximum subarray sum problems.\n",
    "\n",
    "class Solution:\n",
    "    def maxSubArray(self, nums: List[int]) -> int:\n",
    "        # Kadane's algorithm for finding maximum subarray sum\n",
    "        summ = 0  # Current sum of subarray\n",
    "        maxi = 0  # Maximum sum found so far\n",
    "        \n",
    "        for i in nums:\n",
    "            summ += i  # Add the current element to the sum\n",
    "            \n",
    "            if summ < 1:\n",
    "                summ = 0  # If the current sum becomes negative, reset it to 0\n",
    "                \n",
    "            maxi = max(maxi, summ)  # Update the maximum sum if the current sum is greater\n",
    "            \n",
    "        return maxi  # Return the maximum sum found\n"
   ]
  },
  {
   "cell_type": "markdown",
   "id": "67431f36",
   "metadata": {},
   "source": [
    "# 75. Sort Colors"
   ]
  },
  {
   "cell_type": "code",
   "execution_count": 12,
   "id": "de19248d",
   "metadata": {},
   "outputs": [
    {
     "name": "stdout",
     "output_type": "stream",
     "text": [
      "[0, 0, 1, 1, 2, 2]\n"
     ]
    }
   ],
   "source": [
    "# The provided code implements the Dutch national flag algorithm to sort an array of integers \n",
    "# containing only the values 0, 1, and 2. It uses three pointers, mid, low, and high, \n",
    "# to partition the array into three regions:\n",
    "\n",
    "# The region before the low pointer contains all the 0s.\n",
    "# The region between the low and mid pointers contains all the 1s (elements not yet processed).\n",
    "# The region after the high pointer contains all the 2s.\n",
    "# The algorithm traverses the array from left to right using the mid pointer. \n",
    "# If the current element is 2, it swaps it with the element at the high pointer and moves the high \n",
    "# pointer one step back. If the current element is 0, it swaps it with the element at the low pointer \n",
    "# and moves the low pointer one step forward. The mid pointer is incremented in each iteration.\n",
    "\n",
    "# This approach ensures that by the end of the algorithm, all the 0s will be placed at the \n",
    "# beginning, followed by the 1s, and then the 2s. The modifications are done in-place, directly modifying the nums list.\n",
    "from typing import List\n",
    "class Solution:\n",
    "    def sortColors(self, nums: List[int]) -> None:\n",
    "        \"\"\"\n",
    "        Do not return anything, modify nums in-place instead.\n",
    "        \"\"\"\n",
    "        mid = 0  # Pointer to track the current element\n",
    "        low = 0  # Pointer to track the last index of 0\n",
    "        high = len(nums) - 1  # Pointer to track the first index of 2\n",
    "        \n",
    "        # Continue until the current element crosses the high pointer\n",
    "        while mid <= high:\n",
    "            if nums[mid] == 2:\n",
    "                nums[high], nums[mid] = nums[mid], nums[high]  # Swap the current element with the high pointer element\n",
    "                high -= 1  # Move the high pointer one step back\n",
    "            elif nums[mid] == 0:\n",
    "                nums[mid], nums[low] = nums[low], nums[mid]  # Swap the current element with the low pointer element\n",
    "                low += 1  # Move the low pointer one step forward\n",
    "                mid+=1\n",
    "            else:\n",
    "                mid += 1  # Move the current element pointer to the next element\n",
    "        print(nums)\n",
    "if __name__ == \"__main__\":\n",
    "    obj = Solution()\n",
    "    nums = [2,0,2,1,1,0]\n",
    "    obj.sortColors(nums)"
   ]
  },
  {
   "cell_type": "markdown",
   "id": "b75e0c67",
   "metadata": {},
   "source": [
    "# 121. Best Time to Buy and Sell Stock"
   ]
  },
  {
   "cell_type": "code",
   "execution_count": 13,
   "id": "d369fe95",
   "metadata": {},
   "outputs": [],
   "source": [
    "# The provided code calculates the maximum profit that can be obtained from a list of stock prices. Here's how it works:\n",
    "\n",
    "# mini is initialized with a large value, 10**5, to ensure that it will be updated with the first encountered price.\n",
    "# profit is initially set to 0 since no profit can be obtained with only one price.\n",
    "# The code iterates over each price in the prices list.\n",
    "# For each price, mini is updated to store the minimum price encountered so far.\n",
    "# profit is updated by comparing the current profit with the maximum profit obtained so \n",
    "# far (the difference between the current price and mini).\n",
    "# By the end of the loop, profit will store the maximum profit that can be obtained from the given list of stock prices.\n",
    "# Finally, the maximum profit is returned.\n",
    "# The code has a time complexity of O(n), where n is the length of the input prices list, \n",
    "# as it iterates through the list once to calculate the maximum profit.\n",
    "\n",
    "class Solution:\n",
    "    def maxProfit(self, prices: List[int]) -> int:\n",
    "        mini = 10**5  # Variable to track the minimum price encountered\n",
    "        profit = 0  # Variable to track the maximum profit\n",
    "        \n",
    "        for price in prices:\n",
    "            mini = min(mini, price)  # Update the minimum price if a lower price is encountered\n",
    "            profit = max(profit, price - mini)  # Update the maximum profit if a higher profit is obtained\n",
    "            \n",
    "        return profit  # Return the maximum profit obtained\n"
   ]
  },
  {
   "cell_type": "code",
   "execution_count": null,
   "id": "51609be0",
   "metadata": {},
   "outputs": [],
   "source": []
  }
 ],
 "metadata": {
  "kernelspec": {
   "display_name": "Python 3 (ipykernel)",
   "language": "python",
   "name": "python3"
  },
  "language_info": {
   "codemirror_mode": {
    "name": "ipython",
    "version": 3
   },
   "file_extension": ".py",
   "mimetype": "text/x-python",
   "name": "python",
   "nbconvert_exporter": "python",
   "pygments_lexer": "ipython3",
   "version": "3.11.3"
  }
 },
 "nbformat": 4,
 "nbformat_minor": 5
}
