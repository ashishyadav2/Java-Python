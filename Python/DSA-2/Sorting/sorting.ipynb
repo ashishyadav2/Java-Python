{
 "cells": [
  {
   "cell_type": "markdown",
   "metadata": {},
   "source": [
    "## Selection Sort"
   ]
  },
  {
   "cell_type": "code",
   "execution_count": 1,
   "metadata": {},
   "outputs": [],
   "source": [
    "arr = [13,46,24,52,20,9]\n",
    "n = len(arr)"
   ]
  },
  {
   "cell_type": "code",
   "execution_count": 2,
   "metadata": {},
   "outputs": [
    {
     "name": "stdout",
     "output_type": "stream",
     "text": [
      "[9, 13, 20, 24, 46, 52]\n"
     ]
    }
   ],
   "source": [
    "def selection_sort(arr,n):\n",
    "    for i in range(n):\n",
    "        mini_idx = i\n",
    "        for j in range(i,n):\n",
    "            if arr[j]<arr[mini_idx]:\n",
    "                mini_idx = j\n",
    "        temp = arr[i]\n",
    "        arr[i] = arr[mini_idx]\n",
    "        arr[mini_idx] = temp\n",
    "    print(arr)\n",
    "selection_sort(arr,n)"
   ]
  },
  {
   "cell_type": "code",
   "execution_count": 3,
   "metadata": {},
   "outputs": [
    {
     "name": "stdout",
     "output_type": "stream",
     "text": [
      "[52, 46, 24, 20, 13, 9]\n"
     ]
    }
   ],
   "source": [
    "def selection_sort(arr,n):\n",
    "    for i in range(n):\n",
    "        mini_idx = i\n",
    "        for j in range(i,n):\n",
    "            if arr[j]>arr[mini_idx]:\n",
    "                mini_idx = j\n",
    "        temp = arr[i]\n",
    "        arr[i] = arr[mini_idx]\n",
    "        arr[mini_idx] = temp\n",
    "    print(arr)\n",
    "selection_sort(arr,n)"
   ]
  },
  {
   "cell_type": "markdown",
   "metadata": {},
   "source": [
    "## Bubble Sort"
   ]
  },
  {
   "cell_type": "code",
   "execution_count": 4,
   "metadata": {},
   "outputs": [
    {
     "name": "stdout",
     "output_type": "stream",
     "text": [
      "[9, 13, 20, 24, 46, 52]\n"
     ]
    }
   ],
   "source": [
    "def bubble_sort(arr,n):\n",
    "    for i in range(n):\n",
    "        for j in range(n-1-i):\n",
    "            if arr[j]>arr[j+1]:\n",
    "                temp = arr[j]\n",
    "                arr[j] = arr[j+1]\n",
    "                arr[j+1] = temp            \n",
    "    print(arr)\n",
    "bubble_sort(arr,n)"
   ]
  },
  {
   "cell_type": "code",
   "execution_count": 5,
   "metadata": {},
   "outputs": [
    {
     "name": "stdout",
     "output_type": "stream",
     "text": [
      "[52, 46, 24, 20, 13, 9]\n"
     ]
    }
   ],
   "source": [
    "def bubble_sort(arr,n):\n",
    "    for i in range(n):\n",
    "        for j in range(n-1-i):\n",
    "            if arr[j]<arr[j+1]:\n",
    "                temp = arr[j]\n",
    "                arr[j] = arr[j+1]\n",
    "                arr[j+1] = temp            \n",
    "    print(arr)\n",
    "bubble_sort(arr,n)"
   ]
  },
  {
   "cell_type": "markdown",
   "metadata": {},
   "source": [
    "## Insertion Sort"
   ]
  },
  {
   "cell_type": "code",
   "execution_count": 6,
   "metadata": {},
   "outputs": [
    {
     "name": "stdout",
     "output_type": "stream",
     "text": [
      "[9, 13, 20, 24, 46, 52]\n"
     ]
    }
   ],
   "source": [
    "def insertion_sort(arr,n):\n",
    "    for i in range(n):\n",
    "        j = i\n",
    "        while j>0 and arr[j-1]>arr[j]:\n",
    "            temp = arr[j-1]\n",
    "            arr[j-1] = arr[j]\n",
    "            arr[j] = temp\n",
    "            j-=1\n",
    "    print(arr)\n",
    "insertion_sort(arr,n)"
   ]
  },
  {
   "cell_type": "code",
   "execution_count": 7,
   "metadata": {},
   "outputs": [
    {
     "name": "stdout",
     "output_type": "stream",
     "text": [
      "[52, 46, 24, 20, 13, 9]\n"
     ]
    }
   ],
   "source": [
    "def insertion_sort(arr,n):\n",
    "    for i in range(n):\n",
    "        j = i\n",
    "        while j>0 and arr[j]>arr[j-1]:\n",
    "            temp = arr[j]\n",
    "            arr[j] = arr[j-1]\n",
    "            arr[j-1] = temp\n",
    "            j-=1\n",
    "    print(arr)\n",
    "insertion_sort(arr,n)"
   ]
  },
  {
   "cell_type": "markdown",
   "metadata": {},
   "source": [
    "## Merge Sort"
   ]
  },
  {
   "cell_type": "code",
   "execution_count": 8,
   "metadata": {},
   "outputs": [
    {
     "name": "stdout",
     "output_type": "stream",
     "text": [
      "[1, 2, 3, 3, 4]\n"
     ]
    }
   ],
   "source": [
    "def merge_sort(arr,low,high):\n",
    "    if low>=high:\n",
    "        return\n",
    "    mid = low + (high-low)//2\n",
    "    merge_sort(arr,low,mid)\n",
    "    merge_sort(arr,mid+1,high)\n",
    "    merge(arr,low,mid,high)\n",
    "    \n",
    "def merge(arr,low,mid,high):\n",
    "    temp = [0] * (high-low+1)\n",
    "    t = 0\n",
    "    left = low\n",
    "    right = mid+1\n",
    "    while left<=mid and right<=high:\n",
    "        if arr[left]<=arr[right]:\n",
    "            temp[t]=arr[left]\n",
    "            left+=1\n",
    "        else:\n",
    "            temp[t]=arr[right]\n",
    "            right+=1\n",
    "        t+=1\n",
    "    \n",
    "    while left<=mid:\n",
    "        temp[t]=arr[left]\n",
    "        left+=1\n",
    "        t+=1\n",
    "        \n",
    "    while right<=high:\n",
    "        temp[t] = arr[right]\n",
    "        right+=1\n",
    "        t+=1      \n",
    "    \n",
    "    for i in range(low,high+1):\n",
    "        arr[i] = temp[i-low]\n",
    "\n",
    "arr = [3,2,4,1,3]\n",
    "n =len(arr)\n",
    "merge_sort(arr,0,n-1)\n",
    "print(arr)"
   ]
  },
  {
   "cell_type": "code",
   "execution_count": 9,
   "metadata": {},
   "outputs": [
    {
     "name": "stdout",
     "output_type": "stream",
     "text": [
      "[4, 3, 3, 2, 1]\n"
     ]
    }
   ],
   "source": [
    "# Descending\n",
    "def merge_sort(arr,low,high):\n",
    "    if low>=high:\n",
    "        return\n",
    "    mid = low + (high-low)//2\n",
    "    merge_sort(arr,low,mid)\n",
    "    merge_sort(arr,mid+1,high)\n",
    "    return merge(arr,low,mid,high)\n",
    "    \n",
    "def merge(arr,low,mid,high):\n",
    "    temp = [0] * (high-low+1)\n",
    "    t = 0\n",
    "    left = low\n",
    "    right = mid+1\n",
    "    while left<=mid and right<=high:\n",
    "        if arr[left]>=arr[right]:\n",
    "            temp[t]=arr[left]\n",
    "            left+=1\n",
    "        else:\n",
    "            temp[t]=arr[right]\n",
    "            right+=1\n",
    "        t+=1\n",
    "    \n",
    "    while left<=mid:\n",
    "        temp[t]=arr[left]\n",
    "        left+=1\n",
    "        t+=1\n",
    "        \n",
    "    while right<=high:\n",
    "        temp[t] = arr[right]\n",
    "        right+=1\n",
    "        t+=1      \n",
    "    \n",
    "    for i in range(low,high+1):\n",
    "        arr[i] = temp[i-low]\n",
    "\n",
    "arr = [3,2,4,1,3]\n",
    "n =len(arr)\n",
    "merge_sort(arr,0,n-1)\n",
    "print(arr)"
   ]
  },
  {
   "cell_type": "markdown",
   "metadata": {},
   "source": [
    "## Quick Sort"
   ]
  },
  {
   "cell_type": "code",
   "execution_count": 10,
   "metadata": {},
   "outputs": [
    {
     "name": "stdout",
     "output_type": "stream",
     "text": [
      "[1, 2, 3, 4, 5, 6, 7, 9]\n"
     ]
    }
   ],
   "source": [
    "# Ascending\n",
    "def quick_sort(arr,low,high):\n",
    "    if low>=high:\n",
    "        return\n",
    "    pivot_idx = get_pivot_index(arr,low,high)\n",
    "    quick_sort(arr,low,pivot_idx-1)\n",
    "    quick_sort(arr,pivot_idx+1,high)\n",
    "    \n",
    "def get_pivot_index(arr,low,high):\n",
    "    left = low\n",
    "    right = high\n",
    "    pivot_idx = low\n",
    "    while left<=right:\n",
    "        while arr[left]<=arr[pivot_idx] and left<=high:\n",
    "            left += 1\n",
    "        while arr[right]>arr[pivot_idx] and right>=low:\n",
    "            right -= 1\n",
    "        if left<right:\n",
    "            swap(arr,left,right)            \n",
    "    swap(arr,pivot_idx,right)\n",
    "    return pivot_idx\n",
    "    \n",
    "def swap(arr,a,b):\n",
    "    temp = arr[a]\n",
    "    arr[a] = arr[b]\n",
    "    arr[b] = temp\n",
    "    \n",
    "arr = [4,6,2,5,7,9,1,3]\n",
    "n = len(arr)\n",
    "quick_sort(arr,0,n-1)\n",
    "print(arr)"
   ]
  },
  {
   "cell_type": "code",
   "execution_count": 11,
   "metadata": {},
   "outputs": [
    {
     "name": "stdout",
     "output_type": "stream",
     "text": [
      "[9, 7, 6, 5, 4, 2, 3, 1]\n"
     ]
    }
   ],
   "source": [
    "# Descending\n",
    "def quick_sort(arr,low,high):\n",
    "    if low>=high:\n",
    "        return\n",
    "    pivot_idx = get_pivot_index(arr,low,high)\n",
    "    quick_sort(arr,low,pivot_idx-1)\n",
    "    quick_sort(arr,pivot_idx+1,high)\n",
    "    \n",
    "def get_pivot_index(arr,low,high):\n",
    "    left = low\n",
    "    right = high\n",
    "    pivot_idx = low\n",
    "    while left<=right:\n",
    "        while arr[left]>arr[pivot_idx] and left<=high:\n",
    "            left += 1\n",
    "        while arr[right]<=arr[pivot_idx] and right>=low:\n",
    "            right -= 1\n",
    "        if left<right:\n",
    "            swap(arr,left,right)            \n",
    "    swap(arr,pivot_idx,right)\n",
    "    return pivot_idx\n",
    "    \n",
    "def swap(arr,a,b):\n",
    "    temp = arr[a]\n",
    "    arr[a] = arr[b]\n",
    "    arr[b] = temp\n",
    "    \n",
    "arr = [4,6,2,5,7,9,1,3]\n",
    "n = len(arr)\n",
    "quick_sort(arr,0,n-1)\n",
    "print(arr)"
   ]
  },
  {
   "cell_type": "markdown",
   "metadata": {},
   "source": [
    "### Recursive Bubble sort"
   ]
  },
  {
   "cell_type": "code",
   "execution_count": 12,
   "metadata": {},
   "outputs": [
    {
     "name": "stdout",
     "output_type": "stream",
     "text": [
      "[1, 2, 3, 4, 5, 6, 7, 9]\n"
     ]
    }
   ],
   "source": [
    "def recur_bubble_sort(arr,n):\n",
    "    if n==1:\n",
    "        return\n",
    "    for i in range(n):\n",
    "        if arr[i]>arr[i+1]:\n",
    "            swap(arr,i,i+1)\n",
    "    recur_bubble_sort(arr,n-1)\n",
    "            \n",
    "def swap(arr,a,b):\n",
    "    temp = arr[a]\n",
    "    arr[a] = arr[b]\n",
    "    arr[b] = temp        \n",
    "        \n",
    "arr = [4,6,2,5,7,9,1,3]\n",
    "n = len(arr)\n",
    "recur_bubble_sort(arr,n-1)\n",
    "print(arr)"
   ]
  },
  {
   "cell_type": "markdown",
   "metadata": {},
   "source": [
    "## Recursive insertion sort"
   ]
  },
  {
   "cell_type": "code",
   "execution_count": 18,
   "metadata": {},
   "outputs": [
    {
     "name": "stdout",
     "output_type": "stream",
     "text": [
      "[1, 2, 3, 4, 5, 6, 7, 9]\n"
     ]
    }
   ],
   "source": [
    "def recur_insertion_sort(arr,i,n):\n",
    "    if i>=n:\n",
    "        return\n",
    "    j = i\n",
    "    while j>0 and arr[j]<arr[j-1]:\n",
    "        temp = arr[j]\n",
    "        arr[j] = arr[j-1]\n",
    "        arr[j-1] = temp\n",
    "        j-=1\n",
    "    recur_insertion_sort(arr,i+1,n)\n",
    "arr = [4,6,2,5,7,9,1,3]\n",
    "n = len(arr)\n",
    "recur_insertion_sort(arr,0,n)\n",
    "print(arr)"
   ]
  }
 ],
 "metadata": {
  "kernelspec": {
   "display_name": "Python 3",
   "language": "python",
   "name": "python3"
  },
  "language_info": {
   "codemirror_mode": {
    "name": "ipython",
    "version": 3
   },
   "file_extension": ".py",
   "mimetype": "text/x-python",
   "name": "python",
   "nbconvert_exporter": "python",
   "pygments_lexer": "ipython3",
   "version": "3.12.3"
  }
 },
 "nbformat": 4,
 "nbformat_minor": 2
}
