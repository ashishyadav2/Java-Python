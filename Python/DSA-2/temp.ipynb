{
 "cells": [
  {
   "cell_type": "code",
   "execution_count": 65,
   "metadata": {},
   "outputs": [],
   "source": [
    "import heapq"
   ]
  },
  {
   "cell_type": "code",
   "execution_count": 66,
   "metadata": {},
   "outputs": [
    {
     "name": "stdout",
     "output_type": "stream",
     "text": [
      "[0, 1, 1, 4, 6, 6, 6]\n"
     ]
    }
   ],
   "source": [
    "arr = [5,3,2,4]\n",
    "arr = [1,5,0,10,14]\n",
    "arr = [3,100,20]\n",
    "arr = [6,6,0,1,1,4,6]\n",
    "max_moves = 3\n",
    "print(sorted(arr))"
   ]
  },
  {
   "cell_type": "code",
   "execution_count": 67,
   "metadata": {},
   "outputs": [
    {
     "name": "stdout",
     "output_type": "stream",
     "text": [
      "0\n",
      "[(-6, 0), (-6, 1), (-6, 6), (-1, 3), (-1, 4), (0, 2), (-4, 5)]\n"
     ]
    }
   ],
   "source": [
    "mini = min(arr)\n",
    "print(mini)\n",
    "heap_arr = []\n",
    "for i,num in enumerate(arr):\n",
    "    heapq.heappush(heap_arr,(-num,i))\n",
    "print(heap_arr)"
   ]
  },
  {
   "cell_type": "code",
   "execution_count": 68,
   "metadata": {},
   "outputs": [
    {
     "name": "stdout",
     "output_type": "stream",
     "text": [
      "[0, 0, 0, 1, 1, 4, 0]\n"
     ]
    }
   ],
   "source": [
    "for i in range(max_moves):\n",
    "    _,max_ind = heapq.heappop(heap_arr)\n",
    "    arr[max_ind] = mini\n",
    "print(arr)"
   ]
  },
  {
   "cell_type": "code",
   "execution_count": 69,
   "metadata": {},
   "outputs": [
    {
     "data": {
      "text/plain": [
       "4"
      ]
     },
     "execution_count": 69,
     "metadata": {},
     "output_type": "execute_result"
    }
   ],
   "source": [
    "max(arr)-min(arr)"
   ]
  },
  {
   "cell_type": "code",
   "execution_count": 70,
   "metadata": {},
   "outputs": [
    {
     "name": "stdout",
     "output_type": "stream",
     "text": [
      "[0, 1, 5, 10, 14]\n",
      "[14, 14, 14, 10, 14]\n",
      "4\n"
     ]
    }
   ],
   "source": [
    "arr = [5,3,2,4]\n",
    "arr = [1,5,0,10,14]\n",
    "# arr = [3,100,20]\n",
    "# arr = [6,6,0,1,1,4,6]\n",
    "maxi = max(arr)\n",
    "arr1 = sorted(arr)\n",
    "print(arr1)\n",
    "for i in range(3):\n",
    "    arr1[i] = maxi\n",
    "print(arr1)\n",
    "print(max(arr1)-min(arr1))"
   ]
  },
  {
   "cell_type": "code",
   "execution_count": 71,
   "metadata": {},
   "outputs": [
    {
     "name": "stdout",
     "output_type": "stream",
     "text": [
      "0\n"
     ]
    }
   ],
   "source": [
    "# arr = [10,1,2,7,1,3]\n",
    "# p = 2\n",
    "arr = [4,2,1,2]\n",
    "p = 1\n",
    "def is_possible(arr,dist):\n",
    "    p_cnt = 0\n",
    "    n = len(arr)\n",
    "    for i in range(n-1):\n",
    "        if abs(arr[i]-arr[i+1])<=dist:\n",
    "            p_cnt+=1\n",
    "    return p>p_cnt\n",
    "\n",
    "low = 0\n",
    "high = max(arr)-min(arr)\n",
    "arr.sort()\n",
    "while low<=high:\n",
    "    mid = low + (high - low)//2\n",
    "    if is_possible(arr,mid):\n",
    "        low = mid + 1\n",
    "    else:\n",
    "        high = mid - 1\n",
    "print(low)"
   ]
  },
  {
   "cell_type": "code",
   "execution_count": 72,
   "metadata": {},
   "outputs": [
    {
     "name": "stdout",
     "output_type": "stream",
     "text": [
      "3\n",
      "2\n",
      "4\n",
      "0\n"
     ]
    },
    {
     "data": {
      "text/plain": [
       "2"
      ]
     },
     "execution_count": 72,
     "metadata": {},
     "output_type": "execute_result"
    }
   ],
   "source": [
    "def upper_bound(row):\n",
    "    low = 0\n",
    "    high = len(row) - 1\n",
    "    ans = -1\n",
    "    while low<=high:\n",
    "        mid = low + (high - low)//2\n",
    "        if row[mid]>=1:\n",
    "            high = mid - 1\n",
    "            ans = mid\n",
    "        else:\n",
    "            low = mid + 1\n",
    "    return len(row)-ans if ans!=-1 else 0\n",
    "\n",
    "\n",
    "def count(mat):\n",
    "    maxi = -1\n",
    "    ind = 0\n",
    "    for i,row in enumerate(mat):\n",
    "        ans = upper_bound(row)\n",
    "        print(ans)\n",
    "        if maxi<ans:\n",
    "            maxi = ans\n",
    "            ind = i\n",
    "    return ind\n",
    "    \n",
    "def rowWithMax1s(mat):\n",
    "    return count(mat)\n",
    "mat =[[0, 1, 1, 1],[0, 0, 1, 1],[1, 1, 1, 1],[0, 0, 0, 0]]\n",
    "rowWithMax1s(mat)\n"
   ]
  },
  {
   "cell_type": "code",
   "execution_count": 73,
   "metadata": {},
   "outputs": [
    {
     "name": "stdout",
     "output_type": "stream",
     "text": [
      "[1, 1, 1, 1, 1, 1, 1, 1, 1]\n",
      "0.5\n"
     ]
    }
   ],
   "source": [
    "arr = [1, 2, 3, 4, 5, 6, 7, 8, 9, 10]\n",
    "k = 9\n",
    "n = len(arr)\n",
    "sections = [0]*(n-1)\n",
    "dist = -1e9\n",
    "for gas in range(1,k+1):\n",
    "    maxi = -1\n",
    "    section_ind = -1\n",
    "    for i in range(n-1):\n",
    "        c_dist = arr[i+1] - arr[i]\n",
    "        section_dist = c_dist/(sections[i]+1)\n",
    "        if  section_dist> maxi:\n",
    "            maxi = section_dist\n",
    "            section_ind = i\n",
    "    sections[section_ind]+=1\n",
    "print(sections)\n",
    "for i in range(n-1):\n",
    "    c_dist = arr[i+1] - arr[i]\n",
    "    dist = max(dist,c_dist/(sections[i]+1))\n",
    "print(dist)\n",
    "\n",
    "    "
   ]
  },
  {
   "cell_type": "code",
   "execution_count": 74,
   "metadata": {},
   "outputs": [
    {
     "name": "stdout",
     "output_type": "stream",
     "text": [
      "2\n"
     ]
    }
   ],
   "source": [
    "# arr = [[1,5,9],[10,11,13],[12,13,15]]\n",
    "# k = 8\n",
    "arr = [[1,2],[1,3]]\n",
    "k = 2\n",
    "\n",
    "n = len(arr)\n",
    "m = len(arr[0])\n",
    "low = 0\n",
    "high = (n*m)-1\n",
    "ans = -1\n",
    "\n",
    "while low<=high:\n",
    "    mid = low + (high - low)//2\n",
    "    i = mid//m\n",
    "    j = mid%m\n",
    "    if mid==k-1:\n",
    "        ans = arr[i][j]\n",
    "        break\n",
    "    elif k-1>mid:\n",
    "        low  = mid + 1\n",
    "    else:\n",
    "        high = mid - 1\n",
    "print(ans)        \n",
    "    "
   ]
  },
  {
   "cell_type": "code",
   "execution_count": 75,
   "metadata": {},
   "outputs": [
    {
     "name": "stdout",
     "output_type": "stream",
     "text": [
      "[1, 1, 1, 1, 1, 1, 1, 1, 1]\n",
      "0.5\n"
     ]
    }
   ],
   "source": [
    "arr = [1, 2, 3, 4, 5, 6, 7, 8, 9, 10]\n",
    "k = 9\n",
    "n = len(arr)\n",
    "sections = [0] * (n-1)\n",
    "for _ in range(1,k+1):\n",
    "    maxi = -1\n",
    "    max_ind = -1\n",
    "    for i in range(n-1):\n",
    "        c_dist = arr[i+1]-arr[i]\n",
    "        sect_dist = c_dist/(sections[i]+1)\n",
    "        if sect_dist>maxi:\n",
    "            maxi= sect_dist\n",
    "            max_ind = i\n",
    "    sections[max_ind]+=1\n",
    "print(sections)\n",
    "ans = -1\n",
    "for i in range(n-1):\n",
    "    c_dist = arr[i+1]-arr[i]\n",
    "    ans = max(ans,c_dist/(sections[i]+1))\n",
    "print(ans)"
   ]
  },
  {
   "cell_type": "code",
   "execution_count": 76,
   "metadata": {},
   "outputs": [],
   "source": [
    "import heapq"
   ]
  },
  {
   "cell_type": "code",
   "execution_count": 77,
   "metadata": {},
   "outputs": [
    {
     "name": "stdout",
     "output_type": "stream",
     "text": [
      "[1, 1, 1, 1, 1, 1, 1, 1, 1]\n",
      "0.5\n"
     ]
    }
   ],
   "source": [
    "arr = [1, 2, 3, 4, 5, 6, 7, 8, 9, 10]\n",
    "k = 9\n",
    "n = len(arr)\n",
    "heap_arr = []\n",
    "sections = [0] * (n-1)\n",
    "for i in range(n-1):\n",
    "    t = arr[i+1]-arr[i]\n",
    "    heapq.heappush(heap_arr,(-t,i))\n",
    "    \n",
    "for _ in range(1,k+1):\n",
    "    dist,max_ind = heapq.heappop(heap_arr)\n",
    "    sections[max_ind]+=1    \n",
    "    c_dist = (arr[max_ind+1]-arr[max_ind])/(sections[max_ind]+1)\n",
    "    heapq.heappush(heap_arr,(-c_dist,max_ind))\n",
    "print(sections)\n",
    "ans = -1\n",
    "for i in range(n-1):\n",
    "    c_dist = arr[i+1]-arr[i]\n",
    "    ans = max(ans,c_dist/(sections[i]+1))\n",
    "print(ans)"
   ]
  },
  {
   "cell_type": "code",
   "execution_count": 78,
   "metadata": {},
   "outputs": [
    {
     "data": {
      "text/plain": [
       "2"
      ]
     },
     "execution_count": 78,
     "metadata": {},
     "output_type": "execute_result"
    }
   ],
   "source": [
    "target = 7\n",
    "arr = [2,3,1,2,4,3]\n",
    "\n",
    "# target = 11\n",
    "# arr = [1,1,1,1,1,1,1,1]\n",
    "# arr.sort()\n",
    "n = len(arr)-1\n",
    "def is_possible(arr,length,target):\n",
    "    i = 0\n",
    "    j = 0\n",
    "    n = len(arr)\n",
    "    summ = 0\n",
    "    ans = -1\n",
    "    while j<n:\n",
    "        summ += arr[j]\n",
    "        while j-i+1 == length:\n",
    "            ans = max(ans,summ)\n",
    "            if ans>=target:\n",
    "                return True\n",
    "            summ-=arr[i]\n",
    "            i+=1\n",
    "        j+=1\n",
    "    return False\n",
    "low = 0\n",
    "high = n - 1\n",
    "ans = -1\n",
    "while low<=high:\n",
    "    mid = low + (high - low)//2\n",
    "    if is_possible(arr,mid,target):\n",
    "        high = mid - 1\n",
    "        ans = mid\n",
    "    else:\n",
    "        low = mid + 1\n",
    "ans if ans!=-1 else 0\n",
    "# is_possible(arr,1,target)"
   ]
  },
  {
   "cell_type": "code",
   "execution_count": 79,
   "metadata": {},
   "outputs": [
    {
     "name": "stdout",
     "output_type": "stream",
     "text": [
      "1 3\n"
     ]
    }
   ],
   "source": [
    "ct = {2:2,4:4,5:5}\n",
    "maxi = -1e6\n",
    "mini = 1e6\n",
    "secd_maxi  = -1e6\n",
    "t_mini = 1e6\n",
    "# for key,val in ct.items():\n",
    "        \n",
    "# for i in range(len(ct)):\n",
    "#     t_mini = ct[i]\n",
    "# for i,key_val in enumerate(ct.items()):\n",
    "    \n",
    "#     t_mini = min(t_mini,abs(key_val[i][0]-key_val[i+1][0]))\n",
    "# print(maxi-mini)\n",
    "# print(t_mini)\n",
    "a = list(ct.keys())\n",
    "for i in range(len(a)-1):\n",
    "    t_mini  = min( t_mini,\n",
    "                  abs(a[i]-a[i+1]))\n",
    "    maxi = max(maxi,a[i])\n",
    "    mini = min(mini,a[i])\n",
    "n = len(ct)\n",
    "maxi  = max(maxi,a[n-1])\n",
    "mini  = min(mini,a[n-1])\n",
    "    # print(i,j)\n",
    "print(t_mini,maxi-mini)\n",
    "    "
   ]
  },
  {
   "cell_type": "markdown",
   "metadata": {},
   "source": [
    "#### 2582. Pass the Pillow"
   ]
  },
  {
   "cell_type": "code",
   "execution_count": 80,
   "metadata": {},
   "outputs": [
    {
     "name": "stdout",
     "output_type": "stream",
     "text": [
      "5\n"
     ]
    }
   ],
   "source": [
    "# n = 3\n",
    "# time = 2\n",
    "# n = 4\n",
    "# time = 5\n",
    "n = 18\n",
    "time = 38\n",
    "index = 1\n",
    "is_reverse = False\n",
    "# if time<n:\n",
    "#     print(n)\n",
    "# else:\n",
    "for i in range(time):\n",
    "    if is_reverse:\n",
    "        index-=1\n",
    "        if index<1:\n",
    "            index = 1\n",
    "    else:\n",
    "        index+=1\n",
    "    if index>=n:\n",
    "        is_reverse = True\n",
    "    if index==1:\n",
    "        is_reverse = False\n",
    "    # print(index)\n",
    "print(index)"
   ]
  },
  {
   "cell_type": "markdown",
   "metadata": {},
   "source": [
    "#### 2251. Number of Flowers in Full Bloom"
   ]
  },
  {
   "cell_type": "code",
   "execution_count": 81,
   "metadata": {},
   "outputs": [
    {
     "name": "stdout",
     "output_type": "stream",
     "text": [
      "[0, 1, 1, 2, 1, 1, 1, 1, 1, 1, 1]\n",
      "[2, 2, 1]\n"
     ]
    }
   ],
   "source": [
    "flowers = [[1,6],[3,7],[9,12],[4,13]]\n",
    "people = [2,3,7,11]\n",
    "\n",
    "flowers = [[1,10],[3,3]]\n",
    "people = [3,3,2]\n",
    "\n",
    "maxi = -1\n",
    "for fl in flowers:\n",
    "    maxi = max(maxi,fl[1])\n",
    "    \n",
    "hmap = [0]*(maxi+1)\n",
    "\n",
    "for fl in flowers:\n",
    "    for i in range(fl[0],fl[1]+1):\n",
    "        hmap[i]+=1\n",
    "        \n",
    "print(hmap)\n",
    "\n",
    "ans = []\n",
    "for p in people:\n",
    "    t = hmap[p]\n",
    "    ans.append(t)\n",
    "print(ans)"
   ]
  },
  {
   "cell_type": "code",
   "execution_count": 82,
   "metadata": {},
   "outputs": [
    {
     "name": "stdout",
     "output_type": "stream",
     "text": [
      "[1, 2, 2, 2]\n"
     ]
    }
   ],
   "source": [
    "flowers = [[1,6],[3,7],[9,12],[4,13]]\n",
    "people = [2,3,7,11]\n",
    "\n",
    "# flowers = [[1,10],[3,3]]\n",
    "# people = [3,3,2]\n",
    "\n",
    "ans = []\n",
    "for p in people:\n",
    "    c = 0\n",
    "    for fl in flowers:\n",
    "        if fl[0]<=p<=fl[1]:\n",
    "            c+=1\n",
    "    # condition = fl[0]<=p<=fl[1]\n",
    "    # print(fl[0],p,fl[1],condition,c)\n",
    "    # print(\"--\")\n",
    "    ans.append(c)\n",
    "print(ans)\n",
    "\n",
    "# c = 0\n",
    "# for fl in flowers:\n",
    "#     if fl[0]<=3<=fl[1]:\n",
    "#         c+=1\n",
    "# ans.append(c)\n",
    "# print(ans)\n"
   ]
  },
  {
   "cell_type": "code",
   "execution_count": 83,
   "metadata": {},
   "outputs": [
    {
     "name": "stdout",
     "output_type": "stream",
     "text": [
      "[1, 3, 4, 9]\n",
      "[6, 7, 12, 13]\n",
      "[2, 3, 7, 11]\n",
      "1 0\n",
      "2 0\n",
      "3 1\n",
      "4 2\n",
      "[1, 2, 2, 2]\n"
     ]
    }
   ],
   "source": [
    "flowers = [[1,6],[3,7],[9,12],[4,13]]\n",
    "people = [2,3,7,11]\n",
    "\n",
    "# flowers = [[1,10],[3,3]]\n",
    "# people = [3,3,2]\n",
    "\n",
    "start = []\n",
    "end = []\n",
    "for s,e in flowers:\n",
    "    start.append(s)\n",
    "    end.append(e)\n",
    "    \n",
    "start.sort()\n",
    "end.sort()\n",
    "\n",
    "print(start)\n",
    "print(end)\n",
    "print(people)\n",
    "def upper_bound(arr,x):\n",
    "    n = len(arr)\n",
    "    low = 0\n",
    "    high = n - 1\n",
    "    ans = n\n",
    "    while low<=high:\n",
    "        mid = low + (high - low)//2\n",
    "        if arr[mid]>x:\n",
    "            high = mid - 1\n",
    "            ans = mid\n",
    "        else:\n",
    "            low = mid + 1\n",
    "    return ans\n",
    "\n",
    "def lower_bound(arr,x):\n",
    "    n = len(arr)\n",
    "    low = 0\n",
    "    high = n - 1\n",
    "    ans = n\n",
    "    while low<=high:\n",
    "        mid = low + (high - low)//2\n",
    "        if arr[mid]>=x:\n",
    "            high = mid - 1\n",
    "            ans = mid\n",
    "        else:\n",
    "            low = mid + 1\n",
    "    return ans\n",
    "\n",
    "ans = []\n",
    "\n",
    "for p in people:\n",
    "    st = upper_bound(start,p)\n",
    "    ed = lower_bound(end,p)\n",
    "    print(st,ed)\n",
    "    ans.append(st-ed)\n",
    "\n",
    "print(ans)"
   ]
  },
  {
   "cell_type": "code",
   "execution_count": 84,
   "metadata": {},
   "outputs": [
    {
     "name": "stdout",
     "output_type": "stream",
     "text": [
      "[2, -1, 4, 6]\n"
     ]
    }
   ],
   "source": [
    "intervals = [[1,4],[2,4],[3,6],[4,4]]\n",
    "queries = [2,3,4,5]\n",
    "\n",
    "intervals = [[2,3],[2,5],[1,8],[20,25]]\n",
    "queries = [2,19,5,22]\n",
    "\n",
    "heap_arr = []\n",
    "heap_arr_alt = []\n",
    "ans = []\n",
    "\n",
    "for start,end in intervals:\n",
    "    heapq.heappush(heap_arr,(end-start,start,end))\n",
    "    heapq.heappush(heap_arr_alt,(end-start,start,end))\n",
    "    \n",
    "for i,q in enumerate(queries):\n",
    "    found = False\n",
    "    while heap_arr:\n",
    "        diff,start,end = heapq.heappop(heap_arr)\n",
    "        # print(f\"d: {diff} [{start},{end}] q: {q}\")\n",
    "        if start<=q<=end :\n",
    "            ans.append(diff+1)\n",
    "            found = True\n",
    "            break\n",
    "        i+=1\n",
    "    if not found:\n",
    "        ans.append(-1)\n",
    "    heap_arr = heap_arr_alt.copy()\n",
    "        \n",
    "# print(heap_arr)\n",
    "# print(heap_arr_alt)\n",
    "print(ans)"
   ]
  },
  {
   "cell_type": "code",
   "execution_count": 85,
   "metadata": {},
   "outputs": [
    {
     "name": "stdout",
     "output_type": "stream",
     "text": [
      "8 7\n",
      "49\n"
     ]
    }
   ],
   "source": [
    "height = [1,8,6,2,5,4,8,3,7]\n",
    "n = len(height)\n",
    "max_left = arr[0]\n",
    "left_ind = -1\n",
    "left_ind = n-1-i\n",
    "max_right = -1\n",
    "\n",
    "for i,h in enumerate(height):\n",
    "    if h>max_left:\n",
    "        max_left = h\n",
    "        left_ind = i\n",
    "        break\n",
    "    \n",
    "for i in range(n):\n",
    "    if height[n-1-i]>max_right:\n",
    "        max_right = height[n-1-i]\n",
    "        right_ind = n-1-i\n",
    "        break\n",
    "    \n",
    "ans = abs(left_ind-right_ind)*min(max_left,max_right)\n",
    "\n",
    "print(max_left,max_right)\n",
    "print(ans)"
   ]
  },
  {
   "cell_type": "code",
   "execution_count": 86,
   "metadata": {},
   "outputs": [
    {
     "name": "stdout",
     "output_type": "stream",
     "text": [
      "36\n"
     ]
    }
   ],
   "source": [
    "# height = [1,8,6,2,5,4,8,3,7]\n",
    "height = [2,3,10,5,7,8,9]\n",
    "n = len(height)\n",
    "\n",
    "i = 0\n",
    "j = n - 1\n",
    "ans = 0\n",
    "left = -1\n",
    "right = -1\n",
    "\n",
    "while i<j:\n",
    "    if height[i]>=height[j]:\n",
    "        length = (j-i)\n",
    "        h = min(height[i],height[j])\n",
    "        area = length * h\n",
    "        ans = max(ans,area)\n",
    "        j-=1\n",
    "    else:\n",
    "        length = (j-i)\n",
    "        h = min(height[i],height[j])\n",
    "        area = length * h\n",
    "        ans = max(ans,area)\n",
    "        i+=1\n",
    "        \n",
    "print(ans)"
   ]
  },
  {
   "cell_type": "code",
   "execution_count": 87,
   "metadata": {},
   "outputs": [
    {
     "name": "stdout",
     "output_type": "stream",
     "text": [
      "[1, 2, 3, 4, 5]\n"
     ]
    },
    {
     "data": {
      "text/plain": [
       "3"
      ]
     },
     "execution_count": 87,
     "metadata": {},
     "output_type": "execute_result"
    }
   ],
   "source": [
    "n = 5\n",
    "k = 2\n",
    "\n",
    "# n = 6\n",
    "# k = 5\n",
    "\n",
    "# n = 3\n",
    "# k = 1\n",
    "\n",
    "ans = 0\n",
    "\n",
    "arr = list(range(1,n+1))\n",
    "print(arr)\n",
    "i = 0\n",
    "while len(arr)!=1:\n",
    "    next_to_remove = (i+k-1)%len(arr)\n",
    "    arr.pop(next_to_remove)\n",
    "    i = next_to_remove\n",
    "arr[0]"
   ]
  },
  {
   "cell_type": "code",
   "execution_count": 88,
   "metadata": {},
   "outputs": [
    {
     "name": "stdout",
     "output_type": "stream",
     "text": [
      "7 5 2\n",
      "11 5 6\n",
      "14 10 4\n",
      "21 20 1\n",
      "3.25\n",
      "[2, 6, 4, 1]\n"
     ]
    }
   ],
   "source": [
    "customers = [[1,2],[2,5],[4,3]]\n",
    "customers = [[5,2],[5,4],[10,3],[20,1]]\n",
    "time = customers[0][0]\n",
    "avgs = []\n",
    "avg = 0\n",
    "size = len(customers)\n",
    "for interval in customers:\n",
    "    if time<interval[0]:\n",
    "        time = interval[0]\n",
    "    time += interval[1]\n",
    "    wait_time = time - interval[0]\n",
    "    print(time,interval[0],wait_time)\n",
    "    avgs.append(wait_time)\n",
    "    avg += (wait_time/size)\n",
    "print(avg)\n",
    "print(avgs)\n"
   ]
  },
  {
   "cell_type": "code",
   "execution_count": 89,
   "metadata": {},
   "outputs": [
    {
     "name": "stdout",
     "output_type": "stream",
     "text": [
      "1\n"
     ]
    }
   ],
   "source": [
    "logs = [\"./\",\"wz4/\",\"../\",\"mj2/\",\"../\",\"../\",\"ik0/\",\"il7/\"]\n",
    "counter = 0\n",
    "for log in logs:\n",
    "    \n",
    "    if log==\"../\":\n",
    "        counter -= 1\n",
    "    elif log==\"./\":\n",
    "        counter+=0\n",
    "    else:\n",
    "        counter += 1\n",
    "print(counter)"
   ]
  },
  {
   "cell_type": "code",
   "execution_count": 90,
   "metadata": {},
   "outputs": [],
   "source": [
    "# s = \"aba\"\n",
    "# k = 2\n",
    "\n",
    "# # s = \"cabbcdabdd\"\n",
    "# # k = 3\n",
    "\n",
    "# # s = \"cdad\"\n",
    "# # k = 4\n",
    "# def fun(s,k):\n",
    "#     hmap = {num: 0 for num in arr}\n",
    "#     n = len(s)\n",
    "#     count = 0\n",
    "#     j = 0\n",
    "#     distinct = 0\n",
    "#     for i in range(n):\n",
    "#         while j<n and distinct<k:\n",
    "#             hmap[arr[j]]+=1\n",
    "#             if hmap[arr[j]]==1:\n",
    "#                 distinct+=1\n",
    "#             j+=1\n",
    "#         if distinct>=k:\n",
    "#             count += (n-j+1)\n",
    "        \n",
    "#         hmap[arr[i]]-=1\n",
    "#         if hmap[arr[i]]==0:\n",
    "#             distinct-=1\n",
    "#     return count\n",
    "# print(fun(s,k))\n",
    "# print(fun(s,k+1))\n",
    "# print(fun(s,k)-fun(s,k+1))\n",
    "    "
   ]
  },
  {
   "cell_type": "code",
   "execution_count": 91,
   "metadata": {},
   "outputs": [
    {
     "name": "stdout",
     "output_type": "stream",
     "text": [
      "(ed(et-co-)el)\n",
      "(ed-et-co--el)\n",
      "-le--oc-te-de-\n",
      "-le--oc-te-de-\n",
      "-le--oc-te-de-\n"
     ]
    },
    {
     "data": {
      "text/plain": [
       "'#le##oc#te#de#'"
      ]
     },
     "execution_count": 91,
     "metadata": {},
     "output_type": "execute_result"
    }
   ],
   "source": [
    "s = \"(ed(et(oc))el)\"\n",
    "string = list(s)\n",
    "indices = []\n",
    "\n",
    "def reverse(arr,start,end):\n",
    "    start += 1\n",
    "    end -= 1\n",
    "    while start<=end:\n",
    "        temp = arr[start]\n",
    "        arr[start] = arr[end]\n",
    "        arr[end] = temp\n",
    "        start+=1\n",
    "        end-=1\n",
    "    \n",
    "def fun(string):\n",
    "    start_bkt = -1\n",
    "    end_bkt = -1\n",
    "    for ind,char in enumerate(string):\n",
    "        if char==\"(\":\n",
    "            start_bkt = ind\n",
    "        if char==\")\" and end_bkt==-1:\n",
    "            end_bkt = ind\n",
    "        if start_bkt!=-1 and end_bkt!=-1:\n",
    "            indices = (start_bkt,end_bkt)\n",
    "            reverse(string,start_bkt,end_bkt)\n",
    "            string[start_bkt] = \"#\"\n",
    "            string[end_bkt] = \"#\"\n",
    "    print(\"\".join(string).replace(\"#\",\"-\"))\n",
    "    return string\n",
    "\n",
    "for i in range(n):\n",
    "    t = fun(string)\n",
    "    string = t\n",
    "    \n",
    "\"\".join(string)\n"
   ]
  },
  {
   "cell_type": "code",
   "execution_count": 92,
   "metadata": {},
   "outputs": [
    {
     "name": "stdout",
     "output_type": "stream",
     "text": [
      "fulaotyqbnsj\n"
     ]
    }
   ],
   "source": [
    "class Solution:\n",
    "    def reverse(self,arr,low,high):\n",
    "        start = low + 1\n",
    "        end = high - 1\n",
    "        while start<=end:\n",
    "            temp = arr[start]\n",
    "            arr[start] = arr[end]\n",
    "            arr[end] = temp\n",
    "            start+=1\n",
    "            end-=1\n",
    "        \n",
    "    def helper(self,string):\n",
    "        start_bkt = -1\n",
    "        end_bkt = -1\n",
    "        \n",
    "        for ind,char in enumerate(string):\n",
    "            if char==\"(\":\n",
    "                start_bkt = ind\n",
    "            if char==\")\" and end_bkt==-1:\n",
    "                end_bkt = ind\n",
    "            if start_bkt!=-1 and end_bkt!=-1:\n",
    "                string[start_bkt] = \"#\"\n",
    "                string[end_bkt] = \"#\"\n",
    "        if start_bkt!=-1 and end_bkt!=-1:\n",
    "            self.reverse(string,start_bkt,end_bkt)\n",
    "        \n",
    "        return string\n",
    "\n",
    "    def reverseParentheses(self, s: str) -> str:\n",
    "        size = 0\n",
    "        for char in s:\n",
    "            if char==\"(\":\n",
    "                size+=1\n",
    "                \n",
    "        string = list(s)\n",
    "        \n",
    "        n = len(string)\n",
    "        for i in range(size):\n",
    "            temp = self.helper(string)\n",
    "            string = temp\n",
    "        ans = \"\".join(string).replace(\"#\",\"\").replace(\")\",\"\")\n",
    "        return ans\n",
    "\n",
    "if __name__ == \"__main__\":\n",
    "    s = \"(ed(et(oc))el)\"\n",
    "    s = \"(u(love)i)\"\n",
    "    s = \"(abcd)\"\n",
    "    s = \"ta()usw((((a))))\"\n",
    "    s = \"sxmdll(q)eki(x)\"\n",
    "    s = \"f(ul)ao(t(y)qbn)()sj\"\n",
    "    obj = Solution()\n",
    "    ans = obj.reverseParentheses(s)\n",
    "    print(ans)\n",
    "    \n"
   ]
  },
  {
   "cell_type": "code",
   "execution_count": 93,
   "metadata": {},
   "outputs": [
    {
     "name": "stdout",
     "output_type": "stream",
     "text": [
      "['f']\n",
      "['f', '']\n",
      "['f', 'u']\n",
      "['f', 'ul']\n",
      "['flu']\n",
      "['flua']\n",
      "['fluao']\n",
      "['fluao', '']\n",
      "['fluao', 't']\n",
      "['fluao', 't', '']\n",
      "['fluao', 't', 'y']\n",
      "['fluao', 'ty']\n",
      "['fluao', 'tyq']\n",
      "['fluao', 'tyqb']\n",
      "['fluao', 'tyqbn']\n",
      "['fluaonbqyt']\n",
      "['fluaonbqyt', '']\n",
      "['fluaonbqyt']\n",
      "['fluaonbqyts']\n",
      "['fluaonbqytsj']\n",
      "['fluaonbqytsj']\n"
     ]
    }
   ],
   "source": [
    "stack = ['']\n",
    "s = \"f(ul)ao(t(y)qbn)()sj\"\n",
    "for c in s:\n",
    "    if c == '(':\n",
    "        stack.append('')\n",
    "    elif c == ')':\n",
    "        add = stack.pop()[::-1]\n",
    "        stack[-1] += add\n",
    "    else:\n",
    "        stack[-1] += c\n",
    "    print(stack)\n",
    "print(stack)\n"
   ]
  },
  {
   "cell_type": "code",
   "execution_count": 94,
   "metadata": {},
   "outputs": [],
   "source": [
    "s = \"cdbcbbaaabab\"\n",
    "string = list(s)\n",
    "x = 4\n",
    "y = 5\n",
    "n = len(s)\n",
    "\n",
    "s = \"aabbaaxybbaabb\"\n",
    "x = 5\n",
    "y = 4"
   ]
  },
  {
   "cell_type": "code",
   "execution_count": 95,
   "metadata": {},
   "outputs": [
    {
     "name": "stdout",
     "output_type": "stream",
     "text": [
      "19\n"
     ]
    }
   ],
   "source": [
    "ans = 0\n",
    "def helper(string,ind):\n",
    "    string = list(string)\n",
    "    string[ind] = \"\"\n",
    "    string[ind+1] = \"\"    \n",
    "    return \"\".join(string)\n",
    "\n",
    "temp = s\n",
    "\n",
    "for _ in range(len(temp)):\n",
    "    try:\n",
    "        x_index = temp.index(\"ab\")\n",
    "    except ValueError:\n",
    "        x_index = None\n",
    "    try:\n",
    "        y_index = temp.index(\"ba\")\n",
    "    except ValueError:\n",
    "        y_index = None\n",
    "    if y_index and not x_index:\n",
    "        temp = helper(temp,y_index)\n",
    "        ans+=y\n",
    "    elif x_index and not y_index:\n",
    "        temp = helper(temp,x_index)\n",
    "        ans+=x\n",
    "    else:\n",
    "        if y_index and x<y:\n",
    "            temp = helper(temp,y_index)\n",
    "            ans+=y\n",
    "        elif x_index and x>=y:\n",
    "            temp = helper(temp,x_index)\n",
    "            ans+=x\n",
    "print(ans)\n",
    "        "
   ]
  },
  {
   "cell_type": "code",
   "execution_count": 96,
   "metadata": {},
   "outputs": [
    {
     "name": "stdout",
     "output_type": "stream",
     "text": [
      "[(0, 1), (1, 40)]\n",
      "[10]\n"
     ]
    }
   ],
   "source": [
    "positions = [3,5,2,6]\n",
    "healths = [10,10,15,12]\n",
    "directions = list(\"RLRL\")\n",
    "\n",
    "# positions = [5,4,3,2,1]\n",
    "# healths = [2,17,9,15,10]\n",
    "# directions = \"RRRRR\"\n",
    "\n",
    "# positions = [1,2,5,6]\n",
    "# healths = [10,10,11,11]\n",
    "# directions = \"RLRL\"\n",
    "\n",
    "positions = [1,40]\n",
    "healths = [10,11]\n",
    "directions = \"RL\"\n",
    "n = len(positions)\n",
    "indexes = [ (i,positions[i]) for i in range(n) ]\n",
    "\n",
    "indexes.sort()\n",
    "print(indexes)\n",
    "\n",
    "ans = []\n",
    "\n",
    "stack = []\n",
    "for ind in indexes:\n",
    "    ind = ind[0]\n",
    "    if directions[ind] == \"R\":\n",
    "        stack.append(ind)\n",
    "    else:\n",
    "        while stack and healths[ind]>0:\n",
    "            if healths[stack[-1]]<healths[ind]:\n",
    "                healths[ind]-=1\n",
    "                healths[stack[-1]]=0\n",
    "                stack.pop()\n",
    "            elif healths[stack[-1]]>healths[ind]:\n",
    "                healths[ind] = 0\n",
    "                healths[stack[-1]]-=1\n",
    "            else:\n",
    "                healths[ind] = 0\n",
    "                healths[stack[-1]] = 0\n",
    "                stack.pop()\n",
    "            \n",
    "\n",
    "for i in indexes:\n",
    "    i = i[0]\n",
    "    if healths[i]>0:\n",
    "        ans.append(healths[i])\n",
    "print(ans)\n",
    "    \n"
   ]
  },
  {
   "cell_type": "code",
   "execution_count": 97,
   "metadata": {},
   "outputs": [
    {
     "name": "stdout",
     "output_type": "stream",
     "text": [
      "[5, 10]\n"
     ]
    }
   ],
   "source": [
    "asteroids = [5,10,-5]\n",
    "# asteroids = [10,2,-5]\n",
    "\n",
    "stack = []\n",
    "n = len(asteroids)\n",
    "for i in range(n):\n",
    "    if asteroids[i]>0:\n",
    "        stack.append((asteroids[i],i))\n",
    "    else:\n",
    "        if stack[-1][0]>abs(asteroids[i]):\n",
    "            asteroids[i] = 0\n",
    "        elif stack[-1][0]<abs(asteroids[i]):\n",
    "            asteroids[stack.pop()[1]] = 0\n",
    "        else:\n",
    "            asteroids[stack.pop()[0]]= 0\n",
    "            asteroids[i] = 0\n",
    "ans = []\n",
    "for val in asteroids:\n",
    "    if abs(val)>0:\n",
    "        ans.append(val)\n",
    "print(ans)"
   ]
  },
  {
   "cell_type": "code",
   "execution_count": 98,
   "metadata": {},
   "outputs": [
    {
     "name": "stdout",
     "output_type": "stream",
     "text": [
      "False\n"
     ]
    }
   ],
   "source": [
    "mass = 10\n",
    "asteroids = [3,9,19,5,21]\n",
    "mass = 5\n",
    "asteroids = [4,9,23,4]\n",
    "asteroids.sort()\n",
    "c = 0\n",
    "for a in asteroids:\n",
    "    if mass>=a:\n",
    "        mass+=a\n",
    "        c+=1\n",
    "    else:\n",
    "        break\n",
    "print(c==len(asteroids))\n"
   ]
  },
  {
   "cell_type": "code",
   "execution_count": 99,
   "metadata": {},
   "outputs": [
    {
     "name": "stdout",
     "output_type": "stream",
     "text": [
      "20\n"
     ]
    }
   ],
   "source": [
    "directions = \"RLRSLL\"\n",
    "directions = \"LLRLRLLSLRLLSLSSSS\"\n",
    "directions = \"SSRSSRLLRSLLRSRSSRLRRRRLLRRLSSRR\"\n",
    "# directions = \"LLRR\"\n",
    "n = len(directions)\n",
    "stack = [directions[0]]\n",
    "ans = 0\n",
    "for i in range(1,n):\n",
    "    direction = directions[i]\n",
    "    if stack[-1]==\"R\" and direction == \"L\":\n",
    "        ans+=2\n",
    "        stack.pop()\n",
    "        direction = \"S\"\n",
    "    elif stack[-1]==\"S\" and direction==\"L\":\n",
    "        direction = \"S\"\n",
    "        ans+=1\n",
    "        \n",
    "    while stack and stack[-1]==\"R\" and direction==\"S\":\n",
    "        ans+=1\n",
    "        stack.pop()\n",
    "    stack.append(direction)\n",
    "        \n",
    "print(ans)\n",
    "# print(stack)"
   ]
  },
  {
   "cell_type": "code",
   "execution_count": 46,
   "metadata": {},
   "outputs": [
    {
     "name": "stdout",
     "output_type": "stream",
     "text": [
      "{'K': 4}\n"
     ]
    }
   ],
   "source": [
    "formula = \"K4(ON(SO3)2)2\"\n",
    "stack = []\n",
    "hmap = {}\n",
    "def find_number(string,ind):\n",
    "    ans = \"\"\n",
    "    while ind<len(string):\n",
    "        if not string[ind].isdigit():\n",
    "            break\n",
    "        ans+=string[ind]\n",
    "        ind+=1\n",
    "    return int(ans) if ans else 1\n",
    "is_open = False\n",
    "for ind,c in enumerate(formula):\n",
    "    if c==\"(\":\n",
    "        stack.append([dict(),\"\"])\n",
    "        is_open = True\n",
    "    elif c.isupper():\n",
    "        if is_open:\n",
    "            t_hmap = stack[-1][0]\n",
    "            stack[-1][1] += c\n",
    "        else:\n",
    "            t_hmap = dict()\n",
    "        num = find_number(formula,ind+1)\n",
    "        if ind+1<len(formula) and formula[ind+1].islower():\n",
    "            elem = c+formula[ind+1]\n",
    "            t_hmap[elem] = num\n",
    "        else:\n",
    "            t_hmap[c] = num\n",
    "        stack.append([t_hmap,c])\n",
    "    elif c==\")\":\n",
    "        num = find_number(formula,ind+1)\n",
    "        print(stack)\n",
    "        print(\"\")\n",
    "        is_open = False\n",
    "        for key,val in stack[-1][0].items():\n",
    "            stack[-1][0][key]*=num\n",
    "        d,s = stack.pop()\n",
    "        if stack:\n",
    "            for key,val in d.items():\n",
    "                if key in stack[-1][0]:\n",
    "                    stack[-1][0][key]+=val\n",
    "                else:\n",
    "                    stack[-1][0][key]=val\n",
    "            stack[-1][1]+=s\n",
    "print(stack)  \n",
    "print(\"jg\")\n",
    "# temp = sorted(hmap.items(), key=lambda x: x[0])\n",
    "# ans = \"\"\n",
    "# for key,val in temp:\n",
    "#     ans+=key\n",
    "#     ans+=str(val)\n",
    "# print(ans)"
   ]
  },
  {
   "cell_type": "code",
   "execution_count": 68,
   "metadata": {},
   "outputs": [],
   "source": [
    "import warnings\n",
    "warnings.filterwarnings(action=\"ignore\")\n",
    "import re\n",
    "from collections import defaultdict\n"
   ]
  },
  {
   "cell_type": "code",
   "execution_count": 78,
   "metadata": {},
   "outputs": [
    {
     "name": "stdout",
     "output_type": "stream",
     "text": [
      "[defaultdict(<class 'int'>, {'H': 2, 'O': 1})]\n",
      "H2O\n"
     ]
    }
   ],
   "source": [
    "formula = \"K4(ON(SO3)2)2\"\n",
    "formula = \"H2O\"\n",
    "filter = \"([A-Z]{1}[a-z]?|\\(|\\)|\\d+)\"\n",
    "tokens = [i for i in re.split(filter,formula) if i!=\"\"]\n",
    "stack = [defaultdict(int)]\n",
    "n = len(tokens)\n",
    "ind = 0\n",
    "while ind<n:\n",
    "    token = tokens[ind]\n",
    "    if token==\"(\":\n",
    "        stack.append(defaultdict(int))\n",
    "    else:\n",
    "        num = 1\n",
    "        if ind+1<n and tokens[ind+1].isdigit():\n",
    "            num = int(tokens[ind+1])\n",
    "            ind+=1\n",
    "        atoms = None\n",
    "        if token==\")\":\n",
    "            atoms = stack.pop()\n",
    "        else:\n",
    "            atoms = {token: 1}\n",
    "        for atom in atoms:\n",
    "            stack[-1][atom]+=atoms[atom]*num\n",
    "    ind+=1\n",
    "print(stack)   \n",
    "ans= \"\"  \n",
    "for key,val in sorted(stack[0].items(),key=lambda x: x[0]):\n",
    "    ans+=key\n",
    "    if val>1:\n",
    "        ans+=str(val)\n",
    "print(ans)\n",
    "        "
   ]
  },
  {
   "cell_type": "code",
   "execution_count": 41,
   "metadata": {},
   "outputs": [
    {
     "name": "stdout",
     "output_type": "stream",
     "text": [
      "[[0, ''], [100, '']]\n",
      "[[0, ''], [100, 'l']]\n",
      "[[0, ''], [100, 'le']]\n",
      "[[0, ''], [100, 'lee']]\n",
      "[[0, ''], [100, 'leet']]\n",
      "[[0, ''], [100, 'leetc']]\n",
      "[[0, ''], [100, 'leetco']]\n",
      "[[0, ''], [100, 'leetcod']]\n",
      "[[0, ''], [100, 'leetcode']]\n",
      "[[0, 'leetcodeleetcodeleetcodeleetcodeleetcodeleetcodeleetcodeleetcodeleetcodeleetcodeleetcodeleetcodeleetcodeleetcodeleetcodeleetcodeleetcodeleetcodeleetcodeleetcodeleetcodeleetcodeleetcodeleetcodeleetcodeleetcodeleetcodeleetcodeleetcodeleetcodeleetcodeleetcodeleetcodeleetcodeleetcodeleetcodeleetcodeleetcodeleetcodeleetcodeleetcodeleetcodeleetcodeleetcodeleetcodeleetcodeleetcodeleetcodeleetcodeleetcodeleetcodeleetcodeleetcodeleetcodeleetcodeleetcodeleetcodeleetcodeleetcodeleetcodeleetcodeleetcodeleetcodeleetcodeleetcodeleetcodeleetcodeleetcodeleetcodeleetcodeleetcodeleetcodeleetcodeleetcodeleetcodeleetcodeleetcodeleetcodeleetcodeleetcodeleetcodeleetcodeleetcodeleetcodeleetcodeleetcodeleetcodeleetcodeleetcodeleetcodeleetcodeleetcodeleetcodeleetcodeleetcodeleetcodeleetcodeleetcodeleetcodeleetcode']]\n"
     ]
    }
   ],
   "source": [
    "s = \"3[a]2[bc]\"\n",
    "s = \"3[a2[c]]\"\n",
    "s = \"100[leetcode]\"\n",
    "stack = [[0,\"\"]]\n",
    "n = len(s)\n",
    "\n",
    "def get_num(s,ind):\n",
    "    ans = []\n",
    "    while ind>=0:\n",
    "        if s[ind].isdigit():\n",
    "            ans.insert(0,s[ind])\n",
    "        else:\n",
    "            break\n",
    "        ind-=1\n",
    "    return int(\"\".join(ans)) if ans else 1\n",
    "\n",
    "num = 1\n",
    "stk2 = []\n",
    "for i,curr in enumerate(s):\n",
    "    if curr.isdigit():\n",
    "        continue\n",
    "    elif curr==\"[\":\n",
    "        num = get_num(s,i-1)\n",
    "        stack.append([num,\"\"])\n",
    "    elif curr==\"]\":\n",
    "        t = stack.pop()\n",
    "        t[1]*=int(t[0])\n",
    "        stack[-1][1]+=t[1]\n",
    "    else:\n",
    "        stack[-1][1]+=curr\n",
    "    print(stack)"
   ]
  },
  {
   "cell_type": "code",
   "execution_count": null,
   "metadata": {},
   "outputs": [],
   "source": []
  }
 ],
 "metadata": {
  "kernelspec": {
   "display_name": "base",
   "language": "python",
   "name": "python3"
  },
  "language_info": {
   "codemirror_mode": {
    "name": "ipython",
    "version": 3
   },
   "file_extension": ".py",
   "mimetype": "text/x-python",
   "name": "python",
   "nbconvert_exporter": "python",
   "pygments_lexer": "ipython3",
   "version": "3.12.3"
  }
 },
 "nbformat": 4,
 "nbformat_minor": 2
}
