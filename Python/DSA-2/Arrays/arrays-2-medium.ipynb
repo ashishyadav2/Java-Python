{
 "cells": [
  {
   "cell_type": "code",
   "execution_count": 1,
   "metadata": {},
   "outputs": [
    {
     "name": "stdout",
     "output_type": "stream",
     "text": [
      "-2 \n",
      "-2 1 \n",
      "-2 1 -3 \n",
      "-2 1 -3 4 \n",
      "-2 1 -3 4 -1 \n",
      "-2 1 -3 4 -1 2 \n",
      "-2 1 -3 4 -1 2 1 \n",
      "-2 1 -3 4 -1 2 1 -5 \n",
      "-2 1 -3 4 -1 2 1 -5 4 \n",
      "\n",
      "1 \n",
      "1 -3 \n",
      "1 -3 4 \n",
      "1 -3 4 -1 \n",
      "1 -3 4 -1 2 \n",
      "1 -3 4 -1 2 1 \n",
      "1 -3 4 -1 2 1 -5 \n",
      "1 -3 4 -1 2 1 -5 4 \n",
      "\n",
      "\n",
      "-3 \n",
      "-3 4 \n",
      "-3 4 -1 \n",
      "-3 4 -1 2 \n",
      "-3 4 -1 2 1 \n",
      "-3 4 -1 2 1 -5 \n",
      "-3 4 -1 2 1 -5 4 \n",
      "\n",
      "\n",
      "\n",
      "4 \n",
      "4 -1 \n",
      "4 -1 2 \n",
      "4 -1 2 1 \n",
      "4 -1 2 1 -5 \n",
      "4 -1 2 1 -5 4 \n",
      "\n",
      "\n",
      "\n",
      "\n",
      "-1 \n",
      "-1 2 \n",
      "-1 2 1 \n",
      "-1 2 1 -5 \n",
      "-1 2 1 -5 4 \n",
      "\n",
      "\n",
      "\n",
      "\n",
      "\n",
      "2 \n",
      "2 1 \n",
      "2 1 -5 \n",
      "2 1 -5 4 \n",
      "\n",
      "\n",
      "\n",
      "\n",
      "\n",
      "\n",
      "1 \n",
      "1 -5 \n",
      "1 -5 4 \n",
      "\n",
      "\n",
      "\n",
      "\n",
      "\n",
      "\n",
      "\n",
      "-5 \n",
      "-5 4 \n",
      "\n",
      "\n",
      "\n",
      "\n",
      "\n",
      "\n",
      "\n",
      "\n",
      "4 \n",
      "6\n"
     ]
    }
   ],
   "source": [
    "import sys\n",
    "arr =  [-2,1,-3,4,-1,2,1,-5,4]\n",
    "maxi = -sys.maxsize\n",
    "summ = 0\n",
    "for i in range(len(arr)):\n",
    "    for j in range(len(arr)):\n",
    "        summ = 0\n",
    "        for k in range(i,j+1):\n",
    "            summ += arr[k]\n",
    "            print(arr[k],end=\" \")\n",
    "        print()\n",
    "        maxi = max(summ,maxi)\n",
    "print(maxi)"
   ]
  },
  {
   "cell_type": "code",
   "execution_count": 2,
   "metadata": {},
   "outputs": [
    {
     "name": "stdout",
     "output_type": "stream",
     "text": [
      "6\n",
      "[ 4 -1 2 1 ]\n"
     ]
    }
   ],
   "source": [
    "import sys\n",
    "arr =  [-2,1,-3,4,-1,2,1,-5,4]\n",
    "# arr = [4, 3, 1, 5, 6]\n",
    "maxi = -sys.maxsize\n",
    "summ = 0\n",
    "j = -1\n",
    "ind = -1\n",
    "for i in range(len(arr)):\n",
    "    if summ==0:\n",
    "        start = i\n",
    "    summ += arr[i]\n",
    "    if maxi<summ:\n",
    "        maxi = summ\n",
    "        ind = i\n",
    "    if summ<0:\n",
    "        summ = 0\n",
    "print(maxi)\n",
    "print(\"[\",end=\" \")\n",
    "for i in range(start,ind+1):\n",
    "    print(arr[i],end =\" \")\n",
    "print(\"]\")"
   ]
  },
  {
   "cell_type": "code",
   "execution_count": 3,
   "metadata": {},
   "outputs": [
    {
     "name": "stdout",
     "output_type": "stream",
     "text": [
      "[2, -1, 3, -3, 4, 1]\n"
     ]
    }
   ],
   "source": [
    "from typing import List\n",
    "# variety 2\n",
    "def swap(arr,a,b):\n",
    "    temp = arr[a]\n",
    "    arr[a] = arr[b]\n",
    "    arr[b] = temp\n",
    "    \n",
    "def rearrangeArray(nums: List[int]) -> List[int]:\n",
    "        neg = []\n",
    "        pos = []\n",
    "        \n",
    "        for num in nums:\n",
    "            if num>0:\n",
    "                pos.append(num)\n",
    "            else:\n",
    "                neg.append(num) \n",
    "        correct_places = min(len(pos),len(neg))*2\n",
    "        p = 0\n",
    "        q = 0\n",
    "        for i in range(correct_places):\n",
    "            if i%2==0:\n",
    "                nums[i] = pos[p]\n",
    "                p+=1\n",
    "            else:\n",
    "                nums[i] = neg[q]\n",
    "                q+=1\n",
    "        start = correct_places\n",
    "        end = max(len(pos),len(neg))\n",
    "        for i in range(start,end+1):\n",
    "            if end==len(pos):\n",
    "                nums[i] = pos[p]\n",
    "                p+=1\n",
    "            else:\n",
    "                nums[i] = neg[q]\n",
    "                q+=1\n",
    "        return nums\n",
    "# nums = [3,1,-2,-5,2,-4]\n",
    "# nums = [-5,3,-9,5,-2,7]\n",
    "nums = [-1,2,3,4,-3,1]\n",
    "print(rearrangeArray(nums))"
   ]
  },
  {
   "cell_type": "code",
   "execution_count": 4,
   "metadata": {},
   "outputs": [
    {
     "name": "stdout",
     "output_type": "stream",
     "text": [
      "3\n",
      "4\n",
      "[1, 2, 4, 6, 5]\n"
     ]
    }
   ],
   "source": [
    "num = [1,2,4,5,6]\n",
    "# num = [1,2,3]\n",
    "small_elem_ind = -1\n",
    "curr_ind = len(num)-1\n",
    "while curr_ind>0 and num[curr_ind]<=num[curr_ind-1]:\n",
    "    curr_ind-=1\n",
    "small_elem_ind = curr_ind-1\n",
    "print(small_elem_ind)  \n",
    "if small_elem_ind!=-1:\n",
    "    j = len(num)-1  \n",
    "    while j>small_elem_ind and num[j]<=num[small_elem_ind]:\n",
    "        j-=1\n",
    "    temp = num[small_elem_ind]\n",
    "    num[small_elem_ind] = num[j]\n",
    "    num[j] = temp\n",
    "    p = small_elem_ind+1\n",
    "\n",
    "else:\n",
    "    p = 0\n",
    "q = len(num)-1\n",
    "while p<=q:\n",
    "    temp = num[p]\n",
    "    num[p] = num[q]\n",
    "    num[q] = temp\n",
    "    p+=1\n",
    "    q-=1\n",
    "print(j)\n",
    "print(num)"
   ]
  },
  {
   "cell_type": "code",
   "execution_count": 5,
   "metadata": {},
   "outputs": [
    {
     "name": "stdout",
     "output_type": "stream",
     "text": [
      "[10, 4, 4, 1]\n"
     ]
    }
   ],
   "source": [
    "# arr = [10,22,12,3,0,6]\n",
    "# arr = [16,17,4,3,5,2]\n",
    "arr = [10,4,2,4,1]\n",
    "# arr = [5,10,20,40]\n",
    "# arr = [30,10,10,5]\n",
    "n = len(arr)\n",
    "maxi = arr[n-1]\n",
    "leaders = [maxi]\n",
    "for i in range(n-2,-1,-1):\n",
    "    if maxi<=arr[i]:\n",
    "        maxi = arr[i]\n",
    "        leaders.insert(0,maxi)\n",
    "print(leaders)\n"
   ]
  },
  {
   "cell_type": "code",
   "execution_count": 6,
   "metadata": {},
   "outputs": [
    {
     "name": "stdout",
     "output_type": "stream",
     "text": [
      "9\n"
     ]
    }
   ],
   "source": [
    "arr = [100,4,200,1,3,2]\n",
    "arr = [0,3,7,2,5,8,4,6,0,1]\n",
    "arr.sort()\n",
    "maxi = 0\n",
    "count = 1\n",
    "for i in range(1,len(arr)):\n",
    "    if arr[i-1]+1 == arr[i]:\n",
    "        count += 1\n",
    "    maxi =  max(count,maxi)\n",
    "print(maxi)\n",
    "        "
   ]
  },
  {
   "cell_type": "code",
   "execution_count": 7,
   "metadata": {},
   "outputs": [
    {
     "name": "stdout",
     "output_type": "stream",
     "text": [
      "[3, 6, 9]\n",
      "[2, 5, 8]\n",
      "[1, 4, 7]\n"
     ]
    }
   ],
   "source": [
    "matrix = [[1,2,3],[4,5,6],[7,8,9]]\n",
    "m = len(matrix)\n",
    "n = len(matrix[0])\n",
    "\n",
    "for row in matrix:\n",
    "    row.reverse()\n",
    "\n",
    "for i in range(m):\n",
    "    for j in range(i):\n",
    "        matrix[i][j], matrix[j][i] = matrix[j][i], matrix[i][j]\n",
    "        \n",
    "for row in matrix:\n",
    "    print(row)"
   ]
  },
  {
   "cell_type": "code",
   "execution_count": 8,
   "metadata": {},
   "outputs": [
    {
     "name": "stdout",
     "output_type": "stream",
     "text": [
      "[1, 2, 3]\n",
      "[4, 5, 6]\n",
      "[7, 8, 9]\n",
      "\n",
      "[7, 4, 1]\n",
      "[8, 5, 2]\n",
      "[9, 6, 3]\n"
     ]
    }
   ],
   "source": [
    "matrix = [[1,2,3],[4,5,6],[7,8,9]]\n",
    "n = len(matrix)\n",
    "new_matrix = [[0 for _ in range(n)] for _ in range(n)]\n",
    "for row in matrix:\n",
    "    print(row)\n",
    "\n",
    "for i in range(n):\n",
    "    for j in range(n):\n",
    "        new_matrix[j][n-1-i] = matrix[i][j]\n",
    "print()\n",
    "for row in new_matrix:\n",
    "    print(row)"
   ]
  },
  {
   "cell_type": "code",
   "execution_count": 9,
   "metadata": {},
   "outputs": [
    {
     "name": "stdout",
     "output_type": "stream",
     "text": [
      "[7, 4, 1]\n",
      "[8, 5, 2]\n",
      "[9, 6, 3]\n"
     ]
    }
   ],
   "source": [
    "matrix = [[1,2,3],[4,5,6],[7,8,9]]\n",
    "def swap(mat,a,b,mode=1):\n",
    "    if mode==1:\n",
    "        temp = mat[a][b]\n",
    "        mat[a][b] = mat[b][a]\n",
    "        mat[b][a] = temp\n",
    "    else:\n",
    "        temp = mat[a]\n",
    "        mat[a] = mat[b]\n",
    "        mat[b] = temp\n",
    "    \n",
    "def reverse(row):\n",
    "    n = len(row)\n",
    "    ind = 0\n",
    "    while ind<n//2:\n",
    "        swap(row,ind,n-1-ind,0)\n",
    "        ind+=1\n",
    "        \n",
    "n = len(matrix)      \n",
    "\n",
    "for r in range(n):\n",
    "    for c in range(r,n):\n",
    "        swap(matrix,r,c)\n",
    "        \n",
    "for row in matrix:\n",
    "    reverse(row)\n",
    "    \n",
    "for row in matrix:\n",
    "    print(row)"
   ]
  },
  {
   "cell_type": "code",
   "execution_count": 10,
   "metadata": {},
   "outputs": [
    {
     "name": "stdout",
     "output_type": "stream",
     "text": [
      "[1, 2, 3, 6, 9, 8, 7, 4, 5]\n"
     ]
    }
   ],
   "source": [
    "matrix = [[1,2,3],[4,5,6],[7,8,9]]\n",
    "top = 0\n",
    "left = 0\n",
    "right = len(matrix[0])-1\n",
    "bottom = len(matrix)-1\n",
    "ans = []\n",
    "while top<=bottom and left<=right:\n",
    "    \n",
    "    for i in range(left,right+1):\n",
    "        ans.append(matrix[top][i])\n",
    "    top+=1\n",
    "    \n",
    "    for i in range(top,bottom+1):\n",
    "        ans.append(matrix[i][right])\n",
    "    right-=1\n",
    "    if top<=bottom:\n",
    "        for i in range(right,left-1,-1):\n",
    "            ans.append(matrix[bottom][i])\n",
    "        bottom-=1\n",
    "    if left<=right:\n",
    "        for i in range(bottom,top-1,-1):\n",
    "            ans.append(matrix[i][left])\n",
    "        left+=1\n",
    "    \n",
    "print(ans)\n",
    "    "
   ]
  },
  {
   "cell_type": "code",
   "execution_count": 11,
   "metadata": {},
   "outputs": [
    {
     "name": "stdout",
     "output_type": "stream",
     "text": [
      "0\n"
     ]
    }
   ],
   "source": [
    "arr = [1,2,3,-3,1,1,1,4,2,-3]\n",
    "n = len(arr)\n",
    "k = 3\n",
    "count = 0\n",
    "for i in range(n):\n",
    "    summ = 0\n",
    "    for j in range(n):\n",
    "        summ+=arr[j]\n",
    "    if summ==k:\n",
    "        count+=1\n",
    "print(count)"
   ]
  }
 ],
 "metadata": {
  "kernelspec": {
   "display_name": "base",
   "language": "python",
   "name": "python3"
  },
  "language_info": {
   "codemirror_mode": {
    "name": "ipython",
    "version": 3
   },
   "file_extension": ".py",
   "mimetype": "text/x-python",
   "name": "python",
   "nbconvert_exporter": "python",
   "pygments_lexer": "ipython3",
   "version": "3.12.3"
  }
 },
 "nbformat": 4,
 "nbformat_minor": 2
}
