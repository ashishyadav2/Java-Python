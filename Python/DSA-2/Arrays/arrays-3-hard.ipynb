{
 "cells": [
  {
   "cell_type": "code",
   "execution_count": 125,
   "metadata": {},
   "outputs": [
    {
     "name": "stdout",
     "output_type": "stream",
     "text": [
      "20.0\n"
     ]
    }
   ],
   "source": [
    "n = 6\n",
    "r = 3\n",
    "def ncr_fun(n,r):\n",
    "    ncr = 1\n",
    "    for i in range(r):\n",
    "        ncr *= (n-i)/(i+1)\n",
    "    return ncr\n",
    "print(ncr_fun(n,r))\n"
   ]
  },
  {
   "cell_type": "code",
   "execution_count": 126,
   "metadata": {},
   "outputs": [
    {
     "name": "stdout",
     "output_type": "stream",
     "text": [
      "[1, 5.0, 10.0, 10.0, 5.0, 1.0]\n"
     ]
    }
   ],
   "source": [
    "r = 6\n",
    "ans = []\n",
    "for c in range(r):\n",
    "    ans.append(ncr_fun(r-1,c))\n",
    "print(ans)"
   ]
  },
  {
   "cell_type": "code",
   "execution_count": 127,
   "metadata": {},
   "outputs": [
    {
     "name": "stdout",
     "output_type": "stream",
     "text": [
      "[1, 6.0, 15.0, 20.0, 15.0, 6.0, 1]\n"
     ]
    }
   ],
   "source": [
    "\n",
    "ans = [1]\n",
    "r = 7\n",
    "c = 2\n",
    "res = ncr_fun(r-1,c-1)\n",
    "t = res\n",
    "ans.append(res)\n",
    "for i in range(2,r-c+1):\n",
    "    res *= (t-1) / i\n",
    "    t-=1\n",
    "    ans.append(res)\n",
    "ans.append(1)\n",
    "print(ans)\n"
   ]
  },
  {
   "cell_type": "code",
   "execution_count": 128,
   "metadata": {},
   "outputs": [
    {
     "name": "stdout",
     "output_type": "stream",
     "text": [
      "[1, 6.0, 15.0, 20.0, 15.0, 6.0, 1.0]\n"
     ]
    }
   ],
   "source": [
    "ans = [1]\n",
    "r = 7\n",
    "c = 2\n",
    "res = 1\n",
    "for i in range(1,r):\n",
    "    res *= (r-i) / i\n",
    "    ans.append(res)\n",
    "print(ans)\n"
   ]
  },
  {
   "cell_type": "code",
   "execution_count": 129,
   "metadata": {},
   "outputs": [
    {
     "name": "stdout",
     "output_type": "stream",
     "text": [
      "[1, 11, 55, 165, 330, 462, 462, 330, 165, 55, 11, 1]\n",
      "[1]\n",
      "[1, 1]\n",
      "[1, 2, 1]\n",
      "[1, 3, 3, 1]\n",
      "[1, 4, 6, 4, 1]\n",
      "[1, 5, 10, 10, 5, 1]\n",
      "[1, 6, 15, 20, 15, 6, 1]\n",
      "[1, 7, 21, 35, 35, 21, 7, 1]\n",
      "[1, 8, 28, 56, 70, 56, 28, 8, 1]\n",
      "[1, 9, 36, 84, 126, 126, 84, 36, 9, 1]\n",
      "[1, 10, 45, 120, 210, 252, 210, 120, 45, 10, 1]\n",
      "[1, 11, 55, 165, 330, 462, 462, 330, 165, 55, 11, 1]\n"
     ]
    }
   ],
   "source": [
    "import math\n",
    "def helper(r):\n",
    "    res = [1]\n",
    "    temp = 1\n",
    "    for i in range(1,r):\n",
    "        temp *= (r-i)\n",
    "        temp/=i\n",
    "        res.append(int(temp))\n",
    "    return res\n",
    "n = 12\n",
    "print(helper(n))\n",
    "for i in range(1,n+1):\n",
    "    print(helper(i))"
   ]
  },
  {
   "cell_type": "code",
   "execution_count": 130,
   "metadata": {},
   "outputs": [
    {
     "name": "stdout",
     "output_type": "stream",
     "text": [
      "12\n",
      "[9, 3]\n"
     ]
    }
   ],
   "source": [
    "arr = [1,1,1,3,3,2,2,2]\n",
    "arr = [3,2,3]\n",
    "arr = [1]\n",
    "arr = [1,2,3,3]\n",
    "arr = [6,6,6,7,7]\n",
    "arr = [1,1,2,2,7,7,8,8,9,3,9,3,9,3,9,3,9,3,9,3,9,3,9,3,9,3,9,3,9,3,9,3,9,3,9,3,9,3]\n",
    "n = len(arr)\n",
    "check_count = n//3\n",
    "print(check_count)\n",
    "dictt = {}\n",
    "c = 0\n",
    "p = 0\n",
    "for i in range(n):\n",
    "    elem = arr[i]\n",
    "    c = 0\n",
    "    for j in range(i,n):\n",
    "        if elem==arr[j]:\n",
    "            c+=1\n",
    "    if c>check_count:\n",
    "        dictt[elem] = c\n",
    "print(list(dictt.keys()))\n",
    "# gives TLE in leetcode"
   ]
  },
  {
   "cell_type": "code",
   "execution_count": 131,
   "metadata": {},
   "outputs": [
    {
     "name": "stdout",
     "output_type": "stream",
     "text": [
      "[9, 3]\n"
     ]
    }
   ],
   "source": [
    "from collections import Counter\n",
    "arr = [1,1,2,2,7,7,8,8,9,3,9,3,9,3,9,3,9,3,9,3,9,3,9,3,9,3,9,3,9,3,9,3,9,3,9,3,9,3]\n",
    "\n",
    "n = len(arr)\n",
    "counter = Counter(arr)\n",
    "check_count = n//3\n",
    "ans = []\n",
    "t = 0\n",
    "for key,val in counter.most_common():\n",
    "    if val<= check_count:\n",
    "        break\n",
    "    ans.append(key)\n",
    "print(ans)"
   ]
  },
  {
   "cell_type": "code",
   "execution_count": 132,
   "metadata": {},
   "outputs": [
    {
     "name": "stdout",
     "output_type": "stream",
     "text": [
      "1 2\n",
      "[1, 2]\n"
     ]
    }
   ],
   "source": [
    "arr = [1,1,2,2,7,7,8,8,9,3,9,3,9,3,9,3,9,3,9,3,9,3,9,3,9,3,9,3,9,3,9,3,9,3,9,3,9,3]\n",
    "arr = [1,2]\n",
    "n = len(arr)\n",
    "check_count = n//3\n",
    "cnt1 = 0\n",
    "cnt2 = 0\n",
    "elem1 = arr[0]\n",
    "elem2 = arr[0]\n",
    "ans = []\n",
    "for num in arr:\n",
    "    if cnt1==0 and elem2 != num:\n",
    "        cnt1 = 1\n",
    "        elem1 = num\n",
    "    elif cnt2 == 0 and elem1 != num:\n",
    "        cnt2 = 1\n",
    "        elem2 = num\n",
    "    elif elem1==num:\n",
    "        cnt1+=1\n",
    "    elif elem2==num:\n",
    "        cnt2+=1\n",
    "    else:\n",
    "        cnt1-=1\n",
    "        cnt2-=1\n",
    "\n",
    "cnt1 = 0\n",
    "cnt2 = 0\n",
    "for num in arr:\n",
    "    if num==elem1:\n",
    "        cnt1+=1\n",
    "    elif num==elem2:\n",
    "        cnt2+=1\n",
    "print(elem1,elem2)\n",
    "if cnt1>check_count:\n",
    "    ans.append(elem1)\n",
    "    \n",
    "if cnt2>check_count:\n",
    "    ans.append(elem2)\n",
    "    \n",
    "print(ans)"
   ]
  },
  {
   "cell_type": "code",
   "execution_count": 133,
   "metadata": {},
   "outputs": [
    {
     "name": "stdout",
     "output_type": "stream",
     "text": [
      "{'-1 -1 2', '-1 0 1'}\n",
      "[-1, -1, 2]\n",
      "[-1, 0, 1]\n"
     ]
    }
   ],
   "source": [
    "nums = [-1,0,1,2,-1,-4]\n",
    "n = len(nums)\n",
    "ans = set()\n",
    "for i in range(n):\n",
    "    for j in range(i,n):\n",
    "        for k in range(j,n):\n",
    "            if nums[i]+nums[j]+nums[k]==0 and i!=j and j!=k and k!=i:\n",
    "                ans.add(\" \".join(sorted([str(nums[i]),str(nums[j]),str(nums[k])])))\n",
    "\n",
    "print(ans)   \n",
    "for string in ans:\n",
    "    print(list(map(lambda x: int(x),string.split(\" \"))))             "
   ]
  },
  {
   "cell_type": "code",
   "execution_count": 134,
   "metadata": {},
   "outputs": [
    {
     "name": "stdout",
     "output_type": "stream",
     "text": [
      "{-1: -1, 0: 0, 1: 1, 2: 2}\n",
      "[[-1, -1, 2], [-1, 0, 1], [-1, 0, 1], [-1, -1, 2]]\n"
     ]
    }
   ],
   "source": [
    "nums = [-1,0,1,2,-1,-4]\n",
    "n = len(nums)\n",
    "ans = []\n",
    "hmap = {}\n",
    "for i in range(n):\n",
    "    for j in range(i+1,n):\n",
    "        temp = 0-(nums[i]+nums[j])\n",
    "        if temp in hmap:\n",
    "            ans.append(sorted([nums[i],nums[j],hmap[temp]]))\n",
    "        else:\n",
    "            hmap[nums[i]] = nums[i]\n",
    "print(hmap)\n",
    "print(ans)"
   ]
  },
  {
   "cell_type": "code",
   "execution_count": 135,
   "metadata": {},
   "outputs": [
    {
     "name": "stdout",
     "output_type": "stream",
     "text": [
      "[[-2, 0, 2], [-2, 1, 1]]\n"
     ]
    }
   ],
   "source": [
    "# a + b + c = 0\n",
    "# a + b = - c\n",
    "nums = [-1,0,1,2,-1,-4]\n",
    "nums = [-2,0,1,1,2]\n",
    "# nums = [0,1,1]\n",
    "nums.sort()\n",
    "n = len(nums)\n",
    "ans = []\n",
    "for i in range(n):\n",
    "    if i>0 and nums[i]==nums[i-1]:\n",
    "        continue\n",
    "    low = i+1\n",
    "    high = n - 1\n",
    "    summ = 0- nums[i]\n",
    "    while low<high:\n",
    "        target = nums[low] + nums[high]\n",
    "        if target==summ:\n",
    "            ans.append([nums[i],nums[low],nums[high]])\n",
    "            while low<high and nums[low]==nums[low+1]:\n",
    "                low+=1\n",
    "            while low<high and nums[high]==nums[high-1]:\n",
    "                high-=1\n",
    "            low+=1\n",
    "            high-=1\n",
    "        elif target<summ:\n",
    "            low+=1\n",
    "        else:\n",
    "            high-=1\n",
    "print(ans)"
   ]
  },
  {
   "cell_type": "code",
   "execution_count": 136,
   "metadata": {},
   "outputs": [
    {
     "name": "stdout",
     "output_type": "stream",
     "text": [
      "[[2, 2, 2, 2]]\n"
     ]
    }
   ],
   "source": [
    "nums = [1,0,-1,0,-2,2]\n",
    "trgt = 0\n",
    "nums = [2,2,2,2,2]\n",
    "trgt = 8\n",
    "nums.sort()\n",
    "n = len(nums)\n",
    "ans = []\n",
    "for i in range(n):\n",
    "    if i>0 and nums[i]==nums[i-1]:\n",
    "        continue\n",
    "    for j in range(i+1,n):\n",
    "        if j!=i+1 and nums[j]==nums[j-1]:\n",
    "            continue\n",
    "        low = j + 1\n",
    "        high = n - 1\n",
    "        summ = trgt - nums[i]\n",
    "        while low<high:\n",
    "            target = nums[low] + nums[high] + nums[j]\n",
    "            if target==summ:\n",
    "                ans.append([nums[i],nums[j],nums[low],nums[high]])\n",
    "                while low<high and nums[low]==nums[low+1]:\n",
    "                    low+=1\n",
    "                while low<high and nums[high]==nums[high-1]:\n",
    "                    high-=1\n",
    "                low+=1\n",
    "                high-=1\n",
    "            elif target<summ:\n",
    "                low+=1\n",
    "            else:\n",
    "                high-=1\n",
    "print(ans)"
   ]
  },
  {
   "cell_type": "code",
   "execution_count": 137,
   "metadata": {},
   "outputs": [
    {
     "name": "stdout",
     "output_type": "stream",
     "text": [
      "[[1, 0, -1, 0], [1, -1, -2, 2], [0, 0, -2, 2]]\n"
     ]
    }
   ],
   "source": [
    "nums = [1,0,-1,0,-2,2]\n",
    "trgt = 0\n",
    "# nums = [2,2,2,2,2]\n",
    "# trgt = 8\n",
    "# nums.sort()\n",
    "n = len(nums)\n",
    "ans = []\n",
    "for i in range(n):\n",
    "    for j in range(i+1,n):\n",
    "        for k in range(j+1,n):\n",
    "            for l in range(k+1,n):\n",
    "                if nums[i]+nums[j]+nums[k]+nums[l]==trgt:\n",
    "                    ans.append([nums[i],nums[j],nums[k],nums[l]])\n",
    "print(ans)"
   ]
  },
  {
   "cell_type": "code",
   "execution_count": 138,
   "metadata": {},
   "outputs": [
    {
     "name": "stdout",
     "output_type": "stream",
     "text": [
      "[[1, 0, -2, 1], [1, 0, -2, 1], [0, -1, 0, 1], [0, -2, 2, 0], [-1, 0, 2, -1], [-1, -2, 2, 1], [0, -2, 2, 0]]\n"
     ]
    }
   ],
   "source": [
    "nums = [1,0,-1,0,-2,2]\n",
    "trgt = 0\n",
    "# nums = [2,2,2,2,2]\n",
    "# trgt = 8\n",
    "n = len(nums)\n",
    "hmap = {}\n",
    "ans = []\n",
    "for i in range(n):\n",
    "    for j in range(i+1,n):\n",
    "        for k in range(j+1,n):\n",
    "            c = trgt - (nums[i]+nums[j]+nums[k])\n",
    "            if c in hmap:\n",
    "                ans.append([nums[i],nums[j],nums[k],hmap[c]])\n",
    "            else:\n",
    "                hmap[nums[i]] = nums[i]\n",
    "print(ans)"
   ]
  },
  {
   "cell_type": "code",
   "execution_count": 139,
   "metadata": {},
   "outputs": [
    {
     "name": "stdout",
     "output_type": "stream",
     "text": [
      "5\n"
     ]
    }
   ],
   "source": [
    "arr = [15,-2,2,-8,1,7,10,23]\n",
    "n = len(arr)\n",
    "ans = []\n",
    "maxi = -1\n",
    "for i in range(n):\n",
    "    for j in range(i,n):\n",
    "        summ=0\n",
    "        for k in range(i,j):\n",
    "            summ+=arr[k]\n",
    "        if summ==0:\n",
    "            maxi = max(maxi,j-i)\n",
    "for t in ans:\n",
    "    print(t)\n",
    "print(maxi)"
   ]
  },
  {
   "cell_type": "code",
   "execution_count": 140,
   "metadata": {},
   "outputs": [
    {
     "name": "stdout",
     "output_type": "stream",
     "text": [
      "1 \n",
      "1 2 \n",
      "1 2 3 \n",
      "1 2 3 4 \n",
      "1 2 3 4 5 \n",
      "1 2 3 4 5 6 \n",
      "1 2 3 4 5 6 7 \n",
      "2 \n",
      "2 3 \n",
      "2 3 4 \n",
      "2 3 4 5 \n",
      "2 3 4 5 6 \n",
      "2 3 4 5 6 7 \n",
      "3 \n",
      "3 4 \n",
      "3 4 5 \n",
      "3 4 5 6 \n",
      "3 4 5 6 7 \n",
      "4 \n",
      "4 5 \n",
      "4 5 6 \n",
      "4 5 6 7 \n",
      "5 \n",
      "5 6 \n",
      "5 6 7 \n",
      "6 \n",
      "6 7 \n",
      "7 \n"
     ]
    }
   ],
   "source": [
    "arr = [1,2,3,4,5,6,7]\n",
    "n = len(arr)\n",
    "for i in range(n):\n",
    "    for j in range(i,n):\n",
    "        for k in range(i,j+1):\n",
    "            print(arr[k],end=\" \")\n",
    "        print()"
   ]
  },
  {
   "cell_type": "code",
   "execution_count": 141,
   "metadata": {},
   "outputs": [
    {
     "name": "stdout",
     "output_type": "stream",
     "text": [
      "{15: 0, 13: 1, 7: 3, 8: 4, 25: 6, 48: 7}\n",
      "5\n"
     ]
    }
   ],
   "source": [
    "hmap = {}\n",
    "arr = [15,-2,2,-8,1,7,10,23]\n",
    "n = len(arr)\n",
    "maxi = -1\n",
    "presum = 0\n",
    "for ind,num in enumerate(arr):\n",
    "    presum+=num\n",
    "    if presum==0:\n",
    "        maxi = ind + 1 \n",
    "    elif presum in hmap:\n",
    "        maxi = max(maxi,ind-hmap[presum])\n",
    "    else:\n",
    "        hmap[presum] = ind\n",
    "print(hmap)\n",
    "print(maxi)"
   ]
  },
  {
   "cell_type": "code",
   "execution_count": 142,
   "metadata": {},
   "outputs": [
    {
     "name": "stdout",
     "output_type": "stream",
     "text": [
      "4\n"
     ]
    }
   ],
   "source": [
    "t = 6\n",
    "xor = 0\n",
    "arr = [4,2,2,6,4]\n",
    "count = 0\n",
    "n = len(arr)\n",
    "for i in range(n):\n",
    "    for j in range(i,n):\n",
    "        xor = 0\n",
    "        for k in range(i,j+1):\n",
    "            xor = xor^arr[k]\n",
    "        # print(arr[i:j+1])\n",
    "        if xor==t:\n",
    "            count+=1\n",
    "print(count)"
   ]
  },
  {
   "cell_type": "code",
   "execution_count": 143,
   "metadata": {},
   "outputs": [
    {
     "name": "stdout",
     "output_type": "stream",
     "text": [
      "4\n"
     ]
    }
   ],
   "source": [
    "t = 6\n",
    "xor = 0\n",
    "arr = [4,2,2,6,4]\n",
    "count = 0\n",
    "n = len(arr)\n",
    "for i in range(n):\n",
    "    xor = 0\n",
    "    for j in range(i,n):\n",
    "        xor = xor ^ arr[j]\n",
    "        if xor==t:\n",
    "            count+=1\n",
    "print(count)"
   ]
  },
  {
   "cell_type": "code",
   "execution_count": 144,
   "metadata": {},
   "outputs": [
    {
     "name": "stdout",
     "output_type": "stream",
     "text": [
      "[[1, 6], [8, 11], [15, 18]]\n",
      "3\n"
     ]
    }
   ],
   "source": [
    "intervals = [[1,3],[2,6],[8,9],[9,11],[8,10],[2,4],[15,18],[16,17]]\n",
    "intervals.sort()\n",
    "ans = []\n",
    "n = len(intervals)\n",
    "for i,rowi in enumerate(intervals):\n",
    "    \n",
    "    start_interval = rowi[0]\n",
    "    end_interval = rowi[1]\n",
    "    if ans and ans[-1][-1]>=end_interval:\n",
    "        continue\n",
    "        \n",
    "    for j,rowj in enumerate(intervals,i+1):\n",
    "        curr_start_interval = rowj[0]\n",
    "        curr_end_interval = rowj[1]\n",
    "        if curr_start_interval<=end_interval:\n",
    "            end_interval = max(end_interval,curr_end_interval)\n",
    "        else:\n",
    "            break\n",
    "    ans.append([start_interval,end_interval])\n",
    "   \n",
    "print(ans)\n",
    "print(len(ans))"
   ]
  },
  {
   "cell_type": "code",
   "execution_count": 145,
   "metadata": {},
   "outputs": [
    {
     "name": "stdout",
     "output_type": "stream",
     "text": [
      "[[0, 0], [1, 4]]\n"
     ]
    }
   ],
   "source": [
    "intervals = [[1,3],[2,6],[8,10],[15,18]]\n",
    "# intervals = [[1,4],[0,4]]\n",
    "intervals = [[1,4],[0,0]]\n",
    "intervals.sort()\n",
    "n = len(intervals)\n",
    "# print(intervals)\n",
    "ans = []\n",
    "for ind,row in enumerate(intervals):\n",
    "    if not ans or ans[-1][1]<row[0]:\n",
    "        ans.append(row)\n",
    "    else:\n",
    "        ans[-1][1] = max(ans[-1][1], row[1])\n",
    "print(ans)"
   ]
  },
  {
   "cell_type": "code",
   "execution_count": 146,
   "metadata": {},
   "outputs": [
    {
     "name": "stdout",
     "output_type": "stream",
     "text": [
      "[1, 2, 2, 3, 5, 6]\n",
      "[1, 2, 2]\n",
      "[3, 5, 6]\n"
     ]
    }
   ],
   "source": [
    "nums1 = [1,2,3]\n",
    "nums2 = [2,5,6]\n",
    "ans = []\n",
    "n = len(nums1)\n",
    "m = len(nums2)\n",
    "i = 0\n",
    "j = 0\n",
    "while i<n and j<m:\n",
    "    if nums1[i]<=nums2[j]:\n",
    "        ans.append(nums1[i])\n",
    "        i+=1\n",
    "    else:\n",
    "        ans.append(nums2[j])\n",
    "        j+=1\n",
    "\n",
    "while i<n:\n",
    "    ans.append(nums1[i])\n",
    "    i+=1\n",
    "    \n",
    "while j<m:\n",
    "    ans.append(nums2[j])\n",
    "    j+=1\n",
    "    \n",
    "for i in range(n+m):\n",
    "    if i<n:\n",
    "        nums1[i] = ans[i]\n",
    "    else:\n",
    "        nums2[i-n] = ans[i]\n",
    "    \n",
    "print(ans)\n",
    "print(nums1)\n",
    "print(nums2)"
   ]
  },
  {
   "cell_type": "code",
   "execution_count": 147,
   "metadata": {},
   "outputs": [
    {
     "name": "stdout",
     "output_type": "stream",
     "text": [
      "[0, 1, 2, 3]\n",
      "[5, 6, 7, 8, 9]\n"
     ]
    }
   ],
   "source": [
    "nums1 = [1,2,3]\n",
    "nums2 = [2,5,6]\n",
    "nums1 = [1,3,5,7]\n",
    "nums2 = [0,2,6,8,9]\n",
    "n = len(nums1)\n",
    "m = len(nums2)\n",
    "i = n-1\n",
    "j = 0\n",
    "while nums1[i]>nums2[j] and i>=0 and j<m:\n",
    "    temp = nums1[i]\n",
    "    nums1[i] = nums2[j]\n",
    "    nums2[j] = temp\n",
    "    i-=1\n",
    "    j+=1\n",
    "    \n",
    "nums1.sort()\n",
    "nums2.sort()\n",
    "\n",
    "print(nums1)\n",
    "print(nums2)"
   ]
  },
  {
   "cell_type": "code",
   "execution_count": 148,
   "metadata": {},
   "outputs": [
    {
     "name": "stdout",
     "output_type": "stream",
     "text": [
      "3\n",
      "2\n",
      "1\n",
      "[-1, 0, 0, 0, 0, 0, 0, 0, 0]\n",
      "[1, 1, 1, 2, 3, 3]\n",
      "[-1, 0, 0, 1, 1, 1, 2, 3, 3]\n"
     ]
    }
   ],
   "source": [
    "def swap(arr1,a,arr2,b):\n",
    "    temp = arr1[a]\n",
    "    arr1[a] = arr2[b]\n",
    "    arr2[b] = temp\n",
    "    \n",
    "# nums1 = [1,2,3]\n",
    "# nums2 = [2,5,6]\n",
    "# nums1 = [1,3,5,7]\n",
    "# nums2 = [0,2,6,8,9]\n",
    "nums1 = [0,0,3,0,0,0,0,0,0]\n",
    "nums2 = [-1,1,1,1,2,3]\n",
    "n = 3\n",
    "m = 6\n",
    "# n = len(nums1)\n",
    "# m = len(nums2)\n",
    "\n",
    "total_length = n+m\n",
    "gap = total_length//2 + (total_length%2)\n",
    "\n",
    "while gap>0:\n",
    "    i = 0\n",
    "    j = i + gap\n",
    "    while j<total_length:\n",
    "        # i in arr1 and j in arr2\n",
    "        if i<n and j>=n:\n",
    "            if nums1[i]>nums2[j-n]:\n",
    "                swap(nums1,i,nums2,j-n)\n",
    "        # both in arr2    \n",
    "        elif i>=n:\n",
    "            if nums2[i-n]>nums2[j-n]:\n",
    "                swap(nums2,i-n,nums2,j-n)            \n",
    "        # both in arr1    \n",
    "        else:\n",
    "            if nums1[i]>nums1[j]:\n",
    "                swap(nums1,i,nums1,j)         \n",
    "        i+=1\n",
    "        j+=1\n",
    "    if gap == 1:\n",
    "        break\n",
    "    gap = gap//2 + (gap%2)\n",
    "    print(gap)\n",
    "print(nums1)\n",
    "print(nums2)\n",
    "for i in range(n,m+n):\n",
    "    nums1[i] = nums2[i-n]\n",
    "print(nums1)\n"
   ]
  },
  {
   "cell_type": "code",
   "execution_count": 149,
   "metadata": {},
   "outputs": [
    {
     "name": "stdout",
     "output_type": "stream",
     "text": [
      "[-1, 0, 1, 0, 0, 0, 0, 0, 0]\n",
      "[1, 1, 2, 0, 3, 3]\n",
      "[-1, 0, 1, 1, 1, 2, 0, 3, 3]\n"
     ]
    }
   ],
   "source": [
    "nums1 = [1,2,3,0,0,0]\n",
    "m = 3\n",
    "nums2 = [2,5,6]\n",
    "n = 3\n",
    "\n",
    "nums1 = [0,0,3,0,0,0,0,0,0]\n",
    "nums2 = [-1,1,1,1,2,3]\n",
    "m = 3\n",
    "n = 6\n",
    "\n",
    "total_length = m+n\n",
    "def swap(arr1,a,arr2,b):\n",
    "    temp = arr1[a]\n",
    "    arr1[a] = arr2[b]\n",
    "    arr2[b] = temp\n",
    "gap = total_length//2 + (total_length%2)\n",
    "while gap>0:\n",
    "    i = 0\n",
    "    j = i + gap\n",
    "    while j<total_length:\n",
    "        if i<m and j>=m:\n",
    "            if nums1[i]>nums2[j-m]:\n",
    "                swap(nums1,i,nums2,j-m)\n",
    "        elif i>=m:\n",
    "            if nums2[i-m]>nums2[j-m]:\n",
    "                swap(nums1,i-m,nums2,j-m)\n",
    "        else:\n",
    "            if nums1[i]>nums1[j]:\n",
    "                swap(nums1,i,nums1,j)\n",
    "        i+=1\n",
    "        j+=1\n",
    "    if gap==1:\n",
    "        break\n",
    "    gap = gap//2 + (gap%2)       \n",
    "print(nums1)\n",
    "print(nums2)\n",
    "for i in range(m,m+n):\n",
    "    nums1[i] = nums2[i-m]\n",
    "print(nums1)"
   ]
  },
  {
   "cell_type": "code",
   "execution_count": 150,
   "metadata": {},
   "outputs": [
    {
     "name": "stdout",
     "output_type": "stream",
     "text": [
      "[6, 6, 45, 46, 46, 46, 51, 64, 64, 66]\n"
     ]
    }
   ],
   "source": [
    "arr = [6,46,45,46,6,66,51,64,64,46] # shell sort\n",
    "gap = len(arr)//2 + (len(arr)%2)\n",
    "while gap>0:\n",
    "    i = 0\n",
    "    j = i+gap\n",
    "    while j<len(arr):\n",
    "        if arr[i]>arr[j]:\n",
    "            temp =  arr[i]\n",
    "            arr[i] = arr[j]\n",
    "            arr[j] = temp\n",
    "        i+=1\n",
    "        j+=1\n",
    "    if gap==1:\n",
    "        break\n",
    "    gap = gap//2 + (gap%2)\n",
    "        \n",
    "print(arr)"
   ]
  },
  {
   "cell_type": "code",
   "execution_count": 151,
   "metadata": {},
   "outputs": [
    {
     "name": "stdout",
     "output_type": "stream",
     "text": [
      "[0, 0, 2]\n",
      "2 1\n"
     ]
    }
   ],
   "source": [
    "arr = [2,2]\n",
    "# arr = list(map(lambda x: int(x),\"47 13 33 43 16 25 19 23 31 29 35 10 2 32 11 47 15 34 46 30 26 41 18 5 17 37 39 6 4 20 27 9 3 8 40 24 44 14 36 7 38 12 1 42 12 28 22 45\".split()))\n",
    "n = len(arr)\n",
    "repeating = 0\n",
    "missing = 0\n",
    "hasharr = [0] * (n+1)\n",
    "for num in arr:\n",
    "    hasharr[num]+=1\n",
    "for i in range(1,n+1):\n",
    "    if hasharr[i]==2:\n",
    "        repeating = i\n",
    "    if hasharr[i]==0:\n",
    "        missing = i\n",
    "print(hasharr)\n",
    "print(repeating,missing)\n",
    "    "
   ]
  },
  {
   "cell_type": "code",
   "execution_count": 152,
   "metadata": {},
   "outputs": [
    {
     "name": "stdout",
     "output_type": "stream",
     "text": [
      "1\n",
      "5\n"
     ]
    }
   ],
   "source": [
    "arr = [1,1,2,3,4,6]\n",
    "n = len(arr)\n",
    "repeating = 0\n",
    "missing = 0\n",
    "sn = (n*(n+1))//2\n",
    "s2n = (n*(n+1)*(2*n+1))//6\n",
    "sqr_sum = 0\n",
    "s_sum = 0\n",
    "for num in arr:\n",
    "    sqr_sum += num**2\n",
    "    s_sum += num\n",
    "eq1 = s_sum - sn\n",
    "eq2 = sqr_sum - s2n\n",
    "eq2 = eq2//eq1\n",
    "repeating = (eq1 + eq2)//2\n",
    "missing = repeating-eq1\n",
    "print(repeating)\n",
    "print(missing)"
   ]
  },
  {
   "cell_type": "code",
   "execution_count": 153,
   "metadata": {},
   "outputs": [
    {
     "name": "stdout",
     "output_type": "stream",
     "text": [
      "8\n"
     ]
    }
   ],
   "source": [
    "arr = [5,3,2,4,1]\n",
    "n = len(arr)\n",
    "count = 0\n",
    "for i in range(n):\n",
    "    for j in range(i+1,n):\n",
    "        if arr[i]>arr[j] and i<j:\n",
    "            count+=1\n",
    "print(count)"
   ]
  },
  {
   "cell_type": "code",
   "execution_count": 154,
   "metadata": {},
   "outputs": [
    {
     "name": "stdout",
     "output_type": "stream",
     "text": [
      "3\n",
      "[1, 2, 3, 4, 5]\n"
     ]
    }
   ],
   "source": [
    "def divide(arr,left,right):\n",
    "    if left>=right:\n",
    "        return 0\n",
    "    count = 0\n",
    "    mid = (left+right)//2\n",
    "    count = divide(arr,left,mid) + divide(arr,mid+1,right)    \n",
    "    count += merge(arr,left,mid,right)\n",
    "    return count\n",
    "    \n",
    "def merge(arr,low,mid,high):\n",
    "    i = low\n",
    "    j = mid+1\n",
    "    temp = []\n",
    "    count = 0\n",
    "    while i<=mid and j<=high:\n",
    "        if arr[i]<=arr[j]:\n",
    "            temp.append(arr[i])\n",
    "            i+=1\n",
    "        else:\n",
    "            count += mid - i +1\n",
    "            temp.append(arr[j])\n",
    "            j+=1\n",
    "            \n",
    "    while i<=mid:\n",
    "        temp.append(arr[i])\n",
    "        i+=1\n",
    "        \n",
    "    while j<=high:\n",
    "        temp.append(arr[j])\n",
    "        j+=1\n",
    "        \n",
    "    for k in range(low,high+1):\n",
    "        arr[k]=temp[k-low]\n",
    "        \n",
    "    return count\n",
    "arr = [2,4,1,3,5]\n",
    "# arr = [2, 3, 4, 5, 6]\n",
    "n = len(arr)\n",
    "print(divide(arr,0,n-1))\n",
    "print(arr)"
   ]
  },
  {
   "cell_type": "code",
   "execution_count": 155,
   "metadata": {},
   "outputs": [
    {
     "name": "stdout",
     "output_type": "stream",
     "text": [
      "3\n"
     ]
    }
   ],
   "source": [
    "arr = arr = [2,4,3,5,1]\n",
    "n = len(arr)\n",
    "count = 0\n",
    "for i in range(n):\n",
    "    for j in range(i+1,n):\n",
    "        if arr[i]>2*arr[j] and i<j:\n",
    "            count+=1\n",
    "print(count)"
   ]
  },
  {
   "cell_type": "code",
   "execution_count": 177,
   "metadata": {},
   "outputs": [
    {
     "name": "stdout",
     "output_type": "stream",
     "text": [
      "2\n",
      "[1, 1, 2, 3, 3]\n"
     ]
    }
   ],
   "source": [
    "def divide(arr,left,right):\n",
    "    if left>=right:\n",
    "        return 0\n",
    "    count = 0\n",
    "    mid = (left+right)//2\n",
    "    count = divide(arr,left,mid) + divide(arr,mid+1,right)    \n",
    "    count += merge(arr,left,mid,right)\n",
    "    return count\n",
    "    \n",
    "def merge(arr,low,mid,high):\n",
    "    j = mid+1\n",
    "    count = 0\n",
    "    for i in range(low,mid+1):\n",
    "        while j<=high and arr[i]>2*arr[j]:\n",
    "            j+=1\n",
    "        count+= j - (mid + 1)\n",
    "    i = low\n",
    "    j = mid+1\n",
    "    temp = []\n",
    "    while i<=mid and j<=high:\n",
    "        if arr[i]<=arr[j]:\n",
    "            temp.append(arr[i])\n",
    "            i+=1\n",
    "        else:\n",
    "            temp.append(arr[j])\n",
    "            j+=1\n",
    "            \n",
    "    while i<=mid:\n",
    "        temp.append(arr[i])\n",
    "        i+=1\n",
    "        \n",
    "    while j<=high:\n",
    "        temp.append(arr[j])\n",
    "        j+=1\n",
    "        \n",
    "    for k in range(low,high+1):\n",
    "        arr[k]=temp[k-low]\n",
    "        \n",
    "    return count\n",
    "arr = [1,3,2,3,1]\n",
    "# arr = [2, 3, 4, 5, 6]\n",
    "# arr = [2,4,3,5,1]\n",
    "n = len(arr)\n",
    "print(divide(arr,0,n-1))\n",
    "print(arr)"
   ]
  },
  {
   "cell_type": "code",
   "execution_count": 213,
   "metadata": {},
   "outputs": [
    {
     "name": "stdout",
     "output_type": "stream",
     "text": [
      "6\n"
     ]
    }
   ],
   "source": [
    "arr = [2,3,-2,4]\n",
    "# arr = [-2,0,-1]\n",
    "n = len(arr)\n",
    "maxi = 0\n",
    "prod = 1\n",
    "for i in range(n):\n",
    "    prod = 1\n",
    "    for j in range(i,n):\n",
    "        prod *= arr[j] \n",
    "        maxi = max(maxi,prod)\n",
    "print(maxi)"
   ]
  },
  {
   "cell_type": "code",
   "execution_count": 216,
   "metadata": {},
   "outputs": [
    {
     "data": {
      "text/plain": [
       "0"
      ]
     },
     "execution_count": 216,
     "metadata": {},
     "output_type": "execute_result"
    }
   ],
   "source": [
    "# arr = [2,3,-2,4]\n",
    "arr = [-2,0,-1]\n",
    "n = len(arr)\n",
    "prefix = 1\n",
    "suffix = 1\n",
    "l_maxi = 0\n",
    "r_maxi = 0\n",
    "ans = 0\n",
    "for i in range(n):\n",
    "    if prefix<=0:\n",
    "        prefix = 1\n",
    "    if suffix<=0:\n",
    "        suffix = 1\n",
    "    prefix*=arr[i]\n",
    "    suffix*=arr[n-i-1]\n",
    "    l_maxi = max(l_maxi,prefix)\n",
    "    r_maxi = max(r_maxi,suffix)\n",
    "ans = max(l_maxi,r_maxi)\n",
    "ans\n",
    "    "
   ]
  }
 ],
 "metadata": {
  "kernelspec": {
   "display_name": "base",
   "language": "python",
   "name": "python3"
  },
  "language_info": {
   "codemirror_mode": {
    "name": "ipython",
    "version": 3
   },
   "file_extension": ".py",
   "mimetype": "text/x-python",
   "name": "python",
   "nbconvert_exporter": "python",
   "pygments_lexer": "ipython3",
   "version": "3.11.0"
  }
 },
 "nbformat": 4,
 "nbformat_minor": 2
}
