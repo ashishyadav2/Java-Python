{
 "cells": [
  {
   "cell_type": "code",
   "execution_count": 5,
   "metadata": {},
   "outputs": [],
   "source": [
    "import random"
   ]
  },
  {
   "cell_type": "code",
   "execution_count": 6,
   "metadata": {},
   "outputs": [
    {
     "data": {
      "text/plain": [
       "[17, 7, 8, 14, 18, 13, 4, 19]"
      ]
     },
     "execution_count": 6,
     "metadata": {},
     "output_type": "execute_result"
    }
   ],
   "source": [
    "arr = [17, 7, 8, 14, 18, 13, 4,19]\n",
    "arr"
   ]
  },
  {
   "cell_type": "markdown",
   "metadata": {},
   "source": [
    "## Largest Element in an Array\n"
   ]
  },
  {
   "cell_type": "code",
   "execution_count": 7,
   "metadata": {},
   "outputs": [
    {
     "name": "stdout",
     "output_type": "stream",
     "text": [
      "19\n"
     ]
    }
   ],
   "source": [
    "def largest_elem(arr):\n",
    "    maxi = arr[0]\n",
    "    for num in arr:\n",
    "        if num>=maxi:\n",
    "            maxi = num\n",
    "    print(maxi)\n",
    "largest_elem(arr)"
   ]
  },
  {
   "cell_type": "markdown",
   "metadata": {},
   "source": [
    "## Second Largest Element in an Array without sorting\n"
   ]
  },
  {
   "cell_type": "markdown",
   "metadata": {},
   "source": [
    "### Brute"
   ]
  },
  {
   "cell_type": "code",
   "execution_count": 8,
   "metadata": {},
   "outputs": [
    {
     "name": "stdout",
     "output_type": "stream",
     "text": [
      "18\n"
     ]
    }
   ],
   "source": [
    "def second_largest_elem(arr):\n",
    "    arr = sorted(arr)\n",
    "    n = len(arr)\n",
    "    largest = arr[n-1]\n",
    "    for i in range(n-2,-1,-1):\n",
    "        if arr[i]<largest:\n",
    "            print(arr[i])\n",
    "            break\n",
    "second_largest_elem(arr)"
   ]
  },
  {
   "cell_type": "markdown",
   "metadata": {},
   "source": [
    "### Better"
   ]
  },
  {
   "cell_type": "code",
   "execution_count": 9,
   "metadata": {},
   "outputs": [
    {
     "name": "stdout",
     "output_type": "stream",
     "text": [
      "18\n"
     ]
    }
   ],
   "source": [
    "def second_largest_elem(arr):\n",
    "    n = len(arr)\n",
    "    largest = arr[0]\n",
    "    for i in range(n):\n",
    "        if arr[i]>largest:\n",
    "            largest = arr[i]\n",
    "            \n",
    "    second_largest = arr[0]            \n",
    "    for i in range(n):\n",
    "        if arr[i]>second_largest and arr[i]!=largest:\n",
    "            second_largest = arr[i]\n",
    "    print(second_largest)\n",
    "second_largest_elem(arr)"
   ]
  },
  {
   "cell_type": "markdown",
   "metadata": {},
   "source": [
    "### Optimal"
   ]
  },
  {
   "cell_type": "code",
   "execution_count": 10,
   "metadata": {},
   "outputs": [
    {
     "name": "stdout",
     "output_type": "stream",
     "text": [
      "18\n"
     ]
    }
   ],
   "source": [
    "def second_largest_elem(arr):\n",
    "    n = len(arr)\n",
    "    largest = arr[0]\n",
    "    second_largest = -1\n",
    "    for i in range(n):\n",
    "        if arr[i]>largest:\n",
    "            second_largest = largest\n",
    "            largest = arr[i]\n",
    "        if arr[i]>second_largest and arr[i]!=largest:\n",
    "            second_largest = arr[i]\n",
    "    print(second_largest)\n",
    "second_largest_elem(arr)"
   ]
  },
  {
   "cell_type": "markdown",
   "metadata": {},
   "source": [
    "## Check if the array is sorted\n"
   ]
  },
  {
   "cell_type": "markdown",
   "metadata": {},
   "source": [
    "### Brute"
   ]
  },
  {
   "cell_type": "code",
   "execution_count": 11,
   "metadata": {},
   "outputs": [
    {
     "name": "stdout",
     "output_type": "stream",
     "text": [
      "False\n"
     ]
    }
   ],
   "source": [
    "def is_sorted(arr,n):\n",
    "    arr_copy = sorted(arr)\n",
    "    for i in range(n):\n",
    "        if arr_copy[i]!=arr[i]:\n",
    "            return False\n",
    "    return True\n",
    "print(is_sorted(arr,len(arr)))"
   ]
  },
  {
   "cell_type": "markdown",
   "metadata": {},
   "source": [
    "### Optimal"
   ]
  },
  {
   "cell_type": "code",
   "execution_count": 12,
   "metadata": {},
   "outputs": [
    {
     "name": "stdout",
     "output_type": "stream",
     "text": [
      "False\n"
     ]
    }
   ],
   "source": [
    "def is_sorted(arr,n):\n",
    "    for i in range(0,n-1):\n",
    "        if arr[i]>arr[i+1]:\n",
    "            return False\n",
    "    return True\n",
    "print(is_sorted(arr,len(arr)))"
   ]
  },
  {
   "cell_type": "markdown",
   "metadata": {},
   "source": [
    "## Remove duplicates from Sorted array\n"
   ]
  },
  {
   "cell_type": "markdown",
   "metadata": {},
   "source": [
    "### Brute"
   ]
  },
  {
   "cell_type": "code",
   "execution_count": 13,
   "metadata": {},
   "outputs": [
    {
     "name": "stdout",
     "output_type": "stream",
     "text": [
      "[1, 2, 3]\n"
     ]
    }
   ],
   "source": [
    "def remove_duplicates(arr,n):\n",
    "    arr_copy = sorted(arr)\n",
    "    d = {}\n",
    "    for num in arr_copy:\n",
    "        try:\n",
    "            temp = d[num]\n",
    "        except Exception:\n",
    "            d[num] = 0\n",
    "    print(list(d.keys()))\n",
    "arr = [1,1,2,2,3,3,3]\n",
    "remove_duplicates(arr,len(arr))"
   ]
  },
  {
   "cell_type": "markdown",
   "metadata": {},
   "source": [
    "### Optimal"
   ]
  },
  {
   "cell_type": "code",
   "execution_count": 14,
   "metadata": {},
   "outputs": [
    {
     "name": "stdout",
     "output_type": "stream",
     "text": [
      "[1, 2, 3, 2, 3, 3, 3]\n"
     ]
    }
   ],
   "source": [
    "def remove_duplicates(arr,n):\n",
    "    i = 0\n",
    "    j = 1\n",
    "    while j<n:\n",
    "        if arr[i]!=arr[j]:\n",
    "            i+=1\n",
    "            arr[i] = arr[j]\n",
    "        j+=1\n",
    "    print(arr)\n",
    "arr = [1,1,2,2,3,3,3]\n",
    "remove_duplicates(arr,len(arr))"
   ]
  },
  {
   "cell_type": "markdown",
   "metadata": {},
   "source": [
    "## Left Rotate an array by one place\n"
   ]
  },
  {
   "cell_type": "code",
   "execution_count": 15,
   "metadata": {},
   "outputs": [
    {
     "name": "stdout",
     "output_type": "stream",
     "text": [
      "[1, 2, 3, 4, 5]\n",
      "[2, 3, 4, 5, 1]\n"
     ]
    }
   ],
   "source": [
    "def left_rotate_d_place(arr,n):\n",
    "    elem = arr[0]\n",
    "    print(arr)\n",
    "    for i in range(1,n):\n",
    "        arr[i-1] = arr[i]\n",
    "    arr[n-1] = elem\n",
    "    print(arr)\n",
    "arr = [1,2,3,4,5]\n",
    "left_rotate_d_place(arr,len(arr))"
   ]
  },
  {
   "cell_type": "markdown",
   "metadata": {},
   "source": [
    "## Left rotate an array by D places"
   ]
  },
  {
   "cell_type": "markdown",
   "metadata": {},
   "source": [
    "### Brute"
   ]
  },
  {
   "cell_type": "code",
   "execution_count": 16,
   "metadata": {},
   "outputs": [
    {
     "name": "stdout",
     "output_type": "stream",
     "text": [
      "[1, 2, 3, 4, 5, 6, 7]\n",
      "[4, 5, 6, 7, 1, 2, 3]\n"
     ]
    }
   ],
   "source": [
    "def left_rotate_d_place(arr,n,d):\n",
    "    elem = arr[0]\n",
    "    print(arr)\n",
    "    temp = []\n",
    "    # storing \n",
    "    for i in range(d):\n",
    "        temp.append(arr[i])\n",
    "        \n",
    "    # shifting\n",
    "    for i in range(d,n):\n",
    "        arr[i-d] = arr[i]\n",
    "        \n",
    "    # putting at back\n",
    "    for i in range(len(temp)):\n",
    "        arr[n-d+i] = temp[i]\n",
    "        \n",
    "    print(arr)\n",
    "arr = [1,2,3,4,5,6,7]\n",
    "left_rotate_d_place(arr,len(arr),3)"
   ]
  },
  {
   "cell_type": "markdown",
   "metadata": {},
   "source": [
    "### Optimal"
   ]
  },
  {
   "cell_type": "code",
   "execution_count": 17,
   "metadata": {},
   "outputs": [
    {
     "name": "stdout",
     "output_type": "stream",
     "text": [
      "[1, 2, 3, 4, 5, 6, 7]\n",
      "[4, 5, 6, 7, 1, 2, 3]\n"
     ]
    }
   ],
   "source": [
    "def left_rotate_d_place(arr,n,d):\n",
    "    d = d%n\n",
    "    print(arr)\n",
    "    reverse(arr,0,d)\n",
    "    reverse(arr,d,n)\n",
    "    reverse(arr,0,n)\n",
    "    print(arr)\n",
    "    \n",
    "def reverse(arr,start,end):\n",
    "    i = start\n",
    "    j = end - 1\n",
    "    while i<j:\n",
    "        temp = arr[i]\n",
    "        arr[i] = arr[j]\n",
    "        arr[j] = temp\n",
    "        i+=1\n",
    "        j-=1\n",
    "        \n",
    "arr = [1,2,3,4,5,6,7]\n",
    "left_rotate_d_place(arr,len(arr),3)"
   ]
  },
  {
   "cell_type": "markdown",
   "metadata": {},
   "source": [
    "### Move Zeros to end\n"
   ]
  },
  {
   "cell_type": "markdown",
   "metadata": {},
   "source": [
    "### Brute"
   ]
  },
  {
   "cell_type": "code",
   "execution_count": 18,
   "metadata": {},
   "outputs": [
    {
     "name": "stdout",
     "output_type": "stream",
     "text": [
      "[1, 2, 3, 4, 5, 0, 0, 0, 0]\n"
     ]
    }
   ],
   "source": [
    "def move_zeros_to_end(arr,n):\n",
    "    temp = []\n",
    "    for i in range(n):\n",
    "        if arr[i]!=0:\n",
    "            temp.append(arr[i])\n",
    "            \n",
    "    for i in range(len(temp)):\n",
    "        arr[i] = temp[i]\n",
    "        \n",
    "    for i in range(len(temp),n):\n",
    "        arr[i] = 0\n",
    "arr = [1,0,2,0,3,0,4,0,5]\n",
    "move_zeros_to_end(arr,len(arr))\n",
    "print(arr)"
   ]
  },
  {
   "cell_type": "markdown",
   "metadata": {},
   "source": [
    "### Optimal"
   ]
  },
  {
   "cell_type": "code",
   "execution_count": 19,
   "metadata": {},
   "outputs": [
    {
     "name": "stdout",
     "output_type": "stream",
     "text": [
      "[1, 2, 3, 4, 5, 0, 0, 0, 0]\n"
     ]
    }
   ],
   "source": [
    "def swap(arr,a,b):\n",
    "    temp = arr[a]\n",
    "    arr[a] = arr[b]\n",
    "    arr[b] = temp\n",
    "    \n",
    "def move_zeros_to_end(arr,n):\n",
    "    j = -1\n",
    "    for i in range(n):\n",
    "        if arr[i]==0:\n",
    "            j = i\n",
    "            break\n",
    "            \n",
    "    for i in range(j+1,n):\n",
    "        if arr[i]!=0:\n",
    "            swap(arr,i,j)\n",
    "            j+=1\n",
    "        \n",
    "arr = [1,0,2,0,3,0,4,0,5]\n",
    "move_zeros_to_end(arr,len(arr))\n",
    "print(arr)"
   ]
  },
  {
   "cell_type": "markdown",
   "metadata": {},
   "source": [
    "### Linear Search\n"
   ]
  },
  {
   "cell_type": "code",
   "execution_count": 20,
   "metadata": {},
   "outputs": [
    {
     "name": "stdout",
     "output_type": "stream",
     "text": [
      "5\n"
     ]
    }
   ],
   "source": [
    "arr = [4,6,2,5,7,9,1,3]\n",
    "n = len(arr)\n",
    "target = 9\n",
    "for idx,num in enumerate(arr):\n",
    "    if num==target:\n",
    "        print(idx)\n",
    "        break"
   ]
  },
  {
   "cell_type": "markdown",
   "metadata": {},
   "source": [
    "### Find the Union\n",
    "https://www.geeksforgeeks.org/problems/union-of-two-sorted-arrays-1587115621/1?utm_source=youtube&utm_medium=collab_striver_ytdescription&utm_campaign=union-of-two-sorted-arrays"
   ]
  },
  {
   "cell_type": "code",
   "execution_count": 21,
   "metadata": {},
   "outputs": [
    {
     "name": "stdout",
     "output_type": "stream",
     "text": [
      "[1, 2, 3, 4, 5, 6, 7]\n"
     ]
    }
   ],
   "source": [
    "def findUnion(arr1,arr2,n,m):\n",
    "    '''\n",
    "    :param a: given sorted array a\n",
    "    :param n: size of sorted array a\n",
    "    :param b: given sorted array b\n",
    "    :param m: size of sorted array b\n",
    "    :return:  The union of both arrays as a list\n",
    "    '''\n",
    "    # code here \n",
    "    union = []\n",
    "    i = 0\n",
    "    j = 0\n",
    "    while i<n and j<m:\n",
    "        if arr1[i]<=arr2[j]:\n",
    "            if not union or  union[-1]!=arr1[i]:\n",
    "                union.append(arr1[i])\n",
    "            i+=1\n",
    "        else:\n",
    "            if not union or union[-1]!=arr2[j]:\n",
    "                union.append(arr2[j])\n",
    "            j+=1\n",
    "    while i<n:\n",
    "        if not union or arr1[i]!=union[-1]:\n",
    "            union.append(arr1[i])\n",
    "        i+=1\n",
    "            \n",
    "    while j<m:\n",
    "        if not union or arr2[j]!=union[-1]:\n",
    "            union.append(arr2[j])\n",
    "        j+=1\n",
    "    return union\n",
    "\n",
    "n = 5\n",
    "arr1 = [1, 2, 3, 4, 5 ]\n",
    "m = 5\n",
    "arr2 = [1, 2, 3, 6, 7]\n",
    "print(findUnion(arr1,arr2,n,m))"
   ]
  },
  {
   "cell_type": "markdown",
   "metadata": {},
   "source": [
    "### Find the intersection"
   ]
  },
  {
   "cell_type": "code",
   "execution_count": 22,
   "metadata": {},
   "outputs": [
    {
     "name": "stdout",
     "output_type": "stream",
     "text": [
      "[1, 2, 3, 3]\n"
     ]
    }
   ],
   "source": [
    "def findintersection(arr1,arr2,n,m):\n",
    "    '''\n",
    "    :param a: given sorted array a\n",
    "    :param n: size of sorted array a\n",
    "    :param b: given sorted array b\n",
    "    :param m: size of sorted array b\n",
    "    :return:  The union of both arrays as a list\n",
    "    '''\n",
    "    # code here \n",
    "    intersection = []\n",
    "    i = 0\n",
    "    j = 0\n",
    "    while i<n and j<m:\n",
    "        if arr1[i]<arr2[j]:\n",
    "            i+=1\n",
    "        elif arr1[i]>arr2[j]:\n",
    "            j+=1\n",
    "        else:\n",
    "            intersection.append(arr1[i])\n",
    "            i+=1\n",
    "            j+=1\n",
    "    return intersection\n",
    "\n",
    "n = 5\n",
    "arr1 = [1, 2, 3,3, 4, 5 ]\n",
    "m = 5\n",
    "arr2 = [1, 2, 3,3, 6, 7]\n",
    "print(findintersection(arr1,arr2,n,m))"
   ]
  },
  {
   "cell_type": "markdown",
   "metadata": {},
   "source": [
    "### Find missing number in an array\n"
   ]
  },
  {
   "cell_type": "code",
   "execution_count": null,
   "metadata": {},
   "outputs": [],
   "source": []
  },
  {
   "cell_type": "markdown",
   "metadata": {},
   "source": [
    "### Maximum Consecutive Ones\n"
   ]
  },
  {
   "cell_type": "code",
   "execution_count": null,
   "metadata": {},
   "outputs": [],
   "source": []
  },
  {
   "cell_type": "markdown",
   "metadata": {},
   "source": [
    "### Find the number that appears once, and other numbers twice.\n"
   ]
  },
  {
   "cell_type": "code",
   "execution_count": null,
   "metadata": {},
   "outputs": [],
   "source": []
  },
  {
   "cell_type": "markdown",
   "metadata": {},
   "source": [
    "### Longest subarray with given sum K(positives)\n"
   ]
  },
  {
   "cell_type": "code",
   "execution_count": 33,
   "metadata": {},
   "outputs": [
    {
     "name": "stdout",
     "output_type": "stream",
     "text": [
      "4\n"
     ]
    }
   ],
   "source": [
    "def sub_array_with_positives(arr,n,k):\n",
    "    max_len = 0\n",
    "    prefix_sum = 0\n",
    "    i = 0\n",
    "    for j,num in enumerate(arr):\n",
    "        prefix_sum += num\n",
    "        if prefix_sum>k:\n",
    "            prefix_sum -= arr[i]\n",
    "            i+=1\n",
    "        elif prefix_sum==k:\n",
    "            max_len = max(max_len,j-i+1)\n",
    "    return max_len\n",
    "arr = [1,2,3,1,1,1,1,3,3]\n",
    "print(sub_array_with_positives(arr,len(arr),6))"
   ]
  },
  {
   "cell_type": "markdown",
   "metadata": {},
   "source": [
    "### Longest subarray with sum K (Positives + Negatives)"
   ]
  },
  {
   "cell_type": "code",
   "execution_count": 29,
   "metadata": {},
   "outputs": [
    {
     "name": "stdout",
     "output_type": "stream",
     "text": [
      "3\n"
     ]
    }
   ],
   "source": [
    "def sub_array_with_negatives(arr,n,k):\n",
    "    max_len = 0\n",
    "    hmap = {}\n",
    "    prefix_sum = 0\n",
    "    for ind,num in enumerate(arr):\n",
    "        prefix_sum += num\n",
    "        if prefix_sum==k:\n",
    "            max_len = max(max_len,ind+1)\n",
    "        if prefix_sum-k in hmap:\n",
    "            max_len = max(max_len,ind-hmap[prefix_sum-k])\n",
    "        hmap[prefix_sum] = ind\n",
    "    return max_len\n",
    "arr = [1,2,3,1,1,1,1,4,2,3]\n",
    "print(sub_array_with_negatives(arr,len(arr),3))"
   ]
  }
 ],
 "metadata": {
  "kernelspec": {
   "display_name": "Python 3",
   "language": "python",
   "name": "python3"
  },
  "language_info": {
   "codemirror_mode": {
    "name": "ipython",
    "version": 3
   },
   "file_extension": ".py",
   "mimetype": "text/x-python",
   "name": "python",
   "nbconvert_exporter": "python",
   "pygments_lexer": "ipython3",
   "version": "3.12.3"
  }
 },
 "nbformat": 4,
 "nbformat_minor": 2
}
