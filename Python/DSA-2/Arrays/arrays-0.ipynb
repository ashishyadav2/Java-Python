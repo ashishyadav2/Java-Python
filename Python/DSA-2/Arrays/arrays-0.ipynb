{
 "cells": [
  {
   "cell_type": "markdown",
   "id": "eef4c74f-529b-4f05-9f06-4b119557f68d",
   "metadata": {},
   "source": [
    "## Problems on arrays"
   ]
  },
  {
   "cell_type": "code",
   "execution_count": 44,
   "id": "9b4a8d9b-df5f-4885-bf5b-0dbff99ad384",
   "metadata": {},
   "outputs": [],
   "source": [
    "import numpy as np\n",
    "import sys"
   ]
  },
  {
   "cell_type": "code",
   "execution_count": 45,
   "id": "10994edd-6915-4fe9-9fed-86913101816a",
   "metadata": {},
   "outputs": [
    {
     "data": {
      "text/plain": [
       "array([38, 83, 74, 33, 50, 65, 50, 70, 18, 49])"
      ]
     },
     "execution_count": 45,
     "metadata": {},
     "output_type": "execute_result"
    }
   ],
   "source": [
    "arr = np.random.randint(100,size=(10))\n",
    "arr"
   ]
  },
  {
   "cell_type": "code",
   "execution_count": 46,
   "id": "bfa856bf-7077-475d-a58e-0d3b98b0b052",
   "metadata": {},
   "outputs": [],
   "source": [
    "def display_complexity(tc=\"\", sc=\"\"):\n",
    "    print(f\"TC: O({tc})\")\n",
    "    print(f\"SC: O({sc})\\n\")"
   ]
  },
  {
   "cell_type": "markdown",
   "id": "c6f861ad-36e2-4c68-93dc-980153a3bfbb",
   "metadata": {},
   "source": [
    "## Find the smallest element in an array"
   ]
  },
  {
   "cell_type": "code",
   "execution_count": 47,
   "id": "a2458aea-b4fc-4062-9dc3-75b48a5ecf0a",
   "metadata": {},
   "outputs": [
    {
     "name": "stdout",
     "output_type": "stream",
     "text": [
      "Smallest: 18\n",
      "TC: O(nlogn)\n",
      "SC: O(1)\n",
      "\n",
      "Smallest: 18\n",
      "TC: O(n)\n",
      "SC: O(1)\n",
      "\n"
     ]
    }
   ],
   "source": [
    "# Method 1: sort array in ascending order number at 0th position is smallest element\n",
    "smallest = list(sorted(arr))[0]\n",
    "print(f\"Smallest: {smallest}\")\n",
    "display_complexity(\"nlogn\",\"1\")\n",
    "\n",
    "# Method 2: using a min variable updating it when new mininum is encountered\n",
    "mini = sys.maxsize\n",
    "for num in arr:\n",
    "    if num<mini:\n",
    "        mini = num\n",
    "print(f\"Smallest: {mini}\")\n",
    "display_complexity(\"n\",\"1\")"
   ]
  },
  {
   "cell_type": "markdown",
   "id": "e6a8ca59-7bc8-4c04-a11d-5c9a4541983f",
   "metadata": {},
   "source": [
    "## Find the largest number in an array"
   ]
  },
  {
   "cell_type": "code",
   "execution_count": 48,
   "id": "64a5de2c-aca8-4571-ae0b-891110b2e08c",
   "metadata": {},
   "outputs": [
    {
     "name": "stdout",
     "output_type": "stream",
     "text": [
      "largest: 83\n",
      "TC: O(nlogn)\n",
      "SC: O(1)\n",
      "\n",
      "largest: 83\n",
      "TC: O(n)\n",
      "SC: O(1)\n",
      "\n"
     ]
    }
   ],
   "source": [
    "# Method 1: sort array in ascending order number at (array length-1)th position is largest element\n",
    "largest = list(sorted(arr))[-1]\n",
    "print(f\"largest: {largest}\")\n",
    "display_complexity(\"nlogn\",\"1\")\n",
    "\n",
    "# Method 2: using a max variable updating it when new mininum is encountered\n",
    "maxi = -sys.maxsize\n",
    "for num in arr:\n",
    "    if num>maxi:\n",
    "        maxi = num\n",
    "print(f\"largest: {maxi}\")\n",
    "display_complexity(\"n\",\"1\")"
   ]
  },
  {
   "cell_type": "markdown",
   "id": "d9a56d75-2a99-4753-8a49-b79e41e63cb8",
   "metadata": {},
   "source": [
    "## Second Smallest and Second Largest element in an array"
   ]
  },
  {
   "cell_type": "code",
   "execution_count": 49,
   "id": "22132ca2-0d59-421f-b1d4-7527be8412ba",
   "metadata": {},
   "outputs": [
    {
     "name": "stdout",
     "output_type": "stream",
     "text": [
      "Second smallest: 33\n",
      "Second largest: 74\n",
      "TC: O(nlogn)\n",
      "SC: O(1)\n",
      "\n",
      "Second smallest: 33\n",
      "Second largest: 74\n",
      "TC: O(n)\n",
      "SC: O(1)\n",
      "\n",
      "Second smallest: 33\n",
      "Second largest: 74\n",
      "TC: O(n)\n",
      "SC: O(1)\n",
      "\n"
     ]
    }
   ],
   "source": [
    "# Method 1: Sorting\n",
    "# Sort the array in ascending order\n",
    "# The element present at the second index is the second smallest element\n",
    "# The element present at the second index from the end is the second largest element\n",
    "# Does not work if the array contains duplicates\n",
    "second_smallest = list(sorted(arr))[1] if len(arr)>1 else list(sorted(arr))[0]\n",
    "print(f\"Second smallest: {second_smallest}\")\n",
    "second_largest = list(sorted(arr))[-2] if len(arr)>1 else list(sorted(arr))[0]\n",
    "print(f\"Second largest: {second_largest}\")\n",
    "display_complexity(\"nlogn\",\"1\")\n",
    "\n",
    "# Method 2: Using Two traversals\n",
    "# Find the smallest and largest element in the array in a single traversal\n",
    "# After this, we once again traverse the array and find an element that is just greater than the smallest element we just found.\n",
    "# Similarly, we would find the largest element which is just smaller than the largest element we just found\n",
    "# Indeed, this is our second smallest and second largest element.\n",
    "\n",
    "maxi = -sys.maxsize\n",
    "mini = sys.maxsize\n",
    "for num in arr:\n",
    "    maxi = max(maxi,num)\n",
    "    mini = min(mini,num)\n",
    "\n",
    "maximum = maxi\n",
    "minimum = mini\n",
    "maxi = -sys.maxsize\n",
    "mini = sys.maxsize\n",
    "for num in arr:\n",
    "    if maxi<num and num!=maximum:\n",
    "        maxi = num\n",
    "    if mini>num and num!=minimum:\n",
    "        mini = num\n",
    "    \n",
    "print(f\"Second smallest: {mini}\")\n",
    "print(f\"Second largest: {maxi}\")\n",
    "display_complexity(\"n\",\"1\")\n",
    "\n",
    "# Method 3: Using single traversal and smart comparison\n",
    "# Approach:\n",
    "# We would require four variables: small,second_small, large, and second_large. Variable small and second_small are initialized to INT_MAX while large and second_large are initialized to INT_MIN.\n",
    "\n",
    "# Second Smallest Algo:\n",
    "\n",
    "# If the current element is smaller than ‘small’, then we update second_small and small variables\n",
    "# Else if the current element is smaller than ‘second_small’ then we update the variable ‘second_small’\n",
    "# Once we traverse the entire array, we would find the second smallest element in the variable second_small.\n",
    "# Here’s a quick demonstration of the same.\n",
    "# Second Largest Algo:\n",
    "\n",
    "# If the current element is larger than ‘large’ then update second_large and large variables\n",
    "# Else if the current element is larger than ‘second_large’ then we update the variable second_large.\n",
    "# Once we traverse the entire array, we would find the second largest element in the variable second_large.\n",
    "# Here’s a quick demonstration of the same.\n",
    "\n",
    "maxi = -sys.maxsize\n",
    "mini = sys.maxsize\n",
    "second_maxi = -sys.maxsize\n",
    "second_mini = sys.maxsize\n",
    "for num in arr:\n",
    "    if num>maxi:\n",
    "        second_maxi = maxi\n",
    "        maxi = num\n",
    "    elif num>second_maxi and num!=maxi:\n",
    "        second_maxi = num\n",
    "    if num<mini:\n",
    "        second_mini = mini\n",
    "        mini = num\n",
    "    elif num<second_mini and num!=mini:\n",
    "        second_mini = num\n",
    "print(f\"Second smallest: {second_mini}\")\n",
    "print(f\"Second largest: {second_maxi}\")\n",
    "display_complexity(\"n\",\"1\")"
   ]
  },
  {
   "cell_type": "markdown",
   "id": "74f28634-418e-4b65-b18c-c8f4bd4f288d",
   "metadata": {},
   "source": [
    "## Reverse a given array"
   ]
  },
  {
   "cell_type": "code",
   "execution_count": 50,
   "id": "48ed0439-12cc-4d7e-9cf1-8d92abaf7af2",
   "metadata": {},
   "outputs": [
    {
     "name": "stdout",
     "output_type": "stream",
     "text": [
      "[49 18 70 50 65 50 33 74 83 38]\n",
      "TC: O(n)\n",
      "SC: O(1)\n",
      "\n",
      "[38, 83, 74, 33, 50, 65, 50, 70, 18, 49]\n",
      "TC: O(n)\n",
      "SC: O(1)\n",
      "\n"
     ]
    }
   ],
   "source": [
    "# Method 1: Two pointers approach\n",
    "start = 0\n",
    "end = len(arr)-1\n",
    "while start<end:\n",
    "    arr[start],arr[end]=arr[end],arr[start]\n",
    "    start+=1\n",
    "    end -=1\n",
    "print(arr)\n",
    "display_complexity(\"n\",\"1\")\n",
    "\n",
    "# Method 2: Built in function\n",
    "print(list(reversed(arr)))\n",
    "display_complexity(\"n\",\"1\")"
   ]
  },
  {
   "cell_type": "markdown",
   "id": "fc90deda-9190-48b3-a99e-8e5d76f8bf66",
   "metadata": {},
   "source": [
    "## Count frequency of each element in an array"
   ]
  },
  {
   "cell_type": "code",
   "execution_count": 51,
   "id": "72e849d2-afd2-47ac-a0e4-812ad0c6d29a",
   "metadata": {},
   "outputs": [
    {
     "name": "stdout",
     "output_type": "stream",
     "text": [
      "{49: 1, 18: 1, 70: 1, 50: 2, 65: 1, 33: 1, 74: 1, 83: 1, 38: 1}\n",
      "TC: O(n)\n",
      "SC: O(n)\n",
      "\n"
     ]
    }
   ],
   "source": [
    "# Method 1: Using hashmap\n",
    "hmap = {}\n",
    "for num in arr:\n",
    "    hmap[num] = hmap.get(num,0)+1\n",
    "\n",
    "print(hmap)\n",
    "display_complexity(\"n\",\"n\")"
   ]
  },
  {
   "cell_type": "markdown",
   "id": "dcb7f0b6-04b6-4f16-a675-37fe78c9f073",
   "metadata": {},
   "source": [
    "## Rearrange array in increasing-decreasing order"
   ]
  },
  {
   "cell_type": "code",
   "execution_count": 52,
   "id": "6aee7bac-4df2-490c-88ac-bf9d2232b305",
   "metadata": {},
   "outputs": [
    {
     "name": "stdout",
     "output_type": "stream",
     "text": [
      "[18, 33, 38, 49, 50][83, 74, 70, 65, 50]\n",
      "TC: O(nlogn)+O(n) * O(nlogn)\n",
      "SC: O(1)\n"
     ]
    }
   ],
   "source": [
    "# Method 1\n",
    "# Sort the whole array. Then print the first half of the array to get the first half in \n",
    "# the ascending order and then print the rest of the array in the reverse order.\n",
    "\n",
    "sorted_arr = sorted(arr)\n",
    "mid = len(sorted_arr)//2\n",
    "print(sorted_arr[:mid],end=\"\")\n",
    "print(sorted_arr[mid:][::-1])\n",
    "print(\"TC: O(nlogn)+O(n) * O(nlogn)\")\n",
    "print(\"SC: O(1)\")"
   ]
  },
  {
   "cell_type": "markdown",
   "id": "1a843e60-49df-4c59-a3c7-ffd6e5c779cb",
   "metadata": {},
   "source": [
    "## Calculate sum of the elements of the array"
   ]
  },
  {
   "cell_type": "code",
   "execution_count": 53,
   "id": "c4e5d971-8c94-4283-a7ad-ea4674effce9",
   "metadata": {},
   "outputs": [
    {
     "name": "stdout",
     "output_type": "stream",
     "text": [
      "530\n",
      "TC: O(n)\n",
      "SC: O(1)\n",
      "\n"
     ]
    }
   ],
   "source": [
    "summation = 0\n",
    "for num in arr:\n",
    "    summation+=num\n",
    "print(summation)\n",
    "display_complexity(\"n\",\"1\")"
   ]
  },
  {
   "cell_type": "markdown",
   "id": "aaff005a-74db-4aa8-a875-b4dc5463f1d0",
   "metadata": {},
   "source": [
    "## Rotate array by K elements – Block Swap Algorithm"
   ]
  },
  {
   "cell_type": "code",
   "execution_count": 54,
   "id": "e6658af8-0d36-40e2-aebb-39c8490a431d",
   "metadata": {},
   "outputs": [
    {
     "name": "stdout",
     "output_type": "stream",
     "text": [
      "[49 18 70 50 65 50 33 74 83 38]\n",
      "[3, 4, 5, 6, 7, 1, 2]\n"
     ]
    }
   ],
   "source": [
    "k = 2\n",
    "print(arr)\n",
    "array = arr.copy()\n",
    "array = [1,2,3,4,5,6,7]\n",
    "n = len(array)\n",
    "def swap(src_ind,dest_ind,size):\n",
    "    for i in range(size):\n",
    "        array[src_ind+i],array[dest_ind+i]=array[dest_ind+i],array[src_ind+i]\n",
    "\n",
    "def block_swap(array,i,k,n):\n",
    "    if k==0 or k==n:\n",
    "        return\n",
    "    if k==n-k:\n",
    "        swap(i,k+i,k)\n",
    "        return\n",
    "    elif k<n-k:\n",
    "        swap(i,n-k+i,k)\n",
    "        block_swap(array,i,k,n-k)\n",
    "    else:\n",
    "        swap(i,k,n-k)\n",
    "        block_swap(array,n-k+i,2*k-n,k)\n",
    "\n",
    "block_swap(array,0,k,n)\n",
    "print(array)"
   ]
  },
  {
   "cell_type": "code",
   "execution_count": 55,
   "id": "3b360196-3491-4800-b9ae-3635eac0249d",
   "metadata": {},
   "outputs": [
    {
     "name": "stdout",
     "output_type": "stream",
     "text": [
      "[1, 2, 3, 4, 5, 6, 7]\n",
      "[7, 6, 5, 4, 3, 1, 2]\n"
     ]
    }
   ],
   "source": [
    "# Method 2: Reversal Algorithm\n",
    "array = [1,2,3,4,5,6,7]\n",
    "def reverse(array,start,end):\n",
    "    while start<end:\n",
    "        array[start],array[end]=array[end],array[start]\n",
    "        start+=1\n",
    "        end-=1\n",
    "k = 2\n",
    "k -= 1\n",
    "print(array)\n",
    "n = len(array)-1\n",
    "reverse(array,0,k)\n",
    "reverse(array,n-k+1,n)\n",
    "# reverse(array,0,n-k-1)\n",
    "# reverse(array,n-k,n)\n",
    "reverse(array,0,n)\n",
    "print(array)"
   ]
  },
  {
   "cell_type": "markdown",
   "id": "38b71087-9cab-408c-b4a3-1aa5c433a124",
   "metadata": {},
   "source": [
    "## Average of all elements in an array"
   ]
  },
  {
   "cell_type": "code",
   "execution_count": 56,
   "id": "5f6ff668-36d6-4098-87b8-2a313eb1336c",
   "metadata": {},
   "outputs": [
    {
     "name": "stdout",
     "output_type": "stream",
     "text": [
      "53.0\n"
     ]
    }
   ],
   "source": [
    "avg = 0\n",
    "summation = 0\n",
    "for num in arr:\n",
    "    summation+=num\n",
    "avg = summation/len(arr)\n",
    "print(avg)"
   ]
  },
  {
   "cell_type": "markdown",
   "id": "e004c7a4-dc6a-4352-bdbe-9dbd1cf020d9",
   "metadata": {},
   "source": [
    "## Find the median of the given array"
   ]
  },
  {
   "cell_type": "code",
   "execution_count": 57,
   "id": "84b8c453-8ef7-48b9-8702-87af065c29d7",
   "metadata": {},
   "outputs": [
    {
     "name": "stdout",
     "output_type": "stream",
     "text": [
      "50.0\n",
      "TC: O(nlogn)\n",
      "SC: O(1)\n",
      "\n"
     ]
    }
   ],
   "source": [
    "median = 0\n",
    "is_odd = True if len(arr)%2==1 else False\n",
    "mid = len(arr)//2\n",
    "sorted_arr = sorted(arr)\n",
    "if is_odd:\n",
    "    median = sorted_arr[mid]\n",
    "else:\n",
    "    median = (sorted_arr[mid]+sorted_arr[mid-1])/2\n",
    "print(median)\n",
    "display_complexity(\"nlogn\",\"1\")              "
   ]
  },
  {
   "cell_type": "markdown",
   "id": "9d3d8bf0-23fc-419c-b8c4-171c90945feb",
   "metadata": {},
   "source": [
    "## Remove Duplicates in-place from Sorted Array"
   ]
  },
  {
   "cell_type": "code",
   "execution_count": 88,
   "id": "88e77a09-6eb4-4aaa-b524-863012107a04",
   "metadata": {},
   "outputs": [
    {
     "name": "stdout",
     "output_type": "stream",
     "text": [
      "6\n",
      "[12, 656, 3, 56, 65, 5, 0, 0, 0, 0]\n",
      "{65, 3, 5, 12, 656, 56}\n",
      "---------------------------\n",
      "8\n",
      "[1, 2, 3, 4, 5, 6, 7, 8, 7, 8]\n"
     ]
    }
   ],
   "source": [
    "# Method 1: using hashing\n",
    "s = set()\n",
    "array = arr.copy()\n",
    "array = [12,12,656,3,56,56,65,656,65,5]\n",
    "i = 0\n",
    "for ind,num in enumerate(array):\n",
    "    if not num in s:\n",
    "        s.add(num)\n",
    "        array[i] = num\n",
    "        i+=1\n",
    "    else:\n",
    "        array[i] = 0\n",
    "print(i)\n",
    "n = len(array)\n",
    "for idx in range(i,n):\n",
    "    array[idx] = 0\n",
    "print(array)\n",
    "print(s)\n",
    "print(\"---------------------------\")\n",
    "# Method 2:  Two pointers\n",
    "array = [1,1,2,3,3,4,5,6,7,8]\n",
    "i = 0\n",
    "for j in range(1,n):\n",
    "    if array[i]!=array[j]:\n",
    "        i+=1\n",
    "        array[i] = array[j]\n",
    "print(i+1)\n",
    "print(array)\n",
    "    "
   ]
  }
 ],
 "metadata": {
  "kernelspec": {
   "display_name": "Python 3 (ipykernel)",
   "language": "python",
   "name": "python3"
  },
  "language_info": {
   "codemirror_mode": {
    "name": "ipython",
    "version": 3
   },
   "file_extension": ".py",
   "mimetype": "text/x-python",
   "name": "python",
   "nbconvert_exporter": "python",
   "pygments_lexer": "ipython3",
   "version": "3.11.4"
  }
 },
 "nbformat": 4,
 "nbformat_minor": 5
}
