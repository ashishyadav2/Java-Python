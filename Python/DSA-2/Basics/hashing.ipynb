{
 "cells": [
  {
   "cell_type": "markdown",
   "metadata": {},
   "source": [
    "## Number hashing"
   ]
  },
  {
   "cell_type": "code",
   "execution_count": 1,
   "metadata": {},
   "outputs": [
    {
     "name": "stdout",
     "output_type": "stream",
     "text": [
      "[0, 0, 0, 0, 0, 0, 0, 0, 0, 0]\n",
      "[0, 1, 2, 3, 4, 5, 6, 7, 8, 9]\n",
      "[0, 2, 2, 1, 0, 0, 0, 0, 0, 0]\n"
     ]
    }
   ],
   "source": [
    "arr = [1,2,1,3,2]\n",
    "hash_arr = [0] * 10\n",
    "print(hash_arr)\n",
    "for num in arr:\n",
    "    hash_arr[num]+=1\n",
    "print([i for i in range(10)])\n",
    "print(hash_arr)"
   ]
  },
  {
   "cell_type": "markdown",
   "metadata": {},
   "source": [
    "## Character hashing"
   ]
  },
  {
   "cell_type": "code",
   "execution_count": 2,
   "metadata": {},
   "outputs": [
    {
     "name": "stdout",
     "output_type": "stream",
     "text": [
      "('A', 4)\n",
      "('B', 4)\n",
      "('C', 2)\n",
      "('D', 1)\n",
      "('E', 1)\n",
      "('F', 1)\n",
      "('G', 0)\n",
      "('H', 0)\n",
      "('I', 0)\n",
      "('J', 0)\n",
      "('K', 0)\n",
      "('L', 0)\n",
      "('M', 0)\n",
      "('N', 0)\n",
      "('O', 0)\n",
      "('P', 0)\n",
      "('Q', 0)\n",
      "('R', 0)\n",
      "('S', 0)\n",
      "('T', 0)\n",
      "('U', 0)\n",
      "('V', 0)\n",
      "('W', 0)\n",
      "('X', 3)\n",
      "('Y', 2)\n",
      "('Z', 3)\n"
     ]
    }
   ],
   "source": [
    "string = \"abcdabefcABABZzXYyZxX\"\n",
    "char_arr = [0]*26\n",
    "for char in string:\n",
    "    ascii = ord(char)\n",
    "    if 65 <= ascii and ascii <= 90:\n",
    "        char_arr[ascii-65] += 1\n",
    "    elif 97 <= ascii and ascii <= 122:\n",
    "        char_arr[ascii-97] += 1\n",
    "for i in zip([chr(i+65) for i in range(26)],char_arr):\n",
    "    print(i)\n"
   ]
  },
  {
   "cell_type": "markdown",
   "metadata": {},
   "source": [
    "## Hashmap (Python: dictionary)"
   ]
  },
  {
   "cell_type": "code",
   "execution_count": 3,
   "metadata": {},
   "outputs": [
    {
     "name": "stdout",
     "output_type": "stream",
     "text": [
      "{5: 2, 1: 2, 4: 1, 2: 2, 3: 5}\n"
     ]
    }
   ],
   "source": [
    "hmap = {}\n",
    "arr = [5,5,1,4,2,3,1,3,2,3,3,3]\n",
    "for num in arr:\n",
    "    if num in hmap:\n",
    "        hmap[num]+=1\n",
    "    else:\n",
    "        hmap[num] = 1\n",
    "print(hmap)"
   ]
  },
  {
   "cell_type": "code",
   "execution_count": 4,
   "metadata": {},
   "outputs": [
    {
     "name": "stdout",
     "output_type": "stream",
     "text": [
      "{5: 2, 1: 2, 4: 4, 2: 2, 3: 2}\n"
     ]
    }
   ],
   "source": [
    "hmap = {}\n",
    "arr = [5,5,1,4,2,3,1,3,2,4,4,4]\n",
    "for num in arr:\n",
    "    try:\n",
    "        hmap[num]+=1\n",
    "    except KeyError:\n",
    "        hmap[num] = 1\n",
    "print(hmap)"
   ]
  },
  {
   "cell_type": "markdown",
   "metadata": {},
   "source": [
    "## Highest and lowest frequency"
   ]
  },
  {
   "cell_type": "code",
   "execution_count": 21,
   "metadata": {},
   "outputs": [
    {
     "name": "stdout",
     "output_type": "stream",
     "text": [
      "{5: 3, 1: 3, 4: 6, 2: 3, 3: 3, 32: 2, 69: 2}\n",
      "4: 6\n",
      "69: 2\n"
     ]
    }
   ],
   "source": [
    "arr = [5,5,5,1,1,4,2,2,3,3,1,3,2,4,4,4,4,4,32,32,69,69]\n",
    "hmap = {}\n",
    "max_freq = 1\n",
    "min_freq = 1e9\n",
    "for num in arr:\n",
    "    if num not in hmap:\n",
    "        hmap[num] = 1\n",
    "    else:\n",
    "        hmap[num]+=1\n",
    "        if hmap[num]>max_freq:\n",
    "            max_freq = hmap.get(num)\n",
    "            max_elem = num\n",
    "        if hmap[num]<= min_freq:\n",
    "            min_freq = hmap.get(num)\n",
    "            min_elem = num\n",
    "print(hmap)\n",
    "print(f\"{max_elem}: {max_freq}\")\n",
    "print(f\"{min_elem}: {min_freq}\")"
   ]
  }
 ],
 "metadata": {
  "kernelspec": {
   "display_name": "Python 3",
   "language": "python",
   "name": "python3"
  },
  "language_info": {
   "codemirror_mode": {
    "name": "ipython",
    "version": 3
   },
   "file_extension": ".py",
   "mimetype": "text/x-python",
   "name": "python",
   "nbconvert_exporter": "python",
   "pygments_lexer": "ipython3",
   "version": "3.12.3"
  }
 },
 "nbformat": 4,
 "nbformat_minor": 2
}
