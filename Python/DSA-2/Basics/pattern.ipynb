{
 "cells": [
  {
   "cell_type": "code",
   "execution_count": 1,
   "metadata": {
    "metadata": {}
   },
   "outputs": [],
   "source": [
    "n = 5"
   ]
  },
  {
   "cell_type": "markdown",
   "metadata": {},
   "source": [
    "**1:**\n",
    "![image](https://static.takeuforward.org/wp/uploads/2022/08/P1.png)"
   ]
  },
  {
   "cell_type": "code",
   "execution_count": 4,
   "metadata": {
    "metadata": {}
   },
   "outputs": [
    {
     "name": "stdout",
     "output_type": "stream",
     "text": [
      "*****\n",
      "*****\n",
      "*****\n",
      "*****\n",
      "*****\n"
     ]
    }
   ],
   "source": [
    "for i in range(n):\n",
    "    for j in range(n):\n",
    "        print('*',end=\"\")\n",
    "    print()"
   ]
  },
  {
   "cell_type": "markdown",
   "metadata": {},
   "source": [
    "**2:**\n",
    "![image](https://static.takeuforward.org/wp/uploads/2022/08/P2.png)"
   ]
  },
  {
   "cell_type": "code",
   "execution_count": 6,
   "metadata": {
    "metadata": {}
   },
   "outputs": [
    {
     "name": "stdout",
     "output_type": "stream",
     "text": [
      "*\n",
      "**\n",
      "***\n",
      "****\n",
      "*****\n"
     ]
    }
   ],
   "source": [
    "for i in range(n):\n",
    "    for j in range(i+1):\n",
    "        print('*',end=\"\")\n",
    "    print()"
   ]
  },
  {
   "cell_type": "markdown",
   "metadata": {},
   "source": [
    "**3:**\n",
    "![image](https://static.takeuforward.org/wp/uploads/2022/08/P3.png)"
   ]
  },
  {
   "cell_type": "code",
   "execution_count": 7,
   "metadata": {
    "metadata": {}
   },
   "outputs": [
    {
     "name": "stdout",
     "output_type": "stream",
     "text": [
      "1\n",
      "12\n",
      "123\n",
      "1234\n",
      "12345\n"
     ]
    }
   ],
   "source": [
    "for i in range(n):\n",
    "    for j in range(i+1):\n",
    "        print(j+1,end=\"\")\n",
    "    print()"
   ]
  },
  {
   "cell_type": "markdown",
   "metadata": {},
   "source": [
    "**4:**\n",
    "![image](https://static.takeuforward.org/wp/uploads/2022/08/P4.png)"
   ]
  },
  {
   "cell_type": "code",
   "execution_count": 9,
   "metadata": {
    "metadata": {}
   },
   "outputs": [
    {
     "name": "stdout",
     "output_type": "stream",
     "text": [
      "1\n",
      "22\n",
      "333\n",
      "4444\n",
      "55555\n"
     ]
    }
   ],
   "source": [
    "for i in range(n):\n",
    "    for j in range(i+1):\n",
    "        print(i+1,end=\"\")\n",
    "    print()"
   ]
  },
  {
   "cell_type": "markdown",
   "metadata": {},
   "source": [
    "**5:**\n",
    "![image](https://static.takeuforward.org/wp/uploads/2022/08/P5.png)"
   ]
  },
  {
   "cell_type": "code",
   "execution_count": 11,
   "metadata": {
    "metadata": {}
   },
   "outputs": [
    {
     "name": "stdout",
     "output_type": "stream",
     "text": [
      "*****\n",
      "****\n",
      "***\n",
      "**\n",
      "*\n"
     ]
    }
   ],
   "source": [
    "for i in range(n):\n",
    "    for j in range(n-i):\n",
    "        print('*',end=\"\")\n",
    "    print()"
   ]
  },
  {
   "cell_type": "markdown",
   "metadata": {},
   "source": [
    "**6:**\n",
    "![image](https://static.takeuforward.org/wp/uploads/2022/08/P6.png)"
   ]
  },
  {
   "cell_type": "code",
   "execution_count": 12,
   "metadata": {
    "metadata": {}
   },
   "outputs": [
    {
     "name": "stdout",
     "output_type": "stream",
     "text": [
      "12345\n",
      "1234\n",
      "123\n",
      "12\n",
      "1\n"
     ]
    }
   ],
   "source": [
    "for i in range(n):\n",
    "    for j in range(n-i):\n",
    "        print(j+1,end=\"\")\n",
    "    print()"
   ]
  },
  {
   "cell_type": "markdown",
   "metadata": {},
   "source": [
    "**8:**\n",
    "![image](https://static.takeuforward.org/wp/uploads/2022/08/P8.png)"
   ]
  },
  {
   "cell_type": "code",
   "execution_count": 16,
   "metadata": {
    "metadata": {}
   },
   "outputs": [
    {
     "name": "stdout",
     "output_type": "stream",
     "text": [
      " *********\n",
      "  *******\n",
      "   *****\n",
      "    ***\n",
      "     *\n"
     ]
    }
   ],
   "source": [
    "for i in range(n):\n",
    "    for j in range(i+1):\n",
    "        print(\" \",end=\"\")\n",
    "    for k in range((n-i)*2-1):\n",
    "        print('*',end=\"\")\n",
    "    print()"
   ]
  },
  {
   "cell_type": "markdown",
   "metadata": {},
   "source": [
    "**9:**\n",
    "![image](https://static.takeuforward.org/wp/uploads/2022/08/P9.png)"
   ]
  },
  {
   "cell_type": "code",
   "execution_count": 53,
   "metadata": {
    "metadata": {}
   },
   "outputs": [
    {
     "name": "stdout",
     "output_type": "stream",
     "text": [
      "     \n",
      "    *\n",
      "   ***\n",
      "  *****\n",
      " *******\n",
      "*********\n",
      " *******\n",
      "  *****\n",
      "   ***\n",
      "    *\n"
     ]
    }
   ],
   "source": [
    "for i in range(n*2):\n",
    "    if i<n:\n",
    "        for j in range(n-i):\n",
    "            print(\" \",end=\"\")\n",
    "        for k in range((i*2)-1):\n",
    "            print('*',end=\"\")\n",
    "        print()\n",
    "    else:\n",
    "        for p in range(i-n):\n",
    "            print(\" \",end=\"\")\n",
    "        for q in range((n-i%n)*2-1):\n",
    "            print('*',end=\"\")\n",
    "        print()"
   ]
  },
  {
   "cell_type": "markdown",
   "metadata": {},
   "source": [
    "**10:**\n",
    "![image](https://static.takeuforward.org/wp/uploads/2022/08/P10.png)"
   ]
  },
  {
   "cell_type": "code",
   "execution_count": 56,
   "metadata": {
    "metadata": {}
   },
   "outputs": [
    {
     "name": "stdout",
     "output_type": "stream",
     "text": [
      "*\n",
      "**\n",
      "***\n",
      "****\n",
      "*****\n",
      "****\n",
      "***\n",
      "**\n",
      "*\n"
     ]
    }
   ],
   "source": [
    "for i in range(n*2-1):\n",
    "    if i<n:\n",
    "        for j in range(i+1):\n",
    "            print('*',end=\"\")\n",
    "    else:\n",
    "        for k in range(n-i%n-1):\n",
    "            print('*',end=\"\")\n",
    "    print()"
   ]
  },
  {
   "cell_type": "markdown",
   "metadata": {},
   "source": [
    "**11:**\n",
    "![image](https://static.takeuforward.org/wp/uploads/2022/08/P11.png)"
   ]
  },
  {
   "cell_type": "code",
   "execution_count": 71,
   "metadata": {
    "metadata": {}
   },
   "outputs": [
    {
     "name": "stdout",
     "output_type": "stream",
     "text": [
      "1 \n",
      "0 1 \n",
      "1 0 1 \n",
      "0 1 0 1 \n",
      "1 0 1 0 1 \n"
     ]
    }
   ],
   "source": [
    "for i in range(n):\n",
    "    is_zero = False\n",
    "    for j in range(i+1):\n",
    "        if (i+j)%2==0:\n",
    "            print('1',end=' ')\n",
    "        else:\n",
    "            print('0',end=' ')\n",
    "    print()\n",
    "        "
   ]
  },
  {
   "cell_type": "markdown",
   "metadata": {},
   "source": [
    "**12:**\n",
    "![image](https://static.takeuforward.org/wp/uploads/2022/08/P12.png)"
   ]
  },
  {
   "cell_type": "code",
   "execution_count": 96,
   "metadata": {
    "metadata": {}
   },
   "outputs": [
    {
     "name": "stdout",
     "output_type": "stream",
     "text": [
      "1        1\n",
      "12      21\n",
      "123    321\n",
      "1234  4321\n",
      "1234554321\n"
     ]
    }
   ],
   "source": [
    "for i in range(n):\n",
    "    for j in range(i+1):\n",
    "        print(j+1,end=\"\")\n",
    "    for k in range((n-i)*2-2):\n",
    "        print(\" \",end=\"\")\n",
    "    for p in range(i,-1,-1):\n",
    "        print(p+1,end=\"\")\n",
    "    print()"
   ]
  },
  {
   "cell_type": "markdown",
   "metadata": {},
   "source": [
    "**14:**\n",
    "![image](https://static.takeuforward.org/wp/uploads/2022/08/P13.png)"
   ]
  },
  {
   "cell_type": "code",
   "execution_count": 98,
   "metadata": {
    "metadata": {}
   },
   "outputs": [
    {
     "name": "stdout",
     "output_type": "stream",
     "text": [
      "1 \n",
      "2 3 \n",
      "4 5 6 \n",
      "7 8 9 10 \n",
      "11 12 13 14 15 \n"
     ]
    }
   ],
   "source": [
    "summ = 1\n",
    "for i in range(n):\n",
    "    for j in range(i+1):\n",
    "        print(summ,end=\" \")\n",
    "        summ += 1\n",
    "    print()"
   ]
  },
  {
   "cell_type": "markdown",
   "metadata": {},
   "source": [
    "**15:**\n",
    "![image](https://static.takeuforward.org/wp/uploads/2022/08/P14.png)"
   ]
  },
  {
   "cell_type": "code",
   "execution_count": 99,
   "metadata": {
    "metadata": {}
   },
   "outputs": [
    {
     "name": "stdout",
     "output_type": "stream",
     "text": [
      "A\n",
      "AB\n",
      "ABC\n",
      "ABCD\n",
      "ABCDE\n"
     ]
    }
   ],
   "source": [
    "for i in range(n):\n",
    "    for j in range(i+1):\n",
    "        print(chr(65+j),end=\"\")\n",
    "    print()"
   ]
  },
  {
   "cell_type": "markdown",
   "metadata": {},
   "source": [
    "**16:**\n",
    "![image](https://static.takeuforward.org/wp/uploads/2022/08/P16.png)"
   ]
  },
  {
   "cell_type": "code",
   "execution_count": 100,
   "metadata": {
    "metadata": {}
   },
   "outputs": [
    {
     "name": "stdout",
     "output_type": "stream",
     "text": [
      "A\n",
      "BB\n",
      "CCC\n",
      "DDDD\n",
      "EEEEE\n"
     ]
    }
   ],
   "source": [
    "for i in range(n):\n",
    "    for j in range(i+1):\n",
    "        print(chr(65+i),end=\"\")\n",
    "    print()"
   ]
  },
  {
   "cell_type": "markdown",
   "metadata": {},
   "source": [
    "**17:**\n",
    "![image](https://static.takeuforward.org/wp/uploads/2022/08/P17.png)"
   ]
  },
  {
   "cell_type": "code",
   "execution_count": 210,
   "metadata": {
    "metadata": {}
   },
   "outputs": [
    {
     "name": "stdout",
     "output_type": "stream",
     "text": [
      "     A\n",
      "    ABA\n",
      "   ABCBA\n",
      "  ABCDCBA\n",
      " ABCDEDCBA\n"
     ]
    }
   ],
   "source": [
    "for i in range(n):\n",
    "    midpoint = (i*2+1)//2\n",
    "    letter = 65 # 'A'\n",
    "    for j in range(n-i):\n",
    "        print(\" \",end=\"\")\n",
    "    for k in range(i*2+1):\n",
    "        print(chr(letter),end=\"\")\n",
    "        if k<midpoint:\n",
    "            letter += 1 \n",
    "        else:\n",
    "            letter -= 1\n",
    "    print()\n",
    "        "
   ]
  },
  {
   "cell_type": "markdown",
   "metadata": {},
   "source": [
    "**18:**\n",
    "![image](https://static.takeuforward.org/wp/uploads/2022/08/P18.png)"
   ]
  },
  {
   "cell_type": "code",
   "execution_count": 185,
   "metadata": {
    "metadata": {}
   },
   "outputs": [
    {
     "name": "stdout",
     "output_type": "stream",
     "text": [
      "E \n",
      "D E \n",
      "C D E \n",
      "B C D E \n",
      "A B C D E \n"
     ]
    }
   ],
   "source": [
    "for i in range(1,n+1):\n",
    "    for j in range(n-i,n):\n",
    "        print(chr(65+j),end=\" \")\n",
    "    print()"
   ]
  },
  {
   "cell_type": "markdown",
   "metadata": {},
   "source": [
    "**19:**\n",
    "![image](https://static.takeuforward.org/wp/uploads/2022/08/P19.png)"
   ]
  },
  {
   "cell_type": "code",
   "execution_count": 146,
   "metadata": {
    "metadata": {}
   },
   "outputs": [
    {
     "name": "stdout",
     "output_type": "stream",
     "text": [
      "**********\n",
      "****  ****\n",
      "***    ***\n",
      "**      **\n",
      "*        *\n",
      "*        *\n",
      "**      **\n",
      "***    ***\n",
      "****  ****\n",
      "**********\n"
     ]
    }
   ],
   "source": [
    "for i in range(n*2):\n",
    "    if i<n:\n",
    "        for j in range(n-i):\n",
    "            print('*',end=\"\")\n",
    "        for k in range(i*2):\n",
    "            print(\" \",end=\"\")\n",
    "        for p in range(n-i):\n",
    "            print('*',end=\"\")\n",
    "    else:\n",
    "        for q in range(i%n+1):\n",
    "            print('*',end=\"\")\n",
    "        for x in range((n-i%n)*2-2):\n",
    "            print(\" \",end=\"\")\n",
    "        for y in range(i%n+1):\n",
    "            print('*',end=\"\")        \n",
    "    print()"
   ]
  },
  {
   "cell_type": "markdown",
   "metadata": {},
   "source": [
    "**20:**\n",
    "![image](https://static.takeuforward.org/wp/uploads/2022/08/P20.png)"
   ]
  },
  {
   "cell_type": "code",
   "execution_count": 172,
   "metadata": {
    "metadata": {}
   },
   "outputs": [
    {
     "name": "stdout",
     "output_type": "stream",
     "text": [
      "          \n",
      "*        *\n",
      "**      **\n",
      "***    ***\n",
      "****  ****\n",
      "**********\n",
      "****  ****\n",
      "***    ***\n",
      "**      **\n",
      "*        *\n"
     ]
    }
   ],
   "source": [
    "for i in range(n*2):\n",
    "    if i<=n:\n",
    "        for q in range(i):\n",
    "            print('*',end=\"\")\n",
    "        for x in range((n-i)*2):\n",
    "            print(\" \",end=\"\")\n",
    "        for y in range(i):\n",
    "            print('*',end=\"\")        \n",
    "    else:\n",
    "        for j in range(n*2-i):\n",
    "            print('*',end=\"\")\n",
    "        for k in range((i-n)*2):\n",
    "            print(\" \",end=\"\")\n",
    "        for p in range(n*2-i):\n",
    "            print('*',end=\"\")\n",
    "    print()"
   ]
  },
  {
   "cell_type": "markdown",
   "metadata": {},
   "source": [
    "**21:**\n",
    "![image](https://static.takeuforward.org/wp/uploads/2023/01/Screenshot-2023-01-02-at-1.54.55-PM-1.jpg)"
   ]
  },
  {
   "cell_type": "code",
   "execution_count": 179,
   "metadata": {
    "metadata": {}
   },
   "outputs": [
    {
     "name": "stdout",
     "output_type": "stream",
     "text": [
      "*****\n",
      "*   *\n",
      "*   *\n",
      "*   *\n",
      "*****\n"
     ]
    }
   ],
   "source": [
    "for i in range(n):\n",
    "    if i==0:\n",
    "        for j in range(n):\n",
    "            print('*',end=\"\")\n",
    "    elif i==n-1:\n",
    "        for k in range(n):\n",
    "            print('*',end=\"\")\n",
    "    else:\n",
    "        print('*',end=\"\")\n",
    "        for l in range(n-2):\n",
    "            print(\" \",end=\"\")\n",
    "        print('*',end=\"\")\n",
    "    print()"
   ]
  },
  {
   "cell_type": "markdown",
   "metadata": {},
   "source": [
    "**22:**\n",
    "![image](https://static.takeuforward.org/wp/uploads/2022/08/P22.png)"
   ]
  },
  {
   "cell_type": "code",
   "execution_count": 224,
   "metadata": {
    "metadata": {}
   },
   "outputs": [
    {
     "data": {
      "text/plain": [
       "[[5, 5, 5, 5, 5, 5, 5, 5, 5],\n",
       " [5, 4, 4, 4, 4, 4, 4, 4, 5],\n",
       " [5, 4, 3, 3, 3, 3, 3, 4, 5],\n",
       " [5, 4, 3, 2, 2, 2, 3, 4, 5],\n",
       " [5, 4, 3, 2, 1, 2, 3, 4, 5],\n",
       " [5, 4, 3, 2, 2, 2, 3, 4, 5],\n",
       " [5, 4, 3, 3, 3, 3, 3, 4, 5],\n",
       " [5, 4, 4, 4, 4, 4, 4, 4, 5],\n",
       " [5, 5, 5, 5, 5, 5, 5, 5, 5]]"
      ]
     },
     "execution_count": 224,
     "metadata": {},
     "output_type": "execute_result"
    }
   ],
   "source": [
    "size = 2*n-1\n",
    "matrix = [[-1 for _ in range(size)] for _ in range(size)]\n",
    "for i in range(size):\n",
    "    for j in range(size):\n",
    "        matrix[i][j] = n - min(\n",
    "            abs(0-i), # top\n",
    "            abs(size-1-i), # bottom\n",
    "            abs(0-j), # left\n",
    "            abs(size-j-1) # right distances\n",
    "        ) \n",
    "matrix        "
   ]
  },
  {
   "cell_type": "markdown",
   "metadata": {},
   "source": [
    "**23:**\n",
    "![image](https://static.takeuforward.org/wp/uploads/2022/08/P15.png)"
   ]
  },
  {
   "cell_type": "code",
   "execution_count": 173,
   "metadata": {
    "metadata": {}
   },
   "outputs": [
    {
     "name": "stdout",
     "output_type": "stream",
     "text": [
      "ABCDE\n",
      "ABCD\n",
      "ABC\n",
      "AB\n",
      "A\n"
     ]
    }
   ],
   "source": [
    "for i in range(n):\n",
    "    for j in range(n-i):\n",
    "        print(chr(65+j),end=\"\")\n",
    "    print()"
   ]
  }
 ],
 "metadata": {
  "kernelspec": {
   "display_name": "Python 3",
   "language": "python",
   "name": "python3"
  },
  "language_info": {
   "codemirror_mode": {
    "name": "ipython",
    "version": 3
   },
   "file_extension": ".py",
   "mimetype": "text/x-python",
   "name": "python",
   "nbconvert_exporter": "python",
   "pygments_lexer": "ipython3",
   "version": "3.12.3"
  }
 },
 "nbformat": 4,
 "nbformat_minor": 2
}
