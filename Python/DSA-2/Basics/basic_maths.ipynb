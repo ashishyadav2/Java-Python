{
 "cells": [
  {
   "cell_type": "markdown",
   "metadata": {},
   "source": [
    "## Digit Extraction"
   ]
  },
  {
   "cell_type": "code",
   "execution_count": 33,
   "metadata": {},
   "outputs": [
    {
     "name": "stdout",
     "output_type": "stream",
     "text": [
      "3\n",
      "5\n",
      "9\n",
      "1\n"
     ]
    }
   ],
   "source": [
    "def extract_digit(number: int):\n",
    "    '''\n",
    "    TC: O(log10(N))\n",
    "    '''\n",
    "    while number>0:\n",
    "        last_digit = number%10\n",
    "        number = number//10\n",
    "        print(last_digit)\n",
    "extract_digit(1953)"
   ]
  },
  {
   "cell_type": "markdown",
   "metadata": {},
   "source": [
    "## Count Digits"
   ]
  },
  {
   "cell_type": "code",
   "execution_count": 34,
   "metadata": {},
   "outputs": [
    {
     "data": {
      "text/plain": [
       "4"
      ]
     },
     "execution_count": 34,
     "metadata": {},
     "output_type": "execute_result"
    }
   ],
   "source": [
    "def count_digits(number: int):\n",
    "    '''\n",
    "    TC: O(log10(N))\n",
    "    '''\n",
    "    counter = 0\n",
    "    while number>0:\n",
    "        number//=10\n",
    "        counter += 1\n",
    "    return counter\n",
    "count_digits(1953)"
   ]
  },
  {
   "cell_type": "code",
   "execution_count": 35,
   "metadata": {},
   "outputs": [
    {
     "data": {
      "text/plain": [
       "4"
      ]
     },
     "execution_count": 35,
     "metadata": {},
     "output_type": "execute_result"
    }
   ],
   "source": [
    "import math\n",
    "def count_digits(number: int):\n",
    "    count = int(math.log10(number)+1)\n",
    "    return count\n",
    "count_digits(1953)"
   ]
  },
  {
   "cell_type": "markdown",
   "metadata": {},
   "source": [
    "## Reverse a number"
   ]
  },
  {
   "cell_type": "code",
   "execution_count": 36,
   "metadata": {},
   "outputs": [
    {
     "data": {
      "text/plain": [
       "3591"
      ]
     },
     "execution_count": 36,
     "metadata": {},
     "output_type": "execute_result"
    }
   ],
   "source": [
    "def reverse_number(number: int):\n",
    "    '''\n",
    "    TC: O(log10(N))\n",
    "    '''\n",
    "    rev_num = 0\n",
    "    while number>0:\n",
    "        rev_num = rev_num * 10 + number%10\n",
    "        number//=10\n",
    "    return rev_num\n",
    "reverse_number(1953)"
   ]
  },
  {
   "cell_type": "markdown",
   "metadata": {},
   "source": [
    "## Check Palindrome"
   ]
  },
  {
   "cell_type": "code",
   "execution_count": 37,
   "metadata": {},
   "outputs": [
    {
     "name": "stdout",
     "output_type": "stream",
     "text": [
      "False\n",
      "True\n"
     ]
    }
   ],
   "source": [
    "def is_palindrome(num: int): \n",
    "    '''\n",
    "    TC: O(log10(N))\n",
    "    '''\n",
    "    rev_num = 0\n",
    "    num_copy = num\n",
    "    while num>0:\n",
    "        rev_num = rev_num * 10 + num%10\n",
    "        num//=10\n",
    "    return num_copy==rev_num\n",
    "print(is_palindrome(1994))\n",
    "print(is_palindrome(2002))"
   ]
  },
  {
   "cell_type": "markdown",
   "metadata": {},
   "source": [
    "## Check Armstrong"
   ]
  },
  {
   "cell_type": "code",
   "execution_count": 38,
   "metadata": {},
   "outputs": [
    {
     "name": "stdout",
     "output_type": "stream",
     "text": [
      "True\n",
      "False\n"
     ]
    }
   ],
   "source": [
    "def is_armstrong(num: int):\n",
    "    '''\n",
    "    TC: O(log10(N))\n",
    "    '''\n",
    "    num_copy = num\n",
    "    summ = 0\n",
    "    while num>0:\n",
    "        last_digit = num%10\n",
    "        summ += pow(last_digit,3)\n",
    "        num//=10\n",
    "    return summ==num_copy\n",
    "print(is_armstrong(153))\n",
    "print(is_armstrong(896))"
   ]
  },
  {
   "cell_type": "markdown",
   "metadata": {},
   "source": [
    "## Print all divisors"
   ]
  },
  {
   "cell_type": "code",
   "execution_count": 39,
   "metadata": {},
   "outputs": [
    {
     "name": "stdout",
     "output_type": "stream",
     "text": [
      "1 2 3 4 6 9 12 18 36 "
     ]
    }
   ],
   "source": [
    "def print_divisors(num: int):\n",
    "    '''\n",
    "    TC: O(N)\n",
    "    '''\n",
    "    for i in range(1,num+1):\n",
    "        if num%i==0:\n",
    "            print(i,end=\" \")\n",
    "print_divisors(36)"
   ]
  },
  {
   "cell_type": "code",
   "execution_count": 40,
   "metadata": {},
   "outputs": [
    {
     "name": "stdout",
     "output_type": "stream",
     "text": [
      "1 36 2 18 3 12 4 9 6 "
     ]
    }
   ],
   "source": [
    "def print_divisors(num: int):\n",
    "    '''\n",
    "    TC: O(sqrt(N))\n",
    "    '''\n",
    "    for i in range(1,int(math.sqrt(num))+1):\n",
    "        if num%i==0:\n",
    "            print(i,end=\" \")\n",
    "            if num//i!=i:\n",
    "                print(num//i,end=\" \")\n",
    "print_divisors(36)"
   ]
  },
  {
   "cell_type": "code",
   "execution_count": 43,
   "metadata": {},
   "outputs": [
    {
     "name": "stdout",
     "output_type": "stream",
     "text": [
      "1 36 2 18 3 12 4 9 6 "
     ]
    }
   ],
   "source": [
    "def print_divisors(num: int):\n",
    "    '''\n",
    "    TC: O(sqrt(N))\n",
    "    '''\n",
    "    i = 1\n",
    "    while i*i<=num:\n",
    "        if num%i==0:\n",
    "            print(i,end=\" \")\n",
    "            if num//i!=i:\n",
    "                print(num//i,end=\" \")\n",
    "        i += 1\n",
    "print_divisors(36)"
   ]
  },
  {
   "cell_type": "markdown",
   "metadata": {},
   "source": [
    "## Prime Numbers"
   ]
  },
  {
   "cell_type": "code",
   "execution_count": 52,
   "metadata": {},
   "outputs": [
    {
     "name": "stdout",
     "output_type": "stream",
     "text": [
      "True\n",
      "False\n"
     ]
    }
   ],
   "source": [
    "def is_prime(num: int):\n",
    "    '''\n",
    "    TC: O(sqrt(N))\n",
    "    '''\n",
    "    for i in range(2,int(math.sqrt(num))+1):\n",
    "        if num%i==0:\n",
    "            if num//i==i:\n",
    "                return False\n",
    "    return True\n",
    "print(is_prime(11))\n",
    "print(is_prime(25))"
   ]
  },
  {
   "cell_type": "markdown",
   "metadata": {},
   "source": [
    "## GCD"
   ]
  },
  {
   "cell_type": "code",
   "execution_count": 56,
   "metadata": {},
   "outputs": [
    {
     "name": "stdout",
     "output_type": "stream",
     "text": [
      "10\n",
      "1\n"
     ]
    }
   ],
   "source": [
    "def gcd(n1: int, n2: int):\n",
    "    '''\n",
    "    TC: O(min(N1,N2))\n",
    "    \n",
    "    '''\n",
    "    gcd_val = 1\n",
    "    for i in range(1,min(n1,n2)+1):\n",
    "        if n1%i==0 and n2%i==0:\n",
    "            gcd_val = i\n",
    "    return gcd_val\n",
    "print(gcd(10,20))\n",
    "print(gcd(65,98))"
   ]
  },
  {
   "cell_type": "code",
   "execution_count": 58,
   "metadata": {},
   "outputs": [
    {
     "name": "stdout",
     "output_type": "stream",
     "text": [
      "10\n",
      "1\n"
     ]
    }
   ],
   "source": [
    "def gcd(n1: int, n2: int):\n",
    "    '''\n",
    "    TC: O(min(N1,N2))\n",
    "    \n",
    "    '''\n",
    "    gcd_val = 1\n",
    "    for i in range(min(n1,n2),0,-1):\n",
    "        if n1%i==0 and n2%i==0:\n",
    "            gcd_val = i\n",
    "            break\n",
    "    return gcd_val\n",
    "print(gcd(10,20))\n",
    "print(gcd(65,98))"
   ]
  },
  {
   "cell_type": "code",
   "execution_count": 70,
   "metadata": {},
   "outputs": [
    {
     "name": "stdout",
     "output_type": "stream",
     "text": [
      "5\n"
     ]
    }
   ],
   "source": [
    "def gcd(n1: int, n2: int):\n",
    "    while n1>0 and n2>0:\n",
    "        if n1>n2:\n",
    "            n1 = n1%n2\n",
    "        else:\n",
    "            n2 = n2%n1\n",
    "    if n1==0:\n",
    "        print(n2)\n",
    "    else:\n",
    "        print(n1)\n",
    "        \n",
    "gcd(55,90)"
   ]
  },
  {
   "cell_type": "markdown",
   "metadata": {},
   "source": [
    "## LCM"
   ]
  },
  {
   "cell_type": "code",
   "execution_count": null,
   "metadata": {},
   "outputs": [],
   "source": []
  }
 ],
 "metadata": {
  "kernelspec": {
   "display_name": "Python 3",
   "language": "python",
   "name": "python3"
  },
  "language_info": {
   "codemirror_mode": {
    "name": "ipython",
    "version": 3
   },
   "file_extension": ".py",
   "mimetype": "text/x-python",
   "name": "python",
   "nbconvert_exporter": "python",
   "pygments_lexer": "ipython3",
   "version": "3.12.3"
  }
 },
 "nbformat": 4,
 "nbformat_minor": 2
}
