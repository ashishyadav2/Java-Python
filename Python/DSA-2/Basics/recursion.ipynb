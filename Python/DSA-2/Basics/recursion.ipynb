{
 "cells": [
  {
   "cell_type": "markdown",
   "metadata": {},
   "source": [
    "## Basic Recursion"
   ]
  },
  {
   "cell_type": "code",
   "execution_count": 55,
   "metadata": {},
   "outputs": [
    {
     "name": "stdout",
     "output_type": "stream",
     "text": [
      "0\n",
      "1\n",
      "2\n",
      "3\n",
      "4\n"
     ]
    }
   ],
   "source": [
    "count = 0\n",
    "def func(count):\n",
    "    if count==5: # base case/ termination condition\n",
    "        return\n",
    "    print(count)\n",
    "    count+=1\n",
    "    func(count)\n",
    "func(count)"
   ]
  },
  {
   "cell_type": "markdown",
   "metadata": {},
   "source": [
    "## Print name N times"
   ]
  },
  {
   "cell_type": "code",
   "execution_count": 56,
   "metadata": {},
   "outputs": [
    {
     "name": "stdout",
     "output_type": "stream",
     "text": [
      "Name\n",
      "Name\n",
      "Name\n",
      "Name\n",
      "Name\n"
     ]
    }
   ],
   "source": [
    "def print_name(cnt,n):\n",
    "    '''\n",
    "    TC: O(N)\n",
    "    SC: O(N)\n",
    "    '''\n",
    "    if cnt == n:\n",
    "        return\n",
    "    print(\"Name\")\n",
    "    print_name(cnt+1,n)\n",
    "print_name(0,5)"
   ]
  },
  {
   "cell_type": "markdown",
   "metadata": {},
   "source": [
    "## Print linearly from 1 to N"
   ]
  },
  {
   "cell_type": "code",
   "execution_count": 57,
   "metadata": {},
   "outputs": [
    {
     "name": "stdout",
     "output_type": "stream",
     "text": [
      "1 2 3 4 5 "
     ]
    }
   ],
   "source": [
    "def func(i,n):\n",
    "    '''\n",
    "    TC: O(N)\n",
    "    SC: O(N)\n",
    "    '''\n",
    "    if i>n:\n",
    "        return\n",
    "    print(i,end=\" \")\n",
    "    func(i+1,n)\n",
    "func(1,5)"
   ]
  },
  {
   "cell_type": "markdown",
   "metadata": {},
   "source": [
    "## Print from N to 1"
   ]
  },
  {
   "cell_type": "code",
   "execution_count": 58,
   "metadata": {},
   "outputs": [
    {
     "name": "stdout",
     "output_type": "stream",
     "text": [
      "5 4 3 2 1 "
     ]
    }
   ],
   "source": [
    "def func(n):\n",
    "    '''\n",
    "    TC: O(N)\n",
    "    SC: O(N)\n",
    "    '''\n",
    "    if n<1:\n",
    "        return\n",
    "    print(n,end=\" \")\n",
    "    func(n-1)\n",
    "func(5)"
   ]
  },
  {
   "cell_type": "markdown",
   "metadata": {},
   "source": [
    "## Print linearly from 1 to N (using backtracking)"
   ]
  },
  {
   "cell_type": "code",
   "execution_count": 59,
   "metadata": {},
   "outputs": [
    {
     "name": "stdout",
     "output_type": "stream",
     "text": [
      "1 2 3 4 5 "
     ]
    }
   ],
   "source": [
    "def func(i,n):\n",
    "    '''\n",
    "    TC: O(N)\n",
    "    SC: O(N)\n",
    "    '''\n",
    "    if i<1:\n",
    "        return\n",
    "    func(i-1,n)\n",
    "    print(i,end=\" \")\n",
    "func(5,5)"
   ]
  },
  {
   "cell_type": "markdown",
   "metadata": {},
   "source": [
    "## Print from N to 1 (using backtracking)"
   ]
  },
  {
   "cell_type": "code",
   "execution_count": 60,
   "metadata": {},
   "outputs": [
    {
     "name": "stdout",
     "output_type": "stream",
     "text": [
      "5 4 3 2 1 "
     ]
    }
   ],
   "source": [
    "def func(i,n):\n",
    "    '''\n",
    "    TC: O(N)\n",
    "    SC: O(N)\n",
    "    '''\n",
    "    if i>n:\n",
    "        return\n",
    "    func(i+1,n)\n",
    "    print(i,end=\" \")\n",
    "func(1,5)"
   ]
  },
  {
   "cell_type": "markdown",
   "metadata": {},
   "source": [
    "## Sum of N numbers "
   ]
  },
  {
   "cell_type": "markdown",
   "metadata": {},
   "source": [
    "### Parameterised way"
   ]
  },
  {
   "cell_type": "code",
   "execution_count": 61,
   "metadata": {},
   "outputs": [
    {
     "name": "stdout",
     "output_type": "stream",
     "text": [
      "15\n"
     ]
    }
   ],
   "source": [
    "def func(i,sum):\n",
    "    '''\n",
    "    TC: O(N)\n",
    "    SC: O(N)\n",
    "    '''\n",
    "    if i<1:\n",
    "        print(sum)\n",
    "        return\n",
    "    func(i-1,sum+i)\n",
    "func(5,0)"
   ]
  },
  {
   "cell_type": "code",
   "execution_count": 62,
   "metadata": {},
   "outputs": [
    {
     "name": "stdout",
     "output_type": "stream",
     "text": [
      "15\n"
     ]
    }
   ],
   "source": [
    "def func(i,sum,n):\n",
    "    '''\n",
    "    TC: O(N)\n",
    "    SC: O(N)\n",
    "    '''\n",
    "    if i>n:\n",
    "        print(sum)\n",
    "        return\n",
    "    func(i+1,sum+i,n)\n",
    "func(1,0,5)"
   ]
  },
  {
   "cell_type": "markdown",
   "metadata": {},
   "source": [
    "### Functional way"
   ]
  },
  {
   "cell_type": "code",
   "execution_count": 63,
   "metadata": {},
   "outputs": [
    {
     "name": "stdout",
     "output_type": "stream",
     "text": [
      "15\n"
     ]
    }
   ],
   "source": [
    "def func(n):\n",
    "    '''\n",
    "    TC: O(N)\n",
    "    SC: O(N)\n",
    "    '''\n",
    "    if n==0:\n",
    "        return 0\n",
    "    return n + func(n-1)\n",
    "print(func(5))"
   ]
  },
  {
   "cell_type": "markdown",
   "metadata": {},
   "source": [
    "## Factorial"
   ]
  },
  {
   "cell_type": "markdown",
   "metadata": {},
   "source": [
    "### Parameterised way"
   ]
  },
  {
   "cell_type": "code",
   "execution_count": 64,
   "metadata": {},
   "outputs": [
    {
     "name": "stdout",
     "output_type": "stream",
     "text": [
      "120\n"
     ]
    }
   ],
   "source": [
    "def factorial(i,n,fact):\n",
    "    '''\n",
    "    TC: O(N)\n",
    "    SC: O(N)\n",
    "    '''\n",
    "    if i>n:\n",
    "        print(fact)\n",
    "        return\n",
    "    factorial(i+1,n,fact*i)\n",
    "factorial(1,5,1)"
   ]
  },
  {
   "cell_type": "markdown",
   "metadata": {},
   "source": [
    "### Functional way"
   ]
  },
  {
   "cell_type": "code",
   "execution_count": 65,
   "metadata": {},
   "outputs": [
    {
     "name": "stdout",
     "output_type": "stream",
     "text": [
      "120\n"
     ]
    }
   ],
   "source": [
    "def fact(n):\n",
    "    '''\n",
    "    TC: O(N)\n",
    "    SC: O(N)\n",
    "    '''\n",
    "    if n==0:\n",
    "        return 1\n",
    "    return n * fact(n-1)\n",
    "print(fact(5))"
   ]
  },
  {
   "cell_type": "markdown",
   "metadata": {},
   "source": [
    "## Reverse an array"
   ]
  },
  {
   "cell_type": "code",
   "execution_count": 66,
   "metadata": {},
   "outputs": [
    {
     "name": "stdout",
     "output_type": "stream",
     "text": [
      "[6, 5, 4, 3, 2, 1]\n"
     ]
    }
   ],
   "source": [
    "def rev_array(i,j,arr):\n",
    "    if i>j:\n",
    "        print(arr)\n",
    "        return\n",
    "    temp = arr[i]\n",
    "    arr[i] = arr[j]\n",
    "    arr[j] = temp\n",
    "    rev_array(i+1,j-1,arr)\n",
    "arr = [1,2,3,4,5,6]\n",
    "rev_array(0,len(arr)-1,arr)"
   ]
  },
  {
   "cell_type": "code",
   "execution_count": 67,
   "metadata": {},
   "outputs": [
    {
     "name": "stdout",
     "output_type": "stream",
     "text": [
      "[6, 5, 4, 3, 2, 1]\n"
     ]
    }
   ],
   "source": [
    "def rev_array(i,arr):\n",
    "    '''\n",
    "    TC: O(N/2)\n",
    "    SC: O(N/2)\n",
    "    '''\n",
    "    n = len(arr)\n",
    "    if i>=(n//2):\n",
    "        print(arr)\n",
    "        return\n",
    "    j = n-i-1\n",
    "    temp = arr[i]\n",
    "    arr[i] = arr[j]\n",
    "    arr[j] = temp\n",
    "    rev_array(i+1,arr)\n",
    "arr = [1,2,3,4,5,6]\n",
    "rev_array(0,arr)"
   ]
  },
  {
   "cell_type": "markdown",
   "metadata": {},
   "source": [
    "## Check Palindrome"
   ]
  },
  {
   "cell_type": "code",
   "execution_count": 72,
   "metadata": {},
   "outputs": [
    {
     "name": "stdout",
     "output_type": "stream",
     "text": [
      "False\n"
     ]
    }
   ],
   "source": [
    "def check_palindrome(i,j,arr):\n",
    "    '''\n",
    "    TC: O(N)\n",
    "    SC: O(N)\n",
    "    '''\n",
    "    if arr[i]!=arr[j] or i>=j:\n",
    "        return False\n",
    "    check_palindrome(i+1,j-1,arr)\n",
    "    return True\n",
    "arr = \"madams\".lower()\n",
    "print(check_palindrome(0,len(arr)-1,arr))"
   ]
  },
  {
   "cell_type": "code",
   "execution_count": 75,
   "metadata": {},
   "outputs": [
    {
     "name": "stdout",
     "output_type": "stream",
     "text": [
      "True\n"
     ]
    }
   ],
   "source": [
    "def check_palindrome(i,j,arr):\n",
    "    '''\n",
    "    TC: O(N)\n",
    "    SC: O(N)\n",
    "    '''\n",
    "    if i>=j:\n",
    "        return True\n",
    "    if arr[i]!=arr[j]:\n",
    "        return False\n",
    "    return check_palindrome(i+1,j-1,arr)\n",
    "arr = \"madam\".lower()\n",
    "print(check_palindrome(0,len(arr)-1,arr))"
   ]
  },
  {
   "cell_type": "markdown",
   "metadata": {},
   "source": [
    "## Fibonacci series"
   ]
  },
  {
   "cell_type": "code",
   "execution_count": 84,
   "metadata": {},
   "outputs": [
    {
     "name": "stdout",
     "output_type": "stream",
     "text": [
      "5\n"
     ]
    }
   ],
   "source": [
    "def fibo(n):\n",
    "    '''\n",
    "    TC: O(2^N)\n",
    "    SC: O(2^N)\n",
    "    '''\n",
    "    if n<=1:\n",
    "        return n\n",
    "    return fibo(n-1) + fibo(n-2)\n",
    "print(fibo(5))"
   ]
  }
 ],
 "metadata": {
  "kernelspec": {
   "display_name": "Python 3",
   "language": "python",
   "name": "python3"
  },
  "language_info": {
   "codemirror_mode": {
    "name": "ipython",
    "version": 3
   },
   "file_extension": ".py",
   "mimetype": "text/x-python",
   "name": "python",
   "nbconvert_exporter": "python",
   "pygments_lexer": "ipython3",
   "version": "3.12.3"
  }
 },
 "nbformat": 4,
 "nbformat_minor": 2
}
