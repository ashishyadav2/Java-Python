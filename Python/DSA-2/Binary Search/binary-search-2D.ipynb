{
 "cells": [
  {
   "cell_type": "code",
   "execution_count": 1,
   "metadata": {},
   "outputs": [
    {
     "name": "stdout",
     "output_type": "stream",
     "text": [
      "2\n"
     ]
    }
   ],
   "source": [
    "arr = [[0, 1, 1, 1],\n",
    "        [0, 0, 1, 1],\n",
    "        [1, 1, 1, 1],\n",
    "        [0, 0, 0, 0]]\n",
    "\n",
    "def lower_bound(row):\n",
    "    count = -1\n",
    "    low = 0\n",
    "    high = len(row)-1\n",
    "    while low<=high:\n",
    "        mid = low + (high - low)//2\n",
    "        if row[mid]>=1:\n",
    "            high = mid - 1\n",
    "            count = mid\n",
    "        else:\n",
    "            low = mid + 1\n",
    "    return len(row)-count if count!=-1 else 0\n",
    "ind = -1\n",
    "ans = -1\n",
    "for i,row in enumerate(arr):\n",
    "    count = lower_bound(row)\n",
    "    if count>ans:\n",
    "        ans = count\n",
    "        ind = i\n",
    "print(ind)"
   ]
  },
  {
   "cell_type": "code",
   "execution_count": 2,
   "metadata": {},
   "outputs": [],
   "source": [
    "matrix = [[1,3,5,7],\n",
    "          [10,11,16,20],\n",
    "          [23,30,34,60]]\n",
    "target = 3\n",
    "\n",
    "row_low = 0\n",
    "col_len = len(matrix[0])\n",
    "row_len = len(matrix)\n",
    "row_high = row_len - 1\n",
    "col_low = 0\n",
    "col_high = col_len - 1\n",
    "\n",
    "while row_low<=row_high and col_low<=col_high:\n",
    "    mid_row = (row_low+row_high)//2\n",
    "    mid_col = (col_low+col_high)//2\n",
    "    curr_cell = matrix[mid_row][mid_col]\n",
    "    if curr_cell==target:\n",
    "        print(mid_row,mid_col)\n",
    "        break\n",
    "    elif matrix[mid_row][mid_col]>target:\n",
    "        if target<=matrix[mid_row][col_high]:\n",
    "            col_low = mid_col + 1\n",
    "        else:\n",
    "            col_high = mid_col - 1\n",
    "    elif matrix:\n",
    "        if target<=matrix[row_high][mid_col]:\n",
    "            row_low = mid_col + 1\n",
    "        else:\n",
    "            row_high = mid_col - 1\n",
    "        "
   ]
  },
  {
   "cell_type": "code",
   "execution_count": 3,
   "metadata": {},
   "outputs": [
    {
     "name": "stdout",
     "output_type": "stream",
     "text": [
      "0 1\n",
      "0 0\n"
     ]
    }
   ],
   "source": [
    "mat = [[1,4],[3,2]]\n",
    "n_row = len(mat)\n",
    "n_col = len(mat[0])\n",
    "low = 0\n",
    "high = (n_row * n_col)-1\n",
    "while low<=high:\n",
    "    mid = low + (high - low)//2\n",
    "    i = mid//n_col\n",
    "    j = mid%n_col\n",
    "    print(i,j)\n",
    "    if 0<=i-1<n_row and 0<=i+1<n_row and mat[i-1][j]<mat[i][j]>mat[i+1][j] and \\\n",
    "        0<=j+1<n_col and 0<=j-1<n_col and mat[i][j-1]<mat[i][j]>mat[i][j+1]:\n",
    "        print(i,j)\n",
    "        break\n",
    "    elif 0<=i+1<n_row and 0<=j+1<n_col and mat[i][j]<mat[i+1][j] and mat[i][j]<mat[i][j+1]:\n",
    "        low = mid + 1\n",
    "    else:\n",
    "        high = mid - 1"
   ]
  },
  {
   "cell_type": "code",
   "execution_count": 4,
   "metadata": {},
   "outputs": [
    {
     "name": "stdout",
     "output_type": "stream",
     "text": [
      "-1\n",
      "0 0\n"
     ]
    }
   ],
   "source": [
    "# matrix = [[1,5,10,5,1],\n",
    "#        [6,7,8,7,6],\n",
    "#        [4,3,2,1,3]] \n",
    "# matrix = mat = [[10,20,15],[21,30,14],[7,16,32]]\n",
    "# matrix = [[1,4],[3,2]]\n",
    "matrix = [[10,50,40,30,20],\n",
    "          [1,500,2,3,4]]\n",
    "# matrix = [[25,37,23,37,19],\n",
    "#           [45,19,2,43,26],\n",
    "#           [18,1,37,44,50]]\n",
    "\n",
    "n_row = len(matrix)\n",
    "n_col = len(matrix[0])\n",
    "\n",
    "low = 0\n",
    "high = n_col - 1\n",
    "\n",
    "def is_peak(matrix,i,j,elem):\n",
    "    ans = 2\n",
    "    if ((j-1>=0 and j+1<len(matrix[0])) and (matrix[i][j-1]<elem>matrix[i][j+1])) or \\\n",
    "       (j==0 and elem>matrix[i][j+1]) or \\\n",
    "        (j==len(matrix[0])-1 and elem>matrix[i][j-1])  :\n",
    "        ans = 0\n",
    "    elif matrix[i][j-1]>elem:\n",
    "        ans = -1 #left side is max than current elem\n",
    "    elif elem<matrix[i][j+1]:\n",
    "        ans = 1 #right side is max than current elem\n",
    "    return ans\n",
    "\n",
    "ans = -1\n",
    "ind = None\n",
    "\n",
    "def get_max(matrix,col_ind):\n",
    "    k = 0\n",
    "    maxi = matrix[0][col_ind]\n",
    "    for i in range(len(matrix)):\n",
    "        if matrix[i][col_ind]>maxi:\n",
    "            maxi = matrix[i][col_ind]\n",
    "            k = i\n",
    "    return (k,col_ind,maxi)\n",
    "\n",
    "while low<=high:\n",
    "    mid = low + (high - low)//2\n",
    "    i,j,max_col_elem = get_max(matrix,mid)\n",
    "    temp = is_peak(matrix,i,j,max_col_elem)\n",
    "    if temp==0:\n",
    "        ans = max_col_elem\n",
    "        ind = (i,j)\n",
    "        break\n",
    "    elif temp==-1:\n",
    "        high = mid - 1\n",
    "    elif temp==1:\n",
    "        low = mid + 1\n",
    "        \n",
    "print(ans)\n",
    "print(i,j)\n"
   ]
  },
  {
   "cell_type": "code",
   "execution_count": 5,
   "metadata": {},
   "outputs": [
    {
     "name": "stdout",
     "output_type": "stream",
     "text": [
      "[1, 1]\n"
     ]
    }
   ],
   "source": [
    "# matrix = [[1,5,10,5,1],\n",
    "#        [6,7,8,7,6],\n",
    "#        [4,3,2,1,3]] \n",
    "# matrix = mat = [[10,20,15],[21,30,14],[7,16,32]]\n",
    "# matrix = [[1,4],[3,2]]\n",
    "matrix = [[10,50,40,30,20],\n",
    "          [1,500,2,3,4]]\n",
    "# matrix = [[25,37,23,37,19],\n",
    "#           [45,19,2,43,26],\n",
    "#           [18,1,37,44,50]]\n",
    "\n",
    "n_row = len(matrix)\n",
    "n_col = len(matrix[0])\n",
    "\n",
    "low = 0\n",
    "high = n_col - 1\n",
    "\n",
    "ans = -1\n",
    "\n",
    "def get_max(matrix,col_ind):\n",
    "    k = -1\n",
    "    maxi = -1\n",
    "    for i in range(len(matrix)):\n",
    "        if matrix[i][col_ind]>maxi:\n",
    "            maxi = matrix[i][col_ind]\n",
    "            k = i\n",
    "    return k\n",
    "\n",
    "while low<=high:\n",
    "    mid = low + (high - low)//2\n",
    "    row = get_max(matrix,mid)\n",
    "    left = matrix[row][mid-1] if mid-1>=0 else -1\n",
    "    right = matrix[row][mid+1] if mid+1<n_col else -1\n",
    "    if left<matrix[row][mid]>right:\n",
    "        ans = [row,mid]\n",
    "        break\n",
    "    elif matrix[row][mid]<left:\n",
    "        high = mid - 1\n",
    "    else:\n",
    "        low = mid + 1\n",
    "        \n",
    "print(ans)\n"
   ]
  },
  {
   "cell_type": "code",
   "execution_count": 13,
   "metadata": {},
   "outputs": [
    {
     "name": "stdout",
     "output_type": "stream",
     "text": [
      "5\n"
     ]
    }
   ],
   "source": [
    "def binary_search(matrix,target):\n",
    "    count = 0\n",
    "    for row in matrix:\n",
    "        count+=upper_bound(row,target)\n",
    "    return count\n",
    "\n",
    "def upper_bound(row,target):\n",
    "    n = len(row)\n",
    "    low = 0\n",
    "    high = n - 1\n",
    "    ans = n\n",
    "    while low<=high:\n",
    "        mid = low + (high - low)//2\n",
    "        if row[mid]>target:\n",
    "            high = mid - 1\n",
    "            ans = mid\n",
    "        else:\n",
    "            low = mid + 1\n",
    "    return ans\n",
    "    \n",
    "matrix = [  [1, 3, 5], \n",
    "            [2, 6, 9], \n",
    "            [3, 6, 9]   ]\n",
    "\n",
    "n = len(matrix)\n",
    "m = len(matrix[0])\n",
    "\n",
    "low = 0\n",
    "high = (n*m) - 1\n",
    "threshold = (n*m)//2\n",
    "\n",
    "count = 0\n",
    "ans = -1\n",
    "\n",
    "while low<=high:\n",
    "    mid = low + (high - low)//2\n",
    "    count = binary_search(matrix,mid)\n",
    "    if count<=threshold:\n",
    "        low = mid + 1\n",
    "    elif count>threshold:\n",
    "        high = mid - 1\n",
    "print(low)\n",
    "        \n"
   ]
  }
 ],
 "metadata": {
  "kernelspec": {
   "display_name": "base",
   "language": "python",
   "name": "python3"
  },
  "language_info": {
   "codemirror_mode": {
    "name": "ipython",
    "version": 3
   },
   "file_extension": ".py",
   "mimetype": "text/x-python",
   "name": "python",
   "nbconvert_exporter": "python",
   "pygments_lexer": "ipython3",
   "version": "3.12.3"
  }
 },
 "nbformat": 4,
 "nbformat_minor": 2
}
