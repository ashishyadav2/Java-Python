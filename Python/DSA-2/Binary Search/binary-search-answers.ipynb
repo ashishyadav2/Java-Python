{
 "cells": [
  {
   "cell_type": "code",
   "execution_count": 1,
   "metadata": {},
   "outputs": [
    {
     "name": "stdout",
     "output_type": "stream",
     "text": [
      "1\n"
     ]
    }
   ],
   "source": [
    "n = 2\n",
    "low = 1\n",
    "high = n\n",
    "ans = 1\n",
    "while low<=high:\n",
    "    mid = low + (high -low)//2\n",
    "    if int(pow(mid,2))<=n:\n",
    "        ans = mid\n",
    "        low = mid+1\n",
    "    else:\n",
    "        high = mid -1 \n",
    "print(ans)"
   ]
  },
  {
   "cell_type": "code",
   "execution_count": 2,
   "metadata": {},
   "outputs": [
    {
     "data": {
      "text/plain": [
       "1"
      ]
     },
     "execution_count": 2,
     "metadata": {},
     "output_type": "execute_result"
    }
   ],
   "source": [
    "import math\n",
    "int(math.sqrt(3))"
   ]
  },
  {
   "cell_type": "code",
   "execution_count": 3,
   "metadata": {},
   "outputs": [
    {
     "name": "stdout",
     "output_type": "stream",
     "text": [
      "5\n"
     ]
    }
   ],
   "source": [
    "num = 25\n",
    "nth_rt = 2\n",
    "low = 1\n",
    "high = num\n",
    "ans = -1\n",
    "while low<=high:\n",
    "    mid = low + (high -low)//2\n",
    "    if pow(mid,nth_rt)==num:\n",
    "        ans = mid\n",
    "        break\n",
    "    elif pow(mid,nth_rt)<num:\n",
    "            low = mid+1\n",
    "    else:\n",
    "        high = mid -1 \n",
    "print(ans)"
   ]
  },
  {
   "cell_type": "code",
   "execution_count": 4,
   "metadata": {},
   "outputs": [
    {
     "name": "stdout",
     "output_type": "stream",
     "text": [
      "30\n"
     ]
    }
   ],
   "source": [
    "# h = 8\n",
    "# piles = [3,6,7,11]\n",
    "piles = [30,11,23,4,20]\n",
    "h = 5\n",
    "speed_k = 1\n",
    "for i in range(1,max(piles)+1):\n",
    "    total_hr = 0\n",
    "    for pile in piles:\n",
    "        total_hr += math.ceil(pile/i)\n",
    "    if total_hr<=h:\n",
    "        speed_k = i\n",
    "        break\n",
    "print(speed_k)\n",
    "    \n"
   ]
  },
  {
   "cell_type": "code",
   "execution_count": 5,
   "metadata": {},
   "outputs": [
    {
     "name": "stdout",
     "output_type": "stream",
     "text": [
      "30\n"
     ]
    }
   ],
   "source": [
    "def can_eat(piles,speed):\n",
    "    total_hr = 0\n",
    "    for pile in piles:\n",
    "        total_hr += math.ceil(pile/speed)\n",
    "    return total_hr\n",
    "piles = [30,11,23,4,20]\n",
    "h = 5\n",
    "speed_k = 1\n",
    "low = 1\n",
    "high = max(piles)\n",
    "while low<=high:\n",
    "    mid = low + (high - low)//2\n",
    "    if can_eat(piles,mid)<=h:\n",
    "        speed_k = mid\n",
    "        high = mid - 1\n",
    "    elif can_eat(piles,mid)>h:\n",
    "        low = mid + 1\n",
    "print(speed_k)"
   ]
  },
  {
   "cell_type": "code",
   "execution_count": 6,
   "metadata": {},
   "outputs": [
    {
     "name": "stdout",
     "output_type": "stream",
     "text": [
      "12\n"
     ]
    }
   ],
   "source": [
    "bloomDay = [7,7,7,7,12,7,7]\n",
    "m = 2\n",
    "k = 3\n",
    "# bloomDay = [1,10,3,10,2]\n",
    "# m = 3\n",
    "# k = 1\n",
    "def is_possible(bloomDay, m,k,nth_day):\n",
    "    cnt_k = 0\n",
    "    cnt_m = 0\n",
    "    for ind,day in enumerate(bloomDay):\n",
    "        if day<=nth_day:\n",
    "            cnt_k+=1\n",
    "        else:\n",
    "            cnt_m += cnt_k//k\n",
    "            cnt_k = 0            \n",
    "    cnt_m += cnt_k//k\n",
    "    return cnt_m>=m\n",
    "low = min(bloomDay)\n",
    "high = max(bloomDay)\n",
    "ans = -1\n",
    "if len(bloomDay)< m*k:\n",
    "    print(\"not possible\")\n",
    "while low<=high:\n",
    "    mid = low + (high - low)//2\n",
    "    if is_possible(bloomDay,m,k,mid):\n",
    "        high = mid - 1\n",
    "        ans = mid\n",
    "    else:\n",
    "        low = mid + 1\n",
    "print(ans)\n"
   ]
  },
  {
   "cell_type": "code",
   "execution_count": 7,
   "metadata": {},
   "outputs": [],
   "source": [
    "arr = [1,2,5,9]\n",
    "threshold = 6\n",
    "# arr = [44,22,33,11,1]\n",
    "# threshold = 5\n",
    "def is_possible(arr,divisor,threshold):\n",
    "    summ = 0\n",
    "    for num in arr:\n",
    "        summ += math.ceil(num/divisor)\n",
    "    # print(summ)\n",
    "    if summ==threshold:\n",
    "        print(summ)\n",
    "is_possible(arr,11,6)"
   ]
  },
  {
   "cell_type": "code",
   "execution_count": 8,
   "metadata": {},
   "outputs": [
    {
     "name": "stdout",
     "output_type": "stream",
     "text": [
      "10101\n"
     ]
    }
   ],
   "source": [
    "# arr = [1,2,5,9]\n",
    "# threshold = 6\n",
    "# arr = [44,22,33,11,1]\n",
    "# threshold = 5\n",
    "arr = [21212,10101,12121]\n",
    "threshold = 1000000\n",
    "def is_possible(arr,divisor,threshold):\n",
    "    summ = 0\n",
    "    for num in arr:\n",
    "        summ += math.ceil(num/divisor)\n",
    "    return summ<=threshold\n",
    "low = min(arr)\n",
    "high = max(arr)\n",
    "ans = -1\n",
    "while low<=high:\n",
    "    mid = low + (high - low)//2\n",
    "    if is_possible(arr,mid,threshold):\n",
    "        high = mid - 1\n",
    "        ans = mid\n",
    "    else:\n",
    "        low = mid + 1\n",
    "print(ans)"
   ]
  },
  {
   "cell_type": "code",
   "execution_count": 9,
   "metadata": {},
   "outputs": [
    {
     "name": "stdout",
     "output_type": "stream",
     "text": [
      "3\n"
     ]
    }
   ],
   "source": [
    "arr = [1,2,3,4,5,6,7,8,9,10]\n",
    "days = 5\n",
    "arr = [1,2,3,1,1]\n",
    "days = 4\n",
    "def is_possible(arr,capacity,days):\n",
    "    count_days = 1\n",
    "    temp_capacity = 0\n",
    "    for weight in arr:\n",
    "        if temp_capacity+weight<=capacity:\n",
    "            temp_capacity += weight\n",
    "        else:\n",
    "            temp_capacity = weight\n",
    "            count_days+=1    \n",
    "    return count_days<=days\n",
    "is_possible(arr,6,days)\n",
    "low = max(arr)\n",
    "high = sum(arr)\n",
    "ans = -1\n",
    "while low<=high:\n",
    "    mid = low + (high - low)//2\n",
    "    if is_possible(arr,mid,days):\n",
    "        high = mid -1\n",
    "        ans = mid\n",
    "    else:\n",
    "        low = mid + 1\n",
    "print(ans)"
   ]
  },
  {
   "cell_type": "code",
   "execution_count": 10,
   "metadata": {},
   "outputs": [
    {
     "name": "stdout",
     "output_type": "stream",
     "text": [
      "6\n"
     ]
    }
   ],
   "source": [
    "arr = [2,3,4,7,11]\n",
    "k = 5\n",
    "arr = [1,2,3,4]\n",
    "k = 2\n",
    "ans = -1\n",
    "for num in arr:\n",
    "    if num<=k:\n",
    "        k+=1\n",
    "print(k)"
   ]
  },
  {
   "cell_type": "code",
   "execution_count": 11,
   "metadata": {},
   "outputs": [
    {
     "name": "stdout",
     "output_type": "stream",
     "text": [
      "-1 9\n",
      "3\n"
     ]
    }
   ],
   "source": [
    "# arr = [2,3,4,7,11]\n",
    "# k = 5\n",
    "arr = [4,7,9]\n",
    "k = 3\n",
    "n = len(arr)\n",
    "ans = -1\n",
    "low = 0\n",
    "high = n-1\n",
    "while low<=high:\n",
    "    mid = low + (high - low)//2\n",
    "    missing = arr[mid]-(mid+1)\n",
    "    if missing<k:\n",
    "        low = mid + 1\n",
    "    else:\n",
    "        high = mid - 1  \n",
    "missing = arr[high]-(high + 1)\n",
    "print(high,missing)\n",
    "ans = arr[high] + (k - missing)\n",
    "print(ans)\n"
   ]
  },
  {
   "cell_type": "code",
   "execution_count": 12,
   "metadata": {},
   "outputs": [
    {
     "name": "stdout",
     "output_type": "stream",
     "text": [
      "1 8\n",
      "3 4\n"
     ]
    }
   ],
   "source": [
    "stalls = [1,2,4,8,9]\n",
    "k = 3\n",
    "# k=3\n",
    "# stalls = [10, 1, 2, 7, 5]\n",
    "stalls.sort()\n",
    "n = len(stalls)\n",
    "def is_possible(distance,n_cows,stalls):\n",
    "    cows_put = 1\n",
    "    prev_cow = stalls[0]\n",
    "    for ind,stall in enumerate(stalls):\n",
    "        if ind>0 and abs(prev_cow-stalls[ind])>=distance:\n",
    "            prev_cow = stalls[ind]\n",
    "            cows_put += 1\n",
    "    return cows_put>=n_cows\n",
    "low = 1\n",
    "high = stalls[n-1]-stalls[0]\n",
    "print(low,high)\n",
    "while low<=high:\n",
    "    mid = low + (high - low)//2\n",
    "    if is_possible(mid,k,stalls):\n",
    "        low = mid + 1\n",
    "    else:\n",
    "        high = mid - 1 \n",
    "print(high,low)"
   ]
  },
  {
   "cell_type": "code",
   "execution_count": 13,
   "metadata": {},
   "outputs": [
    {
     "name": "stdout",
     "output_type": "stream",
     "text": [
      "1 9\n",
      "3 9\n",
      "5 9\n",
      "6 9\n",
      "7 9\n",
      "7 9\n",
      "8 9\n",
      "8 9\n",
      "85\n"
     ]
    }
   ],
   "source": [
    "arr = [13 ,31, 37 ,45 ,46 ,54 ,55 ,63 ,73 ,84 ,85]\n",
    "m = 9\n",
    "# arr = [12,34,67,90]\n",
    "# m = 2\n",
    "# arr = [15,17,20]\n",
    "# m = 2\n",
    "def is_possible(pages,students,arr):\n",
    "    stud_count = 0\n",
    "    temp_pages = 0\n",
    "    for page in arr:\n",
    "        if temp_pages+page<=pages:\n",
    "            temp_pages+=page\n",
    "        else:\n",
    "            stud_count+=1\n",
    "            temp_pages = page\n",
    "            if temp_pages>pages:\n",
    "                return False\n",
    "    print(stud_count,students)\n",
    "    return stud_count<students\n",
    "\n",
    "low = max(arr)\n",
    "high = sum(arr)\n",
    "while low<=high:\n",
    "    mid =  low + (high - low)//2\n",
    "    if is_possible(mid,m,arr):\n",
    "        high = mid - 1\n",
    "    else:\n",
    "        low = mid + 1\n",
    "print(low)"
   ]
  },
  {
   "cell_type": "code",
   "execution_count": 14,
   "metadata": {},
   "outputs": [
    {
     "name": "stdout",
     "output_type": "stream",
     "text": [
      "3\n"
     ]
    }
   ],
   "source": [
    "# candies = [5,8,6]\n",
    "# k = 3\n",
    "\n",
    "# candies = [2,5]\n",
    "# k = 11\n",
    "\n",
    "candies = [1,2,3,4,10]\n",
    "k = 5\n",
    "\n",
    "def is_possible(candy,k,candies):\n",
    "    count = 0\n",
    "    for can in candies:\n",
    "        count+=(can//candy)\n",
    "    return count>=k\n",
    "low = 1\n",
    "high = max(candies) \n",
    "while low<=high:\n",
    "    mid = low + (high - low)//2\n",
    "    if is_possible(mid,k,candies):\n",
    "        low = mid + 1\n",
    "    else:\n",
    "        high = mid  - 1\n",
    "print(high)"
   ]
  },
  {
   "cell_type": "code",
   "execution_count": 15,
   "metadata": {},
   "outputs": [
    {
     "name": "stdout",
     "output_type": "stream",
     "text": [
      "3\n"
     ]
    }
   ],
   "source": [
    "arr = [1,2,3,4,7]\n",
    "arr.sort()\n",
    "m = 3\n",
    "\n",
    "def is_possible(distance,m_balls,position):\n",
    "    ball_count = 1\n",
    "    prev_ball = position[0]\n",
    "    for ind,ball in enumerate(position):\n",
    "        if ind>0 and abs(prev_ball-ball)>=distance:\n",
    "            prev_ball = ball\n",
    "            ball_count += 1\n",
    "    return ball_count>=m_balls\n",
    "    \n",
    "low = 1\n",
    "high = arr[n-1]-arr[0]\n",
    "while low<=high:\n",
    "    mid = low + (high - low)//2\n",
    "    if is_possible(mid,m,arr):\n",
    "        low = mid + 1\n",
    "    else:\n",
    "        high = mid  - 1\n",
    "print(high)"
   ]
  },
  {
   "cell_type": "code",
   "execution_count": 16,
   "metadata": {},
   "outputs": [
    {
     "name": "stdout",
     "output_type": "stream",
     "text": [
      "[1] [4, 4]\n",
      "[1, 4] [4]\n",
      "5\n"
     ]
    }
   ],
   "source": [
    "arr = [10,20,30,40]\n",
    "k = 2\n",
    "arr = [7,2,5,10,8]\n",
    "k = 2\n",
    "arr = [1,4,4]\n",
    "k = 3\n",
    "ans = sum(arr)\n",
    "for split in range(1,len(arr)):\n",
    "    a = arr[:split]\n",
    "    b = arr[split:]\n",
    "    c = sum(a)\n",
    "    d = sum(b)\n",
    "    ans = min(ans,max(c,d))\n",
    "    print(a,b)\n",
    "print(ans)"
   ]
  },
  {
   "cell_type": "code",
   "execution_count": 17,
   "metadata": {},
   "outputs": [
    {
     "name": "stdout",
     "output_type": "stream",
     "text": [
      "mid: 70\n",
      "1\n",
      "mid: 54\n",
      "2\n",
      "mid: 62\n",
      "1\n",
      "mid: 58\n",
      "2\n",
      "mid: 60\n",
      "1\n",
      "mid: 59\n",
      "2\n",
      "59 60\n"
     ]
    }
   ],
   "source": [
    "arr = [10,20,30,40]\n",
    "k = 2\n",
    "# arr = [7,2,5,10,8]\n",
    "# k = 2\n",
    "# arr = [1,4,4]\n",
    "# k = 3\n",
    "def is_possible(summ,arr,k):\n",
    "    temp = 0\n",
    "    cnt = 0\n",
    "    for num in arr:\n",
    "        if temp+num <=summ:\n",
    "            temp+=num\n",
    "        else:\n",
    "            cnt += 1\n",
    "            temp = num\n",
    "            if temp>summ:\n",
    "                return False\n",
    "    print(cnt)\n",
    "    return cnt<k\n",
    "low = max(arr)\n",
    "high = sum(arr)\n",
    "while low<=high:\n",
    "    mid = low + (high - low)//2\n",
    "    print(f\"mid: {mid}\")\n",
    "    if is_possible(mid,arr,k):\n",
    "        high = mid - 1\n",
    "    else:\n",
    "        low = mid + 1\n",
    "print(high,low)"
   ]
  },
  {
   "cell_type": "code",
   "execution_count": 18,
   "metadata": {},
   "outputs": [
    {
     "name": "stdout",
     "output_type": "stream",
     "text": [
      "4 2\n",
      "True\n"
     ]
    }
   ],
   "source": [
    "# stations = [1, 2, 3, 4, 5, 6, 7, 8, 9, 10]\n",
    "# k = 9\n",
    "\n",
    "stations = [3,6,12,19,33,44,67,72,89,95] \n",
    "k = 2\n",
    "\n",
    "def is_possible(distance,more_gas_stations,stations):\n",
    "    count = 0\n",
    "    maxi = 0\n",
    "    prev_station = stations[0]\n",
    "    for ind,station in enumerate(stations):\n",
    "        if ind==0:\n",
    "            continue\n",
    "        temp_distance = abs(prev_station-stations[ind])\n",
    "        if temp_distance>distance and temp_distance>=maxi:\n",
    "            count+=1\n",
    "            maxi = temp_distance\n",
    "    print(count,more_gas_stations)\n",
    "    print(count>=more_gas_stations)\n",
    "is_possible(50,k,stations)"
   ]
  },
  {
   "cell_type": "code",
   "execution_count": 19,
   "metadata": {},
   "outputs": [
    {
     "name": "stdout",
     "output_type": "stream",
     "text": [
      "3.0\n",
      "[3, 1, 1]\n"
     ]
    }
   ],
   "source": [
    "arr = [1,13,17,23]\n",
    "k = 5\n",
    "n = len(arr)\n",
    "sections = [0]*(n-1)\n",
    "   \n",
    "for i in range(1,k+1):\n",
    "    maxi = -1\n",
    "    maxi_dist_sect = -1\n",
    "    for j in range(n-1):\n",
    "        diff = arr[j+1]-arr[j]\n",
    "        section_len = diff/(sections[j]+1)\n",
    "        if maxi<section_len:\n",
    "            maxi = section_len\n",
    "            maxi_dist_sect = j\n",
    "    sections[maxi_dist_sect]+=1\n",
    "\n",
    "ans = -1\n",
    "for i in range(n-1):\n",
    "    section_len = (arr[i+1]-arr[i])/(sections[i]+1)\n",
    "    ans = max(ans,section_len)\n",
    "print(ans)\n",
    "print(sections)"
   ]
  },
  {
   "cell_type": "code",
   "execution_count": 20,
   "metadata": {},
   "outputs": [
    {
     "name": "stdout",
     "output_type": "stream",
     "text": [
      "[3, 1, 1]\n",
      "3.0\n"
     ]
    }
   ],
   "source": [
    "arr = [1,13,17,23]\n",
    "k = 5\n",
    "n = len(arr)\n",
    "sections = [0]*(n-1)\n",
    "\n",
    "for gas in range(1,k+1):\n",
    "    max_dist = -1\n",
    "    max_dist_ind = -1\n",
    "    for i in range(n-1):\n",
    "        diff = arr[i+1]-arr[i]\n",
    "        section_length = diff/(sections[i]+1)\n",
    "        if max_dist<section_length:\n",
    "            max_dist = section_length\n",
    "            max_dist_ind = i\n",
    "    sections[max_dist_ind]+=1\n",
    "    \n",
    "print(sections)\n",
    "\n",
    "ans = -1\n",
    "for i in range(n-1):\n",
    "    diff = arr[i+1]-arr[i]\n",
    "    section_len = diff/(sections[i]+1)\n",
    "    ans = max(ans,section_len)    \n",
    "print(ans)"
   ]
  },
  {
   "cell_type": "code",
   "execution_count": 21,
   "metadata": {},
   "outputs": [
    {
     "name": "stdout",
     "output_type": "stream",
     "text": [
      "[(-12, 0), (-4, 1), (-6, 2)]\n",
      "[3, 1, 1]\n",
      "[(-3.0, 0), (-3.0, 2), (-2.0, 1)]\n",
      "3.0\n"
     ]
    }
   ],
   "source": [
    "import heapq\n",
    "arr = [1,13,17,23]\n",
    "k = 5\n",
    "n = len(arr)\n",
    "sections = [0]*(n-1)\n",
    "\n",
    "heap_arr = []\n",
    "for i in range(n-1):\n",
    "    diff = arr[i+1]-arr[i]\n",
    "    heapq.heappush(heap_arr,(-diff,i))\n",
    "\n",
    "print(heap_arr)\n",
    "for i in range(1,k+1):\n",
    "    top = heapq.heappop(heap_arr)\n",
    "    max_dist_ind = top[1]\n",
    "    sections[max_dist_ind]+=1\n",
    "    \n",
    "    initial_diff = arr[max_dist_ind+1]-arr[max_dist_ind]\n",
    "    section_len = initial_diff/(sections[max_dist_ind]+1)\n",
    "    \n",
    "    heapq.heappush(heap_arr,(-section_len,max_dist_ind))\n",
    "print(sections)\n",
    "print(heap_arr)\n",
    "print(-heap_arr[0][0])\n",
    "# ans = -1\n",
    "# for i in range(n-1):\n",
    "#     diff = arr[i+1]-arr[i]\n",
    "#     section_len = diff/(sections[i]+1)\n",
    "#     ans = max(ans,section_len)    \n",
    "# print(ans)"
   ]
  },
  {
   "cell_type": "code",
   "execution_count": 22,
   "metadata": {},
   "outputs": [
    {
     "name": "stdout",
     "output_type": "stream",
     "text": [
      "0.5009765625\n"
     ]
    }
   ],
   "source": [
    "# arr = [1,13,17,23]\n",
    "# k = 5\n",
    "\n",
    "# arr = [3,6,12,19,33,44,67,72,89,95]\n",
    "# k = 2\n",
    "\n",
    "arr = [1, 2, 3, 4, 5]\n",
    "k = 4\n",
    "\n",
    "def get_maxi_cnsct_dist(arr):\n",
    "    maxi =  -1\n",
    "    for i in range(1,len(arr)):\n",
    "        dist = arr[i]-arr[i-1]\n",
    "        maxi = max(dist,maxi)\n",
    "    return maxi\n",
    "    \n",
    "def is_possible(arr,dist,k):\n",
    "    gas_placed = 0\n",
    "    n = len(arr)\n",
    "    for i in range(1,n):\n",
    "        gas_placed += math.floor((arr[i]-arr[i-1])/dist)    \n",
    "    return gas_placed<=k\n",
    "\n",
    "low = 0\n",
    "high = get_maxi_cnsct_dist(arr)\n",
    "ans = -1\n",
    "diff = 1e-3\n",
    "\n",
    "while (high - low)>diff:\n",
    "    mid = low+(high-low)/2.0\n",
    "    if is_possible(arr,mid,k):\n",
    "        high = mid\n",
    "    else:\n",
    "        low = mid\n",
    "print(high)"
   ]
  },
  {
   "cell_type": "code",
   "execution_count": null,
   "metadata": {},
   "outputs": [],
   "source": []
  }
 ],
 "metadata": {
  "kernelspec": {
   "display_name": "base",
   "language": "python",
   "name": "python3"
  },
  "language_info": {
   "codemirror_mode": {
    "name": "ipython",
    "version": 3
   },
   "file_extension": ".py",
   "mimetype": "text/x-python",
   "name": "python",
   "nbconvert_exporter": "python",
   "pygments_lexer": "ipython3",
   "version": "3.12.3"
  }
 },
 "nbformat": 4,
 "nbformat_minor": 2
}
