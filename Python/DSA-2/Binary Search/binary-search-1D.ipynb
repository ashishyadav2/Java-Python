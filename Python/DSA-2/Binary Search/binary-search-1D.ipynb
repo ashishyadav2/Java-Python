{
 "cells": [
  {
   "cell_type": "markdown",
   "metadata": {},
   "source": [
    "## Linear Search"
   ]
  },
  {
   "cell_type": "code",
   "execution_count": 1,
   "metadata": {},
   "outputs": [
    {
     "name": "stdout",
     "output_type": "stream",
     "text": [
      "5\n"
     ]
    }
   ],
   "source": [
    "arr = [4,6,2,5,7,9,1,3]\n",
    "n = len(arr)\n",
    "target = 9\n",
    "for idx,num in enumerate(arr):\n",
    "    if num==target:\n",
    "        print(idx)\n",
    "        break"
   ]
  },
  {
   "cell_type": "markdown",
   "metadata": {},
   "source": [
    "## Binary Search"
   ]
  },
  {
   "cell_type": "code",
   "execution_count": 2,
   "metadata": {},
   "outputs": [
    {
     "name": "stdout",
     "output_type": "stream",
     "text": [
      "3\n"
     ]
    }
   ],
   "source": [
    "def binary_search(arr,target):\n",
    "    low = 0\n",
    "    high = len(arr)-1\n",
    "    ans = -1\n",
    "    while low<high:\n",
    "        mid = low + (high-low)//2\n",
    "        if target<arr[mid]:\n",
    "            high = mid-1\n",
    "        elif target>arr[mid]:\n",
    "            low = mid+1\n",
    "        else:\n",
    "            ans = mid\n",
    "            break\n",
    "    return ans\n",
    "\n",
    "arr = [20,21,32,59,68,76,89,112]\n",
    "target = 59\n",
    "print(binary_search(arr,target))\n"
   ]
  },
  {
   "cell_type": "code",
   "execution_count": 3,
   "metadata": {},
   "outputs": [
    {
     "name": "stdout",
     "output_type": "stream",
     "text": [
      "3\n"
     ]
    }
   ],
   "source": [
    "def binary_search(arr,target,low,high):\n",
    "    if low>=high:\n",
    "        return\n",
    "    mid = low + (high-low)//2\n",
    "    if target==arr[mid]:\n",
    "        return mid\n",
    "    elif target<arr[mid]:\n",
    "        binary_search(arr,target,low,mid-1)\n",
    "    else:\n",
    "        binary_search(arr,target,mid+1,high)\n",
    "\n",
    "arr = [20,21,32,59,68,76,89,112]\n",
    "target = 59\n",
    "n = len(arr)\n",
    "print(binary_search(arr,target,0,n-1))\n"
   ]
  },
  {
   "cell_type": "markdown",
   "metadata": {},
   "source": [
    "### Floor"
   ]
  },
  {
   "cell_type": "code",
   "execution_count": 4,
   "metadata": {},
   "outputs": [
    {
     "name": "stdout",
     "output_type": "stream",
     "text": [
      "6 8\n"
     ]
    }
   ],
   "source": [
    "def binary_search(arr,target):\n",
    "    n = len(arr)\n",
    "    low = 0\n",
    "    high = n-1\n",
    "    ans = -1\n",
    "    while low<=high:\n",
    "        mid = low + (high-low)//2\n",
    "        if arr[mid]<=target:\n",
    "            low = mid + 1\n",
    "            ans = mid\n",
    "        else:\n",
    "            high = mid - 1\n",
    "    return ans\n",
    "\n",
    "arr = [1,2,3,3,5,8,8,10,10,11]\n",
    "target = 9\n",
    "ind = binary_search(arr,target)\n",
    "print(ind,arr[ind])\n"
   ]
  },
  {
   "cell_type": "markdown",
   "metadata": {},
   "source": [
    "### ceil"
   ]
  },
  {
   "cell_type": "code",
   "execution_count": 5,
   "metadata": {},
   "outputs": [
    {
     "name": "stdout",
     "output_type": "stream",
     "text": [
      "7 10\n"
     ]
    }
   ],
   "source": [
    "def binary_search(arr,target):\n",
    "    n = len(arr)\n",
    "    low = 0\n",
    "    high = n-1\n",
    "    ans = n\n",
    "    while low<=high:\n",
    "        mid = low + (high-low)//2\n",
    "        if arr[mid]>=target:\n",
    "            high = mid - 1\n",
    "            ans = mid\n",
    "        else:\n",
    "            low = mid + 1\n",
    "    return ans\n",
    "\n",
    "arr = [1,2,3,3,5,8,8,10,10,11]\n",
    "target = 9\n",
    "ind = binary_search(arr,target)\n",
    "print(ind,arr[ind])\n"
   ]
  },
  {
   "cell_type": "code",
   "execution_count": 6,
   "metadata": {},
   "outputs": [
    {
     "name": "stdout",
     "output_type": "stream",
     "text": [
      "[-1, 9]\n"
     ]
    }
   ],
   "source": [
    "def binary_search_upper_bound(arr,target):\n",
    "    lo = 0\n",
    "    hi = n - 1\n",
    "    ans = -1\n",
    "    while lo<=hi:\n",
    "        mid = lo + (hi-lo)//2\n",
    "        if target<=arr[mid]:\n",
    "            ans = mid\n",
    "            hi = mid - 1\n",
    "        elif target>arr[mid]:\n",
    "            lo = mid + 1\n",
    "        else:\n",
    "            ans = mid\n",
    "            break\n",
    "    return ans\n",
    "    \n",
    "def binary_search_lower_bound(arr,target):\n",
    "    lo = 0\n",
    "    hi = n - 1\n",
    "    ans = -1\n",
    "    while lo<=hi:\n",
    "        mid = lo + (hi-lo)//2\n",
    "        if target<arr[mid]:\n",
    "            hi = mid - 1\n",
    "        elif target>=arr[mid]:\n",
    "            ans = mid\n",
    "            lo = mid + 1\n",
    "        else:\n",
    "            ans = mid\n",
    "            break\n",
    "    return ans\n",
    "\n",
    "def getFloorAndupper_bound(arr, n, target):\n",
    "    arr.sort()\n",
    "    ceil = binary_search_upper_bound(arr,target)\n",
    "    floor = binary_search_lower_bound(arr,target)\n",
    "    ceil = arr[ceil] if ceil>-1 else -1\n",
    "    floor = arr[floor] if floor>-1 else -1\n",
    "    return [floor,ceil]\n",
    "\n",
    "n = 6 \n",
    "target = 2\n",
    "arr = [65, 63, 39, 57, 9, 29]\n",
    "print(getFloorAndupper_bound(arr,n,target))"
   ]
  },
  {
   "cell_type": "code",
   "execution_count": 7,
   "metadata": {},
   "outputs": [
    {
     "name": "stdout",
     "output_type": "stream",
     "text": [
      "[0, 1, 2, 3, 4, 5]\n",
      "[5, 7, 7, 8, 8, 10]\n",
      "floor: 3 ceil: 5 ans: 4 target: 8\n"
     ]
    }
   ],
   "source": [
    "def binary_search(arr,target):\n",
    "    n = len(arr)\n",
    "    low = 0\n",
    "    high = n-1\n",
    "    ans = -1\n",
    "    while low<=high:\n",
    "        mid = low + (high-low)//2\n",
    "        if target<arr[mid]:\n",
    "            high = mid-1\n",
    "        elif target>arr[mid]:\n",
    "            low = mid+1\n",
    "        else:\n",
    "            ans = mid\n",
    "            break\n",
    "    return low,high,ans\n",
    "\n",
    "arr = [1,2,3,3,5,8,8,10,10,11]\n",
    "target = 8\n",
    "arr = [5,7,7,8,8,10]\n",
    "target = 8\n",
    "print([i for i in range(len(arr))])\n",
    "print(arr)\n",
    "ind = binary_search(arr,target)\n",
    "print(f\"floor: {ind[0]}\", f\"ceil: {ind[1]}\",f\"ans: {ind[2]}\", f\"target: {target}\")"
   ]
  },
  {
   "cell_type": "code",
   "execution_count": 8,
   "metadata": {},
   "outputs": [
    {
     "name": "stdout",
     "output_type": "stream",
     "text": [
      "[0, 1, 2, 3]\n",
      "[1, 3, 5, 6]\n",
      "2\n"
     ]
    }
   ],
   "source": [
    "def binary_search(arr,target):\n",
    "    n = len(arr)\n",
    "    low = 0\n",
    "    high = n-1\n",
    "    ans = n\n",
    "    while low<=high:\n",
    "        mid = low + (high-low)//2\n",
    "        if target<=arr[mid]:\n",
    "            high = mid-1\n",
    "            ans = mid\n",
    "        elif target>arr[mid]:\n",
    "            low = mid+1\n",
    "        else:\n",
    "            ans = mid\n",
    "            break\n",
    "    return high+1\n",
    "\n",
    "arr = [1,3,5,6]\n",
    "target = 5\n",
    "# arr = [1,3,5,6]\n",
    "# target = 2\n",
    "# arr = [1,3,5,6]\n",
    "# target = 7\n",
    "print([i for i in range(len(arr))])\n",
    "print(arr)\n",
    "ind = binary_search(arr,target)\n",
    "print(ind)"
   ]
  },
  {
   "cell_type": "code",
   "execution_count": 9,
   "metadata": {},
   "outputs": [
    {
     "name": "stdout",
     "output_type": "stream",
     "text": [
      "(-1, -1, -1)\n"
     ]
    }
   ],
   "source": [
    "def binary_search(arr,target):\n",
    "    n = len(arr)\n",
    "    low = 0\n",
    "    high = n-1\n",
    "    ans = -1\n",
    "    while low<=high:\n",
    "        mid = low + (high-low)//2\n",
    "        if target<arr[mid]:\n",
    "            high = mid-1\n",
    "        elif target>arr[mid]:\n",
    "            low = mid+1\n",
    "        else:\n",
    "            if mid<high:\n",
    "                low = mid + 1\n",
    "            elif mid>low:\n",
    "                high = mid - 1\n",
    "            else:\n",
    "                break\n",
    "            ans = mid\n",
    "            break\n",
    "    return ans,high-1,low-1\n",
    "\n",
    "# arr = [5,7,7,8,8,10]\n",
    "# target = 8\n",
    "arr = [1]\n",
    "target = 1\n",
    "ans = binary_search(arr,target)\n",
    "print(ans)"
   ]
  },
  {
   "cell_type": "code",
   "execution_count": 10,
   "metadata": {},
   "outputs": [
    {
     "name": "stdout",
     "output_type": "stream",
     "text": [
      "2\n"
     ]
    }
   ],
   "source": [
    "def binary_search(arr,target):\n",
    "    n = len(arr)\n",
    "    low = 0\n",
    "    high = n-1\n",
    "    count = 0\n",
    "    while low<=high:\n",
    "        mid = low + (high-low)//2\n",
    "        if target<arr[mid]:\n",
    "            high = mid-1\n",
    "        elif target>arr[mid]:\n",
    "            low = mid+1\n",
    "        else:\n",
    "            if mid<high:\n",
    "                low = mid + 1\n",
    "            elif low<mid:\n",
    "                high = mid - 1\n",
    "            else:\n",
    "                break\n",
    "                            \n",
    "    return abs(high-low)+1\n",
    "\n",
    "arr = [1,1,2,2,2,2,3]\n",
    "target = 2\n",
    "# arr = [5,7,7,8,8,10]\n",
    "# target = 8\n",
    "ans = binary_search(arr,target)\n",
    "print(ans)"
   ]
  },
  {
   "cell_type": "code",
   "execution_count": 11,
   "metadata": {},
   "outputs": [
    {
     "name": "stdout",
     "output_type": "stream",
     "text": [
      "2\n"
     ]
    }
   ],
   "source": [
    "from typing import List\n",
    "\n",
    "def lower_bound(arr,target):\n",
    "    n = len(arr)\n",
    "    low = 0\n",
    "    high = n-1\n",
    "    ans = n\n",
    "    while low<=high:\n",
    "        mid = low + (high-low)//2\n",
    "        if target<=arr[mid]:\n",
    "            ans = mid\n",
    "            high = mid-1\n",
    "        else:\n",
    "            low = mid+1\n",
    "    return ans\n",
    "\n",
    "def upper_bound(arr,target):\n",
    "    n = len(arr)\n",
    "    low = 0\n",
    "    high = n-1\n",
    "    ans = n\n",
    "    while low<=high:\n",
    "        mid = low + (high-low)//2\n",
    "        if target<arr[mid]:\n",
    "            ans = mid\n",
    "            high = mid-1\n",
    "        else:\n",
    "            low = mid+1\n",
    "    return ans\n",
    "\n",
    "def searchRange( arr: List[int], target: int) -> List[int]:\n",
    "    lb = lower_bound(arr,target)\n",
    "    ub = upper_bound(arr,target)\n",
    "    if lb==len(arr) or arr[lb]!=target:\n",
    "        return [-1,-1]\n",
    "    return ub-lb\n",
    "\n",
    "arr = [5,7,7,8,8,10]\n",
    "target = 8\n",
    "print(searchRange(arr,target))"
   ]
  },
  {
   "cell_type": "code",
   "execution_count": 12,
   "metadata": {},
   "outputs": [
    {
     "name": "stdout",
     "output_type": "stream",
     "text": [
      "4\n"
     ]
    }
   ],
   "source": [
    "def binary_search(arr,target):\n",
    "    n = len(arr)\n",
    "    low = 0\n",
    "    high = n-1\n",
    "    while low<=high:\n",
    "        mid = low + (high-low)//2\n",
    "        if arr[mid]==target:\n",
    "            return mid          \n",
    "        if arr[low]<=arr[mid]:\n",
    "            if arr[low]<=target<=arr[mid]:\n",
    "                high = mid - 1\n",
    "            else:\n",
    "                low = mid + 1\n",
    "        if arr[mid] <= arr[high]:\n",
    "            if arr[mid]<=target<=arr[high]:\n",
    "                low = mid + 1\n",
    "            else:\n",
    "                high = mid - 1\n",
    "    return -1\n",
    "\n",
    "arr = [7,8,9,1,2,3,4,5,6]\n",
    "target = 2\n",
    "ans = binary_search(arr,target)\n",
    "print(ans)"
   ]
  },
  {
   "cell_type": "code",
   "execution_count": 13,
   "metadata": {},
   "outputs": [
    {
     "name": "stdout",
     "output_type": "stream",
     "text": [
      "1\n"
     ]
    }
   ],
   "source": [
    "def binary_search(arr):\n",
    "    n = len(arr)\n",
    "    low = 0\n",
    "    high = n-1\n",
    "    mini = arr[0]\n",
    "    while low<=high:\n",
    "        mid = low + (high-low)//2\n",
    "        if arr[low]<=arr[mid]:\n",
    "            mini = min(mini,arr[low])\n",
    "            low = mid + 1\n",
    "        elif arr[mid]<=arr[high]:\n",
    "            mini = min(mini,arr[low])\n",
    "            high = mid - 1\n",
    "    return mini\n",
    "\n",
    "arr = [3,4,5,1,2]\n",
    "# arr = [4,5,6,7,0,1,2]\n",
    "# arr = [11,13,15,17]\n",
    "ans = binary_search(arr)\n",
    "print(ans)"
   ]
  },
  {
   "cell_type": "code",
   "execution_count": 14,
   "metadata": {},
   "outputs": [
    {
     "name": "stdout",
     "output_type": "stream",
     "text": [
      "5\n"
     ]
    }
   ],
   "source": [
    "def binary_search(arr):\n",
    "    n = len(arr)\n",
    "    low = 0\n",
    "    high = n-1\n",
    "    maxi = arr[0]\n",
    "    while low<=high:\n",
    "        mid = low + (high-low)//2\n",
    "        if arr[low]<=arr[mid]:\n",
    "            maxi = max(maxi,arr[mid])\n",
    "            low = mid + 1\n",
    "        elif arr[mid]<=arr[high]:\n",
    "            maxi = max(maxi,arr[high])\n",
    "            high = mid - 1\n",
    "    return maxi\n",
    "\n",
    "arr = [3,4,5,1,2]\n",
    "# arr = [4,5,6,7,0,1,2]\n",
    "# arr = [11,13,15,17]\n",
    "ans = binary_search(arr)\n",
    "print(ans)"
   ]
  },
  {
   "cell_type": "code",
   "execution_count": 15,
   "metadata": {},
   "outputs": [
    {
     "name": "stdout",
     "output_type": "stream",
     "text": [
      "(1, 3)\n"
     ]
    }
   ],
   "source": [
    "def binary_search(arr):\n",
    "    n = len(arr)\n",
    "    low = 0\n",
    "    high = n-1\n",
    "    mini = arr[0]\n",
    "    mini_ind = 0\n",
    "    while low<=high:\n",
    "        mid = low + (high-low)//2\n",
    "        if arr[low]<=arr[mid]:\n",
    "            if arr[low]<mini:\n",
    "                mini_ind = low\n",
    "                mini = arr[low]\n",
    "            low = mid + 1\n",
    "        elif arr[mid]<=arr[high]:\n",
    "            if arr[mid]<mini:\n",
    "                mini = arr[mid]\n",
    "                mini_ind = mid\n",
    "            high = mid - 1\n",
    "    return mini,mini_ind\n",
    "\n",
    "arr = [3,4,5,1,2]\n",
    "# arr = [4,5,6,7,0,1,2]\n",
    "# arr = [11,13,15,17]\n",
    "ans = binary_search(arr)\n",
    "print(ans)"
   ]
  },
  {
   "cell_type": "code",
   "execution_count": 16,
   "metadata": {},
   "outputs": [
    {
     "name": "stdout",
     "output_type": "stream",
     "text": [
      "3 2\n"
     ]
    }
   ],
   "source": [
    "arr = [1,2,1,3,5,6,4]\n",
    "arr = [1,2,3,1]\n",
    "n = len(arr)\n",
    "maxi = 0\n",
    "ans = 0\n",
    "for i in range(n//2):\n",
    "    if arr[i]>maxi:\n",
    "        ans=i\n",
    "        maxi = arr[i]\n",
    "    if arr[n-1-i]>maxi:\n",
    "        maxi = arr[n-1-i]\n",
    "        ans = n-1-i\n",
    "    # print(maxi)\n",
    "print(maxi,ans)"
   ]
  },
  {
   "cell_type": "code",
   "execution_count": 17,
   "metadata": {},
   "outputs": [
    {
     "name": "stdout",
     "output_type": "stream",
     "text": [
      "7\n"
     ]
    }
   ],
   "source": [
    "arr = [0,0,1,1,2,2,3,3,4,4,5,5,6,6,7]\n",
    "n = len(arr)\n",
    "ans = -1\n",
    "for i in range(n):\n",
    "    if i==0:\n",
    "        if arr[i]!=arr[i+1]:\n",
    "            ans = arr[i]\n",
    "    elif i==n-1:\n",
    "        if arr[i]!=arr[i-1]:\n",
    "            ans = arr[i]\n",
    "    else:\n",
    "        if arr[i]!=arr[i+1] and arr[i]!=arr[i-1]:\n",
    "            ans = arr[i]\n",
    "print(ans)"
   ]
  },
  {
   "cell_type": "code",
   "execution_count": 18,
   "metadata": {},
   "outputs": [
    {
     "name": "stdout",
     "output_type": "stream",
     "text": [
      "7\n"
     ]
    }
   ],
   "source": [
    "arr = [0,0,1,1,2,2,3,3,4,4,5,5,6,6,7]\n",
    "n = len(arr)\n",
    "low = 1\n",
    "high = n - 2\n",
    "ans = 0\n",
    "if arr[0]!=arr[1]:\n",
    "    ans = arr[0]\n",
    "if arr[n-1]!=arr[n-2]:\n",
    "    ans = arr[n-1]\n",
    "while low<=high:\n",
    "    mid = low + (high - low)//2\n",
    "    if arr[mid]!=arr[mid-1] and arr[mid]!=arr[mid+1]:\n",
    "        ans = arr[mid]\n",
    "        break\n",
    "    if (mid%2==1 and arr[mid]==arr[mid-1]) or (mid%2==0 and arr[mid]==arr[mid+1]):\n",
    "        low = mid + 1\n",
    "    else:\n",
    "        high = mid - 1\n",
    "print(ans)"
   ]
  },
  {
   "cell_type": "code",
   "execution_count": 19,
   "metadata": {},
   "outputs": [
    {
     "name": "stdout",
     "output_type": "stream",
     "text": [
      "8\n"
     ]
    }
   ],
   "source": [
    "arr = [1,2,3,3,4,5,6,7,8]\n",
    "n = len(arr)\n",
    "ans = -1\n",
    "for i in range(n):\n",
    "    if i==0 and arr[i]>arr[i+1]:\n",
    "        ans = arr[i]\n",
    "    elif i==n-1 and arr[i]>arr[i-1]:\n",
    "        ans = arr[i]\n",
    "    elif arr[i-1]<arr[i]>arr[i+1]:\n",
    "        ans = arr[i]\n",
    "print(ans)"
   ]
  },
  {
   "cell_type": "code",
   "execution_count": 20,
   "metadata": {},
   "outputs": [
    {
     "name": "stdout",
     "output_type": "stream",
     "text": [
      "9\n"
     ]
    }
   ],
   "source": [
    "arr = [9,1,2,3,3,4,5,6,7,8,5,1]\n",
    "# arr = [1,2,1,3,5,6,4]\n",
    "n = len(arr)\n",
    "ans = -1\n",
    "if n == 1:\n",
    "    ans = arr[0]\n",
    "if arr[0]>arr[1]:\n",
    "    ans = arr[0]\n",
    "if arr[n-1]>arr[n-2]:\n",
    "    ans = arr[n-1]\n",
    "low = 1\n",
    "high = n - 2\n",
    "while low<=high:\n",
    "    mid = low + (high - low)//2\n",
    "    if arr[mid-1]<arr[mid]>arr[mid+1]:\n",
    "        if ans<arr[mid]:\n",
    "            ans = arr[mid]\n",
    "        break\n",
    "    elif arr[mid]<arr[mid+1]:\n",
    "        low = mid + 1\n",
    "    elif arr[mid-1]>arr[mid]:\n",
    "        high = mid - 1\n",
    "print(ans)"
   ]
  },
  {
   "cell_type": "code",
   "execution_count": 21,
   "metadata": {},
   "outputs": [
    {
     "name": "stdout",
     "output_type": "stream",
     "text": [
      "1\n",
      "(4, 5)\n"
     ]
    }
   ],
   "source": [
    "import sys\n",
    "target = 7\n",
    "arr = [2,3,1,2,4,3]\n",
    "mini = sys.maxsize\n",
    "ans = sys.maxsize\n",
    "n = len(arr)\n",
    "ind = None\n",
    "for i in range(n):\n",
    "    summ = 0\n",
    "    for j in range(i,n):\n",
    "        summ+=arr[j]\n",
    "        if summ>=target:\n",
    "            ans = min(j-i,ans)\n",
    "            ind = (i,j)\n",
    "print(ans)\n",
    "print(ind)"
   ]
  },
  {
   "cell_type": "code",
   "execution_count": 78,
   "metadata": {},
   "outputs": [
    {
     "name": "stdout",
     "output_type": "stream",
     "text": [
      "3\n"
     ]
    }
   ],
   "source": [
    "arr = [0,1,3,5,6]\n",
    "# arr = [1,2,100]\n",
    "arr = [1,1]\n",
    "arr = [1, 2, 3, 5, 8, 9]\n",
    "\n",
    "def is_possible(arr,h):\n",
    "    c = 0\n",
    "    n_papers = len(arr)\n",
    "    for ind,num in enumerate(arr):\n",
    "        if num>=h and n_papers>=h:\n",
    "            return True\n",
    "        n_papers-=1\n",
    "    return False\n",
    "low = 1\n",
    "high = max(arr)\n",
    "ans = 0\n",
    "while low<=high:\n",
    "    mid = low + (high - low)//2\n",
    "    if is_possible(arr,mid):\n",
    "        low = mid + 1\n",
    "        ans = mid\n",
    "    else:\n",
    "        high = mid - 1 \n",
    "print(ans)\n",
    "# is_possible(arr,1)"
   ]
  }
 ],
 "metadata": {
  "kernelspec": {
   "display_name": "Python 3",
   "language": "python",
   "name": "python3"
  },
  "language_info": {
   "codemirror_mode": {
    "name": "ipython",
    "version": 3
   },
   "file_extension": ".py",
   "mimetype": "text/x-python",
   "name": "python",
   "nbconvert_exporter": "python",
   "pygments_lexer": "ipython3",
   "version": "3.12.3"
  }
 },
 "nbformat": 4,
 "nbformat_minor": 2
}
