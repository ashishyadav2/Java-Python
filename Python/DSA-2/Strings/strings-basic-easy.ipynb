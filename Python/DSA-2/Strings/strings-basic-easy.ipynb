{
 "cells": [
  {
   "cell_type": "code",
   "execution_count": 1,
   "metadata": {},
   "outputs": [
    {
     "name": "stdout",
     "output_type": "stream",
     "text": [
      "()()()\n"
     ]
    }
   ],
   "source": [
    "s = \"(()())(())\"\n",
    "stack = []\n",
    "ans = []\n",
    "for char in s:\n",
    "    if char=='(':\n",
    "        if len(stack)>0:\n",
    "            ans.append(char)\n",
    "        stack.append(char)\n",
    "    if char==')':\n",
    "        stack.pop(-1)\n",
    "        if len(stack)>0:\n",
    "            ans.append(char)\n",
    "print(\"\".join(ans))"
   ]
  },
  {
   "cell_type": "code",
   "execution_count": 2,
   "metadata": {},
   "outputs": [
    {
     "name": "stdout",
     "output_type": "stream",
     "text": [
      "0 2\n",
      "1 3\n",
      "2 4\n"
     ]
    }
   ],
   "source": [
    "s = \"abcde\"\n",
    "goal = \"cdeab\"\n",
    "\n",
    "start = s[0]\n",
    "n = len(s)\n",
    "ind = 0\n",
    "for i,char in enumerate(goal):\n",
    "    if char==start:\n",
    "        ind = i\n",
    "        break\n",
    "counter = 0\n",
    "j = 0\n",
    "for i in range(ind,n):\n",
    "    if goal[i]==s[j]:\n",
    "        counter+=1\n",
    "    j+=1\n",
    "for i in range(ind):\n",
    "    if goal[i]==s[j]:\n",
    "        counter+=1\n",
    "    print(i,j)\n",
    "    j+=1"
   ]
  },
  {
   "cell_type": "code",
   "execution_count": 3,
   "metadata": {},
   "outputs": [
    {
     "name": "stdout",
     "output_type": "stream",
     "text": [
      "False\n",
      "{'e': 'a', 'g': 'd'}\n",
      "{'a': 'e', 'd': 'g'}\n"
     ]
    }
   ],
   "source": [
    "s = \"egg\"\n",
    "t = \"adp\"\n",
    "\n",
    "smap = {}\n",
    "tmap = {}\n",
    "s_len = len(s)\n",
    "t_len = len(t)\n",
    "for i in range(s_len):\n",
    "    if smap.get(s[i],0)==0 and tmap.get(t[i],0)==0:\n",
    "        smap[s[i]] = t[i]\n",
    "        tmap[t[i]] = s[i]        \n",
    "    elif smap.get(s[i],\"\") != tmap.get(t[i],\"\") and tmap.get(t[i],\"\")!=smap.get(s[i],\"\"):\n",
    "        print(False)\n",
    "        break\n",
    "else:\n",
    "    print(True)\n",
    "print(smap)\n",
    "print(tmap)\n",
    "\n"
   ]
  },
  {
   "cell_type": "code",
   "execution_count": 4,
   "metadata": {},
   "outputs": [
    {
     "name": "stdout",
     "output_type": "stream",
     "text": [
      "['flower', 'flower', 'flower']\n",
      "flower\n"
     ]
    }
   ],
   "source": [
    "strs = [\"flower\",\"flower\",\"flower\"]\n",
    "# strs = [\"dog\",\"racecar\",\"car\"]\n",
    "print(sorted(strs))\n",
    "def fun(strs):\n",
    "    j = 0\n",
    "    ans = \"\"\n",
    "    for i in range(len(strs[0])):\n",
    "        for s in strs:\n",
    "            if i==len(s) or s[i]!=strs[0][i]:\n",
    "                return ans\n",
    "        ans+=strs[0][i]\n",
    "    return ans\n",
    "print(fun(strs))\n",
    "\n",
    "# strs = sorted(strs)\n",
    "# ans = \"\"\n",
    "# start = strs[0]\n",
    "# end = strs[-1]\n",
    "# for i in range(min(len(start),len(end))):\n",
    "#     if start[i]==end[i]:\n",
    "#         ans+=start[i]\n",
    "#     else:\n",
    "#         break\n",
    "# print(ans)"
   ]
  },
  {
   "cell_type": "code",
   "execution_count": null,
   "metadata": {},
   "outputs": [],
   "source": []
  }
 ],
 "metadata": {
  "kernelspec": {
   "display_name": "base",
   "language": "python",
   "name": "python3"
  },
  "language_info": {
   "codemirror_mode": {
    "name": "ipython",
    "version": 3
   },
   "file_extension": ".py",
   "mimetype": "text/x-python",
   "name": "python",
   "nbconvert_exporter": "python",
   "pygments_lexer": "ipython3",
   "version": "3.12.3"
  }
 },
 "nbformat": 4,
 "nbformat_minor": 2
}
