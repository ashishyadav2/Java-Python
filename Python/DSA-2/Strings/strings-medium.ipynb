{
 "cells": [
  {
   "cell_type": "code",
   "execution_count": 254,
   "metadata": {},
   "outputs": [
    {
     "name": "stdout",
     "output_type": "stream",
     "text": [
      "{'t': 1, 'r': 2, 'e': 2}\n",
      "rreet\n"
     ]
    }
   ],
   "source": [
    "s = \"trree\"\n",
    "# s = \"cccaaa\"\n",
    "# s = \"Aabb\"\n",
    "hmap = {}\n",
    "for char in s:\n",
    "    if char in hmap:\n",
    "        hmap[char]+=1\n",
    "    else:\n",
    "        hmap[char] = 1\n",
    "print(hmap)\n",
    "ans = \"\"\n",
    "for key,val in sorted(hmap.items(),key= lambda x: x[1],reverse= True):\n",
    "    ans += key*val\n",
    "print(ans) "
   ]
  },
  {
   "cell_type": "code",
   "execution_count": 255,
   "metadata": {},
   "outputs": [],
   "source": [
    "from collections import Counter"
   ]
  },
  {
   "cell_type": "code",
   "execution_count": 256,
   "metadata": {},
   "outputs": [
    {
     "name": "stdout",
     "output_type": "stream",
     "text": [
      "[] 0\n",
      "['t'] 1\n",
      "['r', 'e'] 2\n",
      "[] 3\n",
      "[] 4\n",
      "[] 5\n",
      "rreet\n"
     ]
    }
   ],
   "source": [
    "cnt = Counter(s)\n",
    "n = len(s)\n",
    "buckets = [[] for _ in range(n+1)]\n",
    "for char,count in cnt.items():\n",
    "    buckets[count].append(char)\n",
    "\n",
    "for i,b in enumerate(buckets):\n",
    "    print(b,i)\n",
    "    \n",
    "ans = []\n",
    "for count in range(n,-1,-1):\n",
    "    for char in buckets[count]:\n",
    "        ans.append(char*count)\n",
    "print(\"\".join(ans))\n"
   ]
  },
  {
   "cell_type": "code",
   "execution_count": 257,
   "metadata": {},
   "outputs": [
    {
     "name": "stdout",
     "output_type": "stream",
     "text": [
      "1994\n"
     ]
    }
   ],
   "source": [
    "s = \"MCMXCIV\"\n",
    "\n",
    "hmap = {\n",
    "    \"I\":1,\n",
    "    \"V\":5,\n",
    "    \"X\":10,\n",
    "    \"L\":50,\n",
    "    \"C\":100,\n",
    "    \"D\":500,\n",
    "    \"M\":1000\n",
    "    }\n",
    "\n",
    "ans = 0\n",
    "\n",
    "# hmap = dict(sorted(hmap.items(),key=lambda x: x[1],reverse= True))\n",
    "# print(hmap)\n",
    "\n",
    "for i in range(len(s)):\n",
    "    curr = s[i]\n",
    "    if i+1<len(s) and hmap[s[i]]<hmap[s[i+1]]:\n",
    "        ans -= hmap[curr]\n",
    "    else:\n",
    "        ans += hmap[curr]\n",
    "    # print(ans)\n",
    "    \n",
    "print(ans)"
   ]
  },
  {
   "cell_type": "code",
   "execution_count": 258,
   "metadata": {},
   "outputs": [
    {
     "name": "stdout",
     "output_type": "stream",
     "text": [
      "MMMDCCXLIX\n"
     ]
    }
   ],
   "source": [
    "hmap = {1000: 'M', \n",
    "        900: 'CM',\n",
    "        500: 'D', \n",
    "        400: 'CD',\n",
    "        100: 'C',\n",
    "        90: 'XC',\n",
    "        50: 'L', \n",
    "        40: 'XL',\n",
    "        10: 'X', \n",
    "        9: 'IX',\n",
    "        5: 'V', \n",
    "        4: 'IV',\n",
    "        1: 'I'}\n",
    "\n",
    "num = 3749\n",
    "ans = \"\"\n",
    "for key ,val in hmap.items():\n",
    "    while num>=key:\n",
    "        ans += val\n",
    "        num-=key\n",
    "print(ans)"
   ]
  },
  {
   "cell_type": "code",
   "execution_count": 259,
   "metadata": {},
   "outputs": [
    {
     "data": {
      "text/plain": [
       "123"
      ]
     },
     "execution_count": 259,
     "metadata": {},
     "output_type": "execute_result"
    }
   ],
   "source": [
    "s = \"21474836460\"\n",
    "s = \"   +0 123\"\n",
    "s = \"123-\"\n",
    "def func(s):\n",
    "    n = len(s)\n",
    "    s = s.strip()\n",
    "    is_neg = False\n",
    "    found_symbol = 0\n",
    "    ans = 0\n",
    "    if n<1:\n",
    "        return 0\n",
    "    for ind,char in enumerate(s):\n",
    "        if char.isspace():\n",
    "            if ind>0:\n",
    "                break\n",
    "            continue\n",
    "        elif char.isdigit():\n",
    "            ans= ans*10+int(char)\n",
    "        elif char == \"-\":\n",
    "            if ind>0:\n",
    "                break\n",
    "            is_neg = True\n",
    "            found_symbol += 1\n",
    "        elif char == \"+\":\n",
    "            if ind>0:\n",
    "                break              \n",
    "            found_symbol += 1 \n",
    "        elif found_symbol>1:\n",
    "            break\n",
    "        else:\n",
    "            break\n",
    "    if is_neg:\n",
    "        ans*=-1\n",
    "    if ans>2**31-1:\n",
    "        return 2**31-1\n",
    "    elif ans<-2**31:\n",
    "        return -2**31\n",
    "    return ans\n",
    "\n",
    "func(s)\n",
    "    "
   ]
  },
  {
   "cell_type": "code",
   "execution_count": 260,
   "metadata": {},
   "outputs": [
    {
     "name": "stdout",
     "output_type": "stream",
     "text": [
      "21\n",
      "14\n",
      "7\n"
     ]
    }
   ],
   "source": [
    "s = \"abaaca\"\n",
    "k = 1\n",
    "\n",
    "# s = \"aba\"\n",
    "# k = 2\n",
    "\n",
    "# s = \"cabbcdabdd\"\n",
    "# k = 3\n",
    "\n",
    "# s = \"cdad\"\n",
    "# k = 4\n",
    "def fun(s,k):\n",
    "    char_map = [0 for _ in range(26+1)]\n",
    "    n = len(s)\n",
    "    count = 0\n",
    "    j = 0\n",
    "    distinct = 0\n",
    "    for i in range(n):\n",
    "        while j<n and distinct<k:\n",
    "            char_map[ord(s[j])-97]+=1\n",
    "            if char_map[ord(s[j])-97]==1:\n",
    "                distinct+=1\n",
    "            j+=1\n",
    "        if distinct>=k:\n",
    "            count += (n-j+1)\n",
    "        \n",
    "        char_map[ord(s[i])-97]-=1\n",
    "        if char_map[ord(s[i])-97]==0:\n",
    "            distinct-=1    \n",
    "    return count\n",
    "print(fun(s,k))\n",
    "print(fun(s,k+1))\n",
    "print(fun(s,k)-fun(s,k+1))\n",
    "    "
   ]
  },
  {
   "cell_type": "code",
   "execution_count": 261,
   "metadata": {},
   "outputs": [
    {
     "name": "stdout",
     "output_type": "stream",
     "text": [
      "21\n",
      "12\n",
      "9\n"
     ]
    }
   ],
   "source": [
    "s = \"abaaca\"\n",
    "k = 1\n",
    "\n",
    "# s = \"aba\"\n",
    "# k = 2\n",
    "\n",
    "# s = \"cabbcdabdd\"\n",
    "# k = 3\n",
    "\n",
    "# s = \"cdad\"\n",
    "# k = 4\n",
    "def fun(s,k):\n",
    "    st = set()\n",
    "    n = len(s)\n",
    "    count = 0\n",
    "    j = 0\n",
    "    distinct = 0\n",
    "    for i in range(n):\n",
    "        while j<n and len(st)<k:\n",
    "            st.add(s[j])\n",
    "            j+=1\n",
    "        if len(st)>=k:\n",
    "            count += (n-j+1)\n",
    "        if s[i] in st:\n",
    "            st.discard(s[i])  \n",
    "    return count\n",
    "print(fun(s,k))\n",
    "print(fun(s,k+1))\n",
    "print(fun(s,k)-fun(s,k+1))\n",
    "    "
   ]
  },
  {
   "cell_type": "code",
   "execution_count": 262,
   "metadata": {},
   "outputs": [
    {
     "name": "stdout",
     "output_type": "stream",
     "text": [
      "1 1 0\n",
      "2 2 0\n",
      "2 1 1\n",
      "2 1 1\n",
      "2 1 1\n",
      "1 1 0\n",
      "1 1 0\n",
      "1 1 0\n",
      "2 1 1\n",
      "1 1 0\n",
      "1 1 0\n",
      "2 1 1\n",
      "1 1 0\n",
      "1 1 0\n",
      "1 1 0\n",
      "5\n"
     ]
    }
   ],
   "source": [
    "s = \"aabcb\"\n",
    "summ = 0\n",
    "n = len(s)\n",
    "summ = 0\n",
    "for i in range(n):\n",
    "    for j in range(i,n):\n",
    "        cnt = Counter(s[i:j+1])\n",
    "        maxi = cnt.most_common()[0][1]\n",
    "        mini = cnt.most_common()[-1][1]\n",
    "        summ += maxi-mini\n",
    "        print(maxi,mini,maxi-mini)\n",
    "print(summ)"
   ]
  },
  {
   "cell_type": "code",
   "execution_count": 270,
   "metadata": {},
   "outputs": [
    {
     "name": "stdout",
     "output_type": "stream",
     "text": [
      "17\n"
     ]
    }
   ],
   "source": [
    "s = \"aabcb\"\n",
    "s = \"aabcbaa\"\n",
    "n = len(s)\n",
    "summ = 0\n",
    "for i in range(n):\n",
    "    char_map = [0 for _ in range(26+1)]\n",
    "    maxi = -501\n",
    "    mini = 501\n",
    "    for j in range(i,n):\n",
    "        temp = ord(s[j])-97\n",
    "        char_map[temp]+=1\n",
    "        maxi = max(maxi,char_map[temp])\n",
    "        non_zero_count = [count for count in char_map if count>0]\n",
    "        mini = min(non_zero_count)\n",
    "        # mini = min(mini,char_map[temp])\n",
    "        # print(s[i:j+1])\n",
    "        # print(maxi,mini,maxi-mini)\n",
    "        summ += (maxi-mini)\n",
    "\n",
    "print(summ)"
   ]
  },
  {
   "cell_type": "code",
   "execution_count": null,
   "metadata": {},
   "outputs": [],
   "source": []
  }
 ],
 "metadata": {
  "kernelspec": {
   "display_name": "base",
   "language": "python",
   "name": "python3"
  },
  "language_info": {
   "codemirror_mode": {
    "name": "ipython",
    "version": 3
   },
   "file_extension": ".py",
   "mimetype": "text/x-python",
   "name": "python",
   "nbconvert_exporter": "python",
   "pygments_lexer": "ipython3",
   "version": "3.12.3"
  }
 },
 "nbformat": 4,
 "nbformat_minor": 2
}
