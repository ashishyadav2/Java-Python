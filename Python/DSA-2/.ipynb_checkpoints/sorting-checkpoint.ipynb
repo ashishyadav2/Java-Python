{
 "cells": [
  {
   "cell_type": "markdown",
   "metadata": {},
   "source": [
    "## Selection Sort"
   ]
  },
  {
   "cell_type": "code",
   "execution_count": 16,
   "metadata": {},
   "outputs": [],
   "source": [
    "arr = [13,46,24,52,20,9]\n",
    "n = len(arr)"
   ]
  },
  {
   "cell_type": "code",
   "execution_count": 17,
   "metadata": {},
   "outputs": [
    {
     "name": "stdout",
     "output_type": "stream",
     "text": [
      "[9, 13, 20, 24, 46, 52]\n"
     ]
    }
   ],
   "source": [
    "def selection_sort(arr,n):\n",
    "    for i in range(n):\n",
    "        mini_idx = i\n",
    "        for j in range(i,n):\n",
    "            if arr[j]<arr[mini_idx]:\n",
    "                mini_idx = j\n",
    "        temp = arr[i]\n",
    "        arr[i] = arr[mini_idx]\n",
    "        arr[mini_idx] = temp\n",
    "    print(arr)\n",
    "selection_sort(arr,n)"
   ]
  },
  {
   "cell_type": "markdown",
   "metadata": {},
   "source": [
    "## Bubble Sort"
   ]
  },
  {
   "cell_type": "code",
   "execution_count": 19,
   "metadata": {},
   "outputs": [
    {
     "name": "stdout",
     "output_type": "stream",
     "text": [
      "[9, 13, 20, 24, 46, 52]\n"
     ]
    }
   ],
   "source": [
    "def bubble_sort(arr,n):\n",
    "    for i in range(n):\n",
    "        for j in range(n-1-i):\n",
    "            if arr[j]>arr[j+1]:\n",
    "                temp = arr[j]\n",
    "                arr[j] = arr[j+1]\n",
    "                arr[j+1] = temp            \n",
    "    print(arr)\n",
    "bubble_sort(arr,n)"
   ]
  },
  {
   "cell_type": "markdown",
   "metadata": {},
   "source": [
    "## Insertion Sort"
   ]
  },
  {
   "cell_type": "code",
   "execution_count": 20,
   "metadata": {},
   "outputs": [
    {
     "name": "stdout",
     "output_type": "stream",
     "text": [
      "[9, 13, 20, 24, 46, 52]\n"
     ]
    }
   ],
   "source": [
    "def insertion_sort(arr,n):\n",
    "    for i in range(n):\n",
    "        j = i\n",
    "        while j>0 and arr[j-1]>arr[j]:\n",
    "            temp = arr[j-1]\n",
    "            arr[j-1] = arr[j]\n",
    "            arr[j] = temp\n",
    "    print(arr)\n",
    "insertion_sort(arr,n)"
   ]
  },
  {
   "cell_type": "markdown",
   "metadata": {},
   "source": [
    "## Merge Sort"
   ]
  },
  {
   "cell_type": "code",
   "execution_count": null,
   "metadata": {},
   "outputs": [],
   "source": [
    "def merge_sort(arr,low,high):\n",
    "    if low>=high:\n",
    "        return\n",
    "    mid = low + (high-low)//2\n",
    "    merge_sort(arr,low,mid)\n",
    "    merge_sort(arr,mid+1,high)\n",
    "    return merge(arr,low,mid,high)\n",
    "    \n",
    "def merge(arr,low,mid,high):\n",
    "    size = high-low\n",
    "    new_arr = [0]*size\n",
    "    idx = mid+1\n",
    "    while low<=mid and idx<=high:\n",
    "        if arr[low]<=arr[idx]:\n",
    "            low+=1\n",
    "        else:\n",
    "            idx+=1\n",
    "            \n",
    "    while low<=mid:\n",
    "        low+=1\n",
    "        \n",
    "    while idx<=high:\n",
    "        high+=1\n",
    "            \n",
    "    return new_arr\n",
    "arr = [3,2,4,1,3]\n",
    "n =len(arr)\n",
    "merge_sort(arr,0,n-1)\n",
    "print(arr)"
   ]
  }
 ],
 "metadata": {
  "kernelspec": {
   "display_name": "Python 3",
   "language": "python",
   "name": "python3"
  },
  "language_info": {
   "codemirror_mode": {
    "name": "ipython",
    "version": 3
   },
   "file_extension": ".py",
   "mimetype": "text/x-python",
   "name": "python",
   "nbconvert_exporter": "python",
   "pygments_lexer": "ipython3",
   "version": "3.12.3"
  }
 },
 "nbformat": 4,
 "nbformat_minor": 2
}
