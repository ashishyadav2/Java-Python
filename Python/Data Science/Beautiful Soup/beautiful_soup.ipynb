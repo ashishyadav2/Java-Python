{
 "cells": [
  {
   "cell_type": "code",
   "execution_count": 111,
   "id": "720aebcc",
   "metadata": {},
   "outputs": [],
   "source": [
    "from bs4 import BeautifulSoup\n",
    "import requests\n",
    "import re\n",
    "import pandas as pd"
   ]
  },
  {
   "cell_type": "code",
   "execution_count": 112,
   "id": "df2869d0",
   "metadata": {},
   "outputs": [],
   "source": [
    "title = []\n",
    "price = []\n",
    "review = []\n",
    "desc = []"
   ]
  },
  {
   "cell_type": "code",
   "execution_count": 113,
   "id": "dea7ba90",
   "metadata": {},
   "outputs": [],
   "source": [
    "for i in range(1,60):\n",
    "    url = f'https://www.flipkart.com/search?q=laptops&otracker=search&otracker1=search&marketplace=FLIPKART&as-show=on&as=off&page={i}'\n",
    "    response = requests.get(url)\n",
    "    soup = BeautifulSoup(response.content,'html.parser')\n",
    "    body = soup.find(\"div\", class_=\"_1YokD2 _3Mn1Gg\")\n",
    "    title += body.find_all(\"div\", class_ = \"_4rR01T\")\n",
    "    price += body.find_all(\"div\", class_ = \"_30jeq3 _1_WHN1\")\n",
    "    review += body.find_all(\"div\", class_=\"_3LWZlK\")\n",
    "    desc += body.find_all(\"ul\",class_=\"_1xgFaf\")"
   ]
  },
  {
   "cell_type": "code",
   "execution_count": 114,
   "id": "32131a5e",
   "metadata": {
    "scrolled": true
   },
   "outputs": [],
   "source": [
    "title = list(map(lambda x: x.text,title))"
   ]
  },
  {
   "cell_type": "code",
   "execution_count": 115,
   "id": "4e89d610",
   "metadata": {},
   "outputs": [],
   "source": [
    "price = list(map(lambda x: int(re.sub(r'[₹,]','',x.text)),price))"
   ]
  },
  {
   "cell_type": "code",
   "execution_count": 116,
   "id": "5702b3da",
   "metadata": {},
   "outputs": [],
   "source": [
    "review = list(map(lambda x: float(x.text),review))"
   ]
  },
  {
   "cell_type": "code",
   "execution_count": 117,
   "id": "31e04349",
   "metadata": {},
   "outputs": [],
   "source": [
    "desc = list(map(lambda x: x.text,desc))"
   ]
  },
  {
   "cell_type": "code",
   "execution_count": 118,
   "id": "e043a740",
   "metadata": {},
   "outputs": [],
   "source": [
    "import numpy as np"
   ]
  },
  {
   "cell_type": "code",
   "execution_count": 119,
   "id": "3ea612b5",
   "metadata": {},
   "outputs": [
    {
     "data": {
      "text/plain": [
       "4.2"
      ]
     },
     "execution_count": 119,
     "metadata": {},
     "output_type": "execute_result"
    }
   ],
   "source": [
    "temp = round(np.array(review).mean(),1)\n",
    "temp"
   ]
  },
  {
   "cell_type": "code",
   "execution_count": 120,
   "id": "d15a9259",
   "metadata": {},
   "outputs": [],
   "source": [
    "while len(review)<984:\n",
    "    review.append(temp)"
   ]
  },
  {
   "cell_type": "code",
   "execution_count": 121,
   "id": "a14ff2d6",
   "metadata": {},
   "outputs": [],
   "source": [
    "df = pd.DataFrame({\"title\":title,\"price\":price,\"rating\":review,\"desc\":desc})"
   ]
  },
  {
   "cell_type": "code",
   "execution_count": 122,
   "id": "7e55e48f",
   "metadata": {},
   "outputs": [
    {
     "data": {
      "text/html": [
       "<div>\n",
       "<style scoped>\n",
       "    .dataframe tbody tr th:only-of-type {\n",
       "        vertical-align: middle;\n",
       "    }\n",
       "\n",
       "    .dataframe tbody tr th {\n",
       "        vertical-align: top;\n",
       "    }\n",
       "\n",
       "    .dataframe thead th {\n",
       "        text-align: right;\n",
       "    }\n",
       "</style>\n",
       "<table border=\"1\" class=\"dataframe\">\n",
       "  <thead>\n",
       "    <tr style=\"text-align: right;\">\n",
       "      <th></th>\n",
       "      <th>title</th>\n",
       "      <th>price</th>\n",
       "      <th>rating</th>\n",
       "      <th>desc</th>\n",
       "    </tr>\n",
       "  </thead>\n",
       "  <tbody>\n",
       "    <tr>\n",
       "      <th>0</th>\n",
       "      <td>Acer One Core i3 11th Gen - (8 GB/256 GB SSD/W...</td>\n",
       "      <td>29990</td>\n",
       "      <td>4.1</td>\n",
       "      <td>Intel Core i3 Processor (11th Gen)8 GB DDR4 RA...</td>\n",
       "    </tr>\n",
       "    <tr>\n",
       "      <th>1</th>\n",
       "      <td>Acer One Core i3 11th Gen - (8 GB/512 GB SSD/W...</td>\n",
       "      <td>31990</td>\n",
       "      <td>4.1</td>\n",
       "      <td>Intel Core i3 Processor (11th Gen)8 GB DDR4 RA...</td>\n",
       "    </tr>\n",
       "    <tr>\n",
       "      <th>2</th>\n",
       "      <td>APPLE 2020 Macbook Air M1 - (8 GB/256 GB SSD/M...</td>\n",
       "      <td>81990</td>\n",
       "      <td>4.7</td>\n",
       "      <td>Apple M1 Processor8 GB DDR4 RAMMac OS Operatin...</td>\n",
       "    </tr>\n",
       "    <tr>\n",
       "      <th>3</th>\n",
       "      <td>ASUS Vivobook 15 Core i3 11th Gen - (8 GB/512 ...</td>\n",
       "      <td>34990</td>\n",
       "      <td>4.2</td>\n",
       "      <td>Intel Core i3 Processor (11th Gen)8 GB DDR4 RA...</td>\n",
       "    </tr>\n",
       "    <tr>\n",
       "      <th>4</th>\n",
       "      <td>Lenovo Intel Celeron Dual Core - (8 GB/256 GB ...</td>\n",
       "      <td>28490</td>\n",
       "      <td>4.1</td>\n",
       "      <td>Intel Celeron Dual Core Processor8 GB DDR4 RAM...</td>\n",
       "    </tr>\n",
       "    <tr>\n",
       "      <th>...</th>\n",
       "      <td>...</td>\n",
       "      <td>...</td>\n",
       "      <td>...</td>\n",
       "      <td>...</td>\n",
       "    </tr>\n",
       "    <tr>\n",
       "      <th>979</th>\n",
       "      <td>ASUS Vivobook Pro 15 OLED Core i5 12th Gen - (...</td>\n",
       "      <td>89990</td>\n",
       "      <td>4.2</td>\n",
       "      <td>Intel Core i5 Processor (12th Gen)16 GB LPDDR5...</td>\n",
       "    </tr>\n",
       "    <tr>\n",
       "      <th>980</th>\n",
       "      <td>ASUS ZenBook 14 Ryzen 5 Hexa Core AMD Ryzen™ 5...</td>\n",
       "      <td>71490</td>\n",
       "      <td>4.2</td>\n",
       "      <td>AMD Ryzen 5 Hexa Core Processor (5th Gen)8 GB ...</td>\n",
       "    </tr>\n",
       "    <tr>\n",
       "      <th>981</th>\n",
       "      <td>DELL Vostro Ryzen 7 Octa Core 5825U - (16 GB/5...</td>\n",
       "      <td>71590</td>\n",
       "      <td>4.2</td>\n",
       "      <td>AMD Ryzen 7 Octa Core Processor16 GB DDR4 RAM6...</td>\n",
       "    </tr>\n",
       "    <tr>\n",
       "      <th>982</th>\n",
       "      <td>DELL Vostro Core i3 11th Gen - (8 GB/256 GB SS...</td>\n",
       "      <td>42690</td>\n",
       "      <td>4.2</td>\n",
       "      <td>Intel Core i3 Processor (11th Gen)8 GB DDR4 RA...</td>\n",
       "    </tr>\n",
       "    <tr>\n",
       "      <th>983</th>\n",
       "      <td>DELL Core i9 12th Gen - (16 GB/1 TB SSD/Window...</td>\n",
       "      <td>175018</td>\n",
       "      <td>4.2</td>\n",
       "      <td>Intel Core i9 Processor (12th Gen)16 GB DDR5 R...</td>\n",
       "    </tr>\n",
       "  </tbody>\n",
       "</table>\n",
       "<p>984 rows × 4 columns</p>\n",
       "</div>"
      ],
      "text/plain": [
       "                                                 title   price  rating  \\\n",
       "0    Acer One Core i3 11th Gen - (8 GB/256 GB SSD/W...   29990     4.1   \n",
       "1    Acer One Core i3 11th Gen - (8 GB/512 GB SSD/W...   31990     4.1   \n",
       "2    APPLE 2020 Macbook Air M1 - (8 GB/256 GB SSD/M...   81990     4.7   \n",
       "3    ASUS Vivobook 15 Core i3 11th Gen - (8 GB/512 ...   34990     4.2   \n",
       "4    Lenovo Intel Celeron Dual Core - (8 GB/256 GB ...   28490     4.1   \n",
       "..                                                 ...     ...     ...   \n",
       "979  ASUS Vivobook Pro 15 OLED Core i5 12th Gen - (...   89990     4.2   \n",
       "980  ASUS ZenBook 14 Ryzen 5 Hexa Core AMD Ryzen™ 5...   71490     4.2   \n",
       "981  DELL Vostro Ryzen 7 Octa Core 5825U - (16 GB/5...   71590     4.2   \n",
       "982  DELL Vostro Core i3 11th Gen - (8 GB/256 GB SS...   42690     4.2   \n",
       "983  DELL Core i9 12th Gen - (16 GB/1 TB SSD/Window...  175018     4.2   \n",
       "\n",
       "                                                  desc  \n",
       "0    Intel Core i3 Processor (11th Gen)8 GB DDR4 RA...  \n",
       "1    Intel Core i3 Processor (11th Gen)8 GB DDR4 RA...  \n",
       "2    Apple M1 Processor8 GB DDR4 RAMMac OS Operatin...  \n",
       "3    Intel Core i3 Processor (11th Gen)8 GB DDR4 RA...  \n",
       "4    Intel Celeron Dual Core Processor8 GB DDR4 RAM...  \n",
       "..                                                 ...  \n",
       "979  Intel Core i5 Processor (12th Gen)16 GB LPDDR5...  \n",
       "980  AMD Ryzen 5 Hexa Core Processor (5th Gen)8 GB ...  \n",
       "981  AMD Ryzen 7 Octa Core Processor16 GB DDR4 RAM6...  \n",
       "982  Intel Core i3 Processor (11th Gen)8 GB DDR4 RA...  \n",
       "983  Intel Core i9 Processor (12th Gen)16 GB DDR5 R...  \n",
       "\n",
       "[984 rows x 4 columns]"
      ]
     },
     "execution_count": 122,
     "metadata": {},
     "output_type": "execute_result"
    }
   ],
   "source": [
    "df"
   ]
  },
  {
   "cell_type": "code",
   "execution_count": 125,
   "id": "8b0e5d89",
   "metadata": {},
   "outputs": [],
   "source": [
    "df.to_csv('flipkart_laptop_listing_scrapped_data.csv',index=False)"
   ]
  },
  {
   "cell_type": "code",
   "execution_count": 133,
   "id": "b387aa8a",
   "metadata": {},
   "outputs": [],
   "source": [
    "import pandas as pd\n",
    "from bs4 import BeautifulSoup\n",
    "import requests"
   ]
  },
  {
   "cell_type": "code",
   "execution_count": 194,
   "id": "d61e1b93",
   "metadata": {},
   "outputs": [],
   "source": [
    "df = pd.read_csv('F:\\drive-download-20230618T024825Z-001\\Input.csv')"
   ]
  },
  {
   "cell_type": "code",
   "execution_count": 195,
   "id": "7923935c",
   "metadata": {},
   "outputs": [],
   "source": [
    "# url = df['URL'][0]\n",
    "# url"
   ]
  },
  {
   "cell_type": "code",
   "execution_count": 196,
   "id": "7c517924",
   "metadata": {},
   "outputs": [],
   "source": [
    "# res = requests.get(url)"
   ]
  },
  {
   "cell_type": "code",
   "execution_count": 197,
   "id": "d7c6da1d",
   "metadata": {},
   "outputs": [],
   "source": [
    "# soup = BeautifulSoup(res.content,'html.parser')"
   ]
  },
  {
   "cell_type": "code",
   "execution_count": 198,
   "id": "d517b931",
   "metadata": {},
   "outputs": [],
   "source": [
    "# title = soup.find('h1',class_ = \"tdb-title-text\").text or soup.find('h1',class_ = \"entry-title\").text\n",
    "# title"
   ]
  },
  {
   "cell_type": "code",
   "execution_count": 199,
   "id": "fb443460",
   "metadata": {},
   "outputs": [],
   "source": [
    "# article = soup.select(\".tdb-block-inner.td-fix-index p\") or soup.select(\".td-post-content.tagdiv-type p\")\n",
    "# article = ' '.join(list(map(lambda x: x.text,article)))"
   ]
  },
  {
   "cell_type": "code",
   "execution_count": 200,
   "id": "1a0af8b9",
   "metadata": {},
   "outputs": [],
   "source": [
    "title= []\n",
    "article = []"
   ]
  },
  {
   "cell_type": "code",
   "execution_count": 203,
   "id": "856676be",
   "metadata": {
    "scrolled": true
   },
   "outputs": [
    {
     "ename": "AttributeError",
     "evalue": "'str' object has no attribute 'text'",
     "output_type": "error",
     "traceback": [
      "\u001b[1;31m---------------------------------------------------------------------------\u001b[0m",
      "\u001b[1;31mAttributeError\u001b[0m                            Traceback (most recent call last)",
      "Cell \u001b[1;32mIn[203], line 8\u001b[0m\n\u001b[0;32m      6\u001b[0m         title \u001b[38;5;241m+\u001b[39m\u001b[38;5;241m=\u001b[39m temp\n\u001b[0;32m      7\u001b[0m     article \u001b[38;5;241m+\u001b[39m\u001b[38;5;241m=\u001b[39m soup\u001b[38;5;241m.\u001b[39mselect(\u001b[38;5;124m\"\u001b[39m\u001b[38;5;124m.tdb-block-inner.td-fix-index p\u001b[39m\u001b[38;5;124m\"\u001b[39m) \u001b[38;5;129;01mor\u001b[39;00m soup\u001b[38;5;241m.\u001b[39mselect(\u001b[38;5;124m\"\u001b[39m\u001b[38;5;124m.td-post-content.tagdiv-type p\u001b[39m\u001b[38;5;124m\"\u001b[39m)\n\u001b[1;32m----> 8\u001b[0m title \u001b[38;5;241m=\u001b[39m \u001b[38;5;28;43mlist\u001b[39;49m\u001b[43m(\u001b[49m\u001b[38;5;28;43mmap\u001b[39;49m\u001b[43m(\u001b[49m\u001b[38;5;28;43;01mlambda\u001b[39;49;00m\u001b[43m \u001b[49m\u001b[43mx\u001b[49m\u001b[43m:\u001b[49m\u001b[43mx\u001b[49m\u001b[38;5;241;43m.\u001b[39;49m\u001b[43mtext\u001b[49m\u001b[43m,\u001b[49m\u001b[43mtitle\u001b[49m\u001b[43m)\u001b[49m\u001b[43m)\u001b[49m\n\u001b[0;32m      9\u001b[0m article \u001b[38;5;241m=\u001b[39m \u001b[38;5;124m'\u001b[39m\u001b[38;5;124m \u001b[39m\u001b[38;5;124m'\u001b[39m\u001b[38;5;241m.\u001b[39mjoin(\u001b[38;5;28mlist\u001b[39m(\u001b[38;5;28mmap\u001b[39m(\u001b[38;5;28;01mlambda\u001b[39;00m x: x\u001b[38;5;241m.\u001b[39mtext,article)))\n",
      "Cell \u001b[1;32mIn[203], line 8\u001b[0m, in \u001b[0;36m<lambda>\u001b[1;34m(x)\u001b[0m\n\u001b[0;32m      6\u001b[0m         title \u001b[38;5;241m+\u001b[39m\u001b[38;5;241m=\u001b[39m temp\n\u001b[0;32m      7\u001b[0m     article \u001b[38;5;241m+\u001b[39m\u001b[38;5;241m=\u001b[39m soup\u001b[38;5;241m.\u001b[39mselect(\u001b[38;5;124m\"\u001b[39m\u001b[38;5;124m.tdb-block-inner.td-fix-index p\u001b[39m\u001b[38;5;124m\"\u001b[39m) \u001b[38;5;129;01mor\u001b[39;00m soup\u001b[38;5;241m.\u001b[39mselect(\u001b[38;5;124m\"\u001b[39m\u001b[38;5;124m.td-post-content.tagdiv-type p\u001b[39m\u001b[38;5;124m\"\u001b[39m)\n\u001b[1;32m----> 8\u001b[0m title \u001b[38;5;241m=\u001b[39m \u001b[38;5;28mlist\u001b[39m(\u001b[38;5;28mmap\u001b[39m(\u001b[38;5;28;01mlambda\u001b[39;00m x:\u001b[43mx\u001b[49m\u001b[38;5;241;43m.\u001b[39;49m\u001b[43mtext\u001b[49m,title))\n\u001b[0;32m      9\u001b[0m article \u001b[38;5;241m=\u001b[39m \u001b[38;5;124m'\u001b[39m\u001b[38;5;124m \u001b[39m\u001b[38;5;124m'\u001b[39m\u001b[38;5;241m.\u001b[39mjoin(\u001b[38;5;28mlist\u001b[39m(\u001b[38;5;28mmap\u001b[39m(\u001b[38;5;28;01mlambda\u001b[39;00m x: x\u001b[38;5;241m.\u001b[39mtext,article)))\n",
      "\u001b[1;31mAttributeError\u001b[0m: 'str' object has no attribute 'text'"
     ]
    }
   ],
   "source": [
    "for url in df['URL']:\n",
    "    res = requests.get(url)\n",
    "    soup = BeautifulSoup(res.content,'html.parser')\n",
    "    temp = soup.find('h1',class_ = \"tdb-title-text\") or soup.find('h1',class_ = \"entry-title\")    \n",
    "    if temp:\n",
    "        title += temp\n",
    "    article += soup.select(\".tdb-block-inner.td-fix-index p\") or soup.select(\".td-post-content.tagdiv-type p\")"
   ]
  },
  {
   "cell_type": "code",
   "execution_count": 204,
   "id": "7ed41b10",
   "metadata": {},
   "outputs": [
    {
     "ename": "AttributeError",
     "evalue": "'str' object has no attribute 'text'",
     "output_type": "error",
     "traceback": [
      "\u001b[1;31m---------------------------------------------------------------------------\u001b[0m",
      "\u001b[1;31mAttributeError\u001b[0m                            Traceback (most recent call last)",
      "Cell \u001b[1;32mIn[204], line 1\u001b[0m\n\u001b[1;32m----> 1\u001b[0m title \u001b[38;5;241m=\u001b[39m \u001b[38;5;28;43mlist\u001b[39;49m\u001b[43m(\u001b[49m\u001b[38;5;28;43mmap\u001b[39;49m\u001b[43m(\u001b[49m\u001b[38;5;28;43;01mlambda\u001b[39;49;00m\u001b[43m \u001b[49m\u001b[43mx\u001b[49m\u001b[43m:\u001b[49m\u001b[43mx\u001b[49m\u001b[38;5;241;43m.\u001b[39;49m\u001b[43mtext\u001b[49m\u001b[43m,\u001b[49m\u001b[43mtitle\u001b[49m\u001b[43m)\u001b[49m\u001b[43m)\u001b[49m\n\u001b[0;32m      2\u001b[0m article \u001b[38;5;241m=\u001b[39m \u001b[38;5;124m'\u001b[39m\u001b[38;5;124m \u001b[39m\u001b[38;5;124m'\u001b[39m\u001b[38;5;241m.\u001b[39mjoin(\u001b[38;5;28mlist\u001b[39m(\u001b[38;5;28mmap\u001b[39m(\u001b[38;5;28;01mlambda\u001b[39;00m x: x\u001b[38;5;241m.\u001b[39mtext,article)))\n",
      "Cell \u001b[1;32mIn[204], line 1\u001b[0m, in \u001b[0;36m<lambda>\u001b[1;34m(x)\u001b[0m\n\u001b[1;32m----> 1\u001b[0m title \u001b[38;5;241m=\u001b[39m \u001b[38;5;28mlist\u001b[39m(\u001b[38;5;28mmap\u001b[39m(\u001b[38;5;28;01mlambda\u001b[39;00m x:\u001b[43mx\u001b[49m\u001b[38;5;241;43m.\u001b[39;49m\u001b[43mtext\u001b[49m,title))\n\u001b[0;32m      2\u001b[0m article \u001b[38;5;241m=\u001b[39m \u001b[38;5;124m'\u001b[39m\u001b[38;5;124m \u001b[39m\u001b[38;5;124m'\u001b[39m\u001b[38;5;241m.\u001b[39mjoin(\u001b[38;5;28mlist\u001b[39m(\u001b[38;5;28mmap\u001b[39m(\u001b[38;5;28;01mlambda\u001b[39;00m x: x\u001b[38;5;241m.\u001b[39mtext,article)))\n",
      "\u001b[1;31mAttributeError\u001b[0m: 'str' object has no attribute 'text'"
     ]
    }
   ],
   "source": [
    "title = list(map(lambda x:x.text,title))\n",
    "article = ' '.join(list(map(lambda x: x.text,article)))"
   ]
  },
  {
   "cell_type": "code",
   "execution_count": 205,
   "id": "9f45a64f",
   "metadata": {},
   "outputs": [
    {
     "data": {
      "text/plain": [
       "(114, 2)"
      ]
     },
     "execution_count": 205,
     "metadata": {},
     "output_type": "execute_result"
    }
   ],
   "source": [
    "df.shape"
   ]
  },
  {
   "cell_type": "code",
   "execution_count": 206,
   "id": "0b9c1640",
   "metadata": {},
   "outputs": [
    {
     "data": {
      "text/plain": [
       "199"
      ]
     },
     "execution_count": 206,
     "metadata": {},
     "output_type": "execute_result"
    }
   ],
   "source": [
    "len(title)"
   ]
  },
  {
   "cell_type": "code",
   "execution_count": 207,
   "id": "0366227b",
   "metadata": {},
   "outputs": [
    {
     "data": {
      "text/plain": [
       "2140"
      ]
     },
     "execution_count": 207,
     "metadata": {},
     "output_type": "execute_result"
    }
   ],
   "source": [
    "len(article)"
   ]
  },
  {
   "cell_type": "code",
   "execution_count": 208,
   "id": "23b65a2d",
   "metadata": {},
   "outputs": [
    {
     "ename": "ValueError",
     "evalue": "All arrays must be of the same length",
     "output_type": "error",
     "traceback": [
      "\u001b[1;31m---------------------------------------------------------------------------\u001b[0m",
      "\u001b[1;31mValueError\u001b[0m                                Traceback (most recent call last)",
      "Cell \u001b[1;32mIn[208], line 1\u001b[0m\n\u001b[1;32m----> 1\u001b[0m new_df \u001b[38;5;241m=\u001b[39m \u001b[43mpd\u001b[49m\u001b[38;5;241;43m.\u001b[39;49m\u001b[43mDataFrame\u001b[49m\u001b[43m(\u001b[49m\u001b[43m{\u001b[49m\u001b[38;5;124;43m\"\u001b[39;49m\u001b[38;5;124;43mtitle\u001b[39;49m\u001b[38;5;124;43m\"\u001b[39;49m\u001b[43m:\u001b[49m\u001b[43mtitle\u001b[49m\u001b[43m,\u001b[49m\u001b[38;5;124;43m\"\u001b[39;49m\u001b[38;5;124;43marticle\u001b[39;49m\u001b[38;5;124;43m\"\u001b[39;49m\u001b[43m:\u001b[49m\u001b[43marticle\u001b[49m\u001b[43m}\u001b[49m\u001b[43m)\u001b[49m\n\u001b[0;32m      2\u001b[0m new_df\n",
      "File \u001b[1;32m~\\AppData\\Roaming\\Python\\Python311\\site-packages\\pandas\\core\\frame.py:709\u001b[0m, in \u001b[0;36mDataFrame.__init__\u001b[1;34m(self, data, index, columns, dtype, copy)\u001b[0m\n\u001b[0;32m    703\u001b[0m     mgr \u001b[38;5;241m=\u001b[39m \u001b[38;5;28mself\u001b[39m\u001b[38;5;241m.\u001b[39m_init_mgr(\n\u001b[0;32m    704\u001b[0m         data, axes\u001b[38;5;241m=\u001b[39m{\u001b[38;5;124m\"\u001b[39m\u001b[38;5;124mindex\u001b[39m\u001b[38;5;124m\"\u001b[39m: index, \u001b[38;5;124m\"\u001b[39m\u001b[38;5;124mcolumns\u001b[39m\u001b[38;5;124m\"\u001b[39m: columns}, dtype\u001b[38;5;241m=\u001b[39mdtype, copy\u001b[38;5;241m=\u001b[39mcopy\n\u001b[0;32m    705\u001b[0m     )\n\u001b[0;32m    707\u001b[0m \u001b[38;5;28;01melif\u001b[39;00m \u001b[38;5;28misinstance\u001b[39m(data, \u001b[38;5;28mdict\u001b[39m):\n\u001b[0;32m    708\u001b[0m     \u001b[38;5;66;03m# GH#38939 de facto copy defaults to False only in non-dict cases\u001b[39;00m\n\u001b[1;32m--> 709\u001b[0m     mgr \u001b[38;5;241m=\u001b[39m \u001b[43mdict_to_mgr\u001b[49m\u001b[43m(\u001b[49m\u001b[43mdata\u001b[49m\u001b[43m,\u001b[49m\u001b[43m \u001b[49m\u001b[43mindex\u001b[49m\u001b[43m,\u001b[49m\u001b[43m \u001b[49m\u001b[43mcolumns\u001b[49m\u001b[43m,\u001b[49m\u001b[43m \u001b[49m\u001b[43mdtype\u001b[49m\u001b[38;5;241;43m=\u001b[39;49m\u001b[43mdtype\u001b[49m\u001b[43m,\u001b[49m\u001b[43m \u001b[49m\u001b[43mcopy\u001b[49m\u001b[38;5;241;43m=\u001b[39;49m\u001b[43mcopy\u001b[49m\u001b[43m,\u001b[49m\u001b[43m \u001b[49m\u001b[43mtyp\u001b[49m\u001b[38;5;241;43m=\u001b[39;49m\u001b[43mmanager\u001b[49m\u001b[43m)\u001b[49m\n\u001b[0;32m    710\u001b[0m \u001b[38;5;28;01melif\u001b[39;00m \u001b[38;5;28misinstance\u001b[39m(data, ma\u001b[38;5;241m.\u001b[39mMaskedArray):\n\u001b[0;32m    711\u001b[0m     \u001b[38;5;28;01mfrom\u001b[39;00m \u001b[38;5;21;01mnumpy\u001b[39;00m\u001b[38;5;21;01m.\u001b[39;00m\u001b[38;5;21;01mma\u001b[39;00m \u001b[38;5;28;01mimport\u001b[39;00m mrecords\n",
      "File \u001b[1;32m~\\AppData\\Roaming\\Python\\Python311\\site-packages\\pandas\\core\\internals\\construction.py:481\u001b[0m, in \u001b[0;36mdict_to_mgr\u001b[1;34m(data, index, columns, dtype, typ, copy)\u001b[0m\n\u001b[0;32m    477\u001b[0m     \u001b[38;5;28;01melse\u001b[39;00m:\n\u001b[0;32m    478\u001b[0m         \u001b[38;5;66;03m# dtype check to exclude e.g. range objects, scalars\u001b[39;00m\n\u001b[0;32m    479\u001b[0m         arrays \u001b[38;5;241m=\u001b[39m [x\u001b[38;5;241m.\u001b[39mcopy() \u001b[38;5;28;01mif\u001b[39;00m \u001b[38;5;28mhasattr\u001b[39m(x, \u001b[38;5;124m\"\u001b[39m\u001b[38;5;124mdtype\u001b[39m\u001b[38;5;124m\"\u001b[39m) \u001b[38;5;28;01melse\u001b[39;00m x \u001b[38;5;28;01mfor\u001b[39;00m x \u001b[38;5;129;01min\u001b[39;00m arrays]\n\u001b[1;32m--> 481\u001b[0m \u001b[38;5;28;01mreturn\u001b[39;00m \u001b[43marrays_to_mgr\u001b[49m\u001b[43m(\u001b[49m\u001b[43marrays\u001b[49m\u001b[43m,\u001b[49m\u001b[43m \u001b[49m\u001b[43mcolumns\u001b[49m\u001b[43m,\u001b[49m\u001b[43m \u001b[49m\u001b[43mindex\u001b[49m\u001b[43m,\u001b[49m\u001b[43m \u001b[49m\u001b[43mdtype\u001b[49m\u001b[38;5;241;43m=\u001b[39;49m\u001b[43mdtype\u001b[49m\u001b[43m,\u001b[49m\u001b[43m \u001b[49m\u001b[43mtyp\u001b[49m\u001b[38;5;241;43m=\u001b[39;49m\u001b[43mtyp\u001b[49m\u001b[43m,\u001b[49m\u001b[43m \u001b[49m\u001b[43mconsolidate\u001b[49m\u001b[38;5;241;43m=\u001b[39;49m\u001b[43mcopy\u001b[49m\u001b[43m)\u001b[49m\n",
      "File \u001b[1;32m~\\AppData\\Roaming\\Python\\Python311\\site-packages\\pandas\\core\\internals\\construction.py:115\u001b[0m, in \u001b[0;36marrays_to_mgr\u001b[1;34m(arrays, columns, index, dtype, verify_integrity, typ, consolidate)\u001b[0m\n\u001b[0;32m    112\u001b[0m \u001b[38;5;28;01mif\u001b[39;00m verify_integrity:\n\u001b[0;32m    113\u001b[0m     \u001b[38;5;66;03m# figure out the index, if necessary\u001b[39;00m\n\u001b[0;32m    114\u001b[0m     \u001b[38;5;28;01mif\u001b[39;00m index \u001b[38;5;129;01mis\u001b[39;00m \u001b[38;5;28;01mNone\u001b[39;00m:\n\u001b[1;32m--> 115\u001b[0m         index \u001b[38;5;241m=\u001b[39m \u001b[43m_extract_index\u001b[49m\u001b[43m(\u001b[49m\u001b[43marrays\u001b[49m\u001b[43m)\u001b[49m\n\u001b[0;32m    116\u001b[0m     \u001b[38;5;28;01melse\u001b[39;00m:\n\u001b[0;32m    117\u001b[0m         index \u001b[38;5;241m=\u001b[39m ensure_index(index)\n",
      "File \u001b[1;32m~\\AppData\\Roaming\\Python\\Python311\\site-packages\\pandas\\core\\internals\\construction.py:655\u001b[0m, in \u001b[0;36m_extract_index\u001b[1;34m(data)\u001b[0m\n\u001b[0;32m    653\u001b[0m lengths \u001b[38;5;241m=\u001b[39m \u001b[38;5;28mlist\u001b[39m(\u001b[38;5;28mset\u001b[39m(raw_lengths))\n\u001b[0;32m    654\u001b[0m \u001b[38;5;28;01mif\u001b[39;00m \u001b[38;5;28mlen\u001b[39m(lengths) \u001b[38;5;241m>\u001b[39m \u001b[38;5;241m1\u001b[39m:\n\u001b[1;32m--> 655\u001b[0m     \u001b[38;5;28;01mraise\u001b[39;00m \u001b[38;5;167;01mValueError\u001b[39;00m(\u001b[38;5;124m\"\u001b[39m\u001b[38;5;124mAll arrays must be of the same length\u001b[39m\u001b[38;5;124m\"\u001b[39m)\n\u001b[0;32m    657\u001b[0m \u001b[38;5;28;01mif\u001b[39;00m have_dicts:\n\u001b[0;32m    658\u001b[0m     \u001b[38;5;28;01mraise\u001b[39;00m \u001b[38;5;167;01mValueError\u001b[39;00m(\n\u001b[0;32m    659\u001b[0m         \u001b[38;5;124m\"\u001b[39m\u001b[38;5;124mMixing dicts with non-Series may lead to ambiguous ordering.\u001b[39m\u001b[38;5;124m\"\u001b[39m\n\u001b[0;32m    660\u001b[0m     )\n",
      "\u001b[1;31mValueError\u001b[0m: All arrays must be of the same length"
     ]
    }
   ],
   "source": [
    "new_df = pd.DataFrame({\"title\":title,\"article\":article})\n",
    "new_df"
   ]
  },
  {
   "cell_type": "code",
   "execution_count": null,
   "id": "92c2f9e2",
   "metadata": {},
   "outputs": [],
   "source": []
  }
 ],
 "metadata": {
  "kernelspec": {
   "display_name": "Python 3 (ipykernel)",
   "language": "python",
   "name": "python3"
  },
  "language_info": {
   "codemirror_mode": {
    "name": "ipython",
    "version": 3
   },
   "file_extension": ".py",
   "mimetype": "text/x-python",
   "name": "python",
   "nbconvert_exporter": "python",
   "pygments_lexer": "ipython3",
   "version": "3.11.3"
  }
 },
 "nbformat": 4,
 "nbformat_minor": 5
}
