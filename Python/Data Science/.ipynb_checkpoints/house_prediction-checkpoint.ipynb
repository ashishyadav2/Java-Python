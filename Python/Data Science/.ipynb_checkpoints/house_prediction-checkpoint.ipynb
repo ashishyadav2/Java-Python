{
 "cells": [
  {
   "cell_type": "code",
   "execution_count": 29,
   "id": "8817eae4",
   "metadata": {},
   "outputs": [],
   "source": [
    "import pandas as pd\n",
    "from sklearn.ensemble import RandomForestRegressor\n",
    "from sklearn.model_selection import train_test_split\n",
    "import numpy as np\n",
    "import matplotlib.pyplot as plt\n",
    "import seaborn as sns"
   ]
  },
  {
   "cell_type": "code",
   "execution_count": 30,
   "id": "baf0de4d",
   "metadata": {
    "scrolled": true
   },
   "outputs": [],
   "source": [
    "df = pd.read_csv('mumbai.csv')"
   ]
  },
  {
   "cell_type": "code",
   "execution_count": 31,
   "id": "6f680dd3",
   "metadata": {},
   "outputs": [
    {
     "data": {
      "text/plain": [
       "Index(['price', 'Address', 'area', 'latitude', 'longitude', 'Bedrooms',\n",
       "       'Bathrooms', 'Balcony', 'Status', 'neworold', 'parking',\n",
       "       'Furnished_status', 'Lift', 'Landmarks', 'type_of_building', 'desc',\n",
       "       'Price_sqft'],\n",
       "      dtype='object')"
      ]
     },
     "execution_count": 31,
     "metadata": {},
     "output_type": "execute_result"
    }
   ],
   "source": [
    "df.columns"
   ]
  },
  {
   "cell_type": "code",
   "execution_count": 32,
   "id": "c888ac04",
   "metadata": {},
   "outputs": [],
   "source": [
    "df = df[['price','Address','area','Bedrooms','Bathrooms']]\n",
    "# df = df[['price','Address','area','Bedrooms','Bathrooms','Price_sqft']]"
   ]
  },
  {
   "cell_type": "code",
   "execution_count": 33,
   "id": "4103c45e",
   "metadata": {},
   "outputs": [
    {
     "data": {
      "text/html": [
       "<div>\n",
       "<style scoped>\n",
       "    .dataframe tbody tr th:only-of-type {\n",
       "        vertical-align: middle;\n",
       "    }\n",
       "\n",
       "    .dataframe tbody tr th {\n",
       "        vertical-align: top;\n",
       "    }\n",
       "\n",
       "    .dataframe thead th {\n",
       "        text-align: right;\n",
       "    }\n",
       "</style>\n",
       "<table border=\"1\" class=\"dataframe\">\n",
       "  <thead>\n",
       "    <tr style=\"text-align: right;\">\n",
       "      <th></th>\n",
       "      <th>price</th>\n",
       "      <th>area</th>\n",
       "      <th>Bedrooms</th>\n",
       "      <th>Bathrooms</th>\n",
       "    </tr>\n",
       "  </thead>\n",
       "  <tbody>\n",
       "    <tr>\n",
       "      <th>count</th>\n",
       "      <td>6.255000e+03</td>\n",
       "      <td>6255.000000</td>\n",
       "      <td>6255.000000</td>\n",
       "      <td>6255.000000</td>\n",
       "    </tr>\n",
       "    <tr>\n",
       "      <th>mean</th>\n",
       "      <td>2.684187e+07</td>\n",
       "      <td>1185.625260</td>\n",
       "      <td>2.452278</td>\n",
       "      <td>2.425580</td>\n",
       "    </tr>\n",
       "    <tr>\n",
       "      <th>std</th>\n",
       "      <td>2.788831e+07</td>\n",
       "      <td>636.973259</td>\n",
       "      <td>0.749534</td>\n",
       "      <td>0.762604</td>\n",
       "    </tr>\n",
       "    <tr>\n",
       "      <th>min</th>\n",
       "      <td>1.500000e+06</td>\n",
       "      <td>503.000000</td>\n",
       "      <td>2.000000</td>\n",
       "      <td>0.000000</td>\n",
       "    </tr>\n",
       "    <tr>\n",
       "      <th>25%</th>\n",
       "      <td>1.300000e+07</td>\n",
       "      <td>846.500000</td>\n",
       "      <td>2.000000</td>\n",
       "      <td>2.000000</td>\n",
       "    </tr>\n",
       "    <tr>\n",
       "      <th>50%</th>\n",
       "      <td>1.900000e+07</td>\n",
       "      <td>1000.000000</td>\n",
       "      <td>2.000000</td>\n",
       "      <td>2.000000</td>\n",
       "    </tr>\n",
       "    <tr>\n",
       "      <th>75%</th>\n",
       "      <td>3.000000e+07</td>\n",
       "      <td>1300.000000</td>\n",
       "      <td>3.000000</td>\n",
       "      <td>3.000000</td>\n",
       "    </tr>\n",
       "    <tr>\n",
       "      <th>max</th>\n",
       "      <td>3.600000e+08</td>\n",
       "      <td>8000.000000</td>\n",
       "      <td>10.000000</td>\n",
       "      <td>10.000000</td>\n",
       "    </tr>\n",
       "  </tbody>\n",
       "</table>\n",
       "</div>"
      ],
      "text/plain": [
       "              price         area     Bedrooms    Bathrooms\n",
       "count  6.255000e+03  6255.000000  6255.000000  6255.000000\n",
       "mean   2.684187e+07  1185.625260     2.452278     2.425580\n",
       "std    2.788831e+07   636.973259     0.749534     0.762604\n",
       "min    1.500000e+06   503.000000     2.000000     0.000000\n",
       "25%    1.300000e+07   846.500000     2.000000     2.000000\n",
       "50%    1.900000e+07  1000.000000     2.000000     2.000000\n",
       "75%    3.000000e+07  1300.000000     3.000000     3.000000\n",
       "max    3.600000e+08  8000.000000    10.000000    10.000000"
      ]
     },
     "execution_count": 33,
     "metadata": {},
     "output_type": "execute_result"
    }
   ],
   "source": [
    "df.describe()"
   ]
  },
  {
   "cell_type": "code",
   "execution_count": 34,
   "id": "18510fc4",
   "metadata": {},
   "outputs": [],
   "source": [
    "regions = {\n",
    "    \"West\": ['Andheri','Bandra','Borivali','Dahisar','Goregaon','Jogeshwari','Juhu','Kandivali','Khar','Malad','Mira Bhayandar','Santacruz','Vile Parle','Vasai Virar'],\n",
    "    \"East\": ['Bhandup','Ghatkopar','Kanjurmarg','Kurla','Mulund','Nahur','Powai','Vidyavihar','Vikhroli'],\n",
    "    \"Harbour\": ['Chembur','Wadala','Govandi','Mankhurd','Trombay'],\n",
    "    \"South\": ['Antop Hill','Byculla','Colaba','Dadar','Fort','Girgaon','Kalbadevi','Kamathipura','Matunga','Parel','Tardeo']\n",
    "}\n",
    "\n",
    "def set_region(string):\n",
    "    for region, region_list in regions.items():\n",
    "        if any(region in string for region in region_list):\n",
    "            return region\n",
    "    return \"Other\"\n"
   ]
  },
  {
   "cell_type": "code",
   "execution_count": 35,
   "id": "d1af2628",
   "metadata": {},
   "outputs": [],
   "source": [
    "df['Address'] = df['Address'].apply(set_region)"
   ]
  },
  {
   "cell_type": "code",
   "execution_count": 36,
   "id": "c5d1a523",
   "metadata": {},
   "outputs": [],
   "source": [
    "def remove_outliers(df,cols):\n",
    "    new_df = None\n",
    "    for col in cols:\n",
    "        low,high = df[col].quantile([0.1,0.9])\n",
    "        new_df = df[(df[col]>=low)&(df[col]<=high)]\n",
    "        df=new_df\n",
    "    return df"
   ]
  },
  {
   "cell_type": "code",
   "execution_count": 37,
   "id": "325b8a66",
   "metadata": {},
   "outputs": [
    {
     "data": {
      "text/html": [
       "<div>\n",
       "<style scoped>\n",
       "    .dataframe tbody tr th:only-of-type {\n",
       "        vertical-align: middle;\n",
       "    }\n",
       "\n",
       "    .dataframe tbody tr th {\n",
       "        vertical-align: top;\n",
       "    }\n",
       "\n",
       "    .dataframe thead th {\n",
       "        text-align: right;\n",
       "    }\n",
       "</style>\n",
       "<table border=\"1\" class=\"dataframe\">\n",
       "  <thead>\n",
       "    <tr style=\"text-align: right;\">\n",
       "      <th></th>\n",
       "      <th>price</th>\n",
       "      <th>area</th>\n",
       "      <th>Bedrooms</th>\n",
       "      <th>Bathrooms</th>\n",
       "    </tr>\n",
       "  </thead>\n",
       "  <tbody>\n",
       "    <tr>\n",
       "      <th>count</th>\n",
       "      <td>4.915000e+03</td>\n",
       "      <td>4915.000000</td>\n",
       "      <td>4915.000000</td>\n",
       "      <td>4915.000000</td>\n",
       "    </tr>\n",
       "    <tr>\n",
       "      <th>mean</th>\n",
       "      <td>2.131366e+07</td>\n",
       "      <td>1049.492981</td>\n",
       "      <td>2.273652</td>\n",
       "      <td>2.226857</td>\n",
       "    </tr>\n",
       "    <tr>\n",
       "      <th>std</th>\n",
       "      <td>1.418755e+07</td>\n",
       "      <td>250.136548</td>\n",
       "      <td>0.445878</td>\n",
       "      <td>0.418842</td>\n",
       "    </tr>\n",
       "    <tr>\n",
       "      <th>min</th>\n",
       "      <td>1.500000e+06</td>\n",
       "      <td>700.000000</td>\n",
       "      <td>2.000000</td>\n",
       "      <td>2.000000</td>\n",
       "    </tr>\n",
       "    <tr>\n",
       "      <th>25%</th>\n",
       "      <td>1.270000e+07</td>\n",
       "      <td>852.000000</td>\n",
       "      <td>2.000000</td>\n",
       "      <td>2.000000</td>\n",
       "    </tr>\n",
       "    <tr>\n",
       "      <th>50%</th>\n",
       "      <td>1.850000e+07</td>\n",
       "      <td>1000.000000</td>\n",
       "      <td>2.000000</td>\n",
       "      <td>2.000000</td>\n",
       "    </tr>\n",
       "    <tr>\n",
       "      <th>75%</th>\n",
       "      <td>2.700000e+07</td>\n",
       "      <td>1200.000000</td>\n",
       "      <td>3.000000</td>\n",
       "      <td>2.000000</td>\n",
       "    </tr>\n",
       "    <tr>\n",
       "      <th>max</th>\n",
       "      <td>2.000000e+08</td>\n",
       "      <td>1800.000000</td>\n",
       "      <td>3.000000</td>\n",
       "      <td>3.000000</td>\n",
       "    </tr>\n",
       "  </tbody>\n",
       "</table>\n",
       "</div>"
      ],
      "text/plain": [
       "              price         area     Bedrooms    Bathrooms\n",
       "count  4.915000e+03  4915.000000  4915.000000  4915.000000\n",
       "mean   2.131366e+07  1049.492981     2.273652     2.226857\n",
       "std    1.418755e+07   250.136548     0.445878     0.418842\n",
       "min    1.500000e+06   700.000000     2.000000     2.000000\n",
       "25%    1.270000e+07   852.000000     2.000000     2.000000\n",
       "50%    1.850000e+07  1000.000000     2.000000     2.000000\n",
       "75%    2.700000e+07  1200.000000     3.000000     2.000000\n",
       "max    2.000000e+08  1800.000000     3.000000     3.000000"
      ]
     },
     "execution_count": 37,
     "metadata": {},
     "output_type": "execute_result"
    }
   ],
   "source": [
    "a = remove_outliers(df,['area','Bedrooms','Bathrooms'])\n",
    "# a = remove_outliers(df,['area','Bedrooms','Bathrooms','Price_sqft'])\n",
    "a.describe()"
   ]
  },
  {
   "cell_type": "code",
   "execution_count": 38,
   "id": "5ffbc930",
   "metadata": {},
   "outputs": [
    {
     "data": {
      "text/html": [
       "<div>\n",
       "<style scoped>\n",
       "    .dataframe tbody tr th:only-of-type {\n",
       "        vertical-align: middle;\n",
       "    }\n",
       "\n",
       "    .dataframe tbody tr th {\n",
       "        vertical-align: top;\n",
       "    }\n",
       "\n",
       "    .dataframe thead th {\n",
       "        text-align: right;\n",
       "    }\n",
       "</style>\n",
       "<table border=\"1\" class=\"dataframe\">\n",
       "  <thead>\n",
       "    <tr style=\"text-align: right;\">\n",
       "      <th></th>\n",
       "      <th>price</th>\n",
       "      <th>area</th>\n",
       "      <th>Bedrooms</th>\n",
       "      <th>Bathrooms</th>\n",
       "      <th>Address_Harbour</th>\n",
       "      <th>Address_Other</th>\n",
       "      <th>Address_South</th>\n",
       "      <th>Address_West</th>\n",
       "    </tr>\n",
       "  </thead>\n",
       "  <tbody>\n",
       "    <tr>\n",
       "      <th>1</th>\n",
       "      <td>35000000.0</td>\n",
       "      <td>974.0</td>\n",
       "      <td>3.0</td>\n",
       "      <td>2.0</td>\n",
       "      <td>True</td>\n",
       "      <td>False</td>\n",
       "      <td>False</td>\n",
       "      <td>False</td>\n",
       "    </tr>\n",
       "    <tr>\n",
       "      <th>2</th>\n",
       "      <td>31700000.0</td>\n",
       "      <td>968.0</td>\n",
       "      <td>3.0</td>\n",
       "      <td>3.0</td>\n",
       "      <td>False</td>\n",
       "      <td>False</td>\n",
       "      <td>False</td>\n",
       "      <td>False</td>\n",
       "    </tr>\n",
       "    <tr>\n",
       "      <th>4</th>\n",
       "      <td>13500000.0</td>\n",
       "      <td>1090.0</td>\n",
       "      <td>2.0</td>\n",
       "      <td>2.0</td>\n",
       "      <td>False</td>\n",
       "      <td>False</td>\n",
       "      <td>False</td>\n",
       "      <td>True</td>\n",
       "    </tr>\n",
       "    <tr>\n",
       "      <th>6</th>\n",
       "      <td>20700000.0</td>\n",
       "      <td>1188.0</td>\n",
       "      <td>2.0</td>\n",
       "      <td>2.0</td>\n",
       "      <td>False</td>\n",
       "      <td>False</td>\n",
       "      <td>False</td>\n",
       "      <td>True</td>\n",
       "    </tr>\n",
       "    <tr>\n",
       "      <th>7</th>\n",
       "      <td>22900000.0</td>\n",
       "      <td>968.0</td>\n",
       "      <td>3.0</td>\n",
       "      <td>3.0</td>\n",
       "      <td>False</td>\n",
       "      <td>False</td>\n",
       "      <td>False</td>\n",
       "      <td>True</td>\n",
       "    </tr>\n",
       "    <tr>\n",
       "      <th>...</th>\n",
       "      <td>...</td>\n",
       "      <td>...</td>\n",
       "      <td>...</td>\n",
       "      <td>...</td>\n",
       "      <td>...</td>\n",
       "      <td>...</td>\n",
       "      <td>...</td>\n",
       "      <td>...</td>\n",
       "    </tr>\n",
       "    <tr>\n",
       "      <th>6250</th>\n",
       "      <td>19500000.0</td>\n",
       "      <td>810.0</td>\n",
       "      <td>2.0</td>\n",
       "      <td>2.0</td>\n",
       "      <td>False</td>\n",
       "      <td>True</td>\n",
       "      <td>False</td>\n",
       "      <td>False</td>\n",
       "    </tr>\n",
       "    <tr>\n",
       "      <th>6251</th>\n",
       "      <td>22000000.0</td>\n",
       "      <td>1400.0</td>\n",
       "      <td>3.0</td>\n",
       "      <td>3.0</td>\n",
       "      <td>False</td>\n",
       "      <td>True</td>\n",
       "      <td>False</td>\n",
       "      <td>False</td>\n",
       "    </tr>\n",
       "    <tr>\n",
       "      <th>6252</th>\n",
       "      <td>20000000.0</td>\n",
       "      <td>750.0</td>\n",
       "      <td>2.0</td>\n",
       "      <td>2.0</td>\n",
       "      <td>False</td>\n",
       "      <td>False</td>\n",
       "      <td>False</td>\n",
       "      <td>True</td>\n",
       "    </tr>\n",
       "    <tr>\n",
       "      <th>6253</th>\n",
       "      <td>11000000.0</td>\n",
       "      <td>700.0</td>\n",
       "      <td>2.0</td>\n",
       "      <td>2.0</td>\n",
       "      <td>False</td>\n",
       "      <td>True</td>\n",
       "      <td>False</td>\n",
       "      <td>False</td>\n",
       "    </tr>\n",
       "    <tr>\n",
       "      <th>6254</th>\n",
       "      <td>15000000.0</td>\n",
       "      <td>900.0</td>\n",
       "      <td>2.0</td>\n",
       "      <td>2.0</td>\n",
       "      <td>False</td>\n",
       "      <td>False</td>\n",
       "      <td>False</td>\n",
       "      <td>False</td>\n",
       "    </tr>\n",
       "  </tbody>\n",
       "</table>\n",
       "<p>4915 rows × 8 columns</p>\n",
       "</div>"
      ],
      "text/plain": [
       "           price    area  Bedrooms  Bathrooms  Address_Harbour  Address_Other  \\\n",
       "1     35000000.0   974.0       3.0        2.0             True          False   \n",
       "2     31700000.0   968.0       3.0        3.0            False          False   \n",
       "4     13500000.0  1090.0       2.0        2.0            False          False   \n",
       "6     20700000.0  1188.0       2.0        2.0            False          False   \n",
       "7     22900000.0   968.0       3.0        3.0            False          False   \n",
       "...          ...     ...       ...        ...              ...            ...   \n",
       "6250  19500000.0   810.0       2.0        2.0            False           True   \n",
       "6251  22000000.0  1400.0       3.0        3.0            False           True   \n",
       "6252  20000000.0   750.0       2.0        2.0            False          False   \n",
       "6253  11000000.0   700.0       2.0        2.0            False           True   \n",
       "6254  15000000.0   900.0       2.0        2.0            False          False   \n",
       "\n",
       "      Address_South  Address_West  \n",
       "1             False         False  \n",
       "2             False         False  \n",
       "4             False          True  \n",
       "6             False          True  \n",
       "7             False          True  \n",
       "...             ...           ...  \n",
       "6250          False         False  \n",
       "6251          False         False  \n",
       "6252          False          True  \n",
       "6253          False         False  \n",
       "6254          False         False  \n",
       "\n",
       "[4915 rows x 8 columns]"
      ]
     },
     "execution_count": 38,
     "metadata": {},
     "output_type": "execute_result"
    }
   ],
   "source": [
    "b = pd.get_dummies(a,drop_first=True)\n",
    "y = b['price']\n",
    "x = b.drop(['price'],axis=1)\n",
    "b"
   ]
  },
  {
   "cell_type": "code",
   "execution_count": 39,
   "id": "83156ed0",
   "metadata": {},
   "outputs": [
    {
     "data": {
      "text/plain": [
       "price              1.000000\n",
       "area               0.456931\n",
       "Bedrooms           0.371585\n",
       "Bathrooms          0.400952\n",
       "Address_Harbour    0.027271\n",
       "Address_Other     -0.181234\n",
       "Address_South      0.201579\n",
       "Address_West       0.120038\n",
       "Name: price, dtype: float64"
      ]
     },
     "execution_count": 39,
     "metadata": {},
     "output_type": "execute_result"
    }
   ],
   "source": [
    "b.corr()['price']"
   ]
  },
  {
   "cell_type": "code",
   "execution_count": 40,
   "id": "5fcb29ae",
   "metadata": {
    "scrolled": true
   },
   "outputs": [
    {
     "data": {
      "text/html": [
       "<div>\n",
       "<style scoped>\n",
       "    .dataframe tbody tr th:only-of-type {\n",
       "        vertical-align: middle;\n",
       "    }\n",
       "\n",
       "    .dataframe tbody tr th {\n",
       "        vertical-align: top;\n",
       "    }\n",
       "\n",
       "    .dataframe thead th {\n",
       "        text-align: right;\n",
       "    }\n",
       "</style>\n",
       "<table border=\"1\" class=\"dataframe\">\n",
       "  <thead>\n",
       "    <tr style=\"text-align: right;\">\n",
       "      <th></th>\n",
       "      <th>price</th>\n",
       "      <th>area</th>\n",
       "      <th>Bedrooms</th>\n",
       "      <th>Bathrooms</th>\n",
       "      <th>Address_Harbour</th>\n",
       "      <th>Address_Other</th>\n",
       "      <th>Address_South</th>\n",
       "      <th>Address_West</th>\n",
       "    </tr>\n",
       "  </thead>\n",
       "  <tbody>\n",
       "    <tr>\n",
       "      <th>1</th>\n",
       "      <td>35000000.0</td>\n",
       "      <td>974.0</td>\n",
       "      <td>3.0</td>\n",
       "      <td>2.0</td>\n",
       "      <td>True</td>\n",
       "      <td>False</td>\n",
       "      <td>False</td>\n",
       "      <td>False</td>\n",
       "    </tr>\n",
       "    <tr>\n",
       "      <th>2</th>\n",
       "      <td>31700000.0</td>\n",
       "      <td>968.0</td>\n",
       "      <td>3.0</td>\n",
       "      <td>3.0</td>\n",
       "      <td>False</td>\n",
       "      <td>False</td>\n",
       "      <td>False</td>\n",
       "      <td>False</td>\n",
       "    </tr>\n",
       "    <tr>\n",
       "      <th>4</th>\n",
       "      <td>13500000.0</td>\n",
       "      <td>1090.0</td>\n",
       "      <td>2.0</td>\n",
       "      <td>2.0</td>\n",
       "      <td>False</td>\n",
       "      <td>False</td>\n",
       "      <td>False</td>\n",
       "      <td>True</td>\n",
       "    </tr>\n",
       "    <tr>\n",
       "      <th>6</th>\n",
       "      <td>20700000.0</td>\n",
       "      <td>1188.0</td>\n",
       "      <td>2.0</td>\n",
       "      <td>2.0</td>\n",
       "      <td>False</td>\n",
       "      <td>False</td>\n",
       "      <td>False</td>\n",
       "      <td>True</td>\n",
       "    </tr>\n",
       "    <tr>\n",
       "      <th>7</th>\n",
       "      <td>22900000.0</td>\n",
       "      <td>968.0</td>\n",
       "      <td>3.0</td>\n",
       "      <td>3.0</td>\n",
       "      <td>False</td>\n",
       "      <td>False</td>\n",
       "      <td>False</td>\n",
       "      <td>True</td>\n",
       "    </tr>\n",
       "  </tbody>\n",
       "</table>\n",
       "</div>"
      ],
      "text/plain": [
       "        price    area  Bedrooms  Bathrooms  Address_Harbour  Address_Other  \\\n",
       "1  35000000.0   974.0       3.0        2.0             True          False   \n",
       "2  31700000.0   968.0       3.0        3.0            False          False   \n",
       "4  13500000.0  1090.0       2.0        2.0            False          False   \n",
       "6  20700000.0  1188.0       2.0        2.0            False          False   \n",
       "7  22900000.0   968.0       3.0        3.0            False          False   \n",
       "\n",
       "   Address_South  Address_West  \n",
       "1          False         False  \n",
       "2          False         False  \n",
       "4          False          True  \n",
       "6          False          True  \n",
       "7          False          True  "
      ]
     },
     "execution_count": 40,
     "metadata": {},
     "output_type": "execute_result"
    }
   ],
   "source": [
    "b.head()"
   ]
  },
  {
   "cell_type": "code",
   "execution_count": 41,
   "id": "fddaf041",
   "metadata": {},
   "outputs": [
    {
     "data": {
      "text/plain": [
       "(4915,)"
      ]
     },
     "execution_count": 41,
     "metadata": {},
     "output_type": "execute_result"
    }
   ],
   "source": [
    "x.shape\n",
    "y.shape"
   ]
  },
  {
   "cell_type": "code",
   "execution_count": 42,
   "id": "b71d714f",
   "metadata": {},
   "outputs": [
    {
     "data": {
      "text/plain": [
       "0.2513473097309368"
      ]
     },
     "execution_count": 42,
     "metadata": {},
     "output_type": "execute_result"
    }
   ],
   "source": [
    "x_train,x_test,y_train,y_test = train_test_split(x,y,test_size=0.2,random_state=16)\n",
    "model = RandomForestRegressor(n_estimators=30)\n",
    "model.fit(x_train,y_train)\n",
    "model.score(x_test,y_test)"
   ]
  },
  {
   "cell_type": "code",
   "execution_count": 43,
   "id": "c1cffd29",
   "metadata": {
    "scrolled": false
   },
   "outputs": [
    {
     "data": {
      "text/plain": [
       "'Rs. 3,14,21,241'"
      ]
     },
     "execution_count": 43,
     "metadata": {},
     "output_type": "execute_result"
    }
   ],
   "source": [
    "price = model.predict(x_test)\n",
    "format_price(price)"
   ]
  },
  {
   "cell_type": "code",
   "execution_count": 44,
   "id": "254ba12a",
   "metadata": {},
   "outputs": [],
   "source": [
    "def format_price(temp):\n",
    "    temp = str(price[0]).split(\".\")[0]\n",
    "    ans = \"\"\n",
    "    temp = temp[::-1]\n",
    "    c =0\n",
    "    for i in range(len(temp)):\n",
    "        if temp[i]==',':\n",
    "            break\n",
    "        if c==3:\n",
    "            ans+=\",\"\n",
    "        c+=1\n",
    "        ans+=temp[i]\n",
    "    left,ans = ans.split(\",\")[0],ans.split(\",\")[-1]\n",
    "    t = \"\"\n",
    "    c = 0\n",
    "    for i in range(len(ans)):\n",
    "        if c==2:\n",
    "            t+=\",\"\n",
    "            c =0 \n",
    "        c+=1\n",
    "        t+=ans[i]\n",
    "    t = t[::-1]\n",
    "    finalans = \"Rs. \"+t+\",\"+left\n",
    "    return finalans"
   ]
  },
  {
   "cell_type": "code",
   "execution_count": 45,
   "id": "bdc6a8d2",
   "metadata": {},
   "outputs": [],
   "source": [
    "import pickle"
   ]
  },
  {
   "cell_type": "code",
   "execution_count": 46,
   "id": "fe70d3fc",
   "metadata": {},
   "outputs": [],
   "source": [
    "with open('house_prediction.pkl','wb') as file:\n",
    "    pickle.dump(model,file)"
   ]
  },
  {
   "cell_type": "code",
   "execution_count": 47,
   "id": "f2d78a73",
   "metadata": {},
   "outputs": [],
   "source": [
    "with open('house_df.pkl','wb') as file:\n",
    "    pickle.dump(df,file)"
   ]
  },
  {
   "cell_type": "code",
   "execution_count": 48,
   "id": "c8b5e321",
   "metadata": {},
   "outputs": [],
   "source": [
    "with open('house_prediction.pkl','rb') as pkl_file:\n",
    "    house_model = pickle.load(pkl_file)"
   ]
  },
  {
   "cell_type": "code",
   "execution_count": null,
   "id": "b97230bd",
   "metadata": {},
   "outputs": [],
   "source": []
  }
 ],
 "metadata": {
  "kernelspec": {
   "display_name": "Python 3 (ipykernel)",
   "language": "python",
   "name": "python3"
  },
  "language_info": {
   "codemirror_mode": {
    "name": "ipython",
    "version": 3
   },
   "file_extension": ".py",
   "mimetype": "text/x-python",
   "name": "python",
   "nbconvert_exporter": "python",
   "pygments_lexer": "ipython3",
   "version": "3.11.3"
  }
 },
 "nbformat": 4,
 "nbformat_minor": 5
}
