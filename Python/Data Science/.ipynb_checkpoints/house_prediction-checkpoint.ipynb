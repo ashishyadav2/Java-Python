{
 "cells": [
  {
   "cell_type": "code",
   "execution_count": 526,
   "id": "8817eae4",
   "metadata": {},
   "outputs": [],
   "source": [
    "import pandas as pd\n",
    "from sklearn.linear_model import LinearRegression\n",
    "from sklearn.model_selection import train_test_split\n",
    "import numpy as np\n",
    "import matplotlib.pyplot as plt\n",
    "import seaborn as sns"
   ]
  },
  {
   "cell_type": "code",
   "execution_count": 527,
   "id": "baf0de4d",
   "metadata": {
    "scrolled": true
   },
   "outputs": [],
   "source": [
    "df = pd.read_csv('mumbai.csv')"
   ]
  },
  {
   "cell_type": "code",
   "execution_count": 528,
   "id": "6f680dd3",
   "metadata": {},
   "outputs": [
    {
     "data": {
      "text/plain": [
       "Index(['price', 'Address', 'area', 'latitude', 'longitude', 'Bedrooms',\n",
       "       'Bathrooms', 'Balcony', 'Status', 'neworold', 'parking',\n",
       "       'Furnished_status', 'Lift', 'Landmarks', 'type_of_building', 'desc',\n",
       "       'Price_sqft'],\n",
       "      dtype='object')"
      ]
     },
     "execution_count": 528,
     "metadata": {},
     "output_type": "execute_result"
    }
   ],
   "source": [
    "df.columns"
   ]
  },
  {
   "cell_type": "code",
   "execution_count": 529,
   "id": "c888ac04",
   "metadata": {},
   "outputs": [],
   "source": [
    "# df = df[['price','area','Bedrooms','Bathrooms']]\n",
    "# df = df[['price','area','Bedrooms','Bathrooms','neworold','Furnished_status']]\n",
    "df = df[['price','area','Bedrooms','Bathrooms','Price_sqft','neworold','Furnished_status']]"
   ]
  },
  {
   "cell_type": "code",
   "execution_count": 530,
   "id": "4103c45e",
   "metadata": {},
   "outputs": [
    {
     "data": {
      "text/html": [
       "<div>\n",
       "<style scoped>\n",
       "    .dataframe tbody tr th:only-of-type {\n",
       "        vertical-align: middle;\n",
       "    }\n",
       "\n",
       "    .dataframe tbody tr th {\n",
       "        vertical-align: top;\n",
       "    }\n",
       "\n",
       "    .dataframe thead th {\n",
       "        text-align: right;\n",
       "    }\n",
       "</style>\n",
       "<table border=\"1\" class=\"dataframe\">\n",
       "  <thead>\n",
       "    <tr style=\"text-align: right;\">\n",
       "      <th></th>\n",
       "      <th>price</th>\n",
       "      <th>area</th>\n",
       "      <th>Bedrooms</th>\n",
       "      <th>Bathrooms</th>\n",
       "      <th>Price_sqft</th>\n",
       "    </tr>\n",
       "  </thead>\n",
       "  <tbody>\n",
       "    <tr>\n",
       "      <th>count</th>\n",
       "      <td>6.255000e+03</td>\n",
       "      <td>6255.000000</td>\n",
       "      <td>6255.000000</td>\n",
       "      <td>6255.000000</td>\n",
       "      <td>6255.000000</td>\n",
       "    </tr>\n",
       "    <tr>\n",
       "      <th>mean</th>\n",
       "      <td>2.684187e+07</td>\n",
       "      <td>1185.625260</td>\n",
       "      <td>2.452278</td>\n",
       "      <td>2.425580</td>\n",
       "      <td>21422.923601</td>\n",
       "    </tr>\n",
       "    <tr>\n",
       "      <th>std</th>\n",
       "      <td>2.788831e+07</td>\n",
       "      <td>636.973259</td>\n",
       "      <td>0.749534</td>\n",
       "      <td>0.762604</td>\n",
       "      <td>12698.478665</td>\n",
       "    </tr>\n",
       "    <tr>\n",
       "      <th>min</th>\n",
       "      <td>1.500000e+06</td>\n",
       "      <td>503.000000</td>\n",
       "      <td>2.000000</td>\n",
       "      <td>0.000000</td>\n",
       "      <td>1500.000000</td>\n",
       "    </tr>\n",
       "    <tr>\n",
       "      <th>25%</th>\n",
       "      <td>1.300000e+07</td>\n",
       "      <td>846.500000</td>\n",
       "      <td>2.000000</td>\n",
       "      <td>2.000000</td>\n",
       "      <td>13709.934735</td>\n",
       "    </tr>\n",
       "    <tr>\n",
       "      <th>50%</th>\n",
       "      <td>1.900000e+07</td>\n",
       "      <td>1000.000000</td>\n",
       "      <td>2.000000</td>\n",
       "      <td>2.000000</td>\n",
       "      <td>19285.714286</td>\n",
       "    </tr>\n",
       "    <tr>\n",
       "      <th>75%</th>\n",
       "      <td>3.000000e+07</td>\n",
       "      <td>1300.000000</td>\n",
       "      <td>3.000000</td>\n",
       "      <td>3.000000</td>\n",
       "      <td>26500.000000</td>\n",
       "    </tr>\n",
       "    <tr>\n",
       "      <th>max</th>\n",
       "      <td>3.600000e+08</td>\n",
       "      <td>8000.000000</td>\n",
       "      <td>10.000000</td>\n",
       "      <td>10.000000</td>\n",
       "      <td>119047.619048</td>\n",
       "    </tr>\n",
       "  </tbody>\n",
       "</table>\n",
       "</div>"
      ],
      "text/plain": [
       "              price         area     Bedrooms    Bathrooms     Price_sqft\n",
       "count  6.255000e+03  6255.000000  6255.000000  6255.000000    6255.000000\n",
       "mean   2.684187e+07  1185.625260     2.452278     2.425580   21422.923601\n",
       "std    2.788831e+07   636.973259     0.749534     0.762604   12698.478665\n",
       "min    1.500000e+06   503.000000     2.000000     0.000000    1500.000000\n",
       "25%    1.300000e+07   846.500000     2.000000     2.000000   13709.934735\n",
       "50%    1.900000e+07  1000.000000     2.000000     2.000000   19285.714286\n",
       "75%    3.000000e+07  1300.000000     3.000000     3.000000   26500.000000\n",
       "max    3.600000e+08  8000.000000    10.000000    10.000000  119047.619048"
      ]
     },
     "execution_count": 530,
     "metadata": {},
     "output_type": "execute_result"
    }
   ],
   "source": [
    "df.describe()"
   ]
  },
  {
   "cell_type": "code",
   "execution_count": 531,
   "id": "eb02015a",
   "metadata": {},
   "outputs": [],
   "source": [
    "df['Furnished_status'] = df['Furnished_status'].fillna(df['Furnished_status'].mode()[0])"
   ]
  },
  {
   "cell_type": "code",
   "execution_count": 532,
   "id": "c5d1a523",
   "metadata": {},
   "outputs": [],
   "source": [
    "def remove_outliers(df,cols):\n",
    "    new_df = None\n",
    "    for col in cols:\n",
    "        low,high = df[col].quantile([0.1,0.9])\n",
    "        new_df = df[(df[col]>=low)&(df[col]<=high)]\n",
    "        df=new_df\n",
    "    return df"
   ]
  },
  {
   "cell_type": "code",
   "execution_count": 533,
   "id": "db5efc5b",
   "metadata": {},
   "outputs": [],
   "source": [
    "# def remove_outliers(df,cols):\n",
    "#     new_df = None\n",
    "#     for col in cols:\n",
    "#         std=df[col].std()*2\n",
    "#         m = df[col].median()\n",
    "#         new_df = df[(df[col]>=(m-std))&(df[col]<=(m+std))]\n",
    "#         df=new_df\n",
    "#     return df"
   ]
  },
  {
   "cell_type": "code",
   "execution_count": 534,
   "id": "325b8a66",
   "metadata": {},
   "outputs": [
    {
     "data": {
      "text/html": [
       "<div>\n",
       "<style scoped>\n",
       "    .dataframe tbody tr th:only-of-type {\n",
       "        vertical-align: middle;\n",
       "    }\n",
       "\n",
       "    .dataframe tbody tr th {\n",
       "        vertical-align: top;\n",
       "    }\n",
       "\n",
       "    .dataframe thead th {\n",
       "        text-align: right;\n",
       "    }\n",
       "</style>\n",
       "<table border=\"1\" class=\"dataframe\">\n",
       "  <thead>\n",
       "    <tr style=\"text-align: right;\">\n",
       "      <th></th>\n",
       "      <th>price</th>\n",
       "      <th>area</th>\n",
       "      <th>Bedrooms</th>\n",
       "      <th>Bathrooms</th>\n",
       "      <th>Price_sqft</th>\n",
       "    </tr>\n",
       "  </thead>\n",
       "  <tbody>\n",
       "    <tr>\n",
       "      <th>count</th>\n",
       "      <td>3.931000e+03</td>\n",
       "      <td>3931.000000</td>\n",
       "      <td>3931.000000</td>\n",
       "      <td>3931.000000</td>\n",
       "      <td>3931.000000</td>\n",
       "    </tr>\n",
       "    <tr>\n",
       "      <th>mean</th>\n",
       "      <td>1.986945e+07</td>\n",
       "      <td>1055.064615</td>\n",
       "      <td>2.271178</td>\n",
       "      <td>2.219028</td>\n",
       "      <td>18802.894982</td>\n",
       "    </tr>\n",
       "    <tr>\n",
       "      <th>std</th>\n",
       "      <td>8.365126e+06</td>\n",
       "      <td>249.993612</td>\n",
       "      <td>0.444624</td>\n",
       "      <td>0.413640</td>\n",
       "      <td>6296.384848</td>\n",
       "    </tr>\n",
       "    <tr>\n",
       "      <th>min</th>\n",
       "      <td>5.400000e+06</td>\n",
       "      <td>700.000000</td>\n",
       "      <td>2.000000</td>\n",
       "      <td>2.000000</td>\n",
       "      <td>7345.971564</td>\n",
       "    </tr>\n",
       "    <tr>\n",
       "      <th>25%</th>\n",
       "      <td>1.400000e+07</td>\n",
       "      <td>860.000000</td>\n",
       "      <td>2.000000</td>\n",
       "      <td>2.000000</td>\n",
       "      <td>14596.567370</td>\n",
       "    </tr>\n",
       "    <tr>\n",
       "      <th>50%</th>\n",
       "      <td>1.850000e+07</td>\n",
       "      <td>1000.000000</td>\n",
       "      <td>2.000000</td>\n",
       "      <td>2.000000</td>\n",
       "      <td>18421.052632</td>\n",
       "    </tr>\n",
       "    <tr>\n",
       "      <th>75%</th>\n",
       "      <td>2.500000e+07</td>\n",
       "      <td>1200.000000</td>\n",
       "      <td>3.000000</td>\n",
       "      <td>2.000000</td>\n",
       "      <td>22916.666667</td>\n",
       "    </tr>\n",
       "    <tr>\n",
       "      <th>max</th>\n",
       "      <td>6.000000e+07</td>\n",
       "      <td>1800.000000</td>\n",
       "      <td>3.000000</td>\n",
       "      <td>3.000000</td>\n",
       "      <td>33366.045142</td>\n",
       "    </tr>\n",
       "  </tbody>\n",
       "</table>\n",
       "</div>"
      ],
      "text/plain": [
       "              price         area     Bedrooms    Bathrooms    Price_sqft\n",
       "count  3.931000e+03  3931.000000  3931.000000  3931.000000   3931.000000\n",
       "mean   1.986945e+07  1055.064615     2.271178     2.219028  18802.894982\n",
       "std    8.365126e+06   249.993612     0.444624     0.413640   6296.384848\n",
       "min    5.400000e+06   700.000000     2.000000     2.000000   7345.971564\n",
       "25%    1.400000e+07   860.000000     2.000000     2.000000  14596.567370\n",
       "50%    1.850000e+07  1000.000000     2.000000     2.000000  18421.052632\n",
       "75%    2.500000e+07  1200.000000     3.000000     2.000000  22916.666667\n",
       "max    6.000000e+07  1800.000000     3.000000     3.000000  33366.045142"
      ]
     },
     "execution_count": 534,
     "metadata": {},
     "output_type": "execute_result"
    }
   ],
   "source": [
    "# a = remove_outliers(df,['area','Bedrooms','Bathrooms'])\n",
    "a = remove_outliers(df,['area','Bedrooms','Bathrooms','Price_sqft'])\n",
    "a.describe()"
   ]
  },
  {
   "cell_type": "code",
   "execution_count": 535,
   "id": "5ffbc930",
   "metadata": {},
   "outputs": [],
   "source": [
    "b = pd.get_dummies(a,drop_first=True)\n",
    "y = b['price']\n",
    "x = b.drop(['price'],axis=1)"
   ]
  },
  {
   "cell_type": "code",
   "execution_count": 536,
   "id": "5fcb29ae",
   "metadata": {},
   "outputs": [
    {
     "data": {
      "text/html": [
       "<div>\n",
       "<style scoped>\n",
       "    .dataframe tbody tr th:only-of-type {\n",
       "        vertical-align: middle;\n",
       "    }\n",
       "\n",
       "    .dataframe tbody tr th {\n",
       "        vertical-align: top;\n",
       "    }\n",
       "\n",
       "    .dataframe thead th {\n",
       "        text-align: right;\n",
       "    }\n",
       "</style>\n",
       "<table border=\"1\" class=\"dataframe\">\n",
       "  <thead>\n",
       "    <tr style=\"text-align: right;\">\n",
       "      <th></th>\n",
       "      <th>area</th>\n",
       "      <th>Bedrooms</th>\n",
       "      <th>Bathrooms</th>\n",
       "      <th>Price_sqft</th>\n",
       "      <th>neworold_Resale</th>\n",
       "      <th>Furnished_status_Semi-Furnished</th>\n",
       "      <th>Furnished_status_Unfurnished</th>\n",
       "    </tr>\n",
       "  </thead>\n",
       "  <tbody>\n",
       "    <tr>\n",
       "      <th>2</th>\n",
       "      <td>968.0</td>\n",
       "      <td>3.0</td>\n",
       "      <td>3.0</td>\n",
       "      <td>32747.933884</td>\n",
       "      <td>False</td>\n",
       "      <td>False</td>\n",
       "      <td>True</td>\n",
       "    </tr>\n",
       "    <tr>\n",
       "      <th>4</th>\n",
       "      <td>1090.0</td>\n",
       "      <td>2.0</td>\n",
       "      <td>2.0</td>\n",
       "      <td>12385.321101</td>\n",
       "      <td>False</td>\n",
       "      <td>False</td>\n",
       "      <td>True</td>\n",
       "    </tr>\n",
       "    <tr>\n",
       "      <th>6</th>\n",
       "      <td>1188.0</td>\n",
       "      <td>2.0</td>\n",
       "      <td>2.0</td>\n",
       "      <td>17424.242424</td>\n",
       "      <td>False</td>\n",
       "      <td>True</td>\n",
       "      <td>False</td>\n",
       "    </tr>\n",
       "    <tr>\n",
       "      <th>7</th>\n",
       "      <td>968.0</td>\n",
       "      <td>3.0</td>\n",
       "      <td>3.0</td>\n",
       "      <td>23657.024793</td>\n",
       "      <td>False</td>\n",
       "      <td>False</td>\n",
       "      <td>True</td>\n",
       "    </tr>\n",
       "    <tr>\n",
       "      <th>8</th>\n",
       "      <td>820.0</td>\n",
       "      <td>2.0</td>\n",
       "      <td>2.0</td>\n",
       "      <td>20731.707317</td>\n",
       "      <td>False</td>\n",
       "      <td>False</td>\n",
       "      <td>True</td>\n",
       "    </tr>\n",
       "  </tbody>\n",
       "</table>\n",
       "</div>"
      ],
      "text/plain": [
       "     area  Bedrooms  Bathrooms    Price_sqft  neworold_Resale  \\\n",
       "2   968.0       3.0        3.0  32747.933884            False   \n",
       "4  1090.0       2.0        2.0  12385.321101            False   \n",
       "6  1188.0       2.0        2.0  17424.242424            False   \n",
       "7   968.0       3.0        3.0  23657.024793            False   \n",
       "8   820.0       2.0        2.0  20731.707317            False   \n",
       "\n",
       "   Furnished_status_Semi-Furnished  Furnished_status_Unfurnished  \n",
       "2                            False                          True  \n",
       "4                            False                          True  \n",
       "6                             True                         False  \n",
       "7                            False                          True  \n",
       "8                            False                          True  "
      ]
     },
     "execution_count": 536,
     "metadata": {},
     "output_type": "execute_result"
    }
   ],
   "source": [
    "x.head()"
   ]
  },
  {
   "cell_type": "code",
   "execution_count": 537,
   "id": "b71d714f",
   "metadata": {},
   "outputs": [
    {
     "data": {
      "text/plain": [
       "0.9700253877726814"
      ]
     },
     "execution_count": 537,
     "metadata": {},
     "output_type": "execute_result"
    }
   ],
   "source": [
    "x_train,x_test,y_train,y_test = train_test_split(x,y,test_size=0.25,random_state=12)\n",
    "model = LinearRegression()\n",
    "model.fit(x_train,y_train)\n",
    "model.score(x_test,y_test)"
   ]
  },
  {
   "cell_type": "code",
   "execution_count": 538,
   "id": "179391b2",
   "metadata": {},
   "outputs": [
    {
     "data": {
      "text/plain": [
       "0"
      ]
     },
     "execution_count": 538,
     "metadata": {},
     "output_type": "execute_result"
    }
   ],
   "source": [
    "c = model.predict(x_test)\n",
    "len(c[c<0])"
   ]
  },
  {
   "cell_type": "code",
   "execution_count": 539,
   "id": "c1cffd29",
   "metadata": {
    "scrolled": false
   },
   "outputs": [
    {
     "name": "stderr",
     "output_type": "stream",
     "text": [
      "C:\\Users\\ashis\\AppData\\Roaming\\Python\\Python311\\site-packages\\sklearn\\base.py:439: UserWarning: X does not have valid feature names, but LinearRegression was fitted with feature names\n",
      "  warnings.warn(\n"
     ]
    },
    {
     "data": {
      "text/plain": [
       "'Rs. 1,39,55,848'"
      ]
     },
     "execution_count": 539,
     "metadata": {},
     "output_type": "execute_result"
    }
   ],
   "source": [
    "price = model.predict([[850,2,2,17000,True,False,False]])\n",
    "format_price(price)"
   ]
  },
  {
   "cell_type": "code",
   "execution_count": 540,
   "id": "254ba12a",
   "metadata": {},
   "outputs": [],
   "source": [
    "def format_price(temp):\n",
    "    temp = str(price[0]).split(\".\")[0]\n",
    "    ans = \"\"\n",
    "    temp = temp[::-1]\n",
    "    c =0\n",
    "    for i in range(len(temp)):\n",
    "        if temp[i]==',':\n",
    "            break\n",
    "        if c==3:\n",
    "            ans+=\",\"\n",
    "        c+=1\n",
    "        ans+=temp[i]\n",
    "    left,ans = ans.split(\",\")[0],ans.split(\",\")[-1]\n",
    "    t = \"\"\n",
    "    c = 0\n",
    "    for i in range(len(ans)):\n",
    "        if c==2:\n",
    "            t+=\",\"\n",
    "            c =0 \n",
    "        c+=1\n",
    "        t+=ans[i]\n",
    "    t = t[::-1]\n",
    "    finalans = \"Rs. \"+t+\",\"+left\n",
    "    return finalans"
   ]
  },
  {
   "cell_type": "code",
   "execution_count": 541,
   "id": "68d3d33f",
   "metadata": {
    "scrolled": true
   },
   "outputs": [],
   "source": [
    "# plt.scatter(a['Price_sqft'],a['price'])\n",
    "# plt.show()"
   ]
  },
  {
   "cell_type": "code",
   "execution_count": 542,
   "id": "36a78c69",
   "metadata": {},
   "outputs": [],
   "source": [
    "# sns.histplot(a['price'],kde=True)"
   ]
  },
  {
   "cell_type": "code",
   "execution_count": 543,
   "id": "cd7415ea",
   "metadata": {},
   "outputs": [],
   "source": [
    "# sns.histplot(a['area'],kde=True)"
   ]
  },
  {
   "cell_type": "code",
   "execution_count": null,
   "id": "8adde272",
   "metadata": {},
   "outputs": [],
   "source": []
  }
 ],
 "metadata": {
  "kernelspec": {
   "display_name": "Python 3 (ipykernel)",
   "language": "python",
   "name": "python3"
  },
  "language_info": {
   "codemirror_mode": {
    "name": "ipython",
    "version": 3
   },
   "file_extension": ".py",
   "mimetype": "text/x-python",
   "name": "python",
   "nbconvert_exporter": "python",
   "pygments_lexer": "ipython3",
   "version": "3.11.3"
  }
 },
 "nbformat": 4,
 "nbformat_minor": 5
}
