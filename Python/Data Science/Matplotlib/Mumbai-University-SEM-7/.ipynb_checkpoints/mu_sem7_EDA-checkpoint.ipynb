{
 "cells": [
  {
   "cell_type": "code",
   "execution_count": 14,
   "id": "e2f4a85c",
   "metadata": {},
   "outputs": [],
   "source": [
    "import pandas as pd\n",
    "import matplotlib.pyplot as plt"
   ]
  },
  {
   "cell_type": "code",
   "execution_count": 15,
   "id": "d26c41b6",
   "metadata": {},
   "outputs": [
    {
     "data": {
      "text/html": [
       "<div>\n",
       "<style scoped>\n",
       "    .dataframe tbody tr th:only-of-type {\n",
       "        vertical-align: middle;\n",
       "    }\n",
       "\n",
       "    .dataframe tbody tr th {\n",
       "        vertical-align: top;\n",
       "    }\n",
       "\n",
       "    .dataframe thead th {\n",
       "        text-align: right;\n",
       "    }\n",
       "</style>\n",
       "<table border=\"1\" class=\"dataframe\">\n",
       "  <thead>\n",
       "    <tr style=\"text-align: right;\">\n",
       "      <th></th>\n",
       "      <th>seat_no</th>\n",
       "      <th>prn</th>\n",
       "      <th>centre</th>\n",
       "      <th>total_gradepoints</th>\n",
       "      <th>sgpi</th>\n",
       "      <th>status</th>\n",
       "      <th>year_of_admission</th>\n",
       "      <th>clg_id</th>\n",
       "      <th>gender</th>\n",
       "    </tr>\n",
       "  </thead>\n",
       "  <tbody>\n",
       "    <tr>\n",
       "      <th>0</th>\n",
       "      <td>5201541</td>\n",
       "      <td>2020016402260361</td>\n",
       "      <td>Mumbai</td>\n",
       "      <td>201.0</td>\n",
       "      <td>9.14</td>\n",
       "      <td>Successful</td>\n",
       "      <td>2020</td>\n",
       "      <td>10</td>\n",
       "      <td>M</td>\n",
       "    </tr>\n",
       "    <tr>\n",
       "      <th>1</th>\n",
       "      <td>5201542</td>\n",
       "      <td>2020016402258942</td>\n",
       "      <td>Mumbai</td>\n",
       "      <td>178.0</td>\n",
       "      <td>8.09</td>\n",
       "      <td>Successful</td>\n",
       "      <td>2020</td>\n",
       "      <td>10</td>\n",
       "      <td>M</td>\n",
       "    </tr>\n",
       "    <tr>\n",
       "      <th>2</th>\n",
       "      <td>5201543</td>\n",
       "      <td>2018016402446735</td>\n",
       "      <td>Mumbai</td>\n",
       "      <td>175.0</td>\n",
       "      <td>7.95</td>\n",
       "      <td>Successful</td>\n",
       "      <td>2018</td>\n",
       "      <td>10</td>\n",
       "      <td>M</td>\n",
       "    </tr>\n",
       "    <tr>\n",
       "      <th>3</th>\n",
       "      <td>5201544</td>\n",
       "      <td>2019016402401026</td>\n",
       "      <td>Mumbai</td>\n",
       "      <td>166.0</td>\n",
       "      <td>7.55</td>\n",
       "      <td>Successful</td>\n",
       "      <td>2019</td>\n",
       "      <td>10</td>\n",
       "      <td>M</td>\n",
       "    </tr>\n",
       "    <tr>\n",
       "      <th>4</th>\n",
       "      <td>5201545</td>\n",
       "      <td>2019016402401011</td>\n",
       "      <td>Mumbai</td>\n",
       "      <td>177.0</td>\n",
       "      <td>8.05</td>\n",
       "      <td>Successful</td>\n",
       "      <td>2019</td>\n",
       "      <td>10</td>\n",
       "      <td>M</td>\n",
       "    </tr>\n",
       "  </tbody>\n",
       "</table>\n",
       "</div>"
      ],
      "text/plain": [
       "   seat_no               prn  centre  total_gradepoints  sgpi       status  \\\n",
       "0  5201541  2020016402260361  Mumbai              201.0  9.14  Successful    \n",
       "1  5201542  2020016402258942  Mumbai              178.0  8.09  Successful    \n",
       "2  5201543  2018016402446735  Mumbai              175.0  7.95  Successful    \n",
       "3  5201544  2019016402401026  Mumbai              166.0  7.55  Successful    \n",
       "4  5201545  2019016402401011  Mumbai              177.0  8.05  Successful    \n",
       "\n",
       "   year_of_admission  clg_id gender  \n",
       "0               2020      10      M  \n",
       "1               2020      10      M  \n",
       "2               2018      10      M  \n",
       "3               2019      10      M  \n",
       "4               2019      10      M  "
      ]
     },
     "execution_count": 15,
     "metadata": {},
     "output_type": "execute_result"
    }
   ],
   "source": [
    "df = pd.read_csv('result.csv')\n",
    "df.head()"
   ]
  },
  {
   "cell_type": "code",
   "execution_count": 16,
   "id": "48c25c87",
   "metadata": {},
   "outputs": [
    {
     "data": {
      "text/plain": [
       "seat_no               0\n",
       "prn                   0\n",
       "centre               21\n",
       "total_gradepoints     0\n",
       "sgpi                  0\n",
       "status                0\n",
       "year_of_admission     0\n",
       "clg_id                0\n",
       "gender                0\n",
       "dtype: int64"
      ]
     },
     "execution_count": 16,
     "metadata": {},
     "output_type": "execute_result"
    }
   ],
   "source": [
    "df.isna().sum()"
   ]
  },
  {
   "cell_type": "code",
   "execution_count": 17,
   "id": "92a382eb",
   "metadata": {},
   "outputs": [
    {
     "data": {
      "text/plain": [
       "(5211, 9)"
      ]
     },
     "execution_count": 17,
     "metadata": {},
     "output_type": "execute_result"
    }
   ],
   "source": [
    "df.shape"
   ]
  },
  {
   "cell_type": "code",
   "execution_count": 18,
   "id": "cb394024",
   "metadata": {},
   "outputs": [
    {
     "data": {
      "text/plain": [
       "Index(['seat_no', 'prn', 'centre', 'total_gradepoints', 'sgpi', 'status',\n",
       "       'year_of_admission', 'clg_id', 'gender'],\n",
       "      dtype='object')"
      ]
     },
     "execution_count": 18,
     "metadata": {},
     "output_type": "execute_result"
    }
   ],
   "source": [
    "df = df.dropna()\n",
    "df.columns"
   ]
  },
  {
   "cell_type": "code",
   "execution_count": 19,
   "id": "dbc0f0cd",
   "metadata": {},
   "outputs": [],
   "source": [
    "df = df.drop(['seat_no', 'prn','total_gradepoints','clg_id'],axis=1)"
   ]
  },
  {
   "cell_type": "code",
   "execution_count": 20,
   "id": "36911855",
   "metadata": {},
   "outputs": [
    {
     "data": {
      "text/html": [
       "<div>\n",
       "<style scoped>\n",
       "    .dataframe tbody tr th:only-of-type {\n",
       "        vertical-align: middle;\n",
       "    }\n",
       "\n",
       "    .dataframe tbody tr th {\n",
       "        vertical-align: top;\n",
       "    }\n",
       "\n",
       "    .dataframe thead th {\n",
       "        text-align: right;\n",
       "    }\n",
       "</style>\n",
       "<table border=\"1\" class=\"dataframe\">\n",
       "  <thead>\n",
       "    <tr style=\"text-align: right;\">\n",
       "      <th></th>\n",
       "      <th>centre</th>\n",
       "      <th>sgpi</th>\n",
       "      <th>status</th>\n",
       "      <th>year_of_admission</th>\n",
       "      <th>gender</th>\n",
       "    </tr>\n",
       "  </thead>\n",
       "  <tbody>\n",
       "    <tr>\n",
       "      <th>0</th>\n",
       "      <td>Mumbai</td>\n",
       "      <td>9.14</td>\n",
       "      <td>Successful</td>\n",
       "      <td>2020</td>\n",
       "      <td>M</td>\n",
       "    </tr>\n",
       "    <tr>\n",
       "      <th>1</th>\n",
       "      <td>Mumbai</td>\n",
       "      <td>8.09</td>\n",
       "      <td>Successful</td>\n",
       "      <td>2020</td>\n",
       "      <td>M</td>\n",
       "    </tr>\n",
       "    <tr>\n",
       "      <th>2</th>\n",
       "      <td>Mumbai</td>\n",
       "      <td>7.95</td>\n",
       "      <td>Successful</td>\n",
       "      <td>2018</td>\n",
       "      <td>M</td>\n",
       "    </tr>\n",
       "    <tr>\n",
       "      <th>3</th>\n",
       "      <td>Mumbai</td>\n",
       "      <td>7.55</td>\n",
       "      <td>Successful</td>\n",
       "      <td>2019</td>\n",
       "      <td>M</td>\n",
       "    </tr>\n",
       "    <tr>\n",
       "      <th>4</th>\n",
       "      <td>Mumbai</td>\n",
       "      <td>8.05</td>\n",
       "      <td>Successful</td>\n",
       "      <td>2019</td>\n",
       "      <td>M</td>\n",
       "    </tr>\n",
       "  </tbody>\n",
       "</table>\n",
       "</div>"
      ],
      "text/plain": [
       "   centre  sgpi       status  year_of_admission gender\n",
       "0  Mumbai  9.14  Successful                2020      M\n",
       "1  Mumbai  8.09  Successful                2020      M\n",
       "2  Mumbai  7.95  Successful                2018      M\n",
       "3  Mumbai  7.55  Successful                2019      M\n",
       "4  Mumbai  8.05  Successful                2019      M"
      ]
     },
     "execution_count": 20,
     "metadata": {},
     "output_type": "execute_result"
    }
   ],
   "source": [
    "df.head()"
   ]
  },
  {
   "cell_type": "code",
   "execution_count": 24,
   "id": "5fa5ec9f",
   "metadata": {},
   "outputs": [
    {
     "data": {
      "text/html": [
       "<div>\n",
       "<style scoped>\n",
       "    .dataframe tbody tr th:only-of-type {\n",
       "        vertical-align: middle;\n",
       "    }\n",
       "\n",
       "    .dataframe tbody tr th {\n",
       "        vertical-align: top;\n",
       "    }\n",
       "\n",
       "    .dataframe thead th {\n",
       "        text-align: right;\n",
       "    }\n",
       "</style>\n",
       "<table border=\"1\" class=\"dataframe\">\n",
       "  <thead>\n",
       "    <tr style=\"text-align: right;\">\n",
       "      <th></th>\n",
       "      <th>centre</th>\n",
       "      <th>sgpi</th>\n",
       "      <th>status</th>\n",
       "      <th>year_of_admission</th>\n",
       "      <th>gender</th>\n",
       "    </tr>\n",
       "  </thead>\n",
       "  <tbody>\n",
       "  </tbody>\n",
       "</table>\n",
       "</div>"
      ],
      "text/plain": [
       "Empty DataFrame\n",
       "Columns: [centre, sgpi, status, year_of_admission, gender]\n",
       "Index: []"
      ]
     },
     "execution_count": 24,
     "metadata": {},
     "output_type": "execute_result"
    }
   ],
   "source": [
    "df_successfull = df[df['status']=='Successful']"
   ]
  },
  {
   "cell_type": "code",
   "execution_count": null,
   "id": "b8386154",
   "metadata": {},
   "outputs": [],
   "source": []
  }
 ],
 "metadata": {
  "kernelspec": {
   "display_name": "Python 3 (ipykernel)",
   "language": "python",
   "name": "python3"
  },
  "language_info": {
   "codemirror_mode": {
    "name": "ipython",
    "version": 3
   },
   "file_extension": ".py",
   "mimetype": "text/x-python",
   "name": "python",
   "nbconvert_exporter": "python",
   "pygments_lexer": "ipython3",
   "version": "3.11.3"
  }
 },
 "nbformat": 4,
 "nbformat_minor": 5
}
