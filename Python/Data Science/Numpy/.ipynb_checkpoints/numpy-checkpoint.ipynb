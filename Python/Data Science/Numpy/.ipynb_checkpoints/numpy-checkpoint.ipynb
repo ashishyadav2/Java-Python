{
 "cells": [
  {
   "cell_type": "markdown",
   "id": "50d63634",
   "metadata": {},
   "source": [
    "# Numpy"
   ]
  },
  {
   "cell_type": "code",
   "execution_count": 1,
   "id": "0b1da690",
   "metadata": {},
   "outputs": [],
   "source": [
    "import numpy as np"
   ]
  },
  {
   "cell_type": "code",
   "execution_count": 5,
   "id": "76f8dac8",
   "metadata": {},
   "outputs": [
    {
     "data": {
      "text/plain": [
       "array([32, 35, 30, 39], dtype=int64)"
      ]
     },
     "execution_count": 5,
     "metadata": {},
     "output_type": "execute_result"
    }
   ],
   "source": [
    "# to create np array, 8bit integer\n",
    "arr = np.array([32,35,30,39], np.int64)\n",
    "arr"
   ]
  },
  {
   "cell_type": "code",
   "execution_count": 6,
   "id": "52b2ba27",
   "metadata": {},
   "outputs": [
    {
     "data": {
      "text/plain": [
       "35"
      ]
     },
     "execution_count": 6,
     "metadata": {},
     "output_type": "execute_result"
    }
   ],
   "source": [
    "arr[1]"
   ]
  },
  {
   "cell_type": "code",
   "execution_count": 7,
   "id": "e84fc1af",
   "metadata": {},
   "outputs": [
    {
     "data": {
      "text/plain": [
       "array([[32, 35, 30, 39]], dtype=int64)"
      ]
     },
     "execution_count": 7,
     "metadata": {},
     "output_type": "execute_result"
    }
   ],
   "source": [
    "arr = np.array([[32,35,30,39]], np.int64)\n",
    "arr"
   ]
  },
  {
   "cell_type": "code",
   "execution_count": 8,
   "id": "91f631c7",
   "metadata": {},
   "outputs": [
    {
     "data": {
      "text/plain": [
       "35"
      ]
     },
     "execution_count": 8,
     "metadata": {},
     "output_type": "execute_result"
    }
   ],
   "source": [
    "arr[0,1]"
   ]
  },
  {
   "cell_type": "code",
   "execution_count": 9,
   "id": "82af5caf",
   "metadata": {},
   "outputs": [
    {
     "data": {
      "text/plain": [
       "(1, 4)"
      ]
     },
     "execution_count": 9,
     "metadata": {},
     "output_type": "execute_result"
    }
   ],
   "source": [
    "arr.shape"
   ]
  },
  {
   "cell_type": "code",
   "execution_count": 10,
   "id": "420f5d92",
   "metadata": {},
   "outputs": [
    {
     "data": {
      "text/plain": [
       "dtype('int64')"
      ]
     },
     "execution_count": 10,
     "metadata": {},
     "output_type": "execute_result"
    }
   ],
   "source": [
    "arr.dtype"
   ]
  },
  {
   "cell_type": "code",
   "execution_count": 12,
   "id": "b37461f5",
   "metadata": {},
   "outputs": [
    {
     "data": {
      "text/plain": [
       "array([[32, 45, 30, 39]], dtype=int64)"
      ]
     },
     "execution_count": 12,
     "metadata": {},
     "output_type": "execute_result"
    }
   ],
   "source": [
    "arr[0,1]=45\n",
    "arr"
   ]
  },
  {
   "cell_type": "markdown",
   "id": "81c6d86c",
   "metadata": {},
   "source": [
    "## Array Creation Method"
   ]
  },
  {
   "cell_type": "code",
   "execution_count": 15,
   "id": "870d99ba",
   "metadata": {},
   "outputs": [
    {
     "data": {
      "text/plain": [
       "array([ 1, 23,  4,  6,  8])"
      ]
     },
     "execution_count": 15,
     "metadata": {},
     "output_type": "execute_result"
    }
   ],
   "source": [
    "# Using python objects\n",
    "lst = [1,23,4,6,8]\n",
    "array = np.array(lst)\n",
    "array"
   ]
  },
  {
   "cell_type": "code",
   "execution_count": 16,
   "id": "c48ec7e8",
   "metadata": {},
   "outputs": [
    {
     "data": {
      "text/plain": [
       "5"
      ]
     },
     "execution_count": 16,
     "metadata": {},
     "output_type": "execute_result"
    }
   ],
   "source": [
    "array.size"
   ]
  },
  {
   "cell_type": "code",
   "execution_count": 17,
   "id": "1f9a406c",
   "metadata": {},
   "outputs": [
    {
     "data": {
      "text/plain": [
       "array([[0., 0., 0., 0., 0.],\n",
       "       [0., 0., 0., 0., 0.]])"
      ]
     },
     "execution_count": 17,
     "metadata": {},
     "output_type": "execute_result"
    }
   ],
   "source": [
    "# Intrinsic methods\n",
    "# row,col\n",
    "zero = np.zeros((2,5))\n",
    "zero"
   ]
  },
  {
   "cell_type": "code",
   "execution_count": 18,
   "id": "fb35a26f",
   "metadata": {},
   "outputs": [
    {
     "data": {
      "text/plain": [
       "array([ 0,  1,  2,  3,  4,  5,  6,  7,  8,  9, 10, 11, 12, 13, 14])"
      ]
     },
     "execution_count": 18,
     "metadata": {},
     "output_type": "execute_result"
    }
   ],
   "source": [
    "# same as range in python\n",
    "np.arange(15)"
   ]
  },
  {
   "cell_type": "code",
   "execution_count": 23,
   "id": "e8b61080",
   "metadata": {},
   "outputs": [
    {
     "data": {
      "text/plain": [
       "array([ 1.  , 13.25, 25.5 , 37.75, 50.  ])"
      ]
     },
     "execution_count": 23,
     "metadata": {},
     "output_type": "execute_result"
    }
   ],
   "source": [
    "# linspace\n",
    "#equally linearly spaced array\n",
    "# element 1 to 50  and want 5 numbers \n",
    "np.linspace(1,50,5)"
   ]
  },
  {
   "cell_type": "code",
   "execution_count": 24,
   "id": "1b191ad1",
   "metadata": {},
   "outputs": [
    {
     "data": {
      "text/plain": [
       "array([[6.23042070e-307, 4.67296746e-307, 1.69121096e-306,\n",
       "        1.06811354e-306, 1.89146896e-307, 7.56571288e-307],\n",
       "       [4.00544531e-307, 1.11261095e-306, 3.56043054e-307,\n",
       "        1.37961641e-306, 2.22518251e-306, 1.33511969e-306],\n",
       "       [6.23037317e-307, 9.34609790e-307, 8.45593934e-307,\n",
       "        9.34600963e-307, 1.86921143e-306, 6.23061763e-307],\n",
       "       [1.60221072e-306, 1.11261027e-306, 6.89805151e-307,\n",
       "        1.78020169e-306, 1.42410974e-306, 5.97819431e-322]])"
      ]
     },
     "execution_count": 24,
     "metadata": {},
     "output_type": "execute_result"
    }
   ],
   "source": [
    "# empty array with random values\n",
    "np.empty((4,6))"
   ]
  },
  {
   "cell_type": "code",
   "execution_count": 26,
   "id": "946e1fe3",
   "metadata": {},
   "outputs": [
    {
     "data": {
      "text/plain": [
       "array([[4623367229960880128, 4627870829588250624, 4630580026239090688,\n",
       "        4632374429215621120]], dtype=int64)"
      ]
     },
     "execution_count": 26,
     "metadata": {},
     "output_type": "execute_result"
    }
   ],
   "source": [
    "# makes empty array like some other array\n",
    "np.empty_like(arr)"
   ]
  },
  {
   "cell_type": "code",
   "execution_count": 27,
   "id": "c94842ff",
   "metadata": {},
   "outputs": [
    {
     "data": {
      "text/plain": [
       "array([[1., 0., 0., 0., 0.],\n",
       "       [0., 1., 0., 0., 0.],\n",
       "       [0., 0., 1., 0., 0.],\n",
       "       [0., 0., 0., 1., 0.],\n",
       "       [0., 0., 0., 0., 1.]])"
      ]
     },
     "execution_count": 27,
     "metadata": {},
     "output_type": "execute_result"
    }
   ],
   "source": [
    "np.identity(5)"
   ]
  },
  {
   "cell_type": "code",
   "execution_count": 28,
   "id": "eb2cf75c",
   "metadata": {},
   "outputs": [],
   "source": [
    "arr = np.arange(99)"
   ]
  },
  {
   "cell_type": "code",
   "execution_count": 31,
   "id": "5f8d79db",
   "metadata": {},
   "outputs": [
    {
     "data": {
      "text/plain": [
       "array([[ 0,  1,  2,  3,  4,  5,  6,  7,  8,  9, 10, 11, 12, 13, 14, 15,\n",
       "        16, 17, 18, 19, 20, 21, 22, 23, 24, 25, 26, 27, 28, 29, 30, 31,\n",
       "        32],\n",
       "       [33, 34, 35, 36, 37, 38, 39, 40, 41, 42, 43, 44, 45, 46, 47, 48,\n",
       "        49, 50, 51, 52, 53, 54, 55, 56, 57, 58, 59, 60, 61, 62, 63, 64,\n",
       "        65],\n",
       "       [66, 67, 68, 69, 70, 71, 72, 73, 74, 75, 76, 77, 78, 79, 80, 81,\n",
       "        82, 83, 84, 85, 86, 87, 88, 89, 90, 91, 92, 93, 94, 95, 96, 97,\n",
       "        98]])"
      ]
     },
     "execution_count": 31,
     "metadata": {},
     "output_type": "execute_result"
    }
   ],
   "source": [
    "arr.reshape(3,33)"
   ]
  },
  {
   "cell_type": "code",
   "execution_count": 33,
   "id": "5fac92cb",
   "metadata": {},
   "outputs": [
    {
     "data": {
      "text/plain": [
       "array([ 0,  1,  2,  3,  4,  5,  6,  7,  8,  9, 10, 11, 12, 13, 14, 15, 16,\n",
       "       17, 18, 19, 20, 21, 22, 23, 24, 25, 26, 27, 28, 29, 30, 31, 32, 33,\n",
       "       34, 35, 36, 37, 38, 39, 40, 41, 42, 43, 44, 45, 46, 47, 48, 49, 50,\n",
       "       51, 52, 53, 54, 55, 56, 57, 58, 59, 60, 61, 62, 63, 64, 65, 66, 67,\n",
       "       68, 69, 70, 71, 72, 73, 74, 75, 76, 77, 78, 79, 80, 81, 82, 83, 84,\n",
       "       85, 86, 87, 88, 89, 90, 91, 92, 93, 94, 95, 96, 97, 98])"
      ]
     },
     "execution_count": 33,
     "metadata": {},
     "output_type": "execute_result"
    }
   ],
   "source": [
    "# to get 1d array\n",
    "arr.ravel()"
   ]
  },
  {
   "cell_type": "markdown",
   "id": "21887262",
   "metadata": {},
   "source": [
    "## Numpy Axis"
   ]
  },
  {
   "cell_type": "code",
   "execution_count": 34,
   "id": "b118ee37",
   "metadata": {},
   "outputs": [],
   "source": [
    "x = [[1,2,3],\n",
    "     [4,5,6],\n",
    "     [7,8,9]]"
   ]
  },
  {
   "cell_type": "code",
   "execution_count": 35,
   "id": "a9f9eb5d",
   "metadata": {},
   "outputs": [
    {
     "data": {
      "text/plain": [
       "array([[1, 2, 3],\n",
       "       [4, 5, 6],\n",
       "       [7, 8, 9]])"
      ]
     },
     "execution_count": 35,
     "metadata": {},
     "output_type": "execute_result"
    }
   ],
   "source": [
    "ar = np.array(x)\n",
    "ar"
   ]
  },
  {
   "cell_type": "code",
   "execution_count": 36,
   "id": "80feb8ae",
   "metadata": {},
   "outputs": [
    {
     "data": {
      "text/plain": [
       "array([12, 15, 18])"
      ]
     },
     "execution_count": 36,
     "metadata": {},
     "output_type": "execute_result"
    }
   ],
   "source": [
    "ar.sum(axis=0)"
   ]
  },
  {
   "cell_type": "code",
   "execution_count": 37,
   "id": "78489b15",
   "metadata": {},
   "outputs": [
    {
     "data": {
      "text/plain": [
       "array([ 6, 15, 24])"
      ]
     },
     "execution_count": 37,
     "metadata": {},
     "output_type": "execute_result"
    }
   ],
   "source": [
    "ar.sum(axis=1)"
   ]
  },
  {
   "cell_type": "code",
   "execution_count": 39,
   "id": "7e37d0d3",
   "metadata": {},
   "outputs": [
    {
     "data": {
      "text/plain": [
       "array([[1, 4, 7],\n",
       "       [2, 5, 8],\n",
       "       [3, 6, 9]])"
      ]
     },
     "execution_count": 39,
     "metadata": {},
     "output_type": "execute_result"
    }
   ],
   "source": [
    "# T to transform\n",
    "ar.T"
   ]
  },
  {
   "cell_type": "code",
   "execution_count": 40,
   "id": "c3c75301",
   "metadata": {},
   "outputs": [
    {
     "data": {
      "text/plain": [
       "[1, 2, 3, 4, 5, 6, 7, 8, 9]"
      ]
     },
     "execution_count": 40,
     "metadata": {},
     "output_type": "execute_result"
    }
   ],
   "source": [
    "list(ar.flat)"
   ]
  },
  {
   "cell_type": "code",
   "execution_count": 41,
   "id": "c24e2380",
   "metadata": {},
   "outputs": [
    {
     "data": {
      "text/plain": [
       "2"
      ]
     },
     "execution_count": 41,
     "metadata": {},
     "output_type": "execute_result"
    }
   ],
   "source": [
    "# gives dimensions\n",
    "ar.ndim"
   ]
  },
  {
   "cell_type": "code",
   "execution_count": 42,
   "id": "7ac13930",
   "metadata": {},
   "outputs": [
    {
     "data": {
      "text/plain": [
       "9"
      ]
     },
     "execution_count": 42,
     "metadata": {},
     "output_type": "execute_result"
    }
   ],
   "source": [
    "ar.size"
   ]
  },
  {
   "cell_type": "code",
   "execution_count": 43,
   "id": "c832a9e6",
   "metadata": {},
   "outputs": [
    {
     "data": {
      "text/plain": [
       "36"
      ]
     },
     "execution_count": 43,
     "metadata": {},
     "output_type": "execute_result"
    }
   ],
   "source": [
    "# total bytes consumed by the array\n",
    "ar.nbytes"
   ]
  },
  {
   "cell_type": "code",
   "execution_count": 50,
   "id": "2c6960dd",
   "metadata": {},
   "outputs": [],
   "source": [
    "one = np.array([1,30,4,5,45])"
   ]
  },
  {
   "cell_type": "code",
   "execution_count": 51,
   "id": "1e829fe1",
   "metadata": {},
   "outputs": [
    {
     "data": {
      "text/plain": [
       "4"
      ]
     },
     "execution_count": 51,
     "metadata": {},
     "output_type": "execute_result"
    }
   ],
   "source": [
    "# gives index of max element\n",
    "one.argmax()"
   ]
  },
  {
   "cell_type": "code",
   "execution_count": 52,
   "id": "3273e170",
   "metadata": {},
   "outputs": [
    {
     "data": {
      "text/plain": [
       "0"
      ]
     },
     "execution_count": 52,
     "metadata": {},
     "output_type": "execute_result"
    }
   ],
   "source": [
    "one.argmin()"
   ]
  },
  {
   "cell_type": "code",
   "execution_count": 53,
   "id": "f6409cdc",
   "metadata": {},
   "outputs": [
    {
     "data": {
      "text/plain": [
       "array([0, 2, 3, 1, 4], dtype=int64)"
      ]
     },
     "execution_count": 53,
     "metadata": {},
     "output_type": "execute_result"
    }
   ],
   "source": [
    "# index of elements if they were sorted\n",
    "one.argsort()"
   ]
  },
  {
   "cell_type": "code",
   "execution_count": 55,
   "id": "9d7e7ce4",
   "metadata": {},
   "outputs": [
    {
     "data": {
      "text/plain": [
       "8"
      ]
     },
     "execution_count": 55,
     "metadata": {},
     "output_type": "execute_result"
    }
   ],
   "source": [
    "# flats the 2d matrix and gives index\n",
    "ar.argmax() "
   ]
  },
  {
   "cell_type": "code",
   "execution_count": 56,
   "id": "06c78d07",
   "metadata": {},
   "outputs": [
    {
     "data": {
      "text/plain": [
       "array([[1.        , 1.41421356, 1.73205081],\n",
       "       [2.        , 2.23606798, 2.44948974],\n",
       "       [2.64575131, 2.82842712, 3.        ]])"
      ]
     },
     "execution_count": 56,
     "metadata": {},
     "output_type": "execute_result"
    }
   ],
   "source": [
    "np.sqrt(ar)"
   ]
  },
  {
   "cell_type": "code",
   "execution_count": 59,
   "id": "710d7cce",
   "metadata": {},
   "outputs": [
    {
     "data": {
      "text/plain": [
       "array([[ 2,  4,  6],\n",
       "       [ 8, 10, 12],\n",
       "       [14, 16, 18]])"
      ]
     },
     "execution_count": 59,
     "metadata": {},
     "output_type": "execute_result"
    }
   ],
   "source": [
    "ar+ar"
   ]
  },
  {
   "cell_type": "code",
   "execution_count": 60,
   "id": "9a7739cb",
   "metadata": {},
   "outputs": [
    {
     "data": {
      "text/plain": [
       "45"
      ]
     },
     "execution_count": 60,
     "metadata": {},
     "output_type": "execute_result"
    }
   ],
   "source": [
    "ar.sum()"
   ]
  },
  {
   "cell_type": "code",
   "execution_count": 61,
   "id": "8fb415bf",
   "metadata": {},
   "outputs": [
    {
     "data": {
      "text/plain": [
       "1"
      ]
     },
     "execution_count": 61,
     "metadata": {},
     "output_type": "execute_result"
    }
   ],
   "source": [
    "ar.min()"
   ]
  },
  {
   "cell_type": "code",
   "execution_count": 62,
   "id": "e5877324",
   "metadata": {},
   "outputs": [
    {
     "data": {
      "text/plain": [
       "9"
      ]
     },
     "execution_count": 62,
     "metadata": {},
     "output_type": "execute_result"
    }
   ],
   "source": [
    "ar.max()"
   ]
  },
  {
   "cell_type": "code",
   "execution_count": 64,
   "id": "631f342a",
   "metadata": {},
   "outputs": [
    {
     "data": {
      "text/plain": [
       "array([[1, 2, 3],\n",
       "       [4, 5, 6],\n",
       "       [7, 8, 9]])"
      ]
     },
     "execution_count": 64,
     "metadata": {},
     "output_type": "execute_result"
    }
   ],
   "source": [
    "ar"
   ]
  },
  {
   "cell_type": "code",
   "execution_count": 65,
   "id": "9a142732",
   "metadata": {},
   "outputs": [
    {
     "data": {
      "text/plain": [
       "(array([0, 0, 0, 1], dtype=int64), array([0, 1, 2, 0], dtype=int64))"
      ]
     },
     "execution_count": 65,
     "metadata": {},
     "output_type": "execute_result"
    }
   ],
   "source": [
    "# finds elements greater than 5, gives row and col indcies of the query\n",
    "np.where(ar<5)"
   ]
  },
  {
   "cell_type": "code",
   "execution_count": 67,
   "id": "9a12bc1d",
   "metadata": {},
   "outputs": [
    {
     "data": {
      "text/plain": [
       "9"
      ]
     },
     "execution_count": 67,
     "metadata": {},
     "output_type": "execute_result"
    }
   ],
   "source": [
    "np.count_nonzero(ar)"
   ]
  },
  {
   "cell_type": "code",
   "execution_count": 68,
   "id": "a183d22e",
   "metadata": {},
   "outputs": [
    {
     "data": {
      "text/plain": [
       "(array([0, 0, 0, 1, 1, 1, 2, 2, 2], dtype=int64),\n",
       " array([0, 1, 2, 0, 1, 2, 0, 1, 2], dtype=int64))"
      ]
     },
     "execution_count": 68,
     "metadata": {},
     "output_type": "execute_result"
    }
   ],
   "source": [
    "np.nonzero(ar)"
   ]
  },
  {
   "cell_type": "code",
   "execution_count": 69,
   "id": "372f3aad",
   "metadata": {},
   "outputs": [],
   "source": [
    "import sys"
   ]
  },
  {
   "cell_type": "code",
   "execution_count": 70,
   "id": "df38f700",
   "metadata": {},
   "outputs": [],
   "source": [
    "py_ar = [0,5,55,26]\n",
    "np_ar = np.array(py_ar)"
   ]
  },
  {
   "cell_type": "code",
   "execution_count": 71,
   "id": "c148edf0",
   "metadata": {},
   "outputs": [
    {
     "data": {
      "text/plain": [
       "112"
      ]
     },
     "execution_count": 71,
     "metadata": {},
     "output_type": "execute_result"
    }
   ],
   "source": [
    "sys.getsizeof(1)*len(py_ar)"
   ]
  },
  {
   "cell_type": "code",
   "execution_count": 73,
   "id": "5fc5794b",
   "metadata": {},
   "outputs": [
    {
     "data": {
      "text/plain": [
       "16"
      ]
     },
     "execution_count": 73,
     "metadata": {},
     "output_type": "execute_result"
    }
   ],
   "source": [
    "# size of individaul item : itemsize\n",
    "np_ar.itemsize*np_ar.size"
   ]
  },
  {
   "cell_type": "code",
   "execution_count": 76,
   "id": "f43b0810",
   "metadata": {},
   "outputs": [
    {
     "data": {
      "text/plain": [
       "[0, 5, 55, 26]"
      ]
     },
     "execution_count": 76,
     "metadata": {},
     "output_type": "execute_result"
    }
   ],
   "source": [
    "# np array to python list\n",
    "np_ar.tolist()"
   ]
  },
  {
   "cell_type": "markdown",
   "id": "7e7301bb",
   "metadata": {},
   "source": [
    "# Practice"
   ]
  },
  {
   "cell_type": "code",
   "execution_count": 1,
   "id": "ab55308a",
   "metadata": {},
   "outputs": [],
   "source": [
    "import numpy as np"
   ]
  },
  {
   "cell_type": "code",
   "execution_count": 2,
   "id": "849afdc4",
   "metadata": {},
   "outputs": [],
   "source": [
    "mat = np.array([[30,35,69],[56,25,21],[39,42,50]])"
   ]
  },
  {
   "cell_type": "code",
   "execution_count": 3,
   "id": "26442a39",
   "metadata": {},
   "outputs": [
    {
     "data": {
      "text/plain": [
       "40.77777777777778"
      ]
     },
     "execution_count": 3,
     "metadata": {},
     "output_type": "execute_result"
    }
   ],
   "source": [
    "mat.mean()"
   ]
  },
  {
   "cell_type": "code",
   "execution_count": 6,
   "id": "0952263b",
   "metadata": {},
   "outputs": [
    {
     "data": {
      "text/plain": [
       "21"
      ]
     },
     "execution_count": 6,
     "metadata": {},
     "output_type": "execute_result"
    }
   ],
   "source": [
    "mat.min()"
   ]
  },
  {
   "cell_type": "code",
   "execution_count": 7,
   "id": "23b3085d",
   "metadata": {},
   "outputs": [
    {
     "data": {
      "text/plain": [
       "69"
      ]
     },
     "execution_count": 7,
     "metadata": {},
     "output_type": "execute_result"
    }
   ],
   "source": [
    "mat.max()"
   ]
  },
  {
   "cell_type": "code",
   "execution_count": 8,
   "id": "3eb5bb3e",
   "metadata": {},
   "outputs": [
    {
     "data": {
      "text/plain": [
       "2"
      ]
     },
     "execution_count": 8,
     "metadata": {},
     "output_type": "execute_result"
    }
   ],
   "source": [
    "mat.argmax()"
   ]
  },
  {
   "cell_type": "code",
   "execution_count": 10,
   "id": "51ce0bf4",
   "metadata": {},
   "outputs": [
    {
     "data": {
      "text/plain": [
       "5"
      ]
     },
     "execution_count": 10,
     "metadata": {},
     "output_type": "execute_result"
    }
   ],
   "source": [
    "mat.argmin()"
   ]
  },
  {
   "cell_type": "code",
   "execution_count": 11,
   "id": "ca5c7163",
   "metadata": {},
   "outputs": [
    {
     "data": {
      "text/plain": [
       "21"
      ]
     },
     "execution_count": 11,
     "metadata": {},
     "output_type": "execute_result"
    }
   ],
   "source": [
    "mat.min()"
   ]
  },
  {
   "cell_type": "code",
   "execution_count": 12,
   "id": "cb487368",
   "metadata": {},
   "outputs": [
    {
     "data": {
      "text/plain": [
       "367"
      ]
     },
     "execution_count": 12,
     "metadata": {},
     "output_type": "execute_result"
    }
   ],
   "source": [
    "mat.sum()"
   ]
  },
  {
   "cell_type": "code",
   "execution_count": 14,
   "id": "c8adf9a4",
   "metadata": {},
   "outputs": [
    {
     "data": {
      "text/plain": [
       "array([0., 3., 6.])"
      ]
     },
     "execution_count": 14,
     "metadata": {},
     "output_type": "execute_result"
    }
   ],
   "source": [
    "np.linspace(0,6,3)"
   ]
  },
  {
   "cell_type": "code",
   "execution_count": 16,
   "id": "b5ba2d02",
   "metadata": {},
   "outputs": [
    {
     "data": {
      "text/plain": [
       "array([0, 3, 6, 9])"
      ]
     },
     "execution_count": 16,
     "metadata": {},
     "output_type": "execute_result"
    }
   ],
   "source": [
    "np.arange(0,10,3)"
   ]
  },
  {
   "cell_type": "code",
   "execution_count": 17,
   "id": "a7c138a8",
   "metadata": {},
   "outputs": [
    {
     "data": {
      "text/plain": [
       "array([[1.06864746e+13, 1.58601345e+15, 9.25378173e+29],\n",
       "       [2.09165950e+24, 7.20048993e+10, 1.31881573e+09],\n",
       "       [8.65934004e+16, 1.73927494e+18, 5.18470553e+21]])"
      ]
     },
     "execution_count": 17,
     "metadata": {},
     "output_type": "execute_result"
    }
   ],
   "source": [
    "np.exp(mat)"
   ]
  },
  {
   "cell_type": "code",
   "execution_count": 19,
   "id": "702e29ab",
   "metadata": {},
   "outputs": [
    {
     "data": {
      "text/plain": [
       "array([[3.40119738, 3.55534806, 4.2341065 ],\n",
       "       [4.02535169, 3.21887582, 3.04452244],\n",
       "       [3.66356165, 3.73766962, 3.91202301]])"
      ]
     },
     "execution_count": 19,
     "metadata": {},
     "output_type": "execute_result"
    }
   ],
   "source": [
    "np.log(mat)"
   ]
  },
  {
   "cell_type": "code",
   "execution_count": 70,
   "id": "48ab27d4",
   "metadata": {},
   "outputs": [
    {
     "data": {
      "text/plain": [
       "[array([[30, 35, 69]]), array([[56, 25, 21]]), array([[39, 42, 50]])]"
      ]
     },
     "execution_count": 70,
     "metadata": {},
     "output_type": "execute_result"
    }
   ],
   "source": [
    "np.split(mat,3)"
   ]
  },
  {
   "cell_type": "code",
   "execution_count": 44,
   "id": "ae135cf1",
   "metadata": {},
   "outputs": [
    {
     "data": {
      "text/plain": [
       "array([30, 35, 69, 56, 25, 21, 39, 42, 50])"
      ]
     },
     "execution_count": 44,
     "metadata": {},
     "output_type": "execute_result"
    }
   ],
   "source": [
    "mat.reshape((-1))"
   ]
  },
  {
   "cell_type": "code",
   "execution_count": 46,
   "id": "1d5605cd",
   "metadata": {},
   "outputs": [
    {
     "data": {
      "text/plain": [
       "array([[0., 0., 0., 0., 0.],\n",
       "       [0., 0., 0., 0., 0.],\n",
       "       [0., 0., 0., 0., 0.],\n",
       "       [0., 0., 0., 0., 0.],\n",
       "       [0., 0., 0., 0., 0.]])"
      ]
     },
     "execution_count": 46,
     "metadata": {},
     "output_type": "execute_result"
    }
   ],
   "source": [
    "np.zeros((5,5))"
   ]
  },
  {
   "cell_type": "code",
   "execution_count": 48,
   "id": "3d1fc1e8",
   "metadata": {},
   "outputs": [
    {
     "data": {
      "text/plain": [
       "array([[1., 1., 1., 1.],\n",
       "       [1., 1., 1., 1.],\n",
       "       [1., 1., 1., 1.]])"
      ]
     },
     "execution_count": 48,
     "metadata": {},
     "output_type": "execute_result"
    }
   ],
   "source": [
    "np.ones((3,4))"
   ]
  },
  {
   "cell_type": "code",
   "execution_count": 49,
   "id": "e6812ce4",
   "metadata": {},
   "outputs": [
    {
     "data": {
      "text/plain": [
       "array([0.29331276, 0.73174012, 0.19857298, 0.7870801 , 0.25635067])"
      ]
     },
     "execution_count": 49,
     "metadata": {},
     "output_type": "execute_result"
    }
   ],
   "source": [
    "np.random.rand(5)"
   ]
  },
  {
   "cell_type": "code",
   "execution_count": 50,
   "id": "541b0433",
   "metadata": {},
   "outputs": [
    {
     "data": {
      "text/plain": [
       "array([[2, 9, 4, 1, 7],\n",
       "       [6, 3, 7, 3, 7],\n",
       "       [7, 7, 5, 7, 1],\n",
       "       [9, 0, 6, 9, 2],\n",
       "       [2, 9, 8, 0, 8]])"
      ]
     },
     "execution_count": 50,
     "metadata": {},
     "output_type": "execute_result"
    }
   ],
   "source": [
    "np.random.randint(0,10,(5,5))"
   ]
  },
  {
   "cell_type": "code",
   "execution_count": 56,
   "id": "f952e651",
   "metadata": {
    "scrolled": true
   },
   "outputs": [
    {
     "data": {
      "text/plain": [
       "array([[30, 35, 69],\n",
       "       [56, 25, 21],\n",
       "       [39, 42, 50],\n",
       "       [30, 35, 69],\n",
       "       [56, 25, 21],\n",
       "       [39, 42, 50]])"
      ]
     },
     "execution_count": 56,
     "metadata": {},
     "output_type": "execute_result"
    }
   ],
   "source": [
    "np.concatenate((mat,mat))"
   ]
  },
  {
   "cell_type": "code",
   "execution_count": 62,
   "id": "05610e2b",
   "metadata": {},
   "outputs": [
    {
     "data": {
      "text/plain": [
       "array([[5551, 4823, 6255],\n",
       "       [3899, 3467, 5439],\n",
       "       [5472, 4515, 6073]])"
      ]
     },
     "execution_count": 62,
     "metadata": {},
     "output_type": "execute_result"
    }
   ],
   "source": [
    "mat.dot(mat)"
   ]
  },
  {
   "cell_type": "code",
   "execution_count": 64,
   "id": "96d1d591",
   "metadata": {},
   "outputs": [
    {
     "data": {
      "text/plain": [
       "array([[30, 56, 39],\n",
       "       [35, 25, 42],\n",
       "       [69, 21, 50]])"
      ]
     },
     "execution_count": 64,
     "metadata": {},
     "output_type": "execute_result"
    }
   ],
   "source": [
    "mat.transpose()"
   ]
  }
 ],
 "metadata": {
  "kernelspec": {
   "display_name": "Python 3 (ipykernel)",
   "language": "python",
   "name": "python3"
  },
  "language_info": {
   "codemirror_mode": {
    "name": "ipython",
    "version": 3
   },
   "file_extension": ".py",
   "mimetype": "text/x-python",
   "name": "python",
   "nbconvert_exporter": "python",
   "pygments_lexer": "ipython3",
   "version": "3.11.3"
  }
 },
 "nbformat": 4,
 "nbformat_minor": 5
}
