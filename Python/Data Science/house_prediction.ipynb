{
 "cells": [
  {
   "cell_type": "code",
   "execution_count": 57,
   "id": "f400d594",
   "metadata": {},
   "outputs": [],
   "source": [
    "import pandas as pd\n",
    "import statsmodels.api as sm"
   ]
  },
  {
   "cell_type": "code",
   "execution_count": 58,
   "id": "19327da7",
   "metadata": {},
   "outputs": [],
   "source": [
    "df = pd.read_csv(\"mumbai.csv\")"
   ]
  },
  {
   "cell_type": "code",
   "execution_count": 59,
   "id": "fc0de0ae",
   "metadata": {},
   "outputs": [
    {
     "data": {
      "text/html": [
       "<div>\n",
       "<style scoped>\n",
       "    .dataframe tbody tr th:only-of-type {\n",
       "        vertical-align: middle;\n",
       "    }\n",
       "\n",
       "    .dataframe tbody tr th {\n",
       "        vertical-align: top;\n",
       "    }\n",
       "\n",
       "    .dataframe thead th {\n",
       "        text-align: right;\n",
       "    }\n",
       "</style>\n",
       "<table border=\"1\" class=\"dataframe\">\n",
       "  <thead>\n",
       "    <tr style=\"text-align: right;\">\n",
       "      <th></th>\n",
       "      <th>price</th>\n",
       "      <th>Address</th>\n",
       "      <th>area</th>\n",
       "      <th>latitude</th>\n",
       "      <th>longitude</th>\n",
       "      <th>Bedrooms</th>\n",
       "      <th>Bathrooms</th>\n",
       "      <th>Balcony</th>\n",
       "      <th>Status</th>\n",
       "      <th>neworold</th>\n",
       "      <th>parking</th>\n",
       "      <th>Furnished_status</th>\n",
       "      <th>Lift</th>\n",
       "      <th>Landmarks</th>\n",
       "      <th>type_of_building</th>\n",
       "      <th>desc</th>\n",
       "      <th>Price_sqft</th>\n",
       "    </tr>\n",
       "  </thead>\n",
       "  <tbody>\n",
       "    <tr>\n",
       "      <th>0</th>\n",
       "      <td>22400000.0</td>\n",
       "      <td>Chembur, Mumbai - Harbour Line, Maharashtra</td>\n",
       "      <td>629.0</td>\n",
       "      <td>19.032800</td>\n",
       "      <td>72.896357</td>\n",
       "      <td>2.0</td>\n",
       "      <td>2.0</td>\n",
       "      <td>NaN</td>\n",
       "      <td>Under Construction</td>\n",
       "      <td>New Property</td>\n",
       "      <td>NaN</td>\n",
       "      <td>NaN</td>\n",
       "      <td>2.0</td>\n",
       "      <td>NaN</td>\n",
       "      <td>Flat</td>\n",
       "      <td>\\n\\n\\n                                Right fr...</td>\n",
       "      <td>35612.082671</td>\n",
       "    </tr>\n",
       "    <tr>\n",
       "      <th>1</th>\n",
       "      <td>35000000.0</td>\n",
       "      <td>Chembur, Mumbai - Harbour Line, Maharashtra</td>\n",
       "      <td>974.0</td>\n",
       "      <td>19.032800</td>\n",
       "      <td>72.896357</td>\n",
       "      <td>3.0</td>\n",
       "      <td>2.0</td>\n",
       "      <td>NaN</td>\n",
       "      <td>Under Construction</td>\n",
       "      <td>New Property</td>\n",
       "      <td>NaN</td>\n",
       "      <td>NaN</td>\n",
       "      <td>2.0</td>\n",
       "      <td>NaN</td>\n",
       "      <td>Flat</td>\n",
       "      <td>\\n\\n\\n                                Right fr...</td>\n",
       "      <td>35934.291581</td>\n",
       "    </tr>\n",
       "    <tr>\n",
       "      <th>2</th>\n",
       "      <td>31700000.0</td>\n",
       "      <td>Ghatkopar East, Mumbai - Central Line, Maharas...</td>\n",
       "      <td>968.0</td>\n",
       "      <td>19.085600</td>\n",
       "      <td>72.909277</td>\n",
       "      <td>3.0</td>\n",
       "      <td>3.0</td>\n",
       "      <td>NaN</td>\n",
       "      <td>Under Construction</td>\n",
       "      <td>New Property</td>\n",
       "      <td>1.0</td>\n",
       "      <td>NaN</td>\n",
       "      <td>2.0</td>\n",
       "      <td>NaN</td>\n",
       "      <td>Flat</td>\n",
       "      <td>\\n                    \\n                    \\n...</td>\n",
       "      <td>32747.933884</td>\n",
       "    </tr>\n",
       "    <tr>\n",
       "      <th>3</th>\n",
       "      <td>18700000.0</td>\n",
       "      <td>Plot Number 283, Road Number 3, Jawahar Nagar,...</td>\n",
       "      <td>629.0</td>\n",
       "      <td>19.155756</td>\n",
       "      <td>72.846862</td>\n",
       "      <td>2.0</td>\n",
       "      <td>2.0</td>\n",
       "      <td>2.0</td>\n",
       "      <td>Ready to Move</td>\n",
       "      <td>New Property</td>\n",
       "      <td>1.0</td>\n",
       "      <td>NaN</td>\n",
       "      <td>3.0</td>\n",
       "      <td>Laxmi Callista</td>\n",
       "      <td>Flat</td>\n",
       "      <td>\\n\\n\\n                                Welcome ...</td>\n",
       "      <td>29729.729730</td>\n",
       "    </tr>\n",
       "    <tr>\n",
       "      <th>4</th>\n",
       "      <td>13500000.0</td>\n",
       "      <td>malad east, Malad East, Mumbai - North Mumbai,...</td>\n",
       "      <td>1090.0</td>\n",
       "      <td>19.177555</td>\n",
       "      <td>72.849887</td>\n",
       "      <td>2.0</td>\n",
       "      <td>2.0</td>\n",
       "      <td>NaN</td>\n",
       "      <td>NaN</td>\n",
       "      <td>New Property</td>\n",
       "      <td>1.0</td>\n",
       "      <td>Unfurnished</td>\n",
       "      <td>2.0</td>\n",
       "      <td>near uper govind nagar</td>\n",
       "      <td>Flat</td>\n",
       "      <td>\\n                    \\n                    \\n...</td>\n",
       "      <td>12385.321101</td>\n",
       "    </tr>\n",
       "  </tbody>\n",
       "</table>\n",
       "</div>"
      ],
      "text/plain": [
       "        price                                            Address    area  \\\n",
       "0  22400000.0        Chembur, Mumbai - Harbour Line, Maharashtra   629.0   \n",
       "1  35000000.0        Chembur, Mumbai - Harbour Line, Maharashtra   974.0   \n",
       "2  31700000.0  Ghatkopar East, Mumbai - Central Line, Maharas...   968.0   \n",
       "3  18700000.0  Plot Number 283, Road Number 3, Jawahar Nagar,...   629.0   \n",
       "4  13500000.0  malad east, Malad East, Mumbai - North Mumbai,...  1090.0   \n",
       "\n",
       "    latitude  longitude  Bedrooms  Bathrooms  Balcony              Status  \\\n",
       "0  19.032800  72.896357       2.0        2.0      NaN  Under Construction   \n",
       "1  19.032800  72.896357       3.0        2.0      NaN  Under Construction   \n",
       "2  19.085600  72.909277       3.0        3.0      NaN  Under Construction   \n",
       "3  19.155756  72.846862       2.0        2.0      2.0       Ready to Move   \n",
       "4  19.177555  72.849887       2.0        2.0      NaN                 NaN   \n",
       "\n",
       "       neworold  parking Furnished_status  Lift               Landmarks  \\\n",
       "0  New Property      NaN              NaN   2.0                     NaN   \n",
       "1  New Property      NaN              NaN   2.0                     NaN   \n",
       "2  New Property      1.0              NaN   2.0                     NaN   \n",
       "3  New Property      1.0              NaN   3.0          Laxmi Callista   \n",
       "4  New Property      1.0      Unfurnished   2.0  near uper govind nagar   \n",
       "\n",
       "  type_of_building                                               desc  \\\n",
       "0             Flat  \\n\\n\\n                                Right fr...   \n",
       "1             Flat  \\n\\n\\n                                Right fr...   \n",
       "2             Flat  \\n                    \\n                    \\n...   \n",
       "3             Flat  \\n\\n\\n                                Welcome ...   \n",
       "4             Flat  \\n                    \\n                    \\n...   \n",
       "\n",
       "     Price_sqft  \n",
       "0  35612.082671  \n",
       "1  35934.291581  \n",
       "2  32747.933884  \n",
       "3  29729.729730  \n",
       "4  12385.321101  "
      ]
     },
     "execution_count": 59,
     "metadata": {},
     "output_type": "execute_result"
    }
   ],
   "source": [
    "df.head()"
   ]
  },
  {
   "cell_type": "code",
   "execution_count": 60,
   "id": "7aff57a7",
   "metadata": {},
   "outputs": [
    {
     "data": {
      "text/plain": [
       "(6255, 17)"
      ]
     },
     "execution_count": 60,
     "metadata": {},
     "output_type": "execute_result"
    }
   ],
   "source": [
    "df.shape"
   ]
  },
  {
   "cell_type": "code",
   "execution_count": 61,
   "id": "8e35bf85",
   "metadata": {},
   "outputs": [
    {
     "name": "stdout",
     "output_type": "stream",
     "text": [
      "<class 'pandas.core.frame.DataFrame'>\n",
      "RangeIndex: 6255 entries, 0 to 6254\n",
      "Data columns (total 17 columns):\n",
      " #   Column            Non-Null Count  Dtype  \n",
      "---  ------            --------------  -----  \n",
      " 0   price             6255 non-null   float64\n",
      " 1   Address           6255 non-null   object \n",
      " 2   area              6255 non-null   float64\n",
      " 3   latitude          6255 non-null   float64\n",
      " 4   longitude         6255 non-null   float64\n",
      " 5   Bedrooms          6255 non-null   float64\n",
      " 6   Bathrooms         6255 non-null   float64\n",
      " 7   Balcony           2376 non-null   float64\n",
      " 8   Status            5774 non-null   object \n",
      " 9   neworold          6255 non-null   object \n",
      " 10  parking           2129 non-null   float64\n",
      " 11  Furnished_status  3600 non-null   object \n",
      " 12  Lift              1678 non-null   float64\n",
      " 13  Landmarks         2617 non-null   object \n",
      " 14  type_of_building  6255 non-null   object \n",
      " 15  desc              6255 non-null   object \n",
      " 16  Price_sqft        6255 non-null   float64\n",
      "dtypes: float64(10), object(7)\n",
      "memory usage: 830.9+ KB\n"
     ]
    }
   ],
   "source": [
    "df.info()"
   ]
  },
  {
   "cell_type": "code",
   "execution_count": 62,
   "id": "b67e013d",
   "metadata": {},
   "outputs": [
    {
     "data": {
      "text/plain": [
       "price               float64\n",
       "Address              object\n",
       "area                float64\n",
       "latitude            float64\n",
       "longitude           float64\n",
       "Bedrooms            float64\n",
       "Bathrooms           float64\n",
       "Balcony             float64\n",
       "Status               object\n",
       "neworold             object\n",
       "parking             float64\n",
       "Furnished_status     object\n",
       "Lift                float64\n",
       "Landmarks            object\n",
       "type_of_building     object\n",
       "desc                 object\n",
       "Price_sqft          float64\n",
       "dtype: object"
      ]
     },
     "execution_count": 62,
     "metadata": {},
     "output_type": "execute_result"
    }
   ],
   "source": [
    "df.dtypes"
   ]
  },
  {
   "cell_type": "code",
   "execution_count": 63,
   "id": "14e680f3",
   "metadata": {},
   "outputs": [
    {
     "data": {
      "text/plain": [
       "array(['Flat', 'Individual House'], dtype=object)"
      ]
     },
     "execution_count": 63,
     "metadata": {},
     "output_type": "execute_result"
    }
   ],
   "source": [
    "df[\"type_of_building\"].unique()"
   ]
  },
  {
   "cell_type": "code",
   "execution_count": 64,
   "id": "81fd3bdb",
   "metadata": {},
   "outputs": [],
   "source": [
    "df = df[~(df['type_of_building'] == 'Individual House')]"
   ]
  },
  {
   "cell_type": "code",
   "execution_count": 65,
   "id": "c04f2bee",
   "metadata": {},
   "outputs": [],
   "source": [
    "df[\"Balcony\"] = df[\"Balcony\"].fillna(0)"
   ]
  },
  {
   "cell_type": "code",
   "execution_count": 66,
   "id": "6f15b617",
   "metadata": {},
   "outputs": [
    {
     "data": {
      "text/plain": [
       "array([0., 2., 3., 1., 4., 5., 6., 7., 8.])"
      ]
     },
     "execution_count": 66,
     "metadata": {},
     "output_type": "execute_result"
    }
   ],
   "source": [
    "df[\"Balcony\"].unique()"
   ]
  },
  {
   "cell_type": "code",
   "execution_count": 67,
   "id": "e84110f2",
   "metadata": {},
   "outputs": [
    {
     "data": {
      "text/plain": [
       "(5828, 17)"
      ]
     },
     "execution_count": 67,
     "metadata": {},
     "output_type": "execute_result"
    }
   ],
   "source": [
    "df.shape"
   ]
  },
  {
   "cell_type": "code",
   "execution_count": 68,
   "id": "07a4e27d",
   "metadata": {},
   "outputs": [
    {
     "data": {
      "text/plain": [
       "array([nan, 'Unfurnished', 'Semi-Furnished', 'Furnished'], dtype=object)"
      ]
     },
     "execution_count": 68,
     "metadata": {},
     "output_type": "execute_result"
    }
   ],
   "source": [
    "df[\"Furnished_status\"].unique()"
   ]
  },
  {
   "cell_type": "code",
   "execution_count": 69,
   "id": "b3f25fe0",
   "metadata": {},
   "outputs": [],
   "source": [
    "df[\"Furnished_status\"] = df[\"Furnished_status\"].fillna(\"Unfurnished\")"
   ]
  },
  {
   "cell_type": "code",
   "execution_count": 73,
   "id": "1860714d",
   "metadata": {},
   "outputs": [
    {
     "data": {
      "text/plain": [
       "13013990.352140661"
      ]
     },
     "execution_count": 73,
     "metadata": {},
     "output_type": "execute_result"
    }
   ],
   "source": [
    "y = df[\"price\"]\n",
    "x1 = df[[\"area\",\"Bedrooms\",\"Bathrooms\",\"Balcony\"]]\n",
    "x = sm.add_constant(x1)\n",
    "result = sm.OLS(y,x).fit()\n",
    "summary = result.summary()\n",
    "area = result.params.area\n",
    "bed = result.params.Bedrooms\n",
    "bath = result.params.Bathrooms\n",
    "balcony = result.params.Balcony\n",
    "const = result.params.const\n",
    "a = 830\n",
    "br = 1\n",
    "bt = 2\n",
    "bl = 2\n",
    "price = area*a+bed*br+bath*bt+balcony*bl+const\n",
    "price"
   ]
  },
  {
   "cell_type": "code",
   "execution_count": null,
   "id": "03653f87",
   "metadata": {},
   "outputs": [],
   "source": []
  }
 ],
 "metadata": {
  "kernelspec": {
   "display_name": "Python 3 (ipykernel)",
   "language": "python",
   "name": "python3"
  },
  "language_info": {
   "codemirror_mode": {
    "name": "ipython",
    "version": 3
   },
   "file_extension": ".py",
   "mimetype": "text/x-python",
   "name": "python",
   "nbconvert_exporter": "python",
   "pygments_lexer": "ipython3",
   "version": "3.10.2"
  }
 },
 "nbformat": 4,
 "nbformat_minor": 5
}
