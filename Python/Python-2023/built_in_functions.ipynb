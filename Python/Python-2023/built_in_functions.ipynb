{
 "cells": [
  {
   "cell_type": "markdown",
   "id": "3bb4c247",
   "metadata": {},
   "source": [
    "# Built in functions"
   ]
  },
  {
   "cell_type": "code",
   "execution_count": 38,
   "id": "e06b0153",
   "metadata": {
    "scrolled": true
   },
   "outputs": [
    {
     "name": "stdout",
     "output_type": "stream",
     "text": [
      "False\n",
      "True\n",
      "0b101\n",
      "0xf\n",
      "0o10\n",
      "a\n",
      "97\n",
      "11\n",
      "frozenset({1, 2, 3})\n",
      "6690437277419065758\n",
      "True\n",
      "[(1, 'one'), (2, 'two'), (3, 'three')]\n"
     ]
    }
   ],
   "source": [
    "print(all([True,False])) #return True if all the values are True in an iterable\n",
    "print(any([True])) # return True if any of the value is True\n",
    "\n",
    "print(bin(5)) #int to binary\n",
    "print(hex(15)) # int to hexadecimal\n",
    "print(oct(8)) # int to octal\n",
    "print(chr(97)) # ascii to char\n",
    "print(ord('a')) # char to ascii\n",
    "\n",
    "print(eval(\"5+6\")) # evaluate string to expressiong\n",
    "print(frozenset({1,2,3,3})) #to make unmodifiable sets\n",
    "print(hash(\"ashish\")) # string to hash\n",
    "\n",
    "print(isinstance(5,int)) # to check is instance of\n",
    "\n",
    "#print(map(function,iterable)) #to run a function on every iterable value\n",
    "#print(filter(function,iterable)) # to filter out things in an iterable returns new list\n",
    "a = [1,2,3]\n",
    "b = [\"one\",\"two\",\"three\"]\n",
    "c = zip(a,b)\n",
    "print(list(c)) # to make tuple of two or more iterables , to view zip object convert it into python data type\n"
   ]
  },
  {
   "cell_type": "markdown",
   "id": "2c9ee53e",
   "metadata": {},
   "source": [
    "# String methods"
   ]
  },
  {
   "cell_type": "code",
   "execution_count": 50,
   "id": "d0e7e97c",
   "metadata": {},
   "outputs": [
    {
     "name": "stdout",
     "output_type": "stream",
     "text": [
      "ashish    \n",
      "Ashish    \n",
      "ASHISH    \n",
      "ashish    \n",
      "ashish\n",
      "2\n",
      "1\n"
     ]
    }
   ],
   "source": [
    "string = \"ashish    \"\n",
    "print(string)\n",
    "print(string.capitalize())\n",
    "print(string.upper())\n",
    "print(string.lower())\n",
    "print(string.strip())\n",
    "print(string.count(\"s\"))\n",
    "print(string.find(\"s\")) #returns index of first occurence"
   ]
  },
  {
   "cell_type": "markdown",
   "id": "29e2f3c6",
   "metadata": {},
   "source": [
    "## Map"
   ]
  },
  {
   "cell_type": "code",
   "execution_count": 2,
   "id": "15112e09",
   "metadata": {},
   "outputs": [
    {
     "name": "stdout",
     "output_type": "stream",
     "text": [
      "[4, 16, 36, 64, 100]\n"
     ]
    }
   ],
   "source": [
    "nums = [2,4,6,8,10]\n",
    "def calcasqrt(num):\n",
    "    return num**2\n",
    "a = map(calcasqrt,nums)\n",
    "print(list(a))"
   ]
  },
  {
   "cell_type": "markdown",
   "id": "9d7dc577",
   "metadata": {},
   "source": [
    "## Filter"
   ]
  },
  {
   "cell_type": "code",
   "execution_count": 4,
   "id": "76db3aeb",
   "metadata": {},
   "outputs": [
    {
     "name": "stdout",
     "output_type": "stream",
     "text": [
      "[60, 39, 21, 23, 35]\n"
     ]
    }
   ],
   "source": [
    "nums = [2,4,60,39,8,21,23,17,8,9,16,35]\n",
    "def isAdult(num):\n",
    "    if num>18:\n",
    "        return True\n",
    "    else:\n",
    "        return False\n",
    "a = filter(isAdult,nums)\n",
    "print(list(a))\n"
   ]
  },
  {
   "cell_type": "code",
   "execution_count": null,
   "id": "963426c2",
   "metadata": {},
   "outputs": [],
   "source": []
  }
 ],
 "metadata": {
  "kernelspec": {
   "display_name": "Python 3 (ipykernel)",
   "language": "python",
   "name": "python3"
  },
  "language_info": {
   "codemirror_mode": {
    "name": "ipython",
    "version": 3
   },
   "file_extension": ".py",
   "mimetype": "text/x-python",
   "name": "python",
   "nbconvert_exporter": "python",
   "pygments_lexer": "ipython3",
   "version": "3.10.2"
  }
 },
 "nbformat": 4,
 "nbformat_minor": 5
}
