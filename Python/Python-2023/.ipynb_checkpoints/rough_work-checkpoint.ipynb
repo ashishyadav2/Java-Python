{
 "cells": [
  {
   "cell_type": "code",
   "execution_count": 21,
   "id": "a0aece0d",
   "metadata": {},
   "outputs": [
    {
     "name": "stdout",
     "output_type": "stream",
     "text": [
      "10\n",
      "[0, 1]\n"
     ]
    }
   ],
   "source": [
    "n  = 2\n",
    "a = bin(n)[2:]\n",
    "print(a)\n",
    "ec = 0\n",
    "oc = 0\n",
    "for i in range(len(a)):\n",
    "    if a[i] == \"1\":\n",
    "        if i%2==0:\n",
    "            ec+=1\n",
    "        else:\n",
    "            oc+=1\n",
    "if len(a)%2==0:\n",
    "    print([oc,ec])\n",
    "else:\n",
    "    print([ec,oc])"
   ]
  },
  {
   "cell_type": "code",
   "execution_count": 40,
   "id": "e060efcc",
   "metadata": {},
   "outputs": [
    {
     "name": "stdout",
     "output_type": "stream",
     "text": [
      "[[], [1], [2], [1, 2], [3], [1, 3], [2, 3], [1, 2, 3]]\n"
     ]
    }
   ],
   "source": [
    "a = [1,2,3]\n",
    "k = 2\n",
    "ans = []\n",
    "n = len(a)\n",
    "final = []\n",
    "for i in range(1<<n):\n",
    "    t = []\n",
    "    for j in range(n):\n",
    "        if i&(1<<j):\n",
    "            t.append(a[j])\n",
    "    ans.append(t)\n",
    "print(ans)"
   ]
  },
  {
   "cell_type": "code",
   "execution_count": 41,
   "id": "eb1d00e3",
   "metadata": {},
   "outputs": [
    {
     "name": "stdout",
     "output_type": "stream",
     "text": [
      "[[1, 6], [1, 6], [8, 10], [8, 10], [15, 18], [15, 18]]\n",
      "[[1, 6], [8, 10], [15, 18]]\n"
     ]
    }
   ],
   "source": [
    "mat = [[1,3],[8,10],[15,18],[2,6]]\n",
    "# mat = [[1,4],[4,5]]\n",
    "mat.sort()\n",
    "ans = []\n",
    "n = len(mat)\n",
    "i = 1\n",
    "while i<n:\n",
    "    for j in range(2):\n",
    "        a = mat[i-1][0]\n",
    "        b = mat[i][1]\n",
    "        if mat[i][0] <= mat[i-1][1] <= mat[i][1]:            \n",
    "            ans.append([a,b])\n",
    "#             i+=2\n",
    "        else:\n",
    "            ans.append(mat[i])\n",
    "    i+=1\n",
    "    \n",
    "print(ans)\n",
    "ans = list(set(map(tuple,ans)))\n",
    "ans = [list(lst) for lst in ans]\n",
    "ans.sort()\n",
    "print(ans)"
   ]
  },
  {
   "cell_type": "code",
   "execution_count": 40,
   "id": "53d34829",
   "metadata": {},
   "outputs": [
    {
     "name": "stdout",
     "output_type": "stream",
     "text": [
      "h\n"
     ]
    }
   ],
   "source": [
    "mat = []\n",
    "# print(mat[-1][1])\n",
    "if  not mat:\n",
    "    print(\"h\")\n"
   ]
  },
  {
   "cell_type": "code",
   "execution_count": null,
   "id": "87e4c788",
   "metadata": {},
   "outputs": [],
   "source": []
  }
 ],
 "metadata": {
  "kernelspec": {
   "display_name": "Python 3 (ipykernel)",
   "language": "python",
   "name": "python3"
  },
  "language_info": {
   "codemirror_mode": {
    "name": "ipython",
    "version": 3
   },
   "file_extension": ".py",
   "mimetype": "text/x-python",
   "name": "python",
   "nbconvert_exporter": "python",
   "pygments_lexer": "ipython3",
   "version": "3.10.2"
  }
 },
 "nbformat": 4,
 "nbformat_minor": 5
}
