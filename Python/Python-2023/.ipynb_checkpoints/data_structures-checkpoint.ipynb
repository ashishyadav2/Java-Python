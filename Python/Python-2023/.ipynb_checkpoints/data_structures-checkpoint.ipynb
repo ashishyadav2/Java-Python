{
 "cells": [
  {
   "cell_type": "markdown",
   "id": "2cf1af77",
   "metadata": {},
   "source": [
    "# Dictionary"
   ]
  },
  {
   "cell_type": "markdown",
   "id": "bf9045a0",
   "metadata": {},
   "source": [
    "## Declaration and updation"
   ]
  },
  {
   "cell_type": "code",
   "execution_count": 22,
   "id": "2b85d904",
   "metadata": {},
   "outputs": [],
   "source": [
    "a = {} #empty dictionary"
   ]
  },
  {
   "cell_type": "code",
   "execution_count": 23,
   "id": "f9021387",
   "metadata": {},
   "outputs": [],
   "source": [
    "a = {1:\"Hello\",2:\"World\"} #dictionary"
   ]
  },
  {
   "cell_type": "code",
   "execution_count": 24,
   "id": "871d89b6",
   "metadata": {},
   "outputs": [
    {
     "name": "stdout",
     "output_type": "stream",
     "text": [
      "{1: 'Car', 2: 'World'}\n"
     ]
    }
   ],
   "source": [
    "a[1] = \"Car\"\n",
    "print(a)"
   ]
  },
  {
   "cell_type": "code",
   "execution_count": 25,
   "id": "3ebc829f",
   "metadata": {},
   "outputs": [
    {
     "name": "stdout",
     "output_type": "stream",
     "text": [
      "{25: True, 26: False}\n"
     ]
    }
   ],
   "source": [
    "c = dict({25:True,26:False}) #making dictionary using dict function\n",
    "print(c)"
   ]
  },
  {
   "cell_type": "code",
   "execution_count": 34,
   "id": "28ca00a1",
   "metadata": {},
   "outputs": [
    {
     "name": "stdout",
     "output_type": "stream",
     "text": [
      "{25: 'Hello', 26: [2, 6, 5]}\n"
     ]
    }
   ],
   "source": [
    "c[25] = \"Hello\"\n",
    "c.update({26:[2,6,5]})\n",
    "print(c)"
   ]
  },
  {
   "cell_type": "markdown",
   "id": "628ed721",
   "metadata": {},
   "source": [
    "## Deletion"
   ]
  },
  {
   "cell_type": "code",
   "execution_count": 27,
   "id": "dbfebb4a",
   "metadata": {},
   "outputs": [],
   "source": [
    "#pop popitem clear function is used"
   ]
  },
  {
   "cell_type": "markdown",
   "id": "85050a21",
   "metadata": {},
   "source": [
    "### pop"
   ]
  },
  {
   "cell_type": "code",
   "execution_count": 31,
   "id": "a6a1d0ac",
   "metadata": {},
   "outputs": [
    {
     "data": {
      "text/plain": [
       "'float'"
      ]
     },
     "execution_count": 31,
     "metadata": {},
     "output_type": "execute_result"
    }
   ],
   "source": [
    "a = {1:\"string\",2:\"int\",6:\"float\"}\n",
    "a.pop(6) # pops value at key 6 and return the value removed"
   ]
  },
  {
   "cell_type": "markdown",
   "id": "7b03ff17",
   "metadata": {},
   "source": [
    "### popitem"
   ]
  },
  {
   "cell_type": "code",
   "execution_count": 29,
   "id": "ba35a6dc",
   "metadata": {},
   "outputs": [
    {
     "data": {
      "text/plain": [
       "(2, 'int')"
      ]
     },
     "execution_count": 29,
     "metadata": {},
     "output_type": "execute_result"
    }
   ],
   "source": [
    "a.popitem() # it deletes the last item returns the tuple deleted i.e key: value pair"
   ]
  },
  {
   "cell_type": "markdown",
   "id": "36f523ae",
   "metadata": {},
   "source": [
    "### clear"
   ]
  },
  {
   "cell_type": "code",
   "execution_count": 20,
   "id": "79adc791",
   "metadata": {},
   "outputs": [],
   "source": [
    "a.clear() # to empty entire dictionary\n",
    "del a #del is used to completely delete the dictionary"
   ]
  },
  {
   "cell_type": "code",
   "execution_count": 32,
   "id": "8eced975",
   "metadata": {},
   "outputs": [
    {
     "name": "stdout",
     "output_type": "stream",
     "text": [
      "dict_keys([1, 2])\n"
     ]
    }
   ],
   "source": [
    "print(a.keys()) # to get the keys of the dictionary"
   ]
  },
  {
   "cell_type": "code",
   "execution_count": 33,
   "id": "6cde729c",
   "metadata": {},
   "outputs": [
    {
     "name": "stdout",
     "output_type": "stream",
     "text": [
      "dict_values(['string', 'int'])\n"
     ]
    }
   ],
   "source": [
    "print(a.values()) # to get the values of the dictionary"
   ]
  },
  {
   "cell_type": "code",
   "execution_count": 35,
   "id": "aa9cb32b",
   "metadata": {},
   "outputs": [
    {
     "name": "stdout",
     "output_type": "stream",
     "text": [
      "dict_items([(1, 'string'), (2, 'int')])\n"
     ]
    }
   ],
   "source": [
    "print(a.items()) #to get the key value pairs"
   ]
  },
  {
   "cell_type": "markdown",
   "id": "b286ece5",
   "metadata": {},
   "source": [
    "## Insertion"
   ]
  },
  {
   "cell_type": "code",
   "execution_count": 40,
   "id": "450686d4",
   "metadata": {},
   "outputs": [
    {
     "name": "stdout",
     "output_type": "stream",
     "text": [
      "{'Name': 'Ashish', 'age': 21}\n"
     ]
    }
   ],
   "source": [
    "a = {\"Name\":\"Ashish\",\"age\": 21}\n",
    "print(a)"
   ]
  },
  {
   "cell_type": "code",
   "execution_count": 41,
   "id": "dee66904",
   "metadata": {},
   "outputs": [
    {
     "name": "stdout",
     "output_type": "stream",
     "text": [
      "{'Name': 'Ashish', 'age': 21, 'mob': 1234567890}\n"
     ]
    }
   ],
   "source": [
    "a.update({\"mob\":1234567890})\n",
    "print(a)"
   ]
  },
  {
   "cell_type": "markdown",
   "id": "afd02a8c",
   "metadata": {},
   "source": [
    "## Copy dictionary"
   ]
  },
  {
   "cell_type": "code",
   "execution_count": 43,
   "id": "b66a70dc",
   "metadata": {},
   "outputs": [
    {
     "name": "stdout",
     "output_type": "stream",
     "text": [
      "{'Name': 'Ashish', 'age': 21, 'mob': 1234567890}\n"
     ]
    }
   ],
   "source": [
    "b = dict(a) #or\n",
    "c = a.copy()\n",
    "print(c)"
   ]
  },
  {
   "cell_type": "markdown",
   "id": "d6958006",
   "metadata": {},
   "source": [
    "## Nested dictionary"
   ]
  },
  {
   "cell_type": "code",
   "execution_count": 51,
   "id": "539bafde",
   "metadata": {},
   "outputs": [
    {
     "name": "stdout",
     "output_type": "stream",
     "text": [
      "{'Cars': {'Asia': ['Honda', 'Suzuki', 'Toyota'], 'Europe': ['BMW', 'Volkswagen']}}\n"
     ]
    }
   ],
   "source": [
    "d = {\"Cars\":{\n",
    "    \"Asia\" : [\"Honda\",\"Suzuki\",\"Toyota\"],\n",
    "    \"Europe\" : [\"BMW\",\"Volkswagen\"]\n",
    "}}\n",
    "print(d)"
   ]
  },
  {
   "cell_type": "code",
   "execution_count": 47,
   "id": "1be360f2",
   "metadata": {},
   "outputs": [
    {
     "name": "stdout",
     "output_type": "stream",
     "text": [
      "{'Cars': {'North America': ['Chevy', 'Ford', 'GM']}}\n"
     ]
    }
   ],
   "source": [
    "e = {\"North America\":[\"Chevy\",\"Ford\",\"GM\"]}\n",
    "d.update({\"Cars\":e})\n",
    "print(d)"
   ]
  },
  {
   "cell_type": "code",
   "execution_count": 52,
   "id": "e8d7c527",
   "metadata": {},
   "outputs": [
    {
     "name": "stdout",
     "output_type": "stream",
     "text": [
      "['Honda', 'Suzuki', 'Toyota']\n"
     ]
    }
   ],
   "source": [
    "print(d[\"Cars\"][\"Asia\"])"
   ]
  },
  {
   "cell_type": "markdown",
   "id": "b5f99943",
   "metadata": {},
   "source": [
    "# Tuple"
   ]
  },
  {
   "cell_type": "code",
   "execution_count": 53,
   "id": "8db0e141",
   "metadata": {},
   "outputs": [
    {
     "name": "stdout",
     "output_type": "stream",
     "text": [
      "(1, 5, 6)\n"
     ]
    }
   ],
   "source": [
    "# tuples are immutable data structures\n",
    "a = (1,5,6)\n",
    "print(a)"
   ]
  },
  {
   "cell_type": "code",
   "execution_count": 54,
   "id": "f14d8294",
   "metadata": {},
   "outputs": [
    {
     "name": "stdout",
     "output_type": "stream",
     "text": [
      "1\n"
     ]
    }
   ],
   "source": [
    "# it follows same indexing as lists\n",
    "print(a[0])"
   ]
  },
  {
   "cell_type": "code",
   "execution_count": 55,
   "id": "04c2d4d1",
   "metadata": {},
   "outputs": [
    {
     "name": "stdout",
     "output_type": "stream",
     "text": [
      "(1, 5, 6, 23)\n"
     ]
    }
   ],
   "source": [
    "# to change tuple value convert it into list then again tuple\n",
    "lst = list(a)\n",
    "lst.append(23)\n",
    "a = tuple(lst)\n",
    "print(a)"
   ]
  },
  {
   "cell_type": "code",
   "execution_count": 56,
   "id": "3d4fcf0f",
   "metadata": {},
   "outputs": [
    {
     "name": "stdout",
     "output_type": "stream",
     "text": [
      "(1, 5, 6, 23, 69)\n"
     ]
    }
   ],
   "source": [
    "# it is allowed to add two tuples\n",
    "b = (69,)\n",
    "a = a+b\n",
    "print(a)"
   ]
  },
  {
   "cell_type": "code",
   "execution_count": 57,
   "id": "af0194dd",
   "metadata": {},
   "outputs": [
    {
     "name": "stdout",
     "output_type": "stream",
     "text": [
      "(1, 5, 6, 23)\n"
     ]
    }
   ],
   "source": [
    "#removig item\n",
    "lst = list(a)\n",
    "lst.remove(69)\n",
    "a = tuple(lst)\n",
    "print(a)"
   ]
  },
  {
   "cell_type": "code",
   "execution_count": 62,
   "id": "024bd1f0",
   "metadata": {},
   "outputs": [
    {
     "name": "stdout",
     "output_type": "stream",
     "text": [
      "honda\n",
      "suzuki\n",
      "['lexus', 'toyota', 'audi']\n"
     ]
    }
   ],
   "source": [
    "cars = (\"honda\",\"suzuki\",\"lexus\",\"toyota\",\"audi\")\n",
    "(car1,car2,*car3) = cars \n",
    "\"\"\"If the number of variables is less than the \n",
    "number of values, you can add an * to the variable name and \n",
    "the values will be assigned to the variable as a list\"\"\"\n",
    "print(car1)\n",
    "print(car2)\n",
    "print(car3)"
   ]
  },
  {
   "cell_type": "code",
   "execution_count": 64,
   "id": "4ea30aec",
   "metadata": {},
   "outputs": [
    {
     "data": {
      "text/plain": [
       "1"
      ]
     },
     "execution_count": 64,
     "metadata": {},
     "output_type": "execute_result"
    }
   ],
   "source": [
    "# count() tuple.count(value)\n",
    "a.count(1)"
   ]
  },
  {
   "cell_type": "code",
   "execution_count": 65,
   "id": "30ffa615",
   "metadata": {},
   "outputs": [
    {
     "data": {
      "text/plain": [
       "1"
      ]
     },
     "execution_count": 65,
     "metadata": {},
     "output_type": "execute_result"
    }
   ],
   "source": [
    "# tuple.index(value)\n",
    "a.index(5) # returns index of first occurences of the value"
   ]
  },
  {
   "cell_type": "markdown",
   "id": "81122495",
   "metadata": {},
   "source": [
    "# Sets"
   ]
  },
  {
   "cell_type": "code",
   "execution_count": 76,
   "id": "dda323f7",
   "metadata": {},
   "outputs": [
    {
     "name": "stdout",
     "output_type": "stream",
     "text": [
      "{'cherry', 'apple', 'banana'}\n"
     ]
    }
   ],
   "source": [
    "myset = {\"apple\",\"banana\",\"cherry\"} # no repetition is allowed all elements should be unique\n",
    "print(myset)"
   ]
  },
  {
   "cell_type": "code",
   "execution_count": 77,
   "id": "ae425bd3",
   "metadata": {},
   "outputs": [
    {
     "name": "stdout",
     "output_type": "stream",
     "text": [
      "{'1', 2, True}\n"
     ]
    }
   ],
   "source": [
    "# create set using set() function\n",
    "my_set = set((\"1\",2,True))\n",
    "print(my_set)"
   ]
  },
  {
   "cell_type": "markdown",
   "id": "45a5c2a7",
   "metadata": {},
   "source": [
    "## Insertion in sets"
   ]
  },
  {
   "cell_type": "code",
   "execution_count": 82,
   "id": "b8a65778",
   "metadata": {},
   "outputs": [
    {
     "ename": "NameError",
     "evalue": "name 'myset' is not defined",
     "output_type": "error",
     "traceback": [
      "\u001b[1;31m---------------------------------------------------------------------------\u001b[0m",
      "\u001b[1;31mNameError\u001b[0m                                 Traceback (most recent call last)",
      "Cell \u001b[1;32mIn [82], line 2\u001b[0m\n\u001b[0;32m      1\u001b[0m \u001b[38;5;66;03m#add update(iterable)\u001b[39;00m\n\u001b[1;32m----> 2\u001b[0m \u001b[43mmyset\u001b[49m\u001b[38;5;241m.\u001b[39madd(\u001b[38;5;124m\"\u001b[39m\u001b[38;5;124mwatermelon\u001b[39m\u001b[38;5;124m\"\u001b[39m)\n\u001b[0;32m      3\u001b[0m \u001b[38;5;28mprint\u001b[39m(myset)\n\u001b[0;32m      4\u001b[0m myset\u001b[38;5;241m.\u001b[39mupdate([\u001b[38;5;241m2\u001b[39m,\u001b[38;5;241m6\u001b[39m,\u001b[38;5;241m89\u001b[39m,\u001b[38;5;241m2\u001b[39m])\n",
      "\u001b[1;31mNameError\u001b[0m: name 'myset' is not defined"
     ]
    }
   ],
   "source": [
    "#add update(iterable)\n",
    "myset.add(\"watermelon\")\n",
    "print(myset)\n",
    "myset.update([2,6,89,2])\n",
    "print(myset)"
   ]
  },
  {
   "cell_type": "markdown",
   "id": "eba2ad55",
   "metadata": {},
   "source": [
    "## Deletion in sets"
   ]
  },
  {
   "cell_type": "code",
   "execution_count": 79,
   "id": "a63421e0",
   "metadata": {},
   "outputs": [
    {
     "name": "stdout",
     "output_type": "stream",
     "text": [
      "{'banana', 2, 6, 'apple', 'watermelon', 89}\n"
     ]
    }
   ],
   "source": [
    "#remove discard del clear\n",
    "myset.remove(\"cherry\") #if not exists expection will be raised\n",
    "print(myset)"
   ]
  },
  {
   "cell_type": "code",
   "execution_count": 80,
   "id": "eddf82f6",
   "metadata": {},
   "outputs": [
    {
     "name": "stdout",
     "output_type": "stream",
     "text": [
      "{'banana', 2, 6, 'apple', 89}\n"
     ]
    }
   ],
   "source": [
    "myset.discard(\"watermelon\") #if exists then remove no exception will be raised\n",
    "print(myset)"
   ]
  },
  {
   "cell_type": "code",
   "execution_count": 81,
   "id": "c0f81a52",
   "metadata": {},
   "outputs": [],
   "source": [
    "# clear makes set empty , del deletes the whole set\n",
    "del myset"
   ]
  },
  {
   "cell_type": "markdown",
   "id": "d547e8b1",
   "metadata": {},
   "source": [
    "## Join sets"
   ]
  },
  {
   "cell_type": "code",
   "execution_count": 89,
   "id": "7a1648ca",
   "metadata": {},
   "outputs": [
    {
     "name": "stdout",
     "output_type": "stream",
     "text": [
      "{1, 2, 3, 4, 6}\n",
      "{1, 2, 3, 4, 6}\n"
     ]
    }
   ],
   "source": [
    "a = {1,2,3,4}\n",
    "b = {1,3,6}\n",
    "c = a.union(b) #or c = a | b\n",
    "print(c)\n",
    "c = a | b\n",
    "print(c)"
   ]
  },
  {
   "cell_type": "code",
   "execution_count": 84,
   "id": "bdf42fd8",
   "metadata": {},
   "outputs": [
    {
     "name": "stdout",
     "output_type": "stream",
     "text": [
      "{32, 1, 2, 3, 4, 35, 30}\n"
     ]
    }
   ],
   "source": [
    "d = {30,32,35}\n",
    "a.update(d)\n",
    "print(a)"
   ]
  },
  {
   "cell_type": "code",
   "execution_count": 85,
   "id": "9d76552c",
   "metadata": {},
   "outputs": [],
   "source": [
    "#intersection_update, intersection A n B, symmetric_difference_update, symmetric_difference\n",
    "#update means x.intersection_update(y) it update x with intersection of x and y\n",
    "# symmetric_difference (A n B)' non update variant return new set rather than modifying the old one"
   ]
  },
  {
   "cell_type": "code",
   "execution_count": 86,
   "id": "3038a008",
   "metadata": {},
   "outputs": [
    {
     "name": "stdout",
     "output_type": "stream",
     "text": [
      "{1, 3}\n"
     ]
    }
   ],
   "source": [
    "a.intersection_update(b)\n",
    "print(a)\n"
   ]
  },
  {
   "cell_type": "code",
   "execution_count": 87,
   "id": "9c0b0c5c",
   "metadata": {},
   "outputs": [
    {
     "name": "stdout",
     "output_type": "stream",
     "text": [
      "{1, 3}\n"
     ]
    }
   ],
   "source": [
    "c = a.intersection(b)\n",
    "print(c)"
   ]
  },
  {
   "cell_type": "code",
   "execution_count": 91,
   "id": "591b4030",
   "metadata": {},
   "outputs": [
    {
     "name": "stdout",
     "output_type": "stream",
     "text": [
      "{2, 4, 6}\n"
     ]
    }
   ],
   "source": [
    "c = a.symmetric_difference(b)\n",
    "print(c)"
   ]
  }
 ],
 "metadata": {
  "kernelspec": {
   "display_name": "Python 3 (ipykernel)",
   "language": "python",
   "name": "python3"
  },
  "language_info": {
   "codemirror_mode": {
    "name": "ipython",
    "version": 3
   },
   "file_extension": ".py",
   "mimetype": "text/x-python",
   "name": "python",
   "nbconvert_exporter": "python",
   "pygments_lexer": "ipython3",
   "version": "3.10.2"
  }
 },
 "nbformat": 4,
 "nbformat_minor": 5
}
