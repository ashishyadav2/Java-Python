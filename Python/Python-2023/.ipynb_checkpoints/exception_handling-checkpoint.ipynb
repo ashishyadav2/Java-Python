{
 "cells": [
  {
   "cell_type": "markdown",
   "id": "071923e4",
   "metadata": {},
   "source": [
    "# Try and except"
   ]
  },
  {
   "cell_type": "code",
   "execution_count": 13,
   "id": "c4ce5cc2",
   "metadata": {},
   "outputs": [
    {
     "name": "stdout",
     "output_type": "stream",
     "text": [
      "error\n"
     ]
    }
   ],
   "source": [
    "try:\n",
    "    print(x) #try to run print(x) statement if error occurs then go to except block. it tells the interpreter what to do if exception occurred\n",
    "except:\n",
    "    print(\"error\")"
   ]
  },
  {
   "cell_type": "code",
   "execution_count": 5,
   "id": "c6fdb511",
   "metadata": {},
   "outputs": [
    {
     "name": "stdout",
     "output_type": "stream",
     "text": [
      "error\n"
     ]
    }
   ],
   "source": [
    "try:\n",
    "    print(x)\n",
    "except NameError: #we can also define what exception to catch here NameError will be handled\n",
    "    print(\"error\")"
   ]
  },
  {
   "cell_type": "markdown",
   "id": "79ee5465",
   "metadata": {},
   "source": [
    "# Finally block"
   ]
  },
  {
   "cell_type": "code",
   "execution_count": 8,
   "id": "6f2ccbbe",
   "metadata": {},
   "outputs": [
    {
     "name": "stdout",
     "output_type": "stream",
     "text": [
      "2550\n",
      "error\n"
     ]
    }
   ],
   "source": [
    "try:\n",
    "    print(2550)\n",
    "except:\n",
    "    print(\"Something occurred\")\n",
    "finally: #finally block will run no matter wheather error occurred or not\n",
    "    print(\"error\")"
   ]
  },
  {
   "cell_type": "markdown",
   "id": "e64ac8cc",
   "metadata": {},
   "source": [
    "# Else block"
   ]
  },
  {
   "cell_type": "code",
   "execution_count": null,
   "id": "05b78723",
   "metadata": {},
   "outputs": [],
   "source": [
    "try:\n",
    "    print(x)\n",
    "except:\n",
    "    print(\"error\")\n",
    "else: #else block will run if no error occurred\n",
    "    print(\"no error occurred\")"
   ]
  },
  {
   "cell_type": "markdown",
   "id": "d9291064",
   "metadata": {},
   "source": [
    "# Handling multiple exceptions"
   ]
  },
  {
   "cell_type": "code",
   "execution_count": 10,
   "id": "ad8b2a46",
   "metadata": {},
   "outputs": [
    {
     "name": "stdout",
     "output_type": "stream",
     "text": [
      "h\n",
      "no error occurred\n"
     ]
    }
   ],
   "source": [
    "try: \n",
    "    print(x)\n",
    "except NameError:\n",
    "    print(\"NameError occurred\")\n",
    "except:\n",
    "    print(\"some error occurred\")\n",
    "else:\n",
    "    print(\"no error occurred\")"
   ]
  },
  {
   "cell_type": "markdown",
   "id": "5dc16f7e",
   "metadata": {},
   "source": [
    "# Nested try except statements"
   ]
  },
  {
   "cell_type": "code",
   "execution_count": 12,
   "id": "da0ace28",
   "metadata": {},
   "outputs": [
    {
     "name": "stdout",
     "output_type": "stream",
     "text": [
      "errro opening file\n"
     ]
    }
   ],
   "source": [
    "try:\n",
    "    file = open(\"demo.txt\")\n",
    "    try:\n",
    "        file.write(\"Hello world\")\n",
    "    except:\n",
    "        print(\"cannot write to file\")\n",
    "    finally:\n",
    "        file.close()\n",
    "except:\n",
    "    print(\"errro opening file\")"
   ]
  },
  {
   "cell_type": "markdown",
   "id": "daf8849d",
   "metadata": {},
   "source": [
    "# Raising exception"
   ]
  },
  {
   "cell_type": "code",
   "execution_count": 16,
   "id": "328c4006",
   "metadata": {},
   "outputs": [
    {
     "ename": "Exception",
     "evalue": "X is less than zero",
     "output_type": "error",
     "traceback": [
      "\u001b[1;31m---------------------------------------------------------------------------\u001b[0m",
      "\u001b[1;31mException\u001b[0m                                 Traceback (most recent call last)",
      "Cell \u001b[1;32mIn [16], line 3\u001b[0m\n\u001b[0;32m      1\u001b[0m x \u001b[38;5;241m=\u001b[39m \u001b[38;5;241m-\u001b[39m\u001b[38;5;241m1\u001b[39m\n\u001b[0;32m      2\u001b[0m \u001b[38;5;28;01mif\u001b[39;00m x\u001b[38;5;241m<\u001b[39m\u001b[38;5;241m0\u001b[39m:\n\u001b[1;32m----> 3\u001b[0m     \u001b[38;5;28;01mraise\u001b[39;00m \u001b[38;5;167;01mException\u001b[39;00m(\u001b[38;5;124m\"\u001b[39m\u001b[38;5;124mX is less than zero\u001b[39m\u001b[38;5;124m\"\u001b[39m)\n",
      "\u001b[1;31mException\u001b[0m: X is less than zero"
     ]
    }
   ],
   "source": [
    "x = -1\n",
    "if x<0:\n",
    "    raise Exception(\"X is less than zero\") #raising general exception"
   ]
  },
  {
   "cell_type": "markdown",
   "id": "6cfc5ac5",
   "metadata": {},
   "source": [
    "# Raising particular exception"
   ]
  },
  {
   "cell_type": "code",
   "execution_count": 17,
   "id": "efc2e5d1",
   "metadata": {},
   "outputs": [
    {
     "ename": "TypeError",
     "evalue": "S is not an integer",
     "output_type": "error",
     "traceback": [
      "\u001b[1;31m---------------------------------------------------------------------------\u001b[0m",
      "\u001b[1;31mTypeError\u001b[0m                                 Traceback (most recent call last)",
      "Cell \u001b[1;32mIn [17], line 3\u001b[0m\n\u001b[0;32m      1\u001b[0m s \u001b[38;5;241m=\u001b[39m \u001b[38;5;124m\"\u001b[39m\u001b[38;5;124mhello\u001b[39m\u001b[38;5;124m\"\u001b[39m\n\u001b[0;32m      2\u001b[0m \u001b[38;5;28;01mif\u001b[39;00m \u001b[38;5;28mtype\u001b[39m(s) \u001b[38;5;129;01mis\u001b[39;00m \u001b[38;5;129;01mnot\u001b[39;00m \u001b[38;5;28mint\u001b[39m:\n\u001b[1;32m----> 3\u001b[0m     \u001b[38;5;28;01mraise\u001b[39;00m \u001b[38;5;167;01mTypeError\u001b[39;00m(\u001b[38;5;124m\"\u001b[39m\u001b[38;5;124mS is not an integer\u001b[39m\u001b[38;5;124m\"\u001b[39m)\n",
      "\u001b[1;31mTypeError\u001b[0m: S is not an integer"
     ]
    }
   ],
   "source": [
    "s = \"hello\"\n",
    "if type(s) is not int:\n",
    "    raise TypeError(\"S is not an integer\")"
   ]
  }
 ],
 "metadata": {
  "kernelspec": {
   "display_name": "Python 3 (ipykernel)",
   "language": "python",
   "name": "python3"
  },
  "language_info": {
   "codemirror_mode": {
    "name": "ipython",
    "version": 3
   },
   "file_extension": ".py",
   "mimetype": "text/x-python",
   "name": "python",
   "nbconvert_exporter": "python",
   "pygments_lexer": "ipython3",
   "version": "3.10.2"
  }
 },
 "nbformat": 4,
 "nbformat_minor": 5
}
