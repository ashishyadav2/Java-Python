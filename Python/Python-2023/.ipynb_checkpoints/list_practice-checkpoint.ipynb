{
 "cells": [
  {
   "cell_type": "markdown",
   "id": "da982285",
   "metadata": {},
   "source": [
    "# Exercise 1: Reverse a list in Python"
   ]
  },
  {
   "cell_type": "markdown",
   "id": "dd0daf4b",
   "metadata": {},
   "source": [
    "# Exercise 2: Concatenate two lists index-wise"
   ]
  },
  {
   "cell_type": "markdown",
   "id": "178dc232",
   "metadata": {},
   "source": [
    "# Exercise 3: Turn every item of a list into its square"
   ]
  },
  {
   "cell_type": "markdown",
   "id": "a93af0e9",
   "metadata": {},
   "source": [
    "# Exercise 4: Concatenate two lists in the following order"
   ]
  },
  {
   "cell_type": "markdown",
   "id": "23cc1e24",
   "metadata": {},
   "source": [
    "# Exercise 5: Iterate both lists simultaneously"
   ]
  },
  {
   "cell_type": "markdown",
   "id": "9b87f899",
   "metadata": {},
   "source": [
    "# Exercise 6: Remove empty strings from the list of strings"
   ]
  },
  {
   "cell_type": "markdown",
   "id": "07b9de9b",
   "metadata": {},
   "source": [
    "# Exercise 7: Add new item to list after a specified item"
   ]
  },
  {
   "cell_type": "markdown",
   "id": "65c24738",
   "metadata": {},
   "source": [
    "# Exercise 8: Extend nested list by adding the sublist"
   ]
  },
  {
   "cell_type": "markdown",
   "id": "c556a8b9",
   "metadata": {},
   "source": [
    "# Exercise 9: Replace list’s item with new value if found"
   ]
  },
  {
   "cell_type": "markdown",
   "id": "2de09669",
   "metadata": {},
   "source": [
    "# Exercise 10: Remove all occurrences of a specific item from a list."
   ]
  },
  {
   "cell_type": "code",
   "execution_count": null,
   "id": "1c6da97e",
   "metadata": {},
   "outputs": [],
   "source": []
  }
 ],
 "metadata": {
  "kernelspec": {
   "display_name": "Python 3 (ipykernel)",
   "language": "python",
   "name": "python3"
  },
  "language_info": {
   "codemirror_mode": {
    "name": "ipython",
    "version": 3
   },
   "file_extension": ".py",
   "mimetype": "text/x-python",
   "name": "python",
   "nbconvert_exporter": "python",
   "pygments_lexer": "ipython3",
   "version": "3.10.2"
  }
 },
 "nbformat": 4,
 "nbformat_minor": 5
}
