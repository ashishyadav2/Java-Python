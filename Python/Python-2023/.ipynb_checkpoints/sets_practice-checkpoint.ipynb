{
 "cells": [
  {
   "cell_type": "markdown",
   "id": "ad0f8392",
   "metadata": {},
   "source": [
    "# Exercise 1: Add a list of elements to a set"
   ]
  },
  {
   "cell_type": "code",
   "execution_count": 17,
   "id": "8e184b09",
   "metadata": {},
   "outputs": [
    {
     "name": "stdout",
     "output_type": "stream",
     "text": [
      "{'Green', 'Black', 'Yellow', 'Orange', 'Blue', 'Red'}\n"
     ]
    }
   ],
   "source": [
    "sample_set = {\"Yellow\", \"Orange\", \"Black\"}\n",
    "sample_list = [\"Blue\", \"Green\", \"Red\"]\n",
    "\n",
    "sample_set.update(sample_list)\n",
    "print(sample_set)"
   ]
  },
  {
   "cell_type": "markdown",
   "id": "1908e521",
   "metadata": {},
   "source": [
    "# Exercise 2: Return a new set of identical items from two sets"
   ]
  },
  {
   "cell_type": "code",
   "execution_count": 18,
   "id": "6657984c",
   "metadata": {},
   "outputs": [
    {
     "name": "stdout",
     "output_type": "stream",
     "text": [
      "{40, 50, 30}\n"
     ]
    }
   ],
   "source": [
    "set1 = {10, 20, 30, 40, 50}\n",
    "set2 = {30, 40, 50, 60, 70}\n",
    "\n",
    "print(set1.intersection(set2))"
   ]
  },
  {
   "cell_type": "markdown",
   "id": "8f8f2d52",
   "metadata": {},
   "source": [
    "# Exercise 3: Get Only unique items from two sets"
   ]
  },
  {
   "cell_type": "code",
   "execution_count": 19,
   "id": "48e0ab84",
   "metadata": {},
   "outputs": [
    {
     "name": "stdout",
     "output_type": "stream",
     "text": [
      "{70, 40, 10, 50, 20, 60, 30}\n"
     ]
    }
   ],
   "source": [
    "set1 = {10, 20, 30, 40, 50}\n",
    "set2 = {30, 40, 50, 60, 70}\n",
    "\n",
    "print(set1.union(set2))"
   ]
  },
  {
   "cell_type": "markdown",
   "id": "339be41b",
   "metadata": {},
   "source": [
    "# Exercise 4: Update the first set with items that don’t exist in the second set"
   ]
  },
  {
   "cell_type": "code",
   "execution_count": 20,
   "id": "fe678436",
   "metadata": {},
   "outputs": [
    {
     "name": "stdout",
     "output_type": "stream",
     "text": [
      "{10, 30}\n"
     ]
    }
   ],
   "source": [
    "set1 = {10, 20, 30}\n",
    "set2 = {20, 40, 50}\n",
    "\n",
    "set1.difference_update(set2)\n",
    "print(set1)"
   ]
  },
  {
   "cell_type": "markdown",
   "id": "cfe69aa2",
   "metadata": {},
   "source": [
    "# Exercise 5: Remove items from the set at once"
   ]
  },
  {
   "cell_type": "code",
   "execution_count": 21,
   "id": "9240120e",
   "metadata": {},
   "outputs": [
    {
     "name": "stdout",
     "output_type": "stream",
     "text": [
      "{40, 50}\n"
     ]
    }
   ],
   "source": [
    "set1 = {10, 20, 30, 40, 50}\n",
    "set2 = {10,20,30}\n",
    "\n",
    "print(set1.difference(set2))"
   ]
  },
  {
   "cell_type": "markdown",
   "id": "02a72c51",
   "metadata": {},
   "source": [
    "# Exercise 6: Return a set of elements present in Set A or B, but not both"
   ]
  },
  {
   "cell_type": "code",
   "execution_count": 22,
   "id": "c7016319",
   "metadata": {},
   "outputs": [
    {
     "name": "stdout",
     "output_type": "stream",
     "text": [
      "{20, 70, 10, 60}\n"
     ]
    }
   ],
   "source": [
    "set1 = {10, 20, 30, 40, 50}\n",
    "set2 = {30, 40, 50, 60, 70}\n",
    "\n",
    "print(set1.symmetric_difference(set2))"
   ]
  },
  {
   "cell_type": "markdown",
   "id": "6806f871",
   "metadata": {},
   "source": [
    "# Exercise 7: Check if two sets have any elements in common. If yes, display the common elements"
   ]
  },
  {
   "cell_type": "code",
   "execution_count": 23,
   "id": "b0ddd026",
   "metadata": {},
   "outputs": [
    {
     "name": "stdout",
     "output_type": "stream",
     "text": [
      "{10}\n"
     ]
    }
   ],
   "source": [
    "set1 = {10, 20, 30, 40, 50}\n",
    "set2 = {60, 70, 80, 90, 10}\n",
    "\n",
    "if set1.isdisjoint(set2):\n",
    "    print(\"Nothing is comman\")\n",
    "else:\n",
    "    print(set1.intersection(set2))"
   ]
  },
  {
   "cell_type": "markdown",
   "id": "aacbe941",
   "metadata": {},
   "source": [
    "# Exercise 8: Update set1 by adding items from set2, except common items"
   ]
  },
  {
   "cell_type": "code",
   "execution_count": 24,
   "id": "97e8421f",
   "metadata": {},
   "outputs": [
    {
     "name": "stdout",
     "output_type": "stream",
     "text": [
      "{20, 70, 10, 60}\n"
     ]
    }
   ],
   "source": [
    "set1 = {10, 20, 30, 40, 50}\n",
    "set2 = {30, 40, 50, 60, 70}\n",
    "\n",
    "set1.symmetric_difference_update(set2)\n",
    "print(set1)"
   ]
  },
  {
   "cell_type": "markdown",
   "id": "00def05f",
   "metadata": {},
   "source": [
    "# Exercise 9: Remove items from set1 that are not common to both set1 and set2"
   ]
  },
  {
   "cell_type": "code",
   "execution_count": null,
   "id": "3e9d0538",
   "metadata": {},
   "outputs": [],
   "source": [
    "set1 = {10, 20, 30, 40, 50}\n",
    "set2 = {30, 40, 50, 60, 70}\n",
    "\n",
    "set1.intersection_update(set2)\n",
    "print(set1)"
   ]
  }
 ],
 "metadata": {
  "kernelspec": {
   "display_name": "Python 3 (ipykernel)",
   "language": "python",
   "name": "python3"
  },
  "language_info": {
   "codemirror_mode": {
    "name": "ipython",
    "version": 3
   },
   "file_extension": ".py",
   "mimetype": "text/x-python",
   "name": "python",
   "nbconvert_exporter": "python",
   "pygments_lexer": "ipython3",
   "version": "3.10.2"
  }
 },
 "nbformat": 4,
 "nbformat_minor": 5
}
