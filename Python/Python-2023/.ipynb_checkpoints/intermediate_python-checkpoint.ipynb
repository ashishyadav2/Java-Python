{
 "cells": [
  {
   "cell_type": "markdown",
   "id": "3372c378",
   "metadata": {},
   "source": [
    "# Exercise 1: Reverse each word of a string"
   ]
  },
  {
   "cell_type": "code",
   "execution_count": 11,
   "id": "f1c2796f",
   "metadata": {},
   "outputs": [
    {
     "name": "stdout",
     "output_type": "stream",
     "text": [
      "yM emaN si asseJ\n"
     ]
    }
   ],
   "source": [
    "strr = 'My Name is Jessa'\n",
    "string = strr.split(\" \")\n",
    "lst = []\n",
    "for i in string:\n",
    "    temp = list(i)\n",
    "    temp.reverse()\n",
    "    ans = \"\".join(temp)\n",
    "    lst.append(ans)\n",
    "print(\" \".join(lst))"
   ]
  },
  {
   "cell_type": "markdown",
   "id": "783e0ecc",
   "metadata": {},
   "source": [
    "# Read text file into a variable and replace all newlines with space"
   ]
  },
  {
   "cell_type": "markdown",
   "id": "79a1a6fd",
   "metadata": {},
   "source": [
    "# Remove items from a list while iterating"
   ]
  },
  {
   "cell_type": "code",
   "execution_count": 8,
   "id": "9ea4d714",
   "metadata": {},
   "outputs": [
    {
     "name": "stdout",
     "output_type": "stream",
     "text": [
      "[10, 20, 30, 40, 50]\n"
     ]
    }
   ],
   "source": [
    "number_list = [10, 20, 30, 40, 50, 60, 70, 80, 90, 100]\n",
    "n = len(number_list)     \n",
    "for i in range(n-1,-1,-1): #range(start,stop,step)\n",
    "    if number_list[i]>50:\n",
    "        del number_list[i]\n",
    "print(number_list)"
   ]
  },
  {
   "cell_type": "markdown",
   "id": "0e268d64",
   "metadata": {},
   "source": [
    "# Exercise 4: Reverse Dictionary mapping"
   ]
  },
  {
   "cell_type": "code",
   "execution_count": 23,
   "id": "00ef86c7",
   "metadata": {},
   "outputs": [
    {
     "name": "stdout",
     "output_type": "stream",
     "text": [
      "{65: 'A', 66: 'B', 67: 'C', 68: 'D'}\n"
     ]
    }
   ],
   "source": [
    "ascii_dict = {'A': 65, 'B': 66, 'C': 67, 'D': 68}\n",
    "\n",
    "keys = list(ascii_dict.keys())\n",
    "values = list(ascii_dict.values())\n",
    "n = len(ascii_dict)\n",
    "ascii_dict = {}\n",
    "for i in range(n):\n",
    "    ascii_dict.update({values[i]:keys[i]})\n",
    "print(ascii_dict)"
   ]
  },
  {
   "cell_type": "markdown",
   "id": "ac71e876",
   "metadata": {},
   "source": [
    "# Exercise 5: Display all duplicate items from a list"
   ]
  },
  {
   "cell_type": "code",
   "execution_count": 26,
   "id": "0a6ea351",
   "metadata": {},
   "outputs": [
    {
     "name": "stdout",
     "output_type": "stream",
     "text": [
      "[20, 30, 60]\n",
      "{10: 1, 20: 1, 60: 1, 30: 1, 40: 1, 70: 1, 80: 1}\n"
     ]
    }
   ],
   "source": [
    "sample_list = [10, 20, 60, 30, 20, 40, 30, 60, 70, 80]\n",
    "exists = {}\n",
    "duplicates = []\n",
    "for num in sample_list:\n",
    "    if num not in exists:\n",
    "        exists[num] = 1\n",
    "    else:\n",
    "        duplicates.append(num)\n",
    "print(duplicates)"
   ]
  },
  {
   "cell_type": "markdown",
   "id": "d5422224",
   "metadata": {},
   "source": [
    " # Exercise 6: Filter dictionary to contain keys present in the given list"
   ]
  },
  {
   "cell_type": "code",
   "execution_count": 26,
   "id": "48523603",
   "metadata": {},
   "outputs": [
    {
     "name": "stdout",
     "output_type": "stream",
     "text": [
      "{'A': 65, 'C': 67, 'F': 70}\n"
     ]
    }
   ],
   "source": [
    "# Dictionary\n",
    "d1 = {'A': 65, 'B': 66, 'C': 67, 'D': 68, 'E': 69, 'F': 70}\n",
    "\n",
    "# Filter dict using following keys\n",
    "l1 = ['A', 'C', 'F']\n",
    "\n",
    "dict1 = {}\n",
    "for key in l1:\n",
    "    dict1.update({key: d1[key]})\n",
    "print(dict1)"
   ]
  },
  {
   "cell_type": "markdown",
   "id": "bf78fc05",
   "metadata": {},
   "source": [
    "# Exercise 7: Print the following number pattern"
   ]
  },
  {
   "cell_type": "markdown",
   "id": "ac178105",
   "metadata": {},
   "source": [
    "### 1 1 1 1 1 \n",
    "### 2 2 2 2 \n",
    "### 3 3 3 \n",
    "### 4 4 \n",
    "### 5"
   ]
  },
  {
   "cell_type": "code",
   "execution_count": 19,
   "id": "06b11205",
   "metadata": {},
   "outputs": [
    {
     "name": "stdout",
     "output_type": "stream",
     "text": [
      "1 1 1 1 1 \n",
      "2 2 2 2 \n",
      "3 3 3 \n",
      "4 4 \n",
      "5 \n"
     ]
    }
   ],
   "source": [
    "x = 0\n",
    "for i in range(5,0,-1):\n",
    "    x += 1\n",
    "    for j in range(1,i+1):\n",
    "        print(x,end= \" \")\n",
    "    print()"
   ]
  },
  {
   "cell_type": "markdown",
   "id": "ec6e7516",
   "metadata": {},
   "source": [
    "# Exercise 8: Create an inner function"
   ]
  },
  {
   "cell_type": "code",
   "execution_count": 21,
   "id": "7c440e3a",
   "metadata": {},
   "outputs": [
    {
     "name": "stdout",
     "output_type": "stream",
     "text": [
      "emmakellyDevelopers\n"
     ]
    }
   ],
   "source": [
    "def outer(x,y):\n",
    "    def inner(x,y):\n",
    "        return x+y\n",
    "    z = inner(x,y)\n",
    "    return z+ \"Developers\"\n",
    "res = outer(\"emma\",\"kelly\")\n",
    "print(res)"
   ]
  },
  {
   "cell_type": "markdown",
   "id": "cf2a33ba",
   "metadata": {},
   "source": [
    "# Exercise 9: Modify the element of a nested list inside the following list"
   ]
  },
  {
   "cell_type": "code",
   "execution_count": 24,
   "id": "3b5b0fab",
   "metadata": {},
   "outputs": [
    {
     "name": "stdout",
     "output_type": "stream",
     "text": [
      "[5, [10, 15, [20, 25, [30, 3500], 40], 45], 50]\n"
     ]
    }
   ],
   "source": [
    "list1 = [5, [10, 15, [20, 25, [30, 35], 40], 45], 50]\n",
    "\n",
    "list1[1][2][2][1] = 3500\n",
    "print(list1)"
   ]
  },
  {
   "cell_type": "markdown",
   "id": "f312c751",
   "metadata": {},
   "source": [
    "# Exercise 10: Access the nested key increment from the following dictionary"
   ]
  },
  {
   "cell_type": "code",
   "execution_count": 25,
   "id": "dc35bf85",
   "metadata": {},
   "outputs": [
    {
     "name": "stdout",
     "output_type": "stream",
     "text": [
      "12\n"
     ]
    }
   ],
   "source": [
    "emp_dict = {\n",
    "    \"company\": {\n",
    "        \"employee\": {\n",
    "            \"name\": \"Jess\",\n",
    "            \"payable\": {\n",
    "                \"salary\": 9000,\n",
    "                \"increment\": 12\n",
    "            }\n",
    "        }\n",
    "    }\n",
    "}\n",
    "\n",
    "print(emp_dict[\"company\"][\"employee\"][\"payable\"][\"increment\"])"
   ]
  }
 ],
 "metadata": {
  "kernelspec": {
   "display_name": "Python 3 (ipykernel)",
   "language": "python",
   "name": "python3"
  },
  "language_info": {
   "codemirror_mode": {
    "name": "ipython",
    "version": 3
   },
   "file_extension": ".py",
   "mimetype": "text/x-python",
   "name": "python",
   "nbconvert_exporter": "python",
   "pygments_lexer": "ipython3",
   "version": "3.10.2"
  }
 },
 "nbformat": 4,
 "nbformat_minor": 5
}
