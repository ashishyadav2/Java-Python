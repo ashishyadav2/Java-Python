{
 "cells": [
  {
   "cell_type": "markdown",
   "id": "6b347aeb",
   "metadata": {},
   "source": [
    "# Binary Search"
   ]
  },
  {
   "cell_type": "markdown",
   "id": "521cb479",
   "metadata": {},
   "source": [
    "## Iterative"
   ]
  },
  {
   "cell_type": "code",
   "execution_count": 7,
   "id": "1ba3b20e",
   "metadata": {},
   "outputs": [
    {
     "name": "stdout",
     "output_type": "stream",
     "text": [
      "3\n"
     ]
    }
   ],
   "source": [
    "def binary_search(arr,target):\n",
    "    start = 0\n",
    "    end = len(arr)-1\n",
    "    while start<=end:\n",
    "        mid = start + (end-start)//2\n",
    "        if arr[mid]<target:\n",
    "            start = mid +1\n",
    "        elif arr[mid]>target:\n",
    "            end = mid -1 \n",
    "        else:\n",
    "            return mid\n",
    "    return -1\n",
    "\n",
    "arr = [0,1,2,3,4,5,6,7,8,9]\n",
    "target = 3\n",
    "print(binary_search(arr,target))"
   ]
  },
  {
   "cell_type": "markdown",
   "id": "90bb7172",
   "metadata": {},
   "source": [
    "## Recursive"
   ]
  },
  {
   "cell_type": "code",
   "execution_count": 10,
   "id": "38839e13",
   "metadata": {},
   "outputs": [
    {
     "name": "stdout",
     "output_type": "stream",
     "text": [
      "3\n"
     ]
    }
   ],
   "source": [
    "def binary_search(arr,target,start,end):\n",
    "    if start>end:\n",
    "        return -1\n",
    "    mid = start + (end-start)//2\n",
    "    if arr[mid]==target:\n",
    "        return mid\n",
    "    elif arr[mid]>target:\n",
    "        return binary_search(arr,target,start,mid-1)\n",
    "    elif arr[mid]<target:\n",
    "        return binary_search(arr,target,mid+1,end)\n",
    "\n",
    "arr = [0,1,2,3,4,5,6,7,8,9]\n",
    "target = 3\n",
    "print(binary_search(arr,target,0,len(arr)-1))"
   ]
  },
  {
   "cell_type": "markdown",
   "id": "d380558b",
   "metadata": {},
   "source": [
    "## Binary Search Exercise"
   ]
  },
  {
   "cell_type": "code",
   "execution_count": 20,
   "id": "3cc7cf0e",
   "metadata": {},
   "outputs": [
    {
     "name": "stdout",
     "output_type": "stream",
     "text": [
      "[5, 6, 7]\n"
     ]
    }
   ],
   "source": [
    "#When I try to find number 5 in below list using binary search, it doesn't work and returns me -1 index. Why is that?\n",
    "#numbers = [1,4,6,9,10,5,7]\n",
    "# because list in not sorted for binary search to work the list need to be sorted\n",
    "\n",
    "\n",
    "# Find index of all the occurances of a number from sorted list\n",
    "\n",
    "def binary_search(arr,target):\n",
    "    start=0\n",
    "    end = len(arr)-1\n",
    "    while start<=end:\n",
    "        mid = start + (end-start)//2\n",
    "        if arr[mid]<target:\n",
    "            start = mid+1\n",
    "        elif arr[mid]>target:\n",
    "            end = mid-1\n",
    "        else:\n",
    "            return mid\n",
    "    return -1\n",
    "\n",
    "numbers = [1,4,6,9,11,15,15,15,17,21,34,34,56]\n",
    "number_to_find = 15  \n",
    "index = binary_search(numbers,number_to_find)\n",
    "ans = [index]\n",
    "i = index-1\n",
    "while i>=0:\n",
    "    if numbers[i]==number_to_find:\n",
    "        ans.append(i)\n",
    "    else:\n",
    "        break\n",
    "    i-=1\n",
    "i = index+1\n",
    "while i<len(arr):\n",
    "    if numbers[i]==number_to_find:\n",
    "        ans.append(i)\n",
    "    else:\n",
    "        break\n",
    "    i+=1\n",
    "print(sorted(ans))\n"
   ]
  },
  {
   "cell_type": "markdown",
   "id": "5b00baa2",
   "metadata": {},
   "source": [
    "# Bubble Sort"
   ]
  },
  {
   "cell_type": "code",
   "execution_count": 25,
   "id": "992a998d",
   "metadata": {},
   "outputs": [
    {
     "name": "stdout",
     "output_type": "stream",
     "text": [
      "['aamir', 'chang', 'dhaval', 'mona', 'tina']\n"
     ]
    }
   ],
   "source": [
    "def bubble_sort(array):\n",
    "    for i in range(len(array)):\n",
    "        swapped = False\n",
    "        for j in range(len(array)-1-i):\n",
    "            if array[j]>array[j+1]:\n",
    "                array[j],array[j+1] = array[j+1],array[j]   \n",
    "                swapped = True\n",
    "        if not swapped:\n",
    "            break\n",
    "    return array\n",
    "array =  [\"mona\", \"dhaval\", \"aamir\", \"tina\", \"chang\"]\n",
    "# array =  [5,9,2,1,67,34,88,34]\n",
    "print(bubble_sort(array))"
   ]
  },
  {
   "cell_type": "markdown",
   "id": "5fd53c16",
   "metadata": {},
   "source": [
    "## Bubble sort exercise"
   ]
  },
  {
   "cell_type": "code",
   "execution_count": 29,
   "id": "e7d00e56",
   "metadata": {},
   "outputs": [
    {
     "name": "stdout",
     "output_type": "stream",
     "text": [
      "[{'name': 'kathy', 'transaction_amount': 200, 'device': 'vivo'}, {'name': 'dhaval', 'transaction_amount': 400, 'device': 'google pixel'}, {'name': 'aamir', 'transaction_amount': 800, 'device': 'iphone-8'}, {'name': 'mona', 'transaction_amount': 1000, 'device': 'iphone-10'}]\n"
     ]
    }
   ],
   "source": [
    "def bubble_sort(array,key=None):\n",
    "    lenn = len(array)\n",
    "    for i in range(lenn):\n",
    "        swapped = False\n",
    "        for j in range(lenn-1-i):\n",
    "            if array[j][key]>array[j+1][key]:\n",
    "                array[j],array[j+1] = array[j+1],array[j]\n",
    "                swapped = True\n",
    "        if not swapped:\n",
    "            break\n",
    "    return array\n",
    "            \n",
    "elements = [\n",
    "        { 'name': 'mona',   'transaction_amount': 1000, 'device': 'iphone-10'},\n",
    "        { 'name': 'dhaval', 'transaction_amount': 400,  'device': 'google pixel'},\n",
    "        { 'name': 'kathy',  'transaction_amount': 200,  'device': 'vivo'},\n",
    "        { 'name': 'aamir',  'transaction_amount': 800,  'device': 'iphone-8'},\n",
    "    ]            \n",
    "\n",
    "print(bubble_sort(elements,key=\"transaction_amount\"))"
   ]
  },
  {
   "cell_type": "markdown",
   "id": "cf39eecc",
   "metadata": {},
   "source": [
    "# Quick Sort"
   ]
  },
  {
   "cell_type": "code",
   "execution_count": 116,
   "id": "23441c76",
   "metadata": {},
   "outputs": [
    {
     "name": "stdout",
     "output_type": "stream",
     "text": [
      "[21, 25, 30, 35, 56, 69]\n"
     ]
    }
   ],
   "source": [
    "def partition(arr,start,end):\n",
    "    pivot = arr[start]\n",
    "    p = start+1\n",
    "    q = end\n",
    "    while p<=q:\n",
    "        while p<=q and arr[p]<=pivot:\n",
    "            p+=1\n",
    "        while p<=q and arr[q]>=pivot:\n",
    "            q-=1\n",
    "        if p<q:\n",
    "            arr[p],arr[q] = arr[q],arr[p]\n",
    "    arr[q],arr[start] = arr[start],arr[q]\n",
    "    return q\n",
    "\n",
    "def quicksort(arr,start,end):\n",
    "    if start<end:\n",
    "        pivot = partition(arr,start,end)\n",
    "        quicksort(arr,start,pivot-1)\n",
    "        quicksort(arr,pivot+1,end)\n",
    "arr = [69,35,30,56,25,21]\n",
    "quicksort(arr,0,len(arr)-1)\n",
    "print(arr)"
   ]
  },
  {
   "cell_type": "markdown",
   "id": "c03d7c36",
   "metadata": {},
   "source": [
    "# Insertion Sort"
   ]
  },
  {
   "cell_type": "code",
   "execution_count": 7,
   "id": "cd3f5e53",
   "metadata": {},
   "outputs": [
    {
     "name": "stdout",
     "output_type": "stream",
     "text": [
      "[6, 8, 9, 12, 13, 14, 15]\n"
     ]
    }
   ],
   "source": [
    "arr = [9,14,15,12,6,8,13]\n",
    "n = len(arr)\n",
    "for i in range(1,n):\n",
    "    curr = arr[i]\n",
    "    j = i-1\n",
    "    while j>=0 and curr < arr[j]:\n",
    "        arr[j+1] = arr[j]\n",
    "        j-=1\n",
    "    arr[j+1] = curr        \n",
    "print(arr)\n"
   ]
  },
  {
   "cell_type": "markdown",
   "id": "c760172d",
   "metadata": {},
   "source": [
    "## Insertion sort exercise"
   ]
  },
  {
   "cell_type": "code",
   "execution_count": 11,
   "id": "ceb13315",
   "metadata": {},
   "outputs": [
    {
     "name": "stdout",
     "output_type": "stream",
     "text": [
      "[0, 1, 2, 2, 5, 5, 7]\n",
      "[2, 1.5, 2, 3.5, 2, 2.0, 2]\n"
     ]
    }
   ],
   "source": [
    "arr = [2, 1, 5, 7, 2, 0, 5]\n",
    "n = len(arr)\n",
    "ans = [arr[0]]\n",
    "c = 1\n",
    "for i in range(1,n):\n",
    "    curr = arr[i]\n",
    "    j = i-1\n",
    "    while j>=0 and curr<arr[j]:\n",
    "        #right shifting\n",
    "        arr[j+1] = arr[j]\n",
    "        j-=1\n",
    "    c+=1\n",
    "    #found current position to insert\n",
    "    arr[j+1]=curr\n",
    "    mid = c//2\n",
    "    if c%2==0:\n",
    "        ans.append((arr[mid-1]+arr[mid])/2)\n",
    "    else:\n",
    "        ans.append(arr[mid])\n",
    "print(arr)\n",
    "print(ans)"
   ]
  },
  {
   "cell_type": "markdown",
   "id": "73f372b1",
   "metadata": {},
   "source": [
    "# Merge Sort"
   ]
  },
  {
   "cell_type": "code",
   "execution_count": 18,
   "id": "05333d93",
   "metadata": {},
   "outputs": [
    {
     "name": "stdout",
     "output_type": "stream",
     "text": [
      "[3, 7, 8, 10, 15, 23, 29, 98]\n"
     ]
    }
   ],
   "source": [
    "def merge_sort(arr):\n",
    "    if len(arr)<2:\n",
    "        return arr\n",
    "    mid = len(arr)//2 #calculating mid of array\n",
    "    left = arr[:mid] # splitting left array\n",
    "    right = arr[mid:] # splitting right array\n",
    "    left = merge_sort(left) #recursive call until left becomes singel element list\n",
    "    right = merge_sort(right) #recursive call until right becomes single element list\n",
    "    return merge(left,right)\n",
    "\n",
    "def merge(arr1,arr2):    \n",
    "    n = len(arr1)\n",
    "    m = len(arr2)\n",
    "    merged_arr = [0] * (n+m)\n",
    "    i,j,k = 0,0,0\n",
    "    while i<n and j<m:\n",
    "        if arr1[i]<arr2[j]:\n",
    "            merged_arr[k] = arr1[i]\n",
    "            i+=1\n",
    "        else:\n",
    "            merged_arr[k] = arr2[j]\n",
    "            j+=1\n",
    "        k+=1\n",
    "    \n",
    "    while i<n:\n",
    "        merged_arr[k]=arr1[i]\n",
    "        i+=1\n",
    "        k+=1\n",
    "    while j<m:\n",
    "        merged_arr[k]=arr2[j]\n",
    "        j+=1\n",
    "        k+=1\n",
    "    return merged_arr\n",
    "\n",
    "# arr = [10,3,15,7,8,23,98,29]\n",
    "# print(merge_sort(arr))"
   ]
  },
  {
   "cell_type": "markdown",
   "id": "560c5d11",
   "metadata": {},
   "source": [
    "## Merge Sort Exercise"
   ]
  },
  {
   "cell_type": "code",
   "execution_count": 40,
   "id": "2d9644d2",
   "metadata": {},
   "outputs": [
    {
     "name": "stdout",
     "output_type": "stream",
     "text": [
      "[{'name': 'rajab', 'age': 12, 'time_hours': 3}, {'name': 'vedanth', 'age': 17, 'time_hours': 1}, {'name': 'vignesh', 'age': 21, 'time_hours': 2.5}, {'name': 'chinmay', 'age': 24, 'time_hours': 1.5}]\n"
     ]
    }
   ],
   "source": [
    "def merge_sort(arr,param=None,desc=False):\n",
    "    if len(arr)<2:\n",
    "        return arr\n",
    "    mid = len(arr)//2\n",
    "    left = arr[:mid]\n",
    "    right = arr[mid:]\n",
    "    left = merge_sort(left,param)\n",
    "    right = merge_sort(right,param)\n",
    "    return merge(left,right,key=param,desc=desc)\n",
    "\n",
    "def merge(arr1,arr2,key=None,desc=False): \n",
    "    n = len(arr1)\n",
    "    m = len(arr2)\n",
    "    merged_arr = [0] * (n+m)\n",
    "    i,j,k = 0,0,0\n",
    "    while i<n and j<m:\n",
    "        if arr1[i][key]<arr2[j][key]:\n",
    "            merged_arr[k] = arr1[i]\n",
    "            i+=1\n",
    "        else:\n",
    "            merged_arr[k] = arr2[j]\n",
    "            j+=1\n",
    "        k+=1\n",
    "    \n",
    "    while i<n:\n",
    "        merged_arr[k]=arr1[i]\n",
    "        i+=1\n",
    "        k+=1\n",
    "    while j<m:\n",
    "        merged_arr[k]=arr2[j]\n",
    "        j+=1\n",
    "        k+=1\n",
    "    if desc:\n",
    "        return list(reversed(merged_arr))\n",
    "    return merged_arr\n",
    "\n",
    "elements = [\n",
    "        { 'name': 'vedanth',   'age': 17, 'time_hours': 1},\n",
    "        { 'name': 'rajab', 'age': 12,  'time_hours': 3},\n",
    "        { 'name': 'vignesh',  'age': 21,  'time_hours': 2.5},\n",
    "        { 'name': 'chinmay',  'age': 24,  'time_hours': 1.5},\n",
    "    ]\n",
    "print(merge_sort(elements,param=\"age\",desc=False))"
   ]
  },
  {
   "cell_type": "markdown",
   "id": "584fa44f",
   "metadata": {},
   "source": [
    "# Shell sort"
   ]
  },
  {
   "cell_type": "code",
   "execution_count": 48,
   "id": "04a9bca9",
   "metadata": {},
   "outputs": [
    {
     "name": "stdout",
     "output_type": "stream",
     "text": [
      "[0, 1, 1, 2, 2, 2, 3, 5, 5, 5, 7, 8, 9]\n"
     ]
    }
   ],
   "source": [
    "def shell_sort(arr):\n",
    "    n = len(arr)\n",
    "    gap = n//2\n",
    "    while gap>0:\n",
    "        for i in range(gap,n):\n",
    "            curr = arr[i]\n",
    "            j = i\n",
    "            while j>=gap and arr[j-gap]>curr:\n",
    "                arr[j-gap],arr[j]=arr[j],arr[j-gap]\n",
    "                j -= gap\n",
    "        gap = gap//2\n",
    "    return arr\n",
    "arr = [77,62,14,9,30,21,80,25,70,55]\n",
    "print(shell_sort(arr))"
   ]
  },
  {
   "cell_type": "markdown",
   "id": "0973b897",
   "metadata": {},
   "source": [
    "## Shell sort exercise"
   ]
  },
  {
   "cell_type": "code",
   "execution_count": 105,
   "id": "38bc9496",
   "metadata": {
    "scrolled": true
   },
   "outputs": [
    {
     "name": "stdout",
     "output_type": "stream",
     "text": [
      "[0, 1, 2, 3, 5, 7, 8, 9]\n"
     ]
    }
   ],
   "source": [
    "def shell_sort(arr):\n",
    "    n = len(arr)\n",
    "    gap = n//2\n",
    "    while gap>0:\n",
    "        delete = []\n",
    "        for i in range(gap,len(arr)):\n",
    "            curr = arr[i]\n",
    "            j = i\n",
    "            while j>=gap and arr[j-gap]>=curr:\n",
    "                if arr[j-gap]==curr:\n",
    "                    delete.append(j)\n",
    "                arr[j],arr[j-gap] = arr[j-gap],arr[j]\n",
    "                j-=gap\n",
    "        gap = gap//2\n",
    "    delete = list(set(delete))\n",
    "    delete.sort()\n",
    "    delete.reverse()\n",
    "    for index in delete:\n",
    "        del arr[index]\n",
    "    return arr\n",
    "arr = [2, 1, 5, 7, 2, 0, 5, 1, 2, 9, 5, 8, 3]\n",
    "print(shell_sort(arr))"
   ]
  },
  {
   "cell_type": "markdown",
   "id": "62c6bb13",
   "metadata": {},
   "source": [
    "# Selection Sort"
   ]
  },
  {
   "cell_type": "code",
   "execution_count": 16,
   "id": "0a0aa7df",
   "metadata": {},
   "outputs": [
    {
     "name": "stdout",
     "output_type": "stream",
     "text": [
      "[1, 2, 6, 7, 9, 12, 17, 21, 23, 53, 61, 78, 89]\n"
     ]
    }
   ],
   "source": [
    "def selection_sort(arr):\n",
    "    n = len(arr)\n",
    "    for i in range(n):\n",
    "        min_index = i\n",
    "        for j in range(i+1,n):\n",
    "            if arr[min_index]>arr[j]:\n",
    "                min_index = j\n",
    "        arr[i],arr[min_index] = arr[min_index],arr[i]\n",
    "    return arr\n",
    "            \n",
    "arr = [89, 78, 61, 53, 23, 21, 17, 12, 9, 7, 6, 2, 1]\n",
    "print(selection_sort(arr))"
   ]
  },
  {
   "cell_type": "markdown",
   "id": "08f8f8ea",
   "metadata": {},
   "source": [
    "## Selection sort exercise"
   ]
  },
  {
   "cell_type": "code",
   "execution_count": 25,
   "id": "71119ad4",
   "metadata": {},
   "outputs": [
    {
     "name": "stdout",
     "output_type": "stream",
     "text": [
      "{'First Name': 'Aahana', 'Last Name': 'Arora'}\n",
      "{'First Name': 'Armaan', 'Last Name': 'Dadra'}\n",
      "{'First Name': 'Armaan', 'Last Name': 'Kumar'}\n",
      "{'First Name': 'Ingrid', 'Last Name': 'Galore'}\n",
      "{'First Name': 'Ingrid', 'Last Name': 'Maverick'}\n",
      "{'First Name': 'Jade', 'Last Name': 'Canary'}\n",
      "{'First Name': 'Jaya', 'Last Name': 'Seth'}\n",
      "{'First Name': 'Jaya', 'Last Name': 'Sharma'}\n",
      "{'First Name': 'Karan', 'Last Name': 'Kumar'}\n",
      "{'First Name': 'Kiran', 'Last Name': 'Kamla'}\n",
      "{'First Name': 'Raj', 'Last Name': 'Sharma'}\n",
      "{'First Name': 'Raj', 'Last Name': 'Nayyar'}\n",
      "{'First Name': 'Raj', 'Last Name': 'Thakur'}\n",
      "{'First Name': 'Suraj', 'Last Name': 'Sharma'}\n"
     ]
    }
   ],
   "source": [
    "def selection_sort(arr,key=[None,None]):\n",
    "    n = len(arr)\n",
    "    for keys in key[::-1]:\n",
    "        for i in range(n):\n",
    "            ind = i\n",
    "            for j in range(i,n):\n",
    "                if arr[j][keys]<arr[ind][keys]:\n",
    "                    ind = j\n",
    "            arr[i],arr[ind] = arr[ind],arr[i]\n",
    "    return arr\n",
    "\n",
    "arr = [\n",
    "    {'First Name': 'Raj', 'Last Name': 'Nayyar'},\n",
    "    {'First Name': 'Suraj', 'Last Name': 'Sharma'},\n",
    "    {'First Name': 'Karan', 'Last Name': 'Kumar'},\n",
    "    {'First Name': 'Jade', 'Last Name': 'Canary'},\n",
    "    {'First Name': 'Raj', 'Last Name': 'Thakur'},\n",
    "    {'First Name': 'Raj', 'Last Name': 'Sharma'},\n",
    "    {'First Name': 'Kiran', 'Last Name': 'Kamla'},\n",
    "    {'First Name': 'Armaan', 'Last Name': 'Kumar'},\n",
    "    {'First Name': 'Jaya', 'Last Name': 'Sharma'},\n",
    "    {'First Name': 'Ingrid', 'Last Name': 'Galore'},\n",
    "    {'First Name': 'Jaya', 'Last Name': 'Seth'},\n",
    "    {'First Name': 'Armaan', 'Last Name': 'Dadra'},\n",
    "    {'First Name': 'Ingrid', 'Last Name': 'Maverick'},\n",
    "    {'First Name': 'Aahana', 'Last Name': 'Arora'}\n",
    "]\n",
    "out = selection_sort(arr,[\"First Name\",\"Last Name\"])\n",
    "for dic in arr:\n",
    "    print(dic)"
   ]
  },
  {
   "cell_type": "markdown",
   "id": "496c9825",
   "metadata": {},
   "source": [
    "# Depth First Search"
   ]
  },
  {
   "cell_type": "code",
   "execution_count": 1,
   "id": "eeeffceb",
   "metadata": {},
   "outputs": [
    {
     "name": "stdout",
     "output_type": "stream",
     "text": [
      "A B D E F C "
     ]
    }
   ],
   "source": [
    "def dfs(data,start,visited=set()):\n",
    "    if start not in visited:\n",
    "        print(start, end = \" \")\n",
    "    visited.add(start)\n",
    "    for node in data[start]-visited:\n",
    "        dfs(data,node,visited)\n",
    "    return\n",
    "\n",
    "# sample data in dictionary form\n",
    "data = {\n",
    "        'A': {'B'},\n",
    "        'B': {'A', 'C', 'D'},\n",
    "        'C': {'B', 'E'},\n",
    "        'D': {'B', 'E'},\n",
    "        'E': {'C', 'D', 'F'},\n",
    "        'F': {'E'}\n",
    "        }\n",
    "dfs(data,\"A\")"
   ]
  },
  {
   "cell_type": "markdown",
   "id": "b844df1b",
   "metadata": {},
   "source": [
    "## DFS Exercise"
   ]
  },
  {
   "cell_type": "code",
   "execution_count": 4,
   "id": "ee50a99f",
   "metadata": {},
   "outputs": [
    {
     "name": "stdout",
     "output_type": "stream",
     "text": [
      "karan : darshan khantil tanuj nikhil "
     ]
    }
   ],
   "source": [
    "def dfs(data,start,emp,visited=set()):\n",
    "    if start not in visited:\n",
    "        print(start,end= \" \")\n",
    "        if start == emp:\n",
    "            print(\":\",end =\" \")\n",
    "    visited.add(start)\n",
    "    for node in data[start]-visited:\n",
    "        dfs(data,node,visited)\n",
    "    return\n",
    "\n",
    "data = {\n",
    "        \"karan\": {\"darshan\",\"nikhil\"},\n",
    "        \"darshan\": {\"khantil\", \"tanuj\"},\n",
    "        \"tanuj\": {\"nikhil\"},\n",
    "        \"krinish\": {\"hetul\"},\n",
    "        \"khantil\" : set(),\n",
    "        \"nikhil\" : set()\n",
    " }\n",
    "dfs(data,\"karan\",\"karan\")"
   ]
  },
  {
   "cell_type": "markdown",
   "id": "89fb69e0",
   "metadata": {},
   "source": [
    "# Breadth First Search"
   ]
  },
  {
   "cell_type": "code",
   "execution_count": 19,
   "id": "7416c537",
   "metadata": {},
   "outputs": [
    {
     "name": "stdout",
     "output_type": "stream",
     "text": [
      "A B D C E F "
     ]
    }
   ],
   "source": [
    "def bfs(data,start,visited=set()):\n",
    "    q = []\n",
    "    q = [start]\n",
    "    while q:\n",
    "        node = q.pop(0)\n",
    "        if node not in visited:\n",
    "            print(node,end= \" \")\n",
    "        visited.add(node)\n",
    "        for i in data[node] - visited:\n",
    "            q.append(i)\n",
    "    return\n",
    "data = {\n",
    "        'A': {'B'}, 'B': {'A', 'C', 'D'}, 'C': {'B', 'E'}, 'D': {'B', 'E'},\n",
    "        'E': {'C', 'D', 'F'}, 'F': {'E'}\n",
    "    }\n",
    "\n",
    "bfs(data, 'A')"
   ]
  },
  {
   "cell_type": "markdown",
   "id": "e8f576ac",
   "metadata": {},
   "source": [
    "## BFS Exercise"
   ]
  },
  {
   "cell_type": "code",
   "execution_count": 7,
   "id": "77116ebf",
   "metadata": {},
   "outputs": [
    {
     "name": "stdout",
     "output_type": "stream",
     "text": [
      "A-> B-> D\n"
     ]
    }
   ],
   "source": [
    "def bfs(data,start,dest,visited=set()):\n",
    "    q = []\n",
    "    q.append(start)\n",
    "    while q:\n",
    "        node= q.pop(0)\n",
    "        if node not in visited:            \n",
    "            if node==dest:\n",
    "                print(\"-> \".join(visited)+\"-> \"+dest)\n",
    "        visited.add(node)\n",
    "        for i in data[node]-visited:\n",
    "            q.append(i)\n",
    "    return\n",
    "data = {\n",
    "        'A': {'B'}, 'B': {'A', 'C', 'D'}, 'C': {'B', 'E'}, 'D': {'B', 'E'},\n",
    "        'E': {'C', 'D', 'F'}, 'F': {'E'}\n",
    "    }\n",
    "\n",
    "bfs(data, 'A',\"D\")"
   ]
  }
 ],
 "metadata": {
  "kernelspec": {
   "display_name": "Python 3 (ipykernel)",
   "language": "python",
   "name": "python3"
  },
  "language_info": {
   "codemirror_mode": {
    "name": "ipython",
    "version": 3
   },
   "file_extension": ".py",
   "mimetype": "text/x-python",
   "name": "python",
   "nbconvert_exporter": "python",
   "pygments_lexer": "ipython3",
   "version": "3.10.2"
  }
 },
 "nbformat": 4,
 "nbformat_minor": 5
}
