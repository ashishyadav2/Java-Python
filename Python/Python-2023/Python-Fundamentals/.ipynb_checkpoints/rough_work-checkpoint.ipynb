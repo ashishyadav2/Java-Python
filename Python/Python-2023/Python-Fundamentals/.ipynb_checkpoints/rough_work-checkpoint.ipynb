{
 "cells": [
  {
   "cell_type": "code",
   "execution_count": 21,
   "id": "a0aece0d",
   "metadata": {},
   "outputs": [
    {
     "name": "stdout",
     "output_type": "stream",
     "text": [
      "10\n",
      "[0, 1]\n"
     ]
    }
   ],
   "source": [
    "n  = 2\n",
    "a = bin(n)[2:]\n",
    "print(a)\n",
    "ec = 0\n",
    "oc = 0\n",
    "for i in range(len(a)):\n",
    "    if a[i] == \"1\":\n",
    "        if i%2==0:\n",
    "            ec+=1\n",
    "        else:\n",
    "            oc+=1\n",
    "if len(a)%2==0:\n",
    "    print([oc,ec])\n",
    "else:\n",
    "    print([ec,oc])"
   ]
  },
  {
   "cell_type": "code",
   "execution_count": 40,
   "id": "e060efcc",
   "metadata": {},
   "outputs": [
    {
     "name": "stdout",
     "output_type": "stream",
     "text": [
      "[[], [1], [2], [1, 2], [3], [1, 3], [2, 3], [1, 2, 3]]\n"
     ]
    }
   ],
   "source": [
    "a = [1,2,3]\n",
    "k = 2\n",
    "ans = []\n",
    "n = len(a)\n",
    "final = []\n",
    "for i in range(1<<n):\n",
    "    t = []\n",
    "    for j in range(n):\n",
    "        if i&(1<<j):\n",
    "            t.append(a[j])\n",
    "    ans.append(t)\n",
    "print(ans)"
   ]
  },
  {
   "cell_type": "code",
   "execution_count": 41,
   "id": "eb1d00e3",
   "metadata": {},
   "outputs": [
    {
     "name": "stdout",
     "output_type": "stream",
     "text": [
      "[[1, 6], [1, 6], [8, 10], [8, 10], [15, 18], [15, 18]]\n",
      "[[1, 6], [8, 10], [15, 18]]\n"
     ]
    }
   ],
   "source": [
    "mat = [[1,3],[8,10],[15,18],[2,6]]\n",
    "# mat = [[1,4],[4,5]]\n",
    "mat.sort()\n",
    "ans = []\n",
    "n = len(mat)\n",
    "i = 1\n",
    "while i<n:\n",
    "    for j in range(2):\n",
    "        a = mat[i-1][0]\n",
    "        b = mat[i][1]\n",
    "        if mat[i][0] <= mat[i-1][1] <= mat[i][1]:            \n",
    "            ans.append([a,b])\n",
    "#             i+=2\n",
    "        else:\n",
    "            ans.append(mat[i])\n",
    "    i+=1\n",
    "    \n",
    "print(ans)\n",
    "ans = list(set(map(tuple,ans)))\n",
    "ans = [list(lst) for lst in ans]\n",
    "ans.sort()\n",
    "print(ans)"
   ]
  },
  {
   "cell_type": "code",
   "execution_count": 40,
   "id": "53d34829",
   "metadata": {},
   "outputs": [
    {
     "name": "stdout",
     "output_type": "stream",
     "text": [
      "h\n"
     ]
    }
   ],
   "source": [
    "mat = []\n",
    "# print(mat[-1][1])\n",
    "if  not mat:\n",
    "    print(\"h\")\n"
   ]
  },
  {
   "cell_type": "code",
   "execution_count": 24,
   "id": "87e4c788",
   "metadata": {},
   "outputs": [
    {
     "name": "stdout",
     "output_type": "stream",
     "text": [
      "[[1, 2, 3], [1, 3, 2], [2, 1, 3], [2, 3, 1], [3, 2, 1], [3, 1, 2]]\n"
     ]
    }
   ],
   "source": [
    "d = {\n",
    "    \"2\": \"abc\",\n",
    "    \"3\": \"def\",\n",
    "    \"4\": \"ghi\",\n",
    "    \"5\": \"jkl\",\n",
    "    \"6\": \"mno\",\n",
    "    \"7\": \"pqrs\",\n",
    "    \"8\": \"tuv\",\n",
    "    \"9\": \"wxyz\"\n",
    "}\n",
    "# digits = list(\"abcdef\")\n",
    "digits = [1,2,3]\n",
    "n = len(digits)\n",
    "ans = []\n",
    "def perm(digits,l,r):\n",
    "    if l==r:\n",
    "        ans.append(digits.copy())\n",
    "    else:\n",
    "        for i in range(l,r):\n",
    "            digits[l],digits[i] = digits[i],digits[l]\n",
    "            perm(digits,l+1,r)\n",
    "            digits[l],digits[i] = digits[i],digits[l]\n",
    "\n",
    "perm(digits,0,n)\n",
    "print(ans)"
   ]
  },
  {
   "cell_type": "code",
   "execution_count": 23,
   "id": "3139052b",
   "metadata": {},
   "outputs": [
    {
     "name": "stdout",
     "output_type": "stream",
     "text": [
      "[[], [1], [2], [1, 2], [2], [1, 2], [2, 2], [1, 2, 2]]\n"
     ]
    }
   ],
   "source": [
    "ans = []\n",
    "arr = [1,2,2]\n",
    "arr1 = list(set(arr))\n",
    "n = len(arr)\n",
    "for i in range(1<<n):\n",
    "    t = []\n",
    "    for j in range(n):\n",
    "        if i&(1<<j):\n",
    "            t.append(arr[j])\n",
    "    ans.append(t)\n",
    "print(ans)"
   ]
  },
  {
   "cell_type": "code",
   "execution_count": 54,
   "id": "49c375fc",
   "metadata": {},
   "outputs": [
    {
     "name": "stdout",
     "output_type": "stream",
     "text": [
      "1.Encrypt 2.Decrypt\n",
      "Choice: 1\n",
      "Message: OUTPUT\n",
      "Cipher: [40, 123, 72, 141, 123, 72]\n"
     ]
    }
   ],
   "source": [
    "def gcd(n1,n2):\n",
    "    if n2 == 0:\n",
    "        return n1\n",
    "    return gcd(n2,n1%n2)\n",
    "    \n",
    "def RSA(data,mode):\n",
    "    p  = 11\n",
    "    q = 13\n",
    "    n = p*q\n",
    "    phi = (p-1)*(q-1)\n",
    "    e = 2\n",
    "\n",
    "    while e<phi:\n",
    "        if gcd(e,phi)==1:\n",
    "            break\n",
    "        e+=1\n",
    "\n",
    "    d =  pow(e,-1,phi)\n",
    "\n",
    "    if mode==0:\n",
    "        return pow(data,e)%n\n",
    "    elif mode==1:\n",
    "        return pow(data,d)%n\n",
    "    \n",
    "m = None\n",
    "c = None\n",
    "print(\"1.Encrypt 2.Decrypt\")\n",
    "choice = int(input(\"Choice: \"))\n",
    "if choice==1:\n",
    "    m = list(input(\"Message: \"))\n",
    "    a = list(map(lambda char: ord(char.upper()),m))\n",
    "    c = [RSA(i,0) for i in a]\n",
    "    print(\"Cipher: {}\".format(c))\n",
    "\n",
    "elif choice==2:\n",
    "    c = input(\"Cipher: \").split(\",\")\n",
    "    temp = [RSA(int(i),1) for i in c]\n",
    "    m = \"\".join(list(map(lambda char: chr(char),temp)))\n",
    "    print(\"Message: {}\".format(m))"
   ]
  },
  {
   "cell_type": "code",
   "execution_count": 56,
   "id": "1e2d2aaf",
   "metadata": {},
   "outputs": [
    {
     "name": "stdout",
     "output_type": "stream",
     "text": [
      "Public Keys\n",
      "User1 (P): 23\n",
      "User2 (G): 9\n",
      "-------------\n",
      "Private Keys\n",
      "User1 (a): 4\n",
      "User2 (b): 3\n",
      "-------------\n",
      "Shared key is 9\n"
     ]
    }
   ],
   "source": [
    "print(\"Public Keys\")\n",
    "P = int(input(\"User1 (P): \"))\n",
    "G = int(input(\"User2 (G): \"))\n",
    "\n",
    "print(\"-------------\")\n",
    "print(\"Private Keys\")\n",
    "a = int(input(\"User1 (a): \"))\n",
    "b = int(input(\"User2 (b): \"))\n",
    "\n",
    "x = pow(G,a)%P\n",
    "y = pow(G,b)%P\n",
    "\n",
    "Ka = pow(y,a)%P\n",
    "Kb = pow(x,b)%P\n",
    "\n",
    "print(\"-------------\")\n",
    "print(\"Shared key is {}\".format(Ka))"
   ]
  },
  {
   "cell_type": "code",
   "execution_count": null,
   "id": "5eca81c6",
   "metadata": {},
   "outputs": [],
   "source": []
  }
 ],
 "metadata": {
  "kernelspec": {
   "display_name": "Python 3 (ipykernel)",
   "language": "python",
   "name": "python3"
  },
  "language_info": {
   "codemirror_mode": {
    "name": "ipython",
    "version": 3
   },
   "file_extension": ".py",
   "mimetype": "text/x-python",
   "name": "python",
   "nbconvert_exporter": "python",
   "pygments_lexer": "ipython3",
   "version": "3.10.2"
  }
 },
 "nbformat": 4,
 "nbformat_minor": 5
}
