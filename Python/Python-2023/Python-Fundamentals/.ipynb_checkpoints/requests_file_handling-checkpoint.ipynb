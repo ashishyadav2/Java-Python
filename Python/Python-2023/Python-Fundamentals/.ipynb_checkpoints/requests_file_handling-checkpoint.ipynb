{
 "cells": [
  {
   "cell_type": "markdown",
   "id": "e0537758",
   "metadata": {},
   "source": [
    "# Requests REST API"
   ]
  },
  {
   "cell_type": "code",
   "execution_count": 2,
   "id": "070e8793",
   "metadata": {},
   "outputs": [
    {
     "name": "stdout",
     "output_type": "stream",
     "text": [
      "<!DOCTYPE html>\n",
      "<html>\n",
      "<body>\n",
      "\n",
      "<h1>This is a Test Page</h1>\n",
      "\n",
      "</body>\n",
      "</html>\n"
     ]
    }
   ],
   "source": [
    "import requests # syntax: requests.methodname(params)\n",
    "x = requests.get('https://w3schools.com/python/demopage.htm') #get request to the url\n",
    "print(x.text) #prints html code of the url . response text"
   ]
  },
  {
   "cell_type": "markdown",
   "id": "3cb1661c",
   "metadata": {},
   "source": [
    "## Methods"
   ]
  },
  {
   "cell_type": "markdown",
   "id": "22c54208",
   "metadata": {},
   "source": [
    "### delete(url, args)\tSends a DELETE request to the specified url\n",
    "### get(url, params, args)\tSends a GET request to the specified url\n",
    "### head(url, args)\tSends a HEAD request to the specified url\n",
    "### patch(url, data, args)\tSends a PATCH request to the specified url\n",
    "### post(url, data, json, args)\tSends a POST request to the specified url\n",
    "### put(url, data, args)\tSends a PUT request to the specified url\n",
    "### request(method, url, args)\tSends a request of the specified method to the specified url"
   ]
  },
  {
   "cell_type": "markdown",
   "id": "125028f2",
   "metadata": {},
   "source": [
    "# File handling"
   ]
  },
  {
   "cell_type": "markdown",
   "id": "5d5aa06c",
   "metadata": {},
   "source": [
    "### file modes\n",
    "### \"r\" read error if file does not exists\n",
    "### \"a\" append creates file if not exists no overwriting\n",
    "### \"w\" write creates file if not exists over writing\n",
    "### \"x\" create errro if file exists\n",
    "\n",
    "### \"t\" text mode\n",
    "### \"b\" binary mode (eg: images)\n"
   ]
  },
  {
   "cell_type": "markdown",
   "id": "12a5dc92",
   "metadata": {},
   "source": [
    "## Opening"
   ]
  },
  {
   "cell_type": "code",
   "execution_count": 4,
   "id": "3544ad0f",
   "metadata": {},
   "outputs": [],
   "source": [
    "try:\n",
    "    f = open(\"demo.txt\")\n",
    "except FileNotFoundError:\n",
    "    f = open(\"demo.txt\",\"at\")"
   ]
  },
  {
   "cell_type": "markdown",
   "id": "f52c63e8",
   "metadata": {},
   "source": [
    "## Reading"
   ]
  },
  {
   "cell_type": "code",
   "execution_count": 19,
   "id": "c16a02fe",
   "metadata": {},
   "outputs": [
    {
     "name": "stdout",
     "output_type": "stream",
     "text": [
      "Pytho\n",
      "n needs a MySQL driver to access the MySQL database.\n",
      "\n",
      "\n",
      "In this tutorial we will use the driver \"MySQL Connector\".\n",
      "\n",
      "We recommend that you use PIP to install \"MySQL Connector\".\n",
      "\n",
      "PIP is most likely already installed in your Python environment.\n",
      "\n",
      "Navigate your command line to the location of PIP, and type the following:\n"
     ]
    }
   ],
   "source": [
    "f = open(\"demo.txt\",\"r\")\n",
    "print(f.read(5)) #it will read every line in demo.txt file read() full file reading, read(number) reads only number specified characters if read(5) then it will read only first 5 chars\n",
    "print(f.readline()) #to read only one line\n",
    "print(f.read())\n",
    "f.close() #to close the file "
   ]
  },
  {
   "cell_type": "markdown",
   "id": "b35c3440",
   "metadata": {},
   "source": [
    "## Writing"
   ]
  },
  {
   "cell_type": "code",
   "execution_count": 25,
   "id": "f546e1d1",
   "metadata": {},
   "outputs": [
    {
     "name": "stdout",
     "output_type": "stream",
     "text": [
      "hello worldhello worldhello world\n"
     ]
    }
   ],
   "source": [
    "f = open(\"demo.txt\",\"a\") #append mode\n",
    "f.write(\"hello world\")\n",
    "f.close() # before opening file in any other mode first close the file\n",
    "f = open(\"demo.txt\",\"r\")\n",
    "print(f.read())"
   ]
  },
  {
   "cell_type": "code",
   "execution_count": 38,
   "id": "76733d15",
   "metadata": {},
   "outputs": [
    {
     "name": "stdout",
     "output_type": "stream",
     "text": [
      "file data: jjhj\n",
      "hello world this is python file handlingthis is second line this is thrid line1:hgjgjh1:dfsdfsdf1:fsfsf1:fsfsdf1:fsfsdf# : jjhj\n"
     ]
    }
   ],
   "source": [
    "# creating new file\n",
    "try:\n",
    "    f = open(\"demo1.txt\",\"x\")\n",
    "    f.close()\n",
    "except:\n",
    "    f = open(\"demo1.txt\",\"a\")\n",
    "    inpt = str(input(\"file data: \"))\n",
    "    f.write(\"# : {data}\".format(data=inpt))\n",
    "    f.close()\n",
    "    f = open(\"demo1.txt\",\"r\")\n",
    "    print(f.read())"
   ]
  },
  {
   "cell_type": "markdown",
   "id": "f6183a72",
   "metadata": {},
   "source": [
    "## Deletion"
   ]
  },
  {
   "cell_type": "code",
   "execution_count": 39,
   "id": "6c91cbcf",
   "metadata": {},
   "outputs": [],
   "source": [
    "import os\n",
    "os.remove(\"demo.txt\") # to delete file from the directory"
   ]
  },
  {
   "cell_type": "code",
   "execution_count": 40,
   "id": "9c21fb5d",
   "metadata": {},
   "outputs": [
    {
     "name": "stdout",
     "output_type": "stream",
     "text": [
      "file does not exists\n"
     ]
    }
   ],
   "source": [
    "if os.path.exists(\"demo.txt\"):\n",
    "    os.remove(\"demo.txt\")\n",
    "else:\n",
    "    print(\"file does not exists\")"
   ]
  },
  {
   "cell_type": "code",
   "execution_count": 42,
   "id": "5bee6778",
   "metadata": {},
   "outputs": [
    {
     "name": "stdout",
     "output_type": "stream",
     "text": [
      "folder does not exists\n"
     ]
    }
   ],
   "source": [
    "#Delete folder\n",
    "import os\n",
    "try:\n",
    "    os.rmdir(\"folder_name\")\n",
    "except FileNotFoundError:\n",
    "    print(\"folder does not exists\")\n",
    "except:\n",
    "    print(\"some error occurred\")"
   ]
  }
 ],
 "metadata": {
  "kernelspec": {
   "display_name": "Python 3 (ipykernel)",
   "language": "python",
   "name": "python3"
  },
  "language_info": {
   "codemirror_mode": {
    "name": "ipython",
    "version": 3
   },
   "file_extension": ".py",
   "mimetype": "text/x-python",
   "name": "python",
   "nbconvert_exporter": "python",
   "pygments_lexer": "ipython3",
   "version": "3.10.2"
  }
 },
 "nbformat": 4,
 "nbformat_minor": 5
}
