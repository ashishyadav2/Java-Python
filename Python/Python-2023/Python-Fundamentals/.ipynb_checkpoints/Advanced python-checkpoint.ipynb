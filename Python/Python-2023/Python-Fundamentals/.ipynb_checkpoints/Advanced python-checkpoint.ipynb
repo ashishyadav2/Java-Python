{
 "cells": [
  {
   "cell_type": "markdown",
   "id": "cfa0c6b3",
   "metadata": {},
   "source": [
    "# Iterator"
   ]
  },
  {
   "cell_type": "code",
   "execution_count": 1,
   "id": "9172479c",
   "metadata": {},
   "outputs": [
    {
     "name": "stdout",
     "output_type": "stream",
     "text": [
      "35\n"
     ]
    }
   ],
   "source": [
    "lst = [35,30,69,25,21,56]\n",
    "iterator = iter(lst)\n",
    "print(next(iterator))"
   ]
  },
  {
   "cell_type": "markdown",
   "id": "a2e06e78",
   "metadata": {},
   "source": [
    "# Non local variable"
   ]
  },
  {
   "cell_type": "code",
   "execution_count": 17,
   "id": "bbe4a618",
   "metadata": {},
   "outputs": [
    {
     "name": "stdout",
     "output_type": "stream",
     "text": [
      "hello\n"
     ]
    }
   ],
   "source": [
    "# The nonlocal keyword is used to work with variables inside nested functions, where the variable should not belong to the inner function.\n",
    "# Use the keyword nonlocal to declare that the variable is not local.\n",
    "def myfunc1():\n",
    "  x = \"John\"\n",
    "  def myfunc2():\n",
    "    nonlocal x\n",
    "    x = \"hello\"\n",
    "  myfunc2()\n",
    "  return x\n",
    "\n",
    "print(myfunc1())"
   ]
  },
  {
   "cell_type": "markdown",
   "id": "366dd3e0",
   "metadata": {},
   "source": [
    "# Generator"
   ]
  },
  {
   "cell_type": "code",
   "execution_count": 7,
   "id": "968f4cf3",
   "metadata": {},
   "outputs": [
    {
     "name": "stdout",
     "output_type": "stream",
     "text": [
      "[0, 1, 2, 3, 4, 5, 6, 7, 8, 9, 10]\n"
     ]
    }
   ],
   "source": [
    "# In Python, similar to defining a normal function, we can define a generator function using the def keyword, \n",
    "#but instead of the return statement we use the yield statement.\n",
    "\n",
    "# def generator_name(arg):\n",
    "#     # statements\n",
    "#     yield something\n",
    "# Here, the yield keyword is used to produce a value from the generator.\n",
    "\n",
    "# When the generator function is called, it does not execute the function body \n",
    "#immediately. Instead, it returns a generator object that can be iterated over to produce the values.\n",
    "\n",
    "def printt(n):\n",
    "    val = 0\n",
    "    while val<=n:\n",
    "        yield val\n",
    "        val += 1\n",
    "a = list(printt(10))\n",
    "print(a)"
   ]
  },
  {
   "cell_type": "markdown",
   "id": "3d1840bc",
   "metadata": {},
   "source": [
    "# Closure"
   ]
  },
  {
   "cell_type": "code",
   "execution_count": 9,
   "id": "323fd0fe",
   "metadata": {},
   "outputs": [
    {
     "name": "stdout",
     "output_type": "stream",
     "text": [
      "3\n",
      "5\n",
      "3\n"
     ]
    }
   ],
   "source": [
    "# Python closure is a nested function that allows us to access variables of the outer function even after \n",
    "#the outer function is closed.\n",
    "def calc():\n",
    "    n = 1\n",
    "    def inner():\n",
    "        nonlocal n\n",
    "        n += 2\n",
    "        return n\n",
    "    return inner\n",
    " \n",
    "odd = calc()\n",
    "print(odd())\n",
    "print(odd())\n",
    "od = calc()\n",
    "print(od())"
   ]
  },
  {
   "cell_type": "markdown",
   "id": "e56868a4",
   "metadata": {},
   "source": [
    "# Decorators"
   ]
  },
  {
   "cell_type": "code",
   "execution_count": 19,
   "id": "7fe14ee1",
   "metadata": {},
   "outputs": [
    {
     "name": "stdout",
     "output_type": "stream",
     "text": [
      "6\n",
      "printer\n",
      "Hello world!\n"
     ]
    }
   ],
   "source": [
    "# In Python, a decorator is a design pattern that allows you to modify the functionality \n",
    "#of a function by wrapping it in another function.\n",
    "# The outer function is called the decorator, which takes the original function as \n",
    "#an argument and returns a modified version of it.\n",
    "def inc(x):\n",
    "    return x+1\n",
    "def count(fun,a,b):\n",
    "    return fun(a)+b\n",
    "print(count(inc,2,3))\n",
    "\n",
    "\n",
    "def printer():\n",
    "    print(\"Hello world!\")\n",
    "def print_msg(func):\n",
    "    def inner():\n",
    "        print(func.__name__)\n",
    "        func()\n",
    "    return inner\n",
    "a = print_msg(printer)\n",
    "a()"
   ]
  },
  {
   "cell_type": "markdown",
   "id": "9c044f5a",
   "metadata": {},
   "source": [
    "# Property"
   ]
  },
  {
   "cell_type": "code",
   "execution_count": null,
   "id": "735132ff",
   "metadata": {},
   "outputs": [],
   "source": []
  },
  {
   "cell_type": "markdown",
   "id": "9c79d5df",
   "metadata": {},
   "source": [
    "# RegEx"
   ]
  },
  {
   "cell_type": "code",
   "execution_count": null,
   "id": "7eb08d71",
   "metadata": {},
   "outputs": [],
   "source": []
  }
 ],
 "metadata": {
  "kernelspec": {
   "display_name": "Python 3 (ipykernel)",
   "language": "python",
   "name": "python3"
  },
  "language_info": {
   "codemirror_mode": {
    "name": "ipython",
    "version": 3
   },
   "file_extension": ".py",
   "mimetype": "text/x-python",
   "name": "python",
   "nbconvert_exporter": "python",
   "pygments_lexer": "ipython3",
   "version": "3.10.2"
  }
 },
 "nbformat": 4,
 "nbformat_minor": 5
}
