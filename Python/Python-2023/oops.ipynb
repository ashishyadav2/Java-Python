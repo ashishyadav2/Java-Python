{
 "cells": [
  {
   "cell_type": "markdown",
   "id": "7779cfd2",
   "metadata": {},
   "source": [
    "# Object Oriented Programming in Python"
   ]
  },
  {
   "cell_type": "code",
   "execution_count": 3,
   "id": "66ab5239",
   "metadata": {},
   "outputs": [
    {
     "name": "stdout",
     "output_type": "stream",
     "text": [
      "500\n",
      "1500\n"
     ]
    }
   ],
   "source": [
    "class Item:\n",
    "    def calc_total_price(self,x,y):\n",
    "        return x*y\n",
    "\n",
    "item1 = Item()\n",
    "item1.name = \"Phone\"\n",
    "item1.price = 100\n",
    "item1.quantity = 5\n",
    "print(item1.calc_total_price(item1.price,item1.quantity))\n",
    "\n",
    "item2 = Item()\n",
    "item2.name = \"Laptop\"\n",
    "item2.price = 500\n",
    "item2.quantity = 3\n",
    "print(item2.calc_total_price(item2.price,item2.quantity))"
   ]
  },
  {
   "cell_type": "markdown",
   "id": "7b0dffc3",
   "metadata": {},
   "source": [
    "##  __init__ default constructor in python"
   ]
  },
  {
   "cell_type": "code",
   "execution_count": 6,
   "id": "48b0d6c1",
   "metadata": {},
   "outputs": [
    {
     "name": "stdout",
     "output_type": "stream",
     "text": [
      "2500\n"
     ]
    }
   ],
   "source": [
    "class Item: \n",
    "    def __init__(self,name,price,quantity=0): #default parameter, if quantity is note passed 0 will be assigned automatically\n",
    "        self.name = name # assigning name to every instance (self) it will be as item1.name = name passed in the parameter\n",
    "        self.price = price\n",
    "        self.quantity = quantity\n",
    "    \n",
    "    def calc(self): # we can directly calc price and quantity because we have access to self object\n",
    "        return self.price*self.quantity\n",
    "        \n",
    "item1 = Item(\"Phone\",500,5) #python passes the instance as self parameter\n",
    "item2 = Item(\"Laptop\",1000,3)\n",
    "print(item1.calc())"
   ]
  },
  {
   "cell_type": "markdown",
   "id": "1f737f7d",
   "metadata": {},
   "source": [
    "## data type parameters"
   ]
  },
  {
   "cell_type": "code",
   "execution_count": 8,
   "id": "0b8e473b",
   "metadata": {},
   "outputs": [
    {
     "name": "stdout",
     "output_type": "stream",
     "text": [
      "2500\n"
     ]
    }
   ],
   "source": [
    "class Item: \n",
    "    def __init__(self,name: str,price: float,quantity=0): # it will only accepts string,float data type\n",
    "        self.name = name \n",
    "        self.price = price\n",
    "        self.quantity = quantity\n",
    "    \n",
    "    def calc(self):\n",
    "        return self.price*self.quantity\n",
    "        \n",
    "item1 = Item(\"Phone\",500,5) \n",
    "item2 = Item(\"Laptop\",1000,3)\n",
    "print(item1.calc())"
   ]
  },
  {
   "cell_type": "markdown",
   "id": "1a80be1e",
   "metadata": {},
   "source": [
    "## data validation in class using assert statements"
   ]
  },
  {
   "cell_type": "code",
   "execution_count": 13,
   "id": "21d126a1",
   "metadata": {},
   "outputs": [
    {
     "name": "stdout",
     "output_type": "stream",
     "text": [
      "2500\n"
     ]
    }
   ],
   "source": [
    "class Item: \n",
    "    def __init__(self,name: str,price: float,quantity=0):\n",
    "        #validation\n",
    "        assert price >= 0, \"Price {} is not greater than zero\".format(price) #assert keyword condtion, string error message\n",
    "        assert quantity >=0\n",
    "        #assignment\n",
    "        self.name = name \n",
    "        self.price = price\n",
    "        self.quantity = quantity\n",
    "        \n",
    "    \n",
    "    def calc(self):\n",
    "        return self.price*self.quantity\n",
    "        \n",
    "item1 = Item(\"Phone\",500,5) \n",
    "item2 = Item(\"Laptop\",1000,3)\n",
    "print(item1.calc())"
   ]
  },
  {
   "cell_type": "markdown",
   "id": "94de2443",
   "metadata": {},
   "source": [
    "## class attributes"
   ]
  },
  {
   "cell_type": "code",
   "execution_count": 31,
   "id": "37790584",
   "metadata": {},
   "outputs": [
    {
     "name": "stdout",
     "output_type": "stream",
     "text": [
      "800.0\n"
     ]
    }
   ],
   "source": [
    "class Item: \n",
    "    pay_rate = 0.8 # class attribute and will be available to all member function\n",
    "    def __init__(self,name: str,price: float,quantity=0):\n",
    "        #validation\n",
    "        assert price >= 0, \"Price {} is not greater than zero\".format(price) \n",
    "        assert quantity >=0\n",
    "        \n",
    "        #assignment\n",
    "        self.name = name \n",
    "        self.price = price\n",
    "        self.quantity = quantity\n",
    "        \n",
    "    \n",
    "    def calc(self):\n",
    "        return self.price*self.quantity\n",
    "    \n",
    "    def discount(self):\n",
    "        self.price = self.price* Item.pay_rate # self.pay_rate for variable values accessing class level attribute\n",
    "        \n",
    "item1 = Item(\"Phone\",500,5) \n",
    "item2 = Item(\"Laptop\",1000,3)\n",
    "item2.pay_rate = 0.5 # we can add extra attributes other than init function\n",
    "# print(Item.pay_rate)\n",
    "# print(item1.pay_rate) # first it will find pay_rate at instance level it doesn't found it wil take value from class attribute\n",
    "# print(item2.pay_rate)\n",
    "\n",
    "# print(Item.__dict__) # it will give all the attributes\n",
    "# print(item1.__dict__) # it returns a dictionary\n",
    "item2.discount()\n",
    "print(item2.price)"
   ]
  },
  {
   "cell_type": "markdown",
   "id": "72182844",
   "metadata": {},
   "source": [
    "## append the values of the instances"
   ]
  },
  {
   "cell_type": "code",
   "execution_count": 37,
   "id": "0ce119c0",
   "metadata": {},
   "outputs": [
    {
     "name": "stdout",
     "output_type": "stream",
     "text": [
      "800.0\n",
      "[Item(Phone,500,5), Item(Laptop,800.0,3)]\n",
      "Phone\n",
      "Laptop\n"
     ]
    }
   ],
   "source": [
    "class Item: \n",
    "    pay_rate = 0.8 \n",
    "    all = []\n",
    "    def __init__(self,name: str,price: float,quantity=0):\n",
    "        #validation\n",
    "        assert price >= 0, \"Price {} is not greater than zero\".format(price) \n",
    "        assert quantity >=0\n",
    "        \n",
    "        #assignment\n",
    "        self.name = name \n",
    "        self.price = price\n",
    "        self.quantity = quantity\n",
    "        \n",
    "        Item.all.append(self) # appending instance to all list\n",
    "    \n",
    "    def calc(self):\n",
    "        return self.price*self.quantity\n",
    "    \n",
    "    def __repr__(self): #used to represent a object\n",
    "        return \"Item({},{},{})\".format(self.name,self.price,self.quantity)\n",
    "    \n",
    "    def discount(self):\n",
    "        self.price = self.price* Item.pay_rate \n",
    "        \n",
    "item1 = Item(\"Phone\",500,5) \n",
    "item2 = Item(\"Laptop\",1000,3)\n",
    "item2.pay_rate = 0.5 \n",
    "item2.discount()\n",
    "print(item2.price)\n",
    "print(Item.all)\n",
    "\n",
    "for instance in Item.all:\n",
    "    print(instance.name)"
   ]
  },
  {
   "cell_type": "markdown",
   "id": "f6390ca0",
   "metadata": {},
   "source": [
    "#  Static vs class methods"
   ]
  },
  {
   "cell_type": "code",
   "execution_count": 8,
   "id": "10e03432",
   "metadata": {},
   "outputs": [
    {
     "name": "stdout",
     "output_type": "stream",
     "text": [
      "False\n"
     ]
    }
   ],
   "source": [
    "class Item: \n",
    "    pay_rate = 0.8 \n",
    "    all = []\n",
    "    def __init__(self,name: str,price: float,quantity=0):\n",
    "        #validation\n",
    "        assert price >= 0, \"Price {} is not greater than zero\".format(price) \n",
    "        assert quantity >=0\n",
    "        \n",
    "        #assignment\n",
    "        self.name = name \n",
    "        self.price = price\n",
    "        self.quantity = quantity\n",
    "        \n",
    "        Item.all.append(self) \n",
    "    \n",
    "    def calc(self):\n",
    "        return self.price*self.quantity\n",
    "    \n",
    "    def __repr__(self): \n",
    "        return \"Item({},{},{})\".format(self.name,self.price,self.quantity)\n",
    "    \n",
    "    #A class method is a method that is bound to the class and not the object of the class.\n",
    "#They have the access to the state of the class as it takes a class parameter that points to the class and not the object instance.\n",
    "#It can modify a class state that would apply across all the instances of the class. For example, it can modify a class variable that will be applicable to all the instances.\n",
    "\n",
    "    @classmethod # it is called decorator (just like annotations in java) it tells that instantiate is class method not an object method\n",
    "    def instantiate(cls): #cls in class object is passed\n",
    "        pass\n",
    "    \n",
    "    @staticmethod\n",
    "    def is_integer(num): #it does not take implicit object, it behaves as normal function\n",
    "        if isinstance(num,float): # if num is an instance of float class then it is float\n",
    "            return num.is_integer() # calling is_integer() on float,int etc classes we call it becuase it is static method\n",
    "        elif isinstance(num,int):\n",
    "            return True\n",
    "        else:\n",
    "            return False\n",
    "        \n",
    "    def discount(self):\n",
    "        self.price = self.price* Item.pay_rate \n",
    "        \n",
    "print(Item.is_integer(7.0)) #7.0 will be treated as int 7.1 + will be float because of return num.is_integer()"
   ]
  },
  {
   "cell_type": "markdown",
   "id": "609bfb45",
   "metadata": {},
   "source": [
    "## when to use class and static method"
   ]
  },
  {
   "cell_type": "code",
   "execution_count": null,
   "id": "7da23246",
   "metadata": {},
   "outputs": [],
   "source": [
    "class Item:\n",
    "    @staticmethod\n",
    "    def is_integer(): \n",
    "        #this should be used when you have to do something that is not unique to per instance\n",
    "        # This should do something that has a relationship with the class, but not something that must be unique per instance!\n",
    "        \n",
    "    @classmethod\n",
    "    def instantiate_from_csv():\n",
    "        # This should also do something that has a relationship\n",
    "        # with the class, but usually, those are used to\n",
    "        # manipulate different structures of data to instantiate\n",
    "        # objects, like we have done with CsV."
   ]
  },
  {
   "cell_type": "markdown",
   "id": "697baf84",
   "metadata": {},
   "source": [
    "## Inheritance"
   ]
  },
  {
   "cell_type": "code",
   "execution_count": 19,
   "id": "774f3682",
   "metadata": {},
   "outputs": [
    {
     "name": "stdout",
     "output_type": "stream",
     "text": [
      "[]\n",
      "[Phone(phone1,500,6), Phone(phone2,100,3)]\n"
     ]
    }
   ],
   "source": [
    "class Item: \n",
    "    pay_rate = 0.8 \n",
    "    all = []\n",
    "    def __init__(self,name: str,price: float,quantity=0):\n",
    "        #validation\n",
    "        assert price >= 0, \"Price {} is not greater than zero\".format(price) \n",
    "        assert quantity >=0\n",
    "        \n",
    "        #assignment\n",
    "        self.name = name \n",
    "        self.price = price\n",
    "        self.quantity = quantity\n",
    "        \n",
    "    \n",
    "    def calc(self):\n",
    "        return self.price*self.quantity\n",
    "    \n",
    "    def discount(self):\n",
    "        self.price = self.price* Item.pay_rate \n",
    "        \n",
    "    def __repr__(self): \n",
    "        return \"{}({},{},{})\".format(self.__class__.__name__,self.name,self.price,self.quantity)# to access class name .__class__.__name__\n",
    "\n",
    "class Phone(Item): #inheriting functionalities of Item class, syntax: class child_class(parent_class):\n",
    "    all = []\n",
    "    def __init__(self,name: str,price: float,quantity=0,broken_phones = 0):\n",
    "        #use super() to inherit attributes from parent class\n",
    "        super().__init__(name,price,quantity) # inheriting parenct class init method\n",
    "        assert broken_phones >= 0\n",
    "        \n",
    "        self.broken_phones = broken_phones\n",
    "        \n",
    "        Phone.all.append(self)\n",
    "\n",
    "phone1 = Phone(\"phone1\",500,6,1)\n",
    "phone2 = Phone(\"phone2\",100,3,1)\n",
    "print(Item.all)\n",
    "print(Phone.all)"
   ]
  },
  {
   "cell_type": "markdown",
   "id": "e076366b",
   "metadata": {},
   "source": [
    "### Single Inheritence"
   ]
  },
  {
   "cell_type": "code",
   "execution_count": 27,
   "id": "5e893060",
   "metadata": {},
   "outputs": [
    {
     "name": "stdout",
     "output_type": "stream",
     "text": [
      "Name: Eric, Id: 25\n"
     ]
    }
   ],
   "source": [
    "class Person:\n",
    "    def __init__(self,name,idnumber):\n",
    "        self.name = name\n",
    "        self.idnumber = idnumber\n",
    "    \n",
    "    def print_details(self):\n",
    "        print(\"Name: {}, Id: {}\".format(self.name,self.idnumber))\n",
    "\n",
    "class Employee(Person):\n",
    "    def __init__(self,name,idnumber,salary,role):\n",
    "        super().__init__(name,idnumber)\n",
    "        self.salary = salary\n",
    "        self.role = role\n",
    "        \n",
    "    \n",
    "    def print_details(self):\n",
    "        print(\"Name: {}, Id: {}, Salary: {}, Role:{}\".format(self.name,self.idnumber,self.salary,self.role))\n",
    "\n",
    "emp1 = Person(\"Eric\",25)\n",
    "emp1.print_details()"
   ]
  },
  {
   "cell_type": "markdown",
   "id": "25e93dfb",
   "metadata": {},
   "source": [
    "## Polymorphism"
   ]
  },
  {
   "cell_type": "code",
   "execution_count": 29,
   "id": "98f71774",
   "metadata": {},
   "outputs": [
    {
     "name": "stdout",
     "output_type": "stream",
     "text": [
      "sparrow can fly\n"
     ]
    }
   ],
   "source": [
    "class Bird:\n",
    "    def intro(self):\n",
    "        print(\"Bird class\")\n",
    "    def flight(self):\n",
    "        print(\"Some fly some dont\")\n",
    "\n",
    "class sparrow(Bird):\n",
    "    def flight(self):\n",
    "        print(\"sparrow can fly\")\n",
    "        \n",
    "class peacock(Bird):\n",
    "    def flight(self):\n",
    "        print(\"peacock it cannot fly\")\n",
    "        \n",
    "a = sparrow()\n",
    "a.flight()"
   ]
  },
  {
   "cell_type": "code",
   "execution_count": null,
   "id": "dcc63bd2",
   "metadata": {},
   "outputs": [],
   "source": []
  }
 ],
 "metadata": {
  "kernelspec": {
   "display_name": "Python 3 (ipykernel)",
   "language": "python",
   "name": "python3"
  },
  "language_info": {
   "codemirror_mode": {
    "name": "ipython",
    "version": 3
   },
   "file_extension": ".py",
   "mimetype": "text/x-python",
   "name": "python",
   "nbconvert_exporter": "python",
   "pygments_lexer": "ipython3",
   "version": "3.10.2"
  }
 },
 "nbformat": 4,
 "nbformat_minor": 5
}
