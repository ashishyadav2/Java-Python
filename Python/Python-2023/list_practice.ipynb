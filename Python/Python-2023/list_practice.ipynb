{
 "cells": [
  {
   "cell_type": "markdown",
   "id": "c949ea9d",
   "metadata": {},
   "source": [
    "# Exercise 1: Reverse a list in Python"
   ]
  },
  {
   "cell_type": "code",
   "execution_count": 4,
   "id": "8802814f",
   "metadata": {},
   "outputs": [],
   "source": [
    "list1 = [100, 200, 300, 400, 500]"
   ]
  },
  {
   "cell_type": "code",
   "execution_count": 5,
   "id": "fe8de1a2",
   "metadata": {},
   "outputs": [
    {
     "name": "stdout",
     "output_type": "stream",
     "text": [
      "[500, 400, 300, 200, 100]\n"
     ]
    }
   ],
   "source": [
    "i = 0\n",
    "j = len(list1)-1\n",
    "while i<j:\n",
    "    temp = list1[i]\n",
    "    list1[i] = list1[j]\n",
    "    list1[j] = temp\n",
    "    i+=1\n",
    "    j-=1    \n",
    "print(list1)"
   ]
  },
  {
   "cell_type": "markdown",
   "id": "eb04fe70",
   "metadata": {},
   "source": [
    "# Exercise 2: Concatenate two lists index-wise"
   ]
  },
  {
   "cell_type": "code",
   "execution_count": 6,
   "id": "b65485c7",
   "metadata": {},
   "outputs": [],
   "source": [
    "list1 = [\"M\", \"na\", \"i\", \"Ke\"]\n",
    "list2 = [\"y\", \"me\", \"s\", \"lly\"]"
   ]
  },
  {
   "cell_type": "code",
   "execution_count": 9,
   "id": "c8e21595",
   "metadata": {},
   "outputs": [
    {
     "name": "stdout",
     "output_type": "stream",
     "text": [
      "['My', 'name', 'is', 'Kelly']\n"
     ]
    }
   ],
   "source": [
    "ans = []\n",
    "for i in range(len(list1)):\n",
    "    ans.append(list1[i]+list2[i])\n",
    "print(ans)"
   ]
  },
  {
   "cell_type": "markdown",
   "id": "4f0ca69f",
   "metadata": {},
   "source": [
    "# Exercise 3: Turn every item of a list into its square"
   ]
  },
  {
   "cell_type": "code",
   "execution_count": 11,
   "id": "e420f824",
   "metadata": {},
   "outputs": [],
   "source": [
    "numbers = [1, 2, 3, 4, 5, 6, 7]"
   ]
  },
  {
   "cell_type": "code",
   "execution_count": 12,
   "id": "1374cdbc",
   "metadata": {},
   "outputs": [
    {
     "name": "stdout",
     "output_type": "stream",
     "text": [
      "[1, 4, 9, 16, 25, 36, 49]\n"
     ]
    }
   ],
   "source": [
    "for i in range(len(numbers)):\n",
    "    numbers[i] = numbers[i]*numbers[i]\n",
    "print(numbers)"
   ]
  },
  {
   "cell_type": "markdown",
   "id": "8422fd51",
   "metadata": {},
   "source": [
    "# Exercise 4: Concatenate two lists in the following order"
   ]
  },
  {
   "cell_type": "code",
   "execution_count": 13,
   "id": "ee6131fd",
   "metadata": {},
   "outputs": [],
   "source": [
    "list1 = [\"Hello \", \"take \"]\n",
    "list2 = [\"Dear\", \"Sir\"]"
   ]
  },
  {
   "cell_type": "code",
   "execution_count": 14,
   "id": "91c55bcf",
   "metadata": {},
   "outputs": [
    {
     "name": "stdout",
     "output_type": "stream",
     "text": [
      "['Hello  Dear', 'Hello  Sir', 'take  Dear', 'take  Sir']\n"
     ]
    }
   ],
   "source": [
    "ans = []\n",
    "for i in range(len(list1)):\n",
    "    for j in range(len(list2)):\n",
    "        ans.append(list1[i]+\" \"+list2[j])\n",
    "print(ans)"
   ]
  },
  {
   "cell_type": "markdown",
   "id": "0f24fbb5",
   "metadata": {},
   "source": [
    "# Exercise 5: Iterate both lists simultaneously"
   ]
  },
  {
   "cell_type": "code",
   "execution_count": 15,
   "id": "c08a6320",
   "metadata": {},
   "outputs": [],
   "source": [
    "list1 = [10, 20, 30, 40]\n",
    "list2 = [100, 200, 300, 400]"
   ]
  },
  {
   "cell_type": "code",
   "execution_count": 18,
   "id": "b866c2cf",
   "metadata": {},
   "outputs": [
    {
     "name": "stdout",
     "output_type": "stream",
     "text": [
      "10 400\n",
      "20 300\n",
      "30 200\n",
      "40 100\n"
     ]
    }
   ],
   "source": [
    "j = len(list2)-1\n",
    "for i in range(len(list1)):\n",
    "    print(list1[i], list2[j])\n",
    "    j-=1"
   ]
  },
  {
   "cell_type": "markdown",
   "id": "e428bc1f",
   "metadata": {},
   "source": [
    "# Exercise 6: Remove empty strings from the list of strings"
   ]
  },
  {
   "cell_type": "code",
   "execution_count": 19,
   "id": "b384fed4",
   "metadata": {},
   "outputs": [],
   "source": [
    "list1 = [\"Mike\", \"\", \"Emma\", \"Kelly\", \"\", \"Brad\"]"
   ]
  },
  {
   "cell_type": "code",
   "execution_count": 22,
   "id": "be0c2b46",
   "metadata": {},
   "outputs": [
    {
     "name": "stdout",
     "output_type": "stream",
     "text": [
      "['Mike', 'Emma', 'Kelly', 'Brad']\n"
     ]
    }
   ],
   "source": [
    "print(list(filter(None,list1)))"
   ]
  },
  {
   "cell_type": "markdown",
   "id": "144d6fb2",
   "metadata": {},
   "source": [
    "# Exercise 7: Add new item to list after a specified item"
   ]
  },
  {
   "cell_type": "code",
   "execution_count": 28,
   "id": "bfe5e442",
   "metadata": {},
   "outputs": [],
   "source": [
    "list1 = [10, 20, [300, 400, [5000, 6000], 500], 30, 40]"
   ]
  },
  {
   "cell_type": "code",
   "execution_count": 29,
   "id": "9c1e1411",
   "metadata": {},
   "outputs": [
    {
     "name": "stdout",
     "output_type": "stream",
     "text": [
      "[10, 20, [300, 400, [5000, 6000, 7000], 500], 30, 40]\n"
     ]
    }
   ],
   "source": [
    "list1[2][2].append(7000)\n",
    "print(list1)"
   ]
  },
  {
   "cell_type": "markdown",
   "id": "841399ff",
   "metadata": {},
   "source": [
    "# Exercise 8: Extend nested list by adding the sublist"
   ]
  },
  {
   "cell_type": "code",
   "execution_count": 30,
   "id": "73a7575e",
   "metadata": {},
   "outputs": [],
   "source": [
    "list1 = [\"a\", \"b\", [\"c\", [\"d\", \"e\", [\"f\", \"g\"], \"k\"], \"l\"], \"m\", \"n\"]\n",
    "\n",
    "# sub list to add\n",
    "sub_list = [\"h\", \"i\", \"j\"]"
   ]
  },
  {
   "cell_type": "code",
   "execution_count": 32,
   "id": "4489eecf",
   "metadata": {},
   "outputs": [
    {
     "name": "stdout",
     "output_type": "stream",
     "text": [
      "['a', 'b', ['c', ['d', 'e', ['f', 'g', 'h', 'i', 'j'], 'k'], 'l'], 'm', 'n']\n"
     ]
    }
   ],
   "source": [
    "list1[2][1][2].extend(sub_list)\n",
    "print(list1)"
   ]
  },
  {
   "cell_type": "markdown",
   "id": "a23c2dab",
   "metadata": {},
   "source": [
    "# Exercise 9: Replace list’s item with new value if found"
   ]
  },
  {
   "cell_type": "code",
   "execution_count": 34,
   "id": "b7a2419b",
   "metadata": {},
   "outputs": [],
   "source": [
    "list1 = [5, 10, 15, 20, 25, 50, 20]"
   ]
  },
  {
   "cell_type": "code",
   "execution_count": 35,
   "id": "efee56af",
   "metadata": {},
   "outputs": [
    {
     "name": "stdout",
     "output_type": "stream",
     "text": [
      "[5, 10, 15, 200, 25, 50, 20]\n"
     ]
    }
   ],
   "source": [
    "ind = list1.index(20)\n",
    "list1[ind] =  200\n",
    "print(list1)"
   ]
  },
  {
   "cell_type": "markdown",
   "id": "cea7fffc",
   "metadata": {},
   "source": [
    "# Exercise 10: Remove all occurrences of a specific item from a list."
   ]
  },
  {
   "cell_type": "code",
   "execution_count": 40,
   "id": "ec139f6c",
   "metadata": {},
   "outputs": [],
   "source": [
    "list1 = [5, 20, 15, 20, 25, 50, 20]"
   ]
  },
  {
   "cell_type": "code",
   "execution_count": 41,
   "id": "026d8c9b",
   "metadata": {},
   "outputs": [
    {
     "name": "stdout",
     "output_type": "stream",
     "text": [
      "[5, 15, 25, 50]\n"
     ]
    }
   ],
   "source": [
    "for i in range(len(list1)):\n",
    "    if 20 in list1:\n",
    "        list1.remove(20)\n",
    "print(list1)"
   ]
  },
  {
   "cell_type": "code",
   "execution_count": null,
   "id": "ad21e199",
   "metadata": {},
   "outputs": [],
   "source": []
  }
 ],
 "metadata": {
  "kernelspec": {
   "display_name": "Python 3 (ipykernel)",
   "language": "python",
   "name": "python3"
  },
  "language_info": {
   "codemirror_mode": {
    "name": "ipython",
    "version": 3
   },
   "file_extension": ".py",
   "mimetype": "text/x-python",
   "name": "python",
   "nbconvert_exporter": "python",
   "pygments_lexer": "ipython3",
   "version": "3.10.2"
  }
 },
 "nbformat": 4,
 "nbformat_minor": 5
}
