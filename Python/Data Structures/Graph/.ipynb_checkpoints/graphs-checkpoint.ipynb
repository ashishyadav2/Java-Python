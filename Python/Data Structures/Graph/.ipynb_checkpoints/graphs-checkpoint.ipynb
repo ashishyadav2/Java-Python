{
 "cells": [
  {
   "cell_type": "code",
   "execution_count": 20,
   "id": "39cea9e7",
   "metadata": {},
   "outputs": [
    {
     "name": "stdout",
     "output_type": "stream",
     "text": [
      "{'Mumbai': ['Paris', 'Dubai'], 'Paris': ['Dubai', 'New York'], 'Dubai': ['New York'], 'New York': ['Toronto']}\n",
      "Mumbai-> Paris-> Dubai-> New York\n",
      "Mumbai-> Paris-> New York\n",
      "Mumbai-> Dubai-> New York\n",
      "\n"
     ]
    }
   ],
   "source": [
    "class Graph:\n",
    "    def __init__(self,edges): #graph class will take one tuple as input ex: mumbai(start),paris(end)\n",
    "        self.edges = edges # tuple\n",
    "        self.graph_dict = {} # mapping of that tuple to dictionary\n",
    "        for start,end in self.edges: # same as start,end = (mumbai,paris)\n",
    "            if start in self.graph_dict: #if mumbai is present in dictionary then append the end in the dictionary\n",
    "                self.graph_dict[start].append(end) \n",
    "            else: #if mumbai is not present in dicitonary\n",
    "                self.graph_dict[start] = [end] # same as graph_dict[\"mumbai\"] = list(\"paris\")\n",
    "        print(self.graph_dict)\n",
    "        \n",
    "    def get_paths(self,start,end,path=[]):\n",
    "        path = path + [start]\n",
    "        paths = []\n",
    "        if start==end: #if source and destination are same mumbai->mumbai\n",
    "            return path\n",
    "        if start not in self.graph_dict: #keys in the dictionary are the start locations if we assign start as toronto then it should give us blank list, so we check in the key of the dictionary if toronto exists means no flights originartes from toronto\n",
    "            return []\n",
    "        for node in self.graph_dict[start]: # we have to check paths of mumbai then paths of each paths of mumbai\n",
    "            if node not in path: # not visited before\n",
    "                new_paths = self.get_paths(node,end,path) #paris,new york, mumbai\n",
    "                for p in new_paths:\n",
    "                    paths.append(p) # append every path possible to list\n",
    "                \n",
    "        return paths\n",
    "    \n",
    "    def get_shortest_path(self,start,end,path=[]):\n",
    "        path = path + [start]\n",
    "        if start == end:\n",
    "            return path\n",
    "        if start not in self.graph_dict:\n",
    "            return None\n",
    "        shortest_path = None\n",
    "        for node in self.graph_dict[start]:\n",
    "            if node not in path:\n",
    "                sp = self.get_shortest_path(node,end,path)\n",
    "                if sp:\n",
    "                    if shortest_path is None: #sometimes there is no shortest path available, so keep the existinig shortest path\n",
    "                        shortest_path = sp\n",
    "                    \n",
    "if __name__ == \"__main__\": #graphs can be veiwed as a tuple ex: mumbai-> paris-> dubai. mumbai->paris is one tuple and paris->dubai is another tuple\n",
    "    routes = [ #we need to convert list of tuples to into other data structures to reduce computation i.e dictionary is useful in this case, \"Mumbai\" (key): [\"Dubai\",\"Paris\"] (values) the possible places can be visited from mumbai\n",
    "        (\"Mumbai\",\"Paris\"),\n",
    "        (\"Mumbai\",\"Dubai\"),\n",
    "        (\"Paris\",\"Dubai\"),\n",
    "        (\"Paris\",\"New York\"),\n",
    "        (\"Dubai\",\"New York\"),\n",
    "        (\"New York\",\"Toronto\")\n",
    "    ]\n",
    "    route_graph = Graph(routes)\n",
    "    start = \"Mumbai\"\n",
    "    end = \"New York\"\n",
    "    lst = route_graph.get_paths(start,end)\n",
    "    for i in lst:\n",
    "        print(\"-> \".join(i))\n",
    "    \n",
    "    "
   ]
  },
  {
   "cell_type": "code",
   "execution_count": null,
   "id": "3a2b55f7",
   "metadata": {},
   "outputs": [],
   "source": []
  }
 ],
 "metadata": {
  "Cell": {
   "cm_config": {
    "lineNumbers": false,
    "lineWrapping": true
   }
  },
  "kernelspec": {
   "display_name": "Python 3 (ipykernel)",
   "language": "python",
   "name": "python3"
  },
  "language_info": {
   "codemirror_mode": {
    "name": "ipython",
    "version": 3
   },
   "file_extension": ".py",
   "mimetype": "text/x-python",
   "name": "python",
   "nbconvert_exporter": "python",
   "pygments_lexer": "ipython3",
   "version": "3.10.2"
  }
 },
 "nbformat": 4,
 "nbformat_minor": 5
}
