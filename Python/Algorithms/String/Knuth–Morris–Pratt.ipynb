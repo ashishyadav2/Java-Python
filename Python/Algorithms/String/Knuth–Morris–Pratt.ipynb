{
 "cells": [
  {
   "cell_type": "markdown",
   "id": "ed18b14f",
   "metadata": {},
   "source": [
    "# KMP String matching algorithm"
   ]
  },
  {
   "cell_type": "code",
   "execution_count": 21,
   "id": "570ed738",
   "metadata": {},
   "outputs": [
    {
     "name": "stdout",
     "output_type": "stream",
     "text": [
      "[7]\n"
     ]
    }
   ],
   "source": [
    "def compute_lps(pattern):\n",
    "    m = len(pattern)\n",
    "    lps = [0] * m\n",
    "    i = 1\n",
    "    j = 0\n",
    "    while i<m:\n",
    "        if pattern[j]==pattern[i]:\n",
    "            j+=1\n",
    "            lps[i] = j\n",
    "            i+=1\n",
    "        else:\n",
    "            if j!=0:\n",
    "                j = lps[j-1]\n",
    "            else:\n",
    "                lps[i] = 0\n",
    "                i+=1\n",
    "    return lps\n",
    "        \n",
    "def KMP_search(pattern,text):\n",
    "    m = len(text)\n",
    "    n = len(pattern)\n",
    "    i = 0\n",
    "    j = 0\n",
    "    lps = compute_lps(pattern)\n",
    "    indices = []\n",
    "    while i<m:\n",
    "        if text[i] == pattern[j]:\n",
    "            i+=1\n",
    "            j+=1\n",
    "        if j ==n:\n",
    "            indices.append(i-n)\n",
    "            j = lps[j-1]\n",
    "        elif i<m and text[i]!=pattern[j]:\n",
    "            if j!=0:\n",
    "                j = lps[j-1]\n",
    "            else:\n",
    "                i+=1\n",
    "    return indices\n",
    "text = \"abcdefgababdhiabcdef\"\n",
    "pattern = \"ababd\"\n",
    "print(KMP_search(pattern,text))"
   ]
  },
  {
   "cell_type": "code",
   "execution_count": 24,
   "id": "d0e5c7e9",
   "metadata": {},
   "outputs": [
    {
     "name": "stdout",
     "output_type": "stream",
     "text": [
      "[11]\n"
     ]
    }
   ],
   "source": [
    "def lps(pattern):\n",
    "    m = len(pattern)\n",
    "    lps = [0]*m\n",
    "    i = 1\n",
    "    j = 0\n",
    "    while i<m:\n",
    "        if pattern[j]==pattern[i]:\n",
    "            j+=1\n",
    "            lps[i] = j\n",
    "            i+=1\n",
    "        else:\n",
    "            if j!=0:\n",
    "                j = lps[j-1]\n",
    "            else:\n",
    "                lps[i] = 0\n",
    "                i+=1\n",
    "    return lps\n",
    "\n",
    "def kmp(text,pattern):\n",
    "    indices = []\n",
    "    n = len(text)\n",
    "    m = len(pattern)\n",
    "    lpss = lps(pattern)\n",
    "    i = 0\n",
    "    j = 0\n",
    "    while i<n:\n",
    "        if pattern[j]==text[i]:\n",
    "            j+=1\n",
    "            i+=1\n",
    "        if j==m:\n",
    "            indices.append(i-m)\n",
    "            j = lpss[j-1]\n",
    "        if i<n and text[i]!=pattern[j]:\n",
    "            if j==0:\n",
    "                i+=1\n",
    "            else:\n",
    "                j = lpss[j-1]\n",
    "    return indices\n",
    "pattern = \"ababd\"\n",
    "text = \"bcdefghabacababd\"\n",
    "print(kmp(text,pattern))"
   ]
  },
  {
   "cell_type": "markdown",
   "id": "25eb2516",
   "metadata": {},
   "source": [
    "## Commented version"
   ]
  },
  {
   "cell_type": "code",
   "execution_count": null,
   "id": "ed8668ac",
   "metadata": {},
   "outputs": [],
   "source": [
    "def kmp_search(pattern, text):\n",
    "    \"\"\"\n",
    "    Searches for the pattern in the text using the KMP algorithm.\n",
    "    Returns a list of indices where the pattern is found.\n",
    "    \"\"\"\n",
    "    m = len(pattern) # Length of pattern\n",
    "    n = len(text) # Length of text\n",
    "    lps = compute_lps(pattern) # Compute the longest proper prefix that is also a suffix (lps) for each position in the pattern string\n",
    "    i = 0 # Index for traversing the text\n",
    "    j = 0 # Index for traversing the pattern\n",
    "    indices = [] # List of indices where the pattern is found\n",
    "    while i < n: # Traverse the text\n",
    "        if pattern[j] == text[i]: # If the current characters match\n",
    "            i += 1 # Move to the next character in the text\n",
    "            j += 1 # Move to the next character in the pattern\n",
    "        if j == m: # If we have found a match\n",
    "            indices.append(i-j) # Add the starting index of the match to the list of indices\n",
    "            j = lps[j-1] # Move to the next character in the pattern using the lps array\n",
    "        elif i < n and pattern[j] != text[i]: # If the current characters don't match\n",
    "            if j != 0: # If we have already matched some characters in the pattern\n",
    "                j = lps[j-1] # Move to the next character in the pattern using the lps array\n",
    "            else: # If we haven't matched any characters in the pattern\n",
    "                i += 1 # Move to the next character in the text\n",
    "    return indices # Return the list of indices where the pattern is found\n",
    "\n",
    "def compute_lps(pattern):\n",
    "    \"\"\"\n",
    "    Computes the longest proper prefix that is also a suffix (lps) for each\n",
    "    position in the pattern string.\n",
    "    \"\"\"\n",
    "    m = len(pattern) # Length of pattern\n",
    "    lps = [0] * m # Initialize the lps array with zeros\n",
    "    i = 1 # Index for traversing the pattern\n",
    "    length = 0 # Length of the previous longest prefix suffix\n",
    "    while i < m: # Traverse the pattern\n",
    "        if pattern[i] == pattern[length]: # If the current characters match\n",
    "            length += 1 # Increment the length of the previous longest prefix suffix\n",
    "            lps[i] = length # Store the length of the previous longest prefix suffix at the current position\n",
    "            i += 1 # Move to the next character in the pattern\n",
    "        else: # If the current characters don't match\n",
    "            if length != 0: # If we have already matched some characters in the pattern\n",
    "                length = lps[length-1] # Move to the next character in the pattern using the lps array\n",
    "            else: # If we haven't matched any characters in the pattern\n",
    "                lps[i] = 0 # Store zero at the current position in the lps array\n",
    "                i += 1 # Move to the next character in the pattern\n",
    "    return lps # Return the lps array\n"
   ]
  },
  {
   "cell_type": "code",
   "execution_count": null,
   "id": "0476c6df",
   "metadata": {},
   "outputs": [],
   "source": []
  }
 ],
 "metadata": {
  "kernelspec": {
   "display_name": "Python 3 (ipykernel)",
   "language": "python",
   "name": "python3"
  },
  "language_info": {
   "codemirror_mode": {
    "name": "ipython",
    "version": 3
   },
   "file_extension": ".py",
   "mimetype": "text/x-python",
   "name": "python",
   "nbconvert_exporter": "python",
   "pygments_lexer": "ipython3",
   "version": "3.10.2"
  }
 },
 "nbformat": 4,
 "nbformat_minor": 5
}
