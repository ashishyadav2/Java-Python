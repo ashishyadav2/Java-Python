{
 "cells": [
  {
   "cell_type": "markdown",
   "id": "658a6611",
   "metadata": {},
   "source": [
    "# MySQL"
   ]
  },
  {
   "cell_type": "markdown",
   "id": "cab99d59",
   "metadata": {},
   "source": [
    "## Connection"
   ]
  },
  {
   "cell_type": "code",
   "execution_count": 80,
   "id": "3b2771ce",
   "metadata": {},
   "outputs": [
    {
     "ename": "ModuleNotFoundError",
     "evalue": "No module named 'mysql'",
     "output_type": "error",
     "traceback": [
      "\u001b[1;31m---------------------------------------------------------------------------\u001b[0m",
      "\u001b[1;31mModuleNotFoundError\u001b[0m                       Traceback (most recent call last)",
      "Cell \u001b[1;32mIn[80], line 1\u001b[0m\n\u001b[1;32m----> 1\u001b[0m \u001b[38;5;28;01mimport\u001b[39;00m \u001b[38;5;21;01mmysql\u001b[39;00m\u001b[38;5;21;01m.\u001b[39;00m\u001b[38;5;21;01mconnector\u001b[39;00m\n\u001b[0;32m      2\u001b[0m connection \u001b[38;5;241m=\u001b[39m mysql\u001b[38;5;241m.\u001b[39mconnector\u001b[38;5;241m.\u001b[39mconnect(\n\u001b[0;32m      3\u001b[0m     host \u001b[38;5;241m=\u001b[39m \u001b[38;5;124m\"\u001b[39m\u001b[38;5;124mlocalhost\u001b[39m\u001b[38;5;124m\"\u001b[39m,\n\u001b[0;32m      4\u001b[0m     user \u001b[38;5;241m=\u001b[39m \u001b[38;5;124m\"\u001b[39m\u001b[38;5;124mroot\u001b[39m\u001b[38;5;124m\"\u001b[39m,\n\u001b[0;32m      5\u001b[0m     password \u001b[38;5;241m=\u001b[39m \u001b[38;5;124m\"\u001b[39m\u001b[38;5;124mashishunixm9\u001b[39m\u001b[38;5;124m\"\u001b[39m\n\u001b[0;32m      6\u001b[0m )\n\u001b[0;32m      7\u001b[0m \u001b[38;5;28mprint\u001b[39m(connection)\n",
      "\u001b[1;31mModuleNotFoundError\u001b[0m: No module named 'mysql'"
     ]
    }
   ],
   "source": [
    "import mysql.connector\n",
    "connection = mysql.connector.connect(\n",
    "    host = \"localhost\",\n",
    "    user = \"root\",\n",
    "    password = \"ashishunixm9\"\n",
    ")\n",
    "print(connection)"
   ]
  },
  {
   "cell_type": "markdown",
   "id": "f8f2b8fd",
   "metadata": {},
   "source": [
    "## Creating a database"
   ]
  },
  {
   "cell_type": "code",
   "execution_count": null,
   "id": "ac7f4182",
   "metadata": {},
   "outputs": [],
   "source": [
    "cursor = connection.cursor() # cursor is an object which helps to execute sql commands\n",
    "cursor.execute(\"DROP DATABASE IF EXISTS `db`\")\n",
    "cursor.execute(\"CREATE DATABASE db\")"
   ]
  },
  {
   "cell_type": "markdown",
   "id": "f6c8c647",
   "metadata": {},
   "source": [
    "## Creating table"
   ]
  },
  {
   "cell_type": "code",
   "execution_count": null,
   "id": "2bab535b",
   "metadata": {},
   "outputs": [],
   "source": [
    "cursor.execute(\"USE db\")\n",
    "cursor.execute(\"DROP TABLE IF EXISTS `customers`\")\n",
    "cursor.execute(\"CREATE TABLE customers ( id INT AUTO_INCREMENT PRIMARY KEY, name VARCHAR(255), address VARCHAR(255))\")"
   ]
  },
  {
   "cell_type": "markdown",
   "id": "38a925cf",
   "metadata": {},
   "source": [
    "## Adding data"
   ]
  },
  {
   "cell_type": "code",
   "execution_count": null,
   "id": "ac577b52",
   "metadata": {},
   "outputs": [],
   "source": [
    "name = str(input(\"Name: \"))\n",
    "address = str(input(\"Address: \"))\n",
    "cursor.execute(\"INSERT INTO customers (name, address) VALUES ('{}','{}')\".format(name,address))\n",
    "connection.commit()\n",
    "cursor.execute(\"SELECT * FROM customers\")\n",
    "out = cursor.fetchall()\n",
    "print(out)\n",
    "cursor.close()\n",
    "connection.close()"
   ]
  },
  {
   "cell_type": "code",
   "execution_count": 81,
   "id": "d8dec282",
   "metadata": {},
   "outputs": [],
   "source": [
    "import sqlalchemy"
   ]
  },
  {
   "cell_type": "code",
   "execution_count": 82,
   "id": "78089002",
   "metadata": {},
   "outputs": [
    {
     "data": {
      "text/plain": [
       "'2.0.31'"
      ]
     },
     "execution_count": 82,
     "metadata": {},
     "output_type": "execute_result"
    }
   ],
   "source": [
    "sqlalchemy.__version__"
   ]
  },
  {
   "cell_type": "code",
   "execution_count": 83,
   "id": "7442e4a0",
   "metadata": {},
   "outputs": [],
   "source": [
    "from sqlalchemy import create_engine,text"
   ]
  },
  {
   "cell_type": "code",
   "execution_count": 84,
   "id": "32d75cca",
   "metadata": {},
   "outputs": [],
   "source": [
    "engine = create_engine(\"sqlite+pysqlite:///:memory:\",echo=True)"
   ]
  },
  {
   "cell_type": "code",
   "execution_count": 85,
   "id": "fb0f5b3c",
   "metadata": {},
   "outputs": [
    {
     "name": "stdout",
     "output_type": "stream",
     "text": [
      "2024-07-11 21:14:17,058 INFO sqlalchemy.engine.Engine BEGIN (implicit)\n",
      "2024-07-11 21:14:17,058 INFO sqlalchemy.engine.Engine select 'hello world'\n",
      "2024-07-11 21:14:17,059 INFO sqlalchemy.engine.Engine [generated in 0.00105s] ()\n",
      "2024-07-11 21:14:17,060 INFO sqlalchemy.engine.Engine COMMIT\n"
     ]
    }
   ],
   "source": [
    "with engine.connect() as conn:\n",
    "    result = conn.execute(text(\"select 'hello world'\"))\n",
    "    conn.commit()"
   ]
  },
  {
   "cell_type": "code",
   "execution_count": 86,
   "id": "4b163f18",
   "metadata": {},
   "outputs": [],
   "source": [
    "conn = engine.connect()"
   ]
  },
  {
   "cell_type": "code",
   "execution_count": 87,
   "id": "f8f8ebdb",
   "metadata": {},
   "outputs": [
    {
     "name": "stdout",
     "output_type": "stream",
     "text": [
      "2024-07-11 21:14:17,071 INFO sqlalchemy.engine.Engine BEGIN (implicit)\n",
      "2024-07-11 21:14:17,072 INFO sqlalchemy.engine.Engine \n",
      "                  \n",
      "                  create table emp1 (\n",
      "                      id int not null,\n",
      "                      name varchar(2) not null,\n",
      "                      age int,\n",
      "                      check (age>18)\n",
      "                  )\n",
      "                  \n",
      "                  \n",
      "2024-07-11 21:14:17,073 INFO sqlalchemy.engine.Engine [generated in 0.00151s] ()\n"
     ]
    },
    {
     "data": {
      "text/plain": [
       "<sqlalchemy.engine.cursor.CursorResult at 0x1e74db8c600>"
      ]
     },
     "execution_count": 87,
     "metadata": {},
     "output_type": "execute_result"
    }
   ],
   "source": [
    "res = conn.execute(text('''\n",
    "                  \n",
    "                  create table emp1 (\n",
    "                      id int not null,\n",
    "                      name varchar(2) not null,\n",
    "                      age int,\n",
    "                      check (age>18)\n",
    "                  )\n",
    "                  \n",
    "                  '''))\n",
    "res"
   ]
  },
  {
   "cell_type": "code",
   "execution_count": 88,
   "id": "ff829249",
   "metadata": {},
   "outputs": [
    {
     "name": "stdout",
     "output_type": "stream",
     "text": [
      "2024-07-11 21:14:17,080 INFO sqlalchemy.engine.Engine \n",
      "                    insert into emp1 values (?,?,?)                 \n",
      "                  \n",
      "                  \n",
      "2024-07-11 21:14:17,080 INFO sqlalchemy.engine.Engine [generated in 0.00077s] [(2, 'yadav', 23), (2, 'yadav', 23)]\n"
     ]
    },
    {
     "data": {
      "text/plain": [
       "<sqlalchemy.engine.cursor.CursorResult at 0x1e74d6658d0>"
      ]
     },
     "execution_count": 88,
     "metadata": {},
     "output_type": "execute_result"
    }
   ],
   "source": [
    "res = conn.execute(text('''\n",
    "                    insert into emp1 values (:id,:name,:age)                 \n",
    "                  \n",
    "                  '''),[{\"id\": 2, \"name\": \"yadav\", \"age\":23},{\"id\": 2, \"name\": \"yadav\", \"age\":23}])\n",
    "res"
   ]
  },
  {
   "cell_type": "code",
   "execution_count": 89,
   "id": "c261eb72",
   "metadata": {},
   "outputs": [
    {
     "name": "stdout",
     "output_type": "stream",
     "text": [
      "2024-07-11 21:14:17,088 INFO sqlalchemy.engine.Engine \n",
      "                    select id,name from emp1                 \n",
      "                  \n",
      "                  \n",
      "2024-07-11 21:14:17,088 INFO sqlalchemy.engine.Engine [generated in 0.00078s] ()\n"
     ]
    }
   ],
   "source": [
    "res = conn.execute(text('''\n",
    "                    select id,name from emp1                 \n",
    "                  \n",
    "                  '''))"
   ]
  },
  {
   "cell_type": "code",
   "execution_count": 90,
   "id": "3cccddbf",
   "metadata": {},
   "outputs": [
    {
     "name": "stdout",
     "output_type": "stream",
     "text": [
      "{'id': 2, 'name': 'yadav'}\n",
      "{'id': 2, 'name': 'yadav'}\n"
     ]
    }
   ],
   "source": [
    "for i in res.mappings():\n",
    "    print(i)"
   ]
  },
  {
   "cell_type": "code",
   "execution_count": 91,
   "id": "96a84c62",
   "metadata": {},
   "outputs": [
    {
     "data": {
      "text/plain": [
       "[]"
      ]
     },
     "execution_count": 91,
     "metadata": {},
     "output_type": "execute_result"
    }
   ],
   "source": [
    "res.all()"
   ]
  },
  {
   "cell_type": "code",
   "execution_count": 92,
   "id": "8c37c4ba",
   "metadata": {},
   "outputs": [
    {
     "data": {
      "text/plain": [
       "[]"
      ]
     },
     "execution_count": 92,
     "metadata": {},
     "output_type": "execute_result"
    }
   ],
   "source": [
    "res.all()"
   ]
  },
  {
   "cell_type": "markdown",
   "id": "72a5f5ff",
   "metadata": {},
   "source": [
    "### ORM Style"
   ]
  },
  {
   "cell_type": "code",
   "execution_count": 93,
   "id": "8511bdd8",
   "metadata": {},
   "outputs": [],
   "source": [
    "from sqlalchemy.orm import DeclarativeBase"
   ]
  },
  {
   "cell_type": "code",
   "execution_count": 94,
   "id": "04317854",
   "metadata": {},
   "outputs": [],
   "source": [
    "from typing import Optional,List\n",
    "from sqlalchemy.orm import Mapped, mapped_column, relationship"
   ]
  },
  {
   "cell_type": "code",
   "execution_count": 95,
   "id": "55b29e41",
   "metadata": {},
   "outputs": [],
   "source": [
    "class Base(DeclarativeBase):\n",
    "    pass"
   ]
  },
  {
   "cell_type": "code",
   "execution_count": 96,
   "id": "ea48aa9c",
   "metadata": {},
   "outputs": [
    {
     "data": {
      "text/plain": [
       "MetaData()"
      ]
     },
     "execution_count": 96,
     "metadata": {},
     "output_type": "execute_result"
    }
   ],
   "source": [
    "Base.metadata"
   ]
  },
  {
   "cell_type": "code",
   "execution_count": 97,
   "id": "cf8bd9ef",
   "metadata": {},
   "outputs": [
    {
     "ename": "NameError",
     "evalue": "name 'String' is not defined",
     "output_type": "error",
     "traceback": [
      "\u001b[1;31m---------------------------------------------------------------------------\u001b[0m",
      "\u001b[1;31mNameError\u001b[0m                                 Traceback (most recent call last)",
      "Cell \u001b[1;32mIn[97], line 1\u001b[0m\n\u001b[1;32m----> 1\u001b[0m \u001b[38;5;28;43;01mclass\u001b[39;49;00m\u001b[43m \u001b[49m\u001b[38;5;21;43;01mUser\u001b[39;49;00m\u001b[43m(\u001b[49m\u001b[43mBase\u001b[49m\u001b[43m)\u001b[49m\u001b[43m:\u001b[49m\n\u001b[0;32m      2\u001b[0m \u001b[43m    \u001b[49m\u001b[43m__tablename__\u001b[49m\u001b[43m \u001b[49m\u001b[38;5;241;43m=\u001b[39;49m\u001b[43m \u001b[49m\u001b[38;5;124;43m\"\u001b[39;49m\u001b[38;5;124;43muser_account\u001b[39;49m\u001b[38;5;124;43m\"\u001b[39;49m\n\u001b[0;32m      4\u001b[0m \u001b[43m    \u001b[49m\u001b[38;5;28;43mid\u001b[39;49m\u001b[43m:\u001b[49m\u001b[43m \u001b[49m\u001b[43mMapped\u001b[49m\u001b[43m[\u001b[49m\u001b[38;5;28;43mint\u001b[39;49m\u001b[43m]\u001b[49m\u001b[43m \u001b[49m\u001b[38;5;241;43m=\u001b[39;49m\u001b[43m \u001b[49m\u001b[43mmapped_column\u001b[49m\u001b[43m(\u001b[49m\u001b[43mprimary_key\u001b[49m\u001b[38;5;241;43m=\u001b[39;49m\u001b[38;5;28;43;01mTrue\u001b[39;49;00m\u001b[43m)\u001b[49m\n",
      "Cell \u001b[1;32mIn[97], line 5\u001b[0m, in \u001b[0;36mUser\u001b[1;34m()\u001b[0m\n\u001b[0;32m      2\u001b[0m __tablename__ \u001b[38;5;241m=\u001b[39m \u001b[38;5;124m\"\u001b[39m\u001b[38;5;124muser_account\u001b[39m\u001b[38;5;124m\"\u001b[39m\n\u001b[0;32m      4\u001b[0m \u001b[38;5;28mid\u001b[39m: Mapped[\u001b[38;5;28mint\u001b[39m] \u001b[38;5;241m=\u001b[39m mapped_column(primary_key\u001b[38;5;241m=\u001b[39m\u001b[38;5;28;01mTrue\u001b[39;00m)\n\u001b[1;32m----> 5\u001b[0m name: Mapped[\u001b[38;5;28mstr\u001b[39m] \u001b[38;5;241m=\u001b[39m mapped_column(\u001b[43mString\u001b[49m(\u001b[38;5;241m30\u001b[39m))\n\u001b[0;32m      6\u001b[0m fullname: Mapped[Optional[\u001b[38;5;28mstr\u001b[39m]]\n\u001b[0;32m      8\u001b[0m addresses: Mapped[List[\u001b[38;5;124m\"\u001b[39m\u001b[38;5;124mAddress\u001b[39m\u001b[38;5;124m\"\u001b[39m]] \u001b[38;5;241m=\u001b[39m relationship(back_populates\u001b[38;5;241m=\u001b[39m\u001b[38;5;124m\"\u001b[39m\u001b[38;5;124muser\u001b[39m\u001b[38;5;124m\"\u001b[39m)\n",
      "\u001b[1;31mNameError\u001b[0m: name 'String' is not defined"
     ]
    }
   ],
   "source": [
    "class User(Base):\n",
    "    __tablename__ = \"user_account\"\n",
    "\n",
    "    id: Mapped[int] = mapped_column(primary_key=True)\n",
    "    name: Mapped[str] = mapped_column(String(30))\n",
    "    fullname: Mapped[Optional[str]]\n",
    "\n",
    "    addresses: Mapped[List[\"Address\"]] = relationship(back_populates=\"user\")\n",
    "\n",
    "    def __repr__(self) -> str:\n",
    "        return f\"User(id={self.id!r}, name={self.name!r}, fullname={self.fullname!r})\"\n",
    "\n",
    "class Address(Base):\n",
    "    __tablename__ = \"address\"\n",
    "\n",
    "    id: Mapped[int] = mapped_column(primary_key=True)\n",
    "    email_address: Mapped[str]\n",
    "    user_id = mapped_column(ForeignKey(\"user_account.id\"))\n",
    "\n",
    "    user: Mapped[User] = relationship(back_populates=\"addresses\")\n",
    "\n",
    "    def __repr__(self) -> str:\n",
    "        return f\"Address(id={self.id!r}, email_address={self.email_address!r})\""
   ]
  }
 ],
 "metadata": {
  "kernelspec": {
   "display_name": "Python 3 (ipykernel)",
   "language": "python",
   "name": "python3"
  },
  "language_info": {
   "codemirror_mode": {
    "name": "ipython",
    "version": 3
   },
   "file_extension": ".py",
   "mimetype": "text/x-python",
   "name": "python",
   "nbconvert_exporter": "python",
   "pygments_lexer": "ipython3",
   "version": "3.12.3"
  }
 },
 "nbformat": 4,
 "nbformat_minor": 5
}
