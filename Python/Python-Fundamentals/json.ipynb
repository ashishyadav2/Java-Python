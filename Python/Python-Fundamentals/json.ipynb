{
 "cells": [
  {
   "cell_type": "markdown",
   "id": "fecd39a2",
   "metadata": {},
   "source": [
    "# JSON"
   ]
  },
  {
   "cell_type": "markdown",
   "id": "9dabe170",
   "metadata": {},
   "source": [
    "## Json to python (loads)"
   ]
  },
  {
   "cell_type": "code",
   "execution_count": 7,
   "id": "6b1a7f35",
   "metadata": {},
   "outputs": [
    {
     "name": "stdout",
     "output_type": "stream",
     "text": [
      "{'name': 'ashish', 'age': 21, 'city': 'Mumbai', 'smokes': False, 'arr': ['hello', 'world']}\n"
     ]
    }
   ],
   "source": [
    "import json\n",
    "#convert json to python i.e dictionary datatype\n",
    "x = '{\"name\" : \"ashish\",\"age\" : 21,\"city\": \"Mumbai\",\"smokes\": false, \"arr\":[\"hello\",\"world\"]}'\n",
    "y = json.loads(x) #json to dictionary\n",
    "print(y)"
   ]
  },
  {
   "cell_type": "code",
   "execution_count": 11,
   "id": "31f2a564",
   "metadata": {},
   "outputs": [
    {
     "name": "stdout",
     "output_type": "stream",
     "text": [
      "ashish\n",
      "False\n",
      "hello\n"
     ]
    }
   ],
   "source": [
    "# to access the dicitionary using key\n",
    "print(y[\"name\"])\n",
    "print(y[\"smokes\"])\n",
    "print(y[\"arr\"][0])"
   ]
  },
  {
   "cell_type": "markdown",
   "id": "d5b33a22",
   "metadata": {},
   "source": [
    "## Python to json (dumps)"
   ]
  },
  {
   "cell_type": "markdown",
   "id": "a4dd6484",
   "metadata": {},
   "source": [
    "### dict list tuple string int float True False None , can be converted to json object"
   ]
  },
  {
   "cell_type": "code",
   "execution_count": 18,
   "id": "a1d19e92",
   "metadata": {},
   "outputs": [
    {
     "name": "stdout",
     "output_type": "stream",
     "text": [
      "{\n",
      "  \"age\" = 21. \n",
      "  \"city\" = \"Mumbai\". \n",
      "  \"name\" = \"ashish\". \n",
      "  \"smokes\" = false\n",
      "}\n"
     ]
    }
   ],
   "source": [
    "x = {\n",
    "    \"name\": \"ashish\",\n",
    "    \"age\": 21,\n",
    "    \"city\": \"Mumbai\",\n",
    "    \"smokes\" : False\n",
    "}\n",
    "# separators(\"first\",\"second\") first is end of each line and second is separator betweeen key and value\n",
    "#sort_keys = True sorts the keys in asceding order\n",
    "y = json.dumps(x,indent=2,separators=(\". \",\" = \"),sort_keys=True) #pretty printing the json object (indent for indentation)\n",
    "print(y)"
   ]
  }
 ],
 "metadata": {
  "kernelspec": {
   "display_name": "Python 3 (ipykernel)",
   "language": "python",
   "name": "python3"
  },
  "language_info": {
   "codemirror_mode": {
    "name": "ipython",
    "version": 3
   },
   "file_extension": ".py",
   "mimetype": "text/x-python",
   "name": "python",
   "nbconvert_exporter": "python",
   "pygments_lexer": "ipython3",
   "version": "3.10.2"
  }
 },
 "nbformat": 4,
 "nbformat_minor": 5
}
