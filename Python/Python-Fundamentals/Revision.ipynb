{
 "cells": [
  {
   "cell_type": "code",
   "execution_count": 3,
   "id": "43bb8f86",
   "metadata": {},
   "outputs": [
    {
     "name": "stdout",
     "output_type": "stream",
     "text": [
      "25\n"
     ]
    }
   ],
   "source": [
    "a = 10\n",
    "b = 15\n",
    "print(int(str(a+b)))"
   ]
  },
  {
   "cell_type": "code",
   "execution_count": 6,
   "id": "c5cbf4c1",
   "metadata": {},
   "outputs": [
    {
     "name": "stdout",
     "output_type": "stream",
     "text": [
      "585\n"
     ]
    }
   ],
   "source": [
    "class Item:\n",
    "    def __init__(self,name: str, price: int,qty=0):\n",
    "        assert qty>=0, \"error qty cannot be negative\"\n",
    "        self.name = name\n",
    "        self.price = price\n",
    "        self.qty = qty\n",
    "    def calc(self):\n",
    "        return self.price*self.qty\n",
    "a = Item('phone',65,9)\n",
    "print(a.calc())\n",
    "\n",
    "@staticmethod\n",
    "@classmethod"
   ]
  },
  {
   "cell_type": "code",
   "execution_count": 16,
   "id": "88d6938e",
   "metadata": {},
   "outputs": [
    {
     "name": "stdout",
     "output_type": "stream",
     "text": [
      "2002\n"
     ]
    }
   ],
   "source": [
    "import datetime\n",
    "time = datetime.datetime.now()\n",
    "class Person:\n",
    "    def __init__(self,name: str,age: int):\n",
    "        self.name = name\n",
    "        self.age = age\n",
    "    def yob(self):\n",
    "        return int(time.strftime(\"%Y\"))-self.age\n",
    "    \n",
    "class Employee(Person):\n",
    "    def __init__(self,name,age,salary,idnum):\n",
    "        super().__init__(name,age)\n",
    "        self.salary = salary\n",
    "        self.idnum = idnum\n",
    "a = Person(\"ashish\",21)\n",
    "b = Employee(\"youtube\",21,9500000,98)\n",
    "print(b.yob())"
   ]
  },
  {
   "cell_type": "code",
   "execution_count": 6,
   "id": "93822b05",
   "metadata": {},
   "outputs": [
    {
     "name": "stdout",
     "output_type": "stream",
     "text": [
      "['malayalam']\n",
      "2\n",
      "0\n"
     ]
    }
   ],
   "source": [
    "# all\n",
    "# any\n",
    "# eval\n",
    "# frozenset\n",
    "# hash\n",
    "# bin\n",
    "# hex\n",
    "# isinstance\n",
    "# oct\n",
    "# chr\n",
    "# ord\n",
    "# map(fn,iterable)\n",
    "# filter(fn,iterable)\n",
    "# zip(itr1,itr2)\n",
    "\n",
    "#string methods\n",
    "string = \"malayalam  \"\n",
    "string .capitalize()\n",
    "string.upper()\n",
    "string.lower()\n",
    "string.strip()\n",
    "aa = string.split()\n",
    "a = string.replace(\"a\",\"s\")\n",
    "b = string.count(\"l\")\n",
    "c = string.find(\"m\")\n",
    "print(aa)\n",
    "print(b)\n",
    "print(c)"
   ]
  },
  {
   "cell_type": "code",
   "execution_count": 25,
   "id": "9526b794",
   "metadata": {},
   "outputs": [
    {
     "name": "stdout",
     "output_type": "stream",
     "text": [
      "[2, 6, 56, 5, 89, 46, 65, 45, 256, 89, 56, 56, 6599, 8]\n",
      "[2, 6, 56, 5, 89, 46, 98, 45, 256, 89, 56, 56, 6599, 8]\n",
      "[2, 6, 56, 5, 89, 46, 98, 45, 256, 56, 56, 6599, 8]\n",
      "[2, 5, 89, 46, 98, 45, 256, 56, 56, 6599, 8]\n",
      "9\n",
      "2\n"
     ]
    }
   ],
   "source": [
    "# list\n",
    "lst = [2,6,5,89,46,65,45]\n",
    "lst.append(256)\n",
    "lst.extend([89,56,56,6599,8])\n",
    "lst.insert(2,56)\n",
    "print(lst)\n",
    "\n",
    "lst[6] = 98\n",
    "print(lst)\n",
    "\n",
    "lst.pop(9)\n",
    "print(lst)\n",
    "lst.remove(56)\n",
    "del lst[1]\n",
    "print(lst)\n",
    "print(lst.index(6599))\n",
    "print(lst.count(56))"
   ]
  },
  {
   "cell_type": "code",
   "execution_count": 40,
   "id": "56f08383",
   "metadata": {},
   "outputs": [
    {
     "name": "stdout",
     "output_type": "stream",
     "text": [
      "3\n",
      "1\n",
      "(35, 30, 69, 25, 21, 56, 38, 50, 56, 47, 39, 39, 39)\n"
     ]
    }
   ],
   "source": [
    "# tuple\n",
    "a = (35,30,69,25,21,56)\n",
    "b = tuple((38,50,47,39,39,39,))\n",
    "print(b.count(39))\n",
    "print(b.index(50))\n",
    "b = list(b)\n",
    "b.insert(2,56)\n",
    "b = tuple((b))\n",
    "print(a+b)"
   ]
  },
  {
   "cell_type": "code",
   "execution_count": 62,
   "id": "ab939c93",
   "metadata": {},
   "outputs": [
    {
     "name": "stdout",
     "output_type": "stream",
     "text": [
      "dict_keys([0, 1, 2, 5])\n",
      "dict_items([(0, 'dragon fruit'), (1, 'banana'), (2, 'cherry'), (5, 'mango')])\n",
      "dict_values(['dragon fruit', 'banana', 'cherry', 'mango'])\n",
      "{2: 'cherry', 5: 'mango'}\n"
     ]
    }
   ],
   "source": [
    "# dictionary\n",
    "fruits = {0:\"apple\",1: \"banana\",2: \"cherry\"}\n",
    "fruits[0] = \"dragon fruit\"\n",
    "fruits.update({5:\"mango\"})\n",
    "print(fruits.keys())\n",
    "print(fruits.items())\n",
    "print(fruits.values())\n",
    "fruits.pop(0)\n",
    "del fruits[1]\n",
    "print(fruits)\n"
   ]
  },
  {
   "cell_type": "code",
   "execution_count": 67,
   "id": "d0f7a28a",
   "metadata": {},
   "outputs": [
    {
     "name": "stdout",
     "output_type": "stream",
     "text": [
      "{32, 98, 620, 5}\n",
      "{32, 1, 98, 898, 5, 6, 620, 56, 89}\n"
     ]
    }
   ],
   "source": [
    "#sets\n",
    "a = set((1,5,6,89,89,89))\n",
    "b = set((5,98,620,32))\n",
    "a.update([56,98])\n",
    "a.add(898)\n",
    "c = a | b\n",
    "c = a.union(b)\n",
    "a.difference(b)\n",
    "a.difference_update(b)\n",
    "a.symmetric_difference(b)\n",
    "a.symmetric_difference_update(b)\n",
    "a.intersection(b)\n",
    "a.intersection_update(b)\n",
    "print(a)\n",
    "print(c)"
   ]
  },
  {
   "cell_type": "code",
   "execution_count": 74,
   "id": "8670da74",
   "metadata": {},
   "outputs": [
    {
     "name": "stdout",
     "output_type": "stream",
     "text": [
      "error\n",
      "qwerty\n"
     ]
    },
    {
     "ename": "ZeroDivisionError",
     "evalue": "error occurred!",
     "output_type": "error",
     "traceback": [
      "\u001b[1;31m---------------------------------------------------------------------------\u001b[0m",
      "\u001b[1;31mZeroDivisionError\u001b[0m                         Traceback (most recent call last)",
      "Cell \u001b[1;32mIn [74], line 2\u001b[0m\n\u001b[0;32m      1\u001b[0m \u001b[38;5;28;01mtry\u001b[39;00m:\n\u001b[1;32m----> 2\u001b[0m     a \u001b[38;5;241m=\u001b[39m \u001b[38;5;241;43m1\u001b[39;49m\u001b[38;5;241;43m/\u001b[39;49m\u001b[38;5;241;43m0\u001b[39;49m\n\u001b[0;32m      3\u001b[0m     \u001b[38;5;28mprint\u001b[39m(a)\n",
      "\u001b[1;31mZeroDivisionError\u001b[0m: division by zero",
      "\nDuring handling of the above exception, another exception occurred:\n",
      "\u001b[1;31mZeroDivisionError\u001b[0m                         Traceback (most recent call last)",
      "Cell \u001b[1;32mIn [74], line 6\u001b[0m\n\u001b[0;32m      4\u001b[0m \u001b[38;5;28;01mexcept\u001b[39;00m:\n\u001b[0;32m      5\u001b[0m     \u001b[38;5;28mprint\u001b[39m(\u001b[38;5;124m\"\u001b[39m\u001b[38;5;124merror\u001b[39m\u001b[38;5;124m\"\u001b[39m)\n\u001b[1;32m----> 6\u001b[0m     \u001b[38;5;28;01mraise\u001b[39;00m \u001b[38;5;167;01mZeroDivisionError\u001b[39;00m(\u001b[38;5;124m\"\u001b[39m\u001b[38;5;124merror occurred!\u001b[39m\u001b[38;5;124m\"\u001b[39m)\n\u001b[0;32m      7\u001b[0m \u001b[38;5;28;01melse\u001b[39;00m:\n\u001b[0;32m      8\u001b[0m     \u001b[38;5;28mprint\u001b[39m(\u001b[38;5;124m\"\u001b[39m\u001b[38;5;124mno error\u001b[39m\u001b[38;5;124m\"\u001b[39m)\n",
      "\u001b[1;31mZeroDivisionError\u001b[0m: error occurred!"
     ]
    }
   ],
   "source": [
    "try:\n",
    "    a = 1/0\n",
    "    print(a)\n",
    "except:\n",
    "    print(\"error\")\n",
    "    raise ZeroDivisionError(\"error occurred!\")\n",
    "else:\n",
    "    print(\"no error\")\n",
    "finally:\n",
    "    print(\"qwerty\")\n"
   ]
  },
  {
   "cell_type": "code",
   "execution_count": 90,
   "id": "4e669fde",
   "metadata": {},
   "outputs": [
    {
     "name": "stdout",
     "output_type": "stream",
     "text": [
      "{'name': 'ashish', 'age': 21, 'gender': 'male', 'cars': ['BMW', 'Toyota', 'Mercedes'], 'bool': False, 'Null': None}\n",
      "['BMW', 'Toyota', 'Mercedes']\n",
      "{\n",
      "  \"Null\":null=\n",
      "  \"age\":21=\n",
      "  \"bool\":false=\n",
      "  \"name\":\"ashish\"\n",
      "}\n"
     ]
    }
   ],
   "source": [
    "#JSON\n",
    "import json\n",
    "x = '{\"name\": \"ashish\",\"age\":21,\"gender\": \"male\",\"cars\":[\"BMW\",\"Toyota\",\"Mercedes\"],\"bool\":false,\"Null\":null}'\n",
    "a = json.loads(x)\n",
    "print(a)\n",
    "print(a[\"cars\"])\n",
    "b = {\n",
    "    \"name\": \"ashish\",\n",
    "    \"age\": 21,\n",
    "    \"bool\" : False,\n",
    "    \"Null\": None    \n",
    "}\n",
    "c = json.dumps(b,indent = 2, separators=(\"=\",\":\"),sort_keys = True)\n",
    "print(c)"
   ]
  },
  {
   "cell_type": "code",
   "execution_count": null,
   "id": "5abf3204",
   "metadata": {},
   "outputs": [],
   "source": [
    "# mysql\n",
    "import mysql.connector\n",
    "conn = mysql.connector.connection(\n",
    "    host= \"\",\n",
    "    password = \"\"\n",
    "    user = \"\"\n",
    ")\n",
    "cursor = conn.cursor()\n",
    "cursor.execute()\n",
    "conn.commit()\n",
    "cursor.fetchall()\n",
    "cursor.close()\n",
    "conn.close()"
   ]
  },
  {
   "cell_type": "code",
   "execution_count": 91,
   "id": "c83f35eb",
   "metadata": {},
   "outputs": [
    {
     "name": "stdout",
     "output_type": "stream",
     "text": [
      "<!doctype html><html itemscope=\"\" itemtype=\"http://schema.org/WebPage\" lang=\"en-IN\"><head><meta content=\"text/html; charset=UTF-8\" http-equiv=\"Content-Type\"><meta content=\"/images/branding/googleg/1x/googleg_standard_color_128dp.png\" itemprop=\"image\"><title>Google</title><script nonce=\"pgCWiLyOaKawI6XqfCuKwQ\">(function(){var _g={kEI:'tsltZJuNIrvX1sQPk7WS4A0',kEXPI:'0,791104,568305,1709,4350,206,2415,2389,2316,383,246,5,1129120,1704,1196081,616,380089,16115,28684,22431,1361,284,12035,17580,4998,13227,3848,6884,31560,2872,2891,11754,606,30668,30022,16105,230,1014,1,16916,2652,4,1528,2304,29062,13064,11444,2215,4437,16786,5800,2557,4094,7596,1,42154,2,14022,2715,23024,5679,1020,31123,4567,6256,23421,1252,5835,14967,4333,8,7476,445,2,2,1,26632,8155,7381,2,1477,14491,872,19634,7,1922,9779,42459,251,19947,20137,14,82,13333,6071,802,8377,3787,15173,2306,3097,3030,6110,5041,4665,1804,7734,2738,2884,7656,12085,7424,3534,4278,381,1095,1388,3324,2,975,1166,315,173,405,3579,2022,545,3147,460,3736,428,863,1098,14,700,1267,3356,3215,209,342,2119,116,1753,676,3,601,292,183,12,805,3863,940,600,531,549,8,3,7,284,1092,3238,643,319,44,209,56,86,3,46,1305,601,372,1023,198,535,20,1,1978,5206564,337,556,45,35,46,8798161,3311,141,795,19735,1,1,346,5997,8,92,95,8,5,9,3,9,2,10,8,21,23944218,577,4041565,1964,16672,2894,6250,14715,281,4941,1671,748,1408440,260489,1300207,22199127,130,84,94,133,337,1164,70,2,476,4,44,235,270,2,258,292,1367,805,1,507,5,199,451,680,266,10,2027,177,548,171,1544,315,79,54,20,1793,14,310,1,15,8,3,315,554,74,859,124,11,347,272,425,60,931,9,272,456,99,72,61,136,3,295,5,983,1286,57,148,27,46,29,718,684,62,160,268,385,196,50,167,927,133,33,201,36,132,77,412,98,36,5,658,263,227,397,1180,158,429,28,242,205,506,1217',kBL:'Xpq5',kOPI:89978449};if (!window.google || !window.google.stvsc){window.google = _g;}\n",
      "})();(function(){google.sn='webhp';google.kHL='en-IN';})();(function(){\n",
      "var h=this||self;function l(){return void 0!==window.google&&void 0!==window.google.kOPI&&0!==window.google.kOPI?window.google.kOPI:null};var m,n=[];function p(a){for(var b;a&&(!a.getAttribute||!(b=a.getAttribute(\"eid\")));)a=a.parentNode;return b||m}function q(a){for(var b=null;a&&(!a.getAttribute||!(b=a.getAttribute(\"leid\")));)a=a.parentNode;return b}function r(a){/^http:/i.test(a)&&\"https:\"===window.location.protocol&&(google.ml&&google.ml(Error(\"a\"),!1,{src:a,glmm:1}),a=\"\");return a}\n",
      "function t(a,b,c,d,k){var e=\"\";-1===b.search(\"&ei=\")&&(e=\"&ei=\"+p(d),-1===b.search(\"&lei=\")&&(d=q(d))&&(e+=\"&lei=\"+d));d=\"\";var g=-1===b.search(\"&cshid=\")&&\"slh\"!==a,f=[];f.push([\"zx\",Date.now().toString()]);h._cshid&&g&&f.push([\"cshid\",h._cshid]);c=c();null!=c&&f.push([\"opi\",c.toString()]);for(c=0;c<f.length;c++){if(0===c||0<c)d+=\"&\";d+=f[c][0]+\"=\"+f[c][1]}return\"/\"+(k||\"gen_204\")+\"?atyp=i&ct=\"+String(a)+\"&cad=\"+(b+e+d)};m=google.kEI;google.getEI=p;google.getLEI=q;google.ml=function(){return null};google.log=function(a,b,c,d,k,e){e=void 0===e?l:e;c||(c=t(a,b,e,d,k));if(c=r(c)){a=new Image;var g=n.length;n[g]=a;a.onerror=a.onload=a.onabort=function(){delete n[g]};a.src=c}};google.logUrl=function(a,b){b=void 0===b?l:b;return t(\"\",a,b)};}).call(this);(function(){google.y={};google.sy=[];google.x=function(a,b){if(a)var c=a.id;else{do c=Math.random();while(google.y[c])}google.y[c]=[a,b];return!1};google.sx=function(a){google.sy.push(a)};google.lm=[];google.plm=function(a){google.lm.push.apply(google.lm,a)};google.lq=[];google.load=function(a,b,c){google.lq.push([[a],b,c])};google.loadAll=function(a,b){google.lq.push([a,b])};google.bx=!1;google.lx=function(){};}).call(this);google.f={};(function(){\n",
      "document.documentElement.addEventListener(\"submit\",function(b){var a;if(a=b.target){var c=a.getAttribute(\"data-submitfalse\");a=\"1\"===c||\"q\"===c&&!a.elements.q.value?!0:!1}else a=!1;a&&(b.preventDefault(),b.stopPropagation())},!0);document.documentElement.addEventListener(\"click\",function(b){var a;a:{for(a=b.target;a&&a!==document.documentElement;a=a.parentElement)if(\"A\"===a.tagName){a=\"1\"===a.getAttribute(\"data-nohref\");break a}a=!1}a&&b.preventDefault()},!0);}).call(this);</script><style>#gbar,#guser{font-size:13px;padding-top:1px !important;}#gbar{height:22px}#guser{padding-bottom:7px !important;text-align:right}.gbh,.gbd{border-top:1px solid #c9d7f1;font-size:1px}.gbh{height:0;position:absolute;top:24px;width:100%}@media all{.gb1{height:22px;margin-right:.5em;vertical-align:top}#gbar{float:left}}a.gb1,a.gb4{text-decoration:underline !important}a.gb1,a.gb4{color:#00c !important}.gbi .gb4{color:#dd8e27 !important}.gbf .gb4{color:#900 !important}\n",
      "</style><style>body,td,a,p,.h{font-family:arial,sans-serif}body{margin:0;overflow-y:scroll}#gog{padding:3px 8px 0}td{line-height:.8em}.gac_m td{line-height:17px}form{margin-bottom:20px}.h{color:#1558d6}em{font-weight:bold;font-style:normal}.lst{height:25px;width:496px}.gsfi,.lst{font:18px arial,sans-serif}.gsfs{font:17px arial,sans-serif}.ds{display:inline-box;display:inline-block;margin:3px 0 4px;margin-left:4px}input{font-family:inherit}body{background:#fff;color:#000}a{color:#4b11a8;text-decoration:none}a:hover,a:active{text-decoration:underline}.fl a{color:#1558d6}a:visited{color:#4b11a8}.sblc{padding-top:5px}.sblc a{display:block;margin:2px 0;margin-left:13px;font-size:11px}.lsbb{background:#f8f9fa;border:solid 1px;border-color:#dadce0 #70757a #70757a #dadce0;height:30px}.lsbb{display:block}#WqQANb a{display:inline-block;margin:0 12px}.lsb{background:url(/images/nav_logo229.png) 0 -261px repeat-x;color:#000;border:none;cursor:pointer;height:30px;margin:0;outline:0;font:15px arial,sans-serif;vertical-align:top}.lsb:active{background:#dadce0}.lst:focus{outline:none}</style><script nonce=\"pgCWiLyOaKawI6XqfCuKwQ\">(function(){window.google.erd={jsr:1,bv:1799,de:true};\n",
      "var h=this||self;var k,l=null!=(k=h.mei)?k:1,n,p=null!=(n=h.sdo)?n:!0,q=0,r,t=google.erd,v=t.jsr;google.ml=function(a,b,d,m,e){e=void 0===e?2:e;b&&(r=a&&a.message);if(google.dl)return google.dl(a,e,d),null;if(0>v){window.console&&console.error(a,d);if(-2===v)throw a;b=!1}else b=!a||!a.message||\"Error loading script\"===a.message||q>=l&&!m?!1:!0;if(!b)return null;q++;d=d||{};b=encodeURIComponent;var c=\"/gen_204?atyp=i&ei=\"+b(google.kEI);google.kEXPI&&(c+=\"&jexpid=\"+b(google.kEXPI));c+=\"&srcpg=\"+b(google.sn)+\"&jsr=\"+b(t.jsr)+\"&bver=\"+b(t.bv);var f=a.lineNumber;void 0!==f&&(c+=\"&line=\"+f);var g=\n",
      "a.fileName;g&&(0<g.indexOf(\"-extension:/\")&&(e=3),c+=\"&script=\"+b(g),f&&g===window.location.href&&(f=document.documentElement.outerHTML.split(\"\\n\")[f],c+=\"&cad=\"+b(f?f.substring(0,300):\"No script found.\")));c+=\"&jsel=\"+e;for(var u in d)c+=\"&\",c+=b(u),c+=\"=\",c+=b(d[u]);c=c+\"&emsg=\"+b(a.name+\": \"+a.message);c=c+\"&jsst=\"+b(a.stack||\"N/A\");12288<=c.length&&(c=c.substr(0,12288));a=c;m||google.log(0,\"\",a);return a};window.onerror=function(a,b,d,m,e){r!==a&&(a=e instanceof Error?e:Error(a),void 0===d||\"lineNumber\"in a||(a.lineNumber=d),void 0===b||\"fileName\"in a||(a.fileName=b),google.ml(a,!1,void 0,!1,\"SyntaxError\"===a.name||\"SyntaxError\"===a.message.substring(0,11)||-1!==a.message.indexOf(\"Script error\")?3:0));r=null;p&&q>=l&&(window.onerror=null)};})();</script></head><body bgcolor=\"#fff\"><script nonce=\"pgCWiLyOaKawI6XqfCuKwQ\">(function(){var src='/images/nav_logo229.png';var iesg=false;document.body.onload = function(){window.n && window.n();if (document.images){new Image().src=src;}\n",
      "if (!iesg){document.f&&document.f.q.focus();document.gbqf&&document.gbqf.q.focus();}\n",
      "}\n",
      "})();</script><div id=\"mngb\"><div id=gbar><nobr><b class=gb1>Search</b> <a class=gb1 href=\"http://www.google.co.in/imghp?hl=en&tab=wi\">Images</a> <a class=gb1 href=\"http://maps.google.co.in/maps?hl=en&tab=wl\">Maps</a> <a class=gb1 href=\"https://play.google.com/?hl=en&tab=w8\">Play</a> <a class=gb1 href=\"https://www.youtube.com/?tab=w1\">YouTube</a> <a class=gb1 href=\"https://news.google.com/?tab=wn\">News</a> <a class=gb1 href=\"https://mail.google.com/mail/?tab=wm\">Gmail</a> <a class=gb1 href=\"https://drive.google.com/?tab=wo\">Drive</a> <a class=gb1 style=\"text-decoration:none\" href=\"https://www.google.co.in/intl/en/about/products?tab=wh\"><u>More</u> &raquo;</a></nobr></div><div id=guser width=100%><nobr><span id=gbn class=gbi></span><span id=gbf class=gbf></span><span id=gbe></span><a href=\"http://www.google.co.in/history/optout?hl=en\" class=gb4>Web History</a> | <a  href=\"/preferences?hl=en\" class=gb4>Settings</a> | <a target=_top id=gb_70 href=\"https://accounts.google.com/ServiceLogin?hl=en&passive=true&continue=http://www.google.com/&ec=GAZAAQ\" class=gb4>Sign in</a></nobr></div><div class=gbh style=left:0></div><div class=gbh style=right:0></div></div><center><br clear=\"all\" id=\"lgpd\"><div id=\"lga\"><img alt=\"Google\" height=\"92\" src=\"/images/branding/googlelogo/1x/googlelogo_white_background_color_272x92dp.png\" style=\"padding:28px 0 14px\" width=\"272\" id=\"hplogo\"><br><br></div><form action=\"/search\" name=\"f\"><table cellpadding=\"0\" cellspacing=\"0\"><tr valign=\"top\"><td width=\"25%\">&nbsp;</td><td align=\"center\" nowrap=\"\"><input name=\"ie\" value=\"ISO-8859-1\" type=\"hidden\"><input value=\"en-IN\" name=\"hl\" type=\"hidden\"><input name=\"source\" type=\"hidden\" value=\"hp\"><input name=\"biw\" type=\"hidden\"><input name=\"bih\" type=\"hidden\"><div class=\"ds\" style=\"height:32px;margin:4px 0\"><input class=\"lst\" style=\"margin:0;padding:5px 8px 0 6px;vertical-align:top;color:#000\" autocomplete=\"off\" value=\"\" title=\"Google Search\" maxlength=\"2048\" name=\"q\" size=\"57\"></div><br style=\"line-height:0\"><span class=\"ds\"><span class=\"lsbb\"><input class=\"lsb\" value=\"Google Search\" name=\"btnG\" type=\"submit\"></span></span><span class=\"ds\"><span class=\"lsbb\"><input class=\"lsb\" id=\"tsuid_1\" value=\"I'm Feeling Lucky\" name=\"btnI\" type=\"submit\"><script nonce=\"pgCWiLyOaKawI6XqfCuKwQ\">(function(){var id='tsuid_1';document.getElementById(id).onclick = function(){if (this.form.q.value){this.checked = 1;if (this.form.iflsig)this.form.iflsig.disabled = false;}\n",
      "else top.location='/doodles/';};})();</script><input value=\"AOEireoAAAAAZG3XxsWMpwO-02svNTKa3hcvbZz3TB28\" name=\"iflsig\" type=\"hidden\"></span></span></td><td class=\"fl sblc\" align=\"left\" nowrap=\"\" width=\"25%\"><a href=\"/advanced_search?hl=en-IN&amp;authuser=0\">Advanced search</a></td></tr></table><input id=\"gbv\" name=\"gbv\" type=\"hidden\" value=\"1\"><script nonce=\"pgCWiLyOaKawI6XqfCuKwQ\">(function(){var a,b=\"1\";if(document&&document.getElementById)if(\"undefined\"!=typeof XMLHttpRequest)b=\"2\";else if(\"undefined\"!=typeof ActiveXObject){var c,d,e=[\"MSXML2.XMLHTTP.6.0\",\"MSXML2.XMLHTTP.3.0\",\"MSXML2.XMLHTTP\",\"Microsoft.XMLHTTP\"];for(c=0;d=e[c++];)try{new ActiveXObject(d),b=\"2\"}catch(h){}}a=b;if(\"2\"==a&&-1==location.search.indexOf(\"&gbv=2\")){var f=google.gbvu,g=document.getElementById(\"gbv\");g&&(g.value=a);f&&window.setTimeout(function(){location.href=f},0)};}).call(this);</script></form><div id=\"gac_scont\"></div><div style=\"font-size:83%;min-height:3.5em\"><br><div id=\"gws-output-pages-elements-homepage_additional_languages__als\"><style>#gws-output-pages-elements-homepage_additional_languages__als{font-size:small;margin-bottom:24px}#SIvCob{color:#3c4043;display:inline-block;line-height:28px;}#SIvCob a{padding:0 3px;}.H6sW5{display:inline-block;margin:0 2px;white-space:nowrap}.z4hgWe{display:inline-block;margin:0 2px}</style><div id=\"SIvCob\">Google offered in:  <a href=\"http://www.google.com/setprefs?sig=0_Wg8LtfCXyMdSm5Pk-xUlbLBl2gw%3D&amp;hl=hi&amp;source=homepage&amp;sa=X&amp;ved=0ahUKEwibwJfZw43_AhW7q5UCHZOaBNwQ2ZgBCAU\">&#2361;&#2367;&#2344;&#2381;&#2342;&#2368;</a>    <a href=\"http://www.google.com/setprefs?sig=0_Wg8LtfCXyMdSm5Pk-xUlbLBl2gw%3D&amp;hl=bn&amp;source=homepage&amp;sa=X&amp;ved=0ahUKEwibwJfZw43_AhW7q5UCHZOaBNwQ2ZgBCAY\">&#2476;&#2494;&#2434;&#2482;&#2494;</a>    <a href=\"http://www.google.com/setprefs?sig=0_Wg8LtfCXyMdSm5Pk-xUlbLBl2gw%3D&amp;hl=te&amp;source=homepage&amp;sa=X&amp;ved=0ahUKEwibwJfZw43_AhW7q5UCHZOaBNwQ2ZgBCAc\">&#3108;&#3142;&#3122;&#3137;&#3095;&#3137;</a>    <a href=\"http://www.google.com/setprefs?sig=0_Wg8LtfCXyMdSm5Pk-xUlbLBl2gw%3D&amp;hl=mr&amp;source=homepage&amp;sa=X&amp;ved=0ahUKEwibwJfZw43_AhW7q5UCHZOaBNwQ2ZgBCAg\">&#2350;&#2352;&#2366;&#2336;&#2368;</a>    <a href=\"http://www.google.com/setprefs?sig=0_Wg8LtfCXyMdSm5Pk-xUlbLBl2gw%3D&amp;hl=ta&amp;source=homepage&amp;sa=X&amp;ved=0ahUKEwibwJfZw43_AhW7q5UCHZOaBNwQ2ZgBCAk\">&#2980;&#2990;&#3007;&#2996;&#3021;</a>    <a href=\"http://www.google.com/setprefs?sig=0_Wg8LtfCXyMdSm5Pk-xUlbLBl2gw%3D&amp;hl=gu&amp;source=homepage&amp;sa=X&amp;ved=0ahUKEwibwJfZw43_AhW7q5UCHZOaBNwQ2ZgBCAo\">&#2711;&#2753;&#2716;&#2736;&#2750;&#2724;&#2752;</a>    <a href=\"http://www.google.com/setprefs?sig=0_Wg8LtfCXyMdSm5Pk-xUlbLBl2gw%3D&amp;hl=kn&amp;source=homepage&amp;sa=X&amp;ved=0ahUKEwibwJfZw43_AhW7q5UCHZOaBNwQ2ZgBCAs\">&#3221;&#3240;&#3277;&#3240;&#3233;</a>    <a href=\"http://www.google.com/setprefs?sig=0_Wg8LtfCXyMdSm5Pk-xUlbLBl2gw%3D&amp;hl=ml&amp;source=homepage&amp;sa=X&amp;ved=0ahUKEwibwJfZw43_AhW7q5UCHZOaBNwQ2ZgBCAw\">&#3374;&#3378;&#3375;&#3390;&#3379;&#3330;</a>    <a href=\"http://www.google.com/setprefs?sig=0_Wg8LtfCXyMdSm5Pk-xUlbLBl2gw%3D&amp;hl=pa&amp;source=homepage&amp;sa=X&amp;ved=0ahUKEwibwJfZw43_AhW7q5UCHZOaBNwQ2ZgBCA0\">&#2602;&#2672;&#2588;&#2622;&#2604;&#2624;</a>  </div></div></div><span id=\"footer\"><div style=\"font-size:10pt\"><div style=\"margin:19px auto;text-align:center\" id=\"WqQANb\"><a href=\"/intl/en/ads/\">Advertising</a><a href=\"http://www.google.co.in/services/\">Business Solutions</a><a href=\"/intl/en/about.html\">About Google</a><a href=\"http://www.google.com/setprefdomain?prefdom=IN&amp;prev=http://www.google.co.in/&amp;sig=K_GRaP-P5K3Z8Tr-g-MtyrrNA5jF0%3D\">Google.co.in</a></div></div><p style=\"font-size:8pt;color:#70757a\">&copy; 2023 - <a href=\"/intl/en/policies/privacy/\">Privacy</a> - <a href=\"/intl/en/policies/terms/\">Terms</a></p></span></center><script nonce=\"pgCWiLyOaKawI6XqfCuKwQ\">(function(){window.google.cdo={height:757,width:1440};(function(){var a=window.innerWidth,b=window.innerHeight;if(!a||!b){var c=window.document,d=\"CSS1Compat\"==c.compatMode?c.documentElement:c.body;a=d.clientWidth;b=d.clientHeight}\n",
      "if(a&&b&&(a!=google.cdo.width||b!=google.cdo.height)){var e=google,f=e.log,g=\"/client_204?&atyp=i&biw=\"+a+\"&bih=\"+b+\"&ei=\"+google.kEI,h=\"\",k=[],l=void 0!==window.google&&void 0!==window.google.kOPI&&0!==window.google.kOPI?window.google.kOPI:null;null!=l&&k.push([\"opi\",l.toString()]);for(var m=0;m<k.length;m++){if(0===m||0<m)h+=\"&\";h+=k[m][0]+\"=\"+k[m][1]}f.call(e,\"\",\"\",g+h)};}).call(this);})();</script> <script nonce=\"pgCWiLyOaKawI6XqfCuKwQ\">(function(){google.xjs={ck:'xjs.hp.t7rKxWS_HtE.L.X.O',cs:'ACT90oHT3yFZ8YpKu_igjGHcJ8qgeCu5HQ',csss:'ACT90oGLqVKo5CQUMWi7lf55wckZgg5pqw',excm:[],sepcss:false};})();</script>  <script nonce=\"pgCWiLyOaKawI6XqfCuKwQ\">(function(){var u='/xjs/_/js/k\\x3dxjs.hp.en.mEt61-6Func.O/am\\x3dAAAA6AQAUABgAQ/d\\x3d1/ed\\x3d1/rs\\x3dACT90oGtk6dbUxJxFLaKMl72HvLCTK8qvQ/m\\x3dsb_he,d,cEt90b,SNUn3,qddgKe,sTsDMc,dtl0hd,eHDfl';var amd=0;\n",
      "var e=this||self,f=function(c){return c};var g;var k=function(c){this.g=c};k.prototype.toString=function(){return this.g+\"\"};var m={};\n",
      "function q(){var c=u,n=function(){};google.lx=google.stvsc?n:function(){google.timers&&google.timers.load&&google.tick&&google.tick(\"load\",\"xjsls\");var a=document;var b=\"SCRIPT\";\"application/xhtml+xml\"===a.contentType&&(b=b.toLowerCase());b=a.createElement(b);a=null===c?\"null\":void 0===c?\"undefined\":c;if(void 0===g){var d=null;var l=e.trustedTypes;if(l&&l.createPolicy){try{d=l.createPolicy(\"goog#html\",{createHTML:f,createScript:f,createScriptURL:f})}catch(r){e.console&&e.console.error(r.message)}g=\n",
      "d}else g=d}a=(d=g)?d.createScriptURL(a):a;a=new k(a,m);b.src=a instanceof k&&a.constructor===k?a.g:\"type_error:TrustedResourceUrl\";var h,p;(h=(a=null==(p=(h=(b.ownerDocument&&b.ownerDocument.defaultView||window).document).querySelector)?void 0:p.call(h,\"script[nonce]\"))?a.nonce||a.getAttribute(\"nonce\")||\"\":\"\")&&b.setAttribute(\"nonce\",h);document.body.appendChild(b);google.psa=!0;google.lx=n};google.bx||google.lx()};google.xjsu=u;e._F_jsUrl=u;setTimeout(function(){0<amd?google.caft(function(){return q()},amd):q()},0);})();window._ = window._ || {};window._DumpException = _._DumpException = function(e){throw e;};window._s = window._s || {};_s._DumpException = _._DumpException;window._qs = window._qs || {};_qs._DumpException = _._DumpException;function _F_installCss(c){}\n",
      "(function(){google.jl={blt:'none',chnk:0,dw:false,dwu:true,emtn:0,end:0,ico:false,ikb:0,ine:false,injs:'none',injt:0,injth:0,injv2:false,lls:'default',pdt:0,rep:0,snet:true,strt:0,ubm:false,uwp:true};})();(function(){var pmc='{\\x22d\\x22:{},\\x22sb_he\\x22:{\\x22agen\\x22:true,\\x22cgen\\x22:true,\\x22client\\x22:\\x22heirloom-hp\\x22,\\x22dh\\x22:true,\\x22ds\\x22:\\x22\\x22,\\x22fl\\x22:true,\\x22host\\x22:\\x22google.com\\x22,\\x22jsonp\\x22:true,\\x22msgs\\x22:{\\x22cibl\\x22:\\x22Clear Search\\x22,\\x22dym\\x22:\\x22Did you mean:\\x22,\\x22lcky\\x22:\\x22I\\\\u0026#39;m Feeling Lucky\\x22,\\x22lml\\x22:\\x22Learn more\\x22,\\x22psrc\\x22:\\x22This search was removed from your \\\\u003Ca href\\x3d\\\\\\x22/history\\\\\\x22\\\\u003EWeb History\\\\u003C/a\\\\u003E\\x22,\\x22psrl\\x22:\\x22Remove\\x22,\\x22sbit\\x22:\\x22Search by image\\x22,\\x22srch\\x22:\\x22Google Search\\x22},\\x22ovr\\x22:{},\\x22pq\\x22:\\x22\\x22,\\x22rfs\\x22:[],\\x22sbas\\x22:\\x220 3px 8px 0 rgba(0,0,0,0.2),0 0 0 1px rgba(0,0,0,0.08)\\x22,\\x22stok\\x22:\\x22DVaV2zFJPuwRr6q6APK8LuSaaq4\\x22}}';google.pmc=JSON.parse(pmc);})();(function(){\n",
      "var b=function(a){var c=0;return function(){return c<a.length?{done:!1,value:a[c++]}:{done:!0}}},e=this||self;var g,h;a:{for(var k=[\"CLOSURE_FLAGS\"],l=e,n=0;n<k.length;n++)if(l=l[k[n]],null==l){h=null;break a}h=l}var p=h&&h[610401301];g=null!=p?p:!1;var q,r=e.navigator;q=r?r.userAgentData||null:null;function t(a){return g?q?q.brands.some(function(c){return(c=c.brand)&&-1!=c.indexOf(a)}):!1:!1}function u(a){var c;a:{if(c=e.navigator)if(c=c.userAgent)break a;c=\"\"}return-1!=c.indexOf(a)};function v(){return g?!!q&&0<q.brands.length:!1}function w(){return u(\"Safari\")&&!(x()||(v()?0:u(\"Coast\"))||(v()?0:u(\"Opera\"))||(v()?0:u(\"Edge\"))||(v()?t(\"Microsoft Edge\"):u(\"Edg/\"))||(v()?t(\"Opera\"):u(\"OPR\"))||u(\"Firefox\")||u(\"FxiOS\")||u(\"Silk\")||u(\"Android\"))}function x(){return v()?t(\"Chromium\"):(u(\"Chrome\")||u(\"CriOS\"))&&!(v()?0:u(\"Edge\"))||u(\"Silk\")}function y(){return u(\"Android\")&&!(x()||u(\"Firefox\")||u(\"FxiOS\")||(v()?0:u(\"Opera\"))||u(\"Silk\"))};var z=v()?!1:u(\"Trident\")||u(\"MSIE\");y();x();w();var A=!z&&!w(),D=function(a){if(/-[a-z]/.test(\"ved\"))return null;if(A&&a.dataset){if(y()&&!(\"ved\"in a.dataset))return null;a=a.dataset.ved;return void 0===a?null:a}return a.getAttribute(\"data-\"+\"ved\".replace(/([A-Z])/g,\"-$1\").toLowerCase())};var E=[],F=null;function G(a){a=a.target;var c=performance.now(),f=[],H=f.concat,d=E;if(!(d instanceof Array)){var m=\"undefined\"!=typeof Symbol&&Symbol.iterator&&d[Symbol.iterator];if(m)d=m.call(d);else if(\"number\"==typeof d.length)d={next:b(d)};else throw Error(\"a`\"+String(d));for(var B=[];!(m=d.next()).done;)B.push(m.value);d=B}E=H.call(f,d,[c]);if(a&&a instanceof HTMLElement)if(a===F){if(c=4<=E.length)c=5>(E[E.length-1]-E[E.length-4])/1E3;if(c){c=google.getEI(a);a.hasAttribute(\"data-ved\")?f=a?D(a)||\"\":\"\":f=(f=\n",
      "a.closest(\"[data-ved]\"))?D(f)||\"\":\"\";f=f||\"\";if(a.hasAttribute(\"jsname\"))a=a.getAttribute(\"jsname\");else{var C;a=null==(C=a.closest(\"[jsname]\"))?void 0:C.getAttribute(\"jsname\")}google.log(\"rcm\",\"&ei=\"+c+\"&ved=\"+f+\"&jsname=\"+(a||\"\"))}}else F=a,E=[c]}window.document.addEventListener(\"DOMContentLoaded\",function(){document.body.addEventListener(\"click\",G)});}).call(this);</script></body></html>\n"
     ]
    }
   ],
   "source": [
    "#request\n",
    "import requests\n",
    "x = requests.get(\"http://www.google.com\")\n",
    "print(x.text)"
   ]
  },
  {
   "cell_type": "code",
   "execution_count": null,
   "id": "9a60a4a5",
   "metadata": {},
   "outputs": [],
   "source": [
    "# file\n",
    "t text mode\n",
    "b binary mode\n",
    "f = open(\"main.txt\",r)\n",
    "f = open(\"main.txt\",w)\n",
    "f = open(\"main.txt\",x)\n",
    "f = open(\"main.txt\",a)\n",
    "f.read()\n",
    "f.readline()\n",
    "f.write()\n",
    "f.close()\n",
    "os.path.exists(\"main.txt\")\n",
    "os.remove(\"main.txt\")\n",
    "os.rmdir(\"folder_name\")"
   ]
  },
  {
   "cell_type": "code",
   "execution_count": 96,
   "id": "340f9230",
   "metadata": {},
   "outputs": [
    {
     "name": "stdout",
     "output_type": "stream",
     "text": [
      "50\n",
      "1\n",
      "96\n"
     ]
    }
   ],
   "source": [
    "\n",
    "def sq(x):\n",
    "    a = 2\n",
    "    global b\n",
    "    b = 96\n",
    "    return x*x*a\n",
    "print(sq(5))\n",
    "print(a)\n",
    "print(b)\n"
   ]
  },
  {
   "cell_type": "code",
   "execution_count": 102,
   "id": "0c9211f9",
   "metadata": {},
   "outputs": [
    {
     "name": "stdout",
     "output_type": "stream",
     "text": [
      "Wed\n",
      "Wednesday\n",
      "May\n",
      "May\n",
      "14\n",
      "02\n",
      "3\n",
      "24\n",
      "05\n",
      "08\n",
      "44\n",
      "PM\n",
      "2023\n"
     ]
    }
   ],
   "source": [
    "import datetime\n",
    "time = datetime.datetime.now()\n",
    "print(time.strftime(\"%a\"))\n",
    "print(time.strftime(\"%A\"))\n",
    "print(time.strftime(\"%b\"))\n",
    "print(time.strftime(\"%B\"))\n",
    "print(time.strftime(\"%H\"))\n",
    "print(time.strftime(\"%I\"))\n",
    "print(time.strftime(\"%w\"))\n",
    "print(time.strftime(\"%d\"))\n",
    "print(time.strftime(\"%m\"))\n",
    "print(time.strftime(\"%M\"))\n",
    "print(time.strftime(\"%S\"))\n",
    "print(time.strftime(\"%p\"))\n",
    "print(time.strftime(\"%Y\"))"
   ]
  },
  {
   "cell_type": "code",
   "execution_count": null,
   "id": "94ca64f4",
   "metadata": {},
   "outputs": [],
   "source": [
    "max()\n",
    "min()\n",
    "abs()\n",
    "sum()\n",
    "round()\n",
    "math.ceil()\n",
    "math.floor()\n",
    "math.cos()\n",
    "math.sin()\n",
    "math.factorial()\n",
    "math.dist()\n",
    "math.gcd()\n",
    "math.log()\n",
    "math.log10()\n",
    "math.pi\n",
    "math.fabs()\n",
    "math.fmod()\n",
    "math.degrees()\n",
    "math.trunc()\n",
    "math.radians()"
   ]
  },
  {
   "cell_type": "code",
   "execution_count": 17,
   "id": "97eb3e23",
   "metadata": {},
   "outputs": [
    {
     "name": "stdout",
     "output_type": "stream",
     "text": [
      "55\n",
      "0 1 1 2 3 5 8 13 21 34 89\n",
      "0:32\n",
      "1:35\n",
      "2:39\n",
      "3:38\n",
      "4:47\n",
      "5:50\n",
      "False\n",
      "4\n"
     ]
    }
   ],
   "source": [
    "def fib(n1):\n",
    "    if n1<=1:\n",
    "        return n1\n",
    "    return (fib(n1-2)+fib(n1-1))\n",
    "\n",
    "def fibo(n):\n",
    "    a = 0\n",
    "    b = 1\n",
    "    i = 0\n",
    "    while i<=n-1:\n",
    "        print(a,end=\" \")\n",
    "        temp = b\n",
    "        b = a+b\n",
    "        a = temp\n",
    "        i+=1\n",
    "    return b\n",
    "print(fib(10))\n",
    "print(fibo(10))\n",
    "lst = [32,35,39,38,47,50]\n",
    "for i,elem in enumerate(lst):\n",
    "    print(i,elem,sep=\":\")\n",
    "def prime(n):\n",
    "    c = 2\n",
    "    while c*c<=n:\n",
    "        if n%c==0:\n",
    "            return False\n",
    "        c+=1\n",
    "    return True\n",
    "print(prime(14))\n",
    "# continue \n",
    "# pass\n",
    "a = 5 if 9<6 else 4\n",
    "print(a)"
   ]
  },
  {
   "cell_type": "code",
   "execution_count": 24,
   "id": "8f97222f",
   "metadata": {},
   "outputs": [
    {
     "name": "stdout",
     "output_type": "stream",
     "text": [
      "<class 'int'>\n",
      "<class 'float'>\n",
      "<class 'complex'>\n",
      "<class 'bool'>\n",
      "<class 'str'>\n",
      "ing\n",
      "gnirts\n"
     ]
    }
   ],
   "source": [
    "#datatypes\n",
    "a = 10\n",
    "b = 1.0\n",
    "c = 5+5j\n",
    "d = True\n",
    "e = \"string\"\n",
    "print(type(a))\n",
    "print(type(b))\n",
    "print(type(c))\n",
    "print(type(d))\n",
    "print(type(e))\n",
    "print(e[3:])\n",
    "print(e[::-1])"
   ]
  },
  {
   "cell_type": "code",
   "execution_count": 42,
   "id": "15414201",
   "metadata": {},
   "outputs": [
    {
     "name": "stdout",
     "output_type": "stream",
     "text": [
      "('a', 'b', 'c')\n",
      "21\n",
      "50\n",
      "(6, 32, 56, 9)\n",
      "56\n"
     ]
    }
   ],
   "source": [
    "from typing import List\n",
    "def name(*name):\n",
    "    print(name)\n",
    "name(\"a\",\"b\",\"c\")\n",
    "def names(**names):\n",
    "    print(names[\"age\"])\n",
    "names(name=\"ashish\",age=21)\n",
    "def func(age=0):\n",
    "    print(age)\n",
    "func(50)\n",
    "def function(age:int) -> int:\n",
    "    assert isinstance(age,int), \"error\"\n",
    "    return age\n",
    "def funct(l: List[int]) -> List[int]:\n",
    "    return l\n",
    "print(funct((6,32,56,9)))\n",
    "print(function(56))"
   ]
  },
  {
   "cell_type": "code",
   "execution_count": 3,
   "id": "2b9a657d",
   "metadata": {},
   "outputs": [
    {
     "name": "stdout",
     "output_type": "stream",
     "text": [
      "[0, 1, 2, 3, 4, 5, 6, 7, 8, 9]\n"
     ]
    }
   ],
   "source": [
    "# generators\n",
    "def gen():\n",
    "    x= 0\n",
    "    while x<10:\n",
    "        yield x\n",
    "        x+=1\n",
    "print(list(gen()))"
   ]
  },
  {
   "cell_type": "code",
   "execution_count": 4,
   "id": "85b76bcb",
   "metadata": {},
   "outputs": [
    {
     "name": "stdout",
     "output_type": "stream",
     "text": [
      "4\n"
     ]
    }
   ],
   "source": [
    "# closures\n",
    "def abc():\n",
    "    x = 2\n",
    "    def xyz():\n",
    "        print(x+2)\n",
    "    return xyz\n",
    "\n",
    "a = abc()\n",
    "a()"
   ]
  },
  {
   "cell_type": "code",
   "execution_count": 31,
   "id": "cf875579",
   "metadata": {},
   "outputs": [
    {
     "name": "stdout",
     "output_type": "stream",
     "text": [
      "msg\n",
      "hello\n"
     ]
    }
   ],
   "source": [
    "# decorators\n",
    "def abc():\n",
    "    def hello(func):\n",
    "        print(func.__name__)\n",
    "        func()\n",
    "    return hello\n",
    "# @abc()\n",
    "def msg():\n",
    "    print(\"hello\")\n",
    "a = abc()\n",
    "a(msg)"
   ]
  },
  {
   "cell_type": "code",
   "execution_count": 39,
   "id": "323da464",
   "metadata": {},
   "outputs": [
    {
     "name": "stdout",
     "output_type": "stream",
     "text": [
      "25\n",
      "21\n",
      "56\n",
      "35\n",
      "30\n",
      "69\n",
      "33\n",
      "6\n"
     ]
    }
   ],
   "source": [
    "# iterator\n",
    "lst = [25,21,56,35,30,69,33,6]\n",
    "iterator = iter(lst)\n",
    "# print(next(iterator))\n",
    "for i in range(len(lst)):\n",
    "    print(next(iterator))"
   ]
  },
  {
   "cell_type": "code",
   "execution_count": 43,
   "id": "3d1a9105",
   "metadata": {},
   "outputs": [
    {
     "name": "stdout",
     "output_type": "stream",
     "text": [
      "world\n"
     ]
    }
   ],
   "source": [
    "#nonlocal\n",
    "def outer():\n",
    "    x = \"Hello\"\n",
    "    def inner():\n",
    "        nonlocal x\n",
    "        x = \"world\"\n",
    "    inner()\n",
    "    return x\n",
    "print(outer())"
   ]
  },
  {
   "cell_type": "code",
   "execution_count": 53,
   "id": "1d7c7160",
   "metadata": {},
   "outputs": [
    {
     "name": "stdout",
     "output_type": "stream",
     "text": [
      "#\n"
     ]
    }
   ],
   "source": [
    "a  =chr(35)\n",
    "print(a)"
   ]
  },
  {
   "cell_type": "code",
   "execution_count": 39,
   "id": "8f56e3d5",
   "metadata": {},
   "outputs": [
    {
     "name": "stdout",
     "output_type": "stream",
     "text": [
      "[21, 25, 30, 35, 56, 69]\n"
     ]
    }
   ],
   "source": [
    "def shell_sort(arr):\n",
    "    gap = len(arr)//2\n",
    "    n = len(arr)\n",
    "    while gap>0:\n",
    "        for i in range(gap,n):\n",
    "            curr = arr[i]\n",
    "            j = i\n",
    "            while j>=gap and curr<arr[j-gap]:\n",
    "                arr[j],arr[j-gap] = arr[j-gap],arr[j]\n",
    "                j-=gap\n",
    "        gap=gap//2\n",
    "    return arr\n",
    "\n",
    "def quick_sort(arr,start,end):\n",
    "    pivot = arr[start]\n",
    "    p = start+1\n",
    "    q = end-1\n",
    "    while p<=q:\n",
    "        while p<=q and arr[p]<=pivot:\n",
    "            p+=1\n",
    "        while p<=q and arr[q]>=pivot:\n",
    "            q-=1\n",
    "        if p<q:\n",
    "            arr[p],arr[q]=arr[q],arr[p]\n",
    "    arr[q],arr[start]= arr[start],arr[q]\n",
    "    return q\n",
    "    \n",
    "def sortt(arr,low,high):\n",
    "    if low<high:\n",
    "        pivot = quick_sort(arr,low,high)\n",
    "        sortt(arr,low,pivot)\n",
    "        sortt(arr,pivot+1,high)\n",
    "    return arr\n",
    "arr = [56,69,25,21,30,35]\n",
    "# print(shell_sort(arr))\n",
    "# print(sortt(arr,0,len(arr)))\n",
    "def insertion_sort(arr):\n",
    "    n = len(arr)\n",
    "    for i in range(1,n):\n",
    "        curr = arr[i]\n",
    "        j = i-1\n",
    "        while j>=0 and curr<arr[j]:\n",
    "            arr[j+1]=arr[j]\n",
    "            j-=1\n",
    "        arr[j+1]=curr\n",
    "    return arr\n",
    "# print(insertion_sort(arr))\n",
    "\n",
    "def selection_sort(arr):\n",
    "    n = len(arr)\n",
    "    for i in range(n):\n",
    "        ind = i\n",
    "        for j in range(i+1,n):\n",
    "            if arr[j]<arr[ind]:\n",
    "                ind = j\n",
    "        arr[ind],arr[i]=arr[i],arr[ind]\n",
    "    return arr\n",
    "\n",
    "print(selection_sort(arr))"
   ]
  },
  {
   "cell_type": "code",
   "execution_count": null,
   "id": "3759c846",
   "metadata": {},
   "outputs": [],
   "source": [
    "for i in range(1,n):\n",
    "    temp = arr[i]\n",
    "    j = i-1\n",
    "    while j>=0 and temp<arr[j]:\n",
    "        arr[j+1]=arr[j]\n",
    "        j-=1\n",
    "    arr[j+1] = temp"
   ]
  },
  {
   "cell_type": "code",
   "execution_count": null,
   "id": "ddc54931",
   "metadata": {},
   "outputs": [],
   "source": [
    "while gap>0:\n",
    "    for i in range(gap,n):\n",
    "        temp = arr[i]\n",
    "        j = i\n",
    "        while j>=gap and arr[j-gap]>temp:\n",
    "            arr[j-gap],arr[j]=arr[j],arr[j-gap]\n",
    "            j-=gap\n",
    "    gap//=2"
   ]
  },
  {
   "cell_type": "code",
   "execution_count": null,
   "id": "1a55adaa",
   "metadata": {},
   "outputs": [],
   "source": [
    "def sp(start,dest,path=[]):\n",
    "    path = path + [src]\n",
    "    if src==dest:\n",
    "        return [path]\n",
    "    if src not in d:\n",
    "        return []\n",
    "    sp = None\n",
    "    for node in d[start]:\n",
    "        if node not in path:\n",
    "            temp = sp(node,dest,path)\n",
    "            if temp:\n",
    "                if temp is None or len(sp)>len(temp):\n",
    "                    sp = temp"
   ]
  }
 ],
 "metadata": {
  "kernelspec": {
   "display_name": "Python 3 (ipykernel)",
   "language": "python",
   "name": "python3"
  },
  "language_info": {
   "codemirror_mode": {
    "name": "ipython",
    "version": 3
   },
   "file_extension": ".py",
   "mimetype": "text/x-python",
   "name": "python",
   "nbconvert_exporter": "python",
   "pygments_lexer": "ipython3",
   "version": "3.10.2"
  }
 },
 "nbformat": 4,
 "nbformat_minor": 5
}
