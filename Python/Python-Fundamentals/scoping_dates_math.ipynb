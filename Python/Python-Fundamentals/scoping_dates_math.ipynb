{
 "cells": [
  {
   "cell_type": "markdown",
   "id": "f51ef136",
   "metadata": {},
   "source": [
    "# Scoping"
   ]
  },
  {
   "cell_type": "code",
   "execution_count": 3,
   "id": "f465b7ec",
   "metadata": {},
   "outputs": [
    {
     "name": "stdout",
     "output_type": "stream",
     "text": [
      "30\n",
      "40\n"
     ]
    }
   ],
   "source": [
    "x = 40 #global variable\n",
    "def func():\n",
    "    x = 30 #local variable\n",
    "    print(x)\n",
    "func()\n",
    "print(x)"
   ]
  },
  {
   "cell_type": "markdown",
   "id": "22460348",
   "metadata": {},
   "source": [
    "## Declaring global variable in local scope"
   ]
  },
  {
   "cell_type": "code",
   "execution_count": 8,
   "id": "16520860",
   "metadata": {},
   "outputs": [
    {
     "name": "stdout",
     "output_type": "stream",
     "text": [
      "30\n",
      "30\n"
     ]
    }
   ],
   "source": [
    "def func():\n",
    "    global y #making y as a global variable\n",
    "    y = 30\n",
    "    print(y)\n",
    "func()\n",
    "print(y)"
   ]
  },
  {
   "cell_type": "markdown",
   "id": "a270f736",
   "metadata": {},
   "source": [
    "# Python Dates"
   ]
  },
  {
   "cell_type": "code",
   "execution_count": 9,
   "id": "c11073c7",
   "metadata": {},
   "outputs": [
    {
     "name": "stdout",
     "output_type": "stream",
     "text": [
      "2023-03-05 13:43:18.240223\n"
     ]
    }
   ],
   "source": [
    "import datetime\n",
    "x = datetime.datetime.now() #to get current date and time format: year-month-date hour:minute:second.microsecond\n",
    "print(x)"
   ]
  },
  {
   "cell_type": "code",
   "execution_count": 10,
   "id": "4d68e7f0",
   "metadata": {},
   "outputs": [
    {
     "name": "stdout",
     "output_type": "stream",
     "text": [
      "2023\n"
     ]
    }
   ],
   "source": [
    "print(x.year) # to get year"
   ]
  },
  {
   "cell_type": "code",
   "execution_count": 12,
   "id": "1f7fbc96",
   "metadata": {},
   "outputs": [
    {
     "name": "stdout",
     "output_type": "stream",
     "text": [
      "Sunday\n"
     ]
    }
   ],
   "source": [
    "print(x.strftime(\"%A\")) # str (string) f (format) time (time) and pass the formatting type"
   ]
  },
  {
   "cell_type": "code",
   "execution_count": 13,
   "id": "23976af4",
   "metadata": {},
   "outputs": [
    {
     "name": "stdout",
     "output_type": "stream",
     "text": [
      "2023-02-15 00:00:00\n"
     ]
    }
   ],
   "source": [
    "y = datetime.datetime(2023,2,15) #making date\n",
    "print(y)"
   ]
  },
  {
   "cell_type": "code",
   "execution_count": 14,
   "id": "b74337ea",
   "metadata": {},
   "outputs": [
    {
     "name": "stdout",
     "output_type": "stream",
     "text": [
      "February\n"
     ]
    }
   ],
   "source": [
    "print(y.strftime(\"%B\"))"
   ]
  },
  {
   "cell_type": "markdown",
   "id": "2541cbf3",
   "metadata": {},
   "source": [
    "## String format time"
   ]
  },
  {
   "cell_type": "markdown",
   "id": "0ae46f4f",
   "metadata": {},
   "source": [
    "%a wed weekday short\n",
    "%A wednesday weeday long\n",
    "\n",
    "%b dec month short\n",
    "%B decemeber month long\n",
    "\n",
    "%d 01-31 day\n",
    "%w 0-6 weekday number\n",
    "%m 01-12 month number\n",
    "\n",
    "%H hour 24hours format\n",
    "%I hour 12hours format\n",
    "\n",
    "%p AM/PM\n",
    "%M minute\n",
    "%S second"
   ]
  },
  {
   "cell_type": "markdown",
   "id": "8aa34b62",
   "metadata": {},
   "source": [
    "## examples"
   ]
  },
  {
   "cell_type": "code",
   "execution_count": 1,
   "id": "8874a4aa",
   "metadata": {},
   "outputs": [
    {
     "name": "stdout",
     "output_type": "stream",
     "text": [
      "Mon\n",
      "Monday\n",
      "May\n",
      "May\n",
      "2023\n",
      "29\n",
      "1\n",
      "05\n",
      "12\n",
      "12\n",
      "09\n",
      "02\n",
      "PM\n"
     ]
    }
   ],
   "source": [
    "import datetime\n",
    "time = datetime.datetime.now()\n",
    "print(time.strftime(\"%a\"))\n",
    "print(time.strftime(\"%A\"))\n",
    "\n",
    "print(time.strftime(\"%b\"))\n",
    "print(time.strftime(\"%B\"))\n",
    "\n",
    "print(time.strftime(\"%Y\"))\n",
    "print(time.strftime(\"%d\"))\n",
    "print(time.strftime(\"%w\"))\n",
    "print(time.strftime(\"%m\"))\n",
    "\n",
    "print(time.strftime(\"%H\"))\n",
    "print(time.strftime(\"%I\"))\n",
    "\n",
    "print(time.strftime(\"%M\"))\n",
    "print(time.strftime(\"%S\"))\n",
    "\n",
    "print(time.strftime(\"%p\"))"
   ]
  },
  {
   "cell_type": "markdown",
   "id": "89560545",
   "metadata": {},
   "source": [
    "# Math module"
   ]
  },
  {
   "cell_type": "code",
   "execution_count": 26,
   "id": "0f75264a",
   "metadata": {},
   "outputs": [
    {
     "name": "stdout",
     "output_type": "stream",
     "text": [
      "5\n",
      "2\n",
      "5.2\n",
      "25\n",
      "4\n",
      "5\n",
      "4\n"
     ]
    }
   ],
   "source": [
    "#max\n",
    "print(max(5,2))\n",
    "\n",
    "#min\n",
    "print(min(5,2))\n",
    "\n",
    "#abs\n",
    "print(abs(-5.2))\n",
    "\n",
    "#pow\n",
    "print(pow(5,2))\n",
    "print(pow(37,-1,49)) #same as 37^-1 mod 49, inverse modulo\n",
    "\n",
    "#round\n",
    "print(round(4.6))\n",
    "print(round(4.2))"
   ]
  },
  {
   "cell_type": "code",
   "execution_count": 27,
   "id": "fc2992ef",
   "metadata": {},
   "outputs": [
    {
     "name": "stdout",
     "output_type": "stream",
     "text": [
      "4.0\n",
      "6\n",
      "4\n",
      "3.141592653589793\n",
      "0.15425144988758405\n",
      "-0.9880316240928618\n",
      "5\n",
      "90.0\n",
      "1.5707963267948966\n",
      "7.0\n",
      "56.5\n",
      "7.0\n",
      "120\n",
      "32.0\n",
      "1\n",
      "3.2188758248682006\n",
      "1.3979400086720377\n"
     ]
    }
   ],
   "source": [
    "import math\n",
    "#sqrt\n",
    "print(math.sqrt(16))\n",
    "\n",
    "#ceil\n",
    "print(math.ceil(5.4))\n",
    "\n",
    "#floor\n",
    "print(math.floor(4.2))\n",
    "\n",
    "#pi\n",
    "print(math.pi)\n",
    "\n",
    "#cos\n",
    "print(math.cos(30))\n",
    "\n",
    "#sin\n",
    "print(math.sin(30))\n",
    "\n",
    "#trunc\n",
    "print(math.trunc(5.2)) # returns int part of float value\n",
    "\n",
    "#degress converts rad to deg\n",
    "print(math.degrees(math.pi/2))\n",
    "\n",
    "#radians\n",
    "print(math.radians(90))\n",
    "\n",
    "#dist distance formula euclidean distance formula\n",
    "print(math.dist((5,2),(5,9)))\n",
    "\n",
    "#fabs float absoulute\n",
    "print(math.fabs(-56.5))\n",
    "print(math.fabs(-7))\n",
    "\n",
    "#factorial\n",
    "print(math.factorial(5))\n",
    "\n",
    "#fmod float modulo\n",
    "print(math.fmod(10000,56))\n",
    "\n",
    "#gcd\n",
    "print(math.gcd(5,288))\n",
    "\n",
    "#log natural log\n",
    "print(math.log(25))\n",
    "\n",
    "#log10 base 10 log\n",
    "print(math.log10(25))"
   ]
  },
  {
   "cell_type": "code",
   "execution_count": null,
   "id": "ddfc76e0",
   "metadata": {},
   "outputs": [],
   "source": []
  }
 ],
 "metadata": {
  "kernelspec": {
   "display_name": "Python 3 (ipykernel)",
   "language": "python",
   "name": "python3"
  },
  "language_info": {
   "codemirror_mode": {
    "name": "ipython",
    "version": 3
   },
   "file_extension": ".py",
   "mimetype": "text/x-python",
   "name": "python",
   "nbconvert_exporter": "python",
   "pygments_lexer": "ipython3",
   "version": "3.11.3"
  }
 },
 "nbformat": 4,
 "nbformat_minor": 5
}
