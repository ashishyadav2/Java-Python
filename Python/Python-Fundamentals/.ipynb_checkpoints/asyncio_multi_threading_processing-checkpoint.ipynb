{
 "cells": [
  {
   "cell_type": "markdown",
   "id": "30605410-bfb4-4a7f-8437-9469a06efd34",
   "metadata": {},
   "source": [
    "## Asynchronous Programming\n",
    "\n",
    "\n",
    "Asynchronous programming in Python allows you to write non-blocking, concurrent code, which is particularly useful for I/O-bound tasks like network communication or file handlin\n",
    "\n",
    "`async`: This keyword is used to define a coroutine function. When you mark a function with async, it signifies that the function can be paused and resumed during its execution, allowing other tasks to run in the meantime without blocking.\r\n",
    "\n",
    "`await`it: This keyword is used inside async functions to pause the execution of the coroutine until the awaited coroutine or awaitable object completes. It essentially tells Python to wait asynchronously for the result of an asynchronous operation without blocking the event loop\n",
    "\n",
    "**Note:** We can only `await` awaitable object (coroutine should be aysnc)\n",
    "\n",
    "**Ref:** https://realpython.com/async-io-python/g"
   ]
  },
  {
   "cell_type": "code",
   "execution_count": 39,
   "id": "df7e292c-d457-4a52-ba9f-c6b2367b5a96",
   "metadata": {},
   "outputs": [],
   "source": [
    "import os\n",
    "import sys"
   ]
  },
  {
   "cell_type": "code",
   "execution_count": 40,
   "id": "32e0b9fd-7f62-47c0-8923-88408a243cea",
   "metadata": {},
   "outputs": [],
   "source": [
    "async def func1():\n",
    "    try:\n",
    "        with open('demo.txt','r') as f:\n",
    "            return f.read()\n",
    "    except FileNotFoundError as e:\n",
    "        print(\"File not found\")"
   ]
  },
  {
   "cell_type": "code",
   "execution_count": 41,
   "id": "ee3d9870-7a1a-476b-a399-169795b1e820",
   "metadata": {},
   "outputs": [
    {
     "data": {
      "text/plain": [
       "<coroutine object func1 at 0x000001E4F47E35B0>"
      ]
     },
     "execution_count": 41,
     "metadata": {},
     "output_type": "execute_result"
    }
   ],
   "source": [
    "func1()"
   ]
  },
  {
   "cell_type": "code",
   "execution_count": 42,
   "id": "47a834fa-fb67-495a-b782-e943da5f97ae",
   "metadata": {},
   "outputs": [],
   "source": [
    "import asyncio\n",
    "async def main():\n",
    "    print(\"hello\")\n",
    "    await asyncio.sleep(1)\n",
    "    await func1()\n",
    "    print(\"world\")"
   ]
  },
  {
   "cell_type": "code",
   "execution_count": 43,
   "id": "f9d4e177-f4ce-4ae5-8169-7325bf2e98a6",
   "metadata": {},
   "outputs": [
    {
     "name": "stdout",
     "output_type": "stream",
     "text": [
      "hello\n",
      "File not found\n",
      "world\n"
     ]
    }
   ],
   "source": [
    "dir(os)\n",
    "await main()"
   ]
  },
  {
   "cell_type": "markdown",
   "id": "cb00f361-76e6-4eca-b9aa-a913e3c10f9a",
   "metadata": {},
   "source": [
    "## Multi Threading"
   ]
  },
  {
   "cell_type": "markdown",
   "id": "325c5048-0185-44f6-9dd5-4f4e405423c7",
   "metadata": {},
   "source": [
    "### Multithreading Explained: Formal and Simple with Diagrams\n",
    "\n",
    "Multithreading is a programming concept that allows a single program to execute multiple sequences of instructions (threads) concurrently. Imagine a multitasking person juggling several tasks simultaneously. Multithreading works similarly within a computer program.\n",
    "\n",
    "**Formal Definition:**\n",
    "\n",
    "In formal terms, multithreading is a technique for the concurrent execution of multiple threads within a single process. Threads share the same memory space of the process but have their own execution stacks. The operating system manages the scheduling and switching between threads, creating the illusion of parallelism.\n",
    "\n",
    "**Simple Analogy:**\n",
    "\n",
    "Think of a restaurant kitchen. The cooks (threads) work on different dishes (tasks) concurrently. One cook might be prepping vegetables (Task A), another grilling meat (Task B), while another prepares dessert (Task C). This allows for faster overall completion compared to a single cook handling everything sequentially.\n",
    "\n",
    "**Diagram:**\n",
    "\n",
    "Here's a visual representation of multithreading:\n",
    "\n",
    "```\n",
    "          +-------------------+          +-------------------+          +-------------------+\n",
    "          | Thread 1 (Task A) |          | Thread 2 (Task B) |          | Thread 3 (Task C) |\n",
    "          +-------------------+          +-------------------+          +-------------------+\n",
    "                    |                     |                     |\n",
    "                    |                     |                     |\n",
    "                    V                     V                     V\n",
    "          +--------+       +--------+       +--------+       +--------+\n",
    "          | CPU    |   CPU Scheduling   | CPU    |   CPU Scheduling   | CPU    |\n",
    "          +--------+       +--------+       +--------+       +--------+\n",
    "                    |                     |                     |\n",
    "                    |                     |                     |\n",
    "                    V                     V                     V\n",
    "          +-------------------+          +-------------------+          +-------------------+\n",
    "          |  Operating System |          |  Operating System |          |  Operating System |\n",
    "          +-------------------+          +-------------------+          +-------------------+\n",
    "```\n",
    "\n",
    "- Each thread represents a sequence of instructions within the program.\n",
    "- The CPU can rapidly switch between threads, giving the illusion of simultaneous execution.\n",
    "- The operating system manages this scheduling and switching.\n",
    "\n",
    "**Benefits of Multithreading:**\n",
    "\n",
    "- **Improved responsiveness:** Programs remain responsive to user input even while performing long-running tasks in background threads.\n",
    "- **Increased efficiency:** By utilizing multiple cores or processors on a computer, multithreading can significantly speed up programs dealing with independent tasks.\n",
    "- **Better resource utilization:** Programs can leverage multiple CPU cores, leading to more efficient resource usage.\n",
    "\n",
    "**Challenges of Multithreading:**\n",
    "\n",
    "- **Complexity:** Coordinating and synchronizing access to shared resources between threads demands careful programming and introduces potential race conditions.\n",
    "- **Deadlocks:** Threads waiting for each other to release resources can create deadlocks, where no thread can proceed.\n",
    "\n",
    "**In conclusion, multithreading is a powerful programming technique that allows for efficient program execution by running multiple tasks concurrently. However, it requires careful consideration and implementation to avoid potential complexities and ensure program correctness.**"
   ]
  },
  {
   "cell_type": "code",
   "execution_count": 157,
   "id": "689e2e66-8523-4b25-bb12-05e087e9bf60",
   "metadata": {},
   "outputs": [],
   "source": [
    "import threading"
   ]
  },
  {
   "cell_type": "code",
   "execution_count": 158,
   "id": "4c03979b-ff96-401c-a448-7fc83d5d9cfb",
   "metadata": {},
   "outputs": [],
   "source": [
    "def func2(n: int) -> list[int]:\n",
    "    print(f\"Threading id: {threading.get_ident()}\")\n",
    "    print([i**2 for i in range(1,n+1)])"
   ]
  },
  {
   "cell_type": "code",
   "execution_count": 159,
   "id": "b51215c2-68cd-499a-8c0c-3ce134d80cca",
   "metadata": {},
   "outputs": [],
   "source": [
    "thread1 = threading.Thread(target=func2,args=(5,))\n",
    "thread2 = threading.Thread(target=func2,args=(10,))"
   ]
  },
  {
   "cell_type": "code",
   "execution_count": 160,
   "id": "02d11066-b7a5-43c0-a60c-43a4499238d2",
   "metadata": {},
   "outputs": [
    {
     "name": "stdout",
     "output_type": "stream",
     "text": [
      "Threading id: 11248\n",
      "[1, 4, 9, 16, 25]\n",
      "Threading id: 3316\n",
      "[1, 4, 9, 16, 25, 36, 49, 64, 81, 100]\n"
     ]
    }
   ],
   "source": [
    "thread1.start()\n",
    "thread2.start()"
   ]
  },
  {
   "cell_type": "code",
   "execution_count": 161,
   "id": "e2ede21f-3bf3-4c7d-bb31-a5677c58b8ca",
   "metadata": {},
   "outputs": [
    {
     "data": {
      "text/plain": [
       "False"
      ]
     },
     "execution_count": 161,
     "metadata": {},
     "output_type": "execute_result"
    }
   ],
   "source": [
    "thread1.daemon"
   ]
  },
  {
   "cell_type": "code",
   "execution_count": 162,
   "id": "3918b714-4ddf-4224-9720-7a28b665986b",
   "metadata": {},
   "outputs": [
    {
     "data": {
      "text/plain": [
       "False"
      ]
     },
     "execution_count": 162,
     "metadata": {},
     "output_type": "execute_result"
    }
   ],
   "source": [
    "thread1.is_alive()"
   ]
  },
  {
   "cell_type": "code",
   "execution_count": 163,
   "id": "55cd8f9d-d681-4a8f-951c-078e2c12384f",
   "metadata": {},
   "outputs": [
    {
     "data": {
      "text/plain": [
       "'Thread-26 (func2)'"
      ]
     },
     "execution_count": 163,
     "metadata": {},
     "output_type": "execute_result"
    }
   ],
   "source": [
    "thread1.name"
   ]
  },
  {
   "cell_type": "code",
   "execution_count": 164,
   "id": "10ab5581-d2a9-4538-bbee-83ee4f274af5",
   "metadata": {},
   "outputs": [],
   "source": [
    "thread1.join()\n",
    "thread2.join()"
   ]
  },
  {
   "cell_type": "markdown",
   "id": "68d773b2-0f72-4da5-901e-c96711afa227",
   "metadata": {},
   "source": [
    "## Multi Processing"
   ]
  },
  {
   "cell_type": "markdown",
   "id": "1eba9ac1-9b4c-43ff-bf83-1aa76ee5967f",
   "metadata": {},
   "source": [
    "Chess master Judit Polgár hosts a chess exhibition in which she plays multiple amateur players. She has two ways of conducting the exhibition: synchronously and asynchronously.\n",
    "\n",
    "Assumptions:\n",
    "\n",
    "24 opponents\n",
    "Judit makes each chess move in 5 seconds\n",
    "Opponents each take 55 seconds to make a move\n",
    "Games average 30 pair-moves (60 moves total)\n",
    "Synchronous version: Judit plays one game at a time, never two at the same time, until the game is complete. Each game takes (55 + 5) * 30 == 1800 seconds, or 30 minutes. The entire exhibition takes 24 * 30 == 720 minutes, or 12 hours.\n",
    "\n",
    "Asynchronous version: Judit moves from table to table, making one move at each table. She leaves the table and lets the opponent make their next move during the wait time. One move on all 24 games takes Judit 24 * 5 == 120 seconds, or 2 minutes. The entire exhibition is now cut down to 120 * 30 == 3600 seconds, or just 1 hour"
   ]
  },
  {
   "cell_type": "code",
   "execution_count": 11,
   "id": "9f91303b-0d34-4b49-b342-ff9e5554c3bd",
   "metadata": {},
   "outputs": [],
   "source": [
    "import multiprocessing as mp"
   ]
  },
  {
   "cell_type": "code",
   "execution_count": 12,
   "id": "97a76cd1-9f83-416a-837c-1305761983a0",
   "metadata": {},
   "outputs": [],
   "source": [
    "def square(n: int) -> int:\n",
    "    return n**2"
   ]
  },
  {
   "cell_type": "code",
   "execution_count": 13,
   "id": "105ba10c-bd88-4024-a94a-b51c2064254d",
   "metadata": {},
   "outputs": [],
   "source": [
    "p1 = mp.Process(target = square, args =(2,))\n",
    "p2 = mp.Process(target = square, args = (4,))"
   ]
  },
  {
   "cell_type": "code",
   "execution_count": 14,
   "id": "9a08a6cb-a098-4ac3-9e33-c663f697e231",
   "metadata": {},
   "outputs": [],
   "source": [
    "p1.start()\n",
    "p2.start()"
   ]
  },
  {
   "cell_type": "code",
   "execution_count": 15,
   "id": "4378674d-c363-41cb-9421-9b65e4f4a941",
   "metadata": {},
   "outputs": [],
   "source": [
    "p1.join()\n",
    "p2.join()"
   ]
  },
  {
   "cell_type": "code",
   "execution_count": 16,
   "id": "9547af39-7620-4638-a27b-09f1acd9943e",
   "metadata": {},
   "outputs": [
    {
     "name": "stdout",
     "output_type": "stream",
     "text": [
      "3996\n",
      "10508\n"
     ]
    }
   ],
   "source": [
    "print(p1.pid)\n",
    "print(p2.pid)"
   ]
  }
 ],
 "metadata": {
  "kernelspec": {
   "display_name": "Python 3 (ipykernel)",
   "language": "python",
   "name": "python3"
  },
  "language_info": {
   "codemirror_mode": {
    "name": "ipython",
    "version": 3
   },
   "file_extension": ".py",
   "mimetype": "text/x-python",
   "name": "python",
   "nbconvert_exporter": "python",
   "pygments_lexer": "ipython3",
   "version": "3.11.4"
  }
 },
 "nbformat": 4,
 "nbformat_minor": 5
}
