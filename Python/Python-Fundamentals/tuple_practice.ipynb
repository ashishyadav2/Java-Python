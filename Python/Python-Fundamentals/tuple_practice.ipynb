{
 "cells": [
  {
   "cell_type": "markdown",
   "id": "5dbda04f",
   "metadata": {},
   "source": [
    "# Exercise 1: Reverse the tuple"
   ]
  },
  {
   "cell_type": "code",
   "execution_count": 2,
   "id": "b5acd405",
   "metadata": {},
   "outputs": [],
   "source": [
    "tuple1 = (10, 20, 30, 40, 50)\n",
    "\n",
    "lst = list(tuple1)\n",
    "lst.reverse()\n",
    "tuple1 = tuple(lst)\n",
    "print(tuple1)"
   ]
  },
  {
   "cell_type": "markdown",
   "id": "ee4ee2a0",
   "metadata": {},
   "source": [
    "# Exercise 2: Access value 20 from the tuple"
   ]
  },
  {
   "cell_type": "code",
   "execution_count": 6,
   "id": "695f9ad7",
   "metadata": {},
   "outputs": [
    {
     "name": "stdout",
     "output_type": "stream",
     "text": [
      "20\n"
     ]
    }
   ],
   "source": [
    "tuple1 = (\"Orange\", [10, 20, 30], (5, 15, 25))\n",
    "\n",
    "print(tuple1[1][1])"
   ]
  },
  {
   "cell_type": "markdown",
   "id": "27e8ff27",
   "metadata": {},
   "source": [
    "# Exercise 3: Create a tuple with single item 50"
   ]
  },
  {
   "cell_type": "code",
   "execution_count": 13,
   "id": "ed063321",
   "metadata": {},
   "outputs": [
    {
     "name": "stdout",
     "output_type": "stream",
     "text": [
      "<class 'tuple'>\n"
     ]
    }
   ],
   "source": [
    "lst = [50]\n",
    "tuple1 = tuple(lst)\n",
    "print(type(tuple1))"
   ]
  },
  {
   "cell_type": "markdown",
   "id": "52785080",
   "metadata": {},
   "source": [
    "# Exercise 4: Unpack the tuple into 4 variables"
   ]
  },
  {
   "cell_type": "code",
   "execution_count": 14,
   "id": "bd0a3681",
   "metadata": {},
   "outputs": [
    {
     "name": "stdout",
     "output_type": "stream",
     "text": [
      "10 20 30 40\n"
     ]
    }
   ],
   "source": [
    "tuple1 = (10, 20, 30, 40)\n",
    "\n",
    "a, b, c, d = tuple1\n",
    "print(a,b,c,d)"
   ]
  },
  {
   "cell_type": "markdown",
   "id": "145247c4",
   "metadata": {},
   "source": [
    "# Exercise 5: Swap two tuples in Python"
   ]
  },
  {
   "cell_type": "code",
   "execution_count": 15,
   "id": "15d97e52",
   "metadata": {},
   "outputs": [
    {
     "name": "stdout",
     "output_type": "stream",
     "text": [
      "(99, 88)\n",
      "(11, 22)\n"
     ]
    }
   ],
   "source": [
    "tuple1 = (11, 22)\n",
    "tuple2 = (99, 88)\n",
    "\n",
    "temp = tuple1\n",
    "tuple1 = tuple2\n",
    "tuple2 = temp\n",
    "print(tuple1)\n",
    "print(tuple2)"
   ]
  },
  {
   "cell_type": "markdown",
   "id": "a54bca7f",
   "metadata": {},
   "source": [
    "# Exercise 6: Copy specific elements from one tuple to a new tuple"
   ]
  },
  {
   "cell_type": "code",
   "execution_count": 20,
   "id": "d59f7863",
   "metadata": {},
   "outputs": [
    {
     "name": "stdout",
     "output_type": "stream",
     "text": [
      "(44, 55)\n"
     ]
    }
   ],
   "source": [
    "tuple1 = (11, 22, 33, 44, 55, 66)\n",
    "\n",
    "tuple2 = tuple1[3:5]\n",
    "print(tuple2)"
   ]
  },
  {
   "cell_type": "markdown",
   "id": "694dbf41",
   "metadata": {},
   "source": [
    "# Exercise 7: Modify the tuple"
   ]
  },
  {
   "cell_type": "code",
   "execution_count": 21,
   "id": "5ca1dfd8",
   "metadata": {},
   "outputs": [
    {
     "name": "stdout",
     "output_type": "stream",
     "text": [
      "(11, [222, 33], 44, 55)\n"
     ]
    }
   ],
   "source": [
    "tuple1 = (11, [22, 33], 44, 55)\n",
    "\n",
    "lst = list(tuple1)\n",
    "lst[1][0] = 222\n",
    "tuple1 = tuple(lst)\n",
    "print(tuple1)"
   ]
  },
  {
   "cell_type": "markdown",
   "id": "3bd33fbc",
   "metadata": {},
   "source": [
    "# Exercise 8: Sort a tuple of tuples by 2nd item"
   ]
  },
  {
   "cell_type": "code",
   "execution_count": 32,
   "id": "d110400e",
   "metadata": {},
   "outputs": [
    {
     "name": "stdout",
     "output_type": "stream",
     "text": [
      "[['a', 23], ['b', 37], ['c', 11], ['d', 29]]\n",
      "(['a', 11], ['b', 23], ['c', 29], ['d', 37])\n"
     ]
    }
   ],
   "source": [
    "tuple1 = (('a', 23),('b', 37),('c', 11), ('d',29))\n",
    "\n",
    "lst = []\n",
    "for i in range(len(tuple1)):\n",
    "    lst.append(list(tuple1[i]))\n",
    "print(lst)\n",
    "\n",
    "for i in range(len(lst)):\n",
    "    for j in range(len(lst)-i-1):\n",
    "        if lst[j][1]>lst[j+1][1]:\n",
    "            temp = lst[j][1]\n",
    "            lst[j][1] = lst[j+1][1]\n",
    "            lst[j+1][1] = temp\n",
    "            \n",
    "tuple1 = tuple(lst)\n",
    "print(tuple1)            "
   ]
  },
  {
   "cell_type": "markdown",
   "id": "b1473fac",
   "metadata": {},
   "source": [
    "# Exercise 9: Counts the number of occurrences of item 50 from a tuple"
   ]
  },
  {
   "cell_type": "code",
   "execution_count": 33,
   "id": "c4e38822",
   "metadata": {},
   "outputs": [
    {
     "name": "stdout",
     "output_type": "stream",
     "text": [
      "2\n"
     ]
    }
   ],
   "source": [
    "tuple1 = (50, 10, 60, 70, 50)\n",
    "\n",
    "print(tuple1.count(50))"
   ]
  },
  {
   "cell_type": "markdown",
   "id": "09e57ee4",
   "metadata": {},
   "source": [
    "# Exercise 10: Check if all items in the tuple are the same"
   ]
  },
  {
   "cell_type": "code",
   "execution_count": 35,
   "id": "8f69f027",
   "metadata": {},
   "outputs": [
    {
     "name": "stdout",
     "output_type": "stream",
     "text": [
      "True\n"
     ]
    }
   ],
   "source": [
    "tuple1 = (45, 45, 45, 45)\n",
    "\n",
    "count = tuple1.count(tuple1[0])\n",
    "if count==len(tuple1):\n",
    "    print(True)\n",
    "else:\n",
    "    print(False)"
   ]
  },
  {
   "cell_type": "code",
   "execution_count": null,
   "id": "926374f5",
   "metadata": {},
   "outputs": [],
   "source": []
  }
 ],
 "metadata": {
  "kernelspec": {
   "display_name": "Python 3 (ipykernel)",
   "language": "python",
   "name": "python3"
  },
  "language_info": {
   "codemirror_mode": {
    "name": "ipython",
    "version": 3
   },
   "file_extension": ".py",
   "mimetype": "text/x-python",
   "name": "python",
   "nbconvert_exporter": "python",
   "pygments_lexer": "ipython3",
   "version": "3.10.2"
  }
 },
 "nbformat": 4,
 "nbformat_minor": 5
}
