{
 "cells": [
  {
   "cell_type": "code",
   "execution_count": 1,
   "metadata": {},
   "outputs": [],
   "source": [
    "n = 5"
   ]
  },
  {
   "cell_type": "markdown",
   "metadata": {},
   "source": [
    "**1:**\n",
    "![image](https://takeuforward.org/wp-content/uploads/2022/08/P1.png)"
   ]
  },
  {
   "cell_type": "code",
   "execution_count": 2,
   "metadata": {},
   "outputs": [
    {
     "name": "stdout",
     "output_type": "stream",
     "text": [
      "*****\n",
      "*****\n",
      "*****\n",
      "*****\n",
      "*****\n"
     ]
    }
   ],
   "source": [
    "for i in range(n):\n",
    "    for j in range(n):\n",
    "        print('*',end=\"\")\n",
    "    print()"
   ]
  },
  {
   "cell_type": "markdown",
   "metadata": {},
   "source": [
    "**2:**\n",
    "![image](https://takeuforward.org/wp-content/uploads/2022/08/P2.png)"
   ]
  },
  {
   "cell_type": "code",
   "execution_count": 3,
   "metadata": {},
   "outputs": [
    {
     "name": "stdout",
     "output_type": "stream",
     "text": [
      "*\n",
      "**\n",
      "***\n",
      "****\n",
      "*****\n"
     ]
    }
   ],
   "source": [
    "for i in range(n):\n",
    "    for j in range(i+1):\n",
    "        print('*',end='')\n",
    "    print()"
   ]
  },
  {
   "cell_type": "markdown",
   "metadata": {},
   "source": [
    "**3:**\n",
    "![image](https://takeuforward.org/wp-content/uploads/2022/08/P3.png)"
   ]
  },
  {
   "cell_type": "code",
   "execution_count": 4,
   "metadata": {},
   "outputs": [
    {
     "name": "stdout",
     "output_type": "stream",
     "text": [
      "1\n",
      "12\n",
      "123\n",
      "1234\n",
      "12345\n"
     ]
    }
   ],
   "source": [
    "for i in range(n):\n",
    "    for j in range(i+1):\n",
    "        print(j+1,end='')\n",
    "    print()"
   ]
  },
  {
   "cell_type": "markdown",
   "metadata": {},
   "source": [
    "**4:**\n",
    "![image](https://takeuforward.org/wp-content/uploads/2022/08/P4.png)"
   ]
  },
  {
   "cell_type": "code",
   "execution_count": 5,
   "metadata": {},
   "outputs": [
    {
     "name": "stdout",
     "output_type": "stream",
     "text": [
      "1\n",
      "22\n",
      "333\n",
      "4444\n",
      "55555\n"
     ]
    }
   ],
   "source": [
    "for i in range(n):\n",
    "    for j in range(i+1):\n",
    "        print(i+1,end='')\n",
    "    print()"
   ]
  },
  {
   "cell_type": "markdown",
   "metadata": {},
   "source": [
    "**5:**\n",
    "![image](https://takeuforward.org/wp-content/uploads/2022/08/P5.png)"
   ]
  },
  {
   "cell_type": "code",
   "execution_count": 6,
   "metadata": {},
   "outputs": [
    {
     "name": "stdout",
     "output_type": "stream",
     "text": [
      "*****\n",
      "****\n",
      "***\n",
      "**\n",
      "*\n"
     ]
    }
   ],
   "source": [
    "for i in range(n):\n",
    "    for j in range(n-i):\n",
    "        print('*',end='')\n",
    "    print()"
   ]
  },
  {
   "cell_type": "markdown",
   "metadata": {},
   "source": [
    "**6:**\n",
    "![image](https://takeuforward.org/wp-content/uploads/2022/08/P6.png)"
   ]
  },
  {
   "cell_type": "code",
   "execution_count": 7,
   "metadata": {},
   "outputs": [
    {
     "name": "stdout",
     "output_type": "stream",
     "text": [
      "12345\n",
      "1234\n",
      "123\n",
      "12\n",
      "1\n"
     ]
    }
   ],
   "source": [
    "for i in range(n):\n",
    "    for j in range(n-i):\n",
    "        print(j+1,end='')\n",
    "    print()"
   ]
  },
  {
   "cell_type": "code",
   "execution_count": 8,
   "metadata": {},
   "outputs": [
    {
     "name": "stdout",
     "output_type": "stream",
     "text": [
      "          *           \n",
      "        * * *         \n",
      "      * * * * *       \n",
      "    * * * * * * *     \n",
      "  * * * * * * * * *   \n"
     ]
    }
   ],
   "source": [
    "for i in range(1,n+1):\n",
    "    for j in range(n-i+1):\n",
    "        print(' ',end=' ')\n",
    "    for j in range(i*2-1):\n",
    "        print('*',end=' ')\n",
    "    for j in range(n-i+1):\n",
    "        print(' ',end=' ')\n",
    "    print()"
   ]
  },
  {
   "cell_type": "markdown",
   "metadata": {},
   "source": [
    "**8:**\n",
    "![image](https://takeuforward.org/wp-content/uploads/2022/08/P8.png)"
   ]
  },
  {
   "cell_type": "code",
   "execution_count": 9,
   "metadata": {},
   "outputs": [
    {
     "name": "stdout",
     "output_type": "stream",
     "text": [
      "  * * * * * * * * *   \n",
      "    * * * * * * *     \n",
      "      * * * * *       \n",
      "        * * *         \n",
      "          *           \n"
     ]
    }
   ],
   "source": [
    "for i in range(n,0,-1):\n",
    "    for j in range(n-i+1):\n",
    "        print(' ',end=' ')\n",
    "    for j in range(i*2-1):\n",
    "        print('*',end=' ')\n",
    "    for j in range(n-i+1):\n",
    "        print(' ',end=' ')\n",
    "    print()"
   ]
  },
  {
   "cell_type": "markdown",
   "metadata": {},
   "source": [
    "**9:**\n",
    "![image](https://takeuforward.org/wp-content/uploads/2022/08/P9.png)"
   ]
  },
  {
   "cell_type": "code",
   "execution_count": 10,
   "metadata": {},
   "outputs": [
    {
     "name": "stdout",
     "output_type": "stream",
     "text": [
      "          *           \n",
      "        * * *         \n",
      "      * * * * *       \n",
      "    * * * * * * *     \n",
      "  * * * * * * * * *   \n",
      "  * * * * * * * * *   \n",
      "    * * * * * * *     \n",
      "      * * * * *       \n",
      "        * * *         \n",
      "          *           \n"
     ]
    }
   ],
   "source": [
    "for i in range(1,n*2+1):\n",
    "    if i<=n:\n",
    "        for j in range(n-i+1):\n",
    "            print(' ',end=' ')\n",
    "        for j in range(i*2-1):\n",
    "            print('*',end=' ')    \n",
    "        for j in range(n-i+1):\n",
    "            print(' ',end=' ')      \n",
    "        print()\n",
    "    else:\n",
    "        for j in range(i-n):\n",
    "            print(' ',end=' ')\n",
    "        for j in range(2*(n*2-i+1)-1):\n",
    "            print('*',end=' ')    \n",
    "        for j in range(i-n):\n",
    "            print(' ',end=' ')      \n",
    "        print()"
   ]
  },
  {
   "cell_type": "markdown",
   "metadata": {},
   "source": [
    "**10:**\n",
    "![image](https://takeuforward.org/wp-content/uploads/2022/08/P10.png)"
   ]
  },
  {
   "cell_type": "code",
   "execution_count": 11,
   "metadata": {},
   "outputs": [
    {
     "name": "stdout",
     "output_type": "stream",
     "text": [
      "* \n",
      "* * \n",
      "* * * \n",
      "* * * * \n",
      "* * * * * \n",
      "* * * * \n",
      "* * * \n",
      "* * \n",
      "* \n",
      "\n"
     ]
    }
   ],
   "source": [
    "for i in range(1,n*2+1):\n",
    "    if i<=n:\n",
    "        for j in range(i):\n",
    "            print('*',end=' ')\n",
    "    else:\n",
    "        for j in range(n*2-i):\n",
    "            print('*',end=' ')\n",
    "    print()"
   ]
  },
  {
   "cell_type": "markdown",
   "metadata": {},
   "source": [
    "**11:**\n",
    "![image](https://takeuforward.org/wp-content/uploads/2022/08/P11.png)"
   ]
  },
  {
   "cell_type": "code",
   "execution_count": 12,
   "metadata": {},
   "outputs": [
    {
     "name": "stdout",
     "output_type": "stream",
     "text": [
      "1 \n",
      "0 1 \n",
      "1 0 1 \n",
      "0 1 0 1 \n",
      "1 0 1 0 1 \n"
     ]
    }
   ],
   "source": [
    "for i in range(1,n+1):\n",
    "    for j in range(i):\n",
    "        if (i+j)%2==1:\n",
    "            print(1,end=' ')\n",
    "        else:\n",
    "            print(0,end=' ')\n",
    "    print()"
   ]
  },
  {
   "cell_type": "markdown",
   "metadata": {},
   "source": [
    "**12:**\n",
    "![image](https://takeuforward.org/wp-content/uploads/2022/08/P12.png)"
   ]
  },
  {
   "cell_type": "code",
   "execution_count": 13,
   "metadata": {},
   "outputs": [
    {
     "name": "stdout",
     "output_type": "stream",
     "text": [
      "1             1 \n",
      "1 2         2 1 \n",
      "1 2 3     3 2 1 \n",
      "1 2 3 4 4 3 2 1 \n"
     ]
    }
   ],
   "source": [
    "for i in range(1,n):\n",
    "    for j in range(1,i+1):\n",
    "        print(j,end=' ')\n",
    "    for j in range(n-i-1):\n",
    "        print(' ',end=' ')\n",
    "    for j in range(n-i-1):\n",
    "        print(' ',end=' ')\n",
    "    for j in range(i,0,-1):\n",
    "        print(j,end=' ')        \n",
    "    print()"
   ]
  },
  {
   "cell_type": "markdown",
   "metadata": {},
   "source": [
    "**14:**\n",
    "![image](https://takeuforward.org/wp-content/uploads/2022/08/P13.png)"
   ]
  },
  {
   "cell_type": "code",
   "execution_count": 14,
   "metadata": {},
   "outputs": [
    {
     "name": "stdout",
     "output_type": "stream",
     "text": [
      "1 \n",
      "2 3 \n",
      "4 5 6 \n",
      "7 8 9 10 \n",
      "11 12 13 14 15 \n"
     ]
    }
   ],
   "source": [
    "num = 1\n",
    "for i in range(1,n+1):\n",
    "    for j in range(1,i+1):\n",
    "        print(num,end=' ')\n",
    "        num += 1\n",
    "    print()"
   ]
  },
  {
   "cell_type": "markdown",
   "metadata": {},
   "source": [
    "**15:**\n",
    "![image](https://takeuforward.org/wp-content/uploads/2022/08/P14.png)"
   ]
  },
  {
   "cell_type": "code",
   "execution_count": 15,
   "metadata": {},
   "outputs": [
    {
     "name": "stdout",
     "output_type": "stream",
     "text": [
      "A \n",
      "A B \n",
      "A B C \n",
      "A B C D \n",
      "A B C D E \n"
     ]
    }
   ],
   "source": [
    "for i in range(n):\n",
    "    for j in range(i+1):\n",
    "        print(chr(65+j),end=' ')\n",
    "    print()"
   ]
  },
  {
   "cell_type": "markdown",
   "metadata": {},
   "source": [
    "**16:**\n",
    "![image](https://takeuforward.org/wp-content/uploads/2022/08/P16.png)"
   ]
  },
  {
   "cell_type": "code",
   "execution_count": 16,
   "metadata": {},
   "outputs": [
    {
     "name": "stdout",
     "output_type": "stream",
     "text": [
      "A \n",
      "B B \n",
      "C C C \n",
      "D D D D \n",
      "E E E E E \n"
     ]
    }
   ],
   "source": [
    "for i in range(n):\n",
    "    for j in range(i+1):\n",
    "        print(chr(65+i),end=' ')\n",
    "    print()"
   ]
  },
  {
   "cell_type": "markdown",
   "metadata": {},
   "source": [
    "**17:**\n",
    "![image](https://takeuforward.org/wp-content/uploads/2022/08/P17.png)"
   ]
  },
  {
   "cell_type": "code",
   "execution_count": 17,
   "metadata": {},
   "outputs": [
    {
     "name": "stdout",
     "output_type": "stream",
     "text": [
      "        A         \n",
      "      A B A       \n",
      "    A B C B A     \n",
      "  A B C D C B A   \n"
     ]
    }
   ],
   "source": [
    "for i in range(n-1):\n",
    "    for j in range(n-1-i):\n",
    "        print(' ',end=' ')\n",
    "    breakpoint = (2*i+1)//2\n",
    "    for j in range((i+1)*2-1):\n",
    "        if j<=breakpoint:\n",
    "            print(chr(65+j),end=' ')\n",
    "        else:\n",
    "            print(chr(65+2*breakpoint-j),end=' ')\n",
    "    for j in range(n-1-i):\n",
    "        print(' ',end=' ')\n",
    "    print()"
   ]
  },
  {
   "cell_type": "markdown",
   "metadata": {},
   "source": [
    "**18:**\n",
    "![image](https://takeuforward.org/wp-content/uploads/2022/08/P18.png)"
   ]
  },
  {
   "cell_type": "code",
   "execution_count": 18,
   "metadata": {},
   "outputs": [
    {
     "name": "stdout",
     "output_type": "stream",
     "text": [
      "E \n",
      "D E \n",
      "C D E \n",
      "B C D E \n",
      "A B C D E \n"
     ]
    }
   ],
   "source": [
    "for i in range(1,n+1):\n",
    "    for j in range(n-i,n):\n",
    "        print(chr(65+j),end=' ')\n",
    "    print()"
   ]
  },
  {
   "cell_type": "markdown",
   "metadata": {},
   "source": [
    "**19:**\n",
    "![image](https://takeuforward.org/wp-content/uploads/2022/08/P19.png)"
   ]
  },
  {
   "cell_type": "code",
   "execution_count": 19,
   "metadata": {},
   "outputs": [
    {
     "name": "stdout",
     "output_type": "stream",
     "text": [
      "* * * * * * * * * * \n",
      "* * * *     * * * * \n",
      "* * *         * * * \n",
      "* *             * * \n",
      "*                 * \n",
      "*                 * \n",
      "* *             * * \n",
      "* * *         * * * \n",
      "* * * *     * * * * \n",
      "* * * * * * * * * * \n"
     ]
    }
   ],
   "source": [
    "for i in range(0,n*2):\n",
    "    if i<n:\n",
    "        for j in range(n-i):\n",
    "            print('*',end=' ')\n",
    "        for j in range(i*2):\n",
    "            print(' ',end=' ')\n",
    "        for j in range(n-i):\n",
    "            print('*',end=' ')\n",
    "    else:\n",
    "        for j in range(i-n+1):\n",
    "            print('*',end=' ')\n",
    "        for j in range(2*(n*2-i)-2):\n",
    "            print(' ',end=' ')\n",
    "        for j in range(i-n+1):\n",
    "            print('*',end=' ')        \n",
    "    print()"
   ]
  },
  {
   "cell_type": "markdown",
   "metadata": {},
   "source": [
    "**20:**\n",
    "![image](https://takeuforward.org/wp-content/uploads/2022/08/P20.png)"
   ]
  },
  {
   "cell_type": "code",
   "execution_count": 20,
   "metadata": {},
   "outputs": [
    {
     "name": "stdout",
     "output_type": "stream",
     "text": [
      "*                 * \n",
      "* *             * * \n",
      "* * *         * * * \n",
      "* * * *     * * * * \n",
      "* * * * * * * * * * \n",
      "* * * *     * * * * \n",
      "* * *         * * * \n",
      "* *             * * \n",
      "*                 * \n"
     ]
    }
   ],
   "source": [
    "for i in range(1,n*2):\n",
    "    if i<=n:\n",
    "        for j in range(i):\n",
    "            print('*',end=' ')\n",
    "        for j in range(2*(n-i)):\n",
    "            print(' ',end=' ')\n",
    "        for j in range(i):\n",
    "            print('*',end=' ')\n",
    "    else:\n",
    "        for j in range(n*2-i):\n",
    "            print('*',end=' ')\n",
    "        for j in range(2*(i-n)):\n",
    "            print(' ',end=' ')\n",
    "        for j in range(n*2-i):\n",
    "            print('*',end=' ')\n",
    "    print()"
   ]
  },
  {
   "cell_type": "markdown",
   "metadata": {},
   "source": [
    "**21:**\n",
    "![image](https://takeuforward.org/wp-content/uploads/2023/01/Screenshot-2023-01-02-at-1.54.55-PM-1.jpg)"
   ]
  },
  {
   "cell_type": "code",
   "execution_count": 21,
   "metadata": {},
   "outputs": [
    {
     "name": "stdout",
     "output_type": "stream",
     "text": [
      "* * * * * \n",
      "*       * \n",
      "*       * \n",
      "*       * \n",
      "* * * * * \n"
     ]
    }
   ],
   "source": [
    "for i in range(n):\n",
    "    if i==0 or i==n-1:\n",
    "        for j in range(n):\n",
    "            print('*',end=' ')\n",
    "    else:\n",
    "        print('*',end=' ')\n",
    "        for j in range(n-2):\n",
    "            print(' ',end=' ')\n",
    "        print('*',end=' ')\n",
    "    print()"
   ]
  },
  {
   "cell_type": "markdown",
   "metadata": {},
   "source": [
    "**22:**\n",
    "![image](https://takeuforward.org/wp-content/uploads/2022/08/P22.png)"
   ]
  },
  {
   "cell_type": "code",
   "execution_count": 22,
   "metadata": {},
   "outputs": [
    {
     "name": "stdout",
     "output_type": "stream",
     "text": [
      "5 5 5 5 5 5 5 5 5\n",
      "5 4 4 4 4 4 4 4 5\n",
      "5 4 3 3 3 3 3 4 5\n",
      "5 4 3 2 2 2 3 4 5\n",
      "5 4 3 2 1 2 3 4 5\n",
      "5 4 3 2 2 2 3 4 5\n",
      "5 4 3 3 3 3 3 4 5\n",
      "5 4 4 4 4 4 4 4 5\n",
      "5 5 5 5 5 5 5 5 5\n"
     ]
    }
   ],
   "source": [
    "pattern = [[-1 for _ in range(2*n-1)] for _ in range(2*n-1)]\n",
    "for i in range(2*n-1):\n",
    "    for j in range(2*n-1):\n",
    "        pattern[i][j] = str(max(abs(i-(n-1)),abs(j-(n-1)))+1)\n",
    "for row in pattern:\n",
    "    print(' '.join(row))"
   ]
  },
  {
   "cell_type": "markdown",
   "metadata": {},
   "source": [
    "**23:**\n",
    "![image](https://takeuforward.org/wp-content/uploads/2022/08/P15.png)"
   ]
  },
  {
   "cell_type": "code",
   "execution_count": 23,
   "metadata": {},
   "outputs": [
    {
     "name": "stdout",
     "output_type": "stream",
     "text": [
      "A B C D E \n",
      "A B C D \n",
      "A B C \n",
      "A B \n",
      "A \n"
     ]
    }
   ],
   "source": [
    "for i in range(n):\n",
    "    for j in range(n-i):\n",
    "        print(chr(65+j),end=' ')\n",
    "    print()"
   ]
  },
  {
   "cell_type": "code",
   "execution_count": null,
   "metadata": {},
   "outputs": [],
   "source": []
  }
 ],
 "metadata": {
  "kernelspec": {
   "display_name": "Python 3",
   "language": "python",
   "name": "python3"
  },
  "language_info": {
   "codemirror_mode": {
    "name": "ipython",
    "version": 3
   },
   "file_extension": ".py",
   "mimetype": "text/x-python",
   "name": "python",
   "nbconvert_exporter": "python",
   "pygments_lexer": "ipython3",
   "version": "3.11.4"
  },
  "orig_nbformat": 4
 },
 "nbformat": 4,
 "nbformat_minor": 2
}
