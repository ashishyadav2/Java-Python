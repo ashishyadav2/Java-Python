{
 "cells": [
  {
   "cell_type": "code",
   "execution_count": 1,
   "metadata": {},
   "outputs": [
    {
     "name": "stdout",
     "output_type": "stream",
     "text": [
      "[9, 2]\n"
     ]
    }
   ],
   "source": [
    "import sys\n",
    "def getSecondOrderElements(n: int,  a: [int]) -> [int]:\n",
    "    # Write your code here.\n",
    "    prev_maxi =  int(-1e9)\n",
    "    prev_mini =  int(1e9)\n",
    "    maxi = int(-1e9)\n",
    "    mini = int(1e9)\n",
    "\n",
    "    for num in a:\n",
    "        if num>=maxi:\n",
    "            prev_maxi = maxi\n",
    "            maxi = num\n",
    "        elif num> prev_maxi:\n",
    "            prev_maxi = num\n",
    "        if num<mini:\n",
    "            prev_mini = mini\n",
    "            mini = num\n",
    "        elif num < prev_mini:\n",
    "            prev_mini = num\n",
    "    return [prev_maxi,prev_mini]\n",
    "a = [1,2,3,4,5,6,7,8,9,10]\n",
    "print(getSecondOrderElements(len(a),a))"
   ]
  },
  {
   "cell_type": "code",
   "execution_count": 2,
   "metadata": {},
   "outputs": [
    {
     "name": "stdout",
     "output_type": "stream",
     "text": [
      "[1, 3, 12, 0, 0]\n"
     ]
    }
   ],
   "source": [
    "from typing import List\n",
    "def moveZeroes(nums: List[int]) -> None:\n",
    "    \"\"\"\n",
    "    Do not return anything, modify nums in-place instead.\n",
    "    \"\"\"\n",
    "    count = 0\n",
    "    for ind,num in enumerate(nums):\n",
    "        if num!=0:\n",
    "            nums[count] = num\n",
    "            count+=1\n",
    "    for i in range(count,len(nums)):\n",
    "        nums[i] = 0\n",
    "    print(nums)\n",
    "moveZeroes(nums = [0,1,0,3,12])"
   ]
  },
  {
   "cell_type": "code",
   "execution_count": 3,
   "metadata": {},
   "outputs": [
    {
     "name": "stdout",
     "output_type": "stream",
     "text": [
      "1\n"
     ]
    }
   ],
   "source": [
    "def removeDuplicates(nums: List[int]) -> int:\n",
    "    count  = 0\n",
    "    if len(nums)<=2:\n",
    "        return 1\n",
    "    for ind in range(len(nums)):\n",
    "        if nums[ind]==nums[ind-1]:\n",
    "            continue\n",
    "        nums[count] = nums[ind]\n",
    "        count+=1\n",
    "    return count\n",
    "# nums = [0,0,1,1,1,2,2,3,3,4]\n",
    "# nums = [1]\n",
    "nums = [1,1]\n",
    "print(removeDuplicates(nums))"
   ]
  },
  {
   "cell_type": "code",
   "execution_count": 4,
   "metadata": {},
   "outputs": [
    {
     "name": "stdout",
     "output_type": "stream",
     "text": [
      "[-1, 1, 2, 3, 3]\n"
     ]
    }
   ],
   "source": [
    "from typing import List,Optional\n",
    "class Solution:\n",
    "    def solve(self,a,b):\n",
    "        i = 0\n",
    "        j = 0\n",
    "        m = len(a)\n",
    "        n = len(b)\n",
    "        ans = [-1]\n",
    "        while i<m and j<n:\n",
    "            if a[i]<b[j] and a[i]!=ans[-1]:\n",
    "                ans.append(a[i])\n",
    "                i+=1\n",
    "            elif a[i]>b[j] and b[j]!=ans[-1]:\n",
    "                ans.append(b[j])\n",
    "                j+=1\n",
    "            else:\n",
    "                ans.append(a[i])\n",
    "                i+=1\n",
    "                j+=1\n",
    "        while i<m:\n",
    "            ans.append(a[i])\n",
    "            i+=1\n",
    "        while j<n:\n",
    "            ans.append(b[j])\n",
    "            j+=1\n",
    "        return ans\n",
    "    \n",
    "if __name__ =='__main__':\n",
    "    obj = Solution()\n",
    "    a = [1,2,3,3]\n",
    "    b = [2,2,4]\n",
    "    ans = obj.solve(a,b)\n",
    "    print(ans)"
   ]
  },
  {
   "cell_type": "code",
   "execution_count": 5,
   "metadata": {},
   "outputs": [
    {
     "name": "stdout",
     "output_type": "stream",
     "text": [
      "[4, 4, 5, 21, 25, 30, 32, 35, 44, 45, 56, 59, 69, 86, 88, 89, 95, 98, 454]\n",
      "[4, 4, 5, 21, 25, 30, 32, 35, 44, 45, 56, 59, 69, 86, 88, 89, 95, 98, 454]\n",
      "[4, 4, 5, 21, 25, 30, 32, 35, 44, 45, 56, 59, 69, 86, 88, 89, 95, 98, 454]\n",
      "[4, 4, 5, 21, 25, 30, 32, 35, 44, 45, 56, 59, 69, 86, 88, 89, 95, 98, 454]\n",
      "[4, 4, 5, 21, 25, 30, 32, 35, 44, 45, 56, 59, 69, 86, 88, 89, 95, 98, 454]\n"
     ]
    }
   ],
   "source": [
    "class Arrays:\n",
    "    def bubble_sort(self,nums):\n",
    "        arr = nums.copy()\n",
    "        n = len(arr)\n",
    "        for i in range(n):\n",
    "            for j in range(n-1-i):\n",
    "                if arr[j]>arr[j+1]:\n",
    "                    arr[j],arr[j+1] = arr[j+1],arr[j]\n",
    "        return arr\n",
    "    \n",
    "    def quick_sort(self,nums,start,end):\n",
    "        if start<end:\n",
    "            pivot = self._quick_helper(nums,start,end)\n",
    "            self.quick_sort(nums,start,pivot-1)\n",
    "            self.quick_sort(nums,pivot+1,end)\n",
    "        return nums\n",
    "    \n",
    "    def _quick_helper(self,nums,start,end):\n",
    "        pivot = nums[start]\n",
    "        p = start+1\n",
    "        q = end\n",
    "        while p<=q:\n",
    "            while p<=q and nums[p]<=pivot:\n",
    "                p+=1\n",
    "            while p<=q and nums[q]>=pivot:\n",
    "                q-=1\n",
    "            if p<q:\n",
    "                nums[p],nums[q]=nums[q],nums[p]\n",
    "        nums[q],nums[start]=nums[start],nums[q]\n",
    "        return q\n",
    "    \n",
    "    def selection_sort(self,nums):\n",
    "        arr = nums.copy()\n",
    "        n = len(arr)\n",
    "        for i in range(n):\n",
    "            mini = i\n",
    "            for j in range(i+1,n):\n",
    "                if arr[j]<arr[mini]:\n",
    "                    mini = j\n",
    "            arr[mini],arr[i]=arr[i],arr[mini]\n",
    "        return arr\n",
    "    \n",
    "    def insertion_sort(self,nums):\n",
    "        n = len(nums)\n",
    "        for i in range(1,n):\n",
    "            j = i-1\n",
    "            key = nums[i]\n",
    "            while j>=0 and nums[j]>key:\n",
    "                nums[j+1] = nums[j]\n",
    "                j-=1\n",
    "            nums[j+1] = key\n",
    "        return nums\n",
    "    \n",
    "    def merge_sort(self,nums):\n",
    "        if len(nums)<2:\n",
    "            return nums\n",
    "        mid = len(nums)//2\n",
    "        left = self.merge_sort(nums[:mid])\n",
    "        right = self.merge_sort(nums[mid:])\n",
    "        return self._merge_helper(left,right)\n",
    "    \n",
    "    def _merge_helper(self,left,right):\n",
    "        i = 0\n",
    "        j = 0\n",
    "        m = len(left)\n",
    "        n = len(right)\n",
    "        res = []\n",
    "        while i<m and j<n:\n",
    "            if left[i]<=right[j]:\n",
    "                res.append(left[i])\n",
    "                i+=1\n",
    "            else:\n",
    "                res.append(right[j])\n",
    "                j+=1\n",
    "        while i<m:\n",
    "            res.append(left[i])\n",
    "            i+=1\n",
    "        while j<n:\n",
    "            res.append(right[j])\n",
    "            j+=1\n",
    "        return res\n",
    "    \n",
    "if __name__ =='__main__':\n",
    "    obj = Arrays()\n",
    "    nums = [69,59,89,88,56,30,35,98,95,454,5,4,4,86,44,45,32,21,25]\n",
    "    n = len(nums)\n",
    "    print(obj.bubble_sort(nums))\n",
    "    print(obj.selection_sort(nums))\n",
    "    print(obj.merge_sort(nums))\n",
    "    print(obj.quick_sort(nums,0,n-1))\n",
    "    print(obj.insertion_sort(nums))"
   ]
  },
  {
   "cell_type": "code",
   "execution_count": 6,
   "metadata": {},
   "outputs": [
    {
     "data": {
      "text/plain": [
       "'th qck brwn fx jmps vr th lzy fx'"
      ]
     },
     "execution_count": 6,
     "metadata": {},
     "output_type": "execute_result"
    }
   ],
   "source": [
    "string = 'the quick brown fox jumps over the lazy fox'\n",
    "import re\n",
    "pattern = re.compile(r'[aieou]')\n",
    "new_string = re.sub(pattern,'',string)\n",
    "new_string"
   ]
  },
  {
   "cell_type": "code",
   "execution_count": 13,
   "metadata": {},
   "outputs": [
    {
     "data": {
      "text/plain": [
       "'the quickf brown fox jumps over the lazy fox'"
      ]
     },
     "execution_count": 13,
     "metadata": {},
     "output_type": "execute_result"
    }
   ],
   "source": [
    "string = 'the quickf6545/*/-+6466*!@#$%^&*()_+ brown fox jumps over the lazy fox'\n",
    "import re\n",
    "new_string = []\n",
    "for char in string:\n",
    "    if 'a'<=char<='z' or 'A'<=char<='Z' or char==' ':\n",
    "        new_string.append(char)\n",
    "''.join(new_string)"
   ]
  },
  {
   "cell_type": "code",
   "execution_count": 25,
   "metadata": {},
   "outputs": [
    {
     "data": {
      "text/plain": [
       "'TakE U ForwarD IS AwesomE'"
      ]
     },
     "execution_count": 25,
     "metadata": {},
     "output_type": "execute_result"
    }
   ],
   "source": [
    "string = 'take u forward is awesome'\n",
    "def make(string):\n",
    "    new_string = []\n",
    "    for i in range(len(string)):\n",
    "        if i ==0 or i==len(string)-1:\n",
    "            new_string.append(string[i].upper())\n",
    "        else:\n",
    "            new_string.append(string[i])\n",
    "    return ''.join(new_string)\n",
    "' '.join([make(x) for x in string.split(\" \")])"
   ]
  },
  {
   "cell_type": "code",
   "execution_count": null,
   "metadata": {},
   "outputs": [],
   "source": [
    "string = 'take u forward is awesome'\n",
    "\n"
   ]
  },
  {
   "cell_type": "code",
   "execution_count": 28,
   "metadata": {},
   "outputs": [
    {
     "name": "stdout",
     "output_type": "stream",
     "text": [
      "1\n",
      "2\n",
      "3\n",
      "6\n"
     ]
    }
   ],
   "source": [
    "n = 6\n",
    "for i in range(1,n+1):\n",
    "    if n%i==0:\n",
    "        print(i)"
   ]
  },
  {
   "cell_type": "code",
   "execution_count": 30,
   "metadata": {},
   "outputs": [
    {
     "name": "stdout",
     "output_type": "stream",
     "text": [
      "120\n"
     ]
    }
   ],
   "source": [
    "fact = 1\n",
    "n = 5\n",
    "for i in range(1,n+1):\n",
    "    fact *= i\n",
    "print(fact)"
   ]
  },
  {
   "cell_type": "code",
   "execution_count": 47,
   "metadata": {},
   "outputs": [
    {
     "name": "stdout",
     "output_type": "stream",
     "text": [
      "26\n",
      "676\n",
      "No\n"
     ]
    }
   ],
   "source": [
    "n = 26\n",
    "sq = n*n\n",
    "print(n)\n",
    "print(sq)\n",
    "temp = n\n",
    "sqtemp=  sq\n",
    "flag = False\n",
    "while temp>0:\n",
    "    last_digit = temp%10\n",
    "    temp = temp//10\n",
    "    lst_digit = sqtemp%10\n",
    "    sqtemp = sqtemp//10\n",
    "    if lst_digit!=last_digit:\n",
    "        print('No')\n",
    "        flag=True\n",
    "if not flag:\n",
    "    print('Yes')"
   ]
  },
  {
   "cell_type": "code",
   "execution_count": 52,
   "metadata": {},
   "outputs": [
    {
     "name": "stdout",
     "output_type": "stream",
     "text": [
      "Yes\n"
     ]
    }
   ],
   "source": [
    "n = 28\n",
    "s = 0\n",
    "for i in range(1,n):\n",
    "    if n%i==0:\n",
    "        s+=i\n",
    "if s==n:\n",
    "    print('Yes')\n",
    "else:\n",
    "    print('No')"
   ]
  },
  {
   "cell_type": "code",
   "execution_count": 1,
   "metadata": {},
   "outputs": [],
   "source": [
    "nums = [2, 3, -1, 1, -3,-2]\n",
    "total_sum = sum(nums)\n",
    "left_sum = 0\n",
    "\n",
    "for i in range(len(nums)):\n",
    "    if left_sum == total_sum - left_sum-nums[i]:\n",
    "        print(f\"Pivot index: {i}\")\n",
    "    left_sum += nums[i]\n"
   ]
  },
  {
   "cell_type": "markdown",
   "metadata": {},
   "source": [
    "### Natural Numbers\n",
    "### AP series\n",
    "### GP series"
   ]
  },
  {
   "cell_type": "code",
   "execution_count": 3,
   "metadata": {},
   "outputs": [
    {
     "name": "stdout",
     "output_type": "stream",
     "text": [
      "prime\n"
     ]
    }
   ],
   "source": [
    "n = 10\n",
    "while i*i<=n:\n",
    "    if n%i==0:\n",
    "        print('not prime')\n",
    "        break\n",
    "    i+=1\n",
    "print('prime')"
   ]
  },
  {
   "cell_type": "code",
   "execution_count": null,
   "metadata": {},
   "outputs": [],
   "source": [
    "n = 10\n",
    "r = 5\n",
    "# nPr = n!/(n*r!)\n"
   ]
  },
  {
   "cell_type": "code",
   "execution_count": 7,
   "metadata": {},
   "outputs": [
    {
     "name": "stdout",
     "output_type": "stream",
     "text": [
      "The maximum product subarray: 20\n"
     ]
    }
   ],
   "source": [
    "\n",
    "\n",
    "\n",
    "def maxProductSubArray(nums):\n",
    "    prod1 = nums[0]\n",
    "    prod2 = nums[0]\n",
    "    result = nums[0]\n",
    "\n",
    "    for i in range(1, len(nums)):\n",
    "        temp = max(nums[i], prod1 * nums[i], prod2 * nums[i])\n",
    "        prod2 = min(nums[i], prod1 * nums[i], prod2 * nums[i])\n",
    "        prod1 = temp\n",
    "\n",
    "        result = max(result, prod1)\n",
    "\n",
    "    return result\n",
    "\n",
    "if __name__ == \"__main__\":\n",
    "    nums = [1, 2, -3, 0, -4, -5]\n",
    "    print(\"The maximum product subarray:\", maxProductSubArray(nums))\n",
    "\n"
   ]
  },
  {
   "cell_type": "code",
   "execution_count": 30,
   "metadata": {},
   "outputs": [
    {
     "name": "stdout",
     "output_type": "stream",
     "text": [
      "1\n",
      "2\n",
      "2\n",
      "2\n",
      "2\n",
      "2\n",
      "0\n"
     ]
    }
   ],
   "source": [
    "import sys\n",
    "nums = [1, 2, -3, 0, -4, -5]\n",
    "s = 1\n",
    "maxi_l = -sys.maxsize-1\n",
    "maxi_r = -sys.maxsize-1\n",
    "p1 = 1\n",
    "p2 = 1\n",
    "for num in nums:\n",
    "    p1 *= num\n",
    "    maxi_l = max(maxi_l,p1)\n",
    "    print(maxi_l)\n",
    "    if p1<0:\n",
    "        p1 = 1 \n",
    "for i in range(len(nums)-1,-1,-1):\n",
    "    p2 *= nums[i]\n",
    "    maxi_l = max(p2,maxi_r)\n",
    "    if p2<0:\n",
    "        p2 = 1    \n",
    "        \n",
    "print(max(maxi_l,maxi_r))"
   ]
  },
  {
   "cell_type": "code",
   "execution_count": 41,
   "metadata": {},
   "outputs": [
    {
     "name": "stdout",
     "output_type": "stream",
     "text": [
      "[2, 6, 15, 20, 26, 98]\n",
      "{20: 0, 15: 1, 26: 2, 2: 3, 98: 4, 6: 5}\n",
      "{2: 0, 6: 1, 15: 2, 20: 3, 26: 4, 98: 5}\n",
      "[4, 3, 5, 1, 6, 2]\n"
     ]
    }
   ],
   "source": [
    "# nums = [-2, 1, -3, 4, -1, 2, 1, -5, 4]\n",
    "nums = [20,15,26,2,98,6]\n",
    "d = {}\n",
    "for ind,num in enumerate(nums):\n",
    "    d[num]=ind\n",
    "nums.sort()\n",
    "print(nums)\n",
    "d2 = {}\n",
    "for ind,num in enumerate(nums):\n",
    "    d2[num]=ind\n",
    "\n",
    "print(d)\n",
    "print(d2)\n",
    "ans = [-1]*len(nums)\n",
    "for key,val in d.items():\n",
    "    ans[val] = d2[key]+1\n",
    "print(ans)"
   ]
  },
  {
   "cell_type": "code",
   "execution_count": 84,
   "metadata": {},
   "outputs": [
    {
     "name": "stdout",
     "output_type": "stream",
     "text": [
      "{2: 1, 4: 1, 3: 1, 1: 1, 7: 1, 5: 1, 15: 1}\n",
      "True\n"
     ]
    }
   ],
   "source": [
    "arr1= [1,3,4,5,2]\n",
    "arr2= [2,4,3,1,7,5,15]\n",
    "# a = set(arr1)\n",
    "# b = set(arr2)\n",
    "# a.issubset(b)\n",
    "# b.issubset(a)\n",
    "\n",
    "d  = {}\n",
    "for num in arr2:\n",
    "    d[num] = 1\n",
    "for num in arr1:\n",
    "    if num not in d:\n",
    "        print('False')\n",
    "        break\n",
    "print(d)\n",
    "print('True')"
   ]
  },
  {
   "cell_type": "code",
   "execution_count": 53,
   "metadata": {},
   "outputs": [
    {
     "name": "stdout",
     "output_type": "stream",
     "text": [
      "37.5\n"
     ]
    }
   ],
   "source": [
    "a=1.5\n",
    "d=3\n",
    "n=5\n",
    "ans = 0\n",
    "for i in range(1,n+1):\n",
    "    ans += a\n",
    "    a += d\n",
    "print(ans)"
   ]
  },
  {
   "cell_type": "code",
   "execution_count": 58,
   "metadata": {},
   "outputs": [
    {
     "name": "stdout",
     "output_type": "stream",
     "text": [
      "15\n"
     ]
    }
   ],
   "source": [
    "n = 5\n",
    "print(n*(n+1)//2)"
   ]
  },
  {
   "cell_type": "code",
   "execution_count": 89,
   "metadata": {},
   "outputs": [
    {
     "name": "stdout",
     "output_type": "stream",
     "text": [
      "[98, 99, 100, 101, 121, 122, 123]\n"
     ]
    }
   ],
   "source": [
    "string = 'abcdxyz'\n",
    "ans= []\n",
    "for char in string:\n",
    "    ans.append(ord(char)+1)\n",
    "print(ans)\n",
    "# ''.join(ans)"
   ]
  },
  {
   "cell_type": "code",
   "execution_count": 91,
   "metadata": {},
   "outputs": [
    {
     "name": "stdout",
     "output_type": "stream",
     "text": [
      "11\n"
     ]
    }
   ],
   "source": [
    "n = 1011\n",
    "print(int(str(n),2))"
   ]
  },
  {
   "cell_type": "code",
   "execution_count": 99,
   "metadata": {},
   "outputs": [
    {
     "name": "stdout",
     "output_type": "stream",
     "text": [
      "0b110\n"
     ]
    }
   ],
   "source": [
    "n = int(str(1001),2)\n",
    "print(bin(n^int(str(1111),2)))"
   ]
  },
  {
   "cell_type": "code",
   "execution_count": 104,
   "metadata": {},
   "outputs": [
    {
     "data": {
      "text/plain": [
       "'0o11'"
      ]
     },
     "execution_count": 104,
     "metadata": {},
     "output_type": "execute_result"
    }
   ],
   "source": [
    "oct(int('1001',2))"
   ]
  },
  {
   "cell_type": "code",
   "execution_count": 109,
   "metadata": {},
   "outputs": [
    {
     "name": "stdout",
     "output_type": "stream",
     "text": [
      "5\n",
      "lcm 10.0\n"
     ]
    }
   ],
   "source": [
    "a = 5\n",
    "b = 10\n",
    "ans= 0\n",
    "for i in range(1,min(a,b)+1):\n",
    "    if a%i==0 and b%i==0:\n",
    "        ans = i\n",
    "print(ans)\n",
    "lcm = (a*b)/ans\n",
    "print('lcm',lcm)"
   ]
  },
  {
   "cell_type": "code",
   "execution_count": 110,
   "metadata": {},
   "outputs": [
    {
     "name": "stdout",
     "output_type": "stream",
     "text": [
      "5\n"
     ]
    }
   ],
   "source": [
    "def gcd(a,b):\n",
    "    if b==0:\n",
    "        return a\n",
    "    return gcd(b,a%b)\n",
    "print(gcd(5,10))"
   ]
  }
 ],
 "metadata": {
  "kernelspec": {
   "display_name": "Python 3",
   "language": "python",
   "name": "python3"
  },
  "language_info": {
   "codemirror_mode": {
    "name": "ipython",
    "version": 3
   },
   "file_extension": ".py",
   "mimetype": "text/x-python",
   "name": "python",
   "nbconvert_exporter": "python",
   "pygments_lexer": "ipython3",
   "version": "3.11.4"
  },
  "orig_nbformat": 4
 },
 "nbformat": 4,
 "nbformat_minor": 2
}
